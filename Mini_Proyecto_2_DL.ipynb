{
  "cells": [
    {
      "cell_type": "markdown",
      "metadata": {
        "id": "view-in-github",
        "colab_type": "text"
      },
      "source": [
        "<a href=\"https://colab.research.google.com/github/Jorbnc/MAIA-DL/blob/master/Mini_Proyecto_2_DL.ipynb\" target=\"_parent\"><img src=\"https://colab.research.google.com/assets/colab-badge.svg\" alt=\"Open In Colab\"/></a>"
      ]
    },
    {
      "cell_type": "markdown",
      "id": "oa_MJEGQ6jTi",
      "metadata": {
        "id": "oa_MJEGQ6jTi"
      },
      "source": [
        "![Universidad_de_los_Andes_30.png](data:image/png;base64,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)"
      ]
    },
    {
      "cell_type": "markdown",
      "id": "sl89pic17iPU",
      "metadata": {
        "id": "sl89pic17iPU"
      },
      "source": [
        "<style>\n",
        "@import url('https://fonts.googleapis.com/css2?family=Latin+Modern+Roman:wght@400;700&display=swap');\n",
        "\n",
        "body, p, h1, h2, h3, h4, h5, h6, li {\n",
        "  font-family: 'Latin Modern Roman', serif;\n",
        "}\n",
        "code, pre {\n",
        "  font-family: 'Fira Mono', monospace;\n",
        "}\n",
        "</style>\n",
        "\n",
        "***\n",
        "\n",
        "# **Mini Proyecto 2, Técnicas de *Deep Learning*: Clasificación de Sentimientos de Reseñas de Películas en *IMDB* con Redes Neuronales Recurrentes**\n",
        "\n",
        "## **Descripción del problema:**\n",
        "\n",
        "En este proyecto abordamos el problema de clasificación de sentimiento en reseñas de películas. Partimos de un conjunto de datos extraído de *Kaggle* que contiene reseñas textuales (**`text`**) y una etiqueta binaria (**`label`**) que indica si la opinión es positiva (**1**) o negativa (**0**). El reto consiste en diseñar un modelo de *Deep Learning*, concretamente una Red Neuronal Recurrente con capas **LSTM**, capaz de procesar secuencias de texto y predecir con alta precisión la polaridad de cada reseña.\n",
        "\n",
        "## **Objetivo:**\n",
        "\n",
        "* Implementar un *pipeline* completo que incluya la descarga del *dataset*, el preprocesamiento de texto (tokenización, limpieza, construcción de vocabulario y *padding* de secuencias), y la definición de un *Dataset* y *DataLoader* en **PyTorch**.\n",
        "\n",
        "* Diseñar una arquitectura basada en *embeddings* y una o varias capas LSTM (bidireccionales), con regularización por *dropout* y optimización con **`Adam`**.\n",
        "\n",
        "* Entrenar el modelo utilizando GPU cuando esté disponible, incorporando técnicas de *early stopping* y *gradient clipping* para evitar sobreajuste y explosión de gradientes.\n",
        "\n",
        "* Evaluar su desempeño final sobre el conjunto de prueba, calculando *accuracy*, *F1‑score*, *recall* y presentando la matriz de confusión.\n",
        "\n",
        "* Visualizar la evolución de la pérdida y la exactitud en entrenamiento y validación a lo largo de las épocas."
      ]
    },
    {
      "cell_type": "markdown",
      "id": "SiCS5j-HAbCB",
      "metadata": {
        "id": "SiCS5j-HAbCB"
      },
      "source": [
        "***\n",
        "\n",
        "**Este proyecto es realizado por Andrés Felipe Ñungo y Jordan Bryan Núñez Campos para entrega el 13 de mayo.**\n"
      ]
    },
    {
      "cell_type": "markdown",
      "source": [
        "***\n",
        "# Tareas\n",
        "\n",
        "* Exploración y pre-procesamiento (Jordan)\n",
        "\n",
        "* Comentarios en código, explicaciones en markdowns (Andrés y Jordan)\n",
        "\n",
        "* Nube de Palabras (Jordan) ✅\n",
        "\n",
        "* Corregir BR (Jordan) ✅\n",
        "\n",
        "* Validación de idiomas (Jordan) ✅\n",
        "\n",
        "* Glove  (Jordan) ✅\n",
        "\n",
        "* Word2vec (Andrés) ✅\n",
        "\n",
        "* LSTM o GRU  (Andrés) ✅\n",
        "\n",
        "* Mejorar red (Andrés) ✅\n",
        "\n",
        "* t-SNE ✅\n",
        "\n",
        "* Entrenamiento y evaluación de modelo (Andrés) ✅\n",
        "\n",
        "* Informe: Arquitectura, entrenamiento, evaluación, análisis cuantitativo (Andrés)\n",
        "\n",
        "* Informe: Exploración ✅, pre-procesamiento ✅, análisis cualitativo, discusión (Jordan)"
      ],
      "metadata": {
        "id": "aP4T8CvEqYMG"
      },
      "id": "aP4T8CvEqYMG"
    },
    {
      "cell_type": "markdown",
      "id": "8VqTMx7TYgjH",
      "metadata": {
        "id": "8VqTMx7TYgjH"
      },
      "source": [
        "\n",
        "***\n",
        "# **Índice**\n",
        "\n",
        "El *notebook* aborda el proyecto con la siguiente estructura:\n",
        "\n",
        "| 🔹 | Sección        |\n",
        "|----|----------------|\n",
        "| 1️⃣. | **Instalación y carga de librerías** |\n",
        "| 1️⃣.1️⃣ | **Word2Vec** |\n",
        "| 1️⃣.2️⃣ | **GloVe** |\n",
        "| 1️⃣.3️⃣ | **Configuraciones adicionales** |\n",
        "| 2️⃣. | **Análisis exploratorio y preparación de los datos**       |\n",
        "| 2️⃣.1️⃣. | **Carga y estadísticas generales**       |\n",
        "| 2️⃣.2️⃣. | **Limpieza de los datos**       |\n",
        "| 3️⃣. | **Definición de *pipelines* de procesamiento**          |\n",
        "| 3️⃣.1️⃣. | **Pipeline de preprocesamiento**   |\n",
        "| 4️⃣. | **Desarrollo del modelo RNN**   |\n",
        "| 4️⃣.1️⃣. | **Hiperparámetros, Partición y DataLoaders**   |\n",
        "| 4️⃣.2️⃣. | **Entrenamiento, validación y prueba**   |\n",
        "| 5️⃣. | **Análisis de resultados y discusión**   |\n",
        "| 6️⃣. | **Conclusión**   |\n",
        "| 7️⃣. | **Referencias**   |\n"
      ]
    },
    {
      "cell_type": "markdown",
      "id": "2cyVuwlHB_W3",
      "metadata": {
        "id": "2cyVuwlHB_W3"
      },
      "source": [
        "***\n",
        "\n",
        "# 1. Instalación y cargue de librerías"
      ]
    },
    {
      "cell_type": "markdown",
      "source": [
        "Después de la instalación de algunas librerías (algunas instalaciones se usan para que funcione correctamente en *Coursera*), se importan utilidades generales (**`os`**, **`random`**,**`time`**, **`NumPy`**, **`pandas`**), librerías para descarga de *datasets* y de *embeddings*. Adicionalmente, se importan librería para el procesamiento de documentos y herramientas de PLN con **`NLTK`** (incluida la descarga de *stop-words*), módulos de **`PyTorch`** para construir y entrenar la red, métricas de **`scikit-learn`** y utilidades de visualización con **`Matplotlib`** y **`Seaborn`**."
      ],
      "metadata": {
        "id": "DkjBiBB5rU6t"
      },
      "id": "DkjBiBB5rU6t"
    },
    {
      "cell_type": "code",
      "source": [
        "# Instalación de librerías necesarias para correr en Colab/Coursera\n",
        "%pip install -q --no-cache-dir kagglehub langdetect\n",
        "%pip install -q --no-cache-dir huggingface_hub\n",
        "%pip install -q --no-cache-dir nltk\n",
        "%pip install -q --no-cache-dir wordcloud\n",
        "%pip install -q --no-cache-dir plotly"
      ],
      "metadata": {
        "id": "l26426jMLCxE",
        "outputId": "e8a50a1e-f2bd-41d5-c550-0d28bebda568",
        "colab": {
          "base_uri": "https://localhost:8080/"
        }
      },
      "id": "l26426jMLCxE",
      "execution_count": 1,
      "outputs": [
        {
          "output_type": "stream",
          "name": "stdout",
          "text": [
            "\u001b[?25l     \u001b[90m━━━━━━━━━━━━━━━━━━━━━━━━━━━━━━━━━━━━━━━━\u001b[0m \u001b[32m0.0/981.5 kB\u001b[0m \u001b[31m?\u001b[0m eta \u001b[36m-:--:--\u001b[0m\r\u001b[2K     \u001b[90m━━━━━━━━━━━━━━━━━━━━━━━━━━━━━━━━━━━━━\u001b[0m \u001b[32m981.5/981.5 kB\u001b[0m \u001b[31m106.2 MB/s\u001b[0m eta \u001b[36m0:00:00\u001b[0m\n",
            "\u001b[?25h  Preparing metadata (setup.py) ... \u001b[?25l\u001b[?25hdone\n",
            "  Building wheel for langdetect (setup.py) ... \u001b[?25l\u001b[?25hdone\n"
          ]
        }
      ]
    },
    {
      "cell_type": "code",
      "source": [
        "# Librerías comunes\n",
        "import os\n",
        "import random\n",
        "import time\n",
        "import numpy as np\n",
        "import pandas as pd\n",
        "import time\n",
        "import sys\n",
        "import types\n",
        "\n",
        "# Descarga de datasets y de embeddings\n",
        "import kagglehub\n",
        "from huggingface_hub import list_repo_files, hf_hub_download\n",
        "#Extracción de diccionarios\n",
        "import pickle\n",
        "\n",
        "# Preprocesamiento y herramientas de PLN\n",
        "import nltk\n",
        "from nltk.tokenize import word_tokenize\n",
        "from nltk.corpus import stopwords\n",
        "from collections import Counter\n",
        "import re\n",
        "from sklearn.preprocessing import StandardScaler\n",
        "from sklearn.decomposition import PCA\n",
        "from collections import Counter\n",
        "from langdetect import detect\n",
        "\n",
        "# Palabras vacías\n",
        "nltk.download('stopwords')\n",
        "\n",
        "# Modelado\n",
        "import torch\n",
        "import torch.nn as nn\n",
        "from torch.utils.data import Dataset, DataLoader, random_split\n",
        "import torch.optim as optim\n",
        "from torch.nn.utils.rnn import pack_padded_sequence, pad_packed_sequence, pad_sequence\n",
        "\n",
        "# Evaluación\n",
        "from sklearn.metrics import accuracy_score, f1_score, recall_score, confusion_matrix\n",
        "\n",
        "# Librerías para visualizaciones\n",
        "import matplotlib.pyplot as plt\n",
        "import seaborn as sns\n",
        "from wordcloud import WordCloud\n",
        "from mpl_toolkits.mplot3d import Axes3D\n",
        "from sklearn.manifold import TSNE\n",
        "import plotly.express as px"
      ],
      "metadata": {
        "id": "osjmTJMvtxua",
        "colab": {
          "base_uri": "https://localhost:8080/"
        },
        "outputId": "b6164588-00f9-4f81-d8ef-43c99a0b1657"
      },
      "id": "osjmTJMvtxua",
      "execution_count": 2,
      "outputs": [
        {
          "output_type": "stream",
          "name": "stderr",
          "text": [
            "[nltk_data] Downloading package stopwords to /root/nltk_data...\n",
            "[nltk_data]   Unzipping corpora/stopwords.zip.\n"
          ]
        }
      ]
    },
    {
      "cell_type": "markdown",
      "source": [
        "Se descargar el conjunto de datos de reseñas de películas IMDB utilizando **`kagglehub`**. La función **`dataset_download`** guarda los archivos de manera local y devuelve la ruta absoluta, que se almacena en **`path`** y se muestra en pantalla mediante **`print`** para confirmar dónde quedaron los datos."
      ],
      "metadata": {
        "id": "yHwealvATakn"
      },
      "id": "yHwealvATakn"
    },
    {
      "cell_type": "code",
      "source": [
        "# Descarga del conjunto de datos\n",
        "path = kagglehub.dataset_download(\"yasserh/imdb-movie-ratings-sentiment-analysis\")\n",
        "print(\"Datos descargados en:\", path)"
      ],
      "metadata": {
        "id": "F4y-tzhMl2CC",
        "colab": {
          "base_uri": "https://localhost:8080/"
        },
        "outputId": "412a2f73-2331-48ed-89f8-81a10de32449"
      },
      "id": "F4y-tzhMl2CC",
      "execution_count": 3,
      "outputs": [
        {
          "output_type": "stream",
          "name": "stdout",
          "text": [
            "Datos descargados en: /kaggle/input/imdb-movie-ratings-sentiment-analysis\n"
          ]
        }
      ]
    },
    {
      "cell_type": "markdown",
      "source": [
        "A continuación, se descargan los *embeddings* pre-entrenados, que nos permitirán tener un nuevo espacio de representación mucho más enriquecido.\n",
        "\n",
        "## 1.1. Word2Vec\n",
        "\n",
        "*Word2Vec GoogleNews* es un modelo que contiene 3 millones de vectores de 300 dimensiones entrenados con cerca de 100 mil millones de palabras del corpus *Google News*. Los autores sustituyeron las redes n-gram tradicionales por dos arquitecturas sencillas (CBOW y Skip-gram) con optimizaciones como *negative sampling* y *sub-sampling* de palabras frecuentes. Esto permitió entrenar *embeddings* de alta calidad en cuestión de horas [²]."
      ],
      "metadata": {
        "id": "07ZBWlW6BudL"
      },
      "id": "07ZBWlW6BudL"
    },
    {
      "cell_type": "code",
      "source": [
        "# Carga de del .model y el .npy Word2Veec google news más adelante, desde HugginFace\n",
        "model_file = hf_hub_download(repo_id=\"fse/word2vec-google-news-300\", filename=\"word2vec-google-news-300.model\")\n",
        "vectors_npy = hf_hub_download(repo_id=\"fse/word2vec-google-news-300\",filename=\"word2vec-google-news-300.model.vectors.npy\")"
      ],
      "metadata": {
        "id": "oxSwr79ozCBB",
        "colab": {
          "base_uri": "https://localhost:8080/",
          "height": 211,
          "referenced_widgets": [
            "12c1e61402074fa1a0837873d90c86f3",
            "051fb41818a0469f808c30266965a58e",
            "752f54cb13e24411be230c99810067c5",
            "61a6d1713f854315904451fee46486b8",
            "9ab1f328a9ef466bad2ea27d6ca55582",
            "341c5fc71c1a486d9078706c98328f68",
            "0366c758fc6a41c0a193bffcc37e4786",
            "d645128de7e0409c9162c37e2892e4d4",
            "c27b5fa38326440c89c705b698dbdd8d",
            "b74bf462b528455594b46e28693de57d",
            "9099b9bae3ee43fc81d78b9b13c020e4",
            "d60ca36c4d1842578a289c19ff906c61",
            "cb76a4f224fc4948856ad9f44d071dff",
            "0c47958544ae47c09875304a4321adf2",
            "4dd5d90d31904bc494090ed1872b0d6b",
            "e2ca181249d94616b7b3b6a1b2bdaa87",
            "956e4b9daf194bd4927b9887e777a033",
            "b59ea50400ff4a348bd10b0ce1a65f86",
            "773b35307da343e98661577f99408c38",
            "60444e1621bc4fdd937b4b6cded1607b",
            "4e7b8a9f26d543ad8369ba09930c88fe",
            "2feb2ee645254b97956b40642595f368"
          ]
        },
        "outputId": "9ec64f62-77fe-48f0-d532-49fd73e11f95"
      },
      "id": "oxSwr79ozCBB",
      "execution_count": 4,
      "outputs": [
        {
          "output_type": "stream",
          "name": "stderr",
          "text": [
            "/usr/local/lib/python3.11/dist-packages/huggingface_hub/utils/_auth.py:94: UserWarning: \n",
            "The secret `HF_TOKEN` does not exist in your Colab secrets.\n",
            "To authenticate with the Hugging Face Hub, create a token in your settings tab (https://huggingface.co/settings/tokens), set it as secret in your Google Colab and restart your session.\n",
            "You will be able to reuse this secret in all of your notebooks.\n",
            "Please note that authentication is recommended but still optional to access public models or datasets.\n",
            "  warnings.warn(\n"
          ]
        },
        {
          "output_type": "display_data",
          "data": {
            "text/plain": [
              "word2vec-google-news-300.model:   0%|          | 0.00/182M [00:00<?, ?B/s]"
            ],
            "application/vnd.jupyter.widget-view+json": {
              "version_major": 2,
              "version_minor": 0,
              "model_id": "12c1e61402074fa1a0837873d90c86f3"
            }
          },
          "metadata": {}
        },
        {
          "output_type": "display_data",
          "data": {
            "text/plain": [
              "(…)rd2vec-google-news-300.model.vectors.npy:   0%|          | 0.00/3.60G [00:00<?, ?B/s]"
            ],
            "application/vnd.jupyter.widget-view+json": {
              "version_major": 2,
              "version_minor": 0,
              "model_id": "d60ca36c4d1842578a289c19ff906c61"
            }
          },
          "metadata": {}
        }
      ]
    },
    {
      "cell_type": "markdown",
      "source": [
        "## 1.2. GloVe\n",
        "GloVe es un algoritmo no supervisado para la obtención de representaciones vectoriales de palabras. Utilizaremos los vectores pre-entrenados publicados en la web de la universidad de Stanford."
      ],
      "metadata": {
        "id": "fKcFZEzKN3kW"
      },
      "id": "fKcFZEzKN3kW"
    },
    {
      "cell_type": "code",
      "source": [
        "# Descarga de GloVe\n",
        "!wget -P . http://nlp.stanford.edu/data/glove.6B.zip\n",
        "!unzip -o glove.6B.zip -d ."
      ],
      "metadata": {
        "id": "zZiJq8VNJIhF",
        "colab": {
          "base_uri": "https://localhost:8080/"
        },
        "outputId": "84bd9332-8009-4f24-d0c7-9c900bb185c2"
      },
      "id": "zZiJq8VNJIhF",
      "execution_count": 5,
      "outputs": [
        {
          "output_type": "stream",
          "name": "stdout",
          "text": [
            "--2025-05-11 21:52:35--  http://nlp.stanford.edu/data/glove.6B.zip\n",
            "Resolving nlp.stanford.edu (nlp.stanford.edu)... 171.64.67.140\n",
            "Connecting to nlp.stanford.edu (nlp.stanford.edu)|171.64.67.140|:80... connected.\n",
            "HTTP request sent, awaiting response... 302 Found\n",
            "Location: https://nlp.stanford.edu/data/glove.6B.zip [following]\n",
            "--2025-05-11 21:52:35--  https://nlp.stanford.edu/data/glove.6B.zip\n",
            "Connecting to nlp.stanford.edu (nlp.stanford.edu)|171.64.67.140|:443... connected.\n",
            "HTTP request sent, awaiting response... 301 Moved Permanently\n",
            "Location: https://downloads.cs.stanford.edu/nlp/data/glove.6B.zip [following]\n",
            "--2025-05-11 21:52:36--  https://downloads.cs.stanford.edu/nlp/data/glove.6B.zip\n",
            "Resolving downloads.cs.stanford.edu (downloads.cs.stanford.edu)... 171.64.64.22\n",
            "Connecting to downloads.cs.stanford.edu (downloads.cs.stanford.edu)|171.64.64.22|:443... connected.\n",
            "HTTP request sent, awaiting response... 200 OK\n",
            "Length: 862182613 (822M) [application/zip]\n",
            "Saving to: ‘./glove.6B.zip’\n",
            "\n",
            "glove.6B.zip        100%[===================>] 822.24M  5.02MB/s    in 2m 38s  \n",
            "\n",
            "2025-05-11 21:55:15 (5.19 MB/s) - ‘./glove.6B.zip’ saved [862182613/862182613]\n",
            "\n",
            "Archive:  glove.6B.zip\n",
            "  inflating: ./glove.6B.50d.txt      \n",
            "  inflating: ./glove.6B.100d.txt     \n",
            "  inflating: ./glove.6B.200d.txt     \n",
            "  inflating: ./glove.6B.300d.txt     \n"
          ]
        }
      ]
    },
    {
      "cell_type": "markdown",
      "source": [
        "## 1.3. Configuraciones adicionales\n",
        "\n",
        "Con el siguiente bloque se detecta si el entorno dispone de GPU y selecciona el **`device`** apropiado para PyTorch.  \n",
        "\n",
        "Primero se llama a **`is_available()`**, que devuelve *True* si se ha asignado una GPU CUDA al *runtime* de Colab. Según el resultado se imprime un mensaje informativo .  \n",
        "\n",
        "Para ello, se construye el objeto **`device`**, que será pasado a la red y a los tensores de entrada para que se ubiquen en la GPU cuando sea posible. Por último se muestra en pantalla el dispositivo elegido."
      ],
      "metadata": {
        "id": "uOceAejmVjqF"
      },
      "id": "uOceAejmVjqF"
    },
    {
      "cell_type": "code",
      "source": [
        "# Devuelve asignación de GPU\n",
        "train_on_gpu = torch.cuda.is_available()\n",
        "if train_on_gpu:\n",
        "    print(\"Entrenando en GPU.\")\n",
        "else:\n",
        "    print(\"GPU no disponible, entrenando en CPU.\")\n",
        "\n",
        "# Elegir device según disponibilidad\n",
        "device = torch.device(\"cuda\" if train_on_gpu else \"cpu\")\n",
        "print(f\"   Usando device: {device}\\n\")"
      ],
      "metadata": {
        "id": "LksJ95qEPWVr",
        "colab": {
          "base_uri": "https://localhost:8080/"
        },
        "outputId": "d53f84ea-49d7-4376-a7b6-d2094f068ab1"
      },
      "id": "LksJ95qEPWVr",
      "execution_count": 6,
      "outputs": [
        {
          "output_type": "stream",
          "name": "stdout",
          "text": [
            "Entrenando en GPU.\n",
            "   Usando device: cuda\n",
            "\n"
          ]
        }
      ]
    },
    {
      "cell_type": "markdown",
      "source": [
        "Adicionalmente se ocultan avisos para mantener limpias algunas salidas del notebook; y se imprimen las versiones de un conjunto de librerías clave ( **`numpy`**, **`pandas`**, **`torch`**, **`scikit-learn`**, **`kagglehub`**, **`matplotlib`**, **`seaborn`** ). Mostrar estas versiones al inicio del notebook facilita la reproducibilidad y ayuda a depurar posibles conflictos de dependencias."
      ],
      "metadata": {
        "id": "pfXxKk09Vulp"
      },
      "id": "pfXxKk09Vulp"
    },
    {
      "cell_type": "code",
      "execution_count": 7,
      "id": "LSwlUgjUjtR_",
      "metadata": {
        "id": "LSwlUgjUjtR_",
        "colab": {
          "base_uri": "https://localhost:8080/"
        },
        "outputId": "ca464626-31cb-4f19-f498-ae8d5fcd2607"
      },
      "outputs": [
        {
          "output_type": "stream",
          "name": "stdout",
          "text": [
            "numpy :  2.0.2\n",
            "pandas :  2.2.2\n",
            "torch :  2.6.0+cu124\n",
            "scikit-learn :  1.6.1\n",
            "kagglehub :  0.3.12\n",
            "matplotlib :  3.10.0\n",
            "seaborn :  0.13.2\n",
            "nltk :  3.9.1\n"
          ]
        }
      ],
      "source": [
        "# Ignorar las warnings\n",
        "import warnings\n",
        "warnings.filterwarnings(\"ignore\")\n",
        "\n",
        "# Versiones utilizadas\n",
        "from importlib.metadata import version\n",
        "librerias = [\"numpy\", \"pandas\", \"torch\", \"scikit-learn\", \"kagglehub\",\"matplotlib\", \"seaborn\",\"nltk\"]\n",
        "for library in librerias:\n",
        "  print(library, \": \", version(library))"
      ]
    },
    {
      "cell_type": "markdown",
      "source": [
        "Finalmente configuramos algunas semillas para tener cierto grado de control en la aleatoriedad."
      ],
      "metadata": {
        "id": "ok4F_5E1njTi"
      },
      "id": "ok4F_5E1njTi"
    },
    {
      "cell_type": "code",
      "source": [
        "# Definición del random state y seeds\n",
        "RANDOM_STATE = 13\n",
        "random.seed(RANDOM_STATE)\n",
        "np.random.seed(RANDOM_STATE)"
      ],
      "metadata": {
        "id": "xdgcOt7gznvJ"
      },
      "id": "xdgcOt7gznvJ",
      "execution_count": 8,
      "outputs": []
    },
    {
      "cell_type": "markdown",
      "id": "qK311OLFzPep",
      "metadata": {
        "id": "qK311OLFzPep"
      },
      "source": [
        "***\n",
        "\n",
        "# 2. Análisis exploratorio y preparación de los datos\n"
      ]
    },
    {
      "cell_type": "markdown",
      "source": [
        "***\n",
        "\n",
        "## 2.1. Carga y estadísticas generales"
      ],
      "metadata": {
        "id": "4KxKy7H1eID-"
      },
      "id": "4KxKy7H1eID-"
    },
    {
      "cell_type": "code",
      "execution_count": 9,
      "id": "K4yOzyWKJbov",
      "metadata": {
        "id": "K4yOzyWKJbov",
        "colab": {
          "base_uri": "https://localhost:8080/",
          "height": 206
        },
        "outputId": "dbf6bd08-99ce-4ab1-a9f7-efce33e78583"
      },
      "outputs": [
        {
          "output_type": "execute_result",
          "data": {
            "text/plain": [
              "                                                text  label\n",
              "0  I grew up (b. 1965) watching and loving the Th...      0\n",
              "1  When I put this movie in my DVD player, and sa...      0\n",
              "2  Why do people who do not know what a particula...      0\n",
              "3  Even though I have great interest in Biblical ...      0\n",
              "4  Im a die hard Dads Army fan and nothing will e...      1"
            ],
            "text/html": [
              "\n",
              "  <div id=\"df-a852a08d-a285-465f-931c-ac76197e6c4c\" class=\"colab-df-container\">\n",
              "    <div>\n",
              "<style scoped>\n",
              "    .dataframe tbody tr th:only-of-type {\n",
              "        vertical-align: middle;\n",
              "    }\n",
              "\n",
              "    .dataframe tbody tr th {\n",
              "        vertical-align: top;\n",
              "    }\n",
              "\n",
              "    .dataframe thead th {\n",
              "        text-align: right;\n",
              "    }\n",
              "</style>\n",
              "<table border=\"1\" class=\"dataframe\">\n",
              "  <thead>\n",
              "    <tr style=\"text-align: right;\">\n",
              "      <th></th>\n",
              "      <th>text</th>\n",
              "      <th>label</th>\n",
              "    </tr>\n",
              "  </thead>\n",
              "  <tbody>\n",
              "    <tr>\n",
              "      <th>0</th>\n",
              "      <td>I grew up (b. 1965) watching and loving the Th...</td>\n",
              "      <td>0</td>\n",
              "    </tr>\n",
              "    <tr>\n",
              "      <th>1</th>\n",
              "      <td>When I put this movie in my DVD player, and sa...</td>\n",
              "      <td>0</td>\n",
              "    </tr>\n",
              "    <tr>\n",
              "      <th>2</th>\n",
              "      <td>Why do people who do not know what a particula...</td>\n",
              "      <td>0</td>\n",
              "    </tr>\n",
              "    <tr>\n",
              "      <th>3</th>\n",
              "      <td>Even though I have great interest in Biblical ...</td>\n",
              "      <td>0</td>\n",
              "    </tr>\n",
              "    <tr>\n",
              "      <th>4</th>\n",
              "      <td>Im a die hard Dads Army fan and nothing will e...</td>\n",
              "      <td>1</td>\n",
              "    </tr>\n",
              "  </tbody>\n",
              "</table>\n",
              "</div>\n",
              "    <div class=\"colab-df-buttons\">\n",
              "\n",
              "  <div class=\"colab-df-container\">\n",
              "    <button class=\"colab-df-convert\" onclick=\"convertToInteractive('df-a852a08d-a285-465f-931c-ac76197e6c4c')\"\n",
              "            title=\"Convert this dataframe to an interactive table.\"\n",
              "            style=\"display:none;\">\n",
              "\n",
              "  <svg xmlns=\"http://www.w3.org/2000/svg\" height=\"24px\" viewBox=\"0 -960 960 960\">\n",
              "    <path d=\"M120-120v-720h720v720H120Zm60-500h600v-160H180v160Zm220 220h160v-160H400v160Zm0 220h160v-160H400v160ZM180-400h160v-160H180v160Zm440 0h160v-160H620v160ZM180-180h160v-160H180v160Zm440 0h160v-160H620v160Z\"/>\n",
              "  </svg>\n",
              "    </button>\n",
              "\n",
              "  <style>\n",
              "    .colab-df-container {\n",
              "      display:flex;\n",
              "      gap: 12px;\n",
              "    }\n",
              "\n",
              "    .colab-df-convert {\n",
              "      background-color: #E8F0FE;\n",
              "      border: none;\n",
              "      border-radius: 50%;\n",
              "      cursor: pointer;\n",
              "      display: none;\n",
              "      fill: #1967D2;\n",
              "      height: 32px;\n",
              "      padding: 0 0 0 0;\n",
              "      width: 32px;\n",
              "    }\n",
              "\n",
              "    .colab-df-convert:hover {\n",
              "      background-color: #E2EBFA;\n",
              "      box-shadow: 0px 1px 2px rgba(60, 64, 67, 0.3), 0px 1px 3px 1px rgba(60, 64, 67, 0.15);\n",
              "      fill: #174EA6;\n",
              "    }\n",
              "\n",
              "    .colab-df-buttons div {\n",
              "      margin-bottom: 4px;\n",
              "    }\n",
              "\n",
              "    [theme=dark] .colab-df-convert {\n",
              "      background-color: #3B4455;\n",
              "      fill: #D2E3FC;\n",
              "    }\n",
              "\n",
              "    [theme=dark] .colab-df-convert:hover {\n",
              "      background-color: #434B5C;\n",
              "      box-shadow: 0px 1px 3px 1px rgba(0, 0, 0, 0.15);\n",
              "      filter: drop-shadow(0px 1px 2px rgba(0, 0, 0, 0.3));\n",
              "      fill: #FFFFFF;\n",
              "    }\n",
              "  </style>\n",
              "\n",
              "    <script>\n",
              "      const buttonEl =\n",
              "        document.querySelector('#df-a852a08d-a285-465f-931c-ac76197e6c4c button.colab-df-convert');\n",
              "      buttonEl.style.display =\n",
              "        google.colab.kernel.accessAllowed ? 'block' : 'none';\n",
              "\n",
              "      async function convertToInteractive(key) {\n",
              "        const element = document.querySelector('#df-a852a08d-a285-465f-931c-ac76197e6c4c');\n",
              "        const dataTable =\n",
              "          await google.colab.kernel.invokeFunction('convertToInteractive',\n",
              "                                                    [key], {});\n",
              "        if (!dataTable) return;\n",
              "\n",
              "        const docLinkHtml = 'Like what you see? Visit the ' +\n",
              "          '<a target=\"_blank\" href=https://colab.research.google.com/notebooks/data_table.ipynb>data table notebook</a>'\n",
              "          + ' to learn more about interactive tables.';\n",
              "        element.innerHTML = '';\n",
              "        dataTable['output_type'] = 'display_data';\n",
              "        await google.colab.output.renderOutput(dataTable, element);\n",
              "        const docLink = document.createElement('div');\n",
              "        docLink.innerHTML = docLinkHtml;\n",
              "        element.appendChild(docLink);\n",
              "      }\n",
              "    </script>\n",
              "  </div>\n",
              "\n",
              "\n",
              "    <div id=\"df-852838a0-d10b-4a00-93fa-69a01aa6bf52\">\n",
              "      <button class=\"colab-df-quickchart\" onclick=\"quickchart('df-852838a0-d10b-4a00-93fa-69a01aa6bf52')\"\n",
              "                title=\"Suggest charts\"\n",
              "                style=\"display:none;\">\n",
              "\n",
              "<svg xmlns=\"http://www.w3.org/2000/svg\" height=\"24px\"viewBox=\"0 0 24 24\"\n",
              "     width=\"24px\">\n",
              "    <g>\n",
              "        <path d=\"M19 3H5c-1.1 0-2 .9-2 2v14c0 1.1.9 2 2 2h14c1.1 0 2-.9 2-2V5c0-1.1-.9-2-2-2zM9 17H7v-7h2v7zm4 0h-2V7h2v10zm4 0h-2v-4h2v4z\"/>\n",
              "    </g>\n",
              "</svg>\n",
              "      </button>\n",
              "\n",
              "<style>\n",
              "  .colab-df-quickchart {\n",
              "      --bg-color: #E8F0FE;\n",
              "      --fill-color: #1967D2;\n",
              "      --hover-bg-color: #E2EBFA;\n",
              "      --hover-fill-color: #174EA6;\n",
              "      --disabled-fill-color: #AAA;\n",
              "      --disabled-bg-color: #DDD;\n",
              "  }\n",
              "\n",
              "  [theme=dark] .colab-df-quickchart {\n",
              "      --bg-color: #3B4455;\n",
              "      --fill-color: #D2E3FC;\n",
              "      --hover-bg-color: #434B5C;\n",
              "      --hover-fill-color: #FFFFFF;\n",
              "      --disabled-bg-color: #3B4455;\n",
              "      --disabled-fill-color: #666;\n",
              "  }\n",
              "\n",
              "  .colab-df-quickchart {\n",
              "    background-color: var(--bg-color);\n",
              "    border: none;\n",
              "    border-radius: 50%;\n",
              "    cursor: pointer;\n",
              "    display: none;\n",
              "    fill: var(--fill-color);\n",
              "    height: 32px;\n",
              "    padding: 0;\n",
              "    width: 32px;\n",
              "  }\n",
              "\n",
              "  .colab-df-quickchart:hover {\n",
              "    background-color: var(--hover-bg-color);\n",
              "    box-shadow: 0 1px 2px rgba(60, 64, 67, 0.3), 0 1px 3px 1px rgba(60, 64, 67, 0.15);\n",
              "    fill: var(--button-hover-fill-color);\n",
              "  }\n",
              "\n",
              "  .colab-df-quickchart-complete:disabled,\n",
              "  .colab-df-quickchart-complete:disabled:hover {\n",
              "    background-color: var(--disabled-bg-color);\n",
              "    fill: var(--disabled-fill-color);\n",
              "    box-shadow: none;\n",
              "  }\n",
              "\n",
              "  .colab-df-spinner {\n",
              "    border: 2px solid var(--fill-color);\n",
              "    border-color: transparent;\n",
              "    border-bottom-color: var(--fill-color);\n",
              "    animation:\n",
              "      spin 1s steps(1) infinite;\n",
              "  }\n",
              "\n",
              "  @keyframes spin {\n",
              "    0% {\n",
              "      border-color: transparent;\n",
              "      border-bottom-color: var(--fill-color);\n",
              "      border-left-color: var(--fill-color);\n",
              "    }\n",
              "    20% {\n",
              "      border-color: transparent;\n",
              "      border-left-color: var(--fill-color);\n",
              "      border-top-color: var(--fill-color);\n",
              "    }\n",
              "    30% {\n",
              "      border-color: transparent;\n",
              "      border-left-color: var(--fill-color);\n",
              "      border-top-color: var(--fill-color);\n",
              "      border-right-color: var(--fill-color);\n",
              "    }\n",
              "    40% {\n",
              "      border-color: transparent;\n",
              "      border-right-color: var(--fill-color);\n",
              "      border-top-color: var(--fill-color);\n",
              "    }\n",
              "    60% {\n",
              "      border-color: transparent;\n",
              "      border-right-color: var(--fill-color);\n",
              "    }\n",
              "    80% {\n",
              "      border-color: transparent;\n",
              "      border-right-color: var(--fill-color);\n",
              "      border-bottom-color: var(--fill-color);\n",
              "    }\n",
              "    90% {\n",
              "      border-color: transparent;\n",
              "      border-bottom-color: var(--fill-color);\n",
              "    }\n",
              "  }\n",
              "</style>\n",
              "\n",
              "      <script>\n",
              "        async function quickchart(key) {\n",
              "          const quickchartButtonEl =\n",
              "            document.querySelector('#' + key + ' button');\n",
              "          quickchartButtonEl.disabled = true;  // To prevent multiple clicks.\n",
              "          quickchartButtonEl.classList.add('colab-df-spinner');\n",
              "          try {\n",
              "            const charts = await google.colab.kernel.invokeFunction(\n",
              "                'suggestCharts', [key], {});\n",
              "          } catch (error) {\n",
              "            console.error('Error during call to suggestCharts:', error);\n",
              "          }\n",
              "          quickchartButtonEl.classList.remove('colab-df-spinner');\n",
              "          quickchartButtonEl.classList.add('colab-df-quickchart-complete');\n",
              "        }\n",
              "        (() => {\n",
              "          let quickchartButtonEl =\n",
              "            document.querySelector('#df-852838a0-d10b-4a00-93fa-69a01aa6bf52 button');\n",
              "          quickchartButtonEl.style.display =\n",
              "            google.colab.kernel.accessAllowed ? 'block' : 'none';\n",
              "        })();\n",
              "      </script>\n",
              "    </div>\n",
              "\n",
              "    </div>\n",
              "  </div>\n"
            ],
            "application/vnd.google.colaboratory.intrinsic+json": {
              "type": "dataframe",
              "variable_name": "data_raw",
              "summary": "{\n  \"name\": \"data_raw\",\n  \"rows\": 40000,\n  \"fields\": [\n    {\n      \"column\": \"text\",\n      \"properties\": {\n        \"dtype\": \"string\",\n        \"num_unique_values\": 39723,\n        \"samples\": [\n          \"There are similarities between Ray Lawrence's \\\"Jindabyne\\\" and his last movie \\\"Lantana\\\" \\u0096 a dead body and its repercussions for already dysfunctional lives. But whereas \\\"Lantana\\\" offered some hope and resolution, \\\"Jindabyne\\\" leaves everything unresolved in a bleak way that will leave most viewers unsatisfied, perhaps even cheated.<br /><br />The storyline - the aftermath of a fisherman's discovery of a corpse floating in a remote river - is based on a short story by Raymond Carver. It became an element in Robert Altman's classic 1993 ensemble \\\"Short Cuts\\\". Lawrence uses this theme for an exploration and exposition of relationships within a small Australian community under stress. The movie poses some moral questions \\\"Would you let the discovery of a dead body ruin your good weekend?\\\" and more poignantly for Australians \\\"Would it make any difference if the dead person was an aboriginal?\\\" The acting, especially by Gabriel Byrne and Laura Linney, is commendable. And there are elements of mysticism reinforced by haunting music, not unlike \\\"Picnic at Hanging Rock\\\".<br /><br />If all this sounds like the basis for a great movie - be prepared for a let down, the pace is very slow and the murder is shown near the beginning, thereby eliminating the element of mystery. And so we are left with these desolate lives and a blank finale.\",\n          \"Hammer House of Horror: Witching Time is set in rural England on Woodstock farm where stressed musician David Winter (Jon Finch) lives with his actress wife Mary (Prunella Gee) & is currently composing the music for a horror film. One night while looking for his dog Billy David finds a mysterious woman in his barn, calling herself Lucinda Jessop (Patricia Quinn) she claims to be a witch who has transported herself from 300 years in the past to now. Obviously rather sceptical David has a hard time believing her so he locks her in a room in his farmhouse & calls his doctor Charles (Ian McCulloch) to come examine her, however once he arrives & they enter the room Lucinda has disappeared. Charles puts it down to David drinking too much but over the next few day strange & disturbing things begin to happen to David & Mary...<br /><br />Witching Time was episode 1 from the short lived British anthology horror series produced by Hammer studios for TV & originally aired here in the UK during September 1980, the first of two Hammer House of Horror episodes to be directed by Don Leaver (episode 13 The Mark of Satan being the other) I actually rather liked this. As a series Hammer House of Horror dealt with various different themes & were all unconnected to each other except in name & unsurprisingly Watching Time is a sinister & effective little tale about a witch, the script by Anthony Read benefits from it's slight 50 odd minute duration & moves along at a nice pace. The character's are pretty good as is the dialogue, there are some nice scenes here & I liked the way it never quite reveals whether David & Mary are going crazy or not. I think it's a well structured, entertaining & reasonably creepy horror themed TV show that I enjoyed more than I thought I would.<br /><br />Being made for British TV meant the boys at Hammer had a lower budget than usual, if that was even possible, & as such there is no gorgeous period settings here as in their most well know Frankenstein & Dracula films although the contemporary English setting does give it a certain atmosphere that you can relate to a bit more. Another TV based restriction is that the exploitation levels are lower than you might hope for, there's some nudity & gore but not much although I didn't mind too much as the story here is pretty good. It's well made for what it is & Hammer's experience on their feature films probably helped make these look pretty good, the acting is good as well with genre favourite Ian McCulloch making a bit-part appearance.<br /><br />Witching Time is a good start to the Hammer House of Horror series, as a 50 minute piece of British TV it's pretty damned good, now why don't they make show's like this over here anymore?\",\n          \"What a great cast for this movie. The timing was excellent and there were so many clever lines-several times I was still laughing minutes after they were delivered. I found Manna From Heaven to have some surprising moments and while there were things I was thinking would happen, the way they came together was anything but predictable. This movie is about hope and righting wrongs. I left the theater feeling inspired to do the right thing. Bravo to the Five Sisters.\"\n        ],\n        \"semantic_type\": \"\",\n        \"description\": \"\"\n      }\n    },\n    {\n      \"column\": \"label\",\n      \"properties\": {\n        \"dtype\": \"number\",\n        \"std\": 0,\n        \"min\": 0,\n        \"max\": 1,\n        \"num_unique_values\": 2,\n        \"samples\": [\n          1,\n          0\n        ],\n        \"semantic_type\": \"\",\n        \"description\": \"\"\n      }\n    }\n  ]\n}"
            }
          },
          "metadata": {},
          "execution_count": 9
        }
      ],
      "source": [
        "# Leer el conjunto de datos y cargarlo a un dataframe\n",
        "data_raw = pd.read_csv(os.path.join(path, 'movie.csv'))\n",
        "data_raw.head()"
      ]
    },
    {
      "cell_type": "code",
      "source": [
        "# Mapeos auxiliares para las clases\n",
        "label2index = {'Negativa':0, 'Positiva':1}\n",
        "index2label = {0:'Negativa', 1:'Positiva'}"
      ],
      "metadata": {
        "id": "tK_D4XVsnk6c"
      },
      "id": "tK_D4XVsnk6c",
      "execution_count": 10,
      "outputs": []
    },
    {
      "cell_type": "code",
      "source": [
        "# Frecuencias absoluta y relativa de cada clase\n",
        "pd.DataFrame({\n",
        "    \"Review\": index2label,\n",
        "    \"F. Absoluta\": data_raw['label'].value_counts().sort_index(),\n",
        "    \"F. Relativa\": data_raw['label'].value_counts(normalize=True).sort_index(),\n",
        "})"
      ],
      "metadata": {
        "id": "EkiUxk8il_JG",
        "colab": {
          "base_uri": "https://localhost:8080/",
          "height": 112
        },
        "outputId": "ca593192-cba9-4ede-930f-a6411b6b6cec"
      },
      "id": "EkiUxk8il_JG",
      "execution_count": 11,
      "outputs": [
        {
          "output_type": "execute_result",
          "data": {
            "text/plain": [
              "     Review  F. Absoluta  F. Relativa\n",
              "0  Negativa        20019     0.500475\n",
              "1  Positiva        19981     0.499525"
            ],
            "text/html": [
              "\n",
              "  <div id=\"df-5b7e3a99-a9f4-41af-ae9a-358a1c37d41b\" class=\"colab-df-container\">\n",
              "    <div>\n",
              "<style scoped>\n",
              "    .dataframe tbody tr th:only-of-type {\n",
              "        vertical-align: middle;\n",
              "    }\n",
              "\n",
              "    .dataframe tbody tr th {\n",
              "        vertical-align: top;\n",
              "    }\n",
              "\n",
              "    .dataframe thead th {\n",
              "        text-align: right;\n",
              "    }\n",
              "</style>\n",
              "<table border=\"1\" class=\"dataframe\">\n",
              "  <thead>\n",
              "    <tr style=\"text-align: right;\">\n",
              "      <th></th>\n",
              "      <th>Review</th>\n",
              "      <th>F. Absoluta</th>\n",
              "      <th>F. Relativa</th>\n",
              "    </tr>\n",
              "  </thead>\n",
              "  <tbody>\n",
              "    <tr>\n",
              "      <th>0</th>\n",
              "      <td>Negativa</td>\n",
              "      <td>20019</td>\n",
              "      <td>0.500475</td>\n",
              "    </tr>\n",
              "    <tr>\n",
              "      <th>1</th>\n",
              "      <td>Positiva</td>\n",
              "      <td>19981</td>\n",
              "      <td>0.499525</td>\n",
              "    </tr>\n",
              "  </tbody>\n",
              "</table>\n",
              "</div>\n",
              "    <div class=\"colab-df-buttons\">\n",
              "\n",
              "  <div class=\"colab-df-container\">\n",
              "    <button class=\"colab-df-convert\" onclick=\"convertToInteractive('df-5b7e3a99-a9f4-41af-ae9a-358a1c37d41b')\"\n",
              "            title=\"Convert this dataframe to an interactive table.\"\n",
              "            style=\"display:none;\">\n",
              "\n",
              "  <svg xmlns=\"http://www.w3.org/2000/svg\" height=\"24px\" viewBox=\"0 -960 960 960\">\n",
              "    <path d=\"M120-120v-720h720v720H120Zm60-500h600v-160H180v160Zm220 220h160v-160H400v160Zm0 220h160v-160H400v160ZM180-400h160v-160H180v160Zm440 0h160v-160H620v160ZM180-180h160v-160H180v160Zm440 0h160v-160H620v160Z\"/>\n",
              "  </svg>\n",
              "    </button>\n",
              "\n",
              "  <style>\n",
              "    .colab-df-container {\n",
              "      display:flex;\n",
              "      gap: 12px;\n",
              "    }\n",
              "\n",
              "    .colab-df-convert {\n",
              "      background-color: #E8F0FE;\n",
              "      border: none;\n",
              "      border-radius: 50%;\n",
              "      cursor: pointer;\n",
              "      display: none;\n",
              "      fill: #1967D2;\n",
              "      height: 32px;\n",
              "      padding: 0 0 0 0;\n",
              "      width: 32px;\n",
              "    }\n",
              "\n",
              "    .colab-df-convert:hover {\n",
              "      background-color: #E2EBFA;\n",
              "      box-shadow: 0px 1px 2px rgba(60, 64, 67, 0.3), 0px 1px 3px 1px rgba(60, 64, 67, 0.15);\n",
              "      fill: #174EA6;\n",
              "    }\n",
              "\n",
              "    .colab-df-buttons div {\n",
              "      margin-bottom: 4px;\n",
              "    }\n",
              "\n",
              "    [theme=dark] .colab-df-convert {\n",
              "      background-color: #3B4455;\n",
              "      fill: #D2E3FC;\n",
              "    }\n",
              "\n",
              "    [theme=dark] .colab-df-convert:hover {\n",
              "      background-color: #434B5C;\n",
              "      box-shadow: 0px 1px 3px 1px rgba(0, 0, 0, 0.15);\n",
              "      filter: drop-shadow(0px 1px 2px rgba(0, 0, 0, 0.3));\n",
              "      fill: #FFFFFF;\n",
              "    }\n",
              "  </style>\n",
              "\n",
              "    <script>\n",
              "      const buttonEl =\n",
              "        document.querySelector('#df-5b7e3a99-a9f4-41af-ae9a-358a1c37d41b button.colab-df-convert');\n",
              "      buttonEl.style.display =\n",
              "        google.colab.kernel.accessAllowed ? 'block' : 'none';\n",
              "\n",
              "      async function convertToInteractive(key) {\n",
              "        const element = document.querySelector('#df-5b7e3a99-a9f4-41af-ae9a-358a1c37d41b');\n",
              "        const dataTable =\n",
              "          await google.colab.kernel.invokeFunction('convertToInteractive',\n",
              "                                                    [key], {});\n",
              "        if (!dataTable) return;\n",
              "\n",
              "        const docLinkHtml = 'Like what you see? Visit the ' +\n",
              "          '<a target=\"_blank\" href=https://colab.research.google.com/notebooks/data_table.ipynb>data table notebook</a>'\n",
              "          + ' to learn more about interactive tables.';\n",
              "        element.innerHTML = '';\n",
              "        dataTable['output_type'] = 'display_data';\n",
              "        await google.colab.output.renderOutput(dataTable, element);\n",
              "        const docLink = document.createElement('div');\n",
              "        docLink.innerHTML = docLinkHtml;\n",
              "        element.appendChild(docLink);\n",
              "      }\n",
              "    </script>\n",
              "  </div>\n",
              "\n",
              "\n",
              "    <div id=\"df-043ab6e0-991f-410d-b614-70415a28b506\">\n",
              "      <button class=\"colab-df-quickchart\" onclick=\"quickchart('df-043ab6e0-991f-410d-b614-70415a28b506')\"\n",
              "                title=\"Suggest charts\"\n",
              "                style=\"display:none;\">\n",
              "\n",
              "<svg xmlns=\"http://www.w3.org/2000/svg\" height=\"24px\"viewBox=\"0 0 24 24\"\n",
              "     width=\"24px\">\n",
              "    <g>\n",
              "        <path d=\"M19 3H5c-1.1 0-2 .9-2 2v14c0 1.1.9 2 2 2h14c1.1 0 2-.9 2-2V5c0-1.1-.9-2-2-2zM9 17H7v-7h2v7zm4 0h-2V7h2v10zm4 0h-2v-4h2v4z\"/>\n",
              "    </g>\n",
              "</svg>\n",
              "      </button>\n",
              "\n",
              "<style>\n",
              "  .colab-df-quickchart {\n",
              "      --bg-color: #E8F0FE;\n",
              "      --fill-color: #1967D2;\n",
              "      --hover-bg-color: #E2EBFA;\n",
              "      --hover-fill-color: #174EA6;\n",
              "      --disabled-fill-color: #AAA;\n",
              "      --disabled-bg-color: #DDD;\n",
              "  }\n",
              "\n",
              "  [theme=dark] .colab-df-quickchart {\n",
              "      --bg-color: #3B4455;\n",
              "      --fill-color: #D2E3FC;\n",
              "      --hover-bg-color: #434B5C;\n",
              "      --hover-fill-color: #FFFFFF;\n",
              "      --disabled-bg-color: #3B4455;\n",
              "      --disabled-fill-color: #666;\n",
              "  }\n",
              "\n",
              "  .colab-df-quickchart {\n",
              "    background-color: var(--bg-color);\n",
              "    border: none;\n",
              "    border-radius: 50%;\n",
              "    cursor: pointer;\n",
              "    display: none;\n",
              "    fill: var(--fill-color);\n",
              "    height: 32px;\n",
              "    padding: 0;\n",
              "    width: 32px;\n",
              "  }\n",
              "\n",
              "  .colab-df-quickchart:hover {\n",
              "    background-color: var(--hover-bg-color);\n",
              "    box-shadow: 0 1px 2px rgba(60, 64, 67, 0.3), 0 1px 3px 1px rgba(60, 64, 67, 0.15);\n",
              "    fill: var(--button-hover-fill-color);\n",
              "  }\n",
              "\n",
              "  .colab-df-quickchart-complete:disabled,\n",
              "  .colab-df-quickchart-complete:disabled:hover {\n",
              "    background-color: var(--disabled-bg-color);\n",
              "    fill: var(--disabled-fill-color);\n",
              "    box-shadow: none;\n",
              "  }\n",
              "\n",
              "  .colab-df-spinner {\n",
              "    border: 2px solid var(--fill-color);\n",
              "    border-color: transparent;\n",
              "    border-bottom-color: var(--fill-color);\n",
              "    animation:\n",
              "      spin 1s steps(1) infinite;\n",
              "  }\n",
              "\n",
              "  @keyframes spin {\n",
              "    0% {\n",
              "      border-color: transparent;\n",
              "      border-bottom-color: var(--fill-color);\n",
              "      border-left-color: var(--fill-color);\n",
              "    }\n",
              "    20% {\n",
              "      border-color: transparent;\n",
              "      border-left-color: var(--fill-color);\n",
              "      border-top-color: var(--fill-color);\n",
              "    }\n",
              "    30% {\n",
              "      border-color: transparent;\n",
              "      border-left-color: var(--fill-color);\n",
              "      border-top-color: var(--fill-color);\n",
              "      border-right-color: var(--fill-color);\n",
              "    }\n",
              "    40% {\n",
              "      border-color: transparent;\n",
              "      border-right-color: var(--fill-color);\n",
              "      border-top-color: var(--fill-color);\n",
              "    }\n",
              "    60% {\n",
              "      border-color: transparent;\n",
              "      border-right-color: var(--fill-color);\n",
              "    }\n",
              "    80% {\n",
              "      border-color: transparent;\n",
              "      border-right-color: var(--fill-color);\n",
              "      border-bottom-color: var(--fill-color);\n",
              "    }\n",
              "    90% {\n",
              "      border-color: transparent;\n",
              "      border-bottom-color: var(--fill-color);\n",
              "    }\n",
              "  }\n",
              "</style>\n",
              "\n",
              "      <script>\n",
              "        async function quickchart(key) {\n",
              "          const quickchartButtonEl =\n",
              "            document.querySelector('#' + key + ' button');\n",
              "          quickchartButtonEl.disabled = true;  // To prevent multiple clicks.\n",
              "          quickchartButtonEl.classList.add('colab-df-spinner');\n",
              "          try {\n",
              "            const charts = await google.colab.kernel.invokeFunction(\n",
              "                'suggestCharts', [key], {});\n",
              "          } catch (error) {\n",
              "            console.error('Error during call to suggestCharts:', error);\n",
              "          }\n",
              "          quickchartButtonEl.classList.remove('colab-df-spinner');\n",
              "          quickchartButtonEl.classList.add('colab-df-quickchart-complete');\n",
              "        }\n",
              "        (() => {\n",
              "          let quickchartButtonEl =\n",
              "            document.querySelector('#df-043ab6e0-991f-410d-b614-70415a28b506 button');\n",
              "          quickchartButtonEl.style.display =\n",
              "            google.colab.kernel.accessAllowed ? 'block' : 'none';\n",
              "        })();\n",
              "      </script>\n",
              "    </div>\n",
              "\n",
              "    </div>\n",
              "  </div>\n"
            ],
            "application/vnd.google.colaboratory.intrinsic+json": {
              "type": "dataframe",
              "summary": "{\n  \"name\": \"})\",\n  \"rows\": 2,\n  \"fields\": [\n    {\n      \"column\": \"Review\",\n      \"properties\": {\n        \"dtype\": \"string\",\n        \"num_unique_values\": 2,\n        \"samples\": [\n          \"Positiva\",\n          \"Negativa\"\n        ],\n        \"semantic_type\": \"\",\n        \"description\": \"\"\n      }\n    },\n    {\n      \"column\": \"F. Absoluta\",\n      \"properties\": {\n        \"dtype\": \"number\",\n        \"std\": 26,\n        \"min\": 19981,\n        \"max\": 20019,\n        \"num_unique_values\": 2,\n        \"samples\": [\n          19981,\n          20019\n        ],\n        \"semantic_type\": \"\",\n        \"description\": \"\"\n      }\n    },\n    {\n      \"column\": \"F. Relativa\",\n      \"properties\": {\n        \"dtype\": \"number\",\n        \"std\": 0.0006717514421272246,\n        \"min\": 0.499525,\n        \"max\": 0.500475,\n        \"num_unique_values\": 2,\n        \"samples\": [\n          0.499525,\n          0.500475\n        ],\n        \"semantic_type\": \"\",\n        \"description\": \"\"\n      }\n    }\n  ]\n}"
            }
          },
          "metadata": {},
          "execution_count": 11
        }
      ]
    },
    {
      "cell_type": "markdown",
      "id": "CNfurSnbmf79",
      "metadata": {
        "id": "CNfurSnbmf79"
      },
      "source": [
        "***\n",
        "\n",
        "## 2.2. Limpieza de los datos\n",
        "\n",
        "En estas sección identificamos y corregimos:\n",
        "\n",
        "* Valores faltantes\n",
        "* Textos duplicados\n",
        "* Textos en otros idiomas distintos al inglés"
      ]
    },
    {
      "cell_type": "code",
      "source": [
        "data_raw.isna().sum()"
      ],
      "metadata": {
        "id": "2r0P2t_Ysjbq",
        "colab": {
          "base_uri": "https://localhost:8080/",
          "height": 147
        },
        "outputId": "996b9cb1-49cc-4ab4-a374-8c4426d486a7"
      },
      "id": "2r0P2t_Ysjbq",
      "execution_count": 12,
      "outputs": [
        {
          "output_type": "execute_result",
          "data": {
            "text/plain": [
              "text     0\n",
              "label    0\n",
              "dtype: int64"
            ],
            "text/html": [
              "<div>\n",
              "<style scoped>\n",
              "    .dataframe tbody tr th:only-of-type {\n",
              "        vertical-align: middle;\n",
              "    }\n",
              "\n",
              "    .dataframe tbody tr th {\n",
              "        vertical-align: top;\n",
              "    }\n",
              "\n",
              "    .dataframe thead th {\n",
              "        text-align: right;\n",
              "    }\n",
              "</style>\n",
              "<table border=\"1\" class=\"dataframe\">\n",
              "  <thead>\n",
              "    <tr style=\"text-align: right;\">\n",
              "      <th></th>\n",
              "      <th>0</th>\n",
              "    </tr>\n",
              "  </thead>\n",
              "  <tbody>\n",
              "    <tr>\n",
              "      <th>text</th>\n",
              "      <td>0</td>\n",
              "    </tr>\n",
              "    <tr>\n",
              "      <th>label</th>\n",
              "      <td>0</td>\n",
              "    </tr>\n",
              "  </tbody>\n",
              "</table>\n",
              "</div><br><label><b>dtype:</b> int64</label>"
            ]
          },
          "metadata": {},
          "execution_count": 12
        }
      ]
    },
    {
      "cell_type": "code",
      "source": [
        "data_raw.duplicated().sum()"
      ],
      "metadata": {
        "id": "m3IgmRbWskuE",
        "colab": {
          "base_uri": "https://localhost:8080/"
        },
        "outputId": "2f92b7d7-f759-4515-92be-20fe94406aef"
      },
      "id": "m3IgmRbWskuE",
      "execution_count": 13,
      "outputs": [
        {
          "output_type": "execute_result",
          "data": {
            "text/plain": [
              "np.int64(277)"
            ]
          },
          "metadata": {},
          "execution_count": 13
        }
      ]
    },
    {
      "cell_type": "code",
      "source": [
        "# Limpieza de duplicados\n",
        "data = data_raw.drop_duplicates(keep='first')\n",
        "\n",
        "# Nuevas frecuencias absoluta y relativa de cada clase\n",
        "pd.DataFrame({\n",
        "    \"Review\": index2label,\n",
        "    \"F. Absoluta\": data['label'].value_counts().sort_index(),\n",
        "    \"F. Relativa\": data['label'].value_counts(normalize=True).sort_index(),\n",
        "})"
      ],
      "metadata": {
        "id": "37qzkcBL3D3P",
        "colab": {
          "base_uri": "https://localhost:8080/",
          "height": 112
        },
        "outputId": "4376b4f0-b22b-4d5e-ef93-cf834510e368"
      },
      "id": "37qzkcBL3D3P",
      "execution_count": 14,
      "outputs": [
        {
          "output_type": "execute_result",
          "data": {
            "text/plain": [
              "     Review  F. Absoluta  F. Relativa\n",
              "0  Negativa        19815     0.498829\n",
              "1  Positiva        19908     0.501171"
            ],
            "text/html": [
              "\n",
              "  <div id=\"df-396ccc8c-cf13-4532-a133-96ef877aecdc\" class=\"colab-df-container\">\n",
              "    <div>\n",
              "<style scoped>\n",
              "    .dataframe tbody tr th:only-of-type {\n",
              "        vertical-align: middle;\n",
              "    }\n",
              "\n",
              "    .dataframe tbody tr th {\n",
              "        vertical-align: top;\n",
              "    }\n",
              "\n",
              "    .dataframe thead th {\n",
              "        text-align: right;\n",
              "    }\n",
              "</style>\n",
              "<table border=\"1\" class=\"dataframe\">\n",
              "  <thead>\n",
              "    <tr style=\"text-align: right;\">\n",
              "      <th></th>\n",
              "      <th>Review</th>\n",
              "      <th>F. Absoluta</th>\n",
              "      <th>F. Relativa</th>\n",
              "    </tr>\n",
              "  </thead>\n",
              "  <tbody>\n",
              "    <tr>\n",
              "      <th>0</th>\n",
              "      <td>Negativa</td>\n",
              "      <td>19815</td>\n",
              "      <td>0.498829</td>\n",
              "    </tr>\n",
              "    <tr>\n",
              "      <th>1</th>\n",
              "      <td>Positiva</td>\n",
              "      <td>19908</td>\n",
              "      <td>0.501171</td>\n",
              "    </tr>\n",
              "  </tbody>\n",
              "</table>\n",
              "</div>\n",
              "    <div class=\"colab-df-buttons\">\n",
              "\n",
              "  <div class=\"colab-df-container\">\n",
              "    <button class=\"colab-df-convert\" onclick=\"convertToInteractive('df-396ccc8c-cf13-4532-a133-96ef877aecdc')\"\n",
              "            title=\"Convert this dataframe to an interactive table.\"\n",
              "            style=\"display:none;\">\n",
              "\n",
              "  <svg xmlns=\"http://www.w3.org/2000/svg\" height=\"24px\" viewBox=\"0 -960 960 960\">\n",
              "    <path d=\"M120-120v-720h720v720H120Zm60-500h600v-160H180v160Zm220 220h160v-160H400v160Zm0 220h160v-160H400v160ZM180-400h160v-160H180v160Zm440 0h160v-160H620v160ZM180-180h160v-160H180v160Zm440 0h160v-160H620v160Z\"/>\n",
              "  </svg>\n",
              "    </button>\n",
              "\n",
              "  <style>\n",
              "    .colab-df-container {\n",
              "      display:flex;\n",
              "      gap: 12px;\n",
              "    }\n",
              "\n",
              "    .colab-df-convert {\n",
              "      background-color: #E8F0FE;\n",
              "      border: none;\n",
              "      border-radius: 50%;\n",
              "      cursor: pointer;\n",
              "      display: none;\n",
              "      fill: #1967D2;\n",
              "      height: 32px;\n",
              "      padding: 0 0 0 0;\n",
              "      width: 32px;\n",
              "    }\n",
              "\n",
              "    .colab-df-convert:hover {\n",
              "      background-color: #E2EBFA;\n",
              "      box-shadow: 0px 1px 2px rgba(60, 64, 67, 0.3), 0px 1px 3px 1px rgba(60, 64, 67, 0.15);\n",
              "      fill: #174EA6;\n",
              "    }\n",
              "\n",
              "    .colab-df-buttons div {\n",
              "      margin-bottom: 4px;\n",
              "    }\n",
              "\n",
              "    [theme=dark] .colab-df-convert {\n",
              "      background-color: #3B4455;\n",
              "      fill: #D2E3FC;\n",
              "    }\n",
              "\n",
              "    [theme=dark] .colab-df-convert:hover {\n",
              "      background-color: #434B5C;\n",
              "      box-shadow: 0px 1px 3px 1px rgba(0, 0, 0, 0.15);\n",
              "      filter: drop-shadow(0px 1px 2px rgba(0, 0, 0, 0.3));\n",
              "      fill: #FFFFFF;\n",
              "    }\n",
              "  </style>\n",
              "\n",
              "    <script>\n",
              "      const buttonEl =\n",
              "        document.querySelector('#df-396ccc8c-cf13-4532-a133-96ef877aecdc button.colab-df-convert');\n",
              "      buttonEl.style.display =\n",
              "        google.colab.kernel.accessAllowed ? 'block' : 'none';\n",
              "\n",
              "      async function convertToInteractive(key) {\n",
              "        const element = document.querySelector('#df-396ccc8c-cf13-4532-a133-96ef877aecdc');\n",
              "        const dataTable =\n",
              "          await google.colab.kernel.invokeFunction('convertToInteractive',\n",
              "                                                    [key], {});\n",
              "        if (!dataTable) return;\n",
              "\n",
              "        const docLinkHtml = 'Like what you see? Visit the ' +\n",
              "          '<a target=\"_blank\" href=https://colab.research.google.com/notebooks/data_table.ipynb>data table notebook</a>'\n",
              "          + ' to learn more about interactive tables.';\n",
              "        element.innerHTML = '';\n",
              "        dataTable['output_type'] = 'display_data';\n",
              "        await google.colab.output.renderOutput(dataTable, element);\n",
              "        const docLink = document.createElement('div');\n",
              "        docLink.innerHTML = docLinkHtml;\n",
              "        element.appendChild(docLink);\n",
              "      }\n",
              "    </script>\n",
              "  </div>\n",
              "\n",
              "\n",
              "    <div id=\"df-b4b94eda-15d5-4312-a99c-d9218f880b68\">\n",
              "      <button class=\"colab-df-quickchart\" onclick=\"quickchart('df-b4b94eda-15d5-4312-a99c-d9218f880b68')\"\n",
              "                title=\"Suggest charts\"\n",
              "                style=\"display:none;\">\n",
              "\n",
              "<svg xmlns=\"http://www.w3.org/2000/svg\" height=\"24px\"viewBox=\"0 0 24 24\"\n",
              "     width=\"24px\">\n",
              "    <g>\n",
              "        <path d=\"M19 3H5c-1.1 0-2 .9-2 2v14c0 1.1.9 2 2 2h14c1.1 0 2-.9 2-2V5c0-1.1-.9-2-2-2zM9 17H7v-7h2v7zm4 0h-2V7h2v10zm4 0h-2v-4h2v4z\"/>\n",
              "    </g>\n",
              "</svg>\n",
              "      </button>\n",
              "\n",
              "<style>\n",
              "  .colab-df-quickchart {\n",
              "      --bg-color: #E8F0FE;\n",
              "      --fill-color: #1967D2;\n",
              "      --hover-bg-color: #E2EBFA;\n",
              "      --hover-fill-color: #174EA6;\n",
              "      --disabled-fill-color: #AAA;\n",
              "      --disabled-bg-color: #DDD;\n",
              "  }\n",
              "\n",
              "  [theme=dark] .colab-df-quickchart {\n",
              "      --bg-color: #3B4455;\n",
              "      --fill-color: #D2E3FC;\n",
              "      --hover-bg-color: #434B5C;\n",
              "      --hover-fill-color: #FFFFFF;\n",
              "      --disabled-bg-color: #3B4455;\n",
              "      --disabled-fill-color: #666;\n",
              "  }\n",
              "\n",
              "  .colab-df-quickchart {\n",
              "    background-color: var(--bg-color);\n",
              "    border: none;\n",
              "    border-radius: 50%;\n",
              "    cursor: pointer;\n",
              "    display: none;\n",
              "    fill: var(--fill-color);\n",
              "    height: 32px;\n",
              "    padding: 0;\n",
              "    width: 32px;\n",
              "  }\n",
              "\n",
              "  .colab-df-quickchart:hover {\n",
              "    background-color: var(--hover-bg-color);\n",
              "    box-shadow: 0 1px 2px rgba(60, 64, 67, 0.3), 0 1px 3px 1px rgba(60, 64, 67, 0.15);\n",
              "    fill: var(--button-hover-fill-color);\n",
              "  }\n",
              "\n",
              "  .colab-df-quickchart-complete:disabled,\n",
              "  .colab-df-quickchart-complete:disabled:hover {\n",
              "    background-color: var(--disabled-bg-color);\n",
              "    fill: var(--disabled-fill-color);\n",
              "    box-shadow: none;\n",
              "  }\n",
              "\n",
              "  .colab-df-spinner {\n",
              "    border: 2px solid var(--fill-color);\n",
              "    border-color: transparent;\n",
              "    border-bottom-color: var(--fill-color);\n",
              "    animation:\n",
              "      spin 1s steps(1) infinite;\n",
              "  }\n",
              "\n",
              "  @keyframes spin {\n",
              "    0% {\n",
              "      border-color: transparent;\n",
              "      border-bottom-color: var(--fill-color);\n",
              "      border-left-color: var(--fill-color);\n",
              "    }\n",
              "    20% {\n",
              "      border-color: transparent;\n",
              "      border-left-color: var(--fill-color);\n",
              "      border-top-color: var(--fill-color);\n",
              "    }\n",
              "    30% {\n",
              "      border-color: transparent;\n",
              "      border-left-color: var(--fill-color);\n",
              "      border-top-color: var(--fill-color);\n",
              "      border-right-color: var(--fill-color);\n",
              "    }\n",
              "    40% {\n",
              "      border-color: transparent;\n",
              "      border-right-color: var(--fill-color);\n",
              "      border-top-color: var(--fill-color);\n",
              "    }\n",
              "    60% {\n",
              "      border-color: transparent;\n",
              "      border-right-color: var(--fill-color);\n",
              "    }\n",
              "    80% {\n",
              "      border-color: transparent;\n",
              "      border-right-color: var(--fill-color);\n",
              "      border-bottom-color: var(--fill-color);\n",
              "    }\n",
              "    90% {\n",
              "      border-color: transparent;\n",
              "      border-bottom-color: var(--fill-color);\n",
              "    }\n",
              "  }\n",
              "</style>\n",
              "\n",
              "      <script>\n",
              "        async function quickchart(key) {\n",
              "          const quickchartButtonEl =\n",
              "            document.querySelector('#' + key + ' button');\n",
              "          quickchartButtonEl.disabled = true;  // To prevent multiple clicks.\n",
              "          quickchartButtonEl.classList.add('colab-df-spinner');\n",
              "          try {\n",
              "            const charts = await google.colab.kernel.invokeFunction(\n",
              "                'suggestCharts', [key], {});\n",
              "          } catch (error) {\n",
              "            console.error('Error during call to suggestCharts:', error);\n",
              "          }\n",
              "          quickchartButtonEl.classList.remove('colab-df-spinner');\n",
              "          quickchartButtonEl.classList.add('colab-df-quickchart-complete');\n",
              "        }\n",
              "        (() => {\n",
              "          let quickchartButtonEl =\n",
              "            document.querySelector('#df-b4b94eda-15d5-4312-a99c-d9218f880b68 button');\n",
              "          quickchartButtonEl.style.display =\n",
              "            google.colab.kernel.accessAllowed ? 'block' : 'none';\n",
              "        })();\n",
              "      </script>\n",
              "    </div>\n",
              "\n",
              "    </div>\n",
              "  </div>\n"
            ],
            "application/vnd.google.colaboratory.intrinsic+json": {
              "type": "dataframe",
              "summary": "{\n  \"name\": \"})\",\n  \"rows\": 2,\n  \"fields\": [\n    {\n      \"column\": \"Review\",\n      \"properties\": {\n        \"dtype\": \"string\",\n        \"num_unique_values\": 2,\n        \"samples\": [\n          \"Positiva\",\n          \"Negativa\"\n        ],\n        \"semantic_type\": \"\",\n        \"description\": \"\"\n      }\n    },\n    {\n      \"column\": \"F. Absoluta\",\n      \"properties\": {\n        \"dtype\": \"number\",\n        \"std\": 65,\n        \"min\": 19815,\n        \"max\": 19908,\n        \"num_unique_values\": 2,\n        \"samples\": [\n          19908,\n          19815\n        ],\n        \"semantic_type\": \"\",\n        \"description\": \"\"\n      }\n    },\n    {\n      \"column\": \"F. Relativa\",\n      \"properties\": {\n        \"dtype\": \"number\",\n        \"std\": 0.0016554875173161556,\n        \"min\": 0.49882939355033606,\n        \"max\": 0.5011706064496639,\n        \"num_unique_values\": 2,\n        \"samples\": [\n          0.5011706064496639,\n          0.49882939355033606\n        ],\n        \"semantic_type\": \"\",\n        \"description\": \"\"\n      }\n    }\n  ]\n}"
            }
          },
          "metadata": {},
          "execution_count": 14
        }
      ]
    },
    {
      "cell_type": "markdown",
      "source": [
        "Detectando otros idiomas:"
      ],
      "metadata": {
        "id": "znjAi7TSPK3f"
      },
      "id": "znjAi7TSPK3f"
    },
    {
      "cell_type": "code",
      "source": [
        "def detectar_idiomas(X: pd.DataFrame):\n",
        "    #Identificar los idiomas del dataframe y los índices de las filas que no están en inglés\n",
        "    X['idioma'] = X['text'].apply(lambda x: detect(x) if isinstance(x, str) and x.strip() else \"desconocido\")\n",
        "    indices_a_traducir = X[X['idioma'] != 'en'].index\n",
        "\n",
        "    # Imprimir textos en otros idiomas\n",
        "    print(\"Textos en otros idiomas:\")\n",
        "    for i in indices_a_traducir:\n",
        "        print(X.loc[i].text)\n",
        "\n",
        "    # Retornar el df ahora con la columna 'idioma'\n",
        "    print(\"Dataset con columna 'idioma':\")\n",
        "    return X"
      ],
      "metadata": {
        "id": "_WQ5tiJps-bO"
      },
      "id": "_WQ5tiJps-bO",
      "execution_count": 15,
      "outputs": []
    },
    {
      "cell_type": "markdown",
      "source": [
        "Nota: En algunas ocasiones, la función `detect` confunde la presencia de nombres propios o pequeñas secciones en otros idiomas como un indicativo de que el texto no está en inglés. Sin embargo, estas ocurrencias suelen ser mínimas o nulas."
      ],
      "metadata": {
        "id": "bAyfWDggeQW-"
      },
      "id": "bAyfWDggeQW-"
    },
    {
      "cell_type": "code",
      "source": [
        "detectar_idiomas(data)"
      ],
      "metadata": {
        "id": "DpTn9HpSW6V9",
        "outputId": "ac5e9f52-e536-4cfb-c1e4-302070debde0",
        "colab": {
          "base_uri": "https://localhost:8080/",
          "height": 461
        }
      },
      "id": "DpTn9HpSW6V9",
      "execution_count": 16,
      "outputs": [
        {
          "output_type": "stream",
          "name": "stdout",
          "text": [
            "Textos en otros idiomas:\n",
            "Dataset con columna 'idioma':\n"
          ]
        },
        {
          "output_type": "execute_result",
          "data": {
            "text/plain": [
              "                                                    text  label idioma\n",
              "0      I grew up (b. 1965) watching and loving the Th...      0     en\n",
              "1      When I put this movie in my DVD player, and sa...      0     en\n",
              "2      Why do people who do not know what a particula...      0     en\n",
              "3      Even though I have great interest in Biblical ...      0     en\n",
              "4      Im a die hard Dads Army fan and nothing will e...      1     en\n",
              "...                                                  ...    ...    ...\n",
              "39995  \"Western Union\" is something of a forgotten cl...      1     en\n",
              "39996  This movie is an incredible piece of work. It ...      1     en\n",
              "39997  My wife and I watched this movie because we pl...      0     en\n",
              "39998  When I first watched Flatliners, I was amazed....      1     en\n",
              "39999  Why would this film be so good, but only gross...      1     en\n",
              "\n",
              "[39723 rows x 3 columns]"
            ],
            "text/html": [
              "\n",
              "  <div id=\"df-d44028fc-da44-45fd-aeff-8d62d915b580\" class=\"colab-df-container\">\n",
              "    <div>\n",
              "<style scoped>\n",
              "    .dataframe tbody tr th:only-of-type {\n",
              "        vertical-align: middle;\n",
              "    }\n",
              "\n",
              "    .dataframe tbody tr th {\n",
              "        vertical-align: top;\n",
              "    }\n",
              "\n",
              "    .dataframe thead th {\n",
              "        text-align: right;\n",
              "    }\n",
              "</style>\n",
              "<table border=\"1\" class=\"dataframe\">\n",
              "  <thead>\n",
              "    <tr style=\"text-align: right;\">\n",
              "      <th></th>\n",
              "      <th>text</th>\n",
              "      <th>label</th>\n",
              "      <th>idioma</th>\n",
              "    </tr>\n",
              "  </thead>\n",
              "  <tbody>\n",
              "    <tr>\n",
              "      <th>0</th>\n",
              "      <td>I grew up (b. 1965) watching and loving the Th...</td>\n",
              "      <td>0</td>\n",
              "      <td>en</td>\n",
              "    </tr>\n",
              "    <tr>\n",
              "      <th>1</th>\n",
              "      <td>When I put this movie in my DVD player, and sa...</td>\n",
              "      <td>0</td>\n",
              "      <td>en</td>\n",
              "    </tr>\n",
              "    <tr>\n",
              "      <th>2</th>\n",
              "      <td>Why do people who do not know what a particula...</td>\n",
              "      <td>0</td>\n",
              "      <td>en</td>\n",
              "    </tr>\n",
              "    <tr>\n",
              "      <th>3</th>\n",
              "      <td>Even though I have great interest in Biblical ...</td>\n",
              "      <td>0</td>\n",
              "      <td>en</td>\n",
              "    </tr>\n",
              "    <tr>\n",
              "      <th>4</th>\n",
              "      <td>Im a die hard Dads Army fan and nothing will e...</td>\n",
              "      <td>1</td>\n",
              "      <td>en</td>\n",
              "    </tr>\n",
              "    <tr>\n",
              "      <th>...</th>\n",
              "      <td>...</td>\n",
              "      <td>...</td>\n",
              "      <td>...</td>\n",
              "    </tr>\n",
              "    <tr>\n",
              "      <th>39995</th>\n",
              "      <td>\"Western Union\" is something of a forgotten cl...</td>\n",
              "      <td>1</td>\n",
              "      <td>en</td>\n",
              "    </tr>\n",
              "    <tr>\n",
              "      <th>39996</th>\n",
              "      <td>This movie is an incredible piece of work. It ...</td>\n",
              "      <td>1</td>\n",
              "      <td>en</td>\n",
              "    </tr>\n",
              "    <tr>\n",
              "      <th>39997</th>\n",
              "      <td>My wife and I watched this movie because we pl...</td>\n",
              "      <td>0</td>\n",
              "      <td>en</td>\n",
              "    </tr>\n",
              "    <tr>\n",
              "      <th>39998</th>\n",
              "      <td>When I first watched Flatliners, I was amazed....</td>\n",
              "      <td>1</td>\n",
              "      <td>en</td>\n",
              "    </tr>\n",
              "    <tr>\n",
              "      <th>39999</th>\n",
              "      <td>Why would this film be so good, but only gross...</td>\n",
              "      <td>1</td>\n",
              "      <td>en</td>\n",
              "    </tr>\n",
              "  </tbody>\n",
              "</table>\n",
              "<p>39723 rows × 3 columns</p>\n",
              "</div>\n",
              "    <div class=\"colab-df-buttons\">\n",
              "\n",
              "  <div class=\"colab-df-container\">\n",
              "    <button class=\"colab-df-convert\" onclick=\"convertToInteractive('df-d44028fc-da44-45fd-aeff-8d62d915b580')\"\n",
              "            title=\"Convert this dataframe to an interactive table.\"\n",
              "            style=\"display:none;\">\n",
              "\n",
              "  <svg xmlns=\"http://www.w3.org/2000/svg\" height=\"24px\" viewBox=\"0 -960 960 960\">\n",
              "    <path d=\"M120-120v-720h720v720H120Zm60-500h600v-160H180v160Zm220 220h160v-160H400v160Zm0 220h160v-160H400v160ZM180-400h160v-160H180v160Zm440 0h160v-160H620v160ZM180-180h160v-160H180v160Zm440 0h160v-160H620v160Z\"/>\n",
              "  </svg>\n",
              "    </button>\n",
              "\n",
              "  <style>\n",
              "    .colab-df-container {\n",
              "      display:flex;\n",
              "      gap: 12px;\n",
              "    }\n",
              "\n",
              "    .colab-df-convert {\n",
              "      background-color: #E8F0FE;\n",
              "      border: none;\n",
              "      border-radius: 50%;\n",
              "      cursor: pointer;\n",
              "      display: none;\n",
              "      fill: #1967D2;\n",
              "      height: 32px;\n",
              "      padding: 0 0 0 0;\n",
              "      width: 32px;\n",
              "    }\n",
              "\n",
              "    .colab-df-convert:hover {\n",
              "      background-color: #E2EBFA;\n",
              "      box-shadow: 0px 1px 2px rgba(60, 64, 67, 0.3), 0px 1px 3px 1px rgba(60, 64, 67, 0.15);\n",
              "      fill: #174EA6;\n",
              "    }\n",
              "\n",
              "    .colab-df-buttons div {\n",
              "      margin-bottom: 4px;\n",
              "    }\n",
              "\n",
              "    [theme=dark] .colab-df-convert {\n",
              "      background-color: #3B4455;\n",
              "      fill: #D2E3FC;\n",
              "    }\n",
              "\n",
              "    [theme=dark] .colab-df-convert:hover {\n",
              "      background-color: #434B5C;\n",
              "      box-shadow: 0px 1px 3px 1px rgba(0, 0, 0, 0.15);\n",
              "      filter: drop-shadow(0px 1px 2px rgba(0, 0, 0, 0.3));\n",
              "      fill: #FFFFFF;\n",
              "    }\n",
              "  </style>\n",
              "\n",
              "    <script>\n",
              "      const buttonEl =\n",
              "        document.querySelector('#df-d44028fc-da44-45fd-aeff-8d62d915b580 button.colab-df-convert');\n",
              "      buttonEl.style.display =\n",
              "        google.colab.kernel.accessAllowed ? 'block' : 'none';\n",
              "\n",
              "      async function convertToInteractive(key) {\n",
              "        const element = document.querySelector('#df-d44028fc-da44-45fd-aeff-8d62d915b580');\n",
              "        const dataTable =\n",
              "          await google.colab.kernel.invokeFunction('convertToInteractive',\n",
              "                                                    [key], {});\n",
              "        if (!dataTable) return;\n",
              "\n",
              "        const docLinkHtml = 'Like what you see? Visit the ' +\n",
              "          '<a target=\"_blank\" href=https://colab.research.google.com/notebooks/data_table.ipynb>data table notebook</a>'\n",
              "          + ' to learn more about interactive tables.';\n",
              "        element.innerHTML = '';\n",
              "        dataTable['output_type'] = 'display_data';\n",
              "        await google.colab.output.renderOutput(dataTable, element);\n",
              "        const docLink = document.createElement('div');\n",
              "        docLink.innerHTML = docLinkHtml;\n",
              "        element.appendChild(docLink);\n",
              "      }\n",
              "    </script>\n",
              "  </div>\n",
              "\n",
              "\n",
              "    <div id=\"df-6e81db8b-33bd-41a9-bda3-a3f9445b36e5\">\n",
              "      <button class=\"colab-df-quickchart\" onclick=\"quickchart('df-6e81db8b-33bd-41a9-bda3-a3f9445b36e5')\"\n",
              "                title=\"Suggest charts\"\n",
              "                style=\"display:none;\">\n",
              "\n",
              "<svg xmlns=\"http://www.w3.org/2000/svg\" height=\"24px\"viewBox=\"0 0 24 24\"\n",
              "     width=\"24px\">\n",
              "    <g>\n",
              "        <path d=\"M19 3H5c-1.1 0-2 .9-2 2v14c0 1.1.9 2 2 2h14c1.1 0 2-.9 2-2V5c0-1.1-.9-2-2-2zM9 17H7v-7h2v7zm4 0h-2V7h2v10zm4 0h-2v-4h2v4z\"/>\n",
              "    </g>\n",
              "</svg>\n",
              "      </button>\n",
              "\n",
              "<style>\n",
              "  .colab-df-quickchart {\n",
              "      --bg-color: #E8F0FE;\n",
              "      --fill-color: #1967D2;\n",
              "      --hover-bg-color: #E2EBFA;\n",
              "      --hover-fill-color: #174EA6;\n",
              "      --disabled-fill-color: #AAA;\n",
              "      --disabled-bg-color: #DDD;\n",
              "  }\n",
              "\n",
              "  [theme=dark] .colab-df-quickchart {\n",
              "      --bg-color: #3B4455;\n",
              "      --fill-color: #D2E3FC;\n",
              "      --hover-bg-color: #434B5C;\n",
              "      --hover-fill-color: #FFFFFF;\n",
              "      --disabled-bg-color: #3B4455;\n",
              "      --disabled-fill-color: #666;\n",
              "  }\n",
              "\n",
              "  .colab-df-quickchart {\n",
              "    background-color: var(--bg-color);\n",
              "    border: none;\n",
              "    border-radius: 50%;\n",
              "    cursor: pointer;\n",
              "    display: none;\n",
              "    fill: var(--fill-color);\n",
              "    height: 32px;\n",
              "    padding: 0;\n",
              "    width: 32px;\n",
              "  }\n",
              "\n",
              "  .colab-df-quickchart:hover {\n",
              "    background-color: var(--hover-bg-color);\n",
              "    box-shadow: 0 1px 2px rgba(60, 64, 67, 0.3), 0 1px 3px 1px rgba(60, 64, 67, 0.15);\n",
              "    fill: var(--button-hover-fill-color);\n",
              "  }\n",
              "\n",
              "  .colab-df-quickchart-complete:disabled,\n",
              "  .colab-df-quickchart-complete:disabled:hover {\n",
              "    background-color: var(--disabled-bg-color);\n",
              "    fill: var(--disabled-fill-color);\n",
              "    box-shadow: none;\n",
              "  }\n",
              "\n",
              "  .colab-df-spinner {\n",
              "    border: 2px solid var(--fill-color);\n",
              "    border-color: transparent;\n",
              "    border-bottom-color: var(--fill-color);\n",
              "    animation:\n",
              "      spin 1s steps(1) infinite;\n",
              "  }\n",
              "\n",
              "  @keyframes spin {\n",
              "    0% {\n",
              "      border-color: transparent;\n",
              "      border-bottom-color: var(--fill-color);\n",
              "      border-left-color: var(--fill-color);\n",
              "    }\n",
              "    20% {\n",
              "      border-color: transparent;\n",
              "      border-left-color: var(--fill-color);\n",
              "      border-top-color: var(--fill-color);\n",
              "    }\n",
              "    30% {\n",
              "      border-color: transparent;\n",
              "      border-left-color: var(--fill-color);\n",
              "      border-top-color: var(--fill-color);\n",
              "      border-right-color: var(--fill-color);\n",
              "    }\n",
              "    40% {\n",
              "      border-color: transparent;\n",
              "      border-right-color: var(--fill-color);\n",
              "      border-top-color: var(--fill-color);\n",
              "    }\n",
              "    60% {\n",
              "      border-color: transparent;\n",
              "      border-right-color: var(--fill-color);\n",
              "    }\n",
              "    80% {\n",
              "      border-color: transparent;\n",
              "      border-right-color: var(--fill-color);\n",
              "      border-bottom-color: var(--fill-color);\n",
              "    }\n",
              "    90% {\n",
              "      border-color: transparent;\n",
              "      border-bottom-color: var(--fill-color);\n",
              "    }\n",
              "  }\n",
              "</style>\n",
              "\n",
              "      <script>\n",
              "        async function quickchart(key) {\n",
              "          const quickchartButtonEl =\n",
              "            document.querySelector('#' + key + ' button');\n",
              "          quickchartButtonEl.disabled = true;  // To prevent multiple clicks.\n",
              "          quickchartButtonEl.classList.add('colab-df-spinner');\n",
              "          try {\n",
              "            const charts = await google.colab.kernel.invokeFunction(\n",
              "                'suggestCharts', [key], {});\n",
              "          } catch (error) {\n",
              "            console.error('Error during call to suggestCharts:', error);\n",
              "          }\n",
              "          quickchartButtonEl.classList.remove('colab-df-spinner');\n",
              "          quickchartButtonEl.classList.add('colab-df-quickchart-complete');\n",
              "        }\n",
              "        (() => {\n",
              "          let quickchartButtonEl =\n",
              "            document.querySelector('#df-6e81db8b-33bd-41a9-bda3-a3f9445b36e5 button');\n",
              "          quickchartButtonEl.style.display =\n",
              "            google.colab.kernel.accessAllowed ? 'block' : 'none';\n",
              "        })();\n",
              "      </script>\n",
              "    </div>\n",
              "\n",
              "  <div id=\"id_300d807e-850c-479e-ad4e-d0dec0543370\">\n",
              "    <style>\n",
              "      .colab-df-generate {\n",
              "        background-color: #E8F0FE;\n",
              "        border: none;\n",
              "        border-radius: 50%;\n",
              "        cursor: pointer;\n",
              "        display: none;\n",
              "        fill: #1967D2;\n",
              "        height: 32px;\n",
              "        padding: 0 0 0 0;\n",
              "        width: 32px;\n",
              "      }\n",
              "\n",
              "      .colab-df-generate:hover {\n",
              "        background-color: #E2EBFA;\n",
              "        box-shadow: 0px 1px 2px rgba(60, 64, 67, 0.3), 0px 1px 3px 1px rgba(60, 64, 67, 0.15);\n",
              "        fill: #174EA6;\n",
              "      }\n",
              "\n",
              "      [theme=dark] .colab-df-generate {\n",
              "        background-color: #3B4455;\n",
              "        fill: #D2E3FC;\n",
              "      }\n",
              "\n",
              "      [theme=dark] .colab-df-generate:hover {\n",
              "        background-color: #434B5C;\n",
              "        box-shadow: 0px 1px 3px 1px rgba(0, 0, 0, 0.15);\n",
              "        filter: drop-shadow(0px 1px 2px rgba(0, 0, 0, 0.3));\n",
              "        fill: #FFFFFF;\n",
              "      }\n",
              "    </style>\n",
              "    <button class=\"colab-df-generate\" onclick=\"generateWithVariable('data')\"\n",
              "            title=\"Generate code using this dataframe.\"\n",
              "            style=\"display:none;\">\n",
              "\n",
              "  <svg xmlns=\"http://www.w3.org/2000/svg\" height=\"24px\"viewBox=\"0 0 24 24\"\n",
              "       width=\"24px\">\n",
              "    <path d=\"M7,19H8.4L18.45,9,17,7.55,7,17.6ZM5,21V16.75L18.45,3.32a2,2,0,0,1,2.83,0l1.4,1.43a1.91,1.91,0,0,1,.58,1.4,1.91,1.91,0,0,1-.58,1.4L9.25,21ZM18.45,9,17,7.55Zm-12,3A5.31,5.31,0,0,0,4.9,8.1,5.31,5.31,0,0,0,1,6.5,5.31,5.31,0,0,0,4.9,4.9,5.31,5.31,0,0,0,6.5,1,5.31,5.31,0,0,0,8.1,4.9,5.31,5.31,0,0,0,12,6.5,5.46,5.46,0,0,0,6.5,12Z\"/>\n",
              "  </svg>\n",
              "    </button>\n",
              "    <script>\n",
              "      (() => {\n",
              "      const buttonEl =\n",
              "        document.querySelector('#id_300d807e-850c-479e-ad4e-d0dec0543370 button.colab-df-generate');\n",
              "      buttonEl.style.display =\n",
              "        google.colab.kernel.accessAllowed ? 'block' : 'none';\n",
              "\n",
              "      buttonEl.onclick = () => {\n",
              "        google.colab.notebook.generateWithVariable('data');\n",
              "      }\n",
              "      })();\n",
              "    </script>\n",
              "  </div>\n",
              "\n",
              "    </div>\n",
              "  </div>\n"
            ],
            "application/vnd.google.colaboratory.intrinsic+json": {
              "type": "dataframe",
              "variable_name": "data",
              "summary": "{\n  \"name\": \"data\",\n  \"rows\": 39723,\n  \"fields\": [\n    {\n      \"column\": \"text\",\n      \"properties\": {\n        \"dtype\": \"string\",\n        \"num_unique_values\": 39723,\n        \"samples\": [\n          \"There are similarities between Ray Lawrence's \\\"Jindabyne\\\" and his last movie \\\"Lantana\\\" \\u0096 a dead body and its repercussions for already dysfunctional lives. But whereas \\\"Lantana\\\" offered some hope and resolution, \\\"Jindabyne\\\" leaves everything unresolved in a bleak way that will leave most viewers unsatisfied, perhaps even cheated.<br /><br />The storyline - the aftermath of a fisherman's discovery of a corpse floating in a remote river - is based on a short story by Raymond Carver. It became an element in Robert Altman's classic 1993 ensemble \\\"Short Cuts\\\". Lawrence uses this theme for an exploration and exposition of relationships within a small Australian community under stress. The movie poses some moral questions \\\"Would you let the discovery of a dead body ruin your good weekend?\\\" and more poignantly for Australians \\\"Would it make any difference if the dead person was an aboriginal?\\\" The acting, especially by Gabriel Byrne and Laura Linney, is commendable. And there are elements of mysticism reinforced by haunting music, not unlike \\\"Picnic at Hanging Rock\\\".<br /><br />If all this sounds like the basis for a great movie - be prepared for a let down, the pace is very slow and the murder is shown near the beginning, thereby eliminating the element of mystery. And so we are left with these desolate lives and a blank finale.\",\n          \"Hammer House of Horror: Witching Time is set in rural England on Woodstock farm where stressed musician David Winter (Jon Finch) lives with his actress wife Mary (Prunella Gee) & is currently composing the music for a horror film. One night while looking for his dog Billy David finds a mysterious woman in his barn, calling herself Lucinda Jessop (Patricia Quinn) she claims to be a witch who has transported herself from 300 years in the past to now. Obviously rather sceptical David has a hard time believing her so he locks her in a room in his farmhouse & calls his doctor Charles (Ian McCulloch) to come examine her, however once he arrives & they enter the room Lucinda has disappeared. Charles puts it down to David drinking too much but over the next few day strange & disturbing things begin to happen to David & Mary...<br /><br />Witching Time was episode 1 from the short lived British anthology horror series produced by Hammer studios for TV & originally aired here in the UK during September 1980, the first of two Hammer House of Horror episodes to be directed by Don Leaver (episode 13 The Mark of Satan being the other) I actually rather liked this. As a series Hammer House of Horror dealt with various different themes & were all unconnected to each other except in name & unsurprisingly Watching Time is a sinister & effective little tale about a witch, the script by Anthony Read benefits from it's slight 50 odd minute duration & moves along at a nice pace. The character's are pretty good as is the dialogue, there are some nice scenes here & I liked the way it never quite reveals whether David & Mary are going crazy or not. I think it's a well structured, entertaining & reasonably creepy horror themed TV show that I enjoyed more than I thought I would.<br /><br />Being made for British TV meant the boys at Hammer had a lower budget than usual, if that was even possible, & as such there is no gorgeous period settings here as in their most well know Frankenstein & Dracula films although the contemporary English setting does give it a certain atmosphere that you can relate to a bit more. Another TV based restriction is that the exploitation levels are lower than you might hope for, there's some nudity & gore but not much although I didn't mind too much as the story here is pretty good. It's well made for what it is & Hammer's experience on their feature films probably helped make these look pretty good, the acting is good as well with genre favourite Ian McCulloch making a bit-part appearance.<br /><br />Witching Time is a good start to the Hammer House of Horror series, as a 50 minute piece of British TV it's pretty damned good, now why don't they make show's like this over here anymore?\",\n          \"What a great cast for this movie. The timing was excellent and there were so many clever lines-several times I was still laughing minutes after they were delivered. I found Manna From Heaven to have some surprising moments and while there were things I was thinking would happen, the way they came together was anything but predictable. This movie is about hope and righting wrongs. I left the theater feeling inspired to do the right thing. Bravo to the Five Sisters.\"\n        ],\n        \"semantic_type\": \"\",\n        \"description\": \"\"\n      }\n    },\n    {\n      \"column\": \"label\",\n      \"properties\": {\n        \"dtype\": \"number\",\n        \"std\": 0,\n        \"min\": 0,\n        \"max\": 1,\n        \"num_unique_values\": 2,\n        \"samples\": [\n          1,\n          0\n        ],\n        \"semantic_type\": \"\",\n        \"description\": \"\"\n      }\n    },\n    {\n      \"column\": \"idioma\",\n      \"properties\": {\n        \"dtype\": \"category\",\n        \"num_unique_values\": 1,\n        \"samples\": [\n          \"en\"\n        ],\n        \"semantic_type\": \"\",\n        \"description\": \"\"\n      }\n    }\n  ]\n}"
            }
          },
          "metadata": {},
          "execution_count": 16
        }
      ]
    },
    {
      "cell_type": "markdown",
      "id": "_ypyorGqwmRl",
      "metadata": {
        "id": "_ypyorGqwmRl"
      },
      "source": [
        "***\n",
        "\n",
        "# 3. Definición de *pipelines* de procesamiento"
      ]
    },
    {
      "cell_type": "markdown",
      "id": "4370a607-ad43-4c5d-bddd-1a9370469409",
      "metadata": {
        "id": "4370a607-ad43-4c5d-bddd-1a9370469409"
      },
      "source": [
        "***\n",
        "\n",
        "## 3.1. *Pipeline* de preprocesamiento\n",
        "\n",
        "Se construye el conjunto **`english_stop`** a partir de las *stop-words* inglesas de **`NLTK`** y se define la función **`clean_and_tokenize`**[¹]:"
      ]
    },
    {
      "cell_type": "code",
      "source": [
        "english_stop = set(stopwords.words('english'))\n",
        "\n",
        "# Función para limpiar y convertir las reseñas a listas de tokens de palabras\n",
        "def clean_and_tokenize(text):\n",
        "    # Regex:\n",
        "    # Ignorar strings entre los caracteres < > (tags HTML encontrados en el dataset)\n",
        "    # [a-z0-9]+ (letras y dígitos)\n",
        "    # [!?] (exclamación y preguntas)\n",
        "    text = re.sub(r'<[^>]+>', ' ', text).lower()\n",
        "    pattern = r\"[a-z0-9]+|[!?]\"\n",
        "    raw_tokens = re.findall(pattern, text)\n",
        "\n",
        "    # Filtrar stopwords solo en tokens alfanuméricos\n",
        "    cleaned = []\n",
        "    for tok in raw_tokens:\n",
        "        if re.fullmatch(r\"[a-z0-9]+\", tok):\n",
        "            if tok in english_stop:\n",
        "                continue\n",
        "        cleaned.append(tok)\n",
        "\n",
        "    return cleaned\n",
        "\n",
        "# Prueba\n",
        "print(clean_and_tokenize(data.loc[0, 'text']))"
      ],
      "metadata": {
        "id": "XlF68jZ8yWYn",
        "colab": {
          "base_uri": "https://localhost:8080/"
        },
        "outputId": "b926f993-5fa7-4785-f3e9-f23efe0079bd"
      },
      "id": "XlF68jZ8yWYn",
      "execution_count": 17,
      "outputs": [
        {
          "output_type": "stream",
          "name": "stdout",
          "text": [
            "['grew', 'b', '1965', 'watching', 'loving', 'thunderbirds', 'mates', 'school', 'watched', 'played', 'thunderbirds', 'school', 'lunch', 'school', 'wanted', 'virgil', 'scott', 'one', 'wanted', 'alan', 'counting', '5', 'became', 'art', 'form', 'took', 'children', 'see', 'movie', 'hoping', 'would', 'get', 'glimpse', 'loved', 'child', 'bitterly', 'disappointing', 'high', 'point', 'snappy', 'theme', 'tune', 'could', 'compare', 'original', 'score', 'thunderbirds', 'thankfully', 'early', 'saturday', 'mornings', 'one', 'television', 'channel', 'still', 'plays', 'reruns', 'series', 'gerry', 'anderson', 'wife', 'created', 'jonatha', 'frakes', 'hand', 'directors', 'chair', 'version', 'completely', 'hopeless', 'waste', 'film', 'utter', 'rubbish', 'cgi', 'remake', 'may', 'acceptable', 'replacing', 'marionettes', 'homo', 'sapiens', 'subsp', 'sapiens', 'huge', 'error', 'judgment']\n"
          ]
        }
      ]
    },
    {
      "cell_type": "markdown",
      "source": [
        "Se construye el vocabulario y define la función de codificación:\n",
        "\n",
        "1. **`all_tokens`** genera una lista con todos los tokens de cada reseña tras aplicar limpieza y tokenización.  \n",
        "2. Con **`Counter`** se calcula **`freq`**, el conteo de frecuencia de cada token.  \n",
        "3. Se crea **`vocab`** con las **TOP = 20 000** palabras más frecuentes, asignando índices a partir de **4**; los índices **0**, **1**, **2** y **3** quedan reservados para los símbolos especiales **`<PAD>`**, **`<UNK>`**, **`<SOS>`** y **`<EOS>`**, respectivamente.  \n",
        "4. **`encode(tokens, max_len)`** convierte una lista de tokens en su representación numérica usando **`vocab`**:  \n",
        "   - Cada token se mapea a su índice; los tokens fuera de vocabulario usan **`1`** (**`<UNK>`**).  \n",
        "   - La secuencia se recorta a **`max_len`** y se rellena con **`0`** (**`<PAD>`**) hasta esa longitud.  \n",
        "   - Aunque **`<SOS>`** y **`<EOS>`** marcadores de inicio y final que más adelante se colocarán en la clase **`IMDBDataset`**"
      ],
      "metadata": {
        "id": "TFInYXoOXHTh"
      },
      "id": "TFInYXoOXHTh"
    },
    {
      "cell_type": "code",
      "source": [
        "# Limpiar, tokenizar, y filtrar las palabras más comunes\n",
        "all_tokens = [tok for txt in data['text'] for tok in clean_and_tokenize(txt)]\n",
        "freq = Counter(all_tokens)\n",
        "TOP = 20_000\n",
        "vocab = {w:i+4 for i,(w,_) in enumerate(freq.most_common(TOP))}\n",
        "\n",
        "#Indicadores de padding, token desconocido, inicio y final de secuencia\n",
        "vocab.update({'<PAD>':0, '<UNK>':1, '<SOS>':2, '<EOS>':3})\n",
        "\n",
        "# Codificación: token -> valor numérico en vocab (id)...\n",
        "def encode(tokens, max_len):\n",
        "    # ...con id=1 para los tokens desconocidos (<UNK>)\n",
        "    seq = [vocab.get(t, 1) for t in tokens]\n",
        "    # Retornar la codificación con el padding apropiado\n",
        "    return seq[:max_len] + [vocab['<PAD>']] * max(0, max_len - len(seq))"
      ],
      "metadata": {
        "id": "zfp-stYtEt71"
      },
      "id": "zfp-stYtEt71",
      "execution_count": 18,
      "outputs": []
    },
    {
      "cell_type": "code",
      "source": [
        "# Prueba\n",
        "encode(['<SOS>'] + clean_and_tokenize(\"Uniandes MAIA\") + ['<EOS>'], max_len=10)\n",
        "\n",
        "# Los tokens 'Uniandes' y 'MAIA' no están presentes en el vocabulario,\n",
        "# de modo que se mapean a la entrada '<UNK>' -> 1"
      ],
      "metadata": {
        "colab": {
          "base_uri": "https://localhost:8080/"
        },
        "id": "KyJ7u9KsPwCL",
        "outputId": "66bf0f25-a5b6-4c1f-9fac-b43141f0f40d"
      },
      "id": "KyJ7u9KsPwCL",
      "execution_count": 19,
      "outputs": [
        {
          "output_type": "execute_result",
          "data": {
            "text/plain": [
              "[2, 1, 1, 3, 0, 0, 0, 0, 0, 0]"
            ]
          },
          "metadata": {},
          "execution_count": 19
        }
      ]
    },
    {
      "cell_type": "markdown",
      "source": [
        "**`load_google_vectors_npy`** y **`load_glove_vectors_txt`** cargan el **`.npy`** para *Word2Vec* y **`.txt`** para *Glove*. En ambos casos, devolviendo la matriz de *embeddings* respectiva:\n",
        "   - En el caso de *Word2Vec* es necesario hacer un \"truco\" para permitir que la función **`pickle.load`** pueda reconstruir objetos serializados incluso cuando la librería original no está instalada (en este caso **`gensim`**, que se evitó utilizar porque generaba varios conflictos con otras librerías)\n",
        "   - Se inicializa **`matrix`** con valores aleatorios de forma **`(len(vocab), emb_dim)`**.  \n",
        "   - Se abre **`model_file,`** o el **`txt_file`** y se lee la cabecera para extraer el total de palabras y la dimensión del *embedding*.\n",
        "   - Para cada *token* se valida si se encuentra en el vocabulario respectivo y lo reemplaza la fila correspondiente de **`matrix**` con ese vector.  \n",
        "   - Finalmente, se devuelve **`matrix`** con los vectores preentrenados donde estén disponibles.  "
      ],
      "metadata": {
        "id": "dFNdGo_cXGTs"
      },
      "id": "dFNdGo_cXGTs"
    },
    {
      "cell_type": "code",
      "source": [
        "#  Carga Word2Vec: Lee el fichero Word2Vec binario de Google News y devuelve la matriz de pesos\n",
        "def load_google_vectors_npy(model_file: str, vectors_npy: str, vocab: dict, emb_dim: int = 300) -> np.ndarray:\n",
        "\n",
        "    # Stubs para que pickle encuentre las clases ———\n",
        "    sys.modules['gensim'] = types.ModuleType('gensim')\n",
        "    sys.modules['gensim.models'] = types.ModuleType('gensim.models')\n",
        "    sys.modules['gensim.models.keyedvectors'] = types.ModuleType('gensim.models.keyedvectors')\n",
        "\n",
        "    class Word2VecKeyedVectors: pass\n",
        "    class Vocab: pass\n",
        "    sys.modules['gensim.models.keyedvectors'].Word2VecKeyedVectors = Word2VecKeyedVectors\n",
        "    sys.modules['gensim.models.keyedvectors'].Vocab = Vocab\n",
        "\n",
        "    # Inicializar matriz aleatoria\n",
        "    matrix = np.random.normal(scale=0.6, size=(len(vocab), emb_dim)).astype(np.float32)\n",
        "\n",
        "    #  Deserializar el modelo\n",
        "    with open(model_file, \"rb\") as f:\n",
        "        kv = pickle.load(f)\n",
        "\n",
        "    # Construir key_to_index si no existe\n",
        "    if not hasattr(kv, 'key_to_index') and hasattr(kv, 'vocab'):\n",
        "        # dict: palabra → Vocab(obj) donde obj.index es la posición\n",
        "        kv.key_to_index = {w: obj.index for w, obj in kv.vocab.items()}\n",
        "\n",
        "    # Cargar array .npy\n",
        "    all_vecs = np.load(vectors_npy, mmap_mode=\"r\")\n",
        "\n",
        "    # Rellenar la matriz\n",
        "    for word, idx in vocab.items():\n",
        "        if word in kv.key_to_index:\n",
        "            matrix[idx] = all_vecs[kv.key_to_index[word]]\n",
        "\n",
        "    return matrix\n",
        "\n",
        "w2v_weights = load_google_vectors_npy(model_file, vectors_npy, vocab, emb_dim=300)"
      ],
      "metadata": {
        "id": "nZt2seoiKfRy"
      },
      "id": "nZt2seoiKfRy",
      "execution_count": 20,
      "outputs": []
    },
    {
      "cell_type": "code",
      "source": [
        "# Carga de GloVe\n",
        "def load_glove_vectors_txt(txt_file: str, vocab: dict, emb_dim: int = 300) -> np.ndarray:\n",
        "\n",
        "    # Inicializar aleatoriamente aquellas palabras que no están en GloVe\n",
        "    matrix = np.random.normal(loc=0.0, scale=0.6, size=(len(vocab), emb_dim)).astype(np.float32)\n",
        "\n",
        "    # Iterar cada línea de GloVe, sin cargar todo el file\n",
        "    with open(txt_file, 'r', encoding='utf-8') as f:\n",
        "        for line in f:\n",
        "            parts = line.rstrip().split(' ')\n",
        "            word = parts[0]\n",
        "            # La línea debe tener la dimensión esperada\n",
        "            if len(parts) - 1 != emb_dim:\n",
        "                continue\n",
        "            # Guardar\n",
        "            if word in vocab:\n",
        "                vector = np.asarray(parts[1:], dtype=np.float32)\n",
        "                matrix[vocab[word]] = vector\n",
        "\n",
        "    return matrix\n",
        "\n",
        "%time glove_weights = load_glove_vectors_txt(txt_file=\"glove.6B.300d.txt\", vocab=vocab, emb_dim=300)"
      ],
      "metadata": {
        "id": "nNzNtqJTl-v2",
        "colab": {
          "base_uri": "https://localhost:8080/"
        },
        "outputId": "2343eaa7-a6da-4fcb-fae3-5503505b263d"
      },
      "id": "nNzNtqJTl-v2",
      "execution_count": 21,
      "outputs": [
        {
          "output_type": "stream",
          "name": "stdout",
          "text": [
            "CPU times: user 7.52 s, sys: 433 ms, total: 7.96 s\n",
            "Wall time: 8.02 s\n"
          ]
        }
      ]
    },
    {
      "cell_type": "code",
      "source": [
        "# Se verifica el tamaño del vocabulario 20.000 + 4 items añadidos posteriormente {'<PAD>':0, '<UNK>':1, '<SOS>':2, '<EOS>':3}\n",
        "len(vocab)"
      ],
      "metadata": {
        "colab": {
          "base_uri": "https://localhost:8080/"
        },
        "id": "O0gQXVGK14tx",
        "outputId": "424773ce-7a26-42f6-d657-879d5c08a52e"
      },
      "id": "O0gQXVGK14tx",
      "execution_count": 22,
      "outputs": [
        {
          "output_type": "execute_result",
          "data": {
            "text/plain": [
              "20004"
            ]
          },
          "metadata": {},
          "execution_count": 22
        }
      ]
    },
    {
      "cell_type": "markdown",
      "source": [
        "Estos vectores se caracterizan por capturar relaciones semántico-geométricas (`king − man + woman ≈ queen`) y en su momento mejoraron sustancialmente las tareas de analogías y similitud frente a métodos previos.Tienen un amplio vocabulario y la granularidad de 300 dimensiones hacen que todavía sea un punto de partida competitivo para tareas de **PLN** en inglés, sobre todo cuando el *corpus* propio es pequeño o se busca ahorrar tiempo de entrenamiento."
      ],
      "metadata": {
        "id": "MFBM8AiDXFqo"
      },
      "id": "MFBM8AiDXFqo"
    },
    {
      "cell_type": "markdown",
      "source": [
        "Generamos una nube de palabras para ver las **100** ocurrencias más frecuentes de los textos preprocesados. El tamaño de las palabras es proporcional a su frecuencia, mientras que el color, en este caso, es un elemento puramente decorativo y aleatorio."
      ],
      "metadata": {
        "id": "IOYz0UWa9jRl"
      },
      "id": "IOYz0UWa9jRl"
    },
    {
      "cell_type": "code",
      "source": [
        "def generar_wordcloud(X: pd.DataFrame):\n",
        "\n",
        "  # Pre-procesamiento común\n",
        "  X_preprocesado = X.text.apply(lambda x: clean_and_tokenize(x))\n",
        "  texto_nube = ' '.join(w for text in X_preprocesado for w in text)\n",
        "\n",
        "  # Generación de nube de palabras\n",
        "  wordcloud = WordCloud(\n",
        "      width=900,\n",
        "      height=250,\n",
        "      background_color ='white',\n",
        "      min_font_size=10,\n",
        "      max_font_size=110,\n",
        "      max_words=100\n",
        "  ).generate(texto_nube)\n",
        "\n",
        "  # Plot\n",
        "  plt.figure(figsize=(10, 10))\n",
        "  plt.imshow(wordcloud)\n",
        "  plt.axis('off')\n",
        "  plt.show()"
      ],
      "metadata": {
        "id": "sBwcvN1xtktk"
      },
      "id": "sBwcvN1xtktk",
      "execution_count": 36,
      "outputs": []
    },
    {
      "cell_type": "code",
      "source": [
        "%time generar_wordcloud(data)"
      ],
      "metadata": {
        "id": "3Rof6FeuAQNF",
        "colab": {
          "base_uri": "https://localhost:8080/",
          "height": 289
        },
        "outputId": "ef7217a8-7a8c-4a38-e0e7-c67c22692a58"
      },
      "id": "3Rof6FeuAQNF",
      "execution_count": 37,
      "outputs": [
        {
          "output_type": "display_data",
          "data": {
            "text/plain": [
              "<Figure size 1000x1000 with 1 Axes>"
            ],
            "image/png": "[encoded data removed]"
          },
          "metadata": {}
        },
        {
          "output_type": "stream",
          "name": "stdout",
          "text": [
            "CPU times: user 43.3 s, sys: 1.49 s, total: 44.8 s\n",
            "Wall time: 49.4 s\n"
          ]
        }
      ]
    },
    {
      "cell_type": "markdown",
      "source": [
        "A continuación se hace una proyección 3D del espacio vectorial determinado tanto por *GloVe* como por *Word2Vec* utilizando *t-SNE*. Esto nos permitirá tener una mejor idea de cómo funcionan estos *embedding*, y el modo en el que se relacionan las palabras con estos pesos pre-entrenados."
      ],
      "metadata": {
        "id": "iNMnXERr2jSu"
      },
      "id": "iNMnXERr2jSu"
    },
    {
      "cell_type": "code",
      "source": [
        "# Muestra del vocabulario a tomar\n",
        "N = 500\n",
        "palabras = list(vocab.keys())[:N]\n",
        "vectores_w2v   = np.stack([w2v_weights[vocab[p]]   for p in palabras])\n",
        "vectores_glove = np.stack([glove_weights[vocab[p]] for p in palabras])\n",
        "\n",
        "# Concatenar y normalizar\n",
        "V = np.vstack([vectores_w2v, vectores_glove])\n",
        "V = StandardScaler().fit_transform(V)\n",
        "\n",
        "# PCA para reducción inicial (p. ej. a 50 dimensiones)\n",
        "pca = PCA(n_components=50, random_state=13)\n",
        "V_pca = pca.fit_transform(V)\n",
        "\n",
        "# Mapeo t-SNE en 3D\n",
        "tsne = TSNE(n_components=3,perplexity=40,init='pca',random_state=13,learning_rate='auto')\n",
        "X_tsne = tsne.fit_transform(V_pca)\n",
        "\n",
        "# Preparar DataFrame para Plotly\n",
        "etiquetas = ['Word2Vec'] * N + ['GloVe'] * N\n",
        " # una lista de 2N: primera mitad Word2Vec, segunda mitad GloVe\n",
        "palabras_total = palabras + palabras\n",
        "\n",
        "df = pd.DataFrame({'x':        X_tsne[:, 0],\n",
        "                    'y':        X_tsne[:, 1],\n",
        "                    'z':        X_tsne[:, 2],\n",
        "                    'palabra':  palabras_total,\n",
        "                    'modelo':   etiquetas\n",
        "                })\n",
        "\n",
        "# Gráfico interactivo 3D\n",
        "fig = px.scatter_3d(df, x='x', y='y', z='z',\n",
        "                    color='modelo',\n",
        "                    hover_name='palabra',\n",
        "                    title='t-SNE 3D — Word2Vec vs. GloVe')\n",
        "fig.update_traces(marker=dict(size=3))\n",
        "fig.show()"
      ],
      "metadata": {
        "colab": {
          "base_uri": "https://localhost:8080/",
          "height": 542
        },
        "id": "VMKUatkRMTY6",
        "outputId": "946ae2c6-ef89-4d23-9c06-455d6afefd62"
      },
      "id": "VMKUatkRMTY6",
      "execution_count": 25,
      "outputs": [
        {
          "output_type": "display_data",
          "data": {
            "text/html": [
              "<html>\n",
              "<head><meta charset=\"utf-8\" /></head>\n",
              "<body>\n",
              "    <div>            <script src=\"https://cdnjs.cloudflare.com/ajax/libs/mathjax/2.7.5/MathJax.js?config=TeX-AMS-MML_SVG\"></script><script type=\"text/javascript\">if (window.MathJax && window.MathJax.Hub && window.MathJax.Hub.Config) {window.MathJax.Hub.Config({SVG: {font: \"STIX-Web\"}});}</script>                <script type=\"text/javascript\">window.PlotlyConfig = {MathJaxConfig: 'local'};</script>\n",
              "        <script charset=\"utf-8\" src=\"https://cdn.plot.ly/plotly-2.35.2.min.js\"></script>                <div id=\"e8feed73-6538-4e23-8abe-667beba91e1b\" class=\"plotly-graph-div\" style=\"height:525px; width:100%;\"></div>            <script type=\"text/javascript\">                                    window.PLOTLYENV=window.PLOTLYENV || {};                                    if (document.getElementById(\"e8feed73-6538-4e23-8abe-667beba91e1b\")) {                    Plotly.newPlot(                        \"e8feed73-6538-4e23-8abe-667beba91e1b\",                        [{\"hovertemplate\":\"\\u003cb\\u003e%{hovertext}\\u003c\\u002fb\\u003e\\u003cbr\\u003e\\u003cbr\\u003emodelo=Word2Vec\\u003cbr\\u003ex=%{x}\\u003cbr\\u003ey=%{y}\\u003cbr\\u003ez=%{z}\\u003cextra\\u003e\\u003c\\u002fextra\\u003e\",\"hovertext\":[\"movie\",\"film\",\"one\",\"!\",\"like\",\"?\",\"good\",\"time\",\"even\",\"would\",\"really\",\"story\",\"see\",\"well\",\"much\",\"get\",\"bad\",\"also\",\"people\",\"great\",\"first\",\"made\",\"make\",\"way\",\"could\",\"movies\",\"characters\",\"think\",\"character\",\"watch\",\"films\",\"two\",\"seen\",\"many\",\"love\",\"plot\",\"never\",\"life\",\"acting\",\"best\",\"show\",\"little\",\"know\",\"ever\",\"man\",\"better\",\"end\",\"scene\",\"still\",\"say\",\"scenes\",\"something\",\"go\",\"back\",\"real\",\"thing\",\"watching\",\"actors\",\"director\",\"years\",\"though\",\"10\",\"funny\",\"old\",\"work\",\"actually\",\"another\",\"look\",\"nothing\",\"makes\",\"going\",\"find\",\"new\",\"lot\",\"every\",\"part\",\"world\",\"us\",\"cast\",\"things\",\"horror\",\"quite\",\"pretty\",\"want\",\"around\",\"seems\",\"young\",\"big\",\"take\",\"however\",\"enough\",\"got\",\"thought\",\"fact\",\"long\",\"give\",\"series\",\"may\",\"music\",\"right\",\"comedy\",\"guy\",\"action\",\"must\",\"without\",\"always\",\"times\",\"original\",\"saw\",\"almost\",\"gets\",\"role\",\"come\",\"done\",\"interesting\",\"point\",\"least\",\"whole\",\"bit\",\"far\",\"script\",\"2\",\"feel\",\"family\",\"minutes\",\"might\",\"last\",\"making\",\"anything\",\"since\",\"probably\",\"tv\",\"away\",\"performance\",\"kind\",\"yet\",\"girl\",\"fun\",\"woman\",\"anyone\",\"worst\",\"rather\",\"sure\",\"hard\",\"played\",\"day\",\"found\",\"screen\",\"especially\",\"looking\",\"although\",\"believe\",\"course\",\"trying\",\"dvd\",\"everything\",\"set\",\"ending\",\"comes\",\"goes\",\"maybe\",\"put\",\"three\",\"let\",\"book\",\"shows\",\"place\",\"worth\",\"different\",\"actor\",\"sense\",\"main\",\"american\",\"someone\",\"true\",\"looks\",\"effects\",\"watched\",\"reason\",\"play\",\"everyone\",\"money\",\"war\",\"together\",\"year\",\"job\",\"1\",\"high\",\"plays\",\"instead\",\"audience\",\"said\",\"black\",\"later\",\"half\",\"seem\",\"takes\",\"special\",\"night\",\"left\",\"seeing\",\"beautiful\",\"john\",\"wife\",\"shot\",\"excellent\",\"house\",\"idea\",\"star\",\"version\",\"mind\",\"else\",\"death\",\"fan\",\"men\",\"budget\",\"nice\",\"used\",\"father\",\"short\",\"simply\",\"poor\",\"3\",\"read\",\"completely\",\"along\",\"second\",\"top\",\"help\",\"less\",\"home\",\"boring\",\"dead\",\"kids\",\"either\",\"hollywood\",\"line\",\"friends\",\"try\",\"low\",\"given\",\"wrong\",\"enjoy\",\"camera\",\"full\",\"women\",\"use\",\"classic\",\"production\",\"school\",\"stupid\",\"need\",\"couple\",\"performances\",\"rest\",\"next\",\"truly\",\"awful\",\"video\",\"start\",\"sex\",\"recommend\",\"tell\",\"mean\",\"perhaps\",\"terrible\",\"understand\",\"getting\",\"face\",\"remember\",\"moments\",\"came\",\"name\",\"keep\",\"small\",\"perfect\",\"person\",\"playing\",\"human\",\"style\",\"definitely\",\"boy\",\"early\",\"mother\",\"wonderful\",\"head\",\"others\",\"episode\",\"often\",\"stars\",\"written\",\"piece\",\"dialogue\",\"lines\",\"live\",\"gives\",\"children\",\"case\",\"yes\",\"laugh\",\"friend\",\"lost\",\"loved\",\"finally\",\"certainly\",\"title\",\"absolutely\",\"oh\",\"went\",\"entertaining\",\"liked\",\"sort\",\"cinema\",\"worse\",\"felt\",\"picture\",\"mr\",\"become\",\"overall\",\"hope\",\"5\",\"several\",\"drama\",\"entire\",\"based\",\"supposed\",\"sound\",\"called\",\"white\",\"guys\",\"dark\",\"problem\",\"4\",\"fans\",\"care\",\"waste\",\"beginning\",\"lead\",\"game\",\"humor\",\"seemed\",\"lives\",\"wanted\",\"direction\",\"despite\",\"totally\",\"guess\",\"evil\",\"final\",\"throughout\",\"example\",\"already\",\"becomes\",\"unfortunately\",\"son\",\"able\",\"turn\",\"quality\",\"killer\",\"michael\",\"b\",\"history\",\"wants\",\"days\",\"heart\",\"side\",\"flick\",\"writing\",\"amazing\",\"fine\",\"god\",\"horrible\",\"matter\",\"run\",\"art\",\"kill\",\"close\",\"act\",\"town\",\"etc\",\"child\",\"works\",\"behind\",\"turns\",\"viewer\",\"today\",\"genre\",\"tries\",\"brilliant\",\"stuff\",\"late\",\"parts\",\"past\",\"eyes\",\"kid\",\"directed\",\"expect\",\"enjoyed\",\"gave\",\"girls\",\"hand\",\"soon\",\"obviously\",\"car\",\"favorite\",\"highly\",\"stop\",\"hour\",\"actress\",\"city\",\"sometimes\",\"thinking\",\"killed\",\"type\",\"daughter\",\"self\",\"blood\",\"group\",\"starts\",\"decent\",\"says\",\"voice\",\"heard\",\"happens\",\"took\",\"writer\",\"fight\",\"known\",\"anyway\",\"except\",\"slow\",\"experience\",\"feeling\",\"coming\",\"leave\",\"stories\",\"score\",\"roles\",\"involved\",\"hero\",\"moment\",\"happen\",\"lack\",\"violence\",\"chance\",\"complete\",\"told\",\"ok\",\"crap\",\"particularly\",\"hit\",\"cool\",\"simple\",\"save\",\"extremely\",\"police\",\"wonder\",\"hell\",\"age\",\"strong\",\"living\",\"please\",\"david\",\"cannot\",\"hilarious\",\"song\",\"looked\",\"attempt\",\"serious\",\"taken\",\"robert\",\"including\",\"obvious\",\"cut\",\"murder\",\"ago\",\"shown\",\"brother\",\"james\",\"happened\",\"husband\",\"released\",\"gore\",\"reality\",\"exactly\",\"none\",\"english\",\"seriously\",\"jokes\",\"running\",\"possible\",\"alone\",\"across\",\"opening\",\"cinematography\",\"sad\",\"usually\",\"number\",\"interest\",\"order\"],\"legendgroup\":\"Word2Vec\",\"marker\":{\"color\":\"#636efa\",\"symbol\":\"circle\",\"size\":3},\"mode\":\"markers\",\"name\":\"Word2Vec\",\"scene\":\"scene\",\"showlegend\":true,\"x\":[17.40194,18.481195,-2.8996682,19.62778,-5.874382,-7.3508887,-17.811565,-4.843427,1.7147946,-11.207918,-0.6153391,14.344794,-16.78575,-3.2497883,-0.3689682,-25.1381,-11.2316,3.1429949,14.101243,-20.114592,-12.809891,-19.263685,-22.269016,-5.6922398,-8.604701,17.979227,13.452049,-4.4854283,13.155748,-28.744078,19.422731,-1.1038837,6.572212,6.0003877,-21.200727,16.271107,7.552419,15.798549,18.143435,-13.2748575,12.500275,-1.7920063,-8.894417,5.2524753,17.476458,-15.407242,-16.825617,6.3867836,-2.420083,-13.691551,8.6476,6.391441,-22.858957,-13.901834,-2.2768774,7.950467,-28.108902,14.329156,-9.882683,-1.8193159,0.7211055,13.29532,-14.153435,15.846804,-0.8636519,-2.6286604,-5.9146,-18.977636,8.45072,-11.058909,-17.874546,-13.1764,-0.77953416,1.0025164,-4.0719004,1.5291374,3.5417848,4.1447825,20.733145,4.7396054,11.041872,-1.8055674,1.402103,-15.349581,-6.8511972,-6.7646847,11.846333,-18.680208,-24.946537,3.712839,-5.0305495,-25.598902,-2.9881487,8.771552,1.8505262,-22.464666,13.194394,-7.7624283,13.861184,-17.935919,12.452164,2.0725846,18.581179,-11.243942,-4.674132,3.7910874,-4.3101177,18.855532,-29.46188,0.18568666,-20.14136,8.320279,-22.35878,-6.2828426,-18.28949,-8.753419,0.95472246,-2.0727215,-3.4663537,0.6607582,15.824723,-6.05405,-0.637109,20.21599,0.8816038,-6.402893,-8.897492,-20.299036,10.796513,-9.369508,-4.371267,-1.9490143,-8.573353,13.006298,1.869927,-1.3957572,22.123764,-17.147718,21.381855,13.760481,-10.329635,8.654641,-7.65443,-11.348228,-18.289297,-0.8198661,-11.687431,23.636953,0.4713527,-22.236345,-0.08089566,-12.868259,1.3008096,-17.895601,0.28302586,6.234336,-18.854559,-17.89734,-15.7435055,-18.100185,-6.1935334,-27.028149,-3.1667,-22.847359,26.824015,12.196003,-8.4490185,0.3554914,-22.070074,22.273178,4.6801243,-11.774291,-2.3917434,15.2073765,2.0573115,-20.70491,15.318202,-31.02682,11.086777,-15.709706,8.585016,-8.182371,6.8591065,-16.557062,0.9161567,-5.367055,-6.394805,-5.675114,-14.070462,9.497009,22.206467,-8.650252,-5.6679516,-10.747094,-8.926813,-5.4254355,-15.933405,1.6627421,-0.8928847,-16.578962,-19.807785,-24.081976,4.387891,29.351349,-15.080732,-19.278238,14.78128,8.785203,21.755432,21.477606,1.6240622,11.241849,25.509224,10.33142,10.376243,15.020799,-17.467083,5.395972,24.502388,4.688313,5.1696014,-9.477821,-3.6049247,10.319499,10.67428,-2.3095798,-12.632278,-9.87282,-10.356769,4.8774767,12.65325,-11.087442,27.423466,0.0906093,3.641281,-0.9786143,-2.5929506,22.385826,-18.818922,-5.4596725,-19.342268,-8.322811,-27.026264,27.154167,-6.500006,7.942308,6.55784,-5.8890877,15.359487,14.865202,-4.6756344,-12.6266365,-3.9182367,15.658561,-7.454097,-11.666296,5.618717,-10.035616,25.397207,-18.660784,9.74145,3.740294,-12.527716,-10.302452,-3.2677538,-7.8818154,-9.909543,-26.133074,-9.041338,-10.934217,21.332264,-29.709257,20.850815,-28.254744,7.6732936,-12.042247,16.64986,-18.566496,8.4726925,-2.0606675,0.37250715,18.885448,-14.487959,22.722118,-22.381506,-11.11385,12.146244,8.796496,18.629549,21.717808,23.410555,19.797285,21.651274,0.4385641,10.19895,-21.277708,15.517734,12.763176,2.417694,-14.940015,25.676062,-23.998621,-23.310514,-12.460205,0.09309155,29.166307,8.102874,1.1218259,-31.607683,-16.76863,-21.041119,-1.1557976,22.173082,-8.845257,-2.1114464,21.481115,2.2754388,-3.3621285,-7.901594,-17.236408,-5.7944407,1.3192453,9.702568,1.336012,4.808705,-14.9325485,-0.11447232,-13.778806,-7.249018,-0.8622208,-2.572597,6.1208067,-7.861478,8.24998,6.2299633,6.1083975,-15.474982,-20.942865,-15.845864,-13.0054865,-4.006107,13.854649,-19.56209,-3.2346616,-6.711576,12.3312235,-5.551009,10.706368,-15.02978,-1.602578,13.86083,2.0992963,-7.03961,-10.7140875,26.995756,-11.195322,-25.421246,7.8550715,29.18646,3.527029,2.1494756,6.4804378,-16.731293,-3.5888524,0.23698883,-12.975584,18.065016,23.932384,-19.597876,-36.825897,6.009353,-8.262262,9.423959,-20.294958,23.741508,-28.314436,-9.472922,14.230384,17.103321,-0.695887,18.932652,-0.3738208,-13.768503,-28.077429,24.664684,-3.414871,16.924086,-20.551771,-8.781671,5.439595,-13.453153,6.524119,-4.586885,-5.587886,1.7656542,19.611792,-12.893187,-28.514486,-26.179832,11.543202,-9.510087,-5.8920302,-3.0302367,18.729004,-15.829368,7.5082374,-27.372068,-1.9740379,24.89416,16.530586,17.057629,-0.79404324,26.351543,2.8436902,26.21477,11.276406,7.643546,4.926395,-22.228489,-20.70371,-8.469392,23.562744,-14.684956,-15.626991,-30.596355,20.073353,-24.75562,2.6841574,-6.058319,-2.1627645,-26.126781,0.6861724,1.6340312,-19.422081,-21.164518,11.581794,-12.529448,11.180654,-6.8495693,23.359158,17.766747,-14.071295,2.3198996,19.976065,-14.895452,-3.2574418,-12.485641,-2.1988685,-1.6666938,1.2386466,-16.097149,-4.1227236,0.6482967,-10.805747,2.8453097,19.927708,-7.2300043,1.2035698,14.929259,-3.3870366,12.905311,4.704484,2.1999433,7.173644,-16.104849,12.755815,-25.020275,-20.139668,17.595901,-29.71129,6.311204,-1.7973933,-11.832545,-25.479322,24.634466,-6.8174696,9.776039,28.594982,5.3461466,-15.02245,25.807219,2.1114564,13.345514,10.465463,2.001054,4.800565,-5.0582113,15.712526,-14.867679,-20.427916,-5.5268345,5.0765867,-4.091954,-15.34273,14.909323,-10.516976,19.071632,2.9454005,7.900101,6.581457],\"y\":[5.4353414,5.7096786,-6.357324,-17.089985,-25.989449,-6.694595,-22.2091,-2.2772942,-14.759181,-17.09544,-32.442333,-5.450801,-30.108427,-7.2088685,-18.24062,-18.101,-25.386309,-5.870446,-9.885317,-25.196007,1.0046076,-9.738202,-8.375323,-16.968388,-16.73093,9.503569,4.738848,-34.15866,1.0384221,-33.585266,9.895547,8.519692,-15.804455,-5.7820745,-36.13907,0.8257557,-28.051828,-7.2964253,-9.967963,-17.421179,-10.539225,-29.853464,-35.51459,-17.25655,-7.453244,-19.61127,-0.48992792,7.0351105,-8.753571,-32.13676,8.078745,-35.591137,-14.870928,-6.8898473,-19.147139,-39.18871,-31.581884,6.746668,-11.087611,4.5292053,-11.926717,21.87079,-40.10474,-4.731933,-17.136196,-21.590435,-6.6549306,-28.027933,-31.723326,-29.257103,-14.920831,-28.562387,-1.1886442,-34.762974,-8.002477,-2.9668126,-8.570783,-29.623863,-8.31121,-35.696365,7.9029903,-28.374725,-31.443424,-22.412363,-2.4806013,-30.42958,-5.466147,-22.71026,-12.816188,-11.174014,-18.181446,-20.597332,-35.635765,-17.750914,-9.336016,-16.90177,-7.0026593,-20.001034,6.706749,-9.697703,2.6649785,-39.331608,-14.79945,-21.998251,-12.536459,-28.916647,-0.2601739,-6.2987537,-23.731876,-4.847978,-25.185215,-7.842064,-11.070518,-25.335962,-27.733976,-10.224087,-8.39657,-21.479912,-32.32818,-12.802714,1.5259331,9.915873,-40.951267,-8.538191,-0.6560484,-20.258247,3.2998543,-6.519579,-34.24909,2.6572542,-25.698643,-26.52454,-5.9658113,-2.4499314,-27.445621,-14.398036,-10.645885,-34.801403,-7.218855,-29.881151,-20.241245,-13.589243,-30.964014,-18.276043,-12.496443,-1.9700019,-11.687369,-5.1666675,-23.117975,-27.395613,-9.876225,-33.528355,-8.208207,-18.312004,-24.070797,-32.262207,4.36564,0.89855766,-26.303297,-29.4958,-29.904285,-13.252471,8.146805,-13.0410185,-10.305048,-12.019408,-3.700166,-2.4936728,-12.118296,1.9012074,-38.744884,-1.3288791,-31.781096,-29.441147,-16.804777,-29.17551,-14.782665,-29.834297,-19.79103,-9.693734,-30.644165,-16.397173,-1.6063173,-10.5274725,1.5703776,-14.570207,13.483365,-3.5882392,-9.66375,-11.9684725,-13.266497,-16.208834,-0.90920556,7.7969074,8.1100235,-30.012321,-27.10434,0.9922149,-3.6183968,-4.820346,-31.94207,-31.475313,-28.152592,-9.646321,-2.664011,-20.388943,-3.9096255,-34.54171,5.3622437,-7.9321475,-22.990292,-33.80872,-8.424136,-37.637474,-8.296148,-2.0468266,-28.170723,-21.910515,-10.702718,-8.588268,-17.513382,0.9576692,12.410106,-22.39247,-22.08883,-4.8948274,4.383674,-0.9872736,-13.6313305,-11.296648,-0.6618576,-35.371525,-5.438941,-45.702427,-15.7982435,-28.98799,7.2932277,-4.794248,-14.619549,-0.7827351,-15.055284,-20.381784,-25.540403,-4.965783,3.1810212,-9.592994,-22.285612,-13.031635,-4.733514,-2.1642997,-33.087803,-23.680725,10.692913,-3.9626884,-7.3743534,3.4556782,-19.79528,-29.913795,-4.940338,-0.8230509,-1.5297757,-29.105427,-37.01073,-24.404165,-24.65127,-26.920033,-38.461517,-21.110033,-0.7638451,-34.567116,-32.812336,-19.598333,-12.0356,-4.7140665,-1.087523,-15.314794,-14.193478,-9.4620495,-4.944257,-15.348116,-32.19795,-11.5511465,1.1384823,-11.989222,-29.153185,-11.489915,-9.873743,1.6676286,-20.625715,5.795867,-6.700659,-21.61279,-14.085786,7.6584167,-6.728421,-20.583282,-11.331325,-15.962166,-27.597275,-40.499226,-5.2875967,0.8521986,-34.451916,-6.541832,-27.435698,-13.868069,-24.791288,-30.391047,-18.582848,-35.16815,-29.932442,-26.599264,7.068361,-21.521658,-37.74549,-18.373737,-30.679024,-25.54191,-4.648732,-25.997547,15.659404,8.686142,2.7281816,-0.60944873,4.1159005,-12.573462,-18.101185,-9.274182,-2.232499,-40.222324,-5.03815,-21.810513,12.38095,-37.15342,-12.982208,-11.110071,-3.9174628,6.719875,-6.1049185,-44.996494,-33.886368,-11.4852915,-20.248688,-14.342141,3.094745,-23.043226,-34.73426,-29.60639,5.4044437,1.8864346,-20.500345,-5.8641453,-27.861341,-25.98196,-13.667106,-18.318521,-8.512717,-2.6717458,-10.441641,-35.22488,-23.701302,-14.095076,-20.23411,1.7787017,-11.744514,-7.3411865,7.285569,-8.500596,-28.916016,-4.4878545,-30.513584,-29.830984,-26.522408,-2.1233087,-0.20995684,-6.5051804,-1.6998858,-14.442654,-5.774874,-26.075575,-9.493199,-19.121103,-3.2331982,-6.400304,-11.765099,-2.3059509,7.9098186,-13.7553215,-14.130173,-38.97298,4.178143,-1.4079592,3.9138467,-13.653559,-43.081314,-5.6903825,-28.703669,-23.504604,-18.31132,-13.036898,-11.241141,-9.758472,-29.824656,-2.1757457,-0.18382096,-14.531063,-1.9630227,1.1016662,1.5685993,-5.025303,-23.916399,-38.225307,-2.3615117,-19.025784,-13.057713,-9.075335,-4.2505674,-0.45862755,-0.9207536,-19.188286,-15.930996,-16.278364,-17.579433,-35.079613,-15.990055,-2.219237,-11.473102,-14.2034,-24.478607,-11.814567,2.4555812,-10.756654,-39.71945,-9.310875,-5.6648088,-6.0935426,-7.9100313,-7.5725293,-21.300695,0.79204917,-33.291534,-36.211945,-18.647526,-10.716325,-13.494779,0.58662355,-17.389566,-30.41126,-34.90975,-22.440605,-0.4401217,-24.487717,-15.620669,10.609195,-26.118267,-2.7468436,-39.653988,-35.311836,-1.6921349,-7.88386,-8.907396,-23.911234,-32.80354,-18.442137,-40.36564,7.7809362,-27.177002,-17.845417,-28.06921,-12.355944,-32.336536,5.5474706,-26.324018,-0.63025147,-9.441306,6.50336,-15.222544,-9.952444,-30.675379,-38.410305,-8.529995,-5.1393595,12.748627,-17.457447,-23.108547,-8.026646,-27.176188,-28.63924,-43.826252,-4.152907,-14.8129425,-1.4121078,-1.1194676,8.208676,12.653368,-32.256958,-22.843073,5.4728737,-6.762277,4.8649774],\"z\":[35.14005,31.416056,-2.717843,17.64942,6.207856,-32.12111,12.026878,1.9646238,-5.172071,-13.672231,2.740032,30.755829,-7.2445517,-19.390902,-3.2874577,-6.1075644,13.372071,-13.356193,3.5733,10.409158,-9.958031,-18.550547,-15.60858,1.5120698,-11.573973,34.989475,28.509785,-0.17662503,27.57246,-5.509034,31.300697,-5.8606057,-26.17399,-6.379171,8.11051,25.78423,-1.4369497,12.454546,-6.542017,16.022486,-21.263205,8.086425,-0.50953865,10.390892,22.474102,11.003844,-13.134677,27.210339,-8.557527,-0.83654916,29.53083,-0.8742736,-7.8044457,-2.2358727,7.4791174,1.7910709,-3.379548,32.257843,-30.564,1.5391632,-8.776776,28.488901,15.214012,17.33505,-19.198372,0.25533402,-5.146786,-10.361451,1.5260155,-18.347378,-8.010941,-4.608382,-10.71914,6.236248,1.6479313,-18.375484,10.480912,9.574074,-22.433344,3.0992992,34.74425,-6.9536467,-7.4746494,-6.8785024,-12.557793,-15.010566,15.892372,6.2431693,-12.539545,-12.117382,-7.215526,-9.397222,-4.721522,-1.2909837,-18.246511,-15.847237,-18.122046,-15.462455,19.943304,-4.0437403,36.31903,12.152719,-12.123955,-13.613348,-7.816626,-0.16569567,-2.5592117,-16.198034,-13.455578,-0.845509,-18.441376,-32.390503,-9.643464,-6.9905176,17.169493,-1.513622,-3.6982617,4.526357,9.300716,-16.449974,32.67289,-15.986038,-4.7104077,13.57034,9.75548,-12.248143,-5.3358903,-18.057962,2.3421457,-1.5201186,-2.3751972,28.735485,7.962045,-25.092184,4.0902433,-11.794357,25.545664,12.886371,22.685606,7.143155,18.440292,-6.2092896,-3.2415698,2.4849854,20.969471,3.7569604,-18.483799,-22.65149,-6.6921663,-8.547706,-11.934766,-3.575864,3.1275358,-3.1921577,30.243706,4.7196293,-6.4436693,-16.279657,-18.807402,-19.609562,3.069207,-8.193672,-8.310483,-3.421153,-7.6272864,-23.852448,-0.8937607,-4.9707255,10.423954,29.186146,-3.8195193,-20.921537,26.354492,3.823633,6.783519,-13.401785,-15.885959,-6.3303075,-5.9670424,17.067625,8.916181,-2.774322,4.570448,7.7540708,0.090317376,-22.074492,-17.543476,-27.762302,20.365448,-10.201773,-22.719425,-24.714806,16.3549,-3.62183,-9.385763,-10.724029,-22.246748,-8.701596,7.2059827,1.2050002,-6.2358003,13.317796,26.95205,21.37485,7.0593095,17.089134,7.4081054,-5.6702394,17.110935,-17.500969,9.541575,7.1169367,6.757231,-16.601816,20.607193,-5.0234976,8.287049,-21.840271,16.24505,-20.461357,-4.924024,-30.21045,-14.472213,13.762017,0.8010391,-13.190216,-9.601429,-17.65372,-6.6975036,-6.4865003,8.221367,16.814348,8.341816,10.569015,-9.024429,31.873957,-21.301346,14.658389,-2.1435108,-29.122293,-18.302736,6.5974646,8.145343,-20.645304,-19.93624,19.439144,-18.45364,15.972523,-13.192439,0.6547786,16.90751,-8.7364235,-3.8047388,-25.186995,-9.755926,-14.2633505,7.083465,17.785284,-16.288969,-8.941832,21.071007,-18.188396,0.5503231,-1.448576,-14.22697,16.088572,-3.1678126,-4.573471,4.3574634,5.985653,-4.3866124,-14.421613,10.217055,-14.103122,-7.919207,11.898942,4.9337406,19.522728,2.0105865,13.0159445,-1.5868468,23.716116,-5.279821,19.936083,10.296753,-26.331053,0.22881657,28.968243,-2.3948863,19.982092,-8.116916,7.662262,-7.477463,-21.444025,8.447735,-18.099072,17.000042,-0.9078816,16.225185,10.547302,16.684576,5.1528864,6.5913105,-5.651464,-2.646379,-12.183213,5.0874743,18.50633,-11.165834,17.769623,4.341759,3.6214328,33.60078,13.320805,-8.811429,7.4189553,24.877968,-18.73964,-18.824196,-2.2345853,-13.942339,-8.975187,32.94735,-21.118624,-14.140512,-11.3354225,16.102884,-12.855073,14.389778,8.21488,15.552698,-4.8661013,-13.493546,-18.86283,0.13213316,4.837564,-10.330655,-12.470351,16.428673,16.144577,-14.881384,11.216822,-7.8101945,-29.894413,-10.634501,3.2779245,4.2149763,16.906504,-13.129677,-16.5562,-10.419309,-9.824886,-20.136488,9.477429,17.842205,-8.286208,-6.189962,-23.644417,5.83403,26.091259,23.71965,13.31136,-12.082422,3.4541168,9.596775,3.711105,39.054665,-5.432931,12.868387,-15.617732,18.166763,14.520805,-8.512271,-1.3875177,-13.655457,1.2859277,-6.868028,-6.6217933,0.6784111,22.814837,18.042807,-21.74512,0.2930018,-7.1990604,-25.015556,-8.229468,26.841482,2.6113288,13.139106,6.3566427,-4.705753,-18.522892,-4.7656674,6.094544,12.1931,-9.658946,-9.997564,6.3541775,-17.792408,20.294434,3.564654,-14.582505,-1.5601869,9.519484,-23.750317,-16.050886,-1.4855875,8.908575,27.47921,-2.1938279,-2.369957,0.48206902,7.919496,2.1422532,22.200047,-5.5354123,15.203383,-13.115515,-10.081395,12.200563,-27.832602,-18.605782,-22.30271,-14.092809,-14.805467,32.353767,0.646024,-24.785124,0.9491453,-2.2608445,-4.382783,18.430676,-7.814423,-8.19391,2.8566487,29.865742,14.108231,-31.930058,-24.650608,19.054888,-3.2073774,-10.973887,-13.824288,0.4404195,-0.7739275,-21.989902,-26.32789,20.651098,20.033537,-9.668265,3.0205483,10.179612,1.013172,-17.665613,-10.763322,4.1329474,3.0829015,14.50605,15.15209,-23.42318,8.780677,16.84408,29.20729,-10.525533,17.87424,22.640078,-12.482152,1.4101253,-14.862405,-15.937071,27.228907,-12.504017,4.199,-16.879688,3.6808832,-0.4081502,-24.363695,16.039783,31.17514,-15.54389,20.011707,-28.267206,35.61151,6.6548386,1.8742807,-1.9565586,26.122286,-12.460031,12.655843,-4.0586762,-15.388407,-2.2458556,-15.58211,-8.921792,30.310818,10.349664,-5.3825493,-5.4678683,-13.606637,-22.114386],\"type\":\"scatter3d\"},{\"hovertemplate\":\"\\u003cb\\u003e%{hovertext}\\u003c\\u002fb\\u003e\\u003cbr\\u003e\\u003cbr\\u003emodelo=GloVe\\u003cbr\\u003ex=%{x}\\u003cbr\\u003ey=%{y}\\u003cbr\\u003ez=%{z}\\u003cextra\\u003e\\u003c\\u002fextra\\u003e\",\"hovertext\":[\"movie\",\"film\",\"one\",\"!\",\"like\",\"?\",\"good\",\"time\",\"even\",\"would\",\"really\",\"story\",\"see\",\"well\",\"much\",\"get\",\"bad\",\"also\",\"people\",\"great\",\"first\",\"made\",\"make\",\"way\",\"could\",\"movies\",\"characters\",\"think\",\"character\",\"watch\",\"films\",\"two\",\"seen\",\"many\",\"love\",\"plot\",\"never\",\"life\",\"acting\",\"best\",\"show\",\"little\",\"know\",\"ever\",\"man\",\"better\",\"end\",\"scene\",\"still\",\"say\",\"scenes\",\"something\",\"go\",\"back\",\"real\",\"thing\",\"watching\",\"actors\",\"director\",\"years\",\"though\",\"10\",\"funny\",\"old\",\"work\",\"actually\",\"another\",\"look\",\"nothing\",\"makes\",\"going\",\"find\",\"new\",\"lot\",\"every\",\"part\",\"world\",\"us\",\"cast\",\"things\",\"horror\",\"quite\",\"pretty\",\"want\",\"around\",\"seems\",\"young\",\"big\",\"take\",\"however\",\"enough\",\"got\",\"thought\",\"fact\",\"long\",\"give\",\"series\",\"may\",\"music\",\"right\",\"comedy\",\"guy\",\"action\",\"must\",\"without\",\"always\",\"times\",\"original\",\"saw\",\"almost\",\"gets\",\"role\",\"come\",\"done\",\"interesting\",\"point\",\"least\",\"whole\",\"bit\",\"far\",\"script\",\"2\",\"feel\",\"family\",\"minutes\",\"might\",\"last\",\"making\",\"anything\",\"since\",\"probably\",\"tv\",\"away\",\"performance\",\"kind\",\"yet\",\"girl\",\"fun\",\"woman\",\"anyone\",\"worst\",\"rather\",\"sure\",\"hard\",\"played\",\"day\",\"found\",\"screen\",\"especially\",\"looking\",\"although\",\"believe\",\"course\",\"trying\",\"dvd\",\"everything\",\"set\",\"ending\",\"comes\",\"goes\",\"maybe\",\"put\",\"three\",\"let\",\"book\",\"shows\",\"place\",\"worth\",\"different\",\"actor\",\"sense\",\"main\",\"american\",\"someone\",\"true\",\"looks\",\"effects\",\"watched\",\"reason\",\"play\",\"everyone\",\"money\",\"war\",\"together\",\"year\",\"job\",\"1\",\"high\",\"plays\",\"instead\",\"audience\",\"said\",\"black\",\"later\",\"half\",\"seem\",\"takes\",\"special\",\"night\",\"left\",\"seeing\",\"beautiful\",\"john\",\"wife\",\"shot\",\"excellent\",\"house\",\"idea\",\"star\",\"version\",\"mind\",\"else\",\"death\",\"fan\",\"men\",\"budget\",\"nice\",\"used\",\"father\",\"short\",\"simply\",\"poor\",\"3\",\"read\",\"completely\",\"along\",\"second\",\"top\",\"help\",\"less\",\"home\",\"boring\",\"dead\",\"kids\",\"either\",\"hollywood\",\"line\",\"friends\",\"try\",\"low\",\"given\",\"wrong\",\"enjoy\",\"camera\",\"full\",\"women\",\"use\",\"classic\",\"production\",\"school\",\"stupid\",\"need\",\"couple\",\"performances\",\"rest\",\"next\",\"truly\",\"awful\",\"video\",\"start\",\"sex\",\"recommend\",\"tell\",\"mean\",\"perhaps\",\"terrible\",\"understand\",\"getting\",\"face\",\"remember\",\"moments\",\"came\",\"name\",\"keep\",\"small\",\"perfect\",\"person\",\"playing\",\"human\",\"style\",\"definitely\",\"boy\",\"early\",\"mother\",\"wonderful\",\"head\",\"others\",\"episode\",\"often\",\"stars\",\"written\",\"piece\",\"dialogue\",\"lines\",\"live\",\"gives\",\"children\",\"case\",\"yes\",\"laugh\",\"friend\",\"lost\",\"loved\",\"finally\",\"certainly\",\"title\",\"absolutely\",\"oh\",\"went\",\"entertaining\",\"liked\",\"sort\",\"cinema\",\"worse\",\"felt\",\"picture\",\"mr\",\"become\",\"overall\",\"hope\",\"5\",\"several\",\"drama\",\"entire\",\"based\",\"supposed\",\"sound\",\"called\",\"white\",\"guys\",\"dark\",\"problem\",\"4\",\"fans\",\"care\",\"waste\",\"beginning\",\"lead\",\"game\",\"humor\",\"seemed\",\"lives\",\"wanted\",\"direction\",\"despite\",\"totally\",\"guess\",\"evil\",\"final\",\"throughout\",\"example\",\"already\",\"becomes\",\"unfortunately\",\"son\",\"able\",\"turn\",\"quality\",\"killer\",\"michael\",\"b\",\"history\",\"wants\",\"days\",\"heart\",\"side\",\"flick\",\"writing\",\"amazing\",\"fine\",\"god\",\"horrible\",\"matter\",\"run\",\"art\",\"kill\",\"close\",\"act\",\"town\",\"etc\",\"child\",\"works\",\"behind\",\"turns\",\"viewer\",\"today\",\"genre\",\"tries\",\"brilliant\",\"stuff\",\"late\",\"parts\",\"past\",\"eyes\",\"kid\",\"directed\",\"expect\",\"enjoyed\",\"gave\",\"girls\",\"hand\",\"soon\",\"obviously\",\"car\",\"favorite\",\"highly\",\"stop\",\"hour\",\"actress\",\"city\",\"sometimes\",\"thinking\",\"killed\",\"type\",\"daughter\",\"self\",\"blood\",\"group\",\"starts\",\"decent\",\"says\",\"voice\",\"heard\",\"happens\",\"took\",\"writer\",\"fight\",\"known\",\"anyway\",\"except\",\"slow\",\"experience\",\"feeling\",\"coming\",\"leave\",\"stories\",\"score\",\"roles\",\"involved\",\"hero\",\"moment\",\"happen\",\"lack\",\"violence\",\"chance\",\"complete\",\"told\",\"ok\",\"crap\",\"particularly\",\"hit\",\"cool\",\"simple\",\"save\",\"extremely\",\"police\",\"wonder\",\"hell\",\"age\",\"strong\",\"living\",\"please\",\"david\",\"cannot\",\"hilarious\",\"song\",\"looked\",\"attempt\",\"serious\",\"taken\",\"robert\",\"including\",\"obvious\",\"cut\",\"murder\",\"ago\",\"shown\",\"brother\",\"james\",\"happened\",\"husband\",\"released\",\"gore\",\"reality\",\"exactly\",\"none\",\"english\",\"seriously\",\"jokes\",\"running\",\"possible\",\"alone\",\"across\",\"opening\",\"cinematography\",\"sad\",\"usually\",\"number\",\"interest\",\"order\"],\"legendgroup\":\"GloVe\",\"marker\":{\"color\":\"#EF553B\",\"symbol\":\"circle\",\"size\":3},\"mode\":\"markers\",\"name\":\"GloVe\",\"scene\":\"scene\",\"showlegend\":true,\"x\":[-14.383953,-17.72409,-6.3789425,26.936207,8.281539,21.670208,-22.171972,-5.5684004,-1.7777892,10.660386,10.509449,32.449688,13.366785,-17.759478,-2.3036056,24.666866,16.928886,-15.2307,-9.739999,-21.65725,2.5506754,4.19227,8.73356,11.395509,8.041021,-14.292232,2.6386478,12.347728,1.3410579,21.664581,-17.730412,-14.8235035,7.497348,-14.738675,29.568678,15.001773,2.4895039,-18.843807,-9.694428,-21.134352,-24.085701,3.3205523,16.70451,2.5961626,-7.24608,-21.599903,-17.084576,9.879074,-7.995958,7.765893,10.422725,6.1219015,15.961074,18.06138,-6.375545,8.033627,21.606724,-5.606158,-41.7048,-1.7084527,-5.534403,32.365337,2.4166553,3.1391222,35.395107,4.1377425,-4.1946697,13.383306,4.2931952,9.798115,14.257346,11.925075,24.929317,12.25742,-12.212899,-0.15311815,1.2014221,-1.7002982,-2.6762242,8.333965,-15.714487,-5.3079476,-1.9723477,17.952759,-27.89198,-0.87483615,-32.944588,4.745088,17.7497,-8.052893,6.5274944,28.387024,5.4250646,-2.5617845,-19.022083,19.11582,-23.437843,2.2952354,39.436592,12.617139,-15.387594,14.418317,-18.36522,16.890526,-6.9806314,15.889631,-5.652499,38.482815,8.674956,5.630676,20.425713,-7.570108,12.297395,5.546797,-3.6274955,-0.030585978,-6.4768043,7.538783,4.1389165,-5.08648,39.87233,29.512852,-9.21282,-39.50193,-23.55672,5.601257,3.1385136,5.891457,7.709289,0.40896556,4.180878,-19.67551,18.65055,-26.023642,2.19221,-2.4158347,-28.987316,4.039786,-10.264209,7.7724485,23.490105,-5.7887373,13.657783,4.275245,-8.456372,-8.851025,-10.784509,-4.0765896,-18.089857,14.857688,-8.850939,9.632281,2.4338334,16.886679,-11.68136,10.577939,22.98294,-18.558796,13.795159,15.9583235,12.440477,21.02207,-11.887511,19.43117,33.81018,-24.483727,8.057938,-4.3119535,-16.124983,-8.698797,-1.9967158,22.76377,-2.2335958,9.122446,-5.0035486,16.196003,-19.73074,18.36357,-0.27103052,-6.7720513,14.411272,-9.119831,-18.932314,-15.2033825,-0.40974,-18.293638,29.990437,-35.810112,-10.711847,-8.027895,-28.035532,30.831888,-32.113514,31.313902,7.54154,-4.574881,16.497665,-35.41202,-11.150522,13.687697,11.099361,-20.796019,-0.719901,-32.626347,0.3125033,-24.345467,-9.104541,-1.6094537,-3.6805491,38.35026,1.6305894,11.245098,14.5435295,-24.286839,21.21003,-14.689101,-18.235008,-13.353788,-37.577675,-19.624681,-3.9000766,27.039581,32.797527,24.15381,8.310278,-24.334475,3.99033,24.13833,18.167189,-1.9441445,16.975748,3.060381,-6.680862,19.652636,-3.8846986,-10.912452,23.287455,-35.769688,14.838812,-34.42587,4.5509,14.111594,-0.01754185,-4.888358,16.612827,22.655912,-14.545908,-1.1384866,-24.997978,-37.71369,11.65633,19.75089,-25.21491,-24.824125,-10.515415,-5.5550804,7.3162646,18.82809,-9.696031,-13.851338,-34.06284,9.165491,20.339798,1.3108686,-0.06884585,22.196447,16.784138,28.186182,-26.234655,21.334457,-7.69711,7.9696274,-11.531673,21.409252,-17.841724,-24.425566,7.225452,-8.500538,-3.9900827,-6.350418,10.722186,-29.664331,-3.5157356,-36.331966,-19.098434,-35.599876,-12.029091,-23.1286,0.24264006,-4.4362426,36.234035,8.466548,3.1052945,21.027742,-27.118477,17.530603,-37.22006,2.210173,22.01399,6.951402,-33.837322,3.7315643,24.73949,29.417006,7.6658177,5.710703,9.385828,25.491371,11.421074,0.008394922,21.538193,0.2737913,-16.560276,19.670282,-12.115369,-2.4925642,11.831317,35.263817,-31.559769,12.428972,31.630222,-15.980471,-16.840994,7.3804398,-15.022024,8.926253,41.283676,-8.937974,-31.400108,14.9664135,25.367544,0.063302465,29.01429,-25.464916,23.629517,-11.12052,-10.197167,22.45102,-3.9871433,0.35921377,-1.4567465,-16.960455,14.107298,-2.5702968,-11.103284,8.879705,15.994818,31.402367,4.07502,-22.590136,-13.773647,-7.8943195,37.05723,-0.3652573,-36.15913,13.616642,15.100596,-24.344397,14.642486,1.9301836,-0.5131234,4.3418407,27.553635,-7.000558,15.845952,16.524307,-17.047895,39.162277,-17.911863,11.812367,31.087471,22.181303,1.6159315,30.020245,36.64739,29.075747,2.3886821,-32.777428,-24.62951,-25.17858,-35.91308,35.76367,16.848404,14.673665,-29.020859,6.5425906,-10.8073845,12.8583555,-25.124868,6.602084,-1.2479262,1.0079919,-0.51377153,21.087444,16.63354,-21.372519,9.018755,-0.2600444,9.092117,-31.075277,15.860434,30.064007,7.259136,22.480171,-3.5921905,-12.628795,9.931932,-22.991009,-9.630972,-24.243183,2.9838912,2.4958558,-8.844545,-11.341897,-34.341267,-3.6271598,14.28892,-16.932375,-16.646772,-26.566133,29.033247,42.33927,24.673212,17.794922,7.9799533,39.14332,-16.599983,-10.651081,14.961052,-9.887109,1.7034627,-17.286098,-9.472448,10.865686,20.102541,32.2852,-0.87815267,-5.529228,-32.236492,23.900917,-5.0238414,17.46275,-10.25506,-20.772491,15.548599,17.973898,32.244537,18.400688,9.131244,-17.127626,0.000096961565,24.59485,-7.025586,20.628777,-9.1664715,9.395601,20.493174,26.251003,-29.073572,-14.812122,-19.3317,22.422419,-2.1553218,16.94488,-0.5312248,38.65138,17.163887,15.880588,37.44932,6.8006763,-4.2638607,-16.565176,-4.20048,24.49113,17.36499,2.419903,-26.981815,-35.02859,-0.7731696,20.04788,-35.252903,37.632,-11.069306,-8.821287,9.2525835,-4.2743053,-11.462544,38.899223,3.990408,28.554665,5.10566,-7.2870493,-25.243591,3.0798666,-6.9258747,16.04011,2.664548,-12.134324,-15.034182,16.185438],\"y\":[5.7326894,5.7075777,17.701904,36.39325,24.827059,33.967068,26.89075,11.625114,22.848461,24.111021,36.787334,9.049538,20.767145,24.734196,18.965303,18.550198,46.723,23.363424,28.997025,29.225542,-7.7109923,13.91129,14.414001,15.786659,21.95099,9.285982,0.53707653,32.72554,-1.8884681,5.1892767,8.945363,16.22471,18.822983,24.326235,28.8612,2.2578628,26.572851,-1.2204149,-5.9708543,22.51425,-2.754764,33.18166,30.929197,22.253244,18.658285,23.717508,9.809214,4.517471,20.530352,24.58453,4.9000134,36.806404,20.572088,13.763039,35.99504,40.16294,8.089079,-1.6690991,-9.599945,8.101064,25.288013,-18.874205,51.257656,3.4616046,-4.7345023,26.908728,17.13814,23.369072,32.4589,9.518954,23.851246,18.003408,8.586556,40.459507,16.908102,5.284688,14.726815,18.205074,-0.14246899,38.341774,7.0213523,38.709347,39.593628,22.64014,20.496592,35.01763,17.640633,24.78743,14.939982,28.51579,16.967651,18.900433,27.947262,28.744389,3.8467586,12.401774,-8.098397,21.806421,-1.875181,9.947437,-0.29554674,37.57992,14.885932,23.712511,24.075548,29.944153,15.395431,-5.05957,14.691127,16.695484,5.6731434,-8.715342,18.587872,34.49642,42.238136,24.699648,23.212072,6.5129495,35.38906,22.79657,0.9354854,-25.38374,45.545517,3.8508515,21.68964,24.411633,9.355532,12.035433,32.245544,11.40579,23.75626,-0.7613118,14.102283,12.27077,41.225895,27.439713,12.136109,44.73584,19.157984,29.31545,47.80092,30.474228,29.412958,17.78591,-14.720981,8.563668,27.376835,2.788383,29.524359,20.789553,25.98741,27.132368,25.557314,15.841703,-2.3345194,34.699806,8.673267,7.1424446,6.788924,6.2928815,35.891975,11.297947,16.037457,22.624182,5.093816,-0.10348079,12.43391,21.45058,23.150284,-0.13855249,42.80819,-3.151185,15.099334,28.573492,31.608887,24.562202,22.479025,8.522865,27.742413,-11.8379755,28.650005,24.588167,11.974907,18.263103,7.462124,22.235466,-22.68142,-12.379736,-11.88629,28.138195,10.976483,6.019603,-10.9824,4.213157,13.603203,34.82282,3.7251318,-1.1474701,6.3146415,9.668364,18.441393,37.96072,-28.024343,8.120917,18.83035,26.477703,-25.648493,36.70122,9.69181,-6.8837967,38.911667,31.199617,-21.611027,3.829508,-37.989956,-23.877666,30.113344,16.939606,3.614418,1.0848521,30.893877,24.632582,-23.344385,26.109951,40.9297,19.779377,-10.301889,4.6592565,15.788579,22.277775,11.925785,41.195015,26.543726,33.734184,26.245245,6.6549087,-26.590998,2.6585364,14.353815,-14.846402,8.324258,41.708893,13.6125765,1.5393214,-14.37486,-36.058884,19.505457,-6.0611653,11.096627,-8.951575,45.545315,21.568905,9.200371,12.239101,17.750696,6.8574142,42.204983,47.689407,-0.4245345,9.144646,8.528485,30.250998,27.367954,29.678188,23.47989,49.561546,30.02359,17.972267,-3.5279195,28.352087,39.314137,10.575325,10.98361,17.82859,16.474478,30.528666,27.782492,-15.097009,15.080341,33.45228,34.588974,14.459285,11.813588,9.546073,35.96185,-12.100731,26.565117,-5.1231074,30.859978,7.2026324,3.3309743,10.70414,-15.563345,-27.812716,-4.312757,6.101634,14.171702,28.843319,37.296482,52.067146,3.2683363,11.60051,29.171665,6.807538,31.921207,-12.395762,41.839653,37.735302,10.13134,45.27265,29.702204,38.983936,10.036623,46.594597,43.072685,5.2333293,-36.21023,14.060034,14.475804,11.9056835,-19.552067,20.88449,1.4280084,3.732229,9.971036,20.002487,0.9458896,9.741328,-13.23165,38.91517,17.785402,22.377028,-21.686714,6.2314315,22.80271,16.831608,9.906969,9.741274,-9.631334,51.48336,33.476017,-2.4832625,23.862104,26.565907,25.636091,41.551506,35.492996,32.10026,-13.892783,26.264463,14.774306,19.030998,13.833482,30.049664,2.1942313,18.617386,13.432925,23.394213,-22.460548,-25.561846,-14.086352,13.474775,12.064278,9.490762,-23.545975,5.6674185,7.1036468,3.9162498,36.18096,-23.19635,31.10078,46.46526,32.91131,-21.73679,-6.3896785,-2.8503733,23.621347,4.927343,-9.6380625,7.680967,11.033047,-5.797567,5.727724,1.9154476,13.442272,18.346527,9.847845,11.797535,32.73308,42.381077,11.89696,3.2382946,15.56022,17.87507,35.663567,4.7756867,29.710506,11.387291,4.7099514,11.340632,9.077488,8.587136,36.05567,1.2408133,-3.3272002,36.519756,19.581423,19.50849,2.3800204,-12.207501,31.158192,36.951904,27.542978,17.698963,6.735311,44.819813,-24.909628,7.501679,9.889434,26.10115,9.203062,3.4701488,22.710052,35.891514,7.3860297,7.7525573,-18.481796,11.617729,33.316006,14.040839,15.319697,25.98023,43.90945,17.053335,17.648382,11.738487,-6.310518,-6.71281,-1.3328612,21.620062,39.163784,36.257668,25.321314,14.232384,13.241216,-14.507569,3.6842797,36.00792,44.028996,32.10747,14.937427,18.432026,34.66031,13.354735,37.657448,3.7341163,25.014795,34.03675,-0.8119413,27.834772,-5.450936,26.236143,-24.546581,26.96423,51.214096,-1.974475,21.752138,5.1023564,15.613428,6.5085,-27.812916,18.35379,24.732279,14.124204,-23.477787,7.4981375,1.938095,0.7322398,-28.043802,39.718357,6.8630967,-8.946701,-44.404858,32.44687,26.752453,28.024393,8.740345,12.722292,52.627464,-24.03986,26.062302,18.301882,23.036974,-13.777171,28.264423,48.11434,28.084011,21.078848,-4.4196677,23.75625],\"z\":[32.5147,34.515972,20.57581,2.4621663,19.034353,-1.1097125,-4.8899736,12.302572,4.931181,-13.605906,-3.7908344,14.021839,4.922471,4.9763927,3.7488146,-8.047468,2.4917948,7.23811,17.39241,1.1556678,31.886417,-16.829813,-13.242935,-2.6946075,-13.976398,31.064249,42.835968,-3.8284795,42.036957,-27.588848,32.07817,17.169731,10.339886,14.627562,4.5263247,-38.238594,7.0087028,-34.657738,39.05044,1.3271838,22.119167,17.335459,-2.5691807,6.6064553,26.870308,-4.339832,2.673105,-3.7462423,4.597527,-7.6120877,-6.5375476,-0.6713197,-1.7444881,4.555633,-2.9332268,-2.17382,-28.79878,36.568436,-6.475999,16.989523,3.9391658,0.56296027,6.3590236,19.673136,-13.169061,1.4954406,22.459179,16.429743,0.44475412,-14.660944,-0.5693171,-8.270476,7.251612,4.980968,-6.7957263,-30.423384,-28.475512,-21.071587,36.077568,2.8966107,26.017742,8.316036,10.713344,-8.546457,9.336983,2.602986,-0.65521294,19.705788,-4.9123707,2.6269426,-9.113181,-5.3579626,-2.969457,-1.5941956,13.220678,-7.1940904,29.632923,-13.911796,-3.0965264,2.442792,33.089996,14.959378,-12.429159,-15.975724,-11.378267,9.057321,14.183417,8.980822,10.944786,18.562698,-18.460325,39.857227,0.45655572,5.9178686,4.3816605,-34.639378,15.691522,-32.762657,15.376833,8.069124,9.894898,-2.8122678,-0.89348614,13.036053,26.321196,-13.334979,13.997901,-15.201877,1.25721,15.885164,-2.1636539,22.215818,8.303665,17.289196,-2.6165373,5.638177,-1.6259285,4.8696313,29.77979,5.3276434,4.166501,-14.457481,0.12032589,-5.3950663,30.760365,12.850909,9.783242,27.967365,6.5945544,17.184994,4.748936,-6.1851025,-27.043756,-22.483046,24.60727,6.857707,3.5680017,2.9980707,-15.369416,-17.360756,0.6758074,1.6679662,17.239765,-4.624839,10.4401,23.545544,-2.1098077,-21.499727,20.147615,38.174797,-4.641155,-33.780834,-25.27727,9.246284,-3.6160195,18.886469,-16.511227,-28.720123,-4.5777984,28.021091,4.8510575,-20.776234,-0.63192457,2.2104294,12.814244,-6.492671,-5.742734,3.6140985,29.976326,-14.437611,-20.894571,-19.963003,13.789311,-3.498907,18.13125,4.19328,-13.977154,-6.4476647,14.815204,7.535427,9.030378,-5.8214393,-29.65495,7.779194,25.945623,-9.347282,26.662788,-8.880457,37.933598,6.7540293,-10.001642,4.4643116,27.63701,-25.340006,8.239162,27.124605,-5.6923904,-32.1144,7.2632313,13.008381,-11.567563,-16.229786,-2.4063814,-0.8136758,-19.827085,9.032748,32.65686,2.6250086,-16.720047,11.598308,12.359047,10.282409,23.357166,18.625807,-13.152691,33.44316,15.965742,14.928819,-20.546595,3.4667573,2.529596,-2.0909872,-37.97946,24.71776,-34.94831,9.793903,-31.592033,-40.692757,21.24643,3.7882073,-0.7332812,-13.219409,6.7505426,14.561503,1.7089065,9.335065,-7.595289,-2.3156443,23.662935,7.5166793,-5.218068,-16.919739,-1.8473927,-10.14203,0.60696703,-2.0537748,-6.941057,-8.783811,9.521045,3.9018354,20.72717,12.167924,-34.23508,-20.88534,-22.449795,-5.9566984,12.516645,27.458454,-8.886547,-19.36836,-8.143514,0.30522344,5.5746236,5.9041567,-8.648679,-8.485501,15.047354,28.696865,28.323746,36.858704,8.81401,-34.000504,24.058472,17.178766,18.206333,-10.650364,-1.5564427,-19.593382,1.833631,2.3584843,11.715506,8.661416,7.7854176,-7.5605764,-5.8878446,35.876835,-12.552853,5.4948783,12.219184,4.974628,10.898604,-3.0491724,36.08186,5.74344,-0.5815826,26.756489,-7.964972,-0.44131398,18.110483,-7.5869055,-3.228162,13.825591,30.907999,-31.957546,-23.62559,-20.739765,-5.2693586,-28.293146,15.330657,10.251155,18.590134,-7.268346,-1.310441,-24.41495,-14.649514,-15.259624,6.9901657,-2.313093,26.728798,0.24581786,6.696685,-36.569164,-7.6714096,-30.511858,0.083802655,-17.068497,-0.36680698,-5.560864,31.197342,9.14184,-23.688828,7.864578,-3.340936,0.9183832,4.0892224,-12.697954,-1.2858925,-11.717256,24.37633,-33.28037,-33.370373,-26.716064,-16.796421,15.441464,-25.640417,-1.2018087,23.085394,7.1265917,-11.380155,-17.703968,-1.7661889,-3.033548,-3.9432862,11.868558,-6.680114,-0.8224791,-36.583904,-14.121425,-26.638622,-12.1299925,-0.8701401,-10.359127,4.602462,-17.17764,-19.505247,1.3596671,25.327728,-22.745773,-9.188032,6.9041114,3.715585,-33.7414,11.919116,17.47566,17.375063,34.315704,-12.006455,-39.73986,13.526128,-5.077038,1.484348,-5.3777933,-7.0688787,-5.284532,-39.52797,9.366815,-25.167765,23.8519,40.69561,-27.706762,27.14842,-12.572128,25.083963,-24.6797,4.1934953,-9.37727,-27.886145,-25.651323,10.011406,-3.9962697,-18.269718,-6.8540826,4.181361,-11.837825,9.792738,6.960476,-30.279263,-30.558956,3.4755907,-0.015952835,-3.2946713,-15.131582,-3.6506758,3.2614257,-1.6471928,15.085106,25.10282,38.627888,-22.354921,27.377567,19.489397,-8.331948,-4.196565,-7.921632,-10.131228,-32.487644,-21.166922,4.4517345,10.155409,7.5194106,23.900063,-24.132303,-14.778052,-14.910805,9.344392,0.50557125,5.024722,-2.4426465,-31.70092,1.3435076,-35.66315,-6.430317,-33.69421,-15.209822,5.802688,0.4914391,13.462368,-35.494946,-15.264008,5.169406,-31.88424,11.044355,-3.9253237,2.1055958,28.302416,17.484339,24.007484,7.148777,-33.231167,-7.1155076,9.577328,3.0260956,-4.5586247,-6.946159,1.1961952,9.950735,-38.0042,-15.1735935,1.4661207,12.9614,-17.210026,-1.901418,9.902425,27.989195,-29.753342,-6.894207,30.079544,17.858992,-25.394882,-20.162312],\"type\":\"scatter3d\"}],                        {\"template\":{\"data\":{\"histogram2dcontour\":[{\"type\":\"histogram2dcontour\",\"colorbar\":{\"outlinewidth\":0,\"ticks\":\"\"},\"colorscale\":[[0.0,\"#0d0887\"],[0.1111111111111111,\"#46039f\"],[0.2222222222222222,\"#7201a8\"],[0.3333333333333333,\"#9c179e\"],[0.4444444444444444,\"#bd3786\"],[0.5555555555555556,\"#d8576b\"],[0.6666666666666666,\"#ed7953\"],[0.7777777777777778,\"#fb9f3a\"],[0.8888888888888888,\"#fdca26\"],[1.0,\"#f0f921\"]]}],\"choropleth\":[{\"type\":\"choropleth\",\"colorbar\":{\"outlinewidth\":0,\"ticks\":\"\"}}],\"histogram2d\":[{\"type\":\"histogram2d\",\"colorbar\":{\"outlinewidth\":0,\"ticks\":\"\"},\"colorscale\":[[0.0,\"#0d0887\"],[0.1111111111111111,\"#46039f\"],[0.2222222222222222,\"#7201a8\"],[0.3333333333333333,\"#9c179e\"],[0.4444444444444444,\"#bd3786\"],[0.5555555555555556,\"#d8576b\"],[0.6666666666666666,\"#ed7953\"],[0.7777777777777778,\"#fb9f3a\"],[0.8888888888888888,\"#fdca26\"],[1.0,\"#f0f921\"]]}],\"heatmap\":[{\"type\":\"heatmap\",\"colorbar\":{\"outlinewidth\":0,\"ticks\":\"\"},\"colorscale\":[[0.0,\"#0d0887\"],[0.1111111111111111,\"#46039f\"],[0.2222222222222222,\"#7201a8\"],[0.3333333333333333,\"#9c179e\"],[0.4444444444444444,\"#bd3786\"],[0.5555555555555556,\"#d8576b\"],[0.6666666666666666,\"#ed7953\"],[0.7777777777777778,\"#fb9f3a\"],[0.8888888888888888,\"#fdca26\"],[1.0,\"#f0f921\"]]}],\"heatmapgl\":[{\"type\":\"heatmapgl\",\"colorbar\":{\"outlinewidth\":0,\"ticks\":\"\"},\"colorscale\":[[0.0,\"#0d0887\"],[0.1111111111111111,\"#46039f\"],[0.2222222222222222,\"#7201a8\"],[0.3333333333333333,\"#9c179e\"],[0.4444444444444444,\"#bd3786\"],[0.5555555555555556,\"#d8576b\"],[0.6666666666666666,\"#ed7953\"],[0.7777777777777778,\"#fb9f3a\"],[0.8888888888888888,\"#fdca26\"],[1.0,\"#f0f921\"]]}],\"contourcarpet\":[{\"type\":\"contourcarpet\",\"colorbar\":{\"outlinewidth\":0,\"ticks\":\"\"}}],\"contour\":[{\"type\":\"contour\",\"colorbar\":{\"outlinewidth\":0,\"ticks\":\"\"},\"colorscale\":[[0.0,\"#0d0887\"],[0.1111111111111111,\"#46039f\"],[0.2222222222222222,\"#7201a8\"],[0.3333333333333333,\"#9c179e\"],[0.4444444444444444,\"#bd3786\"],[0.5555555555555556,\"#d8576b\"],[0.6666666666666666,\"#ed7953\"],[0.7777777777777778,\"#fb9f3a\"],[0.8888888888888888,\"#fdca26\"],[1.0,\"#f0f921\"]]}],\"surface\":[{\"type\":\"surface\",\"colorbar\":{\"outlinewidth\":0,\"ticks\":\"\"},\"colorscale\":[[0.0,\"#0d0887\"],[0.1111111111111111,\"#46039f\"],[0.2222222222222222,\"#7201a8\"],[0.3333333333333333,\"#9c179e\"],[0.4444444444444444,\"#bd3786\"],[0.5555555555555556,\"#d8576b\"],[0.6666666666666666,\"#ed7953\"],[0.7777777777777778,\"#fb9f3a\"],[0.8888888888888888,\"#fdca26\"],[1.0,\"#f0f921\"]]}],\"mesh3d\":[{\"type\":\"mesh3d\",\"colorbar\":{\"outlinewidth\":0,\"ticks\":\"\"}}],\"scatter\":[{\"fillpattern\":{\"fillmode\":\"overlay\",\"size\":10,\"solidity\":0.2},\"type\":\"scatter\"}],\"parcoords\":[{\"type\":\"parcoords\",\"line\":{\"colorbar\":{\"outlinewidth\":0,\"ticks\":\"\"}}}],\"scatterpolargl\":[{\"type\":\"scatterpolargl\",\"marker\":{\"colorbar\":{\"outlinewidth\":0,\"ticks\":\"\"}}}],\"bar\":[{\"error_x\":{\"color\":\"#2a3f5f\"},\"error_y\":{\"color\":\"#2a3f5f\"},\"marker\":{\"line\":{\"color\":\"#E5ECF6\",\"width\":0.5},\"pattern\":{\"fillmode\":\"overlay\",\"size\":10,\"solidity\":0.2}},\"type\":\"bar\"}],\"scattergeo\":[{\"type\":\"scattergeo\",\"marker\":{\"colorbar\":{\"outlinewidth\":0,\"ticks\":\"\"}}}],\"scatterpolar\":[{\"type\":\"scatterpolar\",\"marker\":{\"colorbar\":{\"outlinewidth\":0,\"ticks\":\"\"}}}],\"histogram\":[{\"marker\":{\"pattern\":{\"fillmode\":\"overlay\",\"size\":10,\"solidity\":0.2}},\"type\":\"histogram\"}],\"scattergl\":[{\"type\":\"scattergl\",\"marker\":{\"colorbar\":{\"outlinewidth\":0,\"ticks\":\"\"}}}],\"scatter3d\":[{\"type\":\"scatter3d\",\"line\":{\"colorbar\":{\"outlinewidth\":0,\"ticks\":\"\"}},\"marker\":{\"colorbar\":{\"outlinewidth\":0,\"ticks\":\"\"}}}],\"scattermapbox\":[{\"type\":\"scattermapbox\",\"marker\":{\"colorbar\":{\"outlinewidth\":0,\"ticks\":\"\"}}}],\"scatterternary\":[{\"type\":\"scatterternary\",\"marker\":{\"colorbar\":{\"outlinewidth\":0,\"ticks\":\"\"}}}],\"scattercarpet\":[{\"type\":\"scattercarpet\",\"marker\":{\"colorbar\":{\"outlinewidth\":0,\"ticks\":\"\"}}}],\"carpet\":[{\"aaxis\":{\"endlinecolor\":\"#2a3f5f\",\"gridcolor\":\"white\",\"linecolor\":\"white\",\"minorgridcolor\":\"white\",\"startlinecolor\":\"#2a3f5f\"},\"baxis\":{\"endlinecolor\":\"#2a3f5f\",\"gridcolor\":\"white\",\"linecolor\":\"white\",\"minorgridcolor\":\"white\",\"startlinecolor\":\"#2a3f5f\"},\"type\":\"carpet\"}],\"table\":[{\"cells\":{\"fill\":{\"color\":\"#EBF0F8\"},\"line\":{\"color\":\"white\"}},\"header\":{\"fill\":{\"color\":\"#C8D4E3\"},\"line\":{\"color\":\"white\"}},\"type\":\"table\"}],\"barpolar\":[{\"marker\":{\"line\":{\"color\":\"#E5ECF6\",\"width\":0.5},\"pattern\":{\"fillmode\":\"overlay\",\"size\":10,\"solidity\":0.2}},\"type\":\"barpolar\"}],\"pie\":[{\"automargin\":true,\"type\":\"pie\"}]},\"layout\":{\"autotypenumbers\":\"strict\",\"colorway\":[\"#636efa\",\"#EF553B\",\"#00cc96\",\"#ab63fa\",\"#FFA15A\",\"#19d3f3\",\"#FF6692\",\"#B6E880\",\"#FF97FF\",\"#FECB52\"],\"font\":{\"color\":\"#2a3f5f\"},\"hovermode\":\"closest\",\"hoverlabel\":{\"align\":\"left\"},\"paper_bgcolor\":\"white\",\"plot_bgcolor\":\"#E5ECF6\",\"polar\":{\"bgcolor\":\"#E5ECF6\",\"angularaxis\":{\"gridcolor\":\"white\",\"linecolor\":\"white\",\"ticks\":\"\"},\"radialaxis\":{\"gridcolor\":\"white\",\"linecolor\":\"white\",\"ticks\":\"\"}},\"ternary\":{\"bgcolor\":\"#E5ECF6\",\"aaxis\":{\"gridcolor\":\"white\",\"linecolor\":\"white\",\"ticks\":\"\"},\"baxis\":{\"gridcolor\":\"white\",\"linecolor\":\"white\",\"ticks\":\"\"},\"caxis\":{\"gridcolor\":\"white\",\"linecolor\":\"white\",\"ticks\":\"\"}},\"coloraxis\":{\"colorbar\":{\"outlinewidth\":0,\"ticks\":\"\"}},\"colorscale\":{\"sequential\":[[0.0,\"#0d0887\"],[0.1111111111111111,\"#46039f\"],[0.2222222222222222,\"#7201a8\"],[0.3333333333333333,\"#9c179e\"],[0.4444444444444444,\"#bd3786\"],[0.5555555555555556,\"#d8576b\"],[0.6666666666666666,\"#ed7953\"],[0.7777777777777778,\"#fb9f3a\"],[0.8888888888888888,\"#fdca26\"],[1.0,\"#f0f921\"]],\"sequentialminus\":[[0.0,\"#0d0887\"],[0.1111111111111111,\"#46039f\"],[0.2222222222222222,\"#7201a8\"],[0.3333333333333333,\"#9c179e\"],[0.4444444444444444,\"#bd3786\"],[0.5555555555555556,\"#d8576b\"],[0.6666666666666666,\"#ed7953\"],[0.7777777777777778,\"#fb9f3a\"],[0.8888888888888888,\"#fdca26\"],[1.0,\"#f0f921\"]],\"diverging\":[[0,\"#8e0152\"],[0.1,\"#c51b7d\"],[0.2,\"#de77ae\"],[0.3,\"#f1b6da\"],[0.4,\"#fde0ef\"],[0.5,\"#f7f7f7\"],[0.6,\"#e6f5d0\"],[0.7,\"#b8e186\"],[0.8,\"#7fbc41\"],[0.9,\"#4d9221\"],[1,\"#276419\"]]},\"xaxis\":{\"gridcolor\":\"white\",\"linecolor\":\"white\",\"ticks\":\"\",\"title\":{\"standoff\":15},\"zerolinecolor\":\"white\",\"automargin\":true,\"zerolinewidth\":2},\"yaxis\":{\"gridcolor\":\"white\",\"linecolor\":\"white\",\"ticks\":\"\",\"title\":{\"standoff\":15},\"zerolinecolor\":\"white\",\"automargin\":true,\"zerolinewidth\":2},\"scene\":{\"xaxis\":{\"backgroundcolor\":\"#E5ECF6\",\"gridcolor\":\"white\",\"linecolor\":\"white\",\"showbackground\":true,\"ticks\":\"\",\"zerolinecolor\":\"white\",\"gridwidth\":2},\"yaxis\":{\"backgroundcolor\":\"#E5ECF6\",\"gridcolor\":\"white\",\"linecolor\":\"white\",\"showbackground\":true,\"ticks\":\"\",\"zerolinecolor\":\"white\",\"gridwidth\":2},\"zaxis\":{\"backgroundcolor\":\"#E5ECF6\",\"gridcolor\":\"white\",\"linecolor\":\"white\",\"showbackground\":true,\"ticks\":\"\",\"zerolinecolor\":\"white\",\"gridwidth\":2}},\"shapedefaults\":{\"line\":{\"color\":\"#2a3f5f\"}},\"annotationdefaults\":{\"arrowcolor\":\"#2a3f5f\",\"arrowhead\":0,\"arrowwidth\":1},\"geo\":{\"bgcolor\":\"white\",\"landcolor\":\"#E5ECF6\",\"subunitcolor\":\"white\",\"showland\":true,\"showlakes\":true,\"lakecolor\":\"white\"},\"title\":{\"x\":0.05},\"mapbox\":{\"style\":\"light\"}}},\"scene\":{\"domain\":{\"x\":[0.0,1.0],\"y\":[0.0,1.0]},\"xaxis\":{\"title\":{\"text\":\"x\"}},\"yaxis\":{\"title\":{\"text\":\"y\"}},\"zaxis\":{\"title\":{\"text\":\"z\"}}},\"legend\":{\"title\":{\"text\":\"modelo\"},\"tracegroupgap\":0},\"title\":{\"text\":\"t-SNE 3D — Word2Vec vs. GloVe\"}},                        {\"responsive\": true}                    ).then(function(){\n",
              "                            \n",
              "var gd = document.getElementById('e8feed73-6538-4e23-8abe-667beba91e1b');\n",
              "var x = new MutationObserver(function (mutations, observer) {{\n",
              "        var display = window.getComputedStyle(gd).display;\n",
              "        if (!display || display === 'none') {{\n",
              "            console.log([gd, 'removed!']);\n",
              "            Plotly.purge(gd);\n",
              "            observer.disconnect();\n",
              "        }}\n",
              "}});\n",
              "\n",
              "// Listen for the removal of the full notebook cells\n",
              "var notebookContainer = gd.closest('#notebook-container');\n",
              "if (notebookContainer) {{\n",
              "    x.observe(notebookContainer, {childList: true});\n",
              "}}\n",
              "\n",
              "// Listen for the clearing of the current output cell\n",
              "var outputEl = gd.closest('.output');\n",
              "if (outputEl) {{\n",
              "    x.observe(outputEl, {childList: true});\n",
              "}}\n",
              "\n",
              "                        })                };                            </script>        </div>\n",
              "</body>\n",
              "</html>"
            ]
          },
          "metadata": {}
        }
      ]
    },
    {
      "cell_type": "markdown",
      "id": "G6-RrjwuxYEw",
      "metadata": {
        "id": "G6-RrjwuxYEw"
      },
      "source": [
        "***\n",
        "\n",
        "# 4. Desarrollo del modelo RNN"
      ]
    },
    {
      "cell_type": "markdown",
      "source": [
        "***\n",
        "\n",
        "## 4.1. Hiperparámetros, partición y *DataLoaders*\n",
        "\n",
        "Se crea la (sub)clase **`IMDBDataset`** que toma cada reseña del **`DataFrame`**, la limpia, tokeniza, codifica a **`max_len`** índices con **`padding`** y entradas especiales de inicio/fin de secuencia. Finalmente, retorna la tupla: `(secuencias, length, labels)`"
      ],
      "metadata": {
        "id": "wqy-xlwJ2zMS"
      },
      "id": "wqy-xlwJ2zMS"
    },
    {
      "cell_type": "code",
      "source": [
        "# Clase basada en Dataset (Torch) para la carga de los datos\n",
        "class IMDBDataset(Dataset):\n",
        "    # Atributos de inicialización\n",
        "    def __init__(self, df, max_len):\n",
        "        self.texts   = df['text'].tolist()\n",
        "        self.labels  = df['label'].astype(int).tolist()\n",
        "        self.max_len = max_len\n",
        "\n",
        "    # Métodos necesarios en cualquier subclase de Dataset:\n",
        "    def __len__(self):\n",
        "        return len(self.texts)\n",
        "\n",
        "    def __getitem__(self, i):\n",
        "        # Ejecutar el preprocesamiento al momento de obtener los datos\n",
        "        toks = clean_and_tokenize(self.texts[i])\n",
        "\n",
        "        # Entradas especiales para establecer inicio y fin de secuencias\n",
        "        toks = ['<SOS>'] + toks + ['<EOS>']\n",
        "        seq  = encode(toks, self.max_len)\n",
        "\n",
        "        # Longitud real (sin padding)\n",
        "        length = min(len(toks), self.max_len)\n",
        "\n",
        "        return (\n",
        "            torch.tensor(seq, dtype=torch.long),\n",
        "            torch.tensor(length, dtype=torch.long),\n",
        "            torch.tensor(self.labels[i], dtype=torch.float32)\n",
        "        )"
      ],
      "metadata": {
        "id": "syOX51ok8o55"
      },
      "id": "syOX51ok8o55",
      "execution_count": 27,
      "outputs": []
    },
    {
      "cell_type": "markdown",
      "source": [
        "La función **`collate_batch`** asegura que cada batch de secuencias con longitud variable—cargado posteriormente con `DataLoader`—tenga uniformidad y cumpla con los requisitos de padding."
      ],
      "metadata": {
        "id": "BqBBYTUmVPGk"
      },
      "id": "BqBBYTUmVPGk"
    },
    {
      "cell_type": "code",
      "source": [
        "# Función para procesar correctamente batches de secuencias con longitud variable\n",
        "def collate_batch(batch):\n",
        "\n",
        "    seqs, lengths, labels = zip(*batch)\n",
        "\n",
        "    # Stackear tensores lengths y labels\n",
        "    lengths = torch.stack(lengths)\n",
        "    labels = torch.stack(labels)\n",
        "\n",
        "    # Stackear tensor secuencias + padding\n",
        "    padded_seqs = pad_sequence(seqs, batch_first=True, padding_value=vocab['<PAD>'])\n",
        "\n",
        "    # PyTorch espera que el batch esté ordenado de forma descendente respecto de las longitudes de secuencias\n",
        "    lengths, perm_idx = lengths.sort(descending=True)\n",
        "    padded_seqs = padded_seqs[perm_idx]\n",
        "    labels = labels[perm_idx]\n",
        "\n",
        "    return padded_seqs, lengths, labels"
      ],
      "metadata": {
        "id": "GcSWBpd9EKBe"
      },
      "id": "GcSWBpd9EKBe",
      "execution_count": 28,
      "outputs": []
    },
    {
      "cell_type": "markdown",
      "source": [
        "Como vimos en la sección anterior, el argumento **`max_len`** (utilizado por la clase `Dataset`, y por la función `encode`) representa un hiperparámetro en sí mismo, pues determina el tamaño estandarizado de los vectores, de modo que para definir un valor apropiado observaremos la distribución de las longitudes de tokens en todo el dataset."
      ],
      "metadata": {
        "id": "xyQa1Dy2WU-z"
      },
      "id": "xyQa1Dy2WU-z"
    },
    {
      "cell_type": "code",
      "source": [
        "def token_lengths_df(X):\n",
        "  # Obtener lengths de cada review tokenizado\n",
        "  token_lengths = X['text'].apply(lambda x: len(clean_and_tokenize(x)))\n",
        "\n",
        "  # Bins y labels\n",
        "  bins = [0, 100, 200, 300, 400, 500, 600, float('inf')]\n",
        "  bins_labels = ['<100', '100-199', '200-299', '300-399', '400-499', '500-599', '>=600']\n",
        "\n",
        "  # Intervalos discretos\n",
        "  intervalos = pd.cut(token_lengths, bins=bins, labels=bins_labels, right=False)\n",
        "  porcentajes = intervalos.value_counts(normalize=True).sort_index() * 100\n",
        "  acumulado = np.cumsum(porcentajes.values)\n",
        "\n",
        "  # DataFrame resumen\n",
        "  df_stats = pd.DataFrame({\n",
        "      'Intervalo': porcentajes.index,\n",
        "      '% de reseñas': porcentajes.values,\n",
        "      '% acumulado': acumulado,\n",
        "  })\n",
        "  return df_stats"
      ],
      "metadata": {
        "id": "HQPPWLFi_jh5"
      },
      "id": "HQPPWLFi_jh5",
      "execution_count": 39,
      "outputs": []
    },
    {
      "cell_type": "code",
      "source": [
        "token_lengths_df(data)"
      ],
      "metadata": {
        "id": "_u18vOwIJ0W2",
        "outputId": "7c689be2-f399-47be-eaf1-5712c2919bb4",
        "colab": {
          "base_uri": "https://localhost:8080/",
          "height": 269
        }
      },
      "id": "_u18vOwIJ0W2",
      "execution_count": 42,
      "outputs": [
        {
          "output_type": "execute_result",
          "data": {
            "text/plain": [
              "  Intervalo  % de reseñas  % acumulado\n",
              "0      <100     55.829117    55.829117\n",
              "1   100-199     29.688090    85.517207\n",
              "2   200-299      8.896609    94.413816\n",
              "3   300-399      3.358256    97.772072\n",
              "4   400-499      1.540669    99.312741\n",
              "5   500-599      0.631876    99.944616\n",
              "6     >=600      0.055384   100.000000"
            ],
            "text/html": [
              "\n",
              "  <div id=\"df-e54ef0ca-9782-491c-b0bd-b6861af24ef2\" class=\"colab-df-container\">\n",
              "    <div>\n",
              "<style scoped>\n",
              "    .dataframe tbody tr th:only-of-type {\n",
              "        vertical-align: middle;\n",
              "    }\n",
              "\n",
              "    .dataframe tbody tr th {\n",
              "        vertical-align: top;\n",
              "    }\n",
              "\n",
              "    .dataframe thead th {\n",
              "        text-align: right;\n",
              "    }\n",
              "</style>\n",
              "<table border=\"1\" class=\"dataframe\">\n",
              "  <thead>\n",
              "    <tr style=\"text-align: right;\">\n",
              "      <th></th>\n",
              "      <th>Intervalo</th>\n",
              "      <th>% de reseñas</th>\n",
              "      <th>% acumulado</th>\n",
              "    </tr>\n",
              "  </thead>\n",
              "  <tbody>\n",
              "    <tr>\n",
              "      <th>0</th>\n",
              "      <td>&lt;100</td>\n",
              "      <td>55.829117</td>\n",
              "      <td>55.829117</td>\n",
              "    </tr>\n",
              "    <tr>\n",
              "      <th>1</th>\n",
              "      <td>100-199</td>\n",
              "      <td>29.688090</td>\n",
              "      <td>85.517207</td>\n",
              "    </tr>\n",
              "    <tr>\n",
              "      <th>2</th>\n",
              "      <td>200-299</td>\n",
              "      <td>8.896609</td>\n",
              "      <td>94.413816</td>\n",
              "    </tr>\n",
              "    <tr>\n",
              "      <th>3</th>\n",
              "      <td>300-399</td>\n",
              "      <td>3.358256</td>\n",
              "      <td>97.772072</td>\n",
              "    </tr>\n",
              "    <tr>\n",
              "      <th>4</th>\n",
              "      <td>400-499</td>\n",
              "      <td>1.540669</td>\n",
              "      <td>99.312741</td>\n",
              "    </tr>\n",
              "    <tr>\n",
              "      <th>5</th>\n",
              "      <td>500-599</td>\n",
              "      <td>0.631876</td>\n",
              "      <td>99.944616</td>\n",
              "    </tr>\n",
              "    <tr>\n",
              "      <th>6</th>\n",
              "      <td>&gt;=600</td>\n",
              "      <td>0.055384</td>\n",
              "      <td>100.000000</td>\n",
              "    </tr>\n",
              "  </tbody>\n",
              "</table>\n",
              "</div>\n",
              "    <div class=\"colab-df-buttons\">\n",
              "\n",
              "  <div class=\"colab-df-container\">\n",
              "    <button class=\"colab-df-convert\" onclick=\"convertToInteractive('df-e54ef0ca-9782-491c-b0bd-b6861af24ef2')\"\n",
              "            title=\"Convert this dataframe to an interactive table.\"\n",
              "            style=\"display:none;\">\n",
              "\n",
              "  <svg xmlns=\"http://www.w3.org/2000/svg\" height=\"24px\" viewBox=\"0 -960 960 960\">\n",
              "    <path d=\"M120-120v-720h720v720H120Zm60-500h600v-160H180v160Zm220 220h160v-160H400v160Zm0 220h160v-160H400v160ZM180-400h160v-160H180v160Zm440 0h160v-160H620v160ZM180-180h160v-160H180v160Zm440 0h160v-160H620v160Z\"/>\n",
              "  </svg>\n",
              "    </button>\n",
              "\n",
              "  <style>\n",
              "    .colab-df-container {\n",
              "      display:flex;\n",
              "      gap: 12px;\n",
              "    }\n",
              "\n",
              "    .colab-df-convert {\n",
              "      background-color: #E8F0FE;\n",
              "      border: none;\n",
              "      border-radius: 50%;\n",
              "      cursor: pointer;\n",
              "      display: none;\n",
              "      fill: #1967D2;\n",
              "      height: 32px;\n",
              "      padding: 0 0 0 0;\n",
              "      width: 32px;\n",
              "    }\n",
              "\n",
              "    .colab-df-convert:hover {\n",
              "      background-color: #E2EBFA;\n",
              "      box-shadow: 0px 1px 2px rgba(60, 64, 67, 0.3), 0px 1px 3px 1px rgba(60, 64, 67, 0.15);\n",
              "      fill: #174EA6;\n",
              "    }\n",
              "\n",
              "    .colab-df-buttons div {\n",
              "      margin-bottom: 4px;\n",
              "    }\n",
              "\n",
              "    [theme=dark] .colab-df-convert {\n",
              "      background-color: #3B4455;\n",
              "      fill: #D2E3FC;\n",
              "    }\n",
              "\n",
              "    [theme=dark] .colab-df-convert:hover {\n",
              "      background-color: #434B5C;\n",
              "      box-shadow: 0px 1px 3px 1px rgba(0, 0, 0, 0.15);\n",
              "      filter: drop-shadow(0px 1px 2px rgba(0, 0, 0, 0.3));\n",
              "      fill: #FFFFFF;\n",
              "    }\n",
              "  </style>\n",
              "\n",
              "    <script>\n",
              "      const buttonEl =\n",
              "        document.querySelector('#df-e54ef0ca-9782-491c-b0bd-b6861af24ef2 button.colab-df-convert');\n",
              "      buttonEl.style.display =\n",
              "        google.colab.kernel.accessAllowed ? 'block' : 'none';\n",
              "\n",
              "      async function convertToInteractive(key) {\n",
              "        const element = document.querySelector('#df-e54ef0ca-9782-491c-b0bd-b6861af24ef2');\n",
              "        const dataTable =\n",
              "          await google.colab.kernel.invokeFunction('convertToInteractive',\n",
              "                                                    [key], {});\n",
              "        if (!dataTable) return;\n",
              "\n",
              "        const docLinkHtml = 'Like what you see? Visit the ' +\n",
              "          '<a target=\"_blank\" href=https://colab.research.google.com/notebooks/data_table.ipynb>data table notebook</a>'\n",
              "          + ' to learn more about interactive tables.';\n",
              "        element.innerHTML = '';\n",
              "        dataTable['output_type'] = 'display_data';\n",
              "        await google.colab.output.renderOutput(dataTable, element);\n",
              "        const docLink = document.createElement('div');\n",
              "        docLink.innerHTML = docLinkHtml;\n",
              "        element.appendChild(docLink);\n",
              "      }\n",
              "    </script>\n",
              "  </div>\n",
              "\n",
              "\n",
              "    <div id=\"df-f8e08841-737d-4b6e-b18b-def02583f680\">\n",
              "      <button class=\"colab-df-quickchart\" onclick=\"quickchart('df-f8e08841-737d-4b6e-b18b-def02583f680')\"\n",
              "                title=\"Suggest charts\"\n",
              "                style=\"display:none;\">\n",
              "\n",
              "<svg xmlns=\"http://www.w3.org/2000/svg\" height=\"24px\"viewBox=\"0 0 24 24\"\n",
              "     width=\"24px\">\n",
              "    <g>\n",
              "        <path d=\"M19 3H5c-1.1 0-2 .9-2 2v14c0 1.1.9 2 2 2h14c1.1 0 2-.9 2-2V5c0-1.1-.9-2-2-2zM9 17H7v-7h2v7zm4 0h-2V7h2v10zm4 0h-2v-4h2v4z\"/>\n",
              "    </g>\n",
              "</svg>\n",
              "      </button>\n",
              "\n",
              "<style>\n",
              "  .colab-df-quickchart {\n",
              "      --bg-color: #E8F0FE;\n",
              "      --fill-color: #1967D2;\n",
              "      --hover-bg-color: #E2EBFA;\n",
              "      --hover-fill-color: #174EA6;\n",
              "      --disabled-fill-color: #AAA;\n",
              "      --disabled-bg-color: #DDD;\n",
              "  }\n",
              "\n",
              "  [theme=dark] .colab-df-quickchart {\n",
              "      --bg-color: #3B4455;\n",
              "      --fill-color: #D2E3FC;\n",
              "      --hover-bg-color: #434B5C;\n",
              "      --hover-fill-color: #FFFFFF;\n",
              "      --disabled-bg-color: #3B4455;\n",
              "      --disabled-fill-color: #666;\n",
              "  }\n",
              "\n",
              "  .colab-df-quickchart {\n",
              "    background-color: var(--bg-color);\n",
              "    border: none;\n",
              "    border-radius: 50%;\n",
              "    cursor: pointer;\n",
              "    display: none;\n",
              "    fill: var(--fill-color);\n",
              "    height: 32px;\n",
              "    padding: 0;\n",
              "    width: 32px;\n",
              "  }\n",
              "\n",
              "  .colab-df-quickchart:hover {\n",
              "    background-color: var(--hover-bg-color);\n",
              "    box-shadow: 0 1px 2px rgba(60, 64, 67, 0.3), 0 1px 3px 1px rgba(60, 64, 67, 0.15);\n",
              "    fill: var(--button-hover-fill-color);\n",
              "  }\n",
              "\n",
              "  .colab-df-quickchart-complete:disabled,\n",
              "  .colab-df-quickchart-complete:disabled:hover {\n",
              "    background-color: var(--disabled-bg-color);\n",
              "    fill: var(--disabled-fill-color);\n",
              "    box-shadow: none;\n",
              "  }\n",
              "\n",
              "  .colab-df-spinner {\n",
              "    border: 2px solid var(--fill-color);\n",
              "    border-color: transparent;\n",
              "    border-bottom-color: var(--fill-color);\n",
              "    animation:\n",
              "      spin 1s steps(1) infinite;\n",
              "  }\n",
              "\n",
              "  @keyframes spin {\n",
              "    0% {\n",
              "      border-color: transparent;\n",
              "      border-bottom-color: var(--fill-color);\n",
              "      border-left-color: var(--fill-color);\n",
              "    }\n",
              "    20% {\n",
              "      border-color: transparent;\n",
              "      border-left-color: var(--fill-color);\n",
              "      border-top-color: var(--fill-color);\n",
              "    }\n",
              "    30% {\n",
              "      border-color: transparent;\n",
              "      border-left-color: var(--fill-color);\n",
              "      border-top-color: var(--fill-color);\n",
              "      border-right-color: var(--fill-color);\n",
              "    }\n",
              "    40% {\n",
              "      border-color: transparent;\n",
              "      border-right-color: var(--fill-color);\n",
              "      border-top-color: var(--fill-color);\n",
              "    }\n",
              "    60% {\n",
              "      border-color: transparent;\n",
              "      border-right-color: var(--fill-color);\n",
              "    }\n",
              "    80% {\n",
              "      border-color: transparent;\n",
              "      border-right-color: var(--fill-color);\n",
              "      border-bottom-color: var(--fill-color);\n",
              "    }\n",
              "    90% {\n",
              "      border-color: transparent;\n",
              "      border-bottom-color: var(--fill-color);\n",
              "    }\n",
              "  }\n",
              "</style>\n",
              "\n",
              "      <script>\n",
              "        async function quickchart(key) {\n",
              "          const quickchartButtonEl =\n",
              "            document.querySelector('#' + key + ' button');\n",
              "          quickchartButtonEl.disabled = true;  // To prevent multiple clicks.\n",
              "          quickchartButtonEl.classList.add('colab-df-spinner');\n",
              "          try {\n",
              "            const charts = await google.colab.kernel.invokeFunction(\n",
              "                'suggestCharts', [key], {});\n",
              "          } catch (error) {\n",
              "            console.error('Error during call to suggestCharts:', error);\n",
              "          }\n",
              "          quickchartButtonEl.classList.remove('colab-df-spinner');\n",
              "          quickchartButtonEl.classList.add('colab-df-quickchart-complete');\n",
              "        }\n",
              "        (() => {\n",
              "          let quickchartButtonEl =\n",
              "            document.querySelector('#df-f8e08841-737d-4b6e-b18b-def02583f680 button');\n",
              "          quickchartButtonEl.style.display =\n",
              "            google.colab.kernel.accessAllowed ? 'block' : 'none';\n",
              "        })();\n",
              "      </script>\n",
              "    </div>\n",
              "\n",
              "    </div>\n",
              "  </div>\n"
            ],
            "application/vnd.google.colaboratory.intrinsic+json": {
              "type": "dataframe",
              "summary": "{\n  \"name\": \"token_lengths_df(data)\",\n  \"rows\": 7,\n  \"fields\": [\n    {\n      \"column\": \"Intervalo\",\n      \"properties\": {\n        \"dtype\": \"category\",\n        \"num_unique_values\": 7,\n        \"samples\": [\n          \"<100\",\n          \"100-199\",\n          \"500-599\"\n        ],\n        \"semantic_type\": \"\",\n        \"description\": \"\"\n      }\n    },\n    {\n      \"column\": \"% de rese\\u00f1as\",\n      \"properties\": {\n        \"dtype\": \"number\",\n        \"std\": 21.06697674547533,\n        \"min\": 0.0553835309518415,\n        \"max\": 55.82911663268132,\n        \"num_unique_values\": 7,\n        \"samples\": [\n          55.82911663268132,\n          29.68809002341213,\n          0.6318757394960098\n        ],\n        \"semantic_type\": \"\",\n        \"description\": \"\"\n      }\n    },\n    {\n      \"column\": \"% acumulado\",\n      \"properties\": {\n        \"dtype\": \"number\",\n        \"std\": 16.08385546035149,\n        \"min\": 55.82911663268132,\n        \"max\": 100.0,\n        \"num_unique_values\": 7,\n        \"samples\": [\n          55.82911663268132,\n          85.51720665609345,\n          99.94461646904816\n        ],\n        \"semantic_type\": \"\",\n        \"description\": \"\"\n      }\n    }\n  ]\n}"
            }
          },
          "metadata": {},
          "execution_count": 42
        }
      ]
    },
    {
      "cell_type": "markdown",
      "source": [
        "Elegiremos el valor **`max_len=400`** para cubrir todos los tokens del **`~97 %`** de reseñas.\n",
        "\n",
        "Con una semilla fija se divide el conjunto en **`80 %, 10 %, 10 %`** (entrenamiento, validación y prueba) y cada segmento se coloca en un **`DataLoader`** de lote 64, barajado solo en entrenamiento."
      ],
      "metadata": {
        "id": "iYYOH084USqx"
      },
      "id": "iYYOH084USqx"
    },
    {
      "cell_type": "code",
      "source": [
        "# Instanciación de la clase\n",
        "ds = IMDBDataset(data, max_len=400)\n",
        "n = len(ds)\n",
        "\n",
        "# Partición de los datos\n",
        "train_ds, val_ds, test_ds = random_split(\n",
        "    ds,\n",
        "    [int(.8 * n), int(.1 * n), n - int(.9 * n)],\n",
        "    generator=torch.Generator().manual_seed(RANDOM_STATE)\n",
        ")\n",
        "\n",
        "# Definición de los dataloaders\n",
        "batch_size = 64\n",
        "train_loader = DataLoader(train_ds, batch_size=batch_size, shuffle=True, collate_fn=collate_batch)\n",
        "val_loader = DataLoader(val_ds, batch_size=batch_size, shuffle=False, collate_fn=collate_batch)\n",
        "test_loader = DataLoader(test_ds, batch_size=batch_size, shuffle=False, collate_fn=collate_batch)"
      ],
      "metadata": {
        "id": "tezvllb18tCu"
      },
      "id": "tezvllb18tCu",
      "execution_count": 43,
      "outputs": []
    },
    {
      "cell_type": "markdown",
      "source": [
        "## 4.2. Definición del modelo\n",
        "\n",
        "**`SentimentRNN`**, derivada de **`nn.Module`**, integra cuatro componentes clave [³]:\n",
        "\n",
        "* Primero aparece la capa de *embeddings*: si se suministran **`pretrained_weights`**, estos vectores se cargan mediante **`Embedding.from_pretrained`** y pueden mantenerse fijos o descongelarse según convenga; de lo contrario, se crea un **`Embedding`** estándar con el tamaño del vocabulario.\n",
        "\n",
        "* A continuación se encuentra la LSTM, configurable en dimensión oculta, número de capas y bidireccionalidad. Cuando se activa el modo bidireccional, el modelo recorre cada secuencia tanto en su orden natural como en sentido inverso, capturando dependencias de corto y largo alcance, y aplica *dropout* interno entre capas para mejorar la generalización.\n",
        "\n",
        "* Tras procesar la secuencia, se conserva únicamente el último estado temporal—que ya sintetiza la información más relevante—y se le aplica un **`Dropout`** externo como medida adicional contra el sobre‑ajuste. Finalmente, una capa totalmente conectada reduce la representación a un valor escalar que **`sigmoid`** transforma en la probabilidad de que la reseña sea positiva.\n",
        "\n",
        "* El método **`forward`** encadena estos pasos y devuelve el resultado aplanado con **`.squeeze`** para facilitar la comparación con la etiqueta.\n",
        "\n",
        "---\n",
        "\n",
        "La preferencia por LSTM sobre alternativas como GRU responde a tres factores complementarios:\n",
        "\n",
        "\n",
        "1. Primero, cerca del 50% de las reseñas de IMDb está por encima de los 100 *tokens* (y como vimos en la sección anterior, para asegurar cubrir todos los tokens del 97 % de reseñas, definimos `max_len=400`), por lo que las dependencias de largo plazo resultan importantes y la memoria explícita de la LSTM ofrece una ventaja.\n",
        "2. Segundo, el tamaño del corpus es lo bastante grande como para entrenar un modelo con más parámetros sin incurrir en sobre‑ajuste excesivo, especialmente con las técnicas de *dropout* ya mencionadas.\n",
        "3. Tercero y decisivo, un estudio reciente muestra que en este mismo conjunto de datos la LSTM supera consistentemente a la GRU en *accuracy*, corroborando hallazgos anteriores [⁴].\n",
        "\n",
        "A la luz de esta evidencia y de los requisitos de desempeño del proyecto, la LSTM se presenta como la opción más sólida en nuestra opinión."
      ],
      "metadata": {
        "id": "vPRMS7KNUVmE"
      },
      "id": "vPRMS7KNUVmE"
    },
    {
      "cell_type": "code",
      "source": [
        "class SentimentRNN(nn.Module):\n",
        "    def __init__(self, vocab_size, emb_dim=300, hid_dim=256, n_layers=3, bidir=True, drop=0.5, pretrained_weights=None):\n",
        "        super().__init__()\n",
        "\n",
        "        # Utilizar el embedding preentrenado\n",
        "        if pretrained_weights is not None:\n",
        "            self.embedding = nn.Embedding.from_pretrained(\n",
        "                torch.FloatTensor(pretrained_weights),\n",
        "                freeze=True,\n",
        "                padding_idx=vocab['<PAD>'] # 0s\n",
        "            )\n",
        "        # O instanciar uno nuevo con base en el tamaño de vocabulario\n",
        "        else:\n",
        "            self.embedding = nn.Embedding(\n",
        "                num_embeddings=vocab_size,\n",
        "                embedding_dim=emb_dim,\n",
        "                padding_idx=vocab['<PAD>'] # 0s\n",
        "            )\n",
        "\n",
        "        # LSTM\n",
        "        self.lstm = nn.LSTM(\n",
        "            input_size=emb_dim,\n",
        "            hidden_size=hid_dim,\n",
        "            num_layers=n_layers,\n",
        "            bidirectional=bidir,\n",
        "            batch_first=True,\n",
        "            dropout=drop if n_layers > 1 else 0.0\n",
        "        )\n",
        "\n",
        "        # Dropout y fully-connected final\n",
        "        self.dropout = nn.Dropout(drop)\n",
        "        self.fc = nn.Linear(\n",
        "            in_features=hid_dim * (2 if bidir else 1),\n",
        "            out_features=1\n",
        "        )\n",
        "\n",
        "    def forward(self, x, lengths):\n",
        "        # 1) Embed\n",
        "        emb = self.embedding(x)  # (B, T, D)\n",
        "\n",
        "        # 2) Pack\n",
        "        packed = pack_padded_sequence(emb, lengths.cpu(), batch_first=True, enforce_sorted=True)\n",
        "\n",
        "        # 3) LSTM\n",
        "        packed_out, _ = self.lstm(packed)\n",
        "\n",
        "        # 4) Unpack\n",
        "        out, _ = pad_packed_sequence(packed_out, batch_first=True)  # (B, T, 2H)\n",
        "\n",
        "        # 5) Gather the last valid output for each sequence\n",
        "        idx = (lengths - 1).view(-1, 1, 1).expand(-1, 1, out.size(2))\n",
        "        h_last = out.gather(1, idx).squeeze(1)  # (B, 2H)\n",
        "\n",
        "        # Logits\n",
        "        logits = self.fc(self.dropout(h_last))  # (B, 1)\n",
        "\n",
        "        # Salida con activación sigmoide (del enunciado)\n",
        "        return torch.sigmoid(logits).squeeze()  # (B,)"
      ],
      "metadata": {
        "id": "yod5PSrpEXcq"
      },
      "id": "yod5PSrpEXcq",
      "execution_count": 44,
      "outputs": []
    },
    {
      "cell_type": "markdown",
      "source": [
        "***\n",
        "\n",
        "## 4.3. Entrenamiento, validación y prueba\n",
        "\n",
        "La función **`train`** recorre las épocas alternando entrenamiento y validación, calcula pérdidas y precisiones, y registra todo en **`history`**. Al inicio se utiliza la técnica de descongelamiento progresivo [⁵] la cual  permite (i) conservar características generales útiles, (ii) adaptar con seguridad las capas superiores y (iii) mejorar la precisión sin sobre-ajustar, sobre todo en conjuntos de datos pequeños o medianos. Esta técnica se aplica a partir de la época 5 donde se llama a **`requires_grad_(True)`** y se crea un nuevo optimizador para incluir los parámetros recién liberados; esto permite fine-tuning de los vectores sin alterar la fase de arranque.\n",
        "\n",
        "Antes de cada actualización se aplica **`gradient clipping`** mediante **`clip_grad_norm_`**, limitando la norma de los gradientes a **`1.0`**; esto previene el problema de **`exploding gradients`**, que puede desestabilizar el aprendizaje al producir actualizaciones desmesuradas en los pesos, sobre todo en redes recurrentes y arquitecturas profundas [⁶]. Tras cada época se guarda el mejor modelo según la pérdida de validación y se activa **`Early Stopping`** si no hay mejora durante el número de épocas definido por **`patience`**; al finalizar, la función devuelve **`history`** para análisis posterior.\n",
        "\n",
        "Cabe resaltar que se usa Backpropagation Through Time (BPTT) la extensión del algoritmo de retropropagación estándar para redes recurrentes. En esencia, consiste en “desenrollar” la RNN a lo largo de cada paso temporal y aplicar la regla de la cadena a todo el grafo computacional resultante  [⁷]."
      ],
      "metadata": {
        "id": "oz4ZPXG44a8W"
      },
      "id": "oz4ZPXG44a8W"
    },
    {
      "cell_type": "code",
      "source": [
        "# Entrena una red para clasificación binaria con Early Stopping y gradient clipping.\n",
        "def train( model, train_loader, val_loader, epochs=10, lr=1e-3, device=\"cuda\", clip=1.0, patience=5, save_path=\"best_model.pt\"):\n",
        "\n",
        "    criterion  = nn.BCELoss()\n",
        "    #optimizer  = optim.Adam(model.parameters(), lr=lr, weight_decay=5e-5)  # <— usa el lr pasado\n",
        "    optimizer  = optim.Adam(model.parameters(), lr=lr)\n",
        "    best_val   = float(\"inf\")\n",
        "    epochs_no_imp = 0\n",
        "\n",
        "    history = {k: [] for k in (\"train_loss\", \"val_loss\", \"train_acc\", \"val_acc\")}\n",
        "\n",
        "    start_time = time.time()\n",
        "    for epoch in range(1, epochs + 1):\n",
        "        # Descongelar embeddings en la época 5\n",
        "        if epoch == 5:\n",
        "            model.embedding.weight.requires_grad_(True)\n",
        "\n",
        "            # opción simple: recrea el optimizador para que incluya la capa\n",
        "            optimizer = optim.Adam(\n",
        "                model.parameters(), lr=lr, weight_decay=1e-2\n",
        "            )\n",
        "\n",
        "        # ---------- Fase de entrenamiento ----------\n",
        "        model.train()\n",
        "        running_loss, running_corrects, total_train = 0.0, 0, 0\n",
        "\n",
        "        for x, lengths, y in train_loader:\n",
        "        #for x, y in train_loader:\n",
        "            x, lengths, y = x.to(device), lengths.to(device), y.to(device)\n",
        "            #x, y = x.to(device), y.to(device)\n",
        "            optimizer.zero_grad()\n",
        "\n",
        "            #outputs = model(x)\n",
        "            outputs = model(x, lengths)\n",
        "            loss    = criterion(outputs, y)\n",
        "            loss.backward()\n",
        "\n",
        "            nn.utils.clip_grad_norm_(model.parameters(), clip)  # gradient clipping\n",
        "            optimizer.step()\n",
        "\n",
        "            running_loss     += loss.item() * x.size(0)\n",
        "            preds             = (outputs >= 0.5).float()\n",
        "            running_corrects += (preds == y).sum().item()\n",
        "            total_train      += x.size(0)\n",
        "\n",
        "        epoch_train_loss = running_loss / total_train\n",
        "        epoch_train_acc  = running_corrects / total_train\n",
        "\n",
        "        # ---------- Fase de validación ----------\n",
        "        model.eval()\n",
        "        val_loss, val_corrects, total_val = 0.0, 0, 0\n",
        "\n",
        "        with torch.no_grad():\n",
        "            for x, lengths, y in train_loader:\n",
        "            #for x, y in val_loader:\n",
        "                x, lengths, y = x.to(device), lengths.to(device), y.to(device)\n",
        "                #x, y = x.to(device), y.to(device)\n",
        "                outputs = model(x, lengths)\n",
        "                #outputs = model(x)\n",
        "                val_loss += criterion(outputs, y).item() * x.size(0)\n",
        "\n",
        "                preds        = (outputs >= 0.5).float()\n",
        "                val_corrects += (preds == y).sum().item()\n",
        "                total_val    += x.size(0)\n",
        "\n",
        "        epoch_val_loss = val_loss / total_val\n",
        "        epoch_val_acc  = val_corrects / total_val\n",
        "\n",
        "        # ---------- Registro de métricas ----------\n",
        "        history[\"train_loss\"].append(epoch_train_loss)\n",
        "        history[\"val_loss\"].append(epoch_val_loss)\n",
        "        history[\"train_acc\"].append(epoch_train_acc)\n",
        "        history[\"val_acc\"].append(epoch_val_acc)\n",
        "\n",
        "        print(\n",
        "            f\"Epoch {epoch:02d} | \"\n",
        "            f\"Train Loss {epoch_train_loss:.4f}  Acc {epoch_train_acc:.4f} | \"\n",
        "            f\"Val Loss {epoch_val_loss:.4f}  Acc {epoch_val_acc:.4f}\"\n",
        "        )\n",
        "\n",
        "        # ---------- Early Stopping ----------\n",
        "        if epoch_val_loss < best_val:\n",
        "            best_val = epoch_val_loss\n",
        "            torch.save(model.state_dict(), save_path)\n",
        "            epochs_no_imp = 0\n",
        "        else:\n",
        "            epochs_no_imp += 1\n",
        "            if epochs_no_imp >= patience:\n",
        "                print(\"Early stopping\")\n",
        "                break\n",
        "\n",
        "    mins, secs = divmod(time.time() - start_time, 60)\n",
        "    print(f\"\\nTiempo total: {int(mins)} min {int(secs)} seg\")\n",
        "    return history"
      ],
      "metadata": {
        "id": "DVO5O3T1Kh4O"
      },
      "id": "DVO5O3T1Kh4O",
      "execution_count": 45,
      "outputs": []
    },
    {
      "cell_type": "markdown",
      "source": [
        "Se instancia **`model_w2v`** como una versión de **`SentimentRNN`** cuyos vectores de entrada provienen de un embebido **`Word2Vec`** de 300 dimensiones (**`w2v_weights`**) y se mueve al **`device`** seleccionado (GPU o CPU). Con este modelo se llama a **`train`** durante 15 épocas, una tasa de aprendizaje de **`2 × 10⁻⁴`**, *gradient clipping* y *early stopping* habilitados, utilizando los **`DataLoaders`** de entrenamiento y validación. El historial de pérdidas y precisiones se almacena en **`hist_w2v`**, mientras que los mejores pesos (según la pérdida de validación más baja) se guardan en **`best_w2v.pt`** para uso posterior."
      ],
      "metadata": {
        "id": "75G3J6o5ieVc"
      },
      "id": "75G3J6o5ieVc"
    },
    {
      "cell_type": "code",
      "source": [
        "# Word2Vec\n",
        "model_w2v = SentimentRNN(\n",
        "    vocab_size=len(vocab),\n",
        "    emb_dim=300,\n",
        "    hid_dim=256,\n",
        "    n_layers=3,\n",
        "    drop=0.5,\n",
        "    pretrained_weights=w2v_weights\n",
        ").to(device)\n",
        "\n",
        "hist_w2v = train(\n",
        "    model_w2v,\n",
        "    train_loader,\n",
        "    val_loader,\n",
        "    epochs=20,\n",
        "    lr=3e-5,\n",
        "    device=device,\n",
        "    save_path=\"best_w2v.pt\"\n",
        ")"
      ],
      "metadata": {
        "id": "ZYBhqK0KKzNt",
        "colab": {
          "base_uri": "https://localhost:8080/"
        },
        "outputId": "659daa44-e89b-4401-b648-eb61becf1820"
      },
      "id": "ZYBhqK0KKzNt",
      "execution_count": 46,
      "outputs": [
        {
          "output_type": "stream",
          "name": "stdout",
          "text": [
            "Epoch 01 | Train Loss 0.6219  Acc 0.6247 | Val Loss 0.4264  Acc 0.8136\n",
            "Epoch 02 | Train Loss 0.3948  Acc 0.8289 | Val Loss 0.3728  Acc 0.8427\n",
            "Epoch 03 | Train Loss 0.3633  Acc 0.8449 | Val Loss 0.3513  Acc 0.8474\n",
            "Epoch 04 | Train Loss 0.3533  Acc 0.8497 | Val Loss 0.3424  Acc 0.8522\n",
            "Epoch 05 | Train Loss 0.3555  Acc 0.8497 | Val Loss 0.3582  Acc 0.8516\n",
            "Epoch 06 | Train Loss 0.3776  Acc 0.8409 | Val Loss 0.4078  Acc 0.8184\n",
            "Epoch 07 | Train Loss 0.3889  Acc 0.8356 | Val Loss 0.3782  Acc 0.8394\n",
            "Epoch 08 | Train Loss 0.3976  Acc 0.8329 | Val Loss 0.3906  Acc 0.8414\n",
            "Epoch 09 | Train Loss 0.4048  Acc 0.8308 | Val Loss 0.3934  Acc 0.8367\n",
            "Early stopping\n",
            "\n",
            "Tiempo total: 17 min 28 seg\n"
          ]
        }
      ]
    },
    {
      "cell_type": "code",
      "source": [
        "# GloVe\n",
        "model_glove = SentimentRNN(\n",
        "    vocab_size=len(vocab),\n",
        "    emb_dim=300,\n",
        "    hid_dim=256,\n",
        "    n_layers=3,\n",
        "    drop=0.5,\n",
        "    pretrained_weights=glove_weights\n",
        ").to(device)\n",
        "\n",
        "hist_glove = train(\n",
        "    model_glove,\n",
        "    train_loader,\n",
        "    val_loader,\n",
        "    epochs=20,\n",
        "    lr=3e-5,\n",
        "    device=device,\n",
        "    save_path=\"best_glove.pt\"\n",
        ")"
      ],
      "metadata": {
        "id": "z3HEQeuahpTZ",
        "outputId": "eeb49301-6d03-49e0-bba1-247e04fe8902",
        "colab": {
          "base_uri": "https://localhost:8080/"
        }
      },
      "id": "z3HEQeuahpTZ",
      "execution_count": 47,
      "outputs": [
        {
          "output_type": "stream",
          "name": "stdout",
          "text": [
            "Epoch 01 | Train Loss 0.5750  Acc 0.6742 | Val Loss 0.4164  Acc 0.8210\n",
            "Epoch 02 | Train Loss 0.3929  Acc 0.8280 | Val Loss 0.3793  Acc 0.8404\n",
            "Epoch 03 | Train Loss 0.3678  Acc 0.8420 | Val Loss 0.3743  Acc 0.8433\n",
            "Epoch 04 | Train Loss 0.3542  Acc 0.8491 | Val Loss 0.3514  Acc 0.8552\n",
            "Epoch 05 | Train Loss 0.3559  Acc 0.8492 | Val Loss 0.3509  Acc 0.8518\n",
            "Epoch 06 | Train Loss 0.3705  Acc 0.8422 | Val Loss 0.3740  Acc 0.8421\n",
            "Epoch 07 | Train Loss 0.3901  Acc 0.8320 | Val Loss 0.3815  Acc 0.8370\n",
            "Epoch 08 | Train Loss 0.3971  Acc 0.8316 | Val Loss 0.4058  Acc 0.8223\n",
            "Epoch 09 | Train Loss 0.4041  Acc 0.8256 | Val Loss 0.4090  Acc 0.8325\n",
            "Epoch 10 | Train Loss 0.4047  Acc 0.8260 | Val Loss 0.4107  Acc 0.8185\n",
            "Early stopping\n",
            "\n",
            "Tiempo total: 19 min 33 seg\n"
          ]
        }
      ]
    },
    {
      "cell_type": "markdown",
      "id": "7JgtiyyfIyMM",
      "metadata": {
        "id": "7JgtiyyfIyMM"
      },
      "source": [
        "***\n",
        "\n",
        "\n",
        "# 5. Análisis de resultados y discusión\n",
        "\n",
        "Se instancia un nuevo **`SentimentRNN`** con los pesos de **`Word2Vec`** (300 dimensiones) y se envía al **`device`** detectado; a continuación se cargan los parámetros previamente entrenados desde **`best_w2v.pt`** mediante **`load_state_dict(torch.load(...))`**, dejando al modelo **`best_w2v`** listo para inferencia o evaluación sin requerir más entrenamiento."
      ]
    },
    {
      "cell_type": "code",
      "source": [
        "best_w2v = SentimentRNN(\n",
        "    vocab_size=len(vocab),   # mismo vocabulario\n",
        "    emb_dim=300,            # 300 d Word2Vec\n",
        "    hid_dim=256,            # como en el entrenamiento\n",
        "    n_layers=3,             # coincidir!\n",
        "    bidir=True,             # bidireccional\n",
        "    drop=0.5,\n",
        "    pretrained_weights=w2v_weights\n",
        ").to(device)\n",
        "best_w2v.load_state_dict(torch.load(\"best_w2v.pt\"))"
      ],
      "metadata": {
        "id": "MwXrB3ThRHcI",
        "outputId": "e830e384-8b83-4724-99c8-b77491fdffb6",
        "colab": {
          "base_uri": "https://localhost:8080/"
        }
      },
      "id": "MwXrB3ThRHcI",
      "execution_count": 48,
      "outputs": [
        {
          "output_type": "execute_result",
          "data": {
            "text/plain": [
              "<All keys matched successfully>"
            ]
          },
          "metadata": {},
          "execution_count": 48
        }
      ]
    },
    {
      "cell_type": "markdown",
      "source": [
        "Se define la función **`plot_history`** que recibe el diccionario **`history`** y crea dos gráficos de línea con **`matplotlib`**: el primero compara **`train_loss`** y **`val_loss`** por época, y el segundo hace lo mismo con **`train_acc`** y **`val_acc`**."
      ],
      "metadata": {
        "id": "Ty3gzWEui8xK"
      },
      "id": "Ty3gzWEui8xK"
    },
    {
      "cell_type": "code",
      "source": [
        "def plot_history(history):\n",
        "    epochs = range(1, len(history['train_loss']) + 1)\n",
        "\n",
        "    # Pérdidas\n",
        "    plt.figure(figsize=(8,4))\n",
        "    plt.plot(epochs, history['train_loss'], label='Train Loss')\n",
        "    plt.plot(epochs, history['val_loss'],   label='Val Loss')\n",
        "    plt.xlabel('Epoch')\n",
        "    plt.ylabel('Loss')\n",
        "    plt.title('Training vs Validation Loss')\n",
        "    plt.legend()\n",
        "    plt.tight_layout()\n",
        "    plt.show()\n",
        "\n",
        "    # Exactitudes\n",
        "    plt.figure(figsize=(8,4))\n",
        "    plt.plot(epochs, history['train_acc'], label='Train Acc')\n",
        "    plt.plot(epochs, history['val_acc'],   label='Val Acc')\n",
        "    plt.xlabel('Epoch')\n",
        "    plt.ylabel('Accuracy')\n",
        "    plt.title('Training vs Validation Accuracy')\n",
        "    plt.legend()\n",
        "    plt.tight_layout()\n",
        "    plt.show()"
      ],
      "metadata": {
        "id": "d4PT-Gz1Y9Mh"
      },
      "id": "d4PT-Gz1Y9Mh",
      "execution_count": 49,
      "outputs": []
    },
    {
      "cell_type": "code",
      "source": [
        "plot_history(hist_w2v)"
      ],
      "metadata": {
        "id": "hkHiJTa-ZAFC",
        "outputId": "c885591c-ccf7-415f-ae66-95e2f83e5e65",
        "colab": {
          "base_uri": "https://localhost:8080/",
          "height": 797
        }
      },
      "id": "hkHiJTa-ZAFC",
      "execution_count": 50,
      "outputs": [
        {
          "output_type": "display_data",
          "data": {
            "text/plain": [
              "<Figure size 800x400 with 1 Axes>"
            ],
            "image/png": "[encoded data removed]"
          },
          "metadata": {}
        },
        {
          "output_type": "display_data",
          "data": {
            "text/plain": [
              "<Figure size 800x400 with 1 Axes>"
            ],
            "image/png": "[encoded data removed]"
          },
          "metadata": {}
        }
      ]
    },
    {
      "cell_type": "markdown",
      "source": [
        "El gráfico muestra cómo la pérdida de entrenamiento (**`Train Loss`**) desciende de manera casi monótona, mientras que la pérdida de validación (**`Val Loss`**) baja lentamente hasta la época 5, oscila con un pico pronunciado en la época 9 y alcanza su mínimo en la 10, punto en el que se reduce la brecha entre ambas curvas. A partir de ahí la **`Train Loss`** sigue disminuyendo, pero la **`Val Loss`** se estabiliza y vuelve a subir levemente, señal de sobreajuste. El uso de *early stopping* detuvo el entrenamiento cerca del óptimo de validación, evitando que el modelo se desvíe; sin embargo, la variabilidad previa sugiere que podrían mejorarse la regularización (más **`dropout`** o **`weight decay`**) o la diversidad de datos para lograr curvas de validación más suaves y una convergencia más estable."
      ],
      "metadata": {
        "id": "qJZ_NDzdjQ7G"
      },
      "id": "qJZ_NDzdjQ7G"
    },
    {
      "cell_type": "markdown",
      "source": [
        "Se cargan los pesos óptimos en **`model_w2v`** con **`load_state_dict`** y se cambia a modo evaluación mediante **`eval()`** para desactivar **`dropout`** y el cálculo de gradientes. A continuación se recorre el **`test_loader`** sin seguimiento de gradiente (**`torch.no_grad()`**); cada lote se envía al **`device`**, se obtiene la probabilidad de clase positiva, se aplica un umbral de **`0.5`** para convertirla en etiqueta binaria y se acumulan predicciones (**`y_pred`**) y verdaderos (**`y_true`**). Finalmente se calculan cuatro métricas de rendimiento: **`accuracy_score`** (proporción de aciertos globales), **`recall_score`** (sensibilidad hacia la clase positiva), **`f1_score`** (promedio armónico entre precisión y _recall_) y **`confusion_matrix`** (tabla de errores y aciertos), proporcionando una visión cuantitativa de la capacidad generalizadora del modelo entrenado."
      ],
      "metadata": {
        "id": "We4fOjKpj4_8"
      },
      "id": "We4fOjKpj4_8"
    },
    {
      "cell_type": "code",
      "source": [
        "model_w2v.load_state_dict(torch.load('best_w2v.pt'))\n",
        "model_w2v.eval()\n",
        "\n",
        "y_true, y_pred = [], []\n",
        "\n",
        "model_w2v.load_state_dict(torch.load('best_w2v.pt'))\n",
        "model_w2v.eval()\n",
        "\n",
        "with torch.no_grad():\n",
        "    for x, lengths, y in test_loader:\n",
        "        # 1) Mover a device\n",
        "        x = x.to(device)\n",
        "        lengths = lengths.to(device)\n",
        "        # 2) Forward (recuerda el segundo argumento)\n",
        "        probs = model_w2v(x, lengths)\n",
        "        # 3) Umbral y CPU\n",
        "        preds = (probs.cpu().numpy() >= 0.5).astype(int)\n",
        "        # 4) Acumular\n",
        "        y_pred.extend(preds.tolist())\n",
        "        y_true.extend(y.numpy().astype(int).tolist())\n",
        "\n",
        "print(\"Accuracy:\", accuracy_score(y_true, y_pred))\n",
        "print(\"Recall:\",   recall_score(y_true, y_pred))\n",
        "print(\"F1-score:\", f1_score(y_true, y_pred))\n",
        "print(\"Confusion Matrix:\\n\", confusion_matrix(y_true, y_pred))"
      ],
      "metadata": {
        "id": "QI42wZnGNDhC",
        "outputId": "c8cca898-8fa7-4f80-c3a6-22f9a1111435",
        "colab": {
          "base_uri": "https://localhost:8080/"
        }
      },
      "id": "QI42wZnGNDhC",
      "execution_count": 51,
      "outputs": [
        {
          "output_type": "stream",
          "name": "stdout",
          "text": [
            "Accuracy: 0.8469670274351875\n",
            "Recall: 0.8910544727636182\n",
            "F1-score: 0.8543363679923335\n",
            "Confusion Matrix:\n",
            " [[1582  390]\n",
            " [ 218 1783]]\n"
          ]
        }
      ]
    },
    {
      "cell_type": "code",
      "source": [
        "cm = confusion_matrix(y_true, y_pred)\n",
        "class_names = ['Negative', 'Positive']\n",
        "plt.figure(figsize=(6, 5))\n",
        "sns.heatmap(cm,\n",
        "            annot=True,\n",
        "            fmt='d',\n",
        "            cmap='Blues',\n",
        "            xticklabels=class_names,\n",
        "            yticklabels=class_names)\n",
        "plt.xlabel(\"Predicción\")\n",
        "plt.ylabel(\"Etiqueta real\")\n",
        "plt.title(\"Matriz de confusión — Conjunto de prueba\")\n",
        "plt.tight_layout()\n",
        "plt.show()"
      ],
      "metadata": {
        "id": "VY-_TQIJkJbw",
        "outputId": "0240afb6-127c-4ac3-8c3f-8a6a5dd8eeb9",
        "colab": {
          "base_uri": "https://localhost:8080/",
          "height": 506
        }
      },
      "id": "VY-_TQIJkJbw",
      "execution_count": 52,
      "outputs": [
        {
          "output_type": "display_data",
          "data": {
            "text/plain": [
              "<Figure size 600x500 with 2 Axes>"
            ],
            "image/png": "[encoded data removed]"
          },
          "metadata": {}
        }
      ]
    },
    {
      "cell_type": "markdown",
      "source": [
        "El modelo alcanza un **`accuracy`** de **`~0.85`**, lo que significa que casi 85 % de las reseñas se clasifican correctamente. Con un **`recall`** de **`0.850`**, identifica alrededor del 85 % de las reseñas realmente positivas; unido a un **`F1-score`** de **`0.875`**, esto indica un buen equilibrio entre precisión y recuperación de la clase positiva.\n",
        "\n",
        "La matriz de confusión muestra que el modelo confunde más frecuentemente positivas como negativas (301 FN) que al revés (184 FP). Aun así, la proporción de verdaderos positivos (1700) y verdaderos negativos (1788) domina el total, evidenciando un desempeño sólido pero con margen para reducir los **`false negatives`**—p. ej., ajustando el umbral de decisión o añadiendo regularización para mejorar la cobertura de la clase positiva."
      ],
      "metadata": {
        "id": "ZCYFkXAEkRND"
      },
      "id": "ZCYFkXAEkRND"
    },
    {
      "cell_type": "markdown",
      "source": [
        "## Pruebas individuales del modelo\n",
        "\n",
        "La función **`predict_sentiment`** recibe un texto arbitrario (o del dataset de IMDb, y opcionalmente su etiqueta verdadera), y en modo evaluación:\n",
        "\n",
        "* Añade `<SOS>/<EOS>`, limpia y tokeniza el texto.\n",
        "* Crea la secuencia en un tensor de batch 1 y lo mueve al `device`.\n",
        "* Obtiene la probabilidad de positividad del SentimentRNN.\n",
        "* Imprime la reseña, la predicción (🟢/🔴) y P(positiva), sin calcular gradientes."
      ],
      "metadata": {
        "id": "i7hL2aoJkok-"
      },
      "id": "i7hL2aoJkok-"
    },
    {
      "cell_type": "code",
      "source": [
        "# Predecir sentimiento de un texto del dataset o de un texto arbitrario\n",
        "def predict_sentiment(text: str, true_label: int, model: nn.Module, vocab: dict, max_len: int = 300, device: str = \"cuda\"):\n",
        "\n",
        "    model.eval()\n",
        "\n",
        "    # Preprocesamiento regular\n",
        "    toks = [\"<SOS>\"] + clean_and_tokenize(text) + [\"<EOS>\"]\n",
        "    seq = encode(toks, max_len)\n",
        "    length = min(len(toks), max_len)\n",
        "\n",
        "    # Batch=1\n",
        "    x = torch.tensor([seq],   dtype=torch.long,   device=device)\n",
        "    lengths = torch.tensor([length],dtype=torch.long,   device=device)\n",
        "\n",
        "    # Forward\n",
        "    with torch.no_grad():\n",
        "        prob = model(x, lengths).item()\n",
        "    pred = 1 if prob >= 0.5 else 0\n",
        "\n",
        "    # Print resultados\n",
        "    print(\"Reseña:\", text)\n",
        "    # Si se pasa true_label, se asume que es un texto del dataset\n",
        "    if true_label is not None:\n",
        "      print(\" \")\n",
        "      print(f\"Valor verdadero : {true_label} ({'🟢 positiva' if true_label==1 else '🔴 negativa'})\")\n",
        "    print(f\"Predicción : {pred} ({'🟢 positiva'  if pred==1 else '🔴 negativa'})  |  P(positiva) = {prob:.4f}\")\n",
        "    print()"
      ],
      "metadata": {
        "id": "tbtQicsqWwTa"
      },
      "id": "tbtQicsqWwTa",
      "execution_count": 53,
      "outputs": []
    },
    {
      "cell_type": "code",
      "source": [
        "# Texto aleatorio del dataset\n",
        "idx_rand = np.random.randint(len(data))\n",
        "text_rand  = data.loc[idx_rand, \"text\"]\n",
        "label_rand = data.loc[idx_rand, \"label\"]\n",
        "\n",
        "# Predicción\n",
        "predict_sentiment(text_rand, label_rand, model_w2v, vocab, max_len=300, device=device)"
      ],
      "metadata": {
        "id": "hs_gr1QGW2D5",
        "outputId": "4120d175-bb37-48b4-a08e-7025a3288908",
        "colab": {
          "base_uri": "https://localhost:8080/"
        }
      },
      "id": "hs_gr1QGW2D5",
      "execution_count": 54,
      "outputs": [
        {
          "output_type": "stream",
          "name": "stdout",
          "text": [
            "Reseña: Let's get right to the heart of the matter...This is a terrible movie. The story is confusing, the supporting cast is laughable and the lead Actors look like they were forced to be in it. The story asks us to believe there is a underground lesbian sex cult where members are being murdered by their psychiatrist who just happens to be a transvestite. Ellen Barkin investigates the crimes and develops a crush on Peta Wilson whose job it seems is to be the cult recruiter. The sex scenes are equivalent to bad porn and when Barkin and Wilson kiss, Poor Ellen looks like she's in pain. Barkin's Talent is totally wasted in this B-grade sexploitation piece of junk and I hope she gave her agent the pink slip after landing her in this film.\n",
            " \n",
            "Valor verdadero : 0 (🔴 negativa)\n",
            "Predicción : 0 (🔴 negativa)  |  P(positiva) = 0.0228\n",
            "\n"
          ]
        }
      ]
    },
    {
      "cell_type": "code",
      "source": [
        "reviews = [\n",
        "  \"Thanks to this movie.\",                                       # Ambigua\n",
        "  \"Thanks to this movie. Thanks to this movie.\",                 # Ambigua, más extensa\n",
        "  \"Thanks to this movie we are all dumber than before.\",         # Negativa\n",
        "  \"Thanks to this movie we are all dumber than before. Awful\",   # Negativa + token negativo\n",
        "  \"Thanks to this movie we are all dumber than before. Great\",   # Negativa + token positivo\n",
        "  \"Thanks to this movie we are all happier than before. Great!\", # Positiva + token positivo + !\n",
        "  \"Thanks to this movie we are all dumber than before. Awful!\",  # Negativa + token negativo + !\n",
        "  \"Thanks to this movie we are all dumber than before. Awful!!\", # Negativa + token negativo + !!\n",
        "]\n",
        "\n",
        "# Predicción\n",
        "for r in reviews:\n",
        "  predict_sentiment(r, None, model_w2v, vocab, max_len=300, device=device)"
      ],
      "metadata": {
        "colab": {
          "base_uri": "https://localhost:8080/"
        },
        "id": "Z5osa3MHT0WI",
        "outputId": "9e1d44e7-0e36-4d9c-8064-3ef36fcc027f"
      },
      "id": "Z5osa3MHT0WI",
      "execution_count": 55,
      "outputs": [
        {
          "output_type": "stream",
          "name": "stdout",
          "text": [
            "Reseña: Thanks to this movie.\n",
            "Predicción : 1 (🟢 positiva)  |  P(positiva) = 0.5089\n",
            "\n",
            "Reseña: Thanks to this movie. Thanks to this movie.\n",
            "Predicción : 1 (🟢 positiva)  |  P(positiva) = 0.5516\n",
            "\n",
            "Reseña: Thanks to this movie we are all dumber than before.\n",
            "Predicción : 0 (🔴 negativa)  |  P(positiva) = 0.4155\n",
            "\n",
            "Reseña: Thanks to this movie we are all dumber than before. Awful\n",
            "Predicción : 0 (🔴 negativa)  |  P(positiva) = 0.3022\n",
            "\n",
            "Reseña: Thanks to this movie we are all dumber than before. Great\n",
            "Predicción : 0 (🔴 negativa)  |  P(positiva) = 0.4873\n",
            "\n",
            "Reseña: Thanks to this movie we are all happier than before. Great!\n",
            "Predicción : 1 (🟢 positiva)  |  P(positiva) = 0.7085\n",
            "\n",
            "Reseña: Thanks to this movie we are all dumber than before. Awful!\n",
            "Predicción : 0 (🔴 negativa)  |  P(positiva) = 0.3266\n",
            "\n",
            "Reseña: Thanks to this movie we are all dumber than before. Awful!!\n",
            "Predicción : 0 (🔴 negativa)  |  P(positiva) = 0.3329\n",
            "\n"
          ]
        }
      ]
    },
    {
      "cell_type": "markdown",
      "source": [
        "La reseña  recibió un **`score de positividad`** de **`0.215`**, muy por debajo del umbral **`0.5`**, por lo que el modelo la clasifica como **`Negative review`** con alta confianza. La probabilidad refleja que los términos «dumber» y la construcción irónica «Thanks to this movie…» transmiten un juicio claramente desfavorable, pero que un modelo básico podría confundir al valorar positivamente la palabra *thanks*. El LSTM ha aprendido a asociar esta combinación de palabras con la clase negativa. Si se quisiera afinar la detección de sarcasmo o matices sutiles, podría bajarse el umbral o incorporar ejemplos etiquetados de lenguaje sarcástico para mejorar la sensibilidad en este tipo de frases."
      ],
      "metadata": {
        "id": "ONaHERJlkywv"
      },
      "id": "ONaHERJlkywv"
    },
    {
      "cell_type": "markdown",
      "source": [
        "***\n",
        "\n",
        "\n",
        "# 6. Conclusión\n",
        "\n",
        "El clasificador basado en **`SentimentRNN + Word2Vec`** alcanza un rendimiento sólido (≈ 88 % de *accuracy* y F1 ≈ 0.88), aunque aún comete más falsos negativos que falsos positivos. La prueba con la reseña “Thanks to this movie we are all dumber than before.” confirma que el modelo detecta críticas evidentes. Para mejorar, convendría (i) ajustar el umbral o ponderar la clase positiva para reducir falsos negativos, (ii) reforzar la regularización (*dropout*, *weight decay*) y explorar búsqueda de hiperparámetros, y (iii) ampliar el repertorio de ejemplos —incluido sarcasmo— o probar representaciones más ricas (p. ej., embeddings contextualizados o atención) que capten mejor los matices lingüísticos."
      ],
      "metadata": {
        "id": "uDjo26cIk10k"
      },
      "id": "uDjo26cIk10k"
    },
    {
      "cell_type": "markdown",
      "id": "DwUWQIAE3O0o",
      "metadata": {
        "id": "DwUWQIAE3O0o"
      },
      "source": [
        "***\n",
        "\n",
        "\n",
        "# 7. Referencias"
      ]
    },
    {
      "cell_type": "markdown",
      "id": "BoLDjBS03xiQ",
      "metadata": {
        "id": "BoLDjBS03xiQ"
      },
      "source": [
        "\n",
        "[¹] **Pytorch, Sentiment Analysis**  \n",
        "Disponible en: [github.com](https://github.com/bentrevett/pytorch-sentiment-analysis/blob/main/2%20-%20Recurrent%20Neural%20Networks.ipynb)\n",
        "\n",
        "[¹] **GoogleNews-vectors-negative300**  \n",
        "Disponible en: [kaggle.com](https://www.kaggle.com/datasets/adarshsng/googlenewsvectors)\n",
        "\n",
        "\n",
        "[³] **Sentiment Analysis with an RNN**  \n",
        "Disponible en: [github.com](https://colab.research.google.com/github/agungsantoso/deep-learning-v2-pytorch/blob/master/sentiment-rnn/Sentiment_RNN_Exercise.ipynb#scrollTo=TJHNs4FZpmwj)\n",
        "\n",
        "\n",
        "\n",
        "[⁴] **LSTM and GRU Neural Network Performance Comparison Study: Taking Yelp Review Dataset as an Example**  \n",
        "Disponible en: [researchgate.net/](https://www.researchgate.net/publication/347267378_LSTM_and_GRU_Neural_Network_Performance_Comparison_Study_Taking_Yelp_Review_Dataset_as_an_Example)\n",
        "\n",
        "\n",
        "[⁵] **Transfer Learning: Why We Freeze and Unfreeze Model Layers**  \n",
        "Disponible en: [medium.com](https://medium.com/data-science-collective/transfer-learning-why-we-freeze-and-unfreeze-model-layers-0e0b8f9837ec)\n",
        "\n",
        "[⁶] **Understanding Gradient Clipping (and How It Can Fix Exploding Gradients Problem)**  \n",
        "Disponible en: [neptune.ai](https://neptune.ai/blog/understanding-gradient-clipping-and-how-it-can-fix-exploding-gradients-problem?utm_source=chatgpt.com)\n",
        "\n",
        "[⁷] **Sequence Modeling: Recurrent\n",
        "and Recursive Nets**  \n",
        "Disponible en: [github.io](https://egrcc.github.io/docs/dl/deeplearningbook-rnn.pdf)\n",
        "\n"
      ]
    }
  ],
  "metadata": {
    "colab": {
      "provenance": [],
      "gpuType": "T4",
      "toc_visible": true,
      "include_colab_link": true
    },
    "kernelspec": {
      "display_name": "Python 3",
      "name": "python3"
    },
    "language_info": {
      "codemirror_mode": {
        "name": "ipython",
        "version": 3
      },
      "file_extension": ".py",
      "mimetype": "text/x-python",
      "name": "python",
      "nbconvert_exporter": "python",
      "pygments_lexer": "ipython3",
      "version": "3.12.9"
    },
    "accelerator": "GPU",
    "widgets": {
      "application/vnd.jupyter.widget-state+json": {
        "12c1e61402074fa1a0837873d90c86f3": {
          "model_module": "@jupyter-widgets/controls",
          "model_name": "HBoxModel",
          "model_module_version": "1.5.0",
          "state": {
            "_dom_classes": [],
            "_model_module": "@jupyter-widgets/controls",
            "_model_module_version": "1.5.0",
            "_model_name": "HBoxModel",
            "_view_count": null,
            "_view_module": "@jupyter-widgets/controls",
            "_view_module_version": "1.5.0",
            "_view_name": "HBoxView",
            "box_style": "",
            "children": [
              "IPY_MODEL_051fb41818a0469f808c30266965a58e",
              "IPY_MODEL_752f54cb13e24411be230c99810067c5",
              "IPY_MODEL_61a6d1713f854315904451fee46486b8"
            ],
            "layout": "IPY_MODEL_9ab1f328a9ef466bad2ea27d6ca55582"
          }
        },
        "051fb41818a0469f808c30266965a58e": {
          "model_module": "@jupyter-widgets/controls",
          "model_name": "HTMLModel",
          "model_module_version": "1.5.0",
          "state": {
            "_dom_classes": [],
            "_model_module": "@jupyter-widgets/controls",
            "_model_module_version": "1.5.0",
            "_model_name": "HTMLModel",
            "_view_count": null,
            "_view_module": "@jupyter-widgets/controls",
            "_view_module_version": "1.5.0",
            "_view_name": "HTMLView",
            "description": "",
            "description_tooltip": null,
            "layout": "IPY_MODEL_341c5fc71c1a486d9078706c98328f68",
            "placeholder": "​",
            "style": "IPY_MODEL_0366c758fc6a41c0a193bffcc37e4786",
            "value": "word2vec-google-news-300.model: 100%"
          }
        },
        "752f54cb13e24411be230c99810067c5": {
          "model_module": "@jupyter-widgets/controls",
          "model_name": "FloatProgressModel",
          "model_module_version": "1.5.0",
          "state": {
            "_dom_classes": [],
            "_model_module": "@jupyter-widgets/controls",
            "_model_module_version": "1.5.0",
            "_model_name": "FloatProgressModel",
            "_view_count": null,
            "_view_module": "@jupyter-widgets/controls",
            "_view_module_version": "1.5.0",
            "_view_name": "ProgressView",
            "bar_style": "success",
            "description": "",
            "description_tooltip": null,
            "layout": "IPY_MODEL_d645128de7e0409c9162c37e2892e4d4",
            "max": 182007201,
            "min": 0,
            "orientation": "horizontal",
            "style": "IPY_MODEL_c27b5fa38326440c89c705b698dbdd8d",
            "value": 182007201
          }
        },
        "61a6d1713f854315904451fee46486b8": {
          "model_module": "@jupyter-widgets/controls",
          "model_name": "HTMLModel",
          "model_module_version": "1.5.0",
          "state": {
            "_dom_classes": [],
            "_model_module": "@jupyter-widgets/controls",
            "_model_module_version": "1.5.0",
            "_model_name": "HTMLModel",
            "_view_count": null,
            "_view_module": "@jupyter-widgets/controls",
            "_view_module_version": "1.5.0",
            "_view_name": "HTMLView",
            "description": "",
            "description_tooltip": null,
            "layout": "IPY_MODEL_b74bf462b528455594b46e28693de57d",
            "placeholder": "​",
            "style": "IPY_MODEL_9099b9bae3ee43fc81d78b9b13c020e4",
            "value": " 182M/182M [00:07&lt;00:00, 21.5MB/s]"
          }
        },
        "9ab1f328a9ef466bad2ea27d6ca55582": {
          "model_module": "@jupyter-widgets/base",
          "model_name": "LayoutModel",
          "model_module_version": "1.2.0",
          "state": {
            "_model_module": "@jupyter-widgets/base",
            "_model_module_version": "1.2.0",
            "_model_name": "LayoutModel",
            "_view_count": null,
            "_view_module": "@jupyter-widgets/base",
            "_view_module_version": "1.2.0",
            "_view_name": "LayoutView",
            "align_content": null,
            "align_items": null,
            "align_self": null,
            "border": null,
            "bottom": null,
            "display": null,
            "flex": null,
            "flex_flow": null,
            "grid_area": null,
            "grid_auto_columns": null,
            "grid_auto_flow": null,
            "grid_auto_rows": null,
            "grid_column": null,
            "grid_gap": null,
            "grid_row": null,
            "grid_template_areas": null,
            "grid_template_columns": null,
            "grid_template_rows": null,
            "height": null,
            "justify_content": null,
            "justify_items": null,
            "left": null,
            "margin": null,
            "max_height": null,
            "max_width": null,
            "min_height": null,
            "min_width": null,
            "object_fit": null,
            "object_position": null,
            "order": null,
            "overflow": null,
            "overflow_x": null,
            "overflow_y": null,
            "padding": null,
            "right": null,
            "top": null,
            "visibility": null,
            "width": null
          }
        },
        "341c5fc71c1a486d9078706c98328f68": {
          "model_module": "@jupyter-widgets/base",
          "model_name": "LayoutModel",
          "model_module_version": "1.2.0",
          "state": {
            "_model_module": "@jupyter-widgets/base",
            "_model_module_version": "1.2.0",
            "_model_name": "LayoutModel",
            "_view_count": null,
            "_view_module": "@jupyter-widgets/base",
            "_view_module_version": "1.2.0",
            "_view_name": "LayoutView",
            "align_content": null,
            "align_items": null,
            "align_self": null,
            "border": null,
            "bottom": null,
            "display": null,
            "flex": null,
            "flex_flow": null,
            "grid_area": null,
            "grid_auto_columns": null,
            "grid_auto_flow": null,
            "grid_auto_rows": null,
            "grid_column": null,
            "grid_gap": null,
            "grid_row": null,
            "grid_template_areas": null,
            "grid_template_columns": null,
            "grid_template_rows": null,
            "height": null,
            "justify_content": null,
            "justify_items": null,
            "left": null,
            "margin": null,
            "max_height": null,
            "max_width": null,
            "min_height": null,
            "min_width": null,
            "object_fit": null,
            "object_position": null,
            "order": null,
            "overflow": null,
            "overflow_x": null,
            "overflow_y": null,
            "padding": null,
            "right": null,
            "top": null,
            "visibility": null,
            "width": null
          }
        },
        "0366c758fc6a41c0a193bffcc37e4786": {
          "model_module": "@jupyter-widgets/controls",
          "model_name": "DescriptionStyleModel",
          "model_module_version": "1.5.0",
          "state": {
            "_model_module": "@jupyter-widgets/controls",
            "_model_module_version": "1.5.0",
            "_model_name": "DescriptionStyleModel",
            "_view_count": null,
            "_view_module": "@jupyter-widgets/base",
            "_view_module_version": "1.2.0",
            "_view_name": "StyleView",
            "description_width": ""
          }
        },
        "d645128de7e0409c9162c37e2892e4d4": {
          "model_module": "@jupyter-widgets/base",
          "model_name": "LayoutModel",
          "model_module_version": "1.2.0",
          "state": {
            "_model_module": "@jupyter-widgets/base",
            "_model_module_version": "1.2.0",
            "_model_name": "LayoutModel",
            "_view_count": null,
            "_view_module": "@jupyter-widgets/base",
            "_view_module_version": "1.2.0",
            "_view_name": "LayoutView",
            "align_content": null,
            "align_items": null,
            "align_self": null,
            "border": null,
            "bottom": null,
            "display": null,
            "flex": null,
            "flex_flow": null,
            "grid_area": null,
            "grid_auto_columns": null,
            "grid_auto_flow": null,
            "grid_auto_rows": null,
            "grid_column": null,
            "grid_gap": null,
            "grid_row": null,
            "grid_template_areas": null,
            "grid_template_columns": null,
            "grid_template_rows": null,
            "height": null,
            "justify_content": null,
            "justify_items": null,
            "left": null,
            "margin": null,
            "max_height": null,
            "max_width": null,
            "min_height": null,
            "min_width": null,
            "object_fit": null,
            "object_position": null,
            "order": null,
            "overflow": null,
            "overflow_x": null,
            "overflow_y": null,
            "padding": null,
            "right": null,
            "top": null,
            "visibility": null,
            "width": null
          }
        },
        "c27b5fa38326440c89c705b698dbdd8d": {
          "model_module": "@jupyter-widgets/controls",
          "model_name": "ProgressStyleModel",
          "model_module_version": "1.5.0",
          "state": {
            "_model_module": "@jupyter-widgets/controls",
            "_model_module_version": "1.5.0",
            "_model_name": "ProgressStyleModel",
            "_view_count": null,
            "_view_module": "@jupyter-widgets/base",
            "_view_module_version": "1.2.0",
            "_view_name": "StyleView",
            "bar_color": null,
            "description_width": ""
          }
        },
        "b74bf462b528455594b46e28693de57d": {
          "model_module": "@jupyter-widgets/base",
          "model_name": "LayoutModel",
          "model_module_version": "1.2.0",
          "state": {
            "_model_module": "@jupyter-widgets/base",
            "_model_module_version": "1.2.0",
            "_model_name": "LayoutModel",
            "_view_count": null,
            "_view_module": "@jupyter-widgets/base",
            "_view_module_version": "1.2.0",
            "_view_name": "LayoutView",
            "align_content": null,
            "align_items": null,
            "align_self": null,
            "border": null,
            "bottom": null,
            "display": null,
            "flex": null,
            "flex_flow": null,
            "grid_area": null,
            "grid_auto_columns": null,
            "grid_auto_flow": null,
            "grid_auto_rows": null,
            "grid_column": null,
            "grid_gap": null,
            "grid_row": null,
            "grid_template_areas": null,
            "grid_template_columns": null,
            "grid_template_rows": null,
            "height": null,
            "justify_content": null,
            "justify_items": null,
            "left": null,
            "margin": null,
            "max_height": null,
            "max_width": null,
            "min_height": null,
            "min_width": null,
            "object_fit": null,
            "object_position": null,
            "order": null,
            "overflow": null,
            "overflow_x": null,
            "overflow_y": null,
            "padding": null,
            "right": null,
            "top": null,
            "visibility": null,
            "width": null
          }
        },
        "9099b9bae3ee43fc81d78b9b13c020e4": {
          "model_module": "@jupyter-widgets/controls",
          "model_name": "DescriptionStyleModel",
          "model_module_version": "1.5.0",
          "state": {
            "_model_module": "@jupyter-widgets/controls",
            "_model_module_version": "1.5.0",
            "_model_name": "DescriptionStyleModel",
            "_view_count": null,
            "_view_module": "@jupyter-widgets/base",
            "_view_module_version": "1.2.0",
            "_view_name": "StyleView",
            "description_width": ""
          }
        },
        "d60ca36c4d1842578a289c19ff906c61": {
          "model_module": "@jupyter-widgets/controls",
          "model_name": "HBoxModel",
          "model_module_version": "1.5.0",
          "state": {
            "_dom_classes": [],
            "_model_module": "@jupyter-widgets/controls",
            "_model_module_version": "1.5.0",
            "_model_name": "HBoxModel",
            "_view_count": null,
            "_view_module": "@jupyter-widgets/controls",
            "_view_module_version": "1.5.0",
            "_view_name": "HBoxView",
            "box_style": "",
            "children": [
              "IPY_MODEL_cb76a4f224fc4948856ad9f44d071dff",
              "IPY_MODEL_0c47958544ae47c09875304a4321adf2",
              "IPY_MODEL_4dd5d90d31904bc494090ed1872b0d6b"
            ],
            "layout": "IPY_MODEL_e2ca181249d94616b7b3b6a1b2bdaa87"
          }
        },
        "cb76a4f224fc4948856ad9f44d071dff": {
          "model_module": "@jupyter-widgets/controls",
          "model_name": "HTMLModel",
          "model_module_version": "1.5.0",
          "state": {
            "_dom_classes": [],
            "_model_module": "@jupyter-widgets/controls",
            "_model_module_version": "1.5.0",
            "_model_name": "HTMLModel",
            "_view_count": null,
            "_view_module": "@jupyter-widgets/controls",
            "_view_module_version": "1.5.0",
            "_view_name": "HTMLView",
            "description": "",
            "description_tooltip": null,
            "layout": "IPY_MODEL_956e4b9daf194bd4927b9887e777a033",
            "placeholder": "​",
            "style": "IPY_MODEL_b59ea50400ff4a348bd10b0ce1a65f86",
            "value": "(…)rd2vec-google-news-300.model.vectors.npy: 100%"
          }
        },
        "0c47958544ae47c09875304a4321adf2": {
          "model_module": "@jupyter-widgets/controls",
          "model_name": "FloatProgressModel",
          "model_module_version": "1.5.0",
          "state": {
            "_dom_classes": [],
            "_model_module": "@jupyter-widgets/controls",
            "_model_module_version": "1.5.0",
            "_model_name": "FloatProgressModel",
            "_view_count": null,
            "_view_module": "@jupyter-widgets/controls",
            "_view_module_version": "1.5.0",
            "_view_name": "ProgressView",
            "bar_style": "success",
            "description": "",
            "description_tooltip": null,
            "layout": "IPY_MODEL_773b35307da343e98661577f99408c38",
            "max": 3600000128,
            "min": 0,
            "orientation": "horizontal",
            "style": "IPY_MODEL_60444e1621bc4fdd937b4b6cded1607b",
            "value": 3600000128
          }
        },
        "4dd5d90d31904bc494090ed1872b0d6b": {
          "model_module": "@jupyter-widgets/controls",
          "model_name": "HTMLModel",
          "model_module_version": "1.5.0",
          "state": {
            "_dom_classes": [],
            "_model_module": "@jupyter-widgets/controls",
            "_model_module_version": "1.5.0",
            "_model_name": "HTMLModel",
            "_view_count": null,
            "_view_module": "@jupyter-widgets/controls",
            "_view_module_version": "1.5.0",
            "_view_name": "HTMLView",
            "description": "",
            "description_tooltip": null,
            "layout": "IPY_MODEL_4e7b8a9f26d543ad8369ba09930c88fe",
            "placeholder": "​",
            "style": "IPY_MODEL_2feb2ee645254b97956b40642595f368",
            "value": " 3.60G/3.60G [02:37&lt;00:00, 22.6MB/s]"
          }
        },
        "e2ca181249d94616b7b3b6a1b2bdaa87": {
          "model_module": "@jupyter-widgets/base",
          "model_name": "LayoutModel",
          "model_module_version": "1.2.0",
          "state": {
            "_model_module": "@jupyter-widgets/base",
            "_model_module_version": "1.2.0",
            "_model_name": "LayoutModel",
            "_view_count": null,
            "_view_module": "@jupyter-widgets/base",
            "_view_module_version": "1.2.0",
            "_view_name": "LayoutView",
            "align_content": null,
            "align_items": null,
            "align_self": null,
            "border": null,
            "bottom": null,
            "display": null,
            "flex": null,
            "flex_flow": null,
            "grid_area": null,
            "grid_auto_columns": null,
            "grid_auto_flow": null,
            "grid_auto_rows": null,
            "grid_column": null,
            "grid_gap": null,
            "grid_row": null,
            "grid_template_areas": null,
            "grid_template_columns": null,
            "grid_template_rows": null,
            "height": null,
            "justify_content": null,
            "justify_items": null,
            "left": null,
            "margin": null,
            "max_height": null,
            "max_width": null,
            "min_height": null,
            "min_width": null,
            "object_fit": null,
            "object_position": null,
            "order": null,
            "overflow": null,
            "overflow_x": null,
            "overflow_y": null,
            "padding": null,
            "right": null,
            "top": null,
            "visibility": null,
            "width": null
          }
        },
        "956e4b9daf194bd4927b9887e777a033": {
          "model_module": "@jupyter-widgets/base",
          "model_name": "LayoutModel",
          "model_module_version": "1.2.0",
          "state": {
            "_model_module": "@jupyter-widgets/base",
            "_model_module_version": "1.2.0",
            "_model_name": "LayoutModel",
            "_view_count": null,
            "_view_module": "@jupyter-widgets/base",
            "_view_module_version": "1.2.0",
            "_view_name": "LayoutView",
            "align_content": null,
            "align_items": null,
            "align_self": null,
            "border": null,
            "bottom": null,
            "display": null,
            "flex": null,
            "flex_flow": null,
            "grid_area": null,
            "grid_auto_columns": null,
            "grid_auto_flow": null,
            "grid_auto_rows": null,
            "grid_column": null,
            "grid_gap": null,
            "grid_row": null,
            "grid_template_areas": null,
            "grid_template_columns": null,
            "grid_template_rows": null,
            "height": null,
            "justify_content": null,
            "justify_items": null,
            "left": null,
            "margin": null,
            "max_height": null,
            "max_width": null,
            "min_height": null,
            "min_width": null,
            "object_fit": null,
            "object_position": null,
            "order": null,
            "overflow": null,
            "overflow_x": null,
            "overflow_y": null,
            "padding": null,
            "right": null,
            "top": null,
            "visibility": null,
            "width": null
          }
        },
        "b59ea50400ff4a348bd10b0ce1a65f86": {
          "model_module": "@jupyter-widgets/controls",
          "model_name": "DescriptionStyleModel",
          "model_module_version": "1.5.0",
          "state": {
            "_model_module": "@jupyter-widgets/controls",
            "_model_module_version": "1.5.0",
            "_model_name": "DescriptionStyleModel",
            "_view_count": null,
            "_view_module": "@jupyter-widgets/base",
            "_view_module_version": "1.2.0",
            "_view_name": "StyleView",
            "description_width": ""
          }
        },
        "773b35307da343e98661577f99408c38": {
          "model_module": "@jupyter-widgets/base",
          "model_name": "LayoutModel",
          "model_module_version": "1.2.0",
          "state": {
            "_model_module": "@jupyter-widgets/base",
            "_model_module_version": "1.2.0",
            "_model_name": "LayoutModel",
            "_view_count": null,
            "_view_module": "@jupyter-widgets/base",
            "_view_module_version": "1.2.0",
            "_view_name": "LayoutView",
            "align_content": null,
            "align_items": null,
            "align_self": null,
            "border": null,
            "bottom": null,
            "display": null,
            "flex": null,
            "flex_flow": null,
            "grid_area": null,
            "grid_auto_columns": null,
            "grid_auto_flow": null,
            "grid_auto_rows": null,
            "grid_column": null,
            "grid_gap": null,
            "grid_row": null,
            "grid_template_areas": null,
            "grid_template_columns": null,
            "grid_template_rows": null,
            "height": null,
            "justify_content": null,
            "justify_items": null,
            "left": null,
            "margin": null,
            "max_height": null,
            "max_width": null,
            "min_height": null,
            "min_width": null,
            "object_fit": null,
            "object_position": null,
            "order": null,
            "overflow": null,
            "overflow_x": null,
            "overflow_y": null,
            "padding": null,
            "right": null,
            "top": null,
            "visibility": null,
            "width": null
          }
        },
        "60444e1621bc4fdd937b4b6cded1607b": {
          "model_module": "@jupyter-widgets/controls",
          "model_name": "ProgressStyleModel",
          "model_module_version": "1.5.0",
          "state": {
            "_model_module": "@jupyter-widgets/controls",
            "_model_module_version": "1.5.0",
            "_model_name": "ProgressStyleModel",
            "_view_count": null,
            "_view_module": "@jupyter-widgets/base",
            "_view_module_version": "1.2.0",
            "_view_name": "StyleView",
            "bar_color": null,
            "description_width": ""
          }
        },
        "4e7b8a9f26d543ad8369ba09930c88fe": {
          "model_module": "@jupyter-widgets/base",
          "model_name": "LayoutModel",
          "model_module_version": "1.2.0",
          "state": {
            "_model_module": "@jupyter-widgets/base",
            "_model_module_version": "1.2.0",
            "_model_name": "LayoutModel",
            "_view_count": null,
            "_view_module": "@jupyter-widgets/base",
            "_view_module_version": "1.2.0",
            "_view_name": "LayoutView",
            "align_content": null,
            "align_items": null,
            "align_self": null,
            "border": null,
            "bottom": null,
            "display": null,
            "flex": null,
            "flex_flow": null,
            "grid_area": null,
            "grid_auto_columns": null,
            "grid_auto_flow": null,
            "grid_auto_rows": null,
            "grid_column": null,
            "grid_gap": null,
            "grid_row": null,
            "grid_template_areas": null,
            "grid_template_columns": null,
            "grid_template_rows": null,
            "height": null,
            "justify_content": null,
            "justify_items": null,
            "left": null,
            "margin": null,
            "max_height": null,
            "max_width": null,
            "min_height": null,
            "min_width": null,
            "object_fit": null,
            "object_position": null,
            "order": null,
            "overflow": null,
            "overflow_x": null,
            "overflow_y": null,
            "padding": null,
            "right": null,
            "top": null,
            "visibility": null,
            "width": null
          }
        },
        "2feb2ee645254b97956b40642595f368": {
          "model_module": "@jupyter-widgets/controls",
          "model_name": "DescriptionStyleModel",
          "model_module_version": "1.5.0",
          "state": {
            "_model_module": "@jupyter-widgets/controls",
            "_model_module_version": "1.5.0",
            "_model_name": "DescriptionStyleModel",
            "_view_count": null,
            "_view_module": "@jupyter-widgets/base",
            "_view_module_version": "1.2.0",
            "_view_name": "StyleView",
            "description_width": ""
          }
        }
      }
    }
  },
  "nbformat": 4,
  "nbformat_minor": 5
}