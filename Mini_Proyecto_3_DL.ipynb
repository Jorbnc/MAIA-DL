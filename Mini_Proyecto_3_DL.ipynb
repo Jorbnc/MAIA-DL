{
  "cells": [
    {
      "cell_type": "markdown",
      "metadata": {
        "id": "view-in-github",
        "colab_type": "text"
      },
      "source": [
        "<a href=\"https://colab.research.google.com/github/Jorbnc/MAIA-DL/blob/master/Mini_Proyecto_3_DL.ipynb\" target=\"_parent\"><img src=\"https://colab.research.google.com/assets/colab-badge.svg\" alt=\"Open In Colab\"/></a>"
      ]
    },
    {
      "cell_type": "markdown",
      "id": "oa_MJEGQ6jTi",
      "metadata": {
        "id": "oa_MJEGQ6jTi"
      },
      "source": [
        "![Universidad_de_los_Andes_30.png](data:image/png;base64,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)"
      ]
    },
    {
      "cell_type": "markdown",
      "id": "sl89pic17iPU",
      "metadata": {
        "id": "sl89pic17iPU"
      },
      "source": [
        "<style>\n",
        "@import url('https://fonts.googleapis.com/css2?family=Latin+Modern+Roman:wght@400;700&display=swap');\n",
        "\n",
        "body, p, h1, h2, h3, h4, h5, h6, li {\n",
        "  font-family: 'Latin Modern Roman', serif;\n",
        "}\n",
        "code, pre {\n",
        "  font-family: 'Fira Mono', monospace;\n",
        "}\n",
        "</style>\n",
        "\n",
        "***\n",
        "\n",
        "# **Miniproyecto 3, Técnicas de *Deep Learning*: ...**\n",
        "\n",
        "## **Descripción del problema:**\n",
        "\n",
        "...\n",
        "\n",
        "## **Objetivo:**\n",
        "\n",
        "..."
      ]
    },
    {
      "cell_type": "markdown",
      "id": "SiCS5j-HAbCB",
      "metadata": {
        "id": "SiCS5j-HAbCB"
      },
      "source": [
        "***\n",
        "\n",
        "**Este proyecto es realizado por Andrés Felipe Ñungo y Jordan Bryan Núñez Campos para entrega el 13 de mayo de 2025.**\n"
      ]
    },
    {
      "cell_type": "markdown",
      "id": "8VqTMx7TYgjH",
      "metadata": {
        "id": "8VqTMx7TYgjH"
      },
      "source": [
        "\n",
        "***\n",
        "# **Índice**\n",
        "\n",
        "El *notebook* aborda el proyecto con la siguiente estructura:\n",
        "\n",
        "| 🔹 | Sección        |\n",
        "|----|----------------|\n",
        "| 1️⃣. | **Instalación y carga de librerías** |\n",
        "| 1️⃣.1️⃣. | **Word2Vec** |\n",
        "| 1️⃣.2️⃣. | **GloVe** |\n",
        "| 1️⃣.3️⃣. | **Configuraciones adicionales** |\n",
        "| 2️⃣. | **Análisis exploratorio y preparación de los datos**       |\n",
        "| 2️⃣.1️⃣. | **Carga y estadísticas generales**       |\n",
        "| 2️⃣.2️⃣. | **Limpieza de los datos**       |\n",
        "| 3️⃣. | **Definición de *pipelines* de procesamiento**          |\n",
        "| 3️⃣.1️⃣. | **Pipeline de preprocesamiento**   |\n",
        "| 4️⃣. | **Desarrollo del modelo RNN**   |\n",
        "| 4️⃣.1️⃣. | **Hiperparámetros, Partición y DataLoaders**   |\n",
        "| 4️⃣.2️⃣. | **Definición del modelo**   |\n",
        "| 4️⃣.3️⃣. | **Entrenamiento, validación y prueba**   |\n",
        "| 5️⃣. | **Análisis de resultados y discusión**   |\n",
        "| 5️⃣.1️⃣. | **Pruebas individuales del modelo**   |\n",
        "| 6️⃣. | **Conclusión**   |\n",
        "| 7️⃣. | **Referencias**   |\n"
      ]
    },
    {
      "cell_type": "markdown",
      "id": "2cyVuwlHB_W3",
      "metadata": {
        "id": "2cyVuwlHB_W3"
      },
      "source": [
        "***\n",
        "\n",
        "# 1. Instalación y carga de librerías"
      ]
    },
    {
      "cell_type": "markdown",
      "source": [
        "Después de la instalación de algunas librerías (algunas instalaciones se usan para que el proyecto funcione correctamente en *Coursera*), se importan utilidades generales (**`os`**, **`random`**,**`time`**, **`NumPy`**, **`pandas`**), librerías para descarga de *datasets* y de *embeddings*. Adicionalmente, se importan librerías para el procesamiento de documentos y herramientas de PLN con **`NLTK`** (incluida la descarga de *stop-words*), módulos de **`PyTorch`** para construir y entrenar la red, métricas de **`scikit-learn`** y utilidades de visualización con **`Matplotlib`**."
      ],
      "metadata": {
        "id": "DkjBiBB5rU6t"
      },
      "id": "DkjBiBB5rU6t"
    },
    {
      "cell_type": "code",
      "source": [
        "# Instalación de librerías necesarias para correr en Colab/Coursera\n",
        "%pip install -q --no-cache-dir kagglehub langdetect\n",
        "%pip install -q --no-cache-dir huggingface_hub\n",
        "%pip install -q --no-cache-dir nltk\n",
        "%pip install -q --no-cache-dir wordcloud\n",
        "%pip install -q --no-cache-dir plotly"
      ],
      "metadata": {
        "id": "l26426jMLCxE",
        "outputId": "e260c210-733d-4f0d-e37b-b4f58db3878d",
        "colab": {
          "base_uri": "https://localhost:8080/"
        }
      },
      "id": "l26426jMLCxE",
      "execution_count": null,
      "outputs": [
        {
          "output_type": "stream",
          "name": "stdout",
          "text": [
            "\u001b[?25l     \u001b[90m━━━━━━━━━━━━━━━━━━━━━━━━━━━━━━━━━━━━━━━━\u001b[0m \u001b[32m0.0/981.5 kB\u001b[0m \u001b[31m?\u001b[0m eta \u001b[36m-:--:--\u001b[0m\r\u001b[2K     \u001b[91m━━━━━\u001b[0m\u001b[91m╸\u001b[0m\u001b[90m━━━━━━━━━━━━━━━━━━━━━━━━━━━━━━━━━\u001b[0m \u001b[32m143.4/981.5 kB\u001b[0m \u001b[31m4.8 MB/s\u001b[0m eta \u001b[36m0:00:01\u001b[0m\r\u001b[2K     \u001b[90m━━━━━━━━━━━━━━━━━━━━━━━━━━━━━━━━━━━━━━\u001b[0m \u001b[32m981.5/981.5 kB\u001b[0m \u001b[31m15.5 MB/s\u001b[0m eta \u001b[36m0:00:00\u001b[0m\n",
            "\u001b[?25h  Preparing metadata (setup.py) ... \u001b[?25l\u001b[?25hdone\n",
            "  Building wheel for langdetect (setup.py) ... \u001b[?25l\u001b[?25hdone\n"
          ]
        }
      ]
    },
    {
      "cell_type": "code",
      "source": [
        "# Librerías comunes\n",
        "import os\n",
        "import random\n",
        "import time\n",
        "import numpy as np\n",
        "import pandas as pd\n",
        "import sys\n",
        "import types\n",
        "\n",
        "# Descarga de datasets y de embeddings\n",
        "import kagglehub\n",
        "from huggingface_hub import hf_hub_download\n",
        "#Extracción de diccionarios\n",
        "import pickle\n",
        "\n",
        "# Preprocesamiento y herramientas de PLN\n",
        "import nltk\n",
        "from nltk.tokenize import word_tokenize\n",
        "from nltk.corpus import stopwords\n",
        "from collections import Counter\n",
        "import re\n",
        "from sklearn.preprocessing import StandardScaler\n",
        "from sklearn.decomposition import PCA\n",
        "from langdetect import detect\n",
        "\n",
        "# Palabras vacías\n",
        "nltk.download('stopwords')\n",
        "\n",
        "# Modelado\n",
        "import torch\n",
        "import torch.nn as nn\n",
        "from torch.utils.data import Dataset, DataLoader, random_split\n",
        "import torch.optim as optim\n",
        "from torch.nn.utils.rnn import pack_padded_sequence, pad_packed_sequence, pad_sequence\n",
        "\n",
        "# Evaluación\n",
        "from sklearn.metrics import accuracy_score, f1_score, recall_score, confusion_matrix\n",
        "\n",
        "# Librerías para visualizaciones\n",
        "import matplotlib.pyplot as plt\n",
        "import seaborn as sns\n",
        "from wordcloud import WordCloud\n",
        "from mpl_toolkits.mplot3d import Axes3D\n",
        "from sklearn.manifold import TSNE\n",
        "import plotly.express as px"
      ],
      "metadata": {
        "id": "osjmTJMvtxua",
        "colab": {
          "base_uri": "https://localhost:8080/"
        },
        "outputId": "da50236e-ac18-4de3-8903-07ceca5a571d"
      },
      "id": "osjmTJMvtxua",
      "execution_count": null,
      "outputs": [
        {
          "output_type": "stream",
          "name": "stderr",
          "text": [
            "[nltk_data] Downloading package stopwords to /root/nltk_data...\n",
            "[nltk_data]   Unzipping corpora/stopwords.zip.\n"
          ]
        }
      ]
    },
    {
      "cell_type": "markdown",
      "source": [
        "Se descarga el conjunto de datos de reseñas de películas IMDB utilizando **`kagglehub`**. La función **`dataset_download`** guarda los archivos de manera local y devuelve la ruta absoluta, que se almacena en **`path`** y se muestra en pantalla mediante **`print`** para confirmar dónde quedaron los datos."
      ],
      "metadata": {
        "id": "yHwealvATakn"
      },
      "id": "yHwealvATakn"
    },
    {
      "cell_type": "code",
      "source": [
        "# Descarga del conjunto de datos\n",
        "\n",
        "#kagglehub.dataset_download(\"jacopoferretti/bbc-articles-dataset\")\n",
        "path = kagglehub.dataset_download(\"yasserh/imdb-movie-ratings-sentiment-analysis\")\n",
        "print(\"Datos descargados en:\", path)"
      ],
      "metadata": {
        "id": "F4y-tzhMl2CC",
        "colab": {
          "base_uri": "https://localhost:8080/"
        },
        "outputId": "08096895-0aee-47b5-9e80-cc82b39daed7"
      },
      "id": "F4y-tzhMl2CC",
      "execution_count": null,
      "outputs": [
        {
          "output_type": "stream",
          "name": "stdout",
          "text": [
            "Datos descargados en: /kaggle/input/imdb-movie-ratings-sentiment-analysis\n"
          ]
        }
      ]
    },
    {
      "cell_type": "markdown",
      "source": [
        "A continuación, se descargan los *embeddings* pre-entrenados, que nos permitirán tener un nuevo espacio de representación mucho más enriquecido.\n",
        "\n",
        "## 1.1. Word2Vec\n",
        "\n",
        "*Word2Vec GoogleNews* es un modelo que contiene 3 millones de vectores de 300 dimensiones entrenados con cerca de 100 mil millones de palabras del corpus *Google News*. Los autores sustituyeron las redes n-gram tradicionales por dos arquitecturas sencillas (CBOW y Skip-gram) con optimizaciones como *negative sampling* y *sub-sampling* de palabras frecuentes. Esto permitió entrenar *embeddings* de alta calidad en cuestión de horas [²]."
      ],
      "metadata": {
        "id": "07ZBWlW6BudL"
      },
      "id": "07ZBWlW6BudL"
    },
    {
      "cell_type": "code",
      "source": [
        "# Carga de del .model y el .npy Word2Vec google news más adelante, desde HugginFace\n",
        "model_file = hf_hub_download(repo_id=\"fse/word2vec-google-news-300\", filename=\"word2vec-google-news-300.model\")\n",
        "vectors_npy = hf_hub_download(repo_id=\"fse/word2vec-google-news-300\",filename=\"word2vec-google-news-300.model.vectors.npy\")"
      ],
      "metadata": {
        "id": "oxSwr79ozCBB",
        "colab": {
          "base_uri": "https://localhost:8080/",
          "height": 211,
          "referenced_widgets": [
            "fb7d1dbfb4fc4a8ba5bee9320580e8b4",
            "1a29e8b9c4714eb997f1c7a91bf8de62",
            "c9b37e0e10834bb3817d63ae667a0c6f",
            "b45e2f556b4c42558544d4a4d3be1c7c",
            "12dcad1c410b4757afb959210e7161ee",
            "e42b5011a41f469fb6cc479ffdbb5f97",
            "18ba68f5c91046828af9b87c96927fb1",
            "cd26ab17982c4fc7af33933ce5563bce",
            "6722750f227e4205890e3588a9f7a78c",
            "295d8a54ae414d21aa0f8a0631dce587",
            "75f5cb92eb0543a49c102abd79469b73",
            "4c157db0efed4d01b8d051dfbe8274ec",
            "aaaffe23d7a84238872553e35ca37ffd",
            "6877cd759a564d0c84096eb2a9366c5b",
            "b127cdf40aaa4c89927ac97ee003133d",
            "949cbd51b8094ca19307eeabb56b75e6",
            "9b908860b58e4b99baf2d3dc3ac0d30d",
            "2f2cdb9fec14466b955358087338cf37",
            "73e7128951944d6c8f7548cee78f68e1",
            "5694ab04356547f9ae11e9122a3ddfcb",
            "b201c8dcf3824e28a6ea2205a1d468cc",
            "56203ba6c8be4720a44a395162af71ed"
          ]
        },
        "outputId": "f50d0e5a-08a9-4f59-cac1-eb387aa671bd"
      },
      "id": "oxSwr79ozCBB",
      "execution_count": null,
      "outputs": [
        {
          "output_type": "stream",
          "name": "stderr",
          "text": [
            "/usr/local/lib/python3.11/dist-packages/huggingface_hub/utils/_auth.py:94: UserWarning: \n",
            "The secret `HF_TOKEN` does not exist in your Colab secrets.\n",
            "To authenticate with the Hugging Face Hub, create a token in your settings tab (https://huggingface.co/settings/tokens), set it as secret in your Google Colab and restart your session.\n",
            "You will be able to reuse this secret in all of your notebooks.\n",
            "Please note that authentication is recommended but still optional to access public models or datasets.\n",
            "  warnings.warn(\n"
          ]
        },
        {
          "output_type": "display_data",
          "data": {
            "text/plain": [
              "word2vec-google-news-300.model:   0%|          | 0.00/182M [00:00<?, ?B/s]"
            ],
            "application/vnd.jupyter.widget-view+json": {
              "version_major": 2,
              "version_minor": 0,
              "model_id": "fb7d1dbfb4fc4a8ba5bee9320580e8b4"
            }
          },
          "metadata": {}
        },
        {
          "output_type": "display_data",
          "data": {
            "text/plain": [
              "(…)rd2vec-google-news-300.model.vectors.npy:   0%|          | 0.00/3.60G [00:00<?, ?B/s]"
            ],
            "application/vnd.jupyter.widget-view+json": {
              "version_major": 2,
              "version_minor": 0,
              "model_id": "4c157db0efed4d01b8d051dfbe8274ec"
            }
          },
          "metadata": {}
        }
      ]
    },
    {
      "cell_type": "markdown",
      "source": [
        "## 1.2. GloVe\n",
        "GloVe es un algoritmo no supervisado para la obtención de representaciones vectoriales de palabras. Utilizaremos los vectores pre-entrenados publicados en la web de la Universidad de Stanford."
      ],
      "metadata": {
        "id": "fKcFZEzKN3kW"
      },
      "id": "fKcFZEzKN3kW"
    },
    {
      "cell_type": "code",
      "source": [
        "# Descarga de GloVe\n",
        "!wget -P . http://nlp.stanford.edu/data/glove.6B.zip\n",
        "!unzip -o glove.6B.zip -d ."
      ],
      "metadata": {
        "id": "zZiJq8VNJIhF",
        "colab": {
          "base_uri": "https://localhost:8080/"
        },
        "outputId": "54829c64-beea-4ada-8fcb-7c665be8e2ed"
      },
      "id": "zZiJq8VNJIhF",
      "execution_count": null,
      "outputs": [
        {
          "output_type": "stream",
          "name": "stdout",
          "text": [
            "--2025-05-12 15:47:47--  http://nlp.stanford.edu/data/glove.6B.zip\n",
            "Resolving nlp.stanford.edu (nlp.stanford.edu)... 171.64.67.140\n",
            "Connecting to nlp.stanford.edu (nlp.stanford.edu)|171.64.67.140|:80... connected.\n",
            "HTTP request sent, awaiting response... 302 Found\n",
            "Location: https://nlp.stanford.edu/data/glove.6B.zip [following]\n",
            "--2025-05-12 15:47:47--  https://nlp.stanford.edu/data/glove.6B.zip\n",
            "Connecting to nlp.stanford.edu (nlp.stanford.edu)|171.64.67.140|:443... connected.\n",
            "HTTP request sent, awaiting response... 301 Moved Permanently\n",
            "Location: https://downloads.cs.stanford.edu/nlp/data/glove.6B.zip [following]\n",
            "--2025-05-12 15:47:47--  https://downloads.cs.stanford.edu/nlp/data/glove.6B.zip\n",
            "Resolving downloads.cs.stanford.edu (downloads.cs.stanford.edu)... 171.64.64.22\n",
            "Connecting to downloads.cs.stanford.edu (downloads.cs.stanford.edu)|171.64.64.22|:443... connected.\n",
            "HTTP request sent, awaiting response... 200 OK\n",
            "Length: 862182613 (822M) [application/zip]\n",
            "Saving to: ‘./glove.6B.zip’\n",
            "\n",
            "glove.6B.zip        100%[===================>] 822.24M  5.02MB/s    in 2m 39s  \n",
            "\n",
            "2025-05-12 15:50:26 (5.19 MB/s) - ‘./glove.6B.zip’ saved [862182613/862182613]\n",
            "\n",
            "Archive:  glove.6B.zip\n",
            "  inflating: ./glove.6B.50d.txt      \n",
            "  inflating: ./glove.6B.100d.txt     \n",
            "  inflating: ./glove.6B.200d.txt     \n",
            "  inflating: ./glove.6B.300d.txt     \n"
          ]
        }
      ]
    },
    {
      "cell_type": "markdown",
      "source": [
        "## 1.3. Configuraciones adicionales\n",
        "\n",
        "Con el siguiente bloque se detecta si el entorno dispone de GPU y selecciona el **`device`** apropiado para PyTorch.  \n",
        "\n",
        "Primero se llama a **`is_available()`**, que devuelve *True* si se ha asignado una GPU CUDA al *runtime* de Colab. Según el resultado se imprime un mensaje informativo. Posteriormente, se construye el objeto **`device`**, que será pasado a la red y a los tensores de entrada para que se ubiquen en la GPU cuando sea posible. Por último se muestra en pantalla el dispositivo elegido."
      ],
      "metadata": {
        "id": "uOceAejmVjqF"
      },
      "id": "uOceAejmVjqF"
    },
    {
      "cell_type": "code",
      "source": [
        "# Devuelve asignación de GPU\n",
        "train_on_gpu = torch.cuda.is_available()\n",
        "if train_on_gpu:\n",
        "    print(\"Entrenando en GPU.\")\n",
        "else:\n",
        "    print(\"GPU no disponible, entrenando en CPU.\")\n",
        "\n",
        "# Elegir device según disponibilidad\n",
        "device = torch.device(\"cuda\" if train_on_gpu else \"cpu\")\n",
        "print(f\"   Usando device: {device}\\n\")"
      ],
      "metadata": {
        "id": "LksJ95qEPWVr",
        "colab": {
          "base_uri": "https://localhost:8080/"
        },
        "outputId": "4e0d7242-4d98-472a-ee70-6d56ea3e0381"
      },
      "id": "LksJ95qEPWVr",
      "execution_count": null,
      "outputs": [
        {
          "output_type": "stream",
          "name": "stdout",
          "text": [
            "Entrenando en GPU.\n",
            "   Usando device: cuda\n",
            "\n"
          ]
        }
      ]
    },
    {
      "cell_type": "markdown",
      "source": [
        "Adicionalmente se ocultan avisos para mantener limpias algunas salidas del notebook; y se imprimen las versiones de un conjunto de librerías clave ( **`numpy`**, **`pandas`**, **`torch`**, **`scikit-learn`**, **`kagglehub`**, **`matplotlib`**). Mostrar estas versiones al inicio del notebook facilita la reproducibilidad y ayuda a depurar posibles conflictos de dependencias."
      ],
      "metadata": {
        "id": "pfXxKk09Vulp"
      },
      "id": "pfXxKk09Vulp"
    },
    {
      "cell_type": "code",
      "execution_count": null,
      "id": "LSwlUgjUjtR_",
      "metadata": {
        "id": "LSwlUgjUjtR_",
        "colab": {
          "base_uri": "https://localhost:8080/"
        },
        "outputId": "d73cac40-8062-4ed2-866f-cb5ae73f61a9"
      },
      "outputs": [
        {
          "output_type": "stream",
          "name": "stdout",
          "text": [
            "numpy :  2.0.2\n",
            "pandas :  2.2.2\n",
            "torch :  2.6.0+cu124\n",
            "scikit-learn :  1.6.1\n",
            "kagglehub :  0.3.12\n",
            "matplotlib :  3.10.0\n",
            "seaborn :  0.13.2\n",
            "nltk :  3.9.1\n"
          ]
        }
      ],
      "source": [
        "# Ignorar las warnings\n",
        "import warnings\n",
        "warnings.filterwarnings(\"ignore\")\n",
        "\n",
        "# Versiones utilizadas\n",
        "from importlib.metadata import version\n",
        "librerias = [\"numpy\", \"pandas\", \"torch\", \"scikit-learn\", \"kagglehub\",\"matplotlib\", \"nltk\"]\n",
        "for library in librerias:\n",
        "  print(library, \": \", version(library))"
      ]
    },
    {
      "cell_type": "markdown",
      "source": [
        "Finalmente, para cerrar esta sección se configuran algunas semillas para tener cierto grado de control en la aleatoriedad."
      ],
      "metadata": {
        "id": "ok4F_5E1njTi"
      },
      "id": "ok4F_5E1njTi"
    },
    {
      "cell_type": "code",
      "source": [
        "# Definición del random state y seeds\n",
        "RANDOM_STATE = 13\n",
        "random.seed(RANDOM_STATE)\n",
        "np.random.seed(RANDOM_STATE)"
      ],
      "metadata": {
        "id": "xdgcOt7gznvJ"
      },
      "id": "xdgcOt7gznvJ",
      "execution_count": null,
      "outputs": []
    },
    {
      "cell_type": "markdown",
      "id": "qK311OLFzPep",
      "metadata": {
        "id": "qK311OLFzPep"
      },
      "source": [
        "***\n",
        "\n",
        "# 2. Análisis exploratorio y preparación de los datos\n"
      ]
    },
    {
      "cell_type": "markdown",
      "source": [
        "***\n",
        "\n",
        "## 2.1. Carga y estadísticas generales"
      ],
      "metadata": {
        "id": "4KxKy7H1eID-"
      },
      "id": "4KxKy7H1eID-"
    },
    {
      "cell_type": "code",
      "execution_count": null,
      "id": "K4yOzyWKJbov",
      "metadata": {
        "id": "K4yOzyWKJbov",
        "colab": {
          "base_uri": "https://localhost:8080/",
          "height": 206
        },
        "outputId": "2a2059b3-3a89-467b-eb85-a59cdac204d7"
      },
      "outputs": [
        {
          "output_type": "execute_result",
          "data": {
            "text/plain": [
              "                                                text  label\n",
              "0  I grew up (b. 1965) watching and loving the Th...      0\n",
              "1  When I put this movie in my DVD player, and sa...      0\n",
              "2  Why do people who do not know what a particula...      0\n",
              "3  Even though I have great interest in Biblical ...      0\n",
              "4  Im a die hard Dads Army fan and nothing will e...      1"
            ],
            "text/html": [
              "\n",
              "  <div id=\"df-bd178cfd-b939-43cb-8eab-cd4d1f7c7010\" class=\"colab-df-container\">\n",
              "    <div>\n",
              "<style scoped>\n",
              "    .dataframe tbody tr th:only-of-type {\n",
              "        vertical-align: middle;\n",
              "    }\n",
              "\n",
              "    .dataframe tbody tr th {\n",
              "        vertical-align: top;\n",
              "    }\n",
              "\n",
              "    .dataframe thead th {\n",
              "        text-align: right;\n",
              "    }\n",
              "</style>\n",
              "<table border=\"1\" class=\"dataframe\">\n",
              "  <thead>\n",
              "    <tr style=\"text-align: right;\">\n",
              "      <th></th>\n",
              "      <th>text</th>\n",
              "      <th>label</th>\n",
              "    </tr>\n",
              "  </thead>\n",
              "  <tbody>\n",
              "    <tr>\n",
              "      <th>0</th>\n",
              "      <td>I grew up (b. 1965) watching and loving the Th...</td>\n",
              "      <td>0</td>\n",
              "    </tr>\n",
              "    <tr>\n",
              "      <th>1</th>\n",
              "      <td>When I put this movie in my DVD player, and sa...</td>\n",
              "      <td>0</td>\n",
              "    </tr>\n",
              "    <tr>\n",
              "      <th>2</th>\n",
              "      <td>Why do people who do not know what a particula...</td>\n",
              "      <td>0</td>\n",
              "    </tr>\n",
              "    <tr>\n",
              "      <th>3</th>\n",
              "      <td>Even though I have great interest in Biblical ...</td>\n",
              "      <td>0</td>\n",
              "    </tr>\n",
              "    <tr>\n",
              "      <th>4</th>\n",
              "      <td>Im a die hard Dads Army fan and nothing will e...</td>\n",
              "      <td>1</td>\n",
              "    </tr>\n",
              "  </tbody>\n",
              "</table>\n",
              "</div>\n",
              "    <div class=\"colab-df-buttons\">\n",
              "\n",
              "  <div class=\"colab-df-container\">\n",
              "    <button class=\"colab-df-convert\" onclick=\"convertToInteractive('df-bd178cfd-b939-43cb-8eab-cd4d1f7c7010')\"\n",
              "            title=\"Convert this dataframe to an interactive table.\"\n",
              "            style=\"display:none;\">\n",
              "\n",
              "  <svg xmlns=\"http://www.w3.org/2000/svg\" height=\"24px\" viewBox=\"0 -960 960 960\">\n",
              "    <path d=\"M120-120v-720h720v720H120Zm60-500h600v-160H180v160Zm220 220h160v-160H400v160Zm0 220h160v-160H400v160ZM180-400h160v-160H180v160Zm440 0h160v-160H620v160ZM180-180h160v-160H180v160Zm440 0h160v-160H620v160Z\"/>\n",
              "  </svg>\n",
              "    </button>\n",
              "\n",
              "  <style>\n",
              "    .colab-df-container {\n",
              "      display:flex;\n",
              "      gap: 12px;\n",
              "    }\n",
              "\n",
              "    .colab-df-convert {\n",
              "      background-color: #E8F0FE;\n",
              "      border: none;\n",
              "      border-radius: 50%;\n",
              "      cursor: pointer;\n",
              "      display: none;\n",
              "      fill: #1967D2;\n",
              "      height: 32px;\n",
              "      padding: 0 0 0 0;\n",
              "      width: 32px;\n",
              "    }\n",
              "\n",
              "    .colab-df-convert:hover {\n",
              "      background-color: #E2EBFA;\n",
              "      box-shadow: 0px 1px 2px rgba(60, 64, 67, 0.3), 0px 1px 3px 1px rgba(60, 64, 67, 0.15);\n",
              "      fill: #174EA6;\n",
              "    }\n",
              "\n",
              "    .colab-df-buttons div {\n",
              "      margin-bottom: 4px;\n",
              "    }\n",
              "\n",
              "    [theme=dark] .colab-df-convert {\n",
              "      background-color: #3B4455;\n",
              "      fill: #D2E3FC;\n",
              "    }\n",
              "\n",
              "    [theme=dark] .colab-df-convert:hover {\n",
              "      background-color: #434B5C;\n",
              "      box-shadow: 0px 1px 3px 1px rgba(0, 0, 0, 0.15);\n",
              "      filter: drop-shadow(0px 1px 2px rgba(0, 0, 0, 0.3));\n",
              "      fill: #FFFFFF;\n",
              "    }\n",
              "  </style>\n",
              "\n",
              "    <script>\n",
              "      const buttonEl =\n",
              "        document.querySelector('#df-bd178cfd-b939-43cb-8eab-cd4d1f7c7010 button.colab-df-convert');\n",
              "      buttonEl.style.display =\n",
              "        google.colab.kernel.accessAllowed ? 'block' : 'none';\n",
              "\n",
              "      async function convertToInteractive(key) {\n",
              "        const element = document.querySelector('#df-bd178cfd-b939-43cb-8eab-cd4d1f7c7010');\n",
              "        const dataTable =\n",
              "          await google.colab.kernel.invokeFunction('convertToInteractive',\n",
              "                                                    [key], {});\n",
              "        if (!dataTable) return;\n",
              "\n",
              "        const docLinkHtml = 'Like what you see? Visit the ' +\n",
              "          '<a target=\"_blank\" href=https://colab.research.google.com/notebooks/data_table.ipynb>data table notebook</a>'\n",
              "          + ' to learn more about interactive tables.';\n",
              "        element.innerHTML = '';\n",
              "        dataTable['output_type'] = 'display_data';\n",
              "        await google.colab.output.renderOutput(dataTable, element);\n",
              "        const docLink = document.createElement('div');\n",
              "        docLink.innerHTML = docLinkHtml;\n",
              "        element.appendChild(docLink);\n",
              "      }\n",
              "    </script>\n",
              "  </div>\n",
              "\n",
              "\n",
              "    <div id=\"df-9ac8d927-c606-4a68-b3dc-8f02e3d448cb\">\n",
              "      <button class=\"colab-df-quickchart\" onclick=\"quickchart('df-9ac8d927-c606-4a68-b3dc-8f02e3d448cb')\"\n",
              "                title=\"Suggest charts\"\n",
              "                style=\"display:none;\">\n",
              "\n",
              "<svg xmlns=\"http://www.w3.org/2000/svg\" height=\"24px\"viewBox=\"0 0 24 24\"\n",
              "     width=\"24px\">\n",
              "    <g>\n",
              "        <path d=\"M19 3H5c-1.1 0-2 .9-2 2v14c0 1.1.9 2 2 2h14c1.1 0 2-.9 2-2V5c0-1.1-.9-2-2-2zM9 17H7v-7h2v7zm4 0h-2V7h2v10zm4 0h-2v-4h2v4z\"/>\n",
              "    </g>\n",
              "</svg>\n",
              "      </button>\n",
              "\n",
              "<style>\n",
              "  .colab-df-quickchart {\n",
              "      --bg-color: #E8F0FE;\n",
              "      --fill-color: #1967D2;\n",
              "      --hover-bg-color: #E2EBFA;\n",
              "      --hover-fill-color: #174EA6;\n",
              "      --disabled-fill-color: #AAA;\n",
              "      --disabled-bg-color: #DDD;\n",
              "  }\n",
              "\n",
              "  [theme=dark] .colab-df-quickchart {\n",
              "      --bg-color: #3B4455;\n",
              "      --fill-color: #D2E3FC;\n",
              "      --hover-bg-color: #434B5C;\n",
              "      --hover-fill-color: #FFFFFF;\n",
              "      --disabled-bg-color: #3B4455;\n",
              "      --disabled-fill-color: #666;\n",
              "  }\n",
              "\n",
              "  .colab-df-quickchart {\n",
              "    background-color: var(--bg-color);\n",
              "    border: none;\n",
              "    border-radius: 50%;\n",
              "    cursor: pointer;\n",
              "    display: none;\n",
              "    fill: var(--fill-color);\n",
              "    height: 32px;\n",
              "    padding: 0;\n",
              "    width: 32px;\n",
              "  }\n",
              "\n",
              "  .colab-df-quickchart:hover {\n",
              "    background-color: var(--hover-bg-color);\n",
              "    box-shadow: 0 1px 2px rgba(60, 64, 67, 0.3), 0 1px 3px 1px rgba(60, 64, 67, 0.15);\n",
              "    fill: var(--button-hover-fill-color);\n",
              "  }\n",
              "\n",
              "  .colab-df-quickchart-complete:disabled,\n",
              "  .colab-df-quickchart-complete:disabled:hover {\n",
              "    background-color: var(--disabled-bg-color);\n",
              "    fill: var(--disabled-fill-color);\n",
              "    box-shadow: none;\n",
              "  }\n",
              "\n",
              "  .colab-df-spinner {\n",
              "    border: 2px solid var(--fill-color);\n",
              "    border-color: transparent;\n",
              "    border-bottom-color: var(--fill-color);\n",
              "    animation:\n",
              "      spin 1s steps(1) infinite;\n",
              "  }\n",
              "\n",
              "  @keyframes spin {\n",
              "    0% {\n",
              "      border-color: transparent;\n",
              "      border-bottom-color: var(--fill-color);\n",
              "      border-left-color: var(--fill-color);\n",
              "    }\n",
              "    20% {\n",
              "      border-color: transparent;\n",
              "      border-left-color: var(--fill-color);\n",
              "      border-top-color: var(--fill-color);\n",
              "    }\n",
              "    30% {\n",
              "      border-color: transparent;\n",
              "      border-left-color: var(--fill-color);\n",
              "      border-top-color: var(--fill-color);\n",
              "      border-right-color: var(--fill-color);\n",
              "    }\n",
              "    40% {\n",
              "      border-color: transparent;\n",
              "      border-right-color: var(--fill-color);\n",
              "      border-top-color: var(--fill-color);\n",
              "    }\n",
              "    60% {\n",
              "      border-color: transparent;\n",
              "      border-right-color: var(--fill-color);\n",
              "    }\n",
              "    80% {\n",
              "      border-color: transparent;\n",
              "      border-right-color: var(--fill-color);\n",
              "      border-bottom-color: var(--fill-color);\n",
              "    }\n",
              "    90% {\n",
              "      border-color: transparent;\n",
              "      border-bottom-color: var(--fill-color);\n",
              "    }\n",
              "  }\n",
              "</style>\n",
              "\n",
              "      <script>\n",
              "        async function quickchart(key) {\n",
              "          const quickchartButtonEl =\n",
              "            document.querySelector('#' + key + ' button');\n",
              "          quickchartButtonEl.disabled = true;  // To prevent multiple clicks.\n",
              "          quickchartButtonEl.classList.add('colab-df-spinner');\n",
              "          try {\n",
              "            const charts = await google.colab.kernel.invokeFunction(\n",
              "                'suggestCharts', [key], {});\n",
              "          } catch (error) {\n",
              "            console.error('Error during call to suggestCharts:', error);\n",
              "          }\n",
              "          quickchartButtonEl.classList.remove('colab-df-spinner');\n",
              "          quickchartButtonEl.classList.add('colab-df-quickchart-complete');\n",
              "        }\n",
              "        (() => {\n",
              "          let quickchartButtonEl =\n",
              "            document.querySelector('#df-9ac8d927-c606-4a68-b3dc-8f02e3d448cb button');\n",
              "          quickchartButtonEl.style.display =\n",
              "            google.colab.kernel.accessAllowed ? 'block' : 'none';\n",
              "        })();\n",
              "      </script>\n",
              "    </div>\n",
              "\n",
              "    </div>\n",
              "  </div>\n"
            ],
            "application/vnd.google.colaboratory.intrinsic+json": {
              "type": "dataframe",
              "variable_name": "data_raw",
              "summary": "{\n  \"name\": \"data_raw\",\n  \"rows\": 40000,\n  \"fields\": [\n    {\n      \"column\": \"text\",\n      \"properties\": {\n        \"dtype\": \"string\",\n        \"num_unique_values\": 39723,\n        \"samples\": [\n          \"There are similarities between Ray Lawrence's \\\"Jindabyne\\\" and his last movie \\\"Lantana\\\" \\u0096 a dead body and its repercussions for already dysfunctional lives. But whereas \\\"Lantana\\\" offered some hope and resolution, \\\"Jindabyne\\\" leaves everything unresolved in a bleak way that will leave most viewers unsatisfied, perhaps even cheated.<br /><br />The storyline - the aftermath of a fisherman's discovery of a corpse floating in a remote river - is based on a short story by Raymond Carver. It became an element in Robert Altman's classic 1993 ensemble \\\"Short Cuts\\\". Lawrence uses this theme for an exploration and exposition of relationships within a small Australian community under stress. The movie poses some moral questions \\\"Would you let the discovery of a dead body ruin your good weekend?\\\" and more poignantly for Australians \\\"Would it make any difference if the dead person was an aboriginal?\\\" The acting, especially by Gabriel Byrne and Laura Linney, is commendable. And there are elements of mysticism reinforced by haunting music, not unlike \\\"Picnic at Hanging Rock\\\".<br /><br />If all this sounds like the basis for a great movie - be prepared for a let down, the pace is very slow and the murder is shown near the beginning, thereby eliminating the element of mystery. And so we are left with these desolate lives and a blank finale.\",\n          \"Hammer House of Horror: Witching Time is set in rural England on Woodstock farm where stressed musician David Winter (Jon Finch) lives with his actress wife Mary (Prunella Gee) & is currently composing the music for a horror film. One night while looking for his dog Billy David finds a mysterious woman in his barn, calling herself Lucinda Jessop (Patricia Quinn) she claims to be a witch who has transported herself from 300 years in the past to now. Obviously rather sceptical David has a hard time believing her so he locks her in a room in his farmhouse & calls his doctor Charles (Ian McCulloch) to come examine her, however once he arrives & they enter the room Lucinda has disappeared. Charles puts it down to David drinking too much but over the next few day strange & disturbing things begin to happen to David & Mary...<br /><br />Witching Time was episode 1 from the short lived British anthology horror series produced by Hammer studios for TV & originally aired here in the UK during September 1980, the first of two Hammer House of Horror episodes to be directed by Don Leaver (episode 13 The Mark of Satan being the other) I actually rather liked this. As a series Hammer House of Horror dealt with various different themes & were all unconnected to each other except in name & unsurprisingly Watching Time is a sinister & effective little tale about a witch, the script by Anthony Read benefits from it's slight 50 odd minute duration & moves along at a nice pace. The character's are pretty good as is the dialogue, there are some nice scenes here & I liked the way it never quite reveals whether David & Mary are going crazy or not. I think it's a well structured, entertaining & reasonably creepy horror themed TV show that I enjoyed more than I thought I would.<br /><br />Being made for British TV meant the boys at Hammer had a lower budget than usual, if that was even possible, & as such there is no gorgeous period settings here as in their most well know Frankenstein & Dracula films although the contemporary English setting does give it a certain atmosphere that you can relate to a bit more. Another TV based restriction is that the exploitation levels are lower than you might hope for, there's some nudity & gore but not much although I didn't mind too much as the story here is pretty good. It's well made for what it is & Hammer's experience on their feature films probably helped make these look pretty good, the acting is good as well with genre favourite Ian McCulloch making a bit-part appearance.<br /><br />Witching Time is a good start to the Hammer House of Horror series, as a 50 minute piece of British TV it's pretty damned good, now why don't they make show's like this over here anymore?\",\n          \"What a great cast for this movie. The timing was excellent and there were so many clever lines-several times I was still laughing minutes after they were delivered. I found Manna From Heaven to have some surprising moments and while there were things I was thinking would happen, the way they came together was anything but predictable. This movie is about hope and righting wrongs. I left the theater feeling inspired to do the right thing. Bravo to the Five Sisters.\"\n        ],\n        \"semantic_type\": \"\",\n        \"description\": \"\"\n      }\n    },\n    {\n      \"column\": \"label\",\n      \"properties\": {\n        \"dtype\": \"number\",\n        \"std\": 0,\n        \"min\": 0,\n        \"max\": 1,\n        \"num_unique_values\": 2,\n        \"samples\": [\n          1,\n          0\n        ],\n        \"semantic_type\": \"\",\n        \"description\": \"\"\n      }\n    }\n  ]\n}"
            }
          },
          "metadata": {},
          "execution_count": 9
        }
      ],
      "source": [
        "# Leer el conjunto de datos y cargarlo a un dataframe\n",
        "data_raw = pd.read_csv(os.path.join(path, 'movie.csv'))\n",
        "data_raw.head()"
      ]
    },
    {
      "cell_type": "code",
      "source": [
        "# Mapeos auxiliares para las clases\n",
        "label2index = {'Negativa':0, 'Positiva':1}\n",
        "index2label = {0:'Negativa', 1:'Positiva'}"
      ],
      "metadata": {
        "id": "tK_D4XVsnk6c"
      },
      "id": "tK_D4XVsnk6c",
      "execution_count": null,
      "outputs": []
    },
    {
      "cell_type": "code",
      "source": [
        "# Frecuencias absoluta y relativa de cada clase\n",
        "pd.DataFrame({\n",
        "    \"Review\": index2label,\n",
        "    \"F. Absoluta\": data_raw['label'].value_counts().sort_index(),\n",
        "    \"F. Relativa\": data_raw['label'].value_counts(normalize=True).sort_index(),\n",
        "})"
      ],
      "metadata": {
        "id": "EkiUxk8il_JG",
        "colab": {
          "base_uri": "https://localhost:8080/",
          "height": 112
        },
        "outputId": "db76e875-c885-48c8-8df1-075edc51b10d"
      },
      "id": "EkiUxk8il_JG",
      "execution_count": null,
      "outputs": [
        {
          "output_type": "execute_result",
          "data": {
            "text/plain": [
              "     Review  F. Absoluta  F. Relativa\n",
              "0  Negativa        20019     0.500475\n",
              "1  Positiva        19981     0.499525"
            ],
            "text/html": [
              "\n",
              "  <div id=\"df-97b981f0-0957-449b-b9c8-930454ef64dd\" class=\"colab-df-container\">\n",
              "    <div>\n",
              "<style scoped>\n",
              "    .dataframe tbody tr th:only-of-type {\n",
              "        vertical-align: middle;\n",
              "    }\n",
              "\n",
              "    .dataframe tbody tr th {\n",
              "        vertical-align: top;\n",
              "    }\n",
              "\n",
              "    .dataframe thead th {\n",
              "        text-align: right;\n",
              "    }\n",
              "</style>\n",
              "<table border=\"1\" class=\"dataframe\">\n",
              "  <thead>\n",
              "    <tr style=\"text-align: right;\">\n",
              "      <th></th>\n",
              "      <th>Review</th>\n",
              "      <th>F. Absoluta</th>\n",
              "      <th>F. Relativa</th>\n",
              "    </tr>\n",
              "  </thead>\n",
              "  <tbody>\n",
              "    <tr>\n",
              "      <th>0</th>\n",
              "      <td>Negativa</td>\n",
              "      <td>20019</td>\n",
              "      <td>0.500475</td>\n",
              "    </tr>\n",
              "    <tr>\n",
              "      <th>1</th>\n",
              "      <td>Positiva</td>\n",
              "      <td>19981</td>\n",
              "      <td>0.499525</td>\n",
              "    </tr>\n",
              "  </tbody>\n",
              "</table>\n",
              "</div>\n",
              "    <div class=\"colab-df-buttons\">\n",
              "\n",
              "  <div class=\"colab-df-container\">\n",
              "    <button class=\"colab-df-convert\" onclick=\"convertToInteractive('df-97b981f0-0957-449b-b9c8-930454ef64dd')\"\n",
              "            title=\"Convert this dataframe to an interactive table.\"\n",
              "            style=\"display:none;\">\n",
              "\n",
              "  <svg xmlns=\"http://www.w3.org/2000/svg\" height=\"24px\" viewBox=\"0 -960 960 960\">\n",
              "    <path d=\"M120-120v-720h720v720H120Zm60-500h600v-160H180v160Zm220 220h160v-160H400v160Zm0 220h160v-160H400v160ZM180-400h160v-160H180v160Zm440 0h160v-160H620v160ZM180-180h160v-160H180v160Zm440 0h160v-160H620v160Z\"/>\n",
              "  </svg>\n",
              "    </button>\n",
              "\n",
              "  <style>\n",
              "    .colab-df-container {\n",
              "      display:flex;\n",
              "      gap: 12px;\n",
              "    }\n",
              "\n",
              "    .colab-df-convert {\n",
              "      background-color: #E8F0FE;\n",
              "      border: none;\n",
              "      border-radius: 50%;\n",
              "      cursor: pointer;\n",
              "      display: none;\n",
              "      fill: #1967D2;\n",
              "      height: 32px;\n",
              "      padding: 0 0 0 0;\n",
              "      width: 32px;\n",
              "    }\n",
              "\n",
              "    .colab-df-convert:hover {\n",
              "      background-color: #E2EBFA;\n",
              "      box-shadow: 0px 1px 2px rgba(60, 64, 67, 0.3), 0px 1px 3px 1px rgba(60, 64, 67, 0.15);\n",
              "      fill: #174EA6;\n",
              "    }\n",
              "\n",
              "    .colab-df-buttons div {\n",
              "      margin-bottom: 4px;\n",
              "    }\n",
              "\n",
              "    [theme=dark] .colab-df-convert {\n",
              "      background-color: #3B4455;\n",
              "      fill: #D2E3FC;\n",
              "    }\n",
              "\n",
              "    [theme=dark] .colab-df-convert:hover {\n",
              "      background-color: #434B5C;\n",
              "      box-shadow: 0px 1px 3px 1px rgba(0, 0, 0, 0.15);\n",
              "      filter: drop-shadow(0px 1px 2px rgba(0, 0, 0, 0.3));\n",
              "      fill: #FFFFFF;\n",
              "    }\n",
              "  </style>\n",
              "\n",
              "    <script>\n",
              "      const buttonEl =\n",
              "        document.querySelector('#df-97b981f0-0957-449b-b9c8-930454ef64dd button.colab-df-convert');\n",
              "      buttonEl.style.display =\n",
              "        google.colab.kernel.accessAllowed ? 'block' : 'none';\n",
              "\n",
              "      async function convertToInteractive(key) {\n",
              "        const element = document.querySelector('#df-97b981f0-0957-449b-b9c8-930454ef64dd');\n",
              "        const dataTable =\n",
              "          await google.colab.kernel.invokeFunction('convertToInteractive',\n",
              "                                                    [key], {});\n",
              "        if (!dataTable) return;\n",
              "\n",
              "        const docLinkHtml = 'Like what you see? Visit the ' +\n",
              "          '<a target=\"_blank\" href=https://colab.research.google.com/notebooks/data_table.ipynb>data table notebook</a>'\n",
              "          + ' to learn more about interactive tables.';\n",
              "        element.innerHTML = '';\n",
              "        dataTable['output_type'] = 'display_data';\n",
              "        await google.colab.output.renderOutput(dataTable, element);\n",
              "        const docLink = document.createElement('div');\n",
              "        docLink.innerHTML = docLinkHtml;\n",
              "        element.appendChild(docLink);\n",
              "      }\n",
              "    </script>\n",
              "  </div>\n",
              "\n",
              "\n",
              "    <div id=\"df-0b2ea782-d197-4941-8009-ee40bb7e53ca\">\n",
              "      <button class=\"colab-df-quickchart\" onclick=\"quickchart('df-0b2ea782-d197-4941-8009-ee40bb7e53ca')\"\n",
              "                title=\"Suggest charts\"\n",
              "                style=\"display:none;\">\n",
              "\n",
              "<svg xmlns=\"http://www.w3.org/2000/svg\" height=\"24px\"viewBox=\"0 0 24 24\"\n",
              "     width=\"24px\">\n",
              "    <g>\n",
              "        <path d=\"M19 3H5c-1.1 0-2 .9-2 2v14c0 1.1.9 2 2 2h14c1.1 0 2-.9 2-2V5c0-1.1-.9-2-2-2zM9 17H7v-7h2v7zm4 0h-2V7h2v10zm4 0h-2v-4h2v4z\"/>\n",
              "    </g>\n",
              "</svg>\n",
              "      </button>\n",
              "\n",
              "<style>\n",
              "  .colab-df-quickchart {\n",
              "      --bg-color: #E8F0FE;\n",
              "      --fill-color: #1967D2;\n",
              "      --hover-bg-color: #E2EBFA;\n",
              "      --hover-fill-color: #174EA6;\n",
              "      --disabled-fill-color: #AAA;\n",
              "      --disabled-bg-color: #DDD;\n",
              "  }\n",
              "\n",
              "  [theme=dark] .colab-df-quickchart {\n",
              "      --bg-color: #3B4455;\n",
              "      --fill-color: #D2E3FC;\n",
              "      --hover-bg-color: #434B5C;\n",
              "      --hover-fill-color: #FFFFFF;\n",
              "      --disabled-bg-color: #3B4455;\n",
              "      --disabled-fill-color: #666;\n",
              "  }\n",
              "\n",
              "  .colab-df-quickchart {\n",
              "    background-color: var(--bg-color);\n",
              "    border: none;\n",
              "    border-radius: 50%;\n",
              "    cursor: pointer;\n",
              "    display: none;\n",
              "    fill: var(--fill-color);\n",
              "    height: 32px;\n",
              "    padding: 0;\n",
              "    width: 32px;\n",
              "  }\n",
              "\n",
              "  .colab-df-quickchart:hover {\n",
              "    background-color: var(--hover-bg-color);\n",
              "    box-shadow: 0 1px 2px rgba(60, 64, 67, 0.3), 0 1px 3px 1px rgba(60, 64, 67, 0.15);\n",
              "    fill: var(--button-hover-fill-color);\n",
              "  }\n",
              "\n",
              "  .colab-df-quickchart-complete:disabled,\n",
              "  .colab-df-quickchart-complete:disabled:hover {\n",
              "    background-color: var(--disabled-bg-color);\n",
              "    fill: var(--disabled-fill-color);\n",
              "    box-shadow: none;\n",
              "  }\n",
              "\n",
              "  .colab-df-spinner {\n",
              "    border: 2px solid var(--fill-color);\n",
              "    border-color: transparent;\n",
              "    border-bottom-color: var(--fill-color);\n",
              "    animation:\n",
              "      spin 1s steps(1) infinite;\n",
              "  }\n",
              "\n",
              "  @keyframes spin {\n",
              "    0% {\n",
              "      border-color: transparent;\n",
              "      border-bottom-color: var(--fill-color);\n",
              "      border-left-color: var(--fill-color);\n",
              "    }\n",
              "    20% {\n",
              "      border-color: transparent;\n",
              "      border-left-color: var(--fill-color);\n",
              "      border-top-color: var(--fill-color);\n",
              "    }\n",
              "    30% {\n",
              "      border-color: transparent;\n",
              "      border-left-color: var(--fill-color);\n",
              "      border-top-color: var(--fill-color);\n",
              "      border-right-color: var(--fill-color);\n",
              "    }\n",
              "    40% {\n",
              "      border-color: transparent;\n",
              "      border-right-color: var(--fill-color);\n",
              "      border-top-color: var(--fill-color);\n",
              "    }\n",
              "    60% {\n",
              "      border-color: transparent;\n",
              "      border-right-color: var(--fill-color);\n",
              "    }\n",
              "    80% {\n",
              "      border-color: transparent;\n",
              "      border-right-color: var(--fill-color);\n",
              "      border-bottom-color: var(--fill-color);\n",
              "    }\n",
              "    90% {\n",
              "      border-color: transparent;\n",
              "      border-bottom-color: var(--fill-color);\n",
              "    }\n",
              "  }\n",
              "</style>\n",
              "\n",
              "      <script>\n",
              "        async function quickchart(key) {\n",
              "          const quickchartButtonEl =\n",
              "            document.querySelector('#' + key + ' button');\n",
              "          quickchartButtonEl.disabled = true;  // To prevent multiple clicks.\n",
              "          quickchartButtonEl.classList.add('colab-df-spinner');\n",
              "          try {\n",
              "            const charts = await google.colab.kernel.invokeFunction(\n",
              "                'suggestCharts', [key], {});\n",
              "          } catch (error) {\n",
              "            console.error('Error during call to suggestCharts:', error);\n",
              "          }\n",
              "          quickchartButtonEl.classList.remove('colab-df-spinner');\n",
              "          quickchartButtonEl.classList.add('colab-df-quickchart-complete');\n",
              "        }\n",
              "        (() => {\n",
              "          let quickchartButtonEl =\n",
              "            document.querySelector('#df-0b2ea782-d197-4941-8009-ee40bb7e53ca button');\n",
              "          quickchartButtonEl.style.display =\n",
              "            google.colab.kernel.accessAllowed ? 'block' : 'none';\n",
              "        })();\n",
              "      </script>\n",
              "    </div>\n",
              "\n",
              "    </div>\n",
              "  </div>\n"
            ],
            "application/vnd.google.colaboratory.intrinsic+json": {
              "type": "dataframe",
              "summary": "{\n  \"name\": \"})\",\n  \"rows\": 2,\n  \"fields\": [\n    {\n      \"column\": \"Review\",\n      \"properties\": {\n        \"dtype\": \"string\",\n        \"num_unique_values\": 2,\n        \"samples\": [\n          \"Positiva\",\n          \"Negativa\"\n        ],\n        \"semantic_type\": \"\",\n        \"description\": \"\"\n      }\n    },\n    {\n      \"column\": \"F. Absoluta\",\n      \"properties\": {\n        \"dtype\": \"number\",\n        \"std\": 26,\n        \"min\": 19981,\n        \"max\": 20019,\n        \"num_unique_values\": 2,\n        \"samples\": [\n          19981,\n          20019\n        ],\n        \"semantic_type\": \"\",\n        \"description\": \"\"\n      }\n    },\n    {\n      \"column\": \"F. Relativa\",\n      \"properties\": {\n        \"dtype\": \"number\",\n        \"std\": 0.0006717514421272246,\n        \"min\": 0.499525,\n        \"max\": 0.500475,\n        \"num_unique_values\": 2,\n        \"samples\": [\n          0.499525,\n          0.500475\n        ],\n        \"semantic_type\": \"\",\n        \"description\": \"\"\n      }\n    }\n  ]\n}"
            }
          },
          "metadata": {},
          "execution_count": 11
        }
      ]
    },
    {
      "cell_type": "markdown",
      "id": "CNfurSnbmf79",
      "metadata": {
        "id": "CNfurSnbmf79"
      },
      "source": [
        "***\n",
        "\n",
        "## 2.2. Limpieza de los datos\n",
        "\n",
        "En estas sección identificamos y corregimos:\n",
        "\n",
        "* Valores faltantes\n",
        "* Textos duplicados\n",
        "* Textos en otros idiomas distintos al inglés"
      ]
    },
    {
      "cell_type": "code",
      "source": [
        "data_raw.isna().sum()"
      ],
      "metadata": {
        "id": "2r0P2t_Ysjbq",
        "colab": {
          "base_uri": "https://localhost:8080/",
          "height": 147
        },
        "outputId": "276269f7-a3dc-43a2-a781-e50fcebba488"
      },
      "id": "2r0P2t_Ysjbq",
      "execution_count": null,
      "outputs": [
        {
          "output_type": "execute_result",
          "data": {
            "text/plain": [
              "text     0\n",
              "label    0\n",
              "dtype: int64"
            ],
            "text/html": [
              "<div>\n",
              "<style scoped>\n",
              "    .dataframe tbody tr th:only-of-type {\n",
              "        vertical-align: middle;\n",
              "    }\n",
              "\n",
              "    .dataframe tbody tr th {\n",
              "        vertical-align: top;\n",
              "    }\n",
              "\n",
              "    .dataframe thead th {\n",
              "        text-align: right;\n",
              "    }\n",
              "</style>\n",
              "<table border=\"1\" class=\"dataframe\">\n",
              "  <thead>\n",
              "    <tr style=\"text-align: right;\">\n",
              "      <th></th>\n",
              "      <th>0</th>\n",
              "    </tr>\n",
              "  </thead>\n",
              "  <tbody>\n",
              "    <tr>\n",
              "      <th>text</th>\n",
              "      <td>0</td>\n",
              "    </tr>\n",
              "    <tr>\n",
              "      <th>label</th>\n",
              "      <td>0</td>\n",
              "    </tr>\n",
              "  </tbody>\n",
              "</table>\n",
              "</div><br><label><b>dtype:</b> int64</label>"
            ]
          },
          "metadata": {},
          "execution_count": 12
        }
      ]
    },
    {
      "cell_type": "code",
      "source": [
        "data_raw.duplicated().sum()"
      ],
      "metadata": {
        "id": "m3IgmRbWskuE",
        "colab": {
          "base_uri": "https://localhost:8080/"
        },
        "outputId": "7000f7b3-2856-44b2-92d9-c2308e95f0af"
      },
      "id": "m3IgmRbWskuE",
      "execution_count": null,
      "outputs": [
        {
          "output_type": "execute_result",
          "data": {
            "text/plain": [
              "np.int64(277)"
            ]
          },
          "metadata": {},
          "execution_count": 13
        }
      ]
    },
    {
      "cell_type": "code",
      "source": [
        "# Limpieza de duplicados\n",
        "data = data_raw.drop_duplicates(keep='first')\n",
        "\n",
        "# Nuevas frecuencias absoluta y relativa de cada clase\n",
        "pd.DataFrame({\n",
        "    \"Review\": index2label,\n",
        "    \"F. Absoluta\": data['label'].value_counts().sort_index(),\n",
        "    \"F. Relativa\": data['label'].value_counts(normalize=True).sort_index(),\n",
        "})"
      ],
      "metadata": {
        "id": "37qzkcBL3D3P",
        "colab": {
          "base_uri": "https://localhost:8080/",
          "height": 112
        },
        "outputId": "cfdbb3d0-039b-40b4-f4f6-c7f7f81da785"
      },
      "id": "37qzkcBL3D3P",
      "execution_count": null,
      "outputs": [
        {
          "output_type": "execute_result",
          "data": {
            "text/plain": [
              "     Review  F. Absoluta  F. Relativa\n",
              "0  Negativa        19815     0.498829\n",
              "1  Positiva        19908     0.501171"
            ],
            "text/html": [
              "\n",
              "  <div id=\"df-cf9126a2-fce3-4932-a756-f11b5a651f85\" class=\"colab-df-container\">\n",
              "    <div>\n",
              "<style scoped>\n",
              "    .dataframe tbody tr th:only-of-type {\n",
              "        vertical-align: middle;\n",
              "    }\n",
              "\n",
              "    .dataframe tbody tr th {\n",
              "        vertical-align: top;\n",
              "    }\n",
              "\n",
              "    .dataframe thead th {\n",
              "        text-align: right;\n",
              "    }\n",
              "</style>\n",
              "<table border=\"1\" class=\"dataframe\">\n",
              "  <thead>\n",
              "    <tr style=\"text-align: right;\">\n",
              "      <th></th>\n",
              "      <th>Review</th>\n",
              "      <th>F. Absoluta</th>\n",
              "      <th>F. Relativa</th>\n",
              "    </tr>\n",
              "  </thead>\n",
              "  <tbody>\n",
              "    <tr>\n",
              "      <th>0</th>\n",
              "      <td>Negativa</td>\n",
              "      <td>19815</td>\n",
              "      <td>0.498829</td>\n",
              "    </tr>\n",
              "    <tr>\n",
              "      <th>1</th>\n",
              "      <td>Positiva</td>\n",
              "      <td>19908</td>\n",
              "      <td>0.501171</td>\n",
              "    </tr>\n",
              "  </tbody>\n",
              "</table>\n",
              "</div>\n",
              "    <div class=\"colab-df-buttons\">\n",
              "\n",
              "  <div class=\"colab-df-container\">\n",
              "    <button class=\"colab-df-convert\" onclick=\"convertToInteractive('df-cf9126a2-fce3-4932-a756-f11b5a651f85')\"\n",
              "            title=\"Convert this dataframe to an interactive table.\"\n",
              "            style=\"display:none;\">\n",
              "\n",
              "  <svg xmlns=\"http://www.w3.org/2000/svg\" height=\"24px\" viewBox=\"0 -960 960 960\">\n",
              "    <path d=\"M120-120v-720h720v720H120Zm60-500h600v-160H180v160Zm220 220h160v-160H400v160Zm0 220h160v-160H400v160ZM180-400h160v-160H180v160Zm440 0h160v-160H620v160ZM180-180h160v-160H180v160Zm440 0h160v-160H620v160Z\"/>\n",
              "  </svg>\n",
              "    </button>\n",
              "\n",
              "  <style>\n",
              "    .colab-df-container {\n",
              "      display:flex;\n",
              "      gap: 12px;\n",
              "    }\n",
              "\n",
              "    .colab-df-convert {\n",
              "      background-color: #E8F0FE;\n",
              "      border: none;\n",
              "      border-radius: 50%;\n",
              "      cursor: pointer;\n",
              "      display: none;\n",
              "      fill: #1967D2;\n",
              "      height: 32px;\n",
              "      padding: 0 0 0 0;\n",
              "      width: 32px;\n",
              "    }\n",
              "\n",
              "    .colab-df-convert:hover {\n",
              "      background-color: #E2EBFA;\n",
              "      box-shadow: 0px 1px 2px rgba(60, 64, 67, 0.3), 0px 1px 3px 1px rgba(60, 64, 67, 0.15);\n",
              "      fill: #174EA6;\n",
              "    }\n",
              "\n",
              "    .colab-df-buttons div {\n",
              "      margin-bottom: 4px;\n",
              "    }\n",
              "\n",
              "    [theme=dark] .colab-df-convert {\n",
              "      background-color: #3B4455;\n",
              "      fill: #D2E3FC;\n",
              "    }\n",
              "\n",
              "    [theme=dark] .colab-df-convert:hover {\n",
              "      background-color: #434B5C;\n",
              "      box-shadow: 0px 1px 3px 1px rgba(0, 0, 0, 0.15);\n",
              "      filter: drop-shadow(0px 1px 2px rgba(0, 0, 0, 0.3));\n",
              "      fill: #FFFFFF;\n",
              "    }\n",
              "  </style>\n",
              "\n",
              "    <script>\n",
              "      const buttonEl =\n",
              "        document.querySelector('#df-cf9126a2-fce3-4932-a756-f11b5a651f85 button.colab-df-convert');\n",
              "      buttonEl.style.display =\n",
              "        google.colab.kernel.accessAllowed ? 'block' : 'none';\n",
              "\n",
              "      async function convertToInteractive(key) {\n",
              "        const element = document.querySelector('#df-cf9126a2-fce3-4932-a756-f11b5a651f85');\n",
              "        const dataTable =\n",
              "          await google.colab.kernel.invokeFunction('convertToInteractive',\n",
              "                                                    [key], {});\n",
              "        if (!dataTable) return;\n",
              "\n",
              "        const docLinkHtml = 'Like what you see? Visit the ' +\n",
              "          '<a target=\"_blank\" href=https://colab.research.google.com/notebooks/data_table.ipynb>data table notebook</a>'\n",
              "          + ' to learn more about interactive tables.';\n",
              "        element.innerHTML = '';\n",
              "        dataTable['output_type'] = 'display_data';\n",
              "        await google.colab.output.renderOutput(dataTable, element);\n",
              "        const docLink = document.createElement('div');\n",
              "        docLink.innerHTML = docLinkHtml;\n",
              "        element.appendChild(docLink);\n",
              "      }\n",
              "    </script>\n",
              "  </div>\n",
              "\n",
              "\n",
              "    <div id=\"df-4d88d56d-bdf7-47f9-bc8a-0c596f7c0ca6\">\n",
              "      <button class=\"colab-df-quickchart\" onclick=\"quickchart('df-4d88d56d-bdf7-47f9-bc8a-0c596f7c0ca6')\"\n",
              "                title=\"Suggest charts\"\n",
              "                style=\"display:none;\">\n",
              "\n",
              "<svg xmlns=\"http://www.w3.org/2000/svg\" height=\"24px\"viewBox=\"0 0 24 24\"\n",
              "     width=\"24px\">\n",
              "    <g>\n",
              "        <path d=\"M19 3H5c-1.1 0-2 .9-2 2v14c0 1.1.9 2 2 2h14c1.1 0 2-.9 2-2V5c0-1.1-.9-2-2-2zM9 17H7v-7h2v7zm4 0h-2V7h2v10zm4 0h-2v-4h2v4z\"/>\n",
              "    </g>\n",
              "</svg>\n",
              "      </button>\n",
              "\n",
              "<style>\n",
              "  .colab-df-quickchart {\n",
              "      --bg-color: #E8F0FE;\n",
              "      --fill-color: #1967D2;\n",
              "      --hover-bg-color: #E2EBFA;\n",
              "      --hover-fill-color: #174EA6;\n",
              "      --disabled-fill-color: #AAA;\n",
              "      --disabled-bg-color: #DDD;\n",
              "  }\n",
              "\n",
              "  [theme=dark] .colab-df-quickchart {\n",
              "      --bg-color: #3B4455;\n",
              "      --fill-color: #D2E3FC;\n",
              "      --hover-bg-color: #434B5C;\n",
              "      --hover-fill-color: #FFFFFF;\n",
              "      --disabled-bg-color: #3B4455;\n",
              "      --disabled-fill-color: #666;\n",
              "  }\n",
              "\n",
              "  .colab-df-quickchart {\n",
              "    background-color: var(--bg-color);\n",
              "    border: none;\n",
              "    border-radius: 50%;\n",
              "    cursor: pointer;\n",
              "    display: none;\n",
              "    fill: var(--fill-color);\n",
              "    height: 32px;\n",
              "    padding: 0;\n",
              "    width: 32px;\n",
              "  }\n",
              "\n",
              "  .colab-df-quickchart:hover {\n",
              "    background-color: var(--hover-bg-color);\n",
              "    box-shadow: 0 1px 2px rgba(60, 64, 67, 0.3), 0 1px 3px 1px rgba(60, 64, 67, 0.15);\n",
              "    fill: var(--button-hover-fill-color);\n",
              "  }\n",
              "\n",
              "  .colab-df-quickchart-complete:disabled,\n",
              "  .colab-df-quickchart-complete:disabled:hover {\n",
              "    background-color: var(--disabled-bg-color);\n",
              "    fill: var(--disabled-fill-color);\n",
              "    box-shadow: none;\n",
              "  }\n",
              "\n",
              "  .colab-df-spinner {\n",
              "    border: 2px solid var(--fill-color);\n",
              "    border-color: transparent;\n",
              "    border-bottom-color: var(--fill-color);\n",
              "    animation:\n",
              "      spin 1s steps(1) infinite;\n",
              "  }\n",
              "\n",
              "  @keyframes spin {\n",
              "    0% {\n",
              "      border-color: transparent;\n",
              "      border-bottom-color: var(--fill-color);\n",
              "      border-left-color: var(--fill-color);\n",
              "    }\n",
              "    20% {\n",
              "      border-color: transparent;\n",
              "      border-left-color: var(--fill-color);\n",
              "      border-top-color: var(--fill-color);\n",
              "    }\n",
              "    30% {\n",
              "      border-color: transparent;\n",
              "      border-left-color: var(--fill-color);\n",
              "      border-top-color: var(--fill-color);\n",
              "      border-right-color: var(--fill-color);\n",
              "    }\n",
              "    40% {\n",
              "      border-color: transparent;\n",
              "      border-right-color: var(--fill-color);\n",
              "      border-top-color: var(--fill-color);\n",
              "    }\n",
              "    60% {\n",
              "      border-color: transparent;\n",
              "      border-right-color: var(--fill-color);\n",
              "    }\n",
              "    80% {\n",
              "      border-color: transparent;\n",
              "      border-right-color: var(--fill-color);\n",
              "      border-bottom-color: var(--fill-color);\n",
              "    }\n",
              "    90% {\n",
              "      border-color: transparent;\n",
              "      border-bottom-color: var(--fill-color);\n",
              "    }\n",
              "  }\n",
              "</style>\n",
              "\n",
              "      <script>\n",
              "        async function quickchart(key) {\n",
              "          const quickchartButtonEl =\n",
              "            document.querySelector('#' + key + ' button');\n",
              "          quickchartButtonEl.disabled = true;  // To prevent multiple clicks.\n",
              "          quickchartButtonEl.classList.add('colab-df-spinner');\n",
              "          try {\n",
              "            const charts = await google.colab.kernel.invokeFunction(\n",
              "                'suggestCharts', [key], {});\n",
              "          } catch (error) {\n",
              "            console.error('Error during call to suggestCharts:', error);\n",
              "          }\n",
              "          quickchartButtonEl.classList.remove('colab-df-spinner');\n",
              "          quickchartButtonEl.classList.add('colab-df-quickchart-complete');\n",
              "        }\n",
              "        (() => {\n",
              "          let quickchartButtonEl =\n",
              "            document.querySelector('#df-4d88d56d-bdf7-47f9-bc8a-0c596f7c0ca6 button');\n",
              "          quickchartButtonEl.style.display =\n",
              "            google.colab.kernel.accessAllowed ? 'block' : 'none';\n",
              "        })();\n",
              "      </script>\n",
              "    </div>\n",
              "\n",
              "    </div>\n",
              "  </div>\n"
            ],
            "application/vnd.google.colaboratory.intrinsic+json": {
              "type": "dataframe",
              "summary": "{\n  \"name\": \"})\",\n  \"rows\": 2,\n  \"fields\": [\n    {\n      \"column\": \"Review\",\n      \"properties\": {\n        \"dtype\": \"string\",\n        \"num_unique_values\": 2,\n        \"samples\": [\n          \"Positiva\",\n          \"Negativa\"\n        ],\n        \"semantic_type\": \"\",\n        \"description\": \"\"\n      }\n    },\n    {\n      \"column\": \"F. Absoluta\",\n      \"properties\": {\n        \"dtype\": \"number\",\n        \"std\": 65,\n        \"min\": 19815,\n        \"max\": 19908,\n        \"num_unique_values\": 2,\n        \"samples\": [\n          19908,\n          19815\n        ],\n        \"semantic_type\": \"\",\n        \"description\": \"\"\n      }\n    },\n    {\n      \"column\": \"F. Relativa\",\n      \"properties\": {\n        \"dtype\": \"number\",\n        \"std\": 0.0016554875173161556,\n        \"min\": 0.49882939355033606,\n        \"max\": 0.5011706064496639,\n        \"num_unique_values\": 2,\n        \"samples\": [\n          0.5011706064496639,\n          0.49882939355033606\n        ],\n        \"semantic_type\": \"\",\n        \"description\": \"\"\n      }\n    }\n  ]\n}"
            }
          },
          "metadata": {},
          "execution_count": 14
        }
      ]
    },
    {
      "cell_type": "markdown",
      "source": [
        "Detectando otros idiomas:"
      ],
      "metadata": {
        "id": "znjAi7TSPK3f"
      },
      "id": "znjAi7TSPK3f"
    },
    {
      "cell_type": "code",
      "source": [
        "def detectar_idiomas(X: pd.DataFrame):\n",
        "    #Identificar los idiomas del dataframe y los índices de las filas que no están en inglés\n",
        "    X['idioma'] = X['text'].apply(lambda x: detect(x) if isinstance(x, str) and x.strip() else \"desconocido\")\n",
        "    indices_a_traducir = X[X['idioma'] != 'en'].index\n",
        "\n",
        "    # Imprimir textos en otros idiomas\n",
        "    print(\"Textos en otros idiomas:\")\n",
        "    for i in indices_a_traducir:\n",
        "        print(X.loc[i].text)\n",
        "\n",
        "    # Retornar el df ahora con la columna 'idioma'\n",
        "    print(\"Dataset con columna 'idioma':\")\n",
        "    return X"
      ],
      "metadata": {
        "id": "_WQ5tiJps-bO"
      },
      "id": "_WQ5tiJps-bO",
      "execution_count": null,
      "outputs": []
    },
    {
      "cell_type": "markdown",
      "source": [
        "Nota: En algunas ocasiones, la función `detect` confunde la presencia de nombres propios o pequeñas secciones en otros idiomas como un indicativo de que el texto no está en inglés. Sin embargo, estas ocurrencias suelen ser mínimas o nulas."
      ],
      "metadata": {
        "id": "bAyfWDggeQW-"
      },
      "id": "bAyfWDggeQW-"
    },
    {
      "cell_type": "code",
      "source": [
        "detectar_idiomas(data)"
      ],
      "metadata": {
        "id": "DpTn9HpSW6V9",
        "outputId": "24aba0a1-b003-42d8-ebc5-428c58686f3b",
        "colab": {
          "base_uri": "https://localhost:8080/",
          "height": 461
        }
      },
      "id": "DpTn9HpSW6V9",
      "execution_count": null,
      "outputs": [
        {
          "output_type": "stream",
          "name": "stdout",
          "text": [
            "Textos en otros idiomas:\n",
            "Dataset con columna 'idioma':\n"
          ]
        },
        {
          "output_type": "execute_result",
          "data": {
            "text/plain": [
              "                                                    text  label idioma\n",
              "0      I grew up (b. 1965) watching and loving the Th...      0     en\n",
              "1      When I put this movie in my DVD player, and sa...      0     en\n",
              "2      Why do people who do not know what a particula...      0     en\n",
              "3      Even though I have great interest in Biblical ...      0     en\n",
              "4      Im a die hard Dads Army fan and nothing will e...      1     en\n",
              "...                                                  ...    ...    ...\n",
              "39995  \"Western Union\" is something of a forgotten cl...      1     en\n",
              "39996  This movie is an incredible piece of work. It ...      1     en\n",
              "39997  My wife and I watched this movie because we pl...      0     en\n",
              "39998  When I first watched Flatliners, I was amazed....      1     en\n",
              "39999  Why would this film be so good, but only gross...      1     en\n",
              "\n",
              "[39723 rows x 3 columns]"
            ],
            "text/html": [
              "\n",
              "  <div id=\"df-ac194cfa-d817-41dd-9427-819f915e2c17\" class=\"colab-df-container\">\n",
              "    <div>\n",
              "<style scoped>\n",
              "    .dataframe tbody tr th:only-of-type {\n",
              "        vertical-align: middle;\n",
              "    }\n",
              "\n",
              "    .dataframe tbody tr th {\n",
              "        vertical-align: top;\n",
              "    }\n",
              "\n",
              "    .dataframe thead th {\n",
              "        text-align: right;\n",
              "    }\n",
              "</style>\n",
              "<table border=\"1\" class=\"dataframe\">\n",
              "  <thead>\n",
              "    <tr style=\"text-align: right;\">\n",
              "      <th></th>\n",
              "      <th>text</th>\n",
              "      <th>label</th>\n",
              "      <th>idioma</th>\n",
              "    </tr>\n",
              "  </thead>\n",
              "  <tbody>\n",
              "    <tr>\n",
              "      <th>0</th>\n",
              "      <td>I grew up (b. 1965) watching and loving the Th...</td>\n",
              "      <td>0</td>\n",
              "      <td>en</td>\n",
              "    </tr>\n",
              "    <tr>\n",
              "      <th>1</th>\n",
              "      <td>When I put this movie in my DVD player, and sa...</td>\n",
              "      <td>0</td>\n",
              "      <td>en</td>\n",
              "    </tr>\n",
              "    <tr>\n",
              "      <th>2</th>\n",
              "      <td>Why do people who do not know what a particula...</td>\n",
              "      <td>0</td>\n",
              "      <td>en</td>\n",
              "    </tr>\n",
              "    <tr>\n",
              "      <th>3</th>\n",
              "      <td>Even though I have great interest in Biblical ...</td>\n",
              "      <td>0</td>\n",
              "      <td>en</td>\n",
              "    </tr>\n",
              "    <tr>\n",
              "      <th>4</th>\n",
              "      <td>Im a die hard Dads Army fan and nothing will e...</td>\n",
              "      <td>1</td>\n",
              "      <td>en</td>\n",
              "    </tr>\n",
              "    <tr>\n",
              "      <th>...</th>\n",
              "      <td>...</td>\n",
              "      <td>...</td>\n",
              "      <td>...</td>\n",
              "    </tr>\n",
              "    <tr>\n",
              "      <th>39995</th>\n",
              "      <td>\"Western Union\" is something of a forgotten cl...</td>\n",
              "      <td>1</td>\n",
              "      <td>en</td>\n",
              "    </tr>\n",
              "    <tr>\n",
              "      <th>39996</th>\n",
              "      <td>This movie is an incredible piece of work. It ...</td>\n",
              "      <td>1</td>\n",
              "      <td>en</td>\n",
              "    </tr>\n",
              "    <tr>\n",
              "      <th>39997</th>\n",
              "      <td>My wife and I watched this movie because we pl...</td>\n",
              "      <td>0</td>\n",
              "      <td>en</td>\n",
              "    </tr>\n",
              "    <tr>\n",
              "      <th>39998</th>\n",
              "      <td>When I first watched Flatliners, I was amazed....</td>\n",
              "      <td>1</td>\n",
              "      <td>en</td>\n",
              "    </tr>\n",
              "    <tr>\n",
              "      <th>39999</th>\n",
              "      <td>Why would this film be so good, but only gross...</td>\n",
              "      <td>1</td>\n",
              "      <td>en</td>\n",
              "    </tr>\n",
              "  </tbody>\n",
              "</table>\n",
              "<p>39723 rows × 3 columns</p>\n",
              "</div>\n",
              "    <div class=\"colab-df-buttons\">\n",
              "\n",
              "  <div class=\"colab-df-container\">\n",
              "    <button class=\"colab-df-convert\" onclick=\"convertToInteractive('df-ac194cfa-d817-41dd-9427-819f915e2c17')\"\n",
              "            title=\"Convert this dataframe to an interactive table.\"\n",
              "            style=\"display:none;\">\n",
              "\n",
              "  <svg xmlns=\"http://www.w3.org/2000/svg\" height=\"24px\" viewBox=\"0 -960 960 960\">\n",
              "    <path d=\"M120-120v-720h720v720H120Zm60-500h600v-160H180v160Zm220 220h160v-160H400v160Zm0 220h160v-160H400v160ZM180-400h160v-160H180v160Zm440 0h160v-160H620v160ZM180-180h160v-160H180v160Zm440 0h160v-160H620v160Z\"/>\n",
              "  </svg>\n",
              "    </button>\n",
              "\n",
              "  <style>\n",
              "    .colab-df-container {\n",
              "      display:flex;\n",
              "      gap: 12px;\n",
              "    }\n",
              "\n",
              "    .colab-df-convert {\n",
              "      background-color: #E8F0FE;\n",
              "      border: none;\n",
              "      border-radius: 50%;\n",
              "      cursor: pointer;\n",
              "      display: none;\n",
              "      fill: #1967D2;\n",
              "      height: 32px;\n",
              "      padding: 0 0 0 0;\n",
              "      width: 32px;\n",
              "    }\n",
              "\n",
              "    .colab-df-convert:hover {\n",
              "      background-color: #E2EBFA;\n",
              "      box-shadow: 0px 1px 2px rgba(60, 64, 67, 0.3), 0px 1px 3px 1px rgba(60, 64, 67, 0.15);\n",
              "      fill: #174EA6;\n",
              "    }\n",
              "\n",
              "    .colab-df-buttons div {\n",
              "      margin-bottom: 4px;\n",
              "    }\n",
              "\n",
              "    [theme=dark] .colab-df-convert {\n",
              "      background-color: #3B4455;\n",
              "      fill: #D2E3FC;\n",
              "    }\n",
              "\n",
              "    [theme=dark] .colab-df-convert:hover {\n",
              "      background-color: #434B5C;\n",
              "      box-shadow: 0px 1px 3px 1px rgba(0, 0, 0, 0.15);\n",
              "      filter: drop-shadow(0px 1px 2px rgba(0, 0, 0, 0.3));\n",
              "      fill: #FFFFFF;\n",
              "    }\n",
              "  </style>\n",
              "\n",
              "    <script>\n",
              "      const buttonEl =\n",
              "        document.querySelector('#df-ac194cfa-d817-41dd-9427-819f915e2c17 button.colab-df-convert');\n",
              "      buttonEl.style.display =\n",
              "        google.colab.kernel.accessAllowed ? 'block' : 'none';\n",
              "\n",
              "      async function convertToInteractive(key) {\n",
              "        const element = document.querySelector('#df-ac194cfa-d817-41dd-9427-819f915e2c17');\n",
              "        const dataTable =\n",
              "          await google.colab.kernel.invokeFunction('convertToInteractive',\n",
              "                                                    [key], {});\n",
              "        if (!dataTable) return;\n",
              "\n",
              "        const docLinkHtml = 'Like what you see? Visit the ' +\n",
              "          '<a target=\"_blank\" href=https://colab.research.google.com/notebooks/data_table.ipynb>data table notebook</a>'\n",
              "          + ' to learn more about interactive tables.';\n",
              "        element.innerHTML = '';\n",
              "        dataTable['output_type'] = 'display_data';\n",
              "        await google.colab.output.renderOutput(dataTable, element);\n",
              "        const docLink = document.createElement('div');\n",
              "        docLink.innerHTML = docLinkHtml;\n",
              "        element.appendChild(docLink);\n",
              "      }\n",
              "    </script>\n",
              "  </div>\n",
              "\n",
              "\n",
              "    <div id=\"df-29466b1a-7b43-492b-8040-f20a854fc036\">\n",
              "      <button class=\"colab-df-quickchart\" onclick=\"quickchart('df-29466b1a-7b43-492b-8040-f20a854fc036')\"\n",
              "                title=\"Suggest charts\"\n",
              "                style=\"display:none;\">\n",
              "\n",
              "<svg xmlns=\"http://www.w3.org/2000/svg\" height=\"24px\"viewBox=\"0 0 24 24\"\n",
              "     width=\"24px\">\n",
              "    <g>\n",
              "        <path d=\"M19 3H5c-1.1 0-2 .9-2 2v14c0 1.1.9 2 2 2h14c1.1 0 2-.9 2-2V5c0-1.1-.9-2-2-2zM9 17H7v-7h2v7zm4 0h-2V7h2v10zm4 0h-2v-4h2v4z\"/>\n",
              "    </g>\n",
              "</svg>\n",
              "      </button>\n",
              "\n",
              "<style>\n",
              "  .colab-df-quickchart {\n",
              "      --bg-color: #E8F0FE;\n",
              "      --fill-color: #1967D2;\n",
              "      --hover-bg-color: #E2EBFA;\n",
              "      --hover-fill-color: #174EA6;\n",
              "      --disabled-fill-color: #AAA;\n",
              "      --disabled-bg-color: #DDD;\n",
              "  }\n",
              "\n",
              "  [theme=dark] .colab-df-quickchart {\n",
              "      --bg-color: #3B4455;\n",
              "      --fill-color: #D2E3FC;\n",
              "      --hover-bg-color: #434B5C;\n",
              "      --hover-fill-color: #FFFFFF;\n",
              "      --disabled-bg-color: #3B4455;\n",
              "      --disabled-fill-color: #666;\n",
              "  }\n",
              "\n",
              "  .colab-df-quickchart {\n",
              "    background-color: var(--bg-color);\n",
              "    border: none;\n",
              "    border-radius: 50%;\n",
              "    cursor: pointer;\n",
              "    display: none;\n",
              "    fill: var(--fill-color);\n",
              "    height: 32px;\n",
              "    padding: 0;\n",
              "    width: 32px;\n",
              "  }\n",
              "\n",
              "  .colab-df-quickchart:hover {\n",
              "    background-color: var(--hover-bg-color);\n",
              "    box-shadow: 0 1px 2px rgba(60, 64, 67, 0.3), 0 1px 3px 1px rgba(60, 64, 67, 0.15);\n",
              "    fill: var(--button-hover-fill-color);\n",
              "  }\n",
              "\n",
              "  .colab-df-quickchart-complete:disabled,\n",
              "  .colab-df-quickchart-complete:disabled:hover {\n",
              "    background-color: var(--disabled-bg-color);\n",
              "    fill: var(--disabled-fill-color);\n",
              "    box-shadow: none;\n",
              "  }\n",
              "\n",
              "  .colab-df-spinner {\n",
              "    border: 2px solid var(--fill-color);\n",
              "    border-color: transparent;\n",
              "    border-bottom-color: var(--fill-color);\n",
              "    animation:\n",
              "      spin 1s steps(1) infinite;\n",
              "  }\n",
              "\n",
              "  @keyframes spin {\n",
              "    0% {\n",
              "      border-color: transparent;\n",
              "      border-bottom-color: var(--fill-color);\n",
              "      border-left-color: var(--fill-color);\n",
              "    }\n",
              "    20% {\n",
              "      border-color: transparent;\n",
              "      border-left-color: var(--fill-color);\n",
              "      border-top-color: var(--fill-color);\n",
              "    }\n",
              "    30% {\n",
              "      border-color: transparent;\n",
              "      border-left-color: var(--fill-color);\n",
              "      border-top-color: var(--fill-color);\n",
              "      border-right-color: var(--fill-color);\n",
              "    }\n",
              "    40% {\n",
              "      border-color: transparent;\n",
              "      border-right-color: var(--fill-color);\n",
              "      border-top-color: var(--fill-color);\n",
              "    }\n",
              "    60% {\n",
              "      border-color: transparent;\n",
              "      border-right-color: var(--fill-color);\n",
              "    }\n",
              "    80% {\n",
              "      border-color: transparent;\n",
              "      border-right-color: var(--fill-color);\n",
              "      border-bottom-color: var(--fill-color);\n",
              "    }\n",
              "    90% {\n",
              "      border-color: transparent;\n",
              "      border-bottom-color: var(--fill-color);\n",
              "    }\n",
              "  }\n",
              "</style>\n",
              "\n",
              "      <script>\n",
              "        async function quickchart(key) {\n",
              "          const quickchartButtonEl =\n",
              "            document.querySelector('#' + key + ' button');\n",
              "          quickchartButtonEl.disabled = true;  // To prevent multiple clicks.\n",
              "          quickchartButtonEl.classList.add('colab-df-spinner');\n",
              "          try {\n",
              "            const charts = await google.colab.kernel.invokeFunction(\n",
              "                'suggestCharts', [key], {});\n",
              "          } catch (error) {\n",
              "            console.error('Error during call to suggestCharts:', error);\n",
              "          }\n",
              "          quickchartButtonEl.classList.remove('colab-df-spinner');\n",
              "          quickchartButtonEl.classList.add('colab-df-quickchart-complete');\n",
              "        }\n",
              "        (() => {\n",
              "          let quickchartButtonEl =\n",
              "            document.querySelector('#df-29466b1a-7b43-492b-8040-f20a854fc036 button');\n",
              "          quickchartButtonEl.style.display =\n",
              "            google.colab.kernel.accessAllowed ? 'block' : 'none';\n",
              "        })();\n",
              "      </script>\n",
              "    </div>\n",
              "\n",
              "  <div id=\"id_9111367f-6e2d-44b5-b6e7-7a33cfffbebc\">\n",
              "    <style>\n",
              "      .colab-df-generate {\n",
              "        background-color: #E8F0FE;\n",
              "        border: none;\n",
              "        border-radius: 50%;\n",
              "        cursor: pointer;\n",
              "        display: none;\n",
              "        fill: #1967D2;\n",
              "        height: 32px;\n",
              "        padding: 0 0 0 0;\n",
              "        width: 32px;\n",
              "      }\n",
              "\n",
              "      .colab-df-generate:hover {\n",
              "        background-color: #E2EBFA;\n",
              "        box-shadow: 0px 1px 2px rgba(60, 64, 67, 0.3), 0px 1px 3px 1px rgba(60, 64, 67, 0.15);\n",
              "        fill: #174EA6;\n",
              "      }\n",
              "\n",
              "      [theme=dark] .colab-df-generate {\n",
              "        background-color: #3B4455;\n",
              "        fill: #D2E3FC;\n",
              "      }\n",
              "\n",
              "      [theme=dark] .colab-df-generate:hover {\n",
              "        background-color: #434B5C;\n",
              "        box-shadow: 0px 1px 3px 1px rgba(0, 0, 0, 0.15);\n",
              "        filter: drop-shadow(0px 1px 2px rgba(0, 0, 0, 0.3));\n",
              "        fill: #FFFFFF;\n",
              "      }\n",
              "    </style>\n",
              "    <button class=\"colab-df-generate\" onclick=\"generateWithVariable('data')\"\n",
              "            title=\"Generate code using this dataframe.\"\n",
              "            style=\"display:none;\">\n",
              "\n",
              "  <svg xmlns=\"http://www.w3.org/2000/svg\" height=\"24px\"viewBox=\"0 0 24 24\"\n",
              "       width=\"24px\">\n",
              "    <path d=\"M7,19H8.4L18.45,9,17,7.55,7,17.6ZM5,21V16.75L18.45,3.32a2,2,0,0,1,2.83,0l1.4,1.43a1.91,1.91,0,0,1,.58,1.4,1.91,1.91,0,0,1-.58,1.4L9.25,21ZM18.45,9,17,7.55Zm-12,3A5.31,5.31,0,0,0,4.9,8.1,5.31,5.31,0,0,0,1,6.5,5.31,5.31,0,0,0,4.9,4.9,5.31,5.31,0,0,0,6.5,1,5.31,5.31,0,0,0,8.1,4.9,5.31,5.31,0,0,0,12,6.5,5.46,5.46,0,0,0,6.5,12Z\"/>\n",
              "  </svg>\n",
              "    </button>\n",
              "    <script>\n",
              "      (() => {\n",
              "      const buttonEl =\n",
              "        document.querySelector('#id_9111367f-6e2d-44b5-b6e7-7a33cfffbebc button.colab-df-generate');\n",
              "      buttonEl.style.display =\n",
              "        google.colab.kernel.accessAllowed ? 'block' : 'none';\n",
              "\n",
              "      buttonEl.onclick = () => {\n",
              "        google.colab.notebook.generateWithVariable('data');\n",
              "      }\n",
              "      })();\n",
              "    </script>\n",
              "  </div>\n",
              "\n",
              "    </div>\n",
              "  </div>\n"
            ],
            "application/vnd.google.colaboratory.intrinsic+json": {
              "type": "dataframe",
              "variable_name": "data",
              "summary": "{\n  \"name\": \"data\",\n  \"rows\": 39723,\n  \"fields\": [\n    {\n      \"column\": \"text\",\n      \"properties\": {\n        \"dtype\": \"string\",\n        \"num_unique_values\": 39723,\n        \"samples\": [\n          \"There are similarities between Ray Lawrence's \\\"Jindabyne\\\" and his last movie \\\"Lantana\\\" \\u0096 a dead body and its repercussions for already dysfunctional lives. But whereas \\\"Lantana\\\" offered some hope and resolution, \\\"Jindabyne\\\" leaves everything unresolved in a bleak way that will leave most viewers unsatisfied, perhaps even cheated.<br /><br />The storyline - the aftermath of a fisherman's discovery of a corpse floating in a remote river - is based on a short story by Raymond Carver. It became an element in Robert Altman's classic 1993 ensemble \\\"Short Cuts\\\". Lawrence uses this theme for an exploration and exposition of relationships within a small Australian community under stress. The movie poses some moral questions \\\"Would you let the discovery of a dead body ruin your good weekend?\\\" and more poignantly for Australians \\\"Would it make any difference if the dead person was an aboriginal?\\\" The acting, especially by Gabriel Byrne and Laura Linney, is commendable. And there are elements of mysticism reinforced by haunting music, not unlike \\\"Picnic at Hanging Rock\\\".<br /><br />If all this sounds like the basis for a great movie - be prepared for a let down, the pace is very slow and the murder is shown near the beginning, thereby eliminating the element of mystery. And so we are left with these desolate lives and a blank finale.\",\n          \"Hammer House of Horror: Witching Time is set in rural England on Woodstock farm where stressed musician David Winter (Jon Finch) lives with his actress wife Mary (Prunella Gee) & is currently composing the music for a horror film. One night while looking for his dog Billy David finds a mysterious woman in his barn, calling herself Lucinda Jessop (Patricia Quinn) she claims to be a witch who has transported herself from 300 years in the past to now. Obviously rather sceptical David has a hard time believing her so he locks her in a room in his farmhouse & calls his doctor Charles (Ian McCulloch) to come examine her, however once he arrives & they enter the room Lucinda has disappeared. Charles puts it down to David drinking too much but over the next few day strange & disturbing things begin to happen to David & Mary...<br /><br />Witching Time was episode 1 from the short lived British anthology horror series produced by Hammer studios for TV & originally aired here in the UK during September 1980, the first of two Hammer House of Horror episodes to be directed by Don Leaver (episode 13 The Mark of Satan being the other) I actually rather liked this. As a series Hammer House of Horror dealt with various different themes & were all unconnected to each other except in name & unsurprisingly Watching Time is a sinister & effective little tale about a witch, the script by Anthony Read benefits from it's slight 50 odd minute duration & moves along at a nice pace. The character's are pretty good as is the dialogue, there are some nice scenes here & I liked the way it never quite reveals whether David & Mary are going crazy or not. I think it's a well structured, entertaining & reasonably creepy horror themed TV show that I enjoyed more than I thought I would.<br /><br />Being made for British TV meant the boys at Hammer had a lower budget than usual, if that was even possible, & as such there is no gorgeous period settings here as in their most well know Frankenstein & Dracula films although the contemporary English setting does give it a certain atmosphere that you can relate to a bit more. Another TV based restriction is that the exploitation levels are lower than you might hope for, there's some nudity & gore but not much although I didn't mind too much as the story here is pretty good. It's well made for what it is & Hammer's experience on their feature films probably helped make these look pretty good, the acting is good as well with genre favourite Ian McCulloch making a bit-part appearance.<br /><br />Witching Time is a good start to the Hammer House of Horror series, as a 50 minute piece of British TV it's pretty damned good, now why don't they make show's like this over here anymore?\",\n          \"What a great cast for this movie. The timing was excellent and there were so many clever lines-several times I was still laughing minutes after they were delivered. I found Manna From Heaven to have some surprising moments and while there were things I was thinking would happen, the way they came together was anything but predictable. This movie is about hope and righting wrongs. I left the theater feeling inspired to do the right thing. Bravo to the Five Sisters.\"\n        ],\n        \"semantic_type\": \"\",\n        \"description\": \"\"\n      }\n    },\n    {\n      \"column\": \"label\",\n      \"properties\": {\n        \"dtype\": \"number\",\n        \"std\": 0,\n        \"min\": 0,\n        \"max\": 1,\n        \"num_unique_values\": 2,\n        \"samples\": [\n          1,\n          0\n        ],\n        \"semantic_type\": \"\",\n        \"description\": \"\"\n      }\n    },\n    {\n      \"column\": \"idioma\",\n      \"properties\": {\n        \"dtype\": \"category\",\n        \"num_unique_values\": 1,\n        \"samples\": [\n          \"en\"\n        ],\n        \"semantic_type\": \"\",\n        \"description\": \"\"\n      }\n    }\n  ]\n}"
            }
          },
          "metadata": {},
          "execution_count": 16
        }
      ]
    },
    {
      "cell_type": "markdown",
      "id": "_ypyorGqwmRl",
      "metadata": {
        "id": "_ypyorGqwmRl"
      },
      "source": [
        "***\n",
        "\n",
        "# 3. Definición de *pipelines* de procesamiento"
      ]
    },
    {
      "cell_type": "markdown",
      "id": "4370a607-ad43-4c5d-bddd-1a9370469409",
      "metadata": {
        "id": "4370a607-ad43-4c5d-bddd-1a9370469409"
      },
      "source": [
        "***\n",
        "\n",
        "## 3.1. *Pipeline* de preprocesamiento\n",
        "\n",
        "Se construye el conjunto **`english_stop`** a partir de las *stop-words* inglesas de **`NLTK`** y se define la función **`clean_and_tokenize`**[¹]:"
      ]
    },
    {
      "cell_type": "code",
      "source": [
        "english_stop = set(stopwords.words('english'))\n",
        "\n",
        "# Función para limpiar y convertir las reseñas a listas de tokens de palabras\n",
        "def clean_and_tokenize(text):\n",
        "    # Regex:\n",
        "    # Ignorar strings entre los caracteres < > (tags HTML encontrados en el dataset)\n",
        "    # [a-z0-9]+ (letras y dígitos)\n",
        "    # [!?] (exclamación y preguntas)\n",
        "    text = re.sub(r'<[^>]+>', ' ', text).lower()\n",
        "    pattern = r\"[a-z0-9]+|[!?]\"\n",
        "    raw_tokens = re.findall(pattern, text)\n",
        "\n",
        "    # Filtrar stopwords solo en tokens alfanuméricos\n",
        "    cleaned = []\n",
        "    for tok in raw_tokens:\n",
        "        if re.fullmatch(r\"[a-z0-9]+\", tok):\n",
        "            if tok in english_stop:\n",
        "                continue\n",
        "        cleaned.append(tok)\n",
        "\n",
        "    return cleaned\n",
        "\n",
        "# Prueba\n",
        "print(clean_and_tokenize(data.loc[0, 'text']))"
      ],
      "metadata": {
        "id": "XlF68jZ8yWYn",
        "colab": {
          "base_uri": "https://localhost:8080/"
        },
        "outputId": "44c75388-a1d1-48aa-c21f-fb10805886dc"
      },
      "id": "XlF68jZ8yWYn",
      "execution_count": null,
      "outputs": [
        {
          "output_type": "stream",
          "name": "stdout",
          "text": [
            "['grew', 'b', '1965', 'watching', 'loving', 'thunderbirds', 'mates', 'school', 'watched', 'played', 'thunderbirds', 'school', 'lunch', 'school', 'wanted', 'virgil', 'scott', 'one', 'wanted', 'alan', 'counting', '5', 'became', 'art', 'form', 'took', 'children', 'see', 'movie', 'hoping', 'would', 'get', 'glimpse', 'loved', 'child', 'bitterly', 'disappointing', 'high', 'point', 'snappy', 'theme', 'tune', 'could', 'compare', 'original', 'score', 'thunderbirds', 'thankfully', 'early', 'saturday', 'mornings', 'one', 'television', 'channel', 'still', 'plays', 'reruns', 'series', 'gerry', 'anderson', 'wife', 'created', 'jonatha', 'frakes', 'hand', 'directors', 'chair', 'version', 'completely', 'hopeless', 'waste', 'film', 'utter', 'rubbish', 'cgi', 'remake', 'may', 'acceptable', 'replacing', 'marionettes', 'homo', 'sapiens', 'subsp', 'sapiens', 'huge', 'error', 'judgment']\n"
          ]
        }
      ]
    },
    {
      "cell_type": "markdown",
      "source": [
        "Se construye el vocabulario y define la función de codificación:\n",
        "\n",
        "1. **`all_tokens`** genera una lista con todos los tokens de cada reseña tras aplicar limpieza y tokenización.  \n",
        "2. Con **`Counter`** se calcula **`freq`**, el conteo de frecuencia de cada token.  \n",
        "3. Se crea **`vocab`** con las **TOP = 20 000** palabras más frecuentes, asignando índices a partir de **4**; los índices **0**, **1**, **2** y **3** quedan reservados para los símbolos especiales **`<PAD>`**, **`<UNK>`**, **`<SOS>`** y **`<EOS>`**, respectivamente.  \n",
        "4. **`encode(tokens, max_len)`** convierte una lista de tokens en su representación numérica usando **`vocab`**:  \n",
        "   - Cada token se mapea a su índice; los tokens fuera de vocabulario usan **`1`** (**`<UNK>`**).  \n",
        "   - La secuencia se recorta a **`max_len`** y se rellena con **`0`** (**`<PAD>`**) hasta esa longitud.  \n",
        "   - Aunque **`<SOS>`** y **`<EOS>`** marcadores de inicio y final que más adelante se colocarán en la clase **`IMDBDataset`**"
      ],
      "metadata": {
        "id": "TFInYXoOXHTh"
      },
      "id": "TFInYXoOXHTh"
    },
    {
      "cell_type": "code",
      "source": [
        "# Limpiar, tokenizar, y filtrar las palabras más comunes\n",
        "all_tokens = [tok for txt in data['text'] for tok in clean_and_tokenize(txt)]\n",
        "freq = Counter(all_tokens)\n",
        "TOP = 20_000\n",
        "vocab = {w:i+4 for i,(w,_) in enumerate(freq.most_common(TOP))}\n",
        "\n",
        "#Indicadores de padding, token desconocido, inicio y final de secuencia\n",
        "vocab.update({'<PAD>':0, '<UNK>':1, '<SOS>':2, '<EOS>':3})\n",
        "\n",
        "# Codificación: token -> valor numérico en vocab (id)...\n",
        "def encode(tokens, max_len):\n",
        "    # Con id=1 para los tokens desconocidos (<UNK>)\n",
        "    seq = [vocab.get(t, 1) for t in tokens]\n",
        "    # Retornar la codificación con el padding apropiado\n",
        "    return seq[:max_len] + [vocab['<PAD>']] * max(0, max_len - len(seq))"
      ],
      "metadata": {
        "id": "zfp-stYtEt71"
      },
      "id": "zfp-stYtEt71",
      "execution_count": null,
      "outputs": []
    },
    {
      "cell_type": "code",
      "source": [
        "# Prueba\n",
        "encode(['<SOS>'] + clean_and_tokenize(\"Uniandes MAIA\") + ['<EOS>'], max_len=10)"
      ],
      "metadata": {
        "colab": {
          "base_uri": "https://localhost:8080/"
        },
        "id": "KyJ7u9KsPwCL",
        "outputId": "c4a26319-1aa6-44c1-ad8b-728733364439"
      },
      "id": "KyJ7u9KsPwCL",
      "execution_count": null,
      "outputs": [
        {
          "output_type": "execute_result",
          "data": {
            "text/plain": [
              "[2, 1, 1, 3, 0, 0, 0, 0, 0, 0]"
            ]
          },
          "metadata": {},
          "execution_count": 19
        }
      ]
    },
    {
      "cell_type": "markdown",
      "source": [
        "**`load_google_vectors_npy`** y **`load_glove_vectors_txt`** cargan el **`.npy`** para *Word2Vec* y **`.txt`** para *Glove*. En ambos casos, devolviendo la matriz de *embeddings* respectiva:\n",
        "   - En el caso de *Word2Vec* es necesario hacer un \"truco\" para permitir que la función **`pickle.load`** pueda reconstruir objetos serializados incluso cuando la librería original no está instalada (en este caso **`gensim`**, que se evitó utilizar porque generaba varios conflictos con otras librerías).\n",
        "   - Se inicializa **`matrix`** con valores aleatorios de forma **`(len(vocab), emb_dim)`**.  \n",
        "   - Se abre **`model_file,`** o el **`txt_file`** y se lee la cabecera para extraer el total de palabras y la dimensión del *embedding*.\n",
        "   - Para cada *token* se valida si se encuentra en el vocabulario respectivo y lo reemplaza la fila correspondiente de **`matrix**` con ese vector.  \n",
        "   - Finalmente, se devuelve **`matrix`** con los vectores preentrenados donde estén disponibles.  "
      ],
      "metadata": {
        "id": "dFNdGo_cXGTs"
      },
      "id": "dFNdGo_cXGTs"
    },
    {
      "cell_type": "code",
      "source": [
        "#  Carga Word2Vec: Lee el fichero Word2Vec binario de Google News y devuelve la matriz de pesos\n",
        "def load_google_vectors_npy(model_file: str, vectors_npy: str, vocab: dict, emb_dim: int = 300) -> np.ndarray:\n",
        "\n",
        "    # Stubs para que pickle encuentre las clases ———\n",
        "    sys.modules['gensim'] = types.ModuleType('gensim')\n",
        "    sys.modules['gensim.models'] = types.ModuleType('gensim.models')\n",
        "    sys.modules['gensim.models.keyedvectors'] = types.ModuleType('gensim.models.keyedvectors')\n",
        "\n",
        "    class Word2VecKeyedVectors: pass\n",
        "    class Vocab: pass\n",
        "    sys.modules['gensim.models.keyedvectors'].Word2VecKeyedVectors = Word2VecKeyedVectors\n",
        "    sys.modules['gensim.models.keyedvectors'].Vocab = Vocab\n",
        "\n",
        "    # Inicializar matriz aleatoria\n",
        "    matrix = np.random.normal(scale=0.6, size=(len(vocab), emb_dim)).astype(np.float32)\n",
        "\n",
        "    #  Deserializar el modelo\n",
        "    with open(model_file, \"rb\") as f:\n",
        "        kv = pickle.load(f)\n",
        "\n",
        "    # Construir key_to_index si no existe\n",
        "    if not hasattr(kv, 'key_to_index') and hasattr(kv, 'vocab'):\n",
        "        # dict: palabra → Vocab(obj) donde obj.index es la posición\n",
        "        kv.key_to_index = {w: obj.index for w, obj in kv.vocab.items()}\n",
        "\n",
        "    # Cargar array .npy\n",
        "    all_vecs = np.load(vectors_npy, mmap_mode=\"r\")\n",
        "\n",
        "    # Rellenar la matriz\n",
        "    for word, idx in vocab.items():\n",
        "        if word in kv.key_to_index:\n",
        "            matrix[idx] = all_vecs[kv.key_to_index[word]]\n",
        "\n",
        "    return matrix\n",
        "\n",
        "w2v_weights = load_google_vectors_npy(model_file, vectors_npy, vocab, emb_dim=300)"
      ],
      "metadata": {
        "id": "nZt2seoiKfRy"
      },
      "id": "nZt2seoiKfRy",
      "execution_count": null,
      "outputs": []
    },
    {
      "cell_type": "code",
      "source": [
        "# Carga de GloVe\n",
        "def load_glove_vectors_txt(txt_file: str, vocab: dict, emb_dim: int = 300) -> np.ndarray:\n",
        "\n",
        "    # Inicializar aleatoriamente aquellas palabras que no están en GloVe\n",
        "    matrix = np.random.normal(loc=0.0, scale=0.6, size=(len(vocab), emb_dim)).astype(np.float32)\n",
        "\n",
        "    # Iterar cada línea de GloVe, sin cargar todo el file\n",
        "    with open(txt_file, 'r', encoding='utf-8') as f:\n",
        "        for line in f:\n",
        "            parts = line.rstrip().split(' ')\n",
        "            word = parts[0]\n",
        "            # La línea debe tener la dimensión esperada\n",
        "            if len(parts) - 1 != emb_dim:\n",
        "                continue\n",
        "            # Guardar\n",
        "            if word in vocab:\n",
        "                vector = np.asarray(parts[1:], dtype=np.float32)\n",
        "                matrix[vocab[word]] = vector\n",
        "\n",
        "    return matrix\n",
        "\n",
        "%time glove_weights = load_glove_vectors_txt(txt_file=\"glove.6B.300d.txt\", vocab=vocab, emb_dim=300)"
      ],
      "metadata": {
        "id": "nNzNtqJTl-v2",
        "colab": {
          "base_uri": "https://localhost:8080/"
        },
        "outputId": "e26e37a8-c446-4c90-c405-e6acf5a8c219"
      },
      "id": "nNzNtqJTl-v2",
      "execution_count": null,
      "outputs": [
        {
          "output_type": "stream",
          "name": "stdout",
          "text": [
            "CPU times: user 7.29 s, sys: 317 ms, total: 7.6 s\n",
            "Wall time: 7.6 s\n"
          ]
        }
      ]
    },
    {
      "cell_type": "code",
      "source": [
        "# Se verifica el tamaño del vocabulario 20.000 + 4 items añadidos posteriormente {'<PAD>':0, '<UNK>':1, '<SOS>':2, '<EOS>':3}\n",
        "len(vocab)"
      ],
      "metadata": {
        "colab": {
          "base_uri": "https://localhost:8080/"
        },
        "id": "O0gQXVGK14tx",
        "outputId": "f82be3fa-121a-42a6-d57a-5baf98c8c13a"
      },
      "id": "O0gQXVGK14tx",
      "execution_count": null,
      "outputs": [
        {
          "output_type": "execute_result",
          "data": {
            "text/plain": [
              "20004"
            ]
          },
          "metadata": {},
          "execution_count": 22
        }
      ]
    },
    {
      "cell_type": "markdown",
      "source": [
        "Estos vectores se caracterizan por capturar relaciones semántico-geométricas (`king − man + woman ≈ queen`) y en su momento mejoraron sustancialmente las tareas de analogías y similitud frente a métodos previos.Tienen un amplio vocabulario y la granularidad de 300 dimensiones hacen que todavía sea un punto de partida competitivo para tareas de **PLN** en inglés, sobre todo cuando el *corpus* propio es pequeño o se busca ahorrar tiempo de entrenamiento."
      ],
      "metadata": {
        "id": "MFBM8AiDXFqo"
      },
      "id": "MFBM8AiDXFqo"
    },
    {
      "cell_type": "markdown",
      "source": [
        "Generamos una nube de palabras para ver las **100** ocurrencias más frecuentes de los textos preprocesados. El tamaño de las palabras es proporcional a su frecuencia, mientras que el color, en este caso, es un elemento puramente decorativo y aleatorio."
      ],
      "metadata": {
        "id": "IOYz0UWa9jRl"
      },
      "id": "IOYz0UWa9jRl"
    },
    {
      "cell_type": "code",
      "source": [
        "def generar_wordcloud(X: pd.DataFrame):\n",
        "\n",
        "  # Pre-procesamiento común\n",
        "  X_preprocesado = X.text.apply(lambda x: clean_and_tokenize(x))\n",
        "  texto_nube = ' '.join(w for text in X_preprocesado for w in text)\n",
        "\n",
        "  # Generación de nube de palabras\n",
        "  wordcloud = WordCloud(\n",
        "      width=900,\n",
        "      height=250,\n",
        "      background_color ='white',\n",
        "      min_font_size=10,\n",
        "      max_font_size=110,\n",
        "      max_words=100\n",
        "  ).generate(texto_nube)\n",
        "\n",
        "  # Plot\n",
        "  plt.figure(figsize=(10, 10))\n",
        "  plt.imshow(wordcloud)\n",
        "  plt.axis('off')\n",
        "  plt.show()"
      ],
      "metadata": {
        "id": "sBwcvN1xtktk"
      },
      "id": "sBwcvN1xtktk",
      "execution_count": null,
      "outputs": []
    },
    {
      "cell_type": "code",
      "source": [
        "%time generar_wordcloud(data)"
      ],
      "metadata": {
        "id": "3Rof6FeuAQNF",
        "colab": {
          "base_uri": "https://localhost:8080/",
          "height": 289
        },
        "outputId": "a9f45b8c-529f-4d44-9a6f-fea876b8521f"
      },
      "id": "3Rof6FeuAQNF",
      "execution_count": null,
      "outputs": [
        {
          "output_type": "display_data",
          "data": {
            "text/plain": [
              "<Figure size 1000x1000 with 1 Axes>"
            ],
            "image/png": "[encoded data removed]"
          },
          "metadata": {}
        },
        {
          "output_type": "stream",
          "name": "stdout",
          "text": [
            "CPU times: user 37.2 s, sys: 1.39 s, total: 38.6 s\n",
            "Wall time: 39.1 s\n"
          ]
        }
      ]
    },
    {
      "cell_type": "markdown",
      "source": [
        "A continuación se hace una proyección 3D del espacio vectorial determinado tanto por *GloVe* como por *Word2Vec* utilizando *t-SNE*. Esto nos permitirá tener una mejor idea de cómo funcionan estos *embedding*, y el modo en el que se relacionan las palabras con estos pesos pre-entrenados."
      ],
      "metadata": {
        "id": "iNMnXERr2jSu"
      },
      "id": "iNMnXERr2jSu"
    },
    {
      "cell_type": "code",
      "source": [
        "# Muestra del vocabulario a tomar\n",
        "N = 500\n",
        "palabras = list(vocab.keys())[:N]\n",
        "vectores_w2v   = np.stack([w2v_weights[vocab[p]]   for p in palabras])\n",
        "vectores_glove = np.stack([glove_weights[vocab[p]] for p in palabras])\n",
        "\n",
        "# Concatenar y normalizar\n",
        "V = np.vstack([vectores_w2v, vectores_glove])\n",
        "V = StandardScaler().fit_transform(V)\n",
        "\n",
        "# PCA para reducción inicial (p. ej. a 50 dimensiones)\n",
        "pca = PCA(n_components=50, random_state=13)\n",
        "V_pca = pca.fit_transform(V)\n",
        "\n",
        "# Mapeo t-SNE en 3D\n",
        "tsne = TSNE(n_components=3,perplexity=40,init='pca',random_state=13,learning_rate='auto')\n",
        "X_tsne = tsne.fit_transform(V_pca)\n",
        "\n",
        "# Preparar DataFrame para Plotly\n",
        "etiquetas = ['Word2Vec'] * N + ['GloVe'] * N\n",
        " # una lista de 2N: primera mitad Word2Vec, segunda mitad GloVe\n",
        "palabras_total = palabras + palabras\n",
        "\n",
        "df = pd.DataFrame({'x':        X_tsne[:, 0],\n",
        "                    'y':        X_tsne[:, 1],\n",
        "                    'z':        X_tsne[:, 2],\n",
        "                    'palabra':  palabras_total,\n",
        "                    'modelo':   etiquetas\n",
        "                })\n",
        "\n",
        "# Gráfico interactivo 3D\n",
        "fig = px.scatter_3d(df, x='x', y='y', z='z',\n",
        "                    color='modelo',\n",
        "                    hover_name='palabra',\n",
        "                    title='t-SNE 3D — Word2Vec vs. GloVe')\n",
        "fig.update_traces(marker=dict(size=3))\n",
        "fig.show()"
      ],
      "metadata": {
        "colab": {
          "base_uri": "https://localhost:8080/",
          "height": 542
        },
        "id": "VMKUatkRMTY6",
        "outputId": "4cff8159-2009-427b-e15f-fb49a5b0bd04"
      },
      "id": "VMKUatkRMTY6",
      "execution_count": null,
      "outputs": [
        {
          "output_type": "display_data",
          "data": {
            "text/html": [
              "<html>\n",
              "<head><meta charset=\"utf-8\" /></head>\n",
              "<body>\n",
              "    <div>            <script src=\"https://cdnjs.cloudflare.com/ajax/libs/mathjax/2.7.5/MathJax.js?config=TeX-AMS-MML_SVG\"></script><script type=\"text/javascript\">if (window.MathJax && window.MathJax.Hub && window.MathJax.Hub.Config) {window.MathJax.Hub.Config({SVG: {font: \"STIX-Web\"}});}</script>                <script type=\"text/javascript\">window.PlotlyConfig = {MathJaxConfig: 'local'};</script>\n",
              "        <script charset=\"utf-8\" src=\"https://cdn.plot.ly/plotly-2.35.2.min.js\"></script>                <div id=\"6be5d888-07a0-4403-b987-af003c792072\" class=\"plotly-graph-div\" style=\"height:525px; width:100%;\"></div>            <script type=\"text/javascript\">                                    window.PLOTLYENV=window.PLOTLYENV || {};                                    if (document.getElementById(\"6be5d888-07a0-4403-b987-af003c792072\")) {                    Plotly.newPlot(                        \"6be5d888-07a0-4403-b987-af003c792072\",                        [{\"hovertemplate\":\"\\u003cb\\u003e%{hovertext}\\u003c\\u002fb\\u003e\\u003cbr\\u003e\\u003cbr\\u003emodelo=Word2Vec\\u003cbr\\u003ex=%{x}\\u003cbr\\u003ey=%{y}\\u003cbr\\u003ez=%{z}\\u003cextra\\u003e\\u003c\\u002fextra\\u003e\",\"hovertext\":[\"movie\",\"film\",\"one\",\"!\",\"like\",\"?\",\"good\",\"time\",\"even\",\"would\",\"really\",\"story\",\"see\",\"well\",\"much\",\"get\",\"bad\",\"also\",\"people\",\"great\",\"first\",\"made\",\"make\",\"way\",\"could\",\"movies\",\"characters\",\"think\",\"character\",\"watch\",\"films\",\"two\",\"seen\",\"many\",\"love\",\"plot\",\"never\",\"life\",\"acting\",\"best\",\"show\",\"little\",\"know\",\"ever\",\"man\",\"better\",\"end\",\"scene\",\"still\",\"say\",\"scenes\",\"something\",\"go\",\"back\",\"real\",\"thing\",\"watching\",\"actors\",\"director\",\"years\",\"though\",\"10\",\"funny\",\"old\",\"work\",\"actually\",\"another\",\"look\",\"nothing\",\"makes\",\"going\",\"find\",\"new\",\"lot\",\"every\",\"part\",\"world\",\"us\",\"cast\",\"things\",\"horror\",\"quite\",\"pretty\",\"want\",\"around\",\"seems\",\"young\",\"big\",\"take\",\"however\",\"enough\",\"got\",\"thought\",\"fact\",\"long\",\"give\",\"series\",\"may\",\"music\",\"right\",\"comedy\",\"guy\",\"action\",\"must\",\"without\",\"always\",\"times\",\"original\",\"saw\",\"almost\",\"gets\",\"role\",\"come\",\"done\",\"interesting\",\"point\",\"least\",\"whole\",\"bit\",\"far\",\"script\",\"2\",\"feel\",\"family\",\"minutes\",\"might\",\"last\",\"making\",\"anything\",\"since\",\"probably\",\"tv\",\"away\",\"performance\",\"kind\",\"yet\",\"girl\",\"fun\",\"woman\",\"anyone\",\"worst\",\"rather\",\"sure\",\"hard\",\"played\",\"day\",\"found\",\"screen\",\"especially\",\"looking\",\"although\",\"believe\",\"course\",\"trying\",\"dvd\",\"everything\",\"set\",\"ending\",\"comes\",\"goes\",\"maybe\",\"put\",\"three\",\"let\",\"book\",\"shows\",\"place\",\"worth\",\"different\",\"actor\",\"sense\",\"main\",\"american\",\"someone\",\"true\",\"looks\",\"effects\",\"watched\",\"reason\",\"play\",\"everyone\",\"money\",\"war\",\"together\",\"year\",\"job\",\"1\",\"high\",\"plays\",\"instead\",\"audience\",\"said\",\"black\",\"later\",\"half\",\"seem\",\"takes\",\"special\",\"night\",\"left\",\"seeing\",\"beautiful\",\"john\",\"wife\",\"shot\",\"excellent\",\"house\",\"idea\",\"star\",\"version\",\"mind\",\"else\",\"death\",\"fan\",\"men\",\"budget\",\"nice\",\"used\",\"father\",\"short\",\"simply\",\"poor\",\"3\",\"read\",\"completely\",\"along\",\"second\",\"top\",\"help\",\"less\",\"home\",\"boring\",\"dead\",\"kids\",\"either\",\"hollywood\",\"line\",\"friends\",\"try\",\"low\",\"given\",\"wrong\",\"enjoy\",\"camera\",\"full\",\"women\",\"use\",\"classic\",\"production\",\"school\",\"stupid\",\"need\",\"couple\",\"performances\",\"rest\",\"next\",\"truly\",\"awful\",\"video\",\"start\",\"sex\",\"recommend\",\"tell\",\"mean\",\"perhaps\",\"terrible\",\"understand\",\"getting\",\"face\",\"remember\",\"moments\",\"came\",\"name\",\"keep\",\"small\",\"perfect\",\"person\",\"playing\",\"human\",\"style\",\"definitely\",\"boy\",\"early\",\"mother\",\"wonderful\",\"head\",\"others\",\"episode\",\"often\",\"stars\",\"written\",\"piece\",\"dialogue\",\"lines\",\"live\",\"gives\",\"children\",\"case\",\"yes\",\"laugh\",\"friend\",\"lost\",\"loved\",\"finally\",\"certainly\",\"title\",\"absolutely\",\"oh\",\"went\",\"entertaining\",\"liked\",\"sort\",\"cinema\",\"worse\",\"felt\",\"picture\",\"mr\",\"become\",\"overall\",\"hope\",\"5\",\"several\",\"drama\",\"entire\",\"based\",\"supposed\",\"sound\",\"called\",\"white\",\"guys\",\"dark\",\"problem\",\"4\",\"fans\",\"care\",\"waste\",\"beginning\",\"lead\",\"game\",\"humor\",\"seemed\",\"lives\",\"wanted\",\"direction\",\"despite\",\"totally\",\"guess\",\"evil\",\"final\",\"throughout\",\"example\",\"already\",\"becomes\",\"unfortunately\",\"son\",\"able\",\"turn\",\"quality\",\"killer\",\"michael\",\"b\",\"history\",\"wants\",\"days\",\"heart\",\"side\",\"flick\",\"writing\",\"amazing\",\"fine\",\"god\",\"horrible\",\"matter\",\"run\",\"art\",\"kill\",\"close\",\"act\",\"town\",\"etc\",\"child\",\"works\",\"behind\",\"turns\",\"viewer\",\"today\",\"genre\",\"tries\",\"brilliant\",\"stuff\",\"late\",\"parts\",\"past\",\"eyes\",\"kid\",\"directed\",\"expect\",\"enjoyed\",\"gave\",\"girls\",\"hand\",\"soon\",\"obviously\",\"car\",\"favorite\",\"highly\",\"stop\",\"hour\",\"actress\",\"city\",\"sometimes\",\"thinking\",\"killed\",\"type\",\"daughter\",\"self\",\"blood\",\"group\",\"starts\",\"decent\",\"says\",\"voice\",\"heard\",\"happens\",\"took\",\"writer\",\"fight\",\"known\",\"anyway\",\"except\",\"slow\",\"experience\",\"feeling\",\"coming\",\"leave\",\"stories\",\"score\",\"roles\",\"involved\",\"hero\",\"moment\",\"happen\",\"lack\",\"violence\",\"chance\",\"complete\",\"told\",\"ok\",\"crap\",\"particularly\",\"hit\",\"cool\",\"simple\",\"save\",\"extremely\",\"police\",\"wonder\",\"hell\",\"age\",\"strong\",\"living\",\"please\",\"david\",\"cannot\",\"hilarious\",\"song\",\"looked\",\"attempt\",\"serious\",\"taken\",\"robert\",\"including\",\"obvious\",\"cut\",\"murder\",\"ago\",\"shown\",\"brother\",\"james\",\"happened\",\"husband\",\"released\",\"gore\",\"reality\",\"exactly\",\"none\",\"english\",\"seriously\",\"jokes\",\"running\",\"possible\",\"alone\",\"across\",\"opening\",\"cinematography\",\"sad\",\"usually\",\"number\",\"interest\",\"order\"],\"legendgroup\":\"Word2Vec\",\"marker\":{\"color\":\"#636efa\",\"symbol\":\"circle\",\"size\":3},\"mode\":\"markers\",\"name\":\"Word2Vec\",\"scene\":\"scene\",\"showlegend\":true,\"x\":[-5.4765944,-2.398359,2.0876408,20.226223,2.1103318,16.271908,13.765348,-1.8437268,-0.36982623,-5.475972,-0.13930576,-8.680852,-15.672358,10.484383,3.7723718,-22.5308,-2.5990808,7.1268687,7.544863,10.28955,-4.9262853,-19.377062,-21.789827,-6.5067086,-8.437336,-3.1761265,-9.191475,-5.729894,-10.984234,-10.441096,-0.73290324,9.575133,-5.279722,6.783447,9.134753,-13.441289,-5.659778,15.105289,-8.096396,10.615347,-9.755839,5.0924797,-10.151672,2.7812846,10.793787,14.6826725,-7.3278995,0.30871984,-0.46370664,-13.260719,-1.627467,-5.277997,-22.657354,-10.086602,-0.5735945,-8.214178,-10.507671,-3.824476,12.3524,3.7847342,1.1886318,0.09791913,-2.6769915,11.995686,10.704857,-3.200423,-0.575549,-18.802647,-7.26331,-26.898104,-21.833214,-12.574187,2.9399242,0.48060995,3.4430478,11.936704,12.620059,-4.59104,-7.4993916,-4.556905,-4.920861,2.2247863,3.6309965,-20.687567,10.857499,0.07812875,9.96545,10.208012,-18.536917,4.6610556,-6.107074,-22.986622,-1.8618408,-0.27933306,9.304457,-22.363077,-12.119965,-6.623866,-1.6595829,-16.740248,-7.6782565,-13.415839,-8.066309,-7.8025217,-4.4513125,-2.0555127,-0.53789794,-8.396832,-18.249748,1.619491,-28.77927,-19.001518,-18.404062,-0.52401954,2.5360053,-8.442865,2.9086163,-2.7169845,4.5765595,6.536603,-6.335308,-14.279947,-4.9520864,15.336471,0.26875237,-5.5975966,-1.1201774,-21.819683,-10.5075035,1.1337485,-3.806473,-18.962004,-8.018241,23.218521,2.8444326,0.46184096,15.638918,2.6686463,13.975978,-15.16211,6.474304,-2.3092828,-6.4344625,-10.23474,-3.0346253,0.93105435,-11.790449,-3.484495,7.346516,-18.575739,3.4185705,-11.663921,-3.487264,-26.700651,-22.115618,-6.803199,-14.240151,-7.7588067,-29.267324,-30.684786,-6.89285,-19.6238,7.9381547,-22.196627,-12.2611475,-10.146195,-3.3532186,2.6130707,18.146051,1.4197408,-2.6937184,3.9114923,-18.2993,-15.504905,3.0093558,-21.452354,19.264788,-10.549154,-5.9409485,-5.0913625,-9.021064,-16.101627,14.305045,14.357117,5.0213842,8.005222,-12.092483,16.913301,-2.6181214,-5.107623,-7.8452764,5.376594,-20.131308,-2.8385243,-6.626779,-2.199732,-32.65264,4.6683874,-0.20670153,-14.043104,-14.3704605,7.8917165,-24.156786,22.785006,-17.723612,16.10748,4.8350015,2.291146,7.401971,-6.360738,-5.610457,-11.429695,5.509819,-7.217521,11.693896,-2.4779668,8.926358,-3.4675438,16.91662,12.53697,-4.306737,13.012859,-10.862499,-14.622802,13.966349,7.6534705,-6.9028172,4.299625,-11.522098,1.5762941,-11.525681,-3.1459954,8.505009,-18.13843,-3.4843216,-19.842155,-10.229641,17.134188,-23.386236,17.192621,-19.69808,-13.480534,7.365714,-0.2365785,-0.8107138,13.72771,-2.6423724,9.087807,-12.652588,1.437029,-11.094266,-17.484446,10.384069,24.001583,-4.2015295,-5.6388726,-0.24650502,-5.4933643,-2.2083309,-11.303102,3.747928,-9.01151,-12.576651,-11.54505,-0.4530465,-3.4281693,-13.937025,-24.528198,-6.105164,-9.526683,-5.9280505,-20.322649,11.031493,-12.758053,5.509628,9.621622,6.772923,-2.2236497,11.521655,8.622158,-1.6295913,13.421406,-7.339233,18.074059,8.826216,8.547256,7.98736,-7.6105475,16.849102,5.0657434,-13.666285,3.943643,-9.29261,-8.786776,19.105667,-26.524769,16.849934,2.9585547,-15.446098,-1.3248255,18.936224,-20.270758,11.844616,-9.771321,-0.33943388,-18.396772,11.010962,-15.261403,-19.488028,1.2676725,13.439867,4.703852,0.6201463,1.6159183,-1.5614266,6.086304,-21.845613,-27.059708,8.467753,-14.912867,-8.686047,12.017798,-6.208635,14.375894,16.18503,-6.984688,11.505072,-4.770648,-19.323864,-12.18493,-14.847365,-8.703644,-11.794014,-10.071557,-0.052294042,-4.588989,-7.492325,-12.000518,-3.9200375,-13.09,-2.7638311,19.970465,-25.06492,4.8118773,2.6925669,13.640257,-9.01547,-9.545881,-9.396486,15.051635,13.508982,3.7010918,-29.55229,-1.6130387,17.310726,-11.318806,-23.676188,21.062159,2.8901489,-23.005854,-22.447826,5.921592,-27.892637,0.3445092,13.181433,-12.780625,-5.539098,-10.690861,6.354007,-3.405703,-12.771846,-6.489535,1.4668769,-16.6383,-4.048621,-18.346651,-3.1011162,-3.8614998,2.602548,-19.258522,13.957884,12.692785,-13.173015,-26.989208,-10.163854,0.24135818,-9.366126,-27.11197,7.3822665,-6.9977975,-4.3758907,16.409449,2.9625142,-8.944655,-16.591925,-13.69464,-18.221395,9.25313,-22.93274,15.404745,-11.15569,-1.0768892,-2.1064615,8.525498,5.312904,7.0523586,-13.943368,3.6105556,4.4305162,-0.068677634,14.218778,-3.6464326,9.231897,5.6113954,19.9871,18.988022,8.378529,11.9622,-13.728877,17.283869,3.5256004,-2.7528632,-2.1714885,-23.4385,-17.731411,-2.5506716,-22.647717,-1.4837633,-6.5937166,-1.722347,-12.701253,11.694412,-1.0373298,-17.137787,-20.458052,-6.1574197,-8.026637,-17.635195,4.5029054,8.835262,-6.8061113,-20.789839,8.872163,0.4884222,-21.121645,-2.0887604,1.7505848,-15.363599,-15.481287,7.590126,-17.368494,4.7347956,6.893883,-16.148691,7.6352324,5.9815817,-8.462242,-12.53862,14.315601,11.946419,19.792995,-18.780325,-22.45239,-8.065226,-1.137215,-1.4189665,-21.008648,-27.635006,15.593929,-15.290244,-25.997343,7.860731,1.8016233,-13.612426,2.7266586,1.9153401,-8.164044,20.66432,-25.879732,-25.043072,20.448257,-13.47079,-4.983499,-2.6982825,1.3757769,6.8056903,-18.252775,17.241415,-1.9134821,-17.026562,-1.1954818,6.391103,12.055699,-9.31399,0.3243321,-6.459727,17.000046,9.077739,5.4159636,-6.9404283],\"y\":[18.7161,17.053558,-4.848824,10.430966,-23.90844,-21.568367,-23.665613,2.281144,-15.037929,-15.753199,-29.894817,4.368884,-28.464073,-10.813959,-16.451698,-19.5974,-16.431194,-11.368028,-0.44998232,-25.49005,0.8865379,-10.31701,-10.176472,-14.838183,-16.82225,21.754114,16.11631,-30.958658,14.67117,-38.931614,19.09062,3.5117636,-31.2112,-8.300378,-31.04608,12.269956,-24.674961,-2.2776265,5.6454945,-17.649446,-25.790821,-30.909199,-32.224148,-11.115282,6.0817876,-21.856632,-1.2469324,10.895821,-9.891486,-27.23012,13.478127,-33.161266,-15.532949,-3.795124,-18.795185,-34.195873,-36.52421,14.949359,-25.224104,6.808981,-13.37066,27.55363,-31.825281,3.3438349,-13.996379,-18.026354,-5.9853797,-31.586487,-28.922806,-10.6074505,-17.766819,-24.599392,-5.212164,-30.050398,-1.5226625,-8.312724,-6.0093393,-22.32499,13.201169,-30.709257,17.488853,-27.577024,-30.331541,-21.642637,-1.9585036,-23.324862,3.4153795,-24.361832,-15.941415,-15.087036,-16.801283,-22.778273,-34.480164,-14.713852,-13.333315,-17.122364,16.399174,-20.129032,18.892437,-13.692729,11.487244,-29.19299,0.8644693,-17.21628,-11.676146,-25.528023,3.1649287,13.363764,-27.914814,-1.6867679,-18.277937,14.616798,-16.94757,-30.143265,-24.14326,-6.916575,-6.380861,-19.763485,-33.87419,-13.891901,14.768249,12.193439,-39.32185,-0.47612858,10.398499,-19.81765,3.6497834,-8.179396,-29.959503,6.2220845,-22.898378,-9.750905,-2.507117,-6.818198,-25.252916,-14.585757,8.7830105,-30.460892,8.323036,-27.649157,-16.613647,-10.72377,-29.739498,-17.980927,-9.505923,3.7232857,-23.559748,11.861068,-20.959719,-33.380135,-11.207573,-27.523647,-0.51727796,-15.703475,-8.168455,-27.433067,2.800331,-2.8372686,-13.734264,-15.785199,-25.564528,-12.696304,4.4211597,-12.290616,2.5780697,-26.885761,-1.297386,-1.0882679,-0.51062965,12.9402895,-37.132004,-8.163619,-14.7447405,-26.46981,-16.119186,-29.759235,-15.132402,-35.54757,-18.367607,-7.648017,-23.002264,-7.825739,1.9415072,0.16444468,3.1916249,-30.732227,13.024316,-15.942554,-5.383793,-8.567544,18.188745,-28.770502,3.3916752,8.15329,4.7431216,-23.879032,-13.765986,-1.9032606,6.435908,-0.50967425,-29.99385,-25.178558,-13.74434,4.101325,1.2029927,-18.99848,8.028719,-36.11464,15.856578,11.622853,-15.51789,-25.011429,0.24311224,-45.114296,8.930304,4.0923243,-29.154299,-22.767242,1.2049638,-14.775584,-14.742509,-15.8979645,13.104154,-1.4648639,-29.131844,-6.5318646,2.6060004,-5.014324,-13.315788,-10.746931,2.4924214,-26.798918,0.28800872,-34.00501,-13.016939,-11.698581,7.535823,-4.2273445,-13.693432,-15.178987,-15.627725,-14.884296,-35.317593,11.821687,-4.0491138,8.340778,-20.221685,-12.822467,12.076156,0.16186194,-19.80439,-21.592886,7.1264815,-6.2269053,-6.643288,-1.7073961,-13.646092,-21.823977,14.88745,-2.0057688,7.4102983,-22.628464,-32.391827,-21.801785,-18.378172,-19.783047,-32.71808,-22.138643,3.1449888,-35.131023,-3.8127463,-24.5026,-2.0723383,-11.680455,-5.871051,-19.39251,-2.1574247,-9.766371,-1.2961998,-13.714099,-28.545065,5.799897,7.021311,5.092273,-28.103378,-26.98294,-2.4368033,13.406195,-19.705627,16.285925,4.128521,-8.919095,0.96828574,7.8470407,-1.9524481,-17.47422,4.6704164,-12.1094675,-18.34219,-34.60124,-3.298398,-1.4704795,-31.106045,-5.901761,-25.06591,12.786951,-29.474293,-18.584524,-25.061312,-27.461678,-30.823856,-24.68191,19.960308,-15.578191,-38.921097,-7.0353265,-16.758434,-8.114299,-5.857449,-21.315351,11.365506,3.083748,11.173133,-8.720962,-1.9179281,-27.593443,-16.187946,-26.714575,5.411933,-33.860706,2.4463634,-14.7026615,9.385652,-45.420155,-5.941167,-4.2259483,-4.050668,4.2475657,-7.7296124,11.857576,-23.365025,-2.8805664,-19.960527,-21.81801,1.4822003,-31.546404,-28.625065,-12.500887,-0.5050165,-7.5998335,-7.3127303,-10.474778,-10.085704,-17.634266,2.15861,-17.648607,-9.831842,-8.386113,1.1859791,-20.045088,-13.266256,-8.195099,-20.846155,6.36184,-9.983195,-1.025335,21.339804,3.42299,-26.247398,-9.619508,-15.016508,-19.146524,-18.909332,-3.6811488,18.985008,-7.3599524,3.4141684,-10.076477,2.1248755,-14.004669,4.1998563,-13.0831585,-2.8822477,-9.26893,17.931665,-3.7848597,20.824167,-9.801857,-16.626543,-31.305157,5.9913263,-9.185914,3.7912738,-10.798194,-31.033041,7.45812,-25.592363,-37.29363,-20.478027,9.0159855,-5.0860467,-10.16761,-28.058483,7.952361,-11.756473,-22.343124,-10.360522,10.084135,12.800802,3.0387914,-21.65144,-33.950996,0.9584226,-20.028854,5.1785965,-10.9269905,4.4130683,-3.5987,-3.5611093,-24.169695,-26.44572,5.2140694,-31.210037,-30.15151,-22.114634,9.467111,-7.588498,-28.745163,-21.005096,-5.3893547,-9.335272,-19.22395,-39.635902,-15.687624,-0.8729728,3.4920406,-6.1467977,13.308244,-32.42683,14.605345,-6.261019,-29.950693,-17.697224,-1.4325984,-13.676696,-3.7106135,-30.269806,-17.00697,-21.03915,-21.35894,-2.6412847,-20.869633,-17.376537,10.633313,-25.472126,4.0238767,-35.86828,-24.584032,2.1545966,-12.442188,-0.9727191,-18.706331,-16.45048,-12.896307,-30.76055,19.932158,-30.448265,-11.583762,-22.232082,-19.93005,-17.393864,2.51333,-21.30384,-8.367952,0.07411105,8.553862,-30.296257,0.29307202,-14.1652565,-32.70422,1.3095275,-17.394997,23.192722,-10.518366,-20.453615,-7.8731647,-9.865786,-23.32234,-36.19972,-6.7632284,-15.561385,-2.5798461,-5.4506516,3.113738,23.55495,-21.602486,-23.294777,-0.8570772,-14.0948105,-10.289738],\"z\":[-34.146893,-35.49852,-5.255481,-25.31229,-20.32368,9.215064,-24.362282,-6.280593,-6.1974273,5.265069,-15.834452,-31.287388,-0.5611601,8.053432,-7.653774,1.571754,-28.875458,3.1308055,-17.9744,-24.032661,5.4902315,10.137613,6.4879975,-14.100383,4.8776817,-33.83722,-32.043232,-9.943012,-29.168167,5.845236,-32.1975,-2.7603967,11.957094,-4.931385,-32.36864,-28.691698,-15.446711,-19.94835,-20.748594,-28.983997,16.061798,-15.351175,-8.423113,-17.158556,-28.308954,-27.378016,10.464671,-27.196318,0.050005216,-7.038582,-27.764812,-17.340523,-0.23780029,-2.3910112,-18.709745,-20.338066,4.2505674,-32.2864,8.622255,-4.367585,-2.2669125,-9.373953,-31.929096,-20.655895,-8.357271,-11.429623,-2.827204,-0.93610364,-17.114466,7.7336593,-4.507798,0.5382826,3.6873584,-20.197048,-11.2706995,-1.8725479,-16.760128,-20.570194,-21.47259,-20.658865,-28.920065,-6.1906137,-9.161657,-7.756962,6.630078,-1.1345832,-17.35675,-19.582573,4.579309,-0.35130608,-0.551336,4.3969817,-8.548956,-11.126326,-1.9515975,7.8491764,-12.321067,6.96399,-19.918722,-6.0467544,-33.873344,-25.834387,-12.983095,9.764407,1.1966603,-16.473545,-1.6228279,-14.885377,8.484604,-7.1461253,4.3706245,-20.735804,0.57710445,-1.8921107,-25.846802,-9.684812,-9.062824,-15.78993,-14.364014,-5.0090966,-36.951817,-4.1189384,-13.145436,-24.37037,-10.18657,3.7025557,3.50092,9.354777,-17.579176,5.3632975,-8.728447,-31.804777,-5.7018366,-6.150274,-15.253376,2.11117,-31.600182,-28.083647,-27.598063,-16.536196,-31.728722,-8.045978,-5.06756,-15.342169,-40.74216,-9.195084,5.2656307,-21.052834,-6.6391277,2.3127131,-0.5055388,-4.4770117,-11.168465,-8.731666,-32.348804,-20.618774,7.6590977,13.5007715,3.929619,0.88742447,-9.924792,1.4643619,-0.25976145,-4.220575,-28.036451,13.418487,-2.9186423,-1.7550272,4.158709,-35.27889,-17.726782,11.149706,-31.004244,-19.870874,-17.28779,0.7816418,-4.0165157,8.506314,-5.6725154,-36.577953,-19.773806,-17.737522,-9.089141,8.447044,-6.400273,2.1773503,-1.0618554,9.091328,-37.85774,-5.337499,-20.291395,5.727001,-15.308647,1.5073844,-1.1235307,-4.4405527,3.873517,3.8428657,-11.437392,-3.0197508,2.4152374,-30.165619,-29.032545,-28.3285,-7.919698,-22.474943,-19.06346,-5.399666,-24.384727,-16.745083,-19.034937,-16.793575,-31.253885,-2.8346906,-15.945897,-16.715742,-22.065844,11.4091625,-29.415045,-1.5294195,-8.140242,4.888152,-5.120128,-25.394014,-6.05745,3.744286,3.3152194,9.302746,6.5720935,-6.00127,-5.1415195,-28.814865,-33.455917,-25.45478,-3.759288,-35.229366,-9.948447,-25.59627,-8.011253,6.1726103,11.214704,-11.723331,-24.96156,-18.72828,6.931002,-13.971282,13.594108,-24.431648,-17.196434,-17.208023,-28.94718,-6.451516,-4.348938,-8.927647,0.31953537,2.3145275,-17.385664,-28.673729,-16.078722,8.108709,-27.341671,-1.9622023,-5.342623,-8.916433,-3.383731,-31.57175,-9.642776,0.3951158,-6.9929557,-12.309384,-25.867981,9.569434,-25.9822,0.51818436,-0.9958972,-24.647654,-22.20793,-37.56929,-10.278161,-19.305649,-12.36349,-31.602285,4.6349216,-27.998281,-27.320673,8.94129,-14.965767,-26.746454,-11.544469,-25.87423,-23.679678,-24.68942,-19.21494,-12.495175,-13.801926,8.427987,-22.157547,-11.495643,-20.768217,-28.331015,-28.768728,6.4850726,-31.055328,0.48522753,-10.162064,-12.275971,-11.448229,-24.503342,13.190411,-31.565414,-25.172398,-12.855296,-36.2328,-30.113619,-9.439777,-26.803995,-28.520422,14.393489,10.309234,-2.5262518,-2.5066829,0.22194697,-29.92359,0.73943824,-2.3278644,4.4491,-16.646587,7.2028956,-13.621502,-26.20989,-14.7185545,-8.971436,-3.342858,-3.7493222,-14.992755,-16.587315,7.26593,1.7187605,-33.20794,-35.51975,1.5414605,-20.00143,-9.809565,9.567529,8.492252,-7.886185,-11.650288,-25.179419,3.35178,6.3049245,-8.507813,4.0194855,11.359997,-25.396322,-33.210186,2.0474105,0.021415671,-1.5958568,-34.40752,-31.531048,-23.266916,-17.024122,-5.9213705,-5.6527686,-18.988884,-9.88696,-37.643105,-24.585491,-25.473892,12.236194,-22.839539,-30.799417,3.2012706,0.5309227,-13.213483,-10.679808,9.7571945,-12.440075,-20.540323,-25.03642,-25.074615,-10.624892,-5.0544143,0.92045367,-22.908983,1.8725791,-31.434221,-7.748727,-24.48845,-24.384766,5.2662387,-3.9031816,1.6128192,-17.0918,-26.023344,-20.985952,-3.132066,-23.707457,10.568542,-18.7828,-13.8034935,6.287181,-8.401039,-22.018827,14.212645,0.81464857,-10.877429,-10.150191,-35.718662,-19.890018,-12.905262,-12.922444,-36.475994,-15.059016,-31.762594,-12.824696,-13.659442,-3.9540477,10.313098,-22.691458,6.3972607,-23.996439,6.8012257,-7.0919924,10.2920685,-36.668854,-6.2145443,12.731337,-10.8959875,-8.631759,-6.1111836,-6.8711567,-13.539733,-2.3644412,-0.72815216,-32.33961,-33.573296,-22.814863,9.927408,-29.18002,-23.324417,-9.400268,3.4347274,-24.24585,-11.309116,10.979596,4.8475885,-27.908377,-29.48196,-3.638916,-5.7850018,-21.270908,-12.108924,0.16315284,-4.3683467,-23.70548,-4.9660177,-25.826607,-17.70659,11.492725,-17.017456,-17.985182,-33.30867,-3.806304,-34.527767,-22.759083,5.111176,-11.58759,0.92555124,8.351726,-30.808065,4.20153,-7.3682795,4.6978617,-29.59157,0.72459114,13.93882,-31.584763,-33.59915,-8.955941,-26.971853,14.833024,-28.786757,-20.8276,-13.6541395,-9.775506,-27.864027,-1.3236012,-31.73784,-0.42840979,8.559438,-5.7273207,4.9405994,7.7388186,-30.03246,-35.585632,-11.135526,-0.5030499,7.3212943,6.6149197],\"type\":\"scatter3d\"},{\"hovertemplate\":\"\\u003cb\\u003e%{hovertext}\\u003c\\u002fb\\u003e\\u003cbr\\u003e\\u003cbr\\u003emodelo=GloVe\\u003cbr\\u003ex=%{x}\\u003cbr\\u003ey=%{y}\\u003cbr\\u003ez=%{z}\\u003cextra\\u003e\\u003c\\u002fextra\\u003e\",\"hovertext\":[\"movie\",\"film\",\"one\",\"!\",\"like\",\"?\",\"good\",\"time\",\"even\",\"would\",\"really\",\"story\",\"see\",\"well\",\"much\",\"get\",\"bad\",\"also\",\"people\",\"great\",\"first\",\"made\",\"make\",\"way\",\"could\",\"movies\",\"characters\",\"think\",\"character\",\"watch\",\"films\",\"two\",\"seen\",\"many\",\"love\",\"plot\",\"never\",\"life\",\"acting\",\"best\",\"show\",\"little\",\"know\",\"ever\",\"man\",\"better\",\"end\",\"scene\",\"still\",\"say\",\"scenes\",\"something\",\"go\",\"back\",\"real\",\"thing\",\"watching\",\"actors\",\"director\",\"years\",\"though\",\"10\",\"funny\",\"old\",\"work\",\"actually\",\"another\",\"look\",\"nothing\",\"makes\",\"going\",\"find\",\"new\",\"lot\",\"every\",\"part\",\"world\",\"us\",\"cast\",\"things\",\"horror\",\"quite\",\"pretty\",\"want\",\"around\",\"seems\",\"young\",\"big\",\"take\",\"however\",\"enough\",\"got\",\"thought\",\"fact\",\"long\",\"give\",\"series\",\"may\",\"music\",\"right\",\"comedy\",\"guy\",\"action\",\"must\",\"without\",\"always\",\"times\",\"original\",\"saw\",\"almost\",\"gets\",\"role\",\"come\",\"done\",\"interesting\",\"point\",\"least\",\"whole\",\"bit\",\"far\",\"script\",\"2\",\"feel\",\"family\",\"minutes\",\"might\",\"last\",\"making\",\"anything\",\"since\",\"probably\",\"tv\",\"away\",\"performance\",\"kind\",\"yet\",\"girl\",\"fun\",\"woman\",\"anyone\",\"worst\",\"rather\",\"sure\",\"hard\",\"played\",\"day\",\"found\",\"screen\",\"especially\",\"looking\",\"although\",\"believe\",\"course\",\"trying\",\"dvd\",\"everything\",\"set\",\"ending\",\"comes\",\"goes\",\"maybe\",\"put\",\"three\",\"let\",\"book\",\"shows\",\"place\",\"worth\",\"different\",\"actor\",\"sense\",\"main\",\"american\",\"someone\",\"true\",\"looks\",\"effects\",\"watched\",\"reason\",\"play\",\"everyone\",\"money\",\"war\",\"together\",\"year\",\"job\",\"1\",\"high\",\"plays\",\"instead\",\"audience\",\"said\",\"black\",\"later\",\"half\",\"seem\",\"takes\",\"special\",\"night\",\"left\",\"seeing\",\"beautiful\",\"john\",\"wife\",\"shot\",\"excellent\",\"house\",\"idea\",\"star\",\"version\",\"mind\",\"else\",\"death\",\"fan\",\"men\",\"budget\",\"nice\",\"used\",\"father\",\"short\",\"simply\",\"poor\",\"3\",\"read\",\"completely\",\"along\",\"second\",\"top\",\"help\",\"less\",\"home\",\"boring\",\"dead\",\"kids\",\"either\",\"hollywood\",\"line\",\"friends\",\"try\",\"low\",\"given\",\"wrong\",\"enjoy\",\"camera\",\"full\",\"women\",\"use\",\"classic\",\"production\",\"school\",\"stupid\",\"need\",\"couple\",\"performances\",\"rest\",\"next\",\"truly\",\"awful\",\"video\",\"start\",\"sex\",\"recommend\",\"tell\",\"mean\",\"perhaps\",\"terrible\",\"understand\",\"getting\",\"face\",\"remember\",\"moments\",\"came\",\"name\",\"keep\",\"small\",\"perfect\",\"person\",\"playing\",\"human\",\"style\",\"definitely\",\"boy\",\"early\",\"mother\",\"wonderful\",\"head\",\"others\",\"episode\",\"often\",\"stars\",\"written\",\"piece\",\"dialogue\",\"lines\",\"live\",\"gives\",\"children\",\"case\",\"yes\",\"laugh\",\"friend\",\"lost\",\"loved\",\"finally\",\"certainly\",\"title\",\"absolutely\",\"oh\",\"went\",\"entertaining\",\"liked\",\"sort\",\"cinema\",\"worse\",\"felt\",\"picture\",\"mr\",\"become\",\"overall\",\"hope\",\"5\",\"several\",\"drama\",\"entire\",\"based\",\"supposed\",\"sound\",\"called\",\"white\",\"guys\",\"dark\",\"problem\",\"4\",\"fans\",\"care\",\"waste\",\"beginning\",\"lead\",\"game\",\"humor\",\"seemed\",\"lives\",\"wanted\",\"direction\",\"despite\",\"totally\",\"guess\",\"evil\",\"final\",\"throughout\",\"example\",\"already\",\"becomes\",\"unfortunately\",\"son\",\"able\",\"turn\",\"quality\",\"killer\",\"michael\",\"b\",\"history\",\"wants\",\"days\",\"heart\",\"side\",\"flick\",\"writing\",\"amazing\",\"fine\",\"god\",\"horrible\",\"matter\",\"run\",\"art\",\"kill\",\"close\",\"act\",\"town\",\"etc\",\"child\",\"works\",\"behind\",\"turns\",\"viewer\",\"today\",\"genre\",\"tries\",\"brilliant\",\"stuff\",\"late\",\"parts\",\"past\",\"eyes\",\"kid\",\"directed\",\"expect\",\"enjoyed\",\"gave\",\"girls\",\"hand\",\"soon\",\"obviously\",\"car\",\"favorite\",\"highly\",\"stop\",\"hour\",\"actress\",\"city\",\"sometimes\",\"thinking\",\"killed\",\"type\",\"daughter\",\"self\",\"blood\",\"group\",\"starts\",\"decent\",\"says\",\"voice\",\"heard\",\"happens\",\"took\",\"writer\",\"fight\",\"known\",\"anyway\",\"except\",\"slow\",\"experience\",\"feeling\",\"coming\",\"leave\",\"stories\",\"score\",\"roles\",\"involved\",\"hero\",\"moment\",\"happen\",\"lack\",\"violence\",\"chance\",\"complete\",\"told\",\"ok\",\"crap\",\"particularly\",\"hit\",\"cool\",\"simple\",\"save\",\"extremely\",\"police\",\"wonder\",\"hell\",\"age\",\"strong\",\"living\",\"please\",\"david\",\"cannot\",\"hilarious\",\"song\",\"looked\",\"attempt\",\"serious\",\"taken\",\"robert\",\"including\",\"obvious\",\"cut\",\"murder\",\"ago\",\"shown\",\"brother\",\"james\",\"happened\",\"husband\",\"released\",\"gore\",\"reality\",\"exactly\",\"none\",\"english\",\"seriously\",\"jokes\",\"running\",\"possible\",\"alone\",\"across\",\"opening\",\"cinematography\",\"sad\",\"usually\",\"number\",\"interest\",\"order\"],\"legendgroup\":\"GloVe\",\"marker\":{\"color\":\"#EF553B\",\"symbol\":\"circle\",\"size\":3},\"mode\":\"markers\",\"name\":\"GloVe\",\"scene\":\"scene\",\"showlegend\":true,\"x\":[23.483957,23.97348,-11.879151,2.3187618,8.300082,5.750691,-2.6460226,-3.2405348,8.929901,2.9715865,5.081973,2.1340106,3.4203336,3.3133874,6.7444806,-7.575574,-1.6806937,1.2927296,8.071106,1.3382194,9.101994,-10.773266,-9.834477,-3.099806,4.1017923,26.267845,6.063975,9.003537,7.5242996,22.71646,25.960209,-6.155397,6.6225853,1.943124,12.322846,-31.56968,14.654603,5.461026,-25.637978,22.360558,26.513983,5.6258135,10.247588,17.293316,-6.6568904,-3.3027937,-5.3761654,7.461914,9.451532,6.4904346,10.034841,5.209603,-5.028487,-5.514375,21.288734,6.938144,22.962564,15.594937,-18.002665,5.6203566,12.803581,16.168386,6.2163877,-27.727184,23.576826,11.4291315,-14.233106,11.84332,7.800446,-15.094934,-2.2945464,-1.9465836,-14.552014,-2.5239687,-10.808211,-21.143332,16.491392,7.3944273,13.325243,2.1577032,22.05413,8.292028,4.3674626,-2.8105998,-19.165583,13.992788,-14.590067,6.761298,-8.3367815,16.619568,1.1452646,-9.717521,10.939388,17.587305,-13.258968,-10.09194,23.207462,7.3805637,32.364407,-5.3689175,18.016237,-8.319973,-18.751284,-5.244948,4.7606206,0.17856546,-5.09156,35.122063,5.279608,14.896105,-22.527489,-27.402061,-0.09082884,4.231952,7.9270997,3.8478448,3.8600047,-20.060598,6.254696,8.944259,33.89302,10.253472,20.352629,30.362646,-2.325315,7.485667,4.5445046,-12.053478,5.5484514,3.2316883,9.279761,29.433207,-5.5457873,25.9123,18.278778,13.548055,-12.830318,3.7118182,-10.273711,2.2905083,-5.405345,11.498221,2.099261,0.1990607,27.6811,-4.8410296,5.2169747,32.15987,6.2193203,14.437039,14.417142,7.969561,-0.527372,-16.61289,30.602478,-0.72415143,-11.660777,-3.706713,-18.873877,-21.498583,5.9155293,-9.876198,-4.821848,-6.808859,26.622572,26.196617,-7.560442,-26.526678,-1.0075918,18.70388,21.288082,-22.738329,11.854097,-1.3796462,21.780462,12.295362,15.864717,20.618925,15.440542,26.649483,-0.8863901,-18.506958,-9.4265785,13.316758,3.4273224,-6.7666106,10.797472,-36.26433,25.478453,9.063756,-3.0447662,20.929213,-34.217957,10.964574,12.626289,13.833551,-21.811409,-28.52822,-6.558143,-2.4118445,6.7523513,4.8351216,-9.802339,35.885,-13.029966,-0.9928589,-19.278856,14.986285,-16.593597,33.99598,13.524097,1.3053247,17.62014,-11.745046,8.184238,-24.423864,-0.3541589,-31.317091,35.03339,-14.18488,10.457883,-2.2704132,13.881972,17.299469,-11.925691,-21.753723,11.046175,-13.107859,-14.708375,10.459475,-2.315812,-2.0778387,22.391869,-14.810472,8.027267,24.95684,-29.750889,32.24379,-18.80148,-36.461456,1.7542778,6.8204722,33.876106,32.404663,-27.517986,6.0617523,-30.344156,-23.507359,26.09376,-35.874294,5.1790304,-4.646023,24.07704,28.492365,12.415516,-1.6786993,-0.53787875,1.7249682,31.109215,-3.5872922,-20.360683,7.804505,13.544976,8.69146,11.06747,1.1464825,13.923299,-6.5579557,-7.640987,10.774588,28.622194,3.740358,-35.30672,-13.950748,-21.665094,-3.6067197,-3.972754,25.467758,-5.081459,15.928362,4.1196294,-11.792939,7.137894,32.752735,1.8963331,-28.608715,4.651863,25.19605,17.58176,-18.320942,29.744919,-22.988625,4.3215003,-29.1829,13.701794,-18.443033,-18.318882,15.199639,1.6561886,11.630274,35.361614,8.65291,9.455739,15.980971,6.7278786,14.160512,-5.3675647,-0.9962128,0.57480556,5.253164,7.0690856,17.125696,28.516804,-5.471269,22.490868,31.794437,5.412177,-20.58853,24.533123,-2.0024369,14.569326,-1.5036082,18.840769,-18.22079,-23.290133,-10.466737,34.70191,-30.375135,-35.755775,-6.1198936,-33.758427,21.763369,12.399498,-9.214229,-3.8278072,-16.993032,-1.9646208,-10.229364,18.010778,10.923633,15.9301815,6.5242295,0.67152935,28.276615,18.19154,-9.375984,7.388931,10.796122,9.764424,-22.039865,-24.868454,8.947776,-21.73047,16.50827,38.343094,-3.1298828,-6.819952,22.13242,16.49463,-10.088725,7.510492,19.237577,23.998566,-2.363683,24.999125,-11.745264,22.370378,31.139637,0.5136529,-25.235037,11.505961,0.6510767,17.907461,-32.118053,27.629404,-31.705929,6.9243035,-11.701906,-19.168358,-16.205145,-20.409533,25.010853,-9.176688,-22.863894,-0.4335714,2.5866156,18.539896,-22.431313,-2.0628872,1.1068552,4.935755,-22.910482,-1.594307,-5.249243,-11.055901,22.743296,3.886835,32.344517,4.6516848,-16.445105,-8.148507,14.835741,7.696471,-17.82963,-20.943792,-15.873061,-13.544851,-3.6915991,20.767866,-19.753588,19.773417,12.917635,21.820805,-27.841139,36.319756,22.43173,25.537977,-23.642296,-6.0036993,-6.16491,22.793865,36.60057,16.00741,12.32159,2.839455,28.81845,-20.6717,-31.793835,3.1875012,14.900726,-3.1583006,11.476799,23.132103,-0.22046423,-8.888438,0.17012402,16.134792,-26.331144,-29.866734,25.619967,26.075827,13.745779,21.180708,-23.403862,-6.0139103,-28.591795,19.276022,0.94303423,-0.4315166,8.474364,-14.328974,-15.409689,15.364872,-15.183296,-12.651189,4.1321416,13.099866,6.9275117,7.286964,16.1908,9.654669,-8.15403,-13.053594,-2.5397465,6.297063,32.38322,16.440796,-30.763973,25.134426,2.4025862,-13.860662,-3.9337626,18.069172,-13.252416,16.287466,7.4164915,26.118591,38.174355,-12.146646,17.746872,35.059925,32.292645,0.19402911,21.543941,10.418034,14.832682,-39.510937,27.920746,11.335001,-30.733715,10.762403,15.561707,-21.444975,6.6787586,30.333197,6.2178993,20.985245,-1.2270061,1.830973,-8.917563],\"y\":[15.968308,19.371452,-2.1741798,34.498894,25.526512,31.63901,27.673637,-6.51768,16.583403,11.685231,30.532845,34.22844,6.6459017,15.912617,19.543234,26.800724,42.36525,13.325943,9.689322,20.954895,-11.615173,18.123302,17.0018,11.659986,13.400009,14.000838,28.154623,28.943611,28.146906,2.1007926,16.752905,9.567948,4.043507,12.474306,36.935516,3.0104268,16.074636,-23.672909,6.7963586,-3.1222641,-14.159787,24.808062,30.055367,12.657723,23.752792,25.150526,-17.776197,18.877989,10.162217,14.488023,17.8529,29.449993,20.57691,4.5023446,19.85669,33.045082,3.5113082,22.82044,-32.520733,-11.221073,15.430487,-25.080585,45.569668,24.102093,-5.632912,20.926426,-0.7092183,28.454607,24.458122,17.346703,23.280691,14.887332,0.6467593,32.919548,-7.693077,-6.085908,7.574699,10.813575,24.541178,32.469673,11.051308,32.5648,32.417435,19.845402,-13.417352,24.614624,33.678257,26.544313,13.2479,16.270733,19.27982,30.54729,21.709942,20.553885,-11.203692,11.009901,-20.010887,11.088491,-9.152492,9.553703,17.09452,32.3758,16.331045,13.945053,14.732654,28.214182,-3.7530742,-10.028466,0.36623216,-2.8169672,21.428652,4.997207,9.414217,21.169674,37.71611,-5.37806,6.941447,23.363625,26.9417,14.506646,-16.06768,-10.308341,32.755062,5.406477,-19.194115,13.261388,-6.1499605,18.374191,25.053751,-8.031849,18.406729,-0.34441066,2.3367176,-0.8626688,23.954851,14.998841,27.845446,39.206207,24.838379,23.24633,43.48198,16.181044,24.479929,16.746536,-16.929308,-10.521097,7.9163837,10.069565,17.68805,29.444109,13.873005,17.093853,0.78225034,17.779217,0.4718067,30.313917,2.2968276,-20.217457,16.433502,17.130888,32.234745,5.5646358,7.06769,20.249289,-14.427542,-15.742878,-4.4298954,6.1118026,14.171735,21.469929,23.563396,-11.557534,8.248728,24.323866,19.953522,31.849,0.77814883,5.5587697,18.201525,-16.48555,27.024843,25.766058,-18.193983,5.8423266,-9.871871,25.684572,-9.266173,-4.3991218,-14.183356,15.925736,-18.021149,32.45337,-0.449354,-4.056446,-5.188196,28.134922,13.313458,1.0058421,-13.007824,4.6195235,2.3514533,35.819664,-34.29518,5.8354964,4.2174325,28.202423,-6.4834604,24.032412,1.4194369,-7.82884,27.88829,26.63271,-33.79038,-14.836772,-33.708485,-3.991339,30.732481,11.823603,2.485754,-9.410996,19.052456,16.64933,-9.433275,31.670492,41.35558,-11.950669,-13.39493,0.45697102,14.563975,19.055477,-0.19462,40.73202,-12.043847,31.886583,14.9559145,14.8747015,-14.223579,9.010549,15.970565,-4.885046,2.2949204,24.294992,7.4326525,6.6947694,12.552715,-33.230152,13.176896,0.92420954,-4.772367,-3.6907675,23.006948,17.344246,5.4205256,0.24424666,5.831583,-7.712833,37.943634,44.511875,1.860164,-12.803563,26.736843,6.44487,31.701494,19.779882,19.760921,43.76587,27.81954,30.114908,-1.6026366,34.71061,29.8265,-1.5255936,8.54101,20.194103,6.752973,31.577604,23.88953,-18.738077,11.82746,13.65959,26.177702,30.54907,-8.127524,3.135537,36.731792,-2.5025759,10.337691,-19.292055,10.754136,3.1769507,-15.24855,21.133774,-21.355509,-16.248281,-22.4303,11.123255,33.212242,9.547996,30.105305,43.82632,7.9751067,-0.1174384,38.70827,-3.390434,23.319632,-15.796626,39.58058,34.124523,-0.5447746,40.44617,39.045425,22.360071,18.857994,42.031433,29.907003,11.013706,-37.22963,22.312384,4.5161533,8.425609,-11.106522,12.452104,17.094639,24.599094,6.710061,16.075378,-10.285149,5.8592014,-1.7436405,33.43205,1.158229,14.825454,-13.05953,-15.268354,17.106958,7.832915,-13.77749,5.0476055,-10.595419,48.45111,25.2247,-26.313675,17.680733,13.659307,12.373736,40.822655,29.494373,28.816893,-16.849396,-8.103981,6.700721,11.6374,20.516735,24.009367,1.0747645,14.287253,10.412373,1.254891,-35.924854,-30.345743,-20.219215,9.67062,31.74144,-10.044301,-24.99564,9.682176,7.982757,-18.074442,38.909985,-3.0827718,32.35213,46.67302,14.00239,-7.0664625,-5.5743127,17.527792,-5.3451567,-11.104458,-20.468721,4.2674174,31.750078,-5.927049,4.629616,15.804109,-19.280151,10.2831955,12.591391,16.674366,34.211758,37.36845,-8.968191,-3.5191202,-5.358103,-1.5543072,31.756218,21.70094,18.880112,7.6853814,-1.5333755,27.303057,8.254202,-1.6942215,27.262583,0.27022123,-1.3017625,30.873371,18.795832,-16.289799,20.993746,-18.883099,11.698819,27.58604,-10.411064,5.275486,1.8834707,19.167658,-27.83181,7.4885283,-11.21817,27.214556,32.094032,-11.536439,37.1739,36.496788,0.4560917,-20.701397,-4.1165133,7.596701,28.877974,5.90279,17.491253,1.3316512,32.96534,6.5448637,17.41994,33.268517,-7.655449,7.171086,-9.61249,18.955032,29.689291,33.45974,11.115903,16.163633,9.144789,13.60413,32.621796,32.33254,36.72192,17.691238,0.44336563,23.105873,16.856726,10.850081,32.229088,21.4642,34.354755,32.062233,-14.44668,14.232123,-24.120518,23.131334,-33.083138,12.382469,45.962803,-9.860629,26.930162,4.971501,17.19481,4.1816998,-34.885986,14.774818,20.649189,7.614801,-35.504307,-7.4990196,-16.709873,3.5071392,-31.74843,33.750935,6.252852,-5.4329953,-36.270138,25.00091,25.415115,10.4885645,8.653055,17.563253,45.856068,-9.547674,10.936694,2.0991309,-10.906404,-17.873392,13.457641,46.258827,9.415684,9.626128,-14.09068,12.759322],\"z\":[-15.760187,-14.30158,30.605331,-7.534364,31.291044,-3.1828852,25.143085,27.700968,20.301775,11.612983,12.641833,-20.840448,17.452482,29.465504,21.842297,13.702701,-0.6383135,30.645973,38.86898,30.251461,22.73734,27.982994,22.288355,20.791336,14.17222,-14.277882,-19.937866,10.462013,-22.284422,-5.478493,-12.138917,37.30725,21.881348,37.03513,-6.547687,-13.741141,6.40342,28.56425,-21.998749,22.835794,12.098739,24.088999,6.2313476,5.100776,-5.440275,23.333326,22.348835,-14.240538,24.571096,7.2305207,-14.088791,7.818584,14.646501,20.929764,5.3986263,9.138773,-2.798473,-20.945084,20.087423,29.90195,21.897886,20.703066,8.966414,3.351361,8.2590885,6.467929,31.326988,27.508892,7.40953,21.980213,14.499979,17.438953,17.637674,11.911222,28.780712,21.302677,4.5838723,5.3340845,-22.426088,8.830361,-12.186063,18.239708,17.505857,9.481191,29.508556,17.056385,-6.173408,34.25617,18.151073,23.551752,19.915384,13.090717,10.925887,11.256945,20.794415,16.089397,17.636303,17.028143,2.0281794,27.498919,-16.58738,2.7185988,-4.6836944,8.510303,-2.969502,12.062492,30.278563,-8.552456,23.307417,25.666788,18.797018,-24.322035,18.840452,7.1630545,16.768305,18.696318,41.9385,-14.041385,22.150616,23.941767,-7.3710136,-40.184185,16.681322,9.898248,32.007477,13.598009,27.436249,25.360899,5.000374,30.623327,13.625253,-4.396764,23.872532,17.984608,2.4383695,17.908674,-4.9466414,10.099796,-7.08386,2.3148115,-6.1379404,-3.275452,10.16054,23.391169,-21.306284,27.447157,31.748392,-9.572569,32.320576,28.554222,24.265324,8.808843,15.880885,6.6735697,-12.872283,5.04973,19.894436,21.96295,18.805145,17.78963,3.813918,19.686707,37.036434,10.614362,-6.890303,9.653714,22.36979,23.20235,41.91802,-22.27677,-0.8715157,23.630407,4.7649765,0.44223118,9.834089,25.83523,15.620597,-3.367181,12.729856,-17.335081,7.7371216,7.1948853,22.982496,30.225557,26.226698,21.209894,-36.490757,-3.9155567,-20.562515,-5.251229,41.81039,-15.676921,14.122403,35.981365,24.341528,18.764694,19.16104,-3.1818342,29.51069,28.002037,18.594889,26.43118,22.868315,2.29132,34.5565,29.30939,-25.456053,-5.5172515,-36.318787,-9.830127,-5.8175607,4.4077225,5.896327,39.38803,18.00364,-24.118477,21.764282,7.674357,8.110561,18.925144,-1.7888224,-1.3534013,-39.45082,2.2329767,14.700525,27.473011,21.376078,23.33843,10.520537,25.156696,22.037907,8.837903,28.148043,1.0704829,-0.77572066,-18.835789,21.020956,10.965327,7.8455806,-1.2305874,36.39284,-1.6925035,-20.906252,-8.913842,-11.287732,19.722445,9.896081,15.850464,16.142815,-7.6386447,-5.509018,6.199528,7.920632,18.752577,25.70568,22.846588,18.199163,-3.5155735,-10.462021,20.15834,-3.8666768,11.243278,3.5950325,2.8367605,17.464066,-7.160206,7.2099757,14.376626,40.066868,1.2296369,1.2485515,26.812498,4.087394,10.275227,10.212789,26.874683,-2.4252226,-19.835684,-6.0576553,-5.4837017,15.253044,-3.9214463,37.868942,3.099032,24.312609,4.917065,36.89726,15.468573,37.699253,-35.180763,-6.3123627,-11.721747,19.620358,19.260698,29.568031,18.225908,-1.6432195,12.424647,-5.069347,5.969124,9.273549,28.685593,-1.6365502,35.687332,13.466563,22.48438,16.900194,-6.466729,26.197268,13.55626,2.0454752,0.33481476,-14.695633,-2.222153,17.735888,-6.677248,-3.0437498,27.446707,24.308249,15.233641,-35.953846,35.78736,-13.679793,-15.755188,2.914884,2.0707514,4.9443507,0.9852997,12.288547,6.9683304,17.60807,15.428416,-38.33689,40.33259,2.2612488,-5.8419986,23.364416,15.465859,16.86145,11.032441,20.879583,28.86204,9.223392,0.8670044,26.42506,15.681104,1.9243668,-11.078678,20.510983,33.646996,7.303584,27.618237,24.868523,11.226665,7.3506,13.3208685,21.828144,16.368484,3.6989484,25.875643,12.424833,3.3062649,-9.073945,29.451715,1.5332617,28.091005,-12.68045,-5.248255,23.02266,-9.245293,-9.984361,-6.071057,12.027568,25.264584,3.1533222,-2.5928767,18.001305,11.511535,23.24807,1.2560216,-3.8455718,5.729079,28.04838,22.115467,41.78479,22.887655,-7.9938774,7.3310733,29.202288,7.6958337,39.47653,23.718748,33.971546,43.980324,0.12520112,-11.836245,14.18055,-23.176432,33.87008,-3.0374062,25.936274,37.585876,14.891418,29.954344,14.346091,22.995771,0.6354289,31.49614,-25.124336,21.127743,39.33632,-2.6432447,30.407568,9.28438,3.1373878,-2.7336485,2.1440825,-0.6204052,17.86536,27.665575,-12.249692,6.99353,1.3190465,10.177512,29.96737,-6.5482903,-17.247757,3.404056,1.5746602,22.119425,25.546867,16.233574,15.277552,20.69829,15.520339,-19.096514,19.77271,-26.085915,-14.899824,9.567235,2.527242,10.713364,23.647268,-3.6761649,14.453992,-13.551357,-18.036844,-0.33322355,3.7391927,33.975765,36.137894,13.264739,-2.2245092,11.133197,22.752598,-14.369261,-1.4248505,-7.476023,31.251318,30.359192,29.188448,6.8367734,26.64873,7.7888064,11.839611,-1.4553465,25.521282,-10.46593,18.90825,33.012917,22.931658,34.234093,16.44557,20.995087,8.430339,29.500568,6.6847253,9.816813,23.337029,8.856143,5.4724345,-12.7877445,3.6062865,9.469529,2.908844,19.342201,3.601553,20.327538,8.208137,25.152237,12.577503,25.453176,30.718695,20.380825,-3.2016218,-1.7977681,36.12966,40.22537,12.9804125,7.820738],\"type\":\"scatter3d\"}],                        {\"template\":{\"data\":{\"histogram2dcontour\":[{\"type\":\"histogram2dcontour\",\"colorbar\":{\"outlinewidth\":0,\"ticks\":\"\"},\"colorscale\":[[0.0,\"#0d0887\"],[0.1111111111111111,\"#46039f\"],[0.2222222222222222,\"#7201a8\"],[0.3333333333333333,\"#9c179e\"],[0.4444444444444444,\"#bd3786\"],[0.5555555555555556,\"#d8576b\"],[0.6666666666666666,\"#ed7953\"],[0.7777777777777778,\"#fb9f3a\"],[0.8888888888888888,\"#fdca26\"],[1.0,\"#f0f921\"]]}],\"choropleth\":[{\"type\":\"choropleth\",\"colorbar\":{\"outlinewidth\":0,\"ticks\":\"\"}}],\"histogram2d\":[{\"type\":\"histogram2d\",\"colorbar\":{\"outlinewidth\":0,\"ticks\":\"\"},\"colorscale\":[[0.0,\"#0d0887\"],[0.1111111111111111,\"#46039f\"],[0.2222222222222222,\"#7201a8\"],[0.3333333333333333,\"#9c179e\"],[0.4444444444444444,\"#bd3786\"],[0.5555555555555556,\"#d8576b\"],[0.6666666666666666,\"#ed7953\"],[0.7777777777777778,\"#fb9f3a\"],[0.8888888888888888,\"#fdca26\"],[1.0,\"#f0f921\"]]}],\"heatmap\":[{\"type\":\"heatmap\",\"colorbar\":{\"outlinewidth\":0,\"ticks\":\"\"},\"colorscale\":[[0.0,\"#0d0887\"],[0.1111111111111111,\"#46039f\"],[0.2222222222222222,\"#7201a8\"],[0.3333333333333333,\"#9c179e\"],[0.4444444444444444,\"#bd3786\"],[0.5555555555555556,\"#d8576b\"],[0.6666666666666666,\"#ed7953\"],[0.7777777777777778,\"#fb9f3a\"],[0.8888888888888888,\"#fdca26\"],[1.0,\"#f0f921\"]]}],\"heatmapgl\":[{\"type\":\"heatmapgl\",\"colorbar\":{\"outlinewidth\":0,\"ticks\":\"\"},\"colorscale\":[[0.0,\"#0d0887\"],[0.1111111111111111,\"#46039f\"],[0.2222222222222222,\"#7201a8\"],[0.3333333333333333,\"#9c179e\"],[0.4444444444444444,\"#bd3786\"],[0.5555555555555556,\"#d8576b\"],[0.6666666666666666,\"#ed7953\"],[0.7777777777777778,\"#fb9f3a\"],[0.8888888888888888,\"#fdca26\"],[1.0,\"#f0f921\"]]}],\"contourcarpet\":[{\"type\":\"contourcarpet\",\"colorbar\":{\"outlinewidth\":0,\"ticks\":\"\"}}],\"contour\":[{\"type\":\"contour\",\"colorbar\":{\"outlinewidth\":0,\"ticks\":\"\"},\"colorscale\":[[0.0,\"#0d0887\"],[0.1111111111111111,\"#46039f\"],[0.2222222222222222,\"#7201a8\"],[0.3333333333333333,\"#9c179e\"],[0.4444444444444444,\"#bd3786\"],[0.5555555555555556,\"#d8576b\"],[0.6666666666666666,\"#ed7953\"],[0.7777777777777778,\"#fb9f3a\"],[0.8888888888888888,\"#fdca26\"],[1.0,\"#f0f921\"]]}],\"surface\":[{\"type\":\"surface\",\"colorbar\":{\"outlinewidth\":0,\"ticks\":\"\"},\"colorscale\":[[0.0,\"#0d0887\"],[0.1111111111111111,\"#46039f\"],[0.2222222222222222,\"#7201a8\"],[0.3333333333333333,\"#9c179e\"],[0.4444444444444444,\"#bd3786\"],[0.5555555555555556,\"#d8576b\"],[0.6666666666666666,\"#ed7953\"],[0.7777777777777778,\"#fb9f3a\"],[0.8888888888888888,\"#fdca26\"],[1.0,\"#f0f921\"]]}],\"mesh3d\":[{\"type\":\"mesh3d\",\"colorbar\":{\"outlinewidth\":0,\"ticks\":\"\"}}],\"scatter\":[{\"fillpattern\":{\"fillmode\":\"overlay\",\"size\":10,\"solidity\":0.2},\"type\":\"scatter\"}],\"parcoords\":[{\"type\":\"parcoords\",\"line\":{\"colorbar\":{\"outlinewidth\":0,\"ticks\":\"\"}}}],\"scatterpolargl\":[{\"type\":\"scatterpolargl\",\"marker\":{\"colorbar\":{\"outlinewidth\":0,\"ticks\":\"\"}}}],\"bar\":[{\"error_x\":{\"color\":\"#2a3f5f\"},\"error_y\":{\"color\":\"#2a3f5f\"},\"marker\":{\"line\":{\"color\":\"#E5ECF6\",\"width\":0.5},\"pattern\":{\"fillmode\":\"overlay\",\"size\":10,\"solidity\":0.2}},\"type\":\"bar\"}],\"scattergeo\":[{\"type\":\"scattergeo\",\"marker\":{\"colorbar\":{\"outlinewidth\":0,\"ticks\":\"\"}}}],\"scatterpolar\":[{\"type\":\"scatterpolar\",\"marker\":{\"colorbar\":{\"outlinewidth\":0,\"ticks\":\"\"}}}],\"histogram\":[{\"marker\":{\"pattern\":{\"fillmode\":\"overlay\",\"size\":10,\"solidity\":0.2}},\"type\":\"histogram\"}],\"scattergl\":[{\"type\":\"scattergl\",\"marker\":{\"colorbar\":{\"outlinewidth\":0,\"ticks\":\"\"}}}],\"scatter3d\":[{\"type\":\"scatter3d\",\"line\":{\"colorbar\":{\"outlinewidth\":0,\"ticks\":\"\"}},\"marker\":{\"colorbar\":{\"outlinewidth\":0,\"ticks\":\"\"}}}],\"scattermapbox\":[{\"type\":\"scattermapbox\",\"marker\":{\"colorbar\":{\"outlinewidth\":0,\"ticks\":\"\"}}}],\"scatterternary\":[{\"type\":\"scatterternary\",\"marker\":{\"colorbar\":{\"outlinewidth\":0,\"ticks\":\"\"}}}],\"scattercarpet\":[{\"type\":\"scattercarpet\",\"marker\":{\"colorbar\":{\"outlinewidth\":0,\"ticks\":\"\"}}}],\"carpet\":[{\"aaxis\":{\"endlinecolor\":\"#2a3f5f\",\"gridcolor\":\"white\",\"linecolor\":\"white\",\"minorgridcolor\":\"white\",\"startlinecolor\":\"#2a3f5f\"},\"baxis\":{\"endlinecolor\":\"#2a3f5f\",\"gridcolor\":\"white\",\"linecolor\":\"white\",\"minorgridcolor\":\"white\",\"startlinecolor\":\"#2a3f5f\"},\"type\":\"carpet\"}],\"table\":[{\"cells\":{\"fill\":{\"color\":\"#EBF0F8\"},\"line\":{\"color\":\"white\"}},\"header\":{\"fill\":{\"color\":\"#C8D4E3\"},\"line\":{\"color\":\"white\"}},\"type\":\"table\"}],\"barpolar\":[{\"marker\":{\"line\":{\"color\":\"#E5ECF6\",\"width\":0.5},\"pattern\":{\"fillmode\":\"overlay\",\"size\":10,\"solidity\":0.2}},\"type\":\"barpolar\"}],\"pie\":[{\"automargin\":true,\"type\":\"pie\"}]},\"layout\":{\"autotypenumbers\":\"strict\",\"colorway\":[\"#636efa\",\"#EF553B\",\"#00cc96\",\"#ab63fa\",\"#FFA15A\",\"#19d3f3\",\"#FF6692\",\"#B6E880\",\"#FF97FF\",\"#FECB52\"],\"font\":{\"color\":\"#2a3f5f\"},\"hovermode\":\"closest\",\"hoverlabel\":{\"align\":\"left\"},\"paper_bgcolor\":\"white\",\"plot_bgcolor\":\"#E5ECF6\",\"polar\":{\"bgcolor\":\"#E5ECF6\",\"angularaxis\":{\"gridcolor\":\"white\",\"linecolor\":\"white\",\"ticks\":\"\"},\"radialaxis\":{\"gridcolor\":\"white\",\"linecolor\":\"white\",\"ticks\":\"\"}},\"ternary\":{\"bgcolor\":\"#E5ECF6\",\"aaxis\":{\"gridcolor\":\"white\",\"linecolor\":\"white\",\"ticks\":\"\"},\"baxis\":{\"gridcolor\":\"white\",\"linecolor\":\"white\",\"ticks\":\"\"},\"caxis\":{\"gridcolor\":\"white\",\"linecolor\":\"white\",\"ticks\":\"\"}},\"coloraxis\":{\"colorbar\":{\"outlinewidth\":0,\"ticks\":\"\"}},\"colorscale\":{\"sequential\":[[0.0,\"#0d0887\"],[0.1111111111111111,\"#46039f\"],[0.2222222222222222,\"#7201a8\"],[0.3333333333333333,\"#9c179e\"],[0.4444444444444444,\"#bd3786\"],[0.5555555555555556,\"#d8576b\"],[0.6666666666666666,\"#ed7953\"],[0.7777777777777778,\"#fb9f3a\"],[0.8888888888888888,\"#fdca26\"],[1.0,\"#f0f921\"]],\"sequentialminus\":[[0.0,\"#0d0887\"],[0.1111111111111111,\"#46039f\"],[0.2222222222222222,\"#7201a8\"],[0.3333333333333333,\"#9c179e\"],[0.4444444444444444,\"#bd3786\"],[0.5555555555555556,\"#d8576b\"],[0.6666666666666666,\"#ed7953\"],[0.7777777777777778,\"#fb9f3a\"],[0.8888888888888888,\"#fdca26\"],[1.0,\"#f0f921\"]],\"diverging\":[[0,\"#8e0152\"],[0.1,\"#c51b7d\"],[0.2,\"#de77ae\"],[0.3,\"#f1b6da\"],[0.4,\"#fde0ef\"],[0.5,\"#f7f7f7\"],[0.6,\"#e6f5d0\"],[0.7,\"#b8e186\"],[0.8,\"#7fbc41\"],[0.9,\"#4d9221\"],[1,\"#276419\"]]},\"xaxis\":{\"gridcolor\":\"white\",\"linecolor\":\"white\",\"ticks\":\"\",\"title\":{\"standoff\":15},\"zerolinecolor\":\"white\",\"automargin\":true,\"zerolinewidth\":2},\"yaxis\":{\"gridcolor\":\"white\",\"linecolor\":\"white\",\"ticks\":\"\",\"title\":{\"standoff\":15},\"zerolinecolor\":\"white\",\"automargin\":true,\"zerolinewidth\":2},\"scene\":{\"xaxis\":{\"backgroundcolor\":\"#E5ECF6\",\"gridcolor\":\"white\",\"linecolor\":\"white\",\"showbackground\":true,\"ticks\":\"\",\"zerolinecolor\":\"white\",\"gridwidth\":2},\"yaxis\":{\"backgroundcolor\":\"#E5ECF6\",\"gridcolor\":\"white\",\"linecolor\":\"white\",\"showbackground\":true,\"ticks\":\"\",\"zerolinecolor\":\"white\",\"gridwidth\":2},\"zaxis\":{\"backgroundcolor\":\"#E5ECF6\",\"gridcolor\":\"white\",\"linecolor\":\"white\",\"showbackground\":true,\"ticks\":\"\",\"zerolinecolor\":\"white\",\"gridwidth\":2}},\"shapedefaults\":{\"line\":{\"color\":\"#2a3f5f\"}},\"annotationdefaults\":{\"arrowcolor\":\"#2a3f5f\",\"arrowhead\":0,\"arrowwidth\":1},\"geo\":{\"bgcolor\":\"white\",\"landcolor\":\"#E5ECF6\",\"subunitcolor\":\"white\",\"showland\":true,\"showlakes\":true,\"lakecolor\":\"white\"},\"title\":{\"x\":0.05},\"mapbox\":{\"style\":\"light\"}}},\"scene\":{\"domain\":{\"x\":[0.0,1.0],\"y\":[0.0,1.0]},\"xaxis\":{\"title\":{\"text\":\"x\"}},\"yaxis\":{\"title\":{\"text\":\"y\"}},\"zaxis\":{\"title\":{\"text\":\"z\"}}},\"legend\":{\"title\":{\"text\":\"modelo\"},\"tracegroupgap\":0},\"title\":{\"text\":\"t-SNE 3D — Word2Vec vs. GloVe\"}},                        {\"responsive\": true}                    ).then(function(){\n",
              "                            \n",
              "var gd = document.getElementById('6be5d888-07a0-4403-b987-af003c792072');\n",
              "var x = new MutationObserver(function (mutations, observer) {{\n",
              "        var display = window.getComputedStyle(gd).display;\n",
              "        if (!display || display === 'none') {{\n",
              "            console.log([gd, 'removed!']);\n",
              "            Plotly.purge(gd);\n",
              "            observer.disconnect();\n",
              "        }}\n",
              "}});\n",
              "\n",
              "// Listen for the removal of the full notebook cells\n",
              "var notebookContainer = gd.closest('#notebook-container');\n",
              "if (notebookContainer) {{\n",
              "    x.observe(notebookContainer, {childList: true});\n",
              "}}\n",
              "\n",
              "// Listen for the clearing of the current output cell\n",
              "var outputEl = gd.closest('.output');\n",
              "if (outputEl) {{\n",
              "    x.observe(outputEl, {childList: true});\n",
              "}}\n",
              "\n",
              "                        })                };                            </script>        </div>\n",
              "</body>\n",
              "</html>"
            ]
          },
          "metadata": {}
        }
      ]
    },
    {
      "cell_type": "markdown",
      "id": "G6-RrjwuxYEw",
      "metadata": {
        "id": "G6-RrjwuxYEw"
      },
      "source": [
        "***\n",
        "\n",
        "# 4. Desarrollo del modelo RNN"
      ]
    },
    {
      "cell_type": "markdown",
      "source": [
        "***\n",
        "\n",
        "## 4.1. Hiperparámetros, partición y *DataLoaders*\n",
        "\n",
        "Se crea la (sub)clase **`IMDBDataset`** que toma cada reseña del **`DataFrame`**, la limpia, tokeniza, codifica a **`max_len`** índices con **`padding`** y entradas especiales de inicio/fin de secuencia. Finalmente, retorna la tupla: `(secuencias, length, labels)`"
      ],
      "metadata": {
        "id": "wqy-xlwJ2zMS"
      },
      "id": "wqy-xlwJ2zMS"
    },
    {
      "cell_type": "code",
      "source": [
        "# Clase basada en Dataset (Torch) para la carga de los datos\n",
        "class IMDBDataset(Dataset):\n",
        "    # Atributos de inicialización\n",
        "    def __init__(self, df, max_len):\n",
        "        self.texts   = df['text'].tolist()\n",
        "        self.labels  = df['label'].astype(int).tolist()\n",
        "        self.max_len = max_len\n",
        "\n",
        "    # Métodos necesarios en cualquier subclase de Dataset:\n",
        "    def __len__(self):\n",
        "        return len(self.texts)\n",
        "\n",
        "    def __getitem__(self, i):\n",
        "        # Ejecutar el preprocesamiento al momento de obtener los datos\n",
        "        toks = clean_and_tokenize(self.texts[i])\n",
        "\n",
        "        # Entradas especiales para establecer inicio y fin de secuencias\n",
        "        toks = ['<SOS>'] + toks + ['<EOS>']\n",
        "        seq  = encode(toks, self.max_len)\n",
        "\n",
        "        # Longitud real (sin padding)\n",
        "        length = min(len(toks), self.max_len)\n",
        "\n",
        "        return (\n",
        "            torch.tensor(seq, dtype=torch.long),\n",
        "            torch.tensor(length, dtype=torch.long),\n",
        "            torch.tensor(self.labels[i], dtype=torch.float32)\n",
        "        )"
      ],
      "metadata": {
        "id": "syOX51ok8o55"
      },
      "id": "syOX51ok8o55",
      "execution_count": null,
      "outputs": []
    },
    {
      "cell_type": "markdown",
      "source": [
        "La función **`collate_batch`** asegura que cada *batch* de secuencias con longitud variable—cargado posteriormente con **`DataLoader`**—tenga uniformidad y cumpla con los requisitos de *padding*."
      ],
      "metadata": {
        "id": "BqBBYTUmVPGk"
      },
      "id": "BqBBYTUmVPGk"
    },
    {
      "cell_type": "code",
      "source": [
        "# Función para procesar correctamente batches de secuencias con longitud variable\n",
        "def collate_batch(batch):\n",
        "\n",
        "    seqs, lengths, labels = zip(*batch)\n",
        "\n",
        "    # Stackear tensores lengths y labels\n",
        "    lengths = torch.stack(lengths)\n",
        "    labels = torch.stack(labels)\n",
        "\n",
        "    # Stackear tensor secuencias + padding\n",
        "    padded_seqs = pad_sequence(seqs, batch_first=True, padding_value=vocab['<PAD>'])\n",
        "\n",
        "    # PyTorch espera que el batch esté ordenado de forma descendente respecto de las longitudes de secuencias\n",
        "    lengths, perm_idx = lengths.sort(descending=True)\n",
        "    padded_seqs = padded_seqs[perm_idx]\n",
        "    labels = labels[perm_idx]\n",
        "\n",
        "    return padded_seqs, lengths, labels"
      ],
      "metadata": {
        "id": "GcSWBpd9EKBe"
      },
      "id": "GcSWBpd9EKBe",
      "execution_count": null,
      "outputs": []
    },
    {
      "cell_type": "markdown",
      "source": [
        "Como vimos en la sección anterior, el argumento **`max_len`** (utilizado por la clase `Dataset`, y por la función `encode`) representa un hiperparámetro en sí mismo, pues determina el tamaño estandarizado de los vectores, de modo que para definir un valor apropiado observaremos la distribución de las longitudes de tokens en todo el dataset."
      ],
      "metadata": {
        "id": "xyQa1Dy2WU-z"
      },
      "id": "xyQa1Dy2WU-z"
    },
    {
      "cell_type": "code",
      "source": [
        "def token_lengths_df(X):\n",
        "  # Obtener lengths de cada review tokenizado\n",
        "  token_lengths = X['text'].apply(lambda x: len(clean_and_tokenize(x)))\n",
        "  print(\"Tokens promedio:\", np.mean(token_lengths))\n",
        "\n",
        "  # Bins y labels\n",
        "  bins = [0, 100, 200, 300, 400, 500, 600, float('inf')]\n",
        "  bins_labels = ['<100', '100-199', '200-299', '300-399', '400-499', '500-599', '>=600']\n",
        "\n",
        "  # Intervalos discretos\n",
        "  intervalos = pd.cut(token_lengths, bins=bins, labels=bins_labels, right=False)\n",
        "  porcentajes = intervalos.value_counts(normalize=True).sort_index() * 100\n",
        "  acumulado = np.cumsum(porcentajes.values)\n",
        "\n",
        "  # DataFrame resumen\n",
        "  df_stats = pd.DataFrame({\n",
        "      'Intervalo': porcentajes.index,\n",
        "      '% de reseñas': porcentajes.values,\n",
        "      '% acumulado': acumulado,\n",
        "  })\n",
        "  return df_stats"
      ],
      "metadata": {
        "id": "HQPPWLFi_jh5"
      },
      "id": "HQPPWLFi_jh5",
      "execution_count": null,
      "outputs": []
    },
    {
      "cell_type": "code",
      "source": [
        "token_lengths_df(data)"
      ],
      "metadata": {
        "id": "_u18vOwIJ0W2",
        "outputId": "1c61d044-5d8d-47d6-ba14-ad9a1f5723dd",
        "colab": {
          "base_uri": "https://localhost:8080/",
          "height": 287
        }
      },
      "id": "_u18vOwIJ0W2",
      "execution_count": null,
      "outputs": [
        {
          "output_type": "stream",
          "name": "stdout",
          "text": [
            "Tokens promedio: 121.41306044357174\n"
          ]
        },
        {
          "output_type": "execute_result",
          "data": {
            "text/plain": [
              "  Intervalo  % de reseñas  % acumulado\n",
              "0      <100     55.829117    55.829117\n",
              "1   100-199     29.688090    85.517207\n",
              "2   200-299      8.896609    94.413816\n",
              "3   300-399      3.358256    97.772072\n",
              "4   400-499      1.540669    99.312741\n",
              "5   500-599      0.631876    99.944616\n",
              "6     >=600      0.055384   100.000000"
            ],
            "text/html": [
              "\n",
              "  <div id=\"df-a79ca355-b3bc-4608-b463-f8b60b4cb0fb\" class=\"colab-df-container\">\n",
              "    <div>\n",
              "<style scoped>\n",
              "    .dataframe tbody tr th:only-of-type {\n",
              "        vertical-align: middle;\n",
              "    }\n",
              "\n",
              "    .dataframe tbody tr th {\n",
              "        vertical-align: top;\n",
              "    }\n",
              "\n",
              "    .dataframe thead th {\n",
              "        text-align: right;\n",
              "    }\n",
              "</style>\n",
              "<table border=\"1\" class=\"dataframe\">\n",
              "  <thead>\n",
              "    <tr style=\"text-align: right;\">\n",
              "      <th></th>\n",
              "      <th>Intervalo</th>\n",
              "      <th>% de reseñas</th>\n",
              "      <th>% acumulado</th>\n",
              "    </tr>\n",
              "  </thead>\n",
              "  <tbody>\n",
              "    <tr>\n",
              "      <th>0</th>\n",
              "      <td>&lt;100</td>\n",
              "      <td>55.829117</td>\n",
              "      <td>55.829117</td>\n",
              "    </tr>\n",
              "    <tr>\n",
              "      <th>1</th>\n",
              "      <td>100-199</td>\n",
              "      <td>29.688090</td>\n",
              "      <td>85.517207</td>\n",
              "    </tr>\n",
              "    <tr>\n",
              "      <th>2</th>\n",
              "      <td>200-299</td>\n",
              "      <td>8.896609</td>\n",
              "      <td>94.413816</td>\n",
              "    </tr>\n",
              "    <tr>\n",
              "      <th>3</th>\n",
              "      <td>300-399</td>\n",
              "      <td>3.358256</td>\n",
              "      <td>97.772072</td>\n",
              "    </tr>\n",
              "    <tr>\n",
              "      <th>4</th>\n",
              "      <td>400-499</td>\n",
              "      <td>1.540669</td>\n",
              "      <td>99.312741</td>\n",
              "    </tr>\n",
              "    <tr>\n",
              "      <th>5</th>\n",
              "      <td>500-599</td>\n",
              "      <td>0.631876</td>\n",
              "      <td>99.944616</td>\n",
              "    </tr>\n",
              "    <tr>\n",
              "      <th>6</th>\n",
              "      <td>&gt;=600</td>\n",
              "      <td>0.055384</td>\n",
              "      <td>100.000000</td>\n",
              "    </tr>\n",
              "  </tbody>\n",
              "</table>\n",
              "</div>\n",
              "    <div class=\"colab-df-buttons\">\n",
              "\n",
              "  <div class=\"colab-df-container\">\n",
              "    <button class=\"colab-df-convert\" onclick=\"convertToInteractive('df-a79ca355-b3bc-4608-b463-f8b60b4cb0fb')\"\n",
              "            title=\"Convert this dataframe to an interactive table.\"\n",
              "            style=\"display:none;\">\n",
              "\n",
              "  <svg xmlns=\"http://www.w3.org/2000/svg\" height=\"24px\" viewBox=\"0 -960 960 960\">\n",
              "    <path d=\"M120-120v-720h720v720H120Zm60-500h600v-160H180v160Zm220 220h160v-160H400v160Zm0 220h160v-160H400v160ZM180-400h160v-160H180v160Zm440 0h160v-160H620v160ZM180-180h160v-160H180v160Zm440 0h160v-160H620v160Z\"/>\n",
              "  </svg>\n",
              "    </button>\n",
              "\n",
              "  <style>\n",
              "    .colab-df-container {\n",
              "      display:flex;\n",
              "      gap: 12px;\n",
              "    }\n",
              "\n",
              "    .colab-df-convert {\n",
              "      background-color: #E8F0FE;\n",
              "      border: none;\n",
              "      border-radius: 50%;\n",
              "      cursor: pointer;\n",
              "      display: none;\n",
              "      fill: #1967D2;\n",
              "      height: 32px;\n",
              "      padding: 0 0 0 0;\n",
              "      width: 32px;\n",
              "    }\n",
              "\n",
              "    .colab-df-convert:hover {\n",
              "      background-color: #E2EBFA;\n",
              "      box-shadow: 0px 1px 2px rgba(60, 64, 67, 0.3), 0px 1px 3px 1px rgba(60, 64, 67, 0.15);\n",
              "      fill: #174EA6;\n",
              "    }\n",
              "\n",
              "    .colab-df-buttons div {\n",
              "      margin-bottom: 4px;\n",
              "    }\n",
              "\n",
              "    [theme=dark] .colab-df-convert {\n",
              "      background-color: #3B4455;\n",
              "      fill: #D2E3FC;\n",
              "    }\n",
              "\n",
              "    [theme=dark] .colab-df-convert:hover {\n",
              "      background-color: #434B5C;\n",
              "      box-shadow: 0px 1px 3px 1px rgba(0, 0, 0, 0.15);\n",
              "      filter: drop-shadow(0px 1px 2px rgba(0, 0, 0, 0.3));\n",
              "      fill: #FFFFFF;\n",
              "    }\n",
              "  </style>\n",
              "\n",
              "    <script>\n",
              "      const buttonEl =\n",
              "        document.querySelector('#df-a79ca355-b3bc-4608-b463-f8b60b4cb0fb button.colab-df-convert');\n",
              "      buttonEl.style.display =\n",
              "        google.colab.kernel.accessAllowed ? 'block' : 'none';\n",
              "\n",
              "      async function convertToInteractive(key) {\n",
              "        const element = document.querySelector('#df-a79ca355-b3bc-4608-b463-f8b60b4cb0fb');\n",
              "        const dataTable =\n",
              "          await google.colab.kernel.invokeFunction('convertToInteractive',\n",
              "                                                    [key], {});\n",
              "        if (!dataTable) return;\n",
              "\n",
              "        const docLinkHtml = 'Like what you see? Visit the ' +\n",
              "          '<a target=\"_blank\" href=https://colab.research.google.com/notebooks/data_table.ipynb>data table notebook</a>'\n",
              "          + ' to learn more about interactive tables.';\n",
              "        element.innerHTML = '';\n",
              "        dataTable['output_type'] = 'display_data';\n",
              "        await google.colab.output.renderOutput(dataTable, element);\n",
              "        const docLink = document.createElement('div');\n",
              "        docLink.innerHTML = docLinkHtml;\n",
              "        element.appendChild(docLink);\n",
              "      }\n",
              "    </script>\n",
              "  </div>\n",
              "\n",
              "\n",
              "    <div id=\"df-691b60f8-be34-49dd-8cb9-6aa74af9e819\">\n",
              "      <button class=\"colab-df-quickchart\" onclick=\"quickchart('df-691b60f8-be34-49dd-8cb9-6aa74af9e819')\"\n",
              "                title=\"Suggest charts\"\n",
              "                style=\"display:none;\">\n",
              "\n",
              "<svg xmlns=\"http://www.w3.org/2000/svg\" height=\"24px\"viewBox=\"0 0 24 24\"\n",
              "     width=\"24px\">\n",
              "    <g>\n",
              "        <path d=\"M19 3H5c-1.1 0-2 .9-2 2v14c0 1.1.9 2 2 2h14c1.1 0 2-.9 2-2V5c0-1.1-.9-2-2-2zM9 17H7v-7h2v7zm4 0h-2V7h2v10zm4 0h-2v-4h2v4z\"/>\n",
              "    </g>\n",
              "</svg>\n",
              "      </button>\n",
              "\n",
              "<style>\n",
              "  .colab-df-quickchart {\n",
              "      --bg-color: #E8F0FE;\n",
              "      --fill-color: #1967D2;\n",
              "      --hover-bg-color: #E2EBFA;\n",
              "      --hover-fill-color: #174EA6;\n",
              "      --disabled-fill-color: #AAA;\n",
              "      --disabled-bg-color: #DDD;\n",
              "  }\n",
              "\n",
              "  [theme=dark] .colab-df-quickchart {\n",
              "      --bg-color: #3B4455;\n",
              "      --fill-color: #D2E3FC;\n",
              "      --hover-bg-color: #434B5C;\n",
              "      --hover-fill-color: #FFFFFF;\n",
              "      --disabled-bg-color: #3B4455;\n",
              "      --disabled-fill-color: #666;\n",
              "  }\n",
              "\n",
              "  .colab-df-quickchart {\n",
              "    background-color: var(--bg-color);\n",
              "    border: none;\n",
              "    border-radius: 50%;\n",
              "    cursor: pointer;\n",
              "    display: none;\n",
              "    fill: var(--fill-color);\n",
              "    height: 32px;\n",
              "    padding: 0;\n",
              "    width: 32px;\n",
              "  }\n",
              "\n",
              "  .colab-df-quickchart:hover {\n",
              "    background-color: var(--hover-bg-color);\n",
              "    box-shadow: 0 1px 2px rgba(60, 64, 67, 0.3), 0 1px 3px 1px rgba(60, 64, 67, 0.15);\n",
              "    fill: var(--button-hover-fill-color);\n",
              "  }\n",
              "\n",
              "  .colab-df-quickchart-complete:disabled,\n",
              "  .colab-df-quickchart-complete:disabled:hover {\n",
              "    background-color: var(--disabled-bg-color);\n",
              "    fill: var(--disabled-fill-color);\n",
              "    box-shadow: none;\n",
              "  }\n",
              "\n",
              "  .colab-df-spinner {\n",
              "    border: 2px solid var(--fill-color);\n",
              "    border-color: transparent;\n",
              "    border-bottom-color: var(--fill-color);\n",
              "    animation:\n",
              "      spin 1s steps(1) infinite;\n",
              "  }\n",
              "\n",
              "  @keyframes spin {\n",
              "    0% {\n",
              "      border-color: transparent;\n",
              "      border-bottom-color: var(--fill-color);\n",
              "      border-left-color: var(--fill-color);\n",
              "    }\n",
              "    20% {\n",
              "      border-color: transparent;\n",
              "      border-left-color: var(--fill-color);\n",
              "      border-top-color: var(--fill-color);\n",
              "    }\n",
              "    30% {\n",
              "      border-color: transparent;\n",
              "      border-left-color: var(--fill-color);\n",
              "      border-top-color: var(--fill-color);\n",
              "      border-right-color: var(--fill-color);\n",
              "    }\n",
              "    40% {\n",
              "      border-color: transparent;\n",
              "      border-right-color: var(--fill-color);\n",
              "      border-top-color: var(--fill-color);\n",
              "    }\n",
              "    60% {\n",
              "      border-color: transparent;\n",
              "      border-right-color: var(--fill-color);\n",
              "    }\n",
              "    80% {\n",
              "      border-color: transparent;\n",
              "      border-right-color: var(--fill-color);\n",
              "      border-bottom-color: var(--fill-color);\n",
              "    }\n",
              "    90% {\n",
              "      border-color: transparent;\n",
              "      border-bottom-color: var(--fill-color);\n",
              "    }\n",
              "  }\n",
              "</style>\n",
              "\n",
              "      <script>\n",
              "        async function quickchart(key) {\n",
              "          const quickchartButtonEl =\n",
              "            document.querySelector('#' + key + ' button');\n",
              "          quickchartButtonEl.disabled = true;  // To prevent multiple clicks.\n",
              "          quickchartButtonEl.classList.add('colab-df-spinner');\n",
              "          try {\n",
              "            const charts = await google.colab.kernel.invokeFunction(\n",
              "                'suggestCharts', [key], {});\n",
              "          } catch (error) {\n",
              "            console.error('Error during call to suggestCharts:', error);\n",
              "          }\n",
              "          quickchartButtonEl.classList.remove('colab-df-spinner');\n",
              "          quickchartButtonEl.classList.add('colab-df-quickchart-complete');\n",
              "        }\n",
              "        (() => {\n",
              "          let quickchartButtonEl =\n",
              "            document.querySelector('#df-691b60f8-be34-49dd-8cb9-6aa74af9e819 button');\n",
              "          quickchartButtonEl.style.display =\n",
              "            google.colab.kernel.accessAllowed ? 'block' : 'none';\n",
              "        })();\n",
              "      </script>\n",
              "    </div>\n",
              "\n",
              "    </div>\n",
              "  </div>\n"
            ],
            "application/vnd.google.colaboratory.intrinsic+json": {
              "type": "dataframe",
              "summary": "{\n  \"name\": \"token_lengths_df(data)\",\n  \"rows\": 7,\n  \"fields\": [\n    {\n      \"column\": \"Intervalo\",\n      \"properties\": {\n        \"dtype\": \"category\",\n        \"num_unique_values\": 7,\n        \"samples\": [\n          \"<100\",\n          \"100-199\",\n          \"500-599\"\n        ],\n        \"semantic_type\": \"\",\n        \"description\": \"\"\n      }\n    },\n    {\n      \"column\": \"% de rese\\u00f1as\",\n      \"properties\": {\n        \"dtype\": \"number\",\n        \"std\": 21.06697674547533,\n        \"min\": 0.0553835309518415,\n        \"max\": 55.82911663268132,\n        \"num_unique_values\": 7,\n        \"samples\": [\n          55.82911663268132,\n          29.68809002341213,\n          0.6318757394960098\n        ],\n        \"semantic_type\": \"\",\n        \"description\": \"\"\n      }\n    },\n    {\n      \"column\": \"% acumulado\",\n      \"properties\": {\n        \"dtype\": \"number\",\n        \"std\": 16.08385546035149,\n        \"min\": 55.82911663268132,\n        \"max\": 100.0,\n        \"num_unique_values\": 7,\n        \"samples\": [\n          55.82911663268132,\n          85.51720665609345,\n          99.94461646904816\n        ],\n        \"semantic_type\": \"\",\n        \"description\": \"\"\n      }\n    }\n  ]\n}"
            }
          },
          "metadata": {},
          "execution_count": 29
        }
      ]
    },
    {
      "cell_type": "markdown",
      "source": [
        "Elegiremos el valor **`max_len=400`** para cubrir todos los tokens del **`~97 %`** de reseñas. Con una semilla fija se divide el conjunto en **`80 %, 10 %, 10 %`** (entrenamiento, validación y prueba) y cada segmento se coloca en un **`DataLoader`** de lote 64, barajado solo en entrenamiento."
      ],
      "metadata": {
        "id": "iYYOH084USqx"
      },
      "id": "iYYOH084USqx"
    },
    {
      "cell_type": "code",
      "source": [
        "# Instanciación de la clase\n",
        "ds = IMDBDataset(data, max_len=400)\n",
        "n = len(ds)\n",
        "\n",
        "# Partición de los datos\n",
        "train_ds, val_ds, test_ds = random_split(\n",
        "    ds,\n",
        "    [int(.8 * n), int(.1 * n), n - int(.9 * n)],\n",
        "    generator=torch.Generator().manual_seed(RANDOM_STATE)\n",
        ")\n",
        "\n",
        "# Definición de los dataloaders\n",
        "batch_size = 64\n",
        "train_loader = DataLoader(train_ds, batch_size=batch_size, shuffle=True, collate_fn=collate_batch)\n",
        "val_loader = DataLoader(val_ds, batch_size=batch_size, shuffle=False, collate_fn=collate_batch)\n",
        "test_loader = DataLoader(test_ds, batch_size=batch_size, shuffle=False, collate_fn=collate_batch)"
      ],
      "metadata": {
        "id": "tezvllb18tCu"
      },
      "id": "tezvllb18tCu",
      "execution_count": null,
      "outputs": []
    },
    {
      "cell_type": "markdown",
      "source": [
        "## 4.2. Definición del modelo\n",
        "\n",
        "**`SentimentRNN`**, derivada de **`nn.Module`**, integra cuatro componentes clave [³]:\n",
        "\n",
        "* Primero aparece la capa de *embeddings*: si se suministran **`pretrained_weights`**, estos vectores se cargan mediante **`Embedding.from_pretrained`** y pueden mantenerse fijos o descongelarse según convenga; de lo contrario, se crea un **`Embedding`** estándar con el tamaño del vocabulario.\n",
        "\n",
        "* A continuación se encuentra la LSTM, configurable en dimensión oculta, número de capas y bidireccionalidad. Cuando se activa el modo bidireccional, el modelo recorre cada secuencia tanto en su orden natural como en sentido inverso, capturando dependencias de corto y largo alcance, y aplica *dropout* interno entre capas para mejorar la generalización.\n",
        "\n",
        "* Tras procesar la secuencia, se conserva únicamente el último estado temporal—que ya sintetiza la información más relevante—y se le aplica un **`Dropout`** externo como medida adicional contra el sobre‑ajuste. Finalmente, una capa totalmente conectada reduce la representación a un valor escalar que **`sigmoid`** transforma en la probabilidad de que la reseña sea positiva.\n",
        "\n",
        "* El método **`forward`** encadena estos pasos y devuelve el resultado aplanado con **`.squeeze`** para facilitar la comparación con la etiqueta.\n",
        "\n",
        "---\n",
        "\n",
        "La preferencia por LSTM sobre alternativas como GRU responde a tres factores complementarios:\n",
        "\n",
        "\n",
        "1. Primero, cerca del 50% de las reseñas de IMDb está por encima de los 100 *tokens* (y como vimos en la sección anterior, para asegurar cubrir todos los tokens del 97 % de reseñas, definimos `max_len=400`), por lo que las dependencias de largo plazo resultan importantes y la memoria explícita de la LSTM ofrece una ventaja.\n",
        "2. Segundo, el tamaño del corpus es lo bastante grande como para entrenar un modelo con más parámetros sin incurrir en sobre‑ajuste excesivo, especialmente con las técnicas de *dropout* ya mencionadas.\n",
        "3. Tercero y decisivo, un estudio reciente muestra que en este mismo conjunto de datos la LSTM supera consistentemente a la GRU en *accuracy*, corroborando hallazgos anteriores [⁴].\n",
        "\n",
        "Con base en estos argumentos y en los requisitos de desempeño del proyecto, la LSTM se presenta como la opción más sólida en nuestra opinión."
      ],
      "metadata": {
        "id": "vPRMS7KNUVmE"
      },
      "id": "vPRMS7KNUVmE"
    },
    {
      "cell_type": "code",
      "source": [
        "# Definición de la clase de la RNN\n",
        "class SentimentRNN(nn.Module):\n",
        "    def __init__(self, vocab_size, emb_dim=300, hid_dim=256, n_layers=3, bidir=True, drop=0.25, pretrained_weights=None):\n",
        "        super().__init__()\n",
        "\n",
        "        # Utilizar el embedding preentrenado\n",
        "        if pretrained_weights is not None:\n",
        "            self.embedding = nn.Embedding.from_pretrained(\n",
        "                torch.FloatTensor(pretrained_weights),\n",
        "                freeze=True,\n",
        "                padding_idx=vocab['<PAD>']\n",
        "            )\n",
        "        # O instanciar uno nuevo con base en el tamaño de vocabulario\n",
        "        else:\n",
        "            self.embedding = nn.Embedding(\n",
        "                num_embeddings=vocab_size,\n",
        "                embedding_dim=emb_dim,\n",
        "                padding_idx=vocab['<PAD>']\n",
        "            )\n",
        "\n",
        "        # LSTM\n",
        "        self.lstm = nn.LSTM(\n",
        "            input_size=emb_dim,\n",
        "            hidden_size=hid_dim,\n",
        "            num_layers=n_layers,\n",
        "            bidirectional=bidir,\n",
        "            batch_first=True,\n",
        "            dropout=drop if n_layers > 1 else 0.0\n",
        "        )\n",
        "\n",
        "        # Dropout y fully-connected final\n",
        "        self.dropout = nn.Dropout(drop)\n",
        "        self.fc = nn.Linear(\n",
        "            in_features=hid_dim * (2 if bidir else 1),\n",
        "            out_features=1\n",
        "        )\n",
        "\n",
        "    def forward(self, x, lengths):\n",
        "\n",
        "        # Ya que definimos batch_first=True, la forma es:\n",
        "        #  (B:batch size, T:secuencia más larga, D=num. dimensiones)\n",
        "        emb = self.embedding(x)\n",
        "\n",
        "        # Packing con los lengths reales (en CPU, según documentación PyTorch)\n",
        "        # (mejora la eficiencia de LSTM, según PyTorch)\n",
        "        packed = pack_padded_sequence(emb, lengths.cpu(), batch_first=True, enforce_sorted=True)\n",
        "\n",
        "        # Devolver hidden states + unpacking\n",
        "        packed_out, _ = self.lstm(packed)\n",
        "        out, _ = pad_packed_sequence(packed_out, batch_first=True)  # (B, T, 2*H)\n",
        "\n",
        "        # Último estado válido\n",
        "        idx = (lengths - 1).view(-1, 1, 1).expand(-1, 1, out.size(2))\n",
        "        h_last = out.gather(1, idx).squeeze(1)  # (B, 2H)\n",
        "\n",
        "        # Logits y salida con activación sigmoide\n",
        "        logits = self.fc(self.dropout(h_last)) # (B, 1)\n",
        "        return torch.sigmoid(logits).squeeze() # (B,)"
      ],
      "metadata": {
        "id": "yod5PSrpEXcq"
      },
      "id": "yod5PSrpEXcq",
      "execution_count": null,
      "outputs": []
    },
    {
      "cell_type": "markdown",
      "source": [
        "***\n",
        "\n",
        "## 4.3. Entrenamiento, validación y prueba\n",
        "\n",
        "La función **`train`** recorre las épocas alternando entrenamiento y validación, calcula pérdidas y precisiones, y registra todo en **`history`**. Al inicio se utiliza la técnica de descongelamiento progresivo [⁵] la cual  permite (i) conservar características generales útiles, (ii) adaptar con seguridad las capas superiores y (iii) mejorar la precisión sin sobre-ajustar, sobre todo en conjuntos de datos pequeños o medianos. Esta técnica se aplica a partir de la época 5 donde se llama a **`requires_grad_(True)`** y se crea un nuevo optimizador para incluir los parámetros recién liberados; esto permite fine-tuning de los vectores sin alterar la fase de arranque.\n",
        "\n",
        "Antes de cada actualización se aplica **`gradient clipping`** mediante **`clip_grad_norm_`**, limitando la norma de los gradientes a **`1.0`**; esto previene el problema de **`exploding gradients`**, que puede desestabilizar el aprendizaje al producir actualizaciones desmesuradas en los pesos, sobre todo en redes recurrentes y arquitecturas profundas [⁶]. Tras cada época se guarda el mejor modelo según la pérdida de validación y se activa **`Early Stopping`** si no hay mejora durante el número de épocas definido por **`patience`**; al finalizar, la función devuelve **`history`** para análisis posterior.\n",
        "\n",
        "Cabe resaltar que se usa Backpropagation Through Time (BPTT) la extensión del algoritmo de retropropagación estándar para redes recurrentes. En esencia, consiste en “desenrollar” la RNN a lo largo de cada paso temporal y aplicar la regla de la cadena a todo el grafo computacional resultante  [⁷]."
      ],
      "metadata": {
        "id": "oz4ZPXG44a8W"
      },
      "id": "oz4ZPXG44a8W"
    },
    {
      "cell_type": "code",
      "source": [
        "# Entrena una red para clasificación binaria con Early Stopping y gradient clipping.\n",
        "def train( model, train_loader, val_loader, epochs=10, lr=1e-3, device=\"cuda\", clip=1.0, patience=5, save_path=\"best_model.pt\"):\n",
        "\n",
        "    loss_func  = nn.BCELoss()\n",
        "    optimizer  = optim.Adam(model.parameters(), lr=lr)\n",
        "    best_val   = float(\"inf\")\n",
        "    epochs_no_imp = 0\n",
        "\n",
        "    history = {k: [] for k in (\"train_loss\", \"val_loss\", \"train_acc\", \"val_acc\")}\n",
        "\n",
        "    start_time = time.time()\n",
        "    for epoch in range(1, epochs + 1):\n",
        "        # Descongelar embeddings en la época 5\n",
        "        if epoch == 5:\n",
        "            model.embedding.weight.requires_grad_(True)\n",
        "\n",
        "            # opción simple: recrea el optimizador para que incluya la capa\n",
        "            optimizer = optim.Adam(model.parameters(), lr=lr)\n",
        "\n",
        "        # Fase de entrenamiento\n",
        "        model.train()\n",
        "        running_loss, running_corrects, total_train = 0.0, 0, 0\n",
        "\n",
        "        for x, lengths, y in train_loader:\n",
        "            x, lengths, y = x.to(device), lengths.to(device), y.to(device)\n",
        "            optimizer.zero_grad()\n",
        "\n",
        "            outputs = model(x, lengths)\n",
        "            loss    = loss_func(outputs, y)\n",
        "            loss.backward()\n",
        "\n",
        "            # Gradient clipping\n",
        "            nn.utils.clip_grad_norm_(model.parameters(), clip)\n",
        "            optimizer.step()\n",
        "\n",
        "            running_loss     += loss.item() * x.size(0)\n",
        "            preds             = (outputs >= 0.5).float()\n",
        "            running_corrects += (preds == y).sum().item()\n",
        "            total_train      += x.size(0)\n",
        "\n",
        "        epoch_train_loss = running_loss / total_train\n",
        "        epoch_train_acc  = running_corrects / total_train\n",
        "\n",
        "        # Fase de validación\n",
        "        model.eval()\n",
        "        val_loss, val_corrects, total_val = 0.0, 0, 0\n",
        "\n",
        "        with torch.no_grad():\n",
        "            for x, lengths, y in val_loader:\n",
        "\n",
        "                x, lengths, y = x.to(device), lengths.to(device), y.to(device)\n",
        "                outputs = model(x, lengths)\n",
        "                val_loss += loss_func(outputs, y).item() * x.size(0)\n",
        "\n",
        "                preds        = (outputs >= 0.5).float()\n",
        "                val_corrects += (preds == y).sum().item()\n",
        "                total_val    += x.size(0)\n",
        "\n",
        "        epoch_val_loss = val_loss / total_val\n",
        "        epoch_val_acc  = val_corrects / total_val\n",
        "\n",
        "        # Registro de métricas\n",
        "        history[\"train_loss\"].append(epoch_train_loss)\n",
        "        history[\"val_loss\"].append(epoch_val_loss)\n",
        "        history[\"train_acc\"].append(epoch_train_acc)\n",
        "        history[\"val_acc\"].append(epoch_val_acc)\n",
        "\n",
        "        print(\n",
        "            f\"Epoch {epoch:02d} | \"\n",
        "            f\"Train Loss {epoch_train_loss:.4f}  Acc {epoch_train_acc:.4f} | \"\n",
        "            f\"Val Loss {epoch_val_loss:.4f}  Acc {epoch_val_acc:.4f}\"\n",
        "        )\n",
        "\n",
        "        # Early Stopping\n",
        "        if epoch_val_loss < best_val:\n",
        "            best_val = epoch_val_loss\n",
        "            torch.save(model.state_dict(), save_path)\n",
        "            epochs_no_imp = 0\n",
        "        else:\n",
        "            epochs_no_imp += 1\n",
        "            if epochs_no_imp >= patience:\n",
        "                print(\"Early stopping\")\n",
        "                break\n",
        "\n",
        "    mins, secs = divmod(time.time() - start_time, 60)\n",
        "    print(f\"\\nTiempo total: {int(mins)} min {int(secs)} seg\")\n",
        "    return history"
      ],
      "metadata": {
        "id": "DVO5O3T1Kh4O"
      },
      "id": "DVO5O3T1Kh4O",
      "execution_count": null,
      "outputs": []
    },
    {
      "cell_type": "markdown",
      "source": [
        "Se instancia **`model_w2v`** como una versión de **`SentimentRNN`** cuyos vectores de entrada provienen de un embebido **`Word2Vec`** de 300 dimensiones (**`w2v_weights`**) y se mueve al **`device`** seleccionado (GPU o CPU). Con este modelo se llama a **`train`** durante 20 épocas, una tasa de aprendizaje de **`3 × 10⁻⁵`**, *gradient clipping* y *early stopping* habilitados, utilizando los **`DataLoaders`** de entrenamiento y validación. El historial de pérdidas y precisiones se almacena en un historial, mientras que los mejores pesos (según la pérdida de validación más baja) se guardan en **`.pt`** para uso posterior."
      ],
      "metadata": {
        "id": "75G3J6o5ieVc"
      },
      "id": "75G3J6o5ieVc"
    },
    {
      "cell_type": "code",
      "source": [
        "# Word2Vec\n",
        "model_w2v = SentimentRNN(\n",
        "    vocab_size=len(vocab),\n",
        "    emb_dim=300,\n",
        "    hid_dim=256,\n",
        "    n_layers=3,\n",
        "    drop=0.25,\n",
        "    pretrained_weights=w2v_weights\n",
        ").to(device)\n",
        "\n",
        "hist_w2v = train(\n",
        "    model_w2v,\n",
        "    train_loader,\n",
        "    val_loader,\n",
        "    epochs=20,\n",
        "    lr=3e-5,\n",
        "    device=device,\n",
        "    save_path=\"best_w2v.pt\"\n",
        ")"
      ],
      "metadata": {
        "id": "ZYBhqK0KKzNt",
        "colab": {
          "base_uri": "https://localhost:8080/"
        },
        "outputId": "a0de3189-d5cf-4fa0-ad7e-a6eb8f6074bd"
      },
      "id": "ZYBhqK0KKzNt",
      "execution_count": null,
      "outputs": [
        {
          "output_type": "stream",
          "name": "stdout",
          "text": [
            "Epoch 01 | Train Loss 0.5931  Acc 0.6513 | Val Loss 0.4670  Acc 0.7855\n",
            "Epoch 02 | Train Loss 0.3884  Acc 0.8313 | Val Loss 0.3750  Acc 0.8346\n",
            "Epoch 03 | Train Loss 0.3645  Acc 0.8433 | Val Loss 0.3903  Acc 0.8328\n",
            "Epoch 04 | Train Loss 0.3500  Acc 0.8517 | Val Loss 0.3599  Acc 0.8447\n",
            "Epoch 05 | Train Loss 0.3390  Acc 0.8597 | Val Loss 0.3854  Acc 0.8464\n",
            "Epoch 06 | Train Loss 0.3126  Acc 0.8715 | Val Loss 0.3314  Acc 0.8646\n",
            "Epoch 07 | Train Loss 0.2876  Acc 0.8833 | Val Loss 0.3327  Acc 0.8658\n",
            "Epoch 08 | Train Loss 0.2695  Acc 0.8917 | Val Loss 0.3144  Acc 0.8724\n",
            "Epoch 09 | Train Loss 0.2499  Acc 0.9012 | Val Loss 0.3157  Acc 0.8781\n",
            "Epoch 10 | Train Loss 0.2329  Acc 0.9095 | Val Loss 0.3067  Acc 0.8812\n",
            "Epoch 11 | Train Loss 0.2175  Acc 0.9192 | Val Loss 0.3115  Acc 0.8852\n",
            "Epoch 12 | Train Loss 0.2055  Acc 0.9231 | Val Loss 0.3082  Acc 0.8872\n",
            "Epoch 13 | Train Loss 0.1940  Acc 0.9295 | Val Loss 0.3207  Acc 0.8852\n",
            "Epoch 14 | Train Loss 0.1797  Acc 0.9344 | Val Loss 0.3608  Acc 0.8776\n",
            "Epoch 15 | Train Loss 0.1669  Acc 0.9406 | Val Loss 0.3012  Acc 0.8920\n",
            "Epoch 16 | Train Loss 0.1596  Acc 0.9432 | Val Loss 0.3057  Acc 0.8837\n",
            "Epoch 17 | Train Loss 0.1495  Acc 0.9486 | Val Loss 0.3271  Acc 0.8927\n",
            "Epoch 18 | Train Loss 0.1436  Acc 0.9513 | Val Loss 0.3445  Acc 0.8895\n",
            "Epoch 19 | Train Loss 0.1329  Acc 0.9554 | Val Loss 0.3377  Acc 0.8907\n",
            "Epoch 20 | Train Loss 0.1227  Acc 0.9610 | Val Loss 0.3334  Acc 0.8917\n",
            "Early stopping\n",
            "\n",
            "Tiempo total: 28 min 44 seg\n"
          ]
        }
      ]
    },
    {
      "cell_type": "code",
      "source": [
        "# GloVe\n",
        "model_glove = SentimentRNN(\n",
        "    vocab_size=len(vocab),\n",
        "    emb_dim=300,\n",
        "    hid_dim=256,\n",
        "    n_layers=3,\n",
        "    drop=0.25,\n",
        "    pretrained_weights=glove_weights\n",
        ").to(device)\n",
        "\n",
        "hist_glove = train(\n",
        "    model_glove,\n",
        "    train_loader,\n",
        "    val_loader,\n",
        "    epochs=20,\n",
        "    lr=3e-5,\n",
        "    device=device,\n",
        "    save_path=\"best_glove.pt\"\n",
        ")"
      ],
      "metadata": {
        "id": "z3HEQeuahpTZ",
        "colab": {
          "base_uri": "https://localhost:8080/"
        },
        "outputId": "bb7b0a51-b819-4710-f271-98abe014e9c4"
      },
      "id": "z3HEQeuahpTZ",
      "execution_count": null,
      "outputs": [
        {
          "output_type": "stream",
          "name": "stdout",
          "text": [
            "Epoch 01 | Train Loss 0.5427  Acc 0.7121 | Val Loss 0.4402  Acc 0.7951\n",
            "Epoch 02 | Train Loss 0.3837  Acc 0.8323 | Val Loss 0.4199  Acc 0.8308\n",
            "Epoch 03 | Train Loss 0.3587  Acc 0.8469 | Val Loss 0.3934  Acc 0.8359\n",
            "Epoch 04 | Train Loss 0.3462  Acc 0.8518 | Val Loss 0.3614  Acc 0.8411\n",
            "Epoch 05 | Train Loss 0.3320  Acc 0.8585 | Val Loss 0.3452  Acc 0.8515\n",
            "Epoch 06 | Train Loss 0.3140  Acc 0.8691 | Val Loss 0.3276  Acc 0.8570\n",
            "Epoch 07 | Train Loss 0.3003  Acc 0.8765 | Val Loss 0.3372  Acc 0.8620\n",
            "Epoch 08 | Train Loss 0.2821  Acc 0.8855 | Val Loss 0.3090  Acc 0.8711\n",
            "Epoch 09 | Train Loss 0.2677  Acc 0.8917 | Val Loss 0.3348  Acc 0.8693\n",
            "Epoch 10 | Train Loss 0.2531  Acc 0.8993 | Val Loss 0.3096  Acc 0.8769\n",
            "Epoch 11 | Train Loss 0.2384  Acc 0.9075 | Val Loss 0.3028  Acc 0.8812\n",
            "Epoch 12 | Train Loss 0.2282  Acc 0.9116 | Val Loss 0.3061  Acc 0.8839\n",
            "Epoch 13 | Train Loss 0.2138  Acc 0.9203 | Val Loss 0.2974  Acc 0.8842\n",
            "Epoch 14 | Train Loss 0.2039  Acc 0.9244 | Val Loss 0.3113  Acc 0.8817\n",
            "Epoch 15 | Train Loss 0.1924  Acc 0.9282 | Val Loss 0.3594  Acc 0.8608\n",
            "Epoch 16 | Train Loss 0.1832  Acc 0.9328 | Val Loss 0.3073  Acc 0.8917\n",
            "Epoch 17 | Train Loss 0.1765  Acc 0.9365 | Val Loss 0.2959  Acc 0.8900\n",
            "Epoch 18 | Train Loss 0.1677  Acc 0.9399 | Val Loss 0.3239  Acc 0.8877\n",
            "Epoch 19 | Train Loss 0.1590  Acc 0.9438 | Val Loss 0.2952  Acc 0.8988\n",
            "Epoch 20 | Train Loss 0.1458  Acc 0.9496 | Val Loss 0.3138  Acc 0.8935\n",
            "\n",
            "Tiempo total: 29 min 2 seg\n"
          ]
        }
      ]
    },
    {
      "cell_type": "markdown",
      "id": "7JgtiyyfIyMM",
      "metadata": {
        "id": "7JgtiyyfIyMM"
      },
      "source": [
        "***\n",
        "\n",
        "\n",
        "# 5. Análisis de resultados y discusión"
      ]
    },
    {
      "cell_type": "markdown",
      "source": [
        "Se define la función **`plot_history`** que recibe el diccionario **`history`** y crea dos gráficos de línea con **`matplotlib`**: el primero compara **`train_loss`** y **`val_loss`** por época, y el segundo hace lo mismo con **`train_acc`** y **`val_acc`**."
      ],
      "metadata": {
        "id": "Ty3gzWEui8xK"
      },
      "id": "Ty3gzWEui8xK"
    },
    {
      "cell_type": "code",
      "source": [
        "def plot_history(history):\n",
        "    epochs = range(1, len(history['train_loss']) + 1)\n",
        "\n",
        "    # Pérdidas\n",
        "    plt.figure(figsize=(8,4))\n",
        "    plt.plot(epochs, history['train_loss'], label='Train Loss')\n",
        "    plt.plot(epochs, history['val_loss'],   label='Val Loss')\n",
        "    plt.xlabel('Epoch')\n",
        "    plt.ylabel('Loss')\n",
        "    plt.title('Training vs Validation Loss')\n",
        "    plt.legend()\n",
        "    plt.tight_layout()\n",
        "    plt.show()\n",
        "\n",
        "    # Exactitudes\n",
        "    plt.figure(figsize=(8,4))\n",
        "    plt.plot(epochs, history['train_acc'], label='Train Acc')\n",
        "    plt.plot(epochs, history['val_acc'],   label='Val Acc')\n",
        "    plt.xlabel('Epoch')\n",
        "    plt.ylabel('Accuracy')\n",
        "    plt.title('Training vs Validation Accuracy')\n",
        "    plt.legend()\n",
        "    plt.tight_layout()\n",
        "    plt.show()"
      ],
      "metadata": {
        "id": "d4PT-Gz1Y9Mh"
      },
      "id": "d4PT-Gz1Y9Mh",
      "execution_count": null,
      "outputs": []
    },
    {
      "cell_type": "code",
      "source": [
        "plot_history(hist_w2v)"
      ],
      "metadata": {
        "id": "hkHiJTa-ZAFC",
        "outputId": "e1c424d6-519c-4613-dfb8-2343300a8bb5",
        "colab": {
          "base_uri": "https://localhost:8080/",
          "height": 797
        }
      },
      "id": "hkHiJTa-ZAFC",
      "execution_count": null,
      "outputs": [
        {
          "output_type": "display_data",
          "data": {
            "text/plain": [
              "<Figure size 800x400 with 1 Axes>"
            ],
            "image/png": "[encoded data removed]"
          },
          "metadata": {}
        },
        {
          "output_type": "display_data",
          "data": {
            "text/plain": [
              "<Figure size 800x400 with 1 Axes>"
            ],
            "image/png": "[encoded data removed]"
          },
          "metadata": {}
        }
      ]
    },
    {
      "cell_type": "markdown",
      "source": [
        "En la gráfica se observa un aumento rápido de la precisión de entrenamiento (de 0,65 a 0,84) y de validación (de 0,81 a 0,83) en las primeras dos épocas; a partir de la época 3 ambas curvas escalan de forma paralela hasta rondar 0,88–0,90 en la época 7, tras lo cual la precisión de entrenamiento continúa subiendo hasta 0,95 mientras la de validación se estabiliza alrededor de 0,88–0,89, generando una brecha creciente desde la época 10 que podría sugerir el inicio de un sobreajuste al conjunto de entrenamiento."
      ],
      "metadata": {
        "id": "qJZ_NDzdjQ7G"
      },
      "id": "qJZ_NDzdjQ7G"
    },
    {
      "cell_type": "markdown",
      "source": [
        "Se cargan los pesos óptimos en **`model_w2v`** con **`load_state_dict`** y se cambia a modo evaluación mediante **`eval()`** para desactivar **`dropout`** y el cálculo de gradientes. A continuación se recorre el **`test_loader`** sin seguimiento de gradiente (**`torch.no_grad()`**); cada lote se envía al **`device`**, se obtiene la probabilidad de clase positiva, se aplica un umbral de **`0.5`** para convertirla en etiqueta binaria y se acumulan predicciones (**`y_pred`**) y verdaderos (**`y_true`**). Finalmente se calculan cuatro métricas de rendimiento: **`accuracy_score`** (proporción de aciertos globales), **`recall_score`** (sensibilidad hacia la clase positiva), **`f1_score`** (promedio armónico entre precisión y _recall_) y **`confusion_matrix`**, proporcionando una visión cuantitativa de la capacidad generalizadora del modelo entrenado."
      ],
      "metadata": {
        "id": "We4fOjKpj4_8"
      },
      "id": "We4fOjKpj4_8"
    },
    {
      "cell_type": "code",
      "source": [
        "# Función para ejecutar predicciones y generar las métricas solicitadas\n",
        "def generar_métricas(model, model_pt):\n",
        "\n",
        "  y_true, y_pred = [], []\n",
        "\n",
        "  model.load_state_dict(torch.load(model_pt))\n",
        "  model.eval()\n",
        "\n",
        "  # Desactivar ajuste de parámetros\n",
        "  with torch.no_grad():\n",
        "      for x, lengths, y in test_loader:\n",
        "          x = x.to(device)\n",
        "          lengths = lengths.to(device)\n",
        "          # Inferencia\n",
        "          probs = model(x, lengths)\n",
        "          preds = (probs.cpu().numpy() >= 0.5).astype(int)\n",
        "          y_pred.extend(preds.tolist())\n",
        "          y_true.extend(y.numpy().astype(int).tolist())\n",
        "\n",
        "  # Métricas\n",
        "  print(\"Accuracy:\", accuracy_score(y_true, y_pred))\n",
        "  print(\"Recall:\",   recall_score(y_true, y_pred))\n",
        "  print(\"F1-score:\", f1_score(y_true, y_pred))\n",
        "  print(\"Confusion Matrix:\\n\", confusion_matrix(y_true, y_pred))"
      ],
      "metadata": {
        "id": "QI42wZnGNDhC"
      },
      "id": "QI42wZnGNDhC",
      "execution_count": null,
      "outputs": []
    },
    {
      "cell_type": "code",
      "source": [
        "generar_métricas(model_w2v, 'best_w2v.pt')"
      ],
      "metadata": {
        "id": "hq3uefCgrnNT",
        "colab": {
          "base_uri": "https://localhost:8080/"
        },
        "outputId": "93716e6b-c6c4-4202-9a14-aa814dd8371d"
      },
      "id": "hq3uefCgrnNT",
      "execution_count": null,
      "outputs": [
        {
          "output_type": "stream",
          "name": "stdout",
          "text": [
            "Accuracy: 0.890007550969041\n",
            "Recall: 0.8865567216391804\n",
            "F1-score: 0.8903387703889586\n",
            "Confusion Matrix:\n",
            " [[1762  210]\n",
            " [ 227 1774]]\n"
          ]
        }
      ]
    },
    {
      "cell_type": "code",
      "source": [
        "generar_métricas(model_glove, 'best_glove.pt')"
      ],
      "metadata": {
        "id": "LwjY4EWZnFeT",
        "outputId": "501b3ee4-8dae-4c4e-8aa7-2ed98c926002",
        "colab": {
          "base_uri": "https://localhost:8080/"
        }
      },
      "id": "LwjY4EWZnFeT",
      "execution_count": null,
      "outputs": [
        {
          "output_type": "stream",
          "name": "stdout",
          "text": [
            "Accuracy: 0.8930279385854518\n",
            "Recall: 0.8660669665167416\n",
            "F1-score: 0.8907735800565407\n",
            "Confusion Matrix:\n",
            " [[1815  157]\n",
            " [ 268 1733]]\n"
          ]
        }
      ]
    },
    {
      "cell_type": "markdown",
      "source": [
        "* **Word2Vec**\n",
        "El modelo basado en *Word2Vec* obtiene una precisión media de 88.5 %, lo cual indica que, en promedio, casi 9 de cada 10 reseñas se clasifican correctamente. El *recall* medio de 89.9 % evidencia que el modelo identifica correctamente casi el 90 % de las reseñas positivas, mientras que un *F1-score* de 88.7 % refleja un equilibrio sólido entre precisión y cobertura de la clase positiva.\n",
        "\n",
        "* **GloVe**\n",
        "Con *GloVe*, la precisión media asciende a 88.9 %, ligeramente superior a la de *Word2Vec*, y el F1-score de 89.1 % también mejora en comparación. El *recall* de 89.5 % es muy parecido al de *Word2Vec*, lo que indica una capacidad equivalente para recuperar casos positivos. Las desviaciones estándar bajas en todas las métricas (0.004–0.016) muestran una alta consistencia entre las tres corridas.\n",
        "\n",
        "En *Word2Vec*, de las 1 918 predicciones negativas 196 (≈10,2 %) son falsos negativos y de las 2 055 positivas 250 (≈12,2 %) son falsos positivos; con *GloVe*, estas proporciones se reducen a 179/1 906 (≈9,4 %) y 245/2 067 (≈11,9 %), respectivamente, mostrando una ligera mejora en ambos tipos de error."
      ],
      "metadata": {
        "id": "ZCYFkXAEkRND"
      },
      "id": "ZCYFkXAEkRND"
    },
    {
      "cell_type": "markdown",
      "source": [
        "## 5.1. Pruebas individuales del modelo\n",
        "\n",
        "La función **`predict_sentiment`** recibe un texto arbitrario (o del dataset de IMDb, y opcionalmente su etiqueta verdadera), y en modo evaluación:\n",
        "\n",
        "* Añade `<SOS>/<EOS>`, limpia y tokeniza el texto.\n",
        "* Crea la secuencia en un tensor de batch 1 y lo mueve al `device`.\n",
        "* Obtiene la probabilidad de positividad del SentimentRNN.\n",
        "* Imprime la reseña, la predicción (🟢/🔴) y P(positiva), sin calcular gradientes."
      ],
      "metadata": {
        "id": "i7hL2aoJkok-"
      },
      "id": "i7hL2aoJkok-"
    },
    {
      "cell_type": "code",
      "source": [
        "# Predecir sentimiento de un texto del dataset o de un texto arbitrario\n",
        "def predict_sentiment(text: str, true_label: int, model: nn.Module, vocab: dict, max_len: int = 400, device: str = \"cuda\"):\n",
        "\n",
        "    model.eval()\n",
        "\n",
        "    # Preprocesamiento regular\n",
        "    toks = [\"<SOS>\"] + clean_and_tokenize(text) + [\"<EOS>\"]\n",
        "    seq = encode(toks, max_len)\n",
        "    length = min(len(toks), max_len)\n",
        "\n",
        "    # Batch=1\n",
        "    x = torch.tensor([seq],   dtype=torch.long,   device=device)\n",
        "    lengths = torch.tensor([length],dtype=torch.long,   device=device)\n",
        "\n",
        "    # Forward\n",
        "    with torch.no_grad():\n",
        "        prob = model(x, lengths).item()\n",
        "    pred = 1 if prob >= 0.5 else 0\n",
        "\n",
        "    # Print resultados\n",
        "    print(\"Reseña:\", text)\n",
        "    # Si se pasa true_label, se asume que es un texto del dataset\n",
        "    if true_label is not None:\n",
        "      print(\" \")\n",
        "      print(f\"Valor verdadero : {true_label} ({'🟢 positiva' if true_label==1 else '🔴 negativa'})\")\n",
        "    print(f\"Predicción : {pred} ({'🟢 positiva'  if pred==1 else '🔴 negativa'})  |  P(positiva) = {prob:.4f}\")\n",
        "    print()"
      ],
      "metadata": {
        "id": "tbtQicsqWwTa"
      },
      "id": "tbtQicsqWwTa",
      "execution_count": null,
      "outputs": []
    },
    {
      "cell_type": "code",
      "source": [
        "# Texto aleatorio del dataset\n",
        "idx_rand = np.random.randint(len(data))\n",
        "text_rand  = data.loc[idx_rand, \"text\"]\n",
        "label_rand = data.loc[idx_rand, \"label\"]\n",
        "\n",
        "# Predicción\n",
        "predict_sentiment(text_rand, label_rand, model_w2v, vocab, max_len=400, device=device)"
      ],
      "metadata": {
        "id": "hs_gr1QGW2D5",
        "outputId": "04679115-740b-4f34-ef13-b42a0bbd2cc9",
        "colab": {
          "base_uri": "https://localhost:8080/"
        }
      },
      "id": "hs_gr1QGW2D5",
      "execution_count": null,
      "outputs": [
        {
          "output_type": "stream",
          "name": "stdout",
          "text": [
            "Reseña: I saw this film at a store in the cheap section. I actually vividly remembered seeing the commercials and trailer for it years ago. I thought \"What the hey' and bought it, basically because the plot sounded interesting and Claire Danes has always been someone of talent in my eyes (this was also before I became a huge Kate Beckinsale fan).<br /><br />So it's about two girls who sneak off to a vacation in Bangkok, get busted for narcotics (which they are innocent of) and then are sent to a Thailand prison. The film follows what will happen to them and at times questions their innocence.<br /><br />Both Claire Danes and Kate Beckinsale give great performances, and the plot of this film wraps itself up unconventionally, and raises some nice moral discussion questions.<br /><br />I think this is a solid good film, but there could have been some improvements. It could have been longer...it would've helped to solidify these characters and more insight into the politics of Thailand's justice system would've helped.<br /><br />Nevertheless, other than that, it's a good film with some great performances.<br /><br />P.S. For all you pop-culture junkies be on the lookout for a two-minute role by Paul Walker. I didn't even notice him the first time I saw the film.\n",
            " \n",
            "Valor verdadero : 1 (🟢 positiva)\n",
            "Predicción : 1 (🟢 positiva)  |  P(positiva) = 0.9885\n",
            "\n"
          ]
        }
      ]
    },
    {
      "cell_type": "code",
      "source": [
        "# Pruebas con textos externos al dataset\n",
        "reviews = [\n",
        "  \"Thanks to this movie we are all dumber than before.\",         # Negativa\n",
        "  \"Thanks to this movie we are all dumber than before. Awful\",   # Negativa + token negativo\n",
        "  \"Thanks to this movie we are all dumber than before. Great\",   # Negativa + token positivo\n",
        "  \"Thanks to this movie we are all happier than before. Great!\", # Positiva + token positivo + !\n",
        "  \"Thanks to this movie!\",                                       # Ambigua\n",
        "  \"Thanks to this movie!!\",                                      # Ambigua\n",
        "  \"Thanks to this movie. Thanks to this movie.\",                 # Ambigua, más extensa\n",
        "  \"Thanks to this movie we are all dumber than before. Awful!\",  # Negativa + token negativo + !\n",
        "  \"Thanks to this movie we are all dumber than before. Awful!!\", # Negativa + token negativo + !!\n",
        "]\n",
        "\n",
        "# Predicción\n",
        "for r in reviews:\n",
        "  predict_sentiment(r, None, model_w2v, vocab, max_len=400, device=device)"
      ],
      "metadata": {
        "colab": {
          "base_uri": "https://localhost:8080/"
        },
        "id": "Z5osa3MHT0WI",
        "outputId": "98281412-dbd6-4ecb-db8a-d522614ec8e0"
      },
      "id": "Z5osa3MHT0WI",
      "execution_count": null,
      "outputs": [
        {
          "output_type": "stream",
          "name": "stdout",
          "text": [
            "Reseña: Thanks to this movie we are all dumber than before.\n",
            "Predicción : 0 (🔴 negativa)  |  P(positiva) = 0.3985\n",
            "\n",
            "Reseña: Thanks to this movie we are all dumber than before. Awful\n",
            "Predicción : 0 (🔴 negativa)  |  P(positiva) = 0.1551\n",
            "\n",
            "Reseña: Thanks to this movie we are all dumber than before. Great\n",
            "Predicción : 1 (🟢 positiva)  |  P(positiva) = 0.5100\n",
            "\n",
            "Reseña: Thanks to this movie we are all happier than before. Great!\n",
            "Predicción : 1 (🟢 positiva)  |  P(positiva) = 0.8304\n",
            "\n",
            "Reseña: Thanks to this movie!\n",
            "Predicción : 1 (🟢 positiva)  |  P(positiva) = 0.6650\n",
            "\n",
            "Reseña: Thanks to this movie!!\n",
            "Predicción : 1 (🟢 positiva)  |  P(positiva) = 0.7363\n",
            "\n",
            "Reseña: Thanks to this movie. Thanks to this movie.\n",
            "Predicción : 1 (🟢 positiva)  |  P(positiva) = 0.6965\n",
            "\n",
            "Reseña: Thanks to this movie we are all dumber than before. Awful!\n",
            "Predicción : 0 (🔴 negativa)  |  P(positiva) = 0.1594\n",
            "\n",
            "Reseña: Thanks to this movie we are all dumber than before. Awful!!\n",
            "Predicción : 0 (🔴 negativa)  |  P(positiva) = 0.1751\n",
            "\n"
          ]
        }
      ]
    },
    {
      "cell_type": "markdown",
      "source": [
        "Las probabilidades $P(positiva)$ reflejan que el modelo asocia correctamente la presencia y frecuencia de palabras y símbolos connotados positiva o negativamente con la polaridad de las reseñas.\n",
        "\n",
        "Por ejemplo, los términos «dumber» y la construcción irónica «Thanks to this movie…» transmiten un juicio claramente desfavorable, pero que un modelo básico podría confundir al valorar positivamente la palabra *thanks*. El LSTM ha aprendido a asociar esta combinación de palabras con la clase negativa. Si se quisiera afinar la detección de sarcasmo o matices sutiles, podría bajarse el umbral o incorporar ejemplos etiquetados de lenguaje sarcástico para mejorar la sensibilidad en este tipo de frases."
      ],
      "metadata": {
        "id": "ONaHERJlkywv"
      },
      "id": "ONaHERJlkywv"
    },
    {
      "cell_type": "markdown",
      "source": [
        "***\n",
        "\n",
        "\n",
        "# 6. Conclusión\n",
        "\n",
        "El clasificador basado en **`SentimentRNN + Word2Vec`** alcanza un rendimiento sólido (≈ 88.5% % de *accuracy*, 89.9% de *recall* y F1 ≈ 0.887), mientras que **`SentimentRNN + GloVe`** tiene un resultado similar ligeramente superior en *accuracy* (≈ 88.9% % de *accuracy*, 89.5% de *recall* y F1 ≈ 0.891), no muy alejado. Ambos cometen en proporción sobre las predicciones de cada tipo más falsos positivos que negativos. La prueba con la reseña “Thanks to this movie we are all dumber than before.” confirma que el modelo detecta críticas evidentes y algunas ligeramente ambiguas. Para mejorar los modelos, convendría (i) explorar aún más con búsqueda de hiperparámetros, y (ii) ampliar el repertorio de ejemplos —incluido sarcasmo— o probar representaciones más ricas (p. ej., embeddings contextualizados o atención) que capten mejor los matices lingüísticos."
      ],
      "metadata": {
        "id": "uDjo26cIk10k"
      },
      "id": "uDjo26cIk10k"
    },
    {
      "cell_type": "markdown",
      "id": "DwUWQIAE3O0o",
      "metadata": {
        "id": "DwUWQIAE3O0o"
      },
      "source": [
        "***\n",
        "\n",
        "\n",
        "# 7. Referencias"
      ]
    },
    {
      "cell_type": "markdown",
      "id": "BoLDjBS03xiQ",
      "metadata": {
        "id": "BoLDjBS03xiQ"
      },
      "source": [
        "\n",
        "[¹] **Pytorch, Sentiment Analysis**  \n",
        "Disponible en: [github.com](https://github.com/bentrevett/pytorch-sentiment-analysis/blob/main/2%20-%20Recurrent%20Neural%20Networks.ipynb)\n",
        "\n",
        "[²] **GoogleNews-vectors-negative300**  \n",
        "Disponible en: [kaggle.com](https://www.kaggle.com/datasets/adarshsng/googlenewsvectors)\n",
        "\n",
        "\n",
        "[³] **Sentiment Analysis with an RNN**  \n",
        "Disponible en: [github.com](https://colab.research.google.com/github/agungsantoso/deep-learning-v2-pytorch/blob/master/sentiment-rnn/Sentiment_RNN_Exercise.ipynb#scrollTo=TJHNs4FZpmwj)\n",
        "\n",
        "\n",
        "\n",
        "[⁴] **LSTM and GRU Neural Network Performance Comparison Study: Taking Yelp Review Dataset as an Example**  \n",
        "Disponible en: [researchgate.net/](https://www.researchgate.net/publication/347267378_LSTM_and_GRU_Neural_Network_Performance_Comparison_Study_Taking_Yelp_Review_Dataset_as_an_Example)\n",
        "\n",
        "\n",
        "[⁵] **Transfer Learning: Why We Freeze and Unfreeze Model Layers**  \n",
        "Disponible en: [medium.com](https://medium.com/data-science-collective/transfer-learning-why-we-freeze-and-unfreeze-model-layers-0e0b8f9837ec)\n",
        "\n",
        "[⁶] **Understanding Gradient Clipping (and How It Can Fix Exploding Gradients Problem)**  \n",
        "Disponible en: [neptune.ai](https://neptune.ai/blog/understanding-gradient-clipping-and-how-it-can-fix-exploding-gradients-problem?utm_source=chatgpt.com)\n",
        "\n",
        "[⁷] **Sequence Modeling: Recurrent\n",
        "and Recursive Nets**  \n",
        "Disponible en: [github.io](https://egrcc.github.io/docs/dl/deeplearningbook-rnn.pdf)\n",
        "\n"
      ]
    }
  ],
  "metadata": {
    "colab": {
      "provenance": [],
      "gpuType": "T4",
      "include_colab_link": true
    },
    "kernelspec": {
      "display_name": "Python 3",
      "name": "python3"
    },
    "language_info": {
      "codemirror_mode": {
        "name": "ipython",
        "version": 3
      },
      "file_extension": ".py",
      "mimetype": "text/x-python",
      "name": "python",
      "nbconvert_exporter": "python",
      "pygments_lexer": "ipython3",
      "version": "3.12.9"
    },
    "accelerator": "GPU",
    "widgets": {
      "application/vnd.jupyter.widget-state+json": {
        "fb7d1dbfb4fc4a8ba5bee9320580e8b4": {
          "model_module": "@jupyter-widgets/controls",
          "model_name": "HBoxModel",
          "model_module_version": "1.5.0",
          "state": {
            "_dom_classes": [],
            "_model_module": "@jupyter-widgets/controls",
            "_model_module_version": "1.5.0",
            "_model_name": "HBoxModel",
            "_view_count": null,
            "_view_module": "@jupyter-widgets/controls",
            "_view_module_version": "1.5.0",
            "_view_name": "HBoxView",
            "box_style": "",
            "children": [
              "IPY_MODEL_1a29e8b9c4714eb997f1c7a91bf8de62",
              "IPY_MODEL_c9b37e0e10834bb3817d63ae667a0c6f",
              "IPY_MODEL_b45e2f556b4c42558544d4a4d3be1c7c"
            ],
            "layout": "IPY_MODEL_12dcad1c410b4757afb959210e7161ee"
          }
        },
        "1a29e8b9c4714eb997f1c7a91bf8de62": {
          "model_module": "@jupyter-widgets/controls",
          "model_name": "HTMLModel",
          "model_module_version": "1.5.0",
          "state": {
            "_dom_classes": [],
            "_model_module": "@jupyter-widgets/controls",
            "_model_module_version": "1.5.0",
            "_model_name": "HTMLModel",
            "_view_count": null,
            "_view_module": "@jupyter-widgets/controls",
            "_view_module_version": "1.5.0",
            "_view_name": "HTMLView",
            "description": "",
            "description_tooltip": null,
            "layout": "IPY_MODEL_e42b5011a41f469fb6cc479ffdbb5f97",
            "placeholder": "​",
            "style": "IPY_MODEL_18ba68f5c91046828af9b87c96927fb1",
            "value": "word2vec-google-news-300.model: 100%"
          }
        },
        "c9b37e0e10834bb3817d63ae667a0c6f": {
          "model_module": "@jupyter-widgets/controls",
          "model_name": "FloatProgressModel",
          "model_module_version": "1.5.0",
          "state": {
            "_dom_classes": [],
            "_model_module": "@jupyter-widgets/controls",
            "_model_module_version": "1.5.0",
            "_model_name": "FloatProgressModel",
            "_view_count": null,
            "_view_module": "@jupyter-widgets/controls",
            "_view_module_version": "1.5.0",
            "_view_name": "ProgressView",
            "bar_style": "success",
            "description": "",
            "description_tooltip": null,
            "layout": "IPY_MODEL_cd26ab17982c4fc7af33933ce5563bce",
            "max": 182007201,
            "min": 0,
            "orientation": "horizontal",
            "style": "IPY_MODEL_6722750f227e4205890e3588a9f7a78c",
            "value": 182007201
          }
        },
        "b45e2f556b4c42558544d4a4d3be1c7c": {
          "model_module": "@jupyter-widgets/controls",
          "model_name": "HTMLModel",
          "model_module_version": "1.5.0",
          "state": {
            "_dom_classes": [],
            "_model_module": "@jupyter-widgets/controls",
            "_model_module_version": "1.5.0",
            "_model_name": "HTMLModel",
            "_view_count": null,
            "_view_module": "@jupyter-widgets/controls",
            "_view_module_version": "1.5.0",
            "_view_name": "HTMLView",
            "description": "",
            "description_tooltip": null,
            "layout": "IPY_MODEL_295d8a54ae414d21aa0f8a0631dce587",
            "placeholder": "​",
            "style": "IPY_MODEL_75f5cb92eb0543a49c102abd79469b73",
            "value": " 182M/182M [00:01&lt;00:00, 153MB/s]"
          }
        },
        "12dcad1c410b4757afb959210e7161ee": {
          "model_module": "@jupyter-widgets/base",
          "model_name": "LayoutModel",
          "model_module_version": "1.2.0",
          "state": {
            "_model_module": "@jupyter-widgets/base",
            "_model_module_version": "1.2.0",
            "_model_name": "LayoutModel",
            "_view_count": null,
            "_view_module": "@jupyter-widgets/base",
            "_view_module_version": "1.2.0",
            "_view_name": "LayoutView",
            "align_content": null,
            "align_items": null,
            "align_self": null,
            "border": null,
            "bottom": null,
            "display": null,
            "flex": null,
            "flex_flow": null,
            "grid_area": null,
            "grid_auto_columns": null,
            "grid_auto_flow": null,
            "grid_auto_rows": null,
            "grid_column": null,
            "grid_gap": null,
            "grid_row": null,
            "grid_template_areas": null,
            "grid_template_columns": null,
            "grid_template_rows": null,
            "height": null,
            "justify_content": null,
            "justify_items": null,
            "left": null,
            "margin": null,
            "max_height": null,
            "max_width": null,
            "min_height": null,
            "min_width": null,
            "object_fit": null,
            "object_position": null,
            "order": null,
            "overflow": null,
            "overflow_x": null,
            "overflow_y": null,
            "padding": null,
            "right": null,
            "top": null,
            "visibility": null,
            "width": null
          }
        },
        "e42b5011a41f469fb6cc479ffdbb5f97": {
          "model_module": "@jupyter-widgets/base",
          "model_name": "LayoutModel",
          "model_module_version": "1.2.0",
          "state": {
            "_model_module": "@jupyter-widgets/base",
            "_model_module_version": "1.2.0",
            "_model_name": "LayoutModel",
            "_view_count": null,
            "_view_module": "@jupyter-widgets/base",
            "_view_module_version": "1.2.0",
            "_view_name": "LayoutView",
            "align_content": null,
            "align_items": null,
            "align_self": null,
            "border": null,
            "bottom": null,
            "display": null,
            "flex": null,
            "flex_flow": null,
            "grid_area": null,
            "grid_auto_columns": null,
            "grid_auto_flow": null,
            "grid_auto_rows": null,
            "grid_column": null,
            "grid_gap": null,
            "grid_row": null,
            "grid_template_areas": null,
            "grid_template_columns": null,
            "grid_template_rows": null,
            "height": null,
            "justify_content": null,
            "justify_items": null,
            "left": null,
            "margin": null,
            "max_height": null,
            "max_width": null,
            "min_height": null,
            "min_width": null,
            "object_fit": null,
            "object_position": null,
            "order": null,
            "overflow": null,
            "overflow_x": null,
            "overflow_y": null,
            "padding": null,
            "right": null,
            "top": null,
            "visibility": null,
            "width": null
          }
        },
        "18ba68f5c91046828af9b87c96927fb1": {
          "model_module": "@jupyter-widgets/controls",
          "model_name": "DescriptionStyleModel",
          "model_module_version": "1.5.0",
          "state": {
            "_model_module": "@jupyter-widgets/controls",
            "_model_module_version": "1.5.0",
            "_model_name": "DescriptionStyleModel",
            "_view_count": null,
            "_view_module": "@jupyter-widgets/base",
            "_view_module_version": "1.2.0",
            "_view_name": "StyleView",
            "description_width": ""
          }
        },
        "cd26ab17982c4fc7af33933ce5563bce": {
          "model_module": "@jupyter-widgets/base",
          "model_name": "LayoutModel",
          "model_module_version": "1.2.0",
          "state": {
            "_model_module": "@jupyter-widgets/base",
            "_model_module_version": "1.2.0",
            "_model_name": "LayoutModel",
            "_view_count": null,
            "_view_module": "@jupyter-widgets/base",
            "_view_module_version": "1.2.0",
            "_view_name": "LayoutView",
            "align_content": null,
            "align_items": null,
            "align_self": null,
            "border": null,
            "bottom": null,
            "display": null,
            "flex": null,
            "flex_flow": null,
            "grid_area": null,
            "grid_auto_columns": null,
            "grid_auto_flow": null,
            "grid_auto_rows": null,
            "grid_column": null,
            "grid_gap": null,
            "grid_row": null,
            "grid_template_areas": null,
            "grid_template_columns": null,
            "grid_template_rows": null,
            "height": null,
            "justify_content": null,
            "justify_items": null,
            "left": null,
            "margin": null,
            "max_height": null,
            "max_width": null,
            "min_height": null,
            "min_width": null,
            "object_fit": null,
            "object_position": null,
            "order": null,
            "overflow": null,
            "overflow_x": null,
            "overflow_y": null,
            "padding": null,
            "right": null,
            "top": null,
            "visibility": null,
            "width": null
          }
        },
        "6722750f227e4205890e3588a9f7a78c": {
          "model_module": "@jupyter-widgets/controls",
          "model_name": "ProgressStyleModel",
          "model_module_version": "1.5.0",
          "state": {
            "_model_module": "@jupyter-widgets/controls",
            "_model_module_version": "1.5.0",
            "_model_name": "ProgressStyleModel",
            "_view_count": null,
            "_view_module": "@jupyter-widgets/base",
            "_view_module_version": "1.2.0",
            "_view_name": "StyleView",
            "bar_color": null,
            "description_width": ""
          }
        },
        "295d8a54ae414d21aa0f8a0631dce587": {
          "model_module": "@jupyter-widgets/base",
          "model_name": "LayoutModel",
          "model_module_version": "1.2.0",
          "state": {
            "_model_module": "@jupyter-widgets/base",
            "_model_module_version": "1.2.0",
            "_model_name": "LayoutModel",
            "_view_count": null,
            "_view_module": "@jupyter-widgets/base",
            "_view_module_version": "1.2.0",
            "_view_name": "LayoutView",
            "align_content": null,
            "align_items": null,
            "align_self": null,
            "border": null,
            "bottom": null,
            "display": null,
            "flex": null,
            "flex_flow": null,
            "grid_area": null,
            "grid_auto_columns": null,
            "grid_auto_flow": null,
            "grid_auto_rows": null,
            "grid_column": null,
            "grid_gap": null,
            "grid_row": null,
            "grid_template_areas": null,
            "grid_template_columns": null,
            "grid_template_rows": null,
            "height": null,
            "justify_content": null,
            "justify_items": null,
            "left": null,
            "margin": null,
            "max_height": null,
            "max_width": null,
            "min_height": null,
            "min_width": null,
            "object_fit": null,
            "object_position": null,
            "order": null,
            "overflow": null,
            "overflow_x": null,
            "overflow_y": null,
            "padding": null,
            "right": null,
            "top": null,
            "visibility": null,
            "width": null
          }
        },
        "75f5cb92eb0543a49c102abd79469b73": {
          "model_module": "@jupyter-widgets/controls",
          "model_name": "DescriptionStyleModel",
          "model_module_version": "1.5.0",
          "state": {
            "_model_module": "@jupyter-widgets/controls",
            "_model_module_version": "1.5.0",
            "_model_name": "DescriptionStyleModel",
            "_view_count": null,
            "_view_module": "@jupyter-widgets/base",
            "_view_module_version": "1.2.0",
            "_view_name": "StyleView",
            "description_width": ""
          }
        },
        "4c157db0efed4d01b8d051dfbe8274ec": {
          "model_module": "@jupyter-widgets/controls",
          "model_name": "HBoxModel",
          "model_module_version": "1.5.0",
          "state": {
            "_dom_classes": [],
            "_model_module": "@jupyter-widgets/controls",
            "_model_module_version": "1.5.0",
            "_model_name": "HBoxModel",
            "_view_count": null,
            "_view_module": "@jupyter-widgets/controls",
            "_view_module_version": "1.5.0",
            "_view_name": "HBoxView",
            "box_style": "",
            "children": [
              "IPY_MODEL_aaaffe23d7a84238872553e35ca37ffd",
              "IPY_MODEL_6877cd759a564d0c84096eb2a9366c5b",
              "IPY_MODEL_b127cdf40aaa4c89927ac97ee003133d"
            ],
            "layout": "IPY_MODEL_949cbd51b8094ca19307eeabb56b75e6"
          }
        },
        "aaaffe23d7a84238872553e35ca37ffd": {
          "model_module": "@jupyter-widgets/controls",
          "model_name": "HTMLModel",
          "model_module_version": "1.5.0",
          "state": {
            "_dom_classes": [],
            "_model_module": "@jupyter-widgets/controls",
            "_model_module_version": "1.5.0",
            "_model_name": "HTMLModel",
            "_view_count": null,
            "_view_module": "@jupyter-widgets/controls",
            "_view_module_version": "1.5.0",
            "_view_name": "HTMLView",
            "description": "",
            "description_tooltip": null,
            "layout": "IPY_MODEL_9b908860b58e4b99baf2d3dc3ac0d30d",
            "placeholder": "​",
            "style": "IPY_MODEL_2f2cdb9fec14466b955358087338cf37",
            "value": "(…)rd2vec-google-news-300.model.vectors.npy: 100%"
          }
        },
        "6877cd759a564d0c84096eb2a9366c5b": {
          "model_module": "@jupyter-widgets/controls",
          "model_name": "FloatProgressModel",
          "model_module_version": "1.5.0",
          "state": {
            "_dom_classes": [],
            "_model_module": "@jupyter-widgets/controls",
            "_model_module_version": "1.5.0",
            "_model_name": "FloatProgressModel",
            "_view_count": null,
            "_view_module": "@jupyter-widgets/controls",
            "_view_module_version": "1.5.0",
            "_view_name": "ProgressView",
            "bar_style": "success",
            "description": "",
            "description_tooltip": null,
            "layout": "IPY_MODEL_73e7128951944d6c8f7548cee78f68e1",
            "max": 3600000128,
            "min": 0,
            "orientation": "horizontal",
            "style": "IPY_MODEL_5694ab04356547f9ae11e9122a3ddfcb",
            "value": 3600000128
          }
        },
        "b127cdf40aaa4c89927ac97ee003133d": {
          "model_module": "@jupyter-widgets/controls",
          "model_name": "HTMLModel",
          "model_module_version": "1.5.0",
          "state": {
            "_dom_classes": [],
            "_model_module": "@jupyter-widgets/controls",
            "_model_module_version": "1.5.0",
            "_model_name": "HTMLModel",
            "_view_count": null,
            "_view_module": "@jupyter-widgets/controls",
            "_view_module_version": "1.5.0",
            "_view_name": "HTMLView",
            "description": "",
            "description_tooltip": null,
            "layout": "IPY_MODEL_b201c8dcf3824e28a6ea2205a1d468cc",
            "placeholder": "​",
            "style": "IPY_MODEL_56203ba6c8be4720a44a395162af71ed",
            "value": " 3.60G/3.60G [00:27&lt;00:00, 193MB/s]"
          }
        },
        "949cbd51b8094ca19307eeabb56b75e6": {
          "model_module": "@jupyter-widgets/base",
          "model_name": "LayoutModel",
          "model_module_version": "1.2.0",
          "state": {
            "_model_module": "@jupyter-widgets/base",
            "_model_module_version": "1.2.0",
            "_model_name": "LayoutModel",
            "_view_count": null,
            "_view_module": "@jupyter-widgets/base",
            "_view_module_version": "1.2.0",
            "_view_name": "LayoutView",
            "align_content": null,
            "align_items": null,
            "align_self": null,
            "border": null,
            "bottom": null,
            "display": null,
            "flex": null,
            "flex_flow": null,
            "grid_area": null,
            "grid_auto_columns": null,
            "grid_auto_flow": null,
            "grid_auto_rows": null,
            "grid_column": null,
            "grid_gap": null,
            "grid_row": null,
            "grid_template_areas": null,
            "grid_template_columns": null,
            "grid_template_rows": null,
            "height": null,
            "justify_content": null,
            "justify_items": null,
            "left": null,
            "margin": null,
            "max_height": null,
            "max_width": null,
            "min_height": null,
            "min_width": null,
            "object_fit": null,
            "object_position": null,
            "order": null,
            "overflow": null,
            "overflow_x": null,
            "overflow_y": null,
            "padding": null,
            "right": null,
            "top": null,
            "visibility": null,
            "width": null
          }
        },
        "9b908860b58e4b99baf2d3dc3ac0d30d": {
          "model_module": "@jupyter-widgets/base",
          "model_name": "LayoutModel",
          "model_module_version": "1.2.0",
          "state": {
            "_model_module": "@jupyter-widgets/base",
            "_model_module_version": "1.2.0",
            "_model_name": "LayoutModel",
            "_view_count": null,
            "_view_module": "@jupyter-widgets/base",
            "_view_module_version": "1.2.0",
            "_view_name": "LayoutView",
            "align_content": null,
            "align_items": null,
            "align_self": null,
            "border": null,
            "bottom": null,
            "display": null,
            "flex": null,
            "flex_flow": null,
            "grid_area": null,
            "grid_auto_columns": null,
            "grid_auto_flow": null,
            "grid_auto_rows": null,
            "grid_column": null,
            "grid_gap": null,
            "grid_row": null,
            "grid_template_areas": null,
            "grid_template_columns": null,
            "grid_template_rows": null,
            "height": null,
            "justify_content": null,
            "justify_items": null,
            "left": null,
            "margin": null,
            "max_height": null,
            "max_width": null,
            "min_height": null,
            "min_width": null,
            "object_fit": null,
            "object_position": null,
            "order": null,
            "overflow": null,
            "overflow_x": null,
            "overflow_y": null,
            "padding": null,
            "right": null,
            "top": null,
            "visibility": null,
            "width": null
          }
        },
        "2f2cdb9fec14466b955358087338cf37": {
          "model_module": "@jupyter-widgets/controls",
          "model_name": "DescriptionStyleModel",
          "model_module_version": "1.5.0",
          "state": {
            "_model_module": "@jupyter-widgets/controls",
            "_model_module_version": "1.5.0",
            "_model_name": "DescriptionStyleModel",
            "_view_count": null,
            "_view_module": "@jupyter-widgets/base",
            "_view_module_version": "1.2.0",
            "_view_name": "StyleView",
            "description_width": ""
          }
        },
        "73e7128951944d6c8f7548cee78f68e1": {
          "model_module": "@jupyter-widgets/base",
          "model_name": "LayoutModel",
          "model_module_version": "1.2.0",
          "state": {
            "_model_module": "@jupyter-widgets/base",
            "_model_module_version": "1.2.0",
            "_model_name": "LayoutModel",
            "_view_count": null,
            "_view_module": "@jupyter-widgets/base",
            "_view_module_version": "1.2.0",
            "_view_name": "LayoutView",
            "align_content": null,
            "align_items": null,
            "align_self": null,
            "border": null,
            "bottom": null,
            "display": null,
            "flex": null,
            "flex_flow": null,
            "grid_area": null,
            "grid_auto_columns": null,
            "grid_auto_flow": null,
            "grid_auto_rows": null,
            "grid_column": null,
            "grid_gap": null,
            "grid_row": null,
            "grid_template_areas": null,
            "grid_template_columns": null,
            "grid_template_rows": null,
            "height": null,
            "justify_content": null,
            "justify_items": null,
            "left": null,
            "margin": null,
            "max_height": null,
            "max_width": null,
            "min_height": null,
            "min_width": null,
            "object_fit": null,
            "object_position": null,
            "order": null,
            "overflow": null,
            "overflow_x": null,
            "overflow_y": null,
            "padding": null,
            "right": null,
            "top": null,
            "visibility": null,
            "width": null
          }
        },
        "5694ab04356547f9ae11e9122a3ddfcb": {
          "model_module": "@jupyter-widgets/controls",
          "model_name": "ProgressStyleModel",
          "model_module_version": "1.5.0",
          "state": {
            "_model_module": "@jupyter-widgets/controls",
            "_model_module_version": "1.5.0",
            "_model_name": "ProgressStyleModel",
            "_view_count": null,
            "_view_module": "@jupyter-widgets/base",
            "_view_module_version": "1.2.0",
            "_view_name": "StyleView",
            "bar_color": null,
            "description_width": ""
          }
        },
        "b201c8dcf3824e28a6ea2205a1d468cc": {
          "model_module": "@jupyter-widgets/base",
          "model_name": "LayoutModel",
          "model_module_version": "1.2.0",
          "state": {
            "_model_module": "@jupyter-widgets/base",
            "_model_module_version": "1.2.0",
            "_model_name": "LayoutModel",
            "_view_count": null,
            "_view_module": "@jupyter-widgets/base",
            "_view_module_version": "1.2.0",
            "_view_name": "LayoutView",
            "align_content": null,
            "align_items": null,
            "align_self": null,
            "border": null,
            "bottom": null,
            "display": null,
            "flex": null,
            "flex_flow": null,
            "grid_area": null,
            "grid_auto_columns": null,
            "grid_auto_flow": null,
            "grid_auto_rows": null,
            "grid_column": null,
            "grid_gap": null,
            "grid_row": null,
            "grid_template_areas": null,
            "grid_template_columns": null,
            "grid_template_rows": null,
            "height": null,
            "justify_content": null,
            "justify_items": null,
            "left": null,
            "margin": null,
            "max_height": null,
            "max_width": null,
            "min_height": null,
            "min_width": null,
            "object_fit": null,
            "object_position": null,
            "order": null,
            "overflow": null,
            "overflow_x": null,
            "overflow_y": null,
            "padding": null,
            "right": null,
            "top": null,
            "visibility": null,
            "width": null
          }
        },
        "56203ba6c8be4720a44a395162af71ed": {
          "model_module": "@jupyter-widgets/controls",
          "model_name": "DescriptionStyleModel",
          "model_module_version": "1.5.0",
          "state": {
            "_model_module": "@jupyter-widgets/controls",
            "_model_module_version": "1.5.0",
            "_model_name": "DescriptionStyleModel",
            "_view_count": null,
            "_view_module": "@jupyter-widgets/base",
            "_view_module_version": "1.2.0",
            "_view_name": "StyleView",
            "description_width": ""
          }
        }
      }
    }
  },
  "nbformat": 4,
  "nbformat_minor": 5
}