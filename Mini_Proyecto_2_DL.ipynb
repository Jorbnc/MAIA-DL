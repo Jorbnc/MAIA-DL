{
  "cells": [
    {
      "cell_type": "markdown",
      "metadata": {
        "id": "view-in-github",
        "colab_type": "text"
      },
      "source": [
        "<a href=\"https://colab.research.google.com/github/Jorbnc/MAIA-DL/blob/master/Mini_Proyecto_2_DL.ipynb\" target=\"_parent\"><img src=\"https://colab.research.google.com/assets/colab-badge.svg\" alt=\"Open In Colab\"/></a>"
      ]
    },
    {
      "cell_type": "markdown",
      "id": "oa_MJEGQ6jTi",
      "metadata": {
        "id": "oa_MJEGQ6jTi"
      },
      "source": [
        "![Universidad_de_los_Andes_30.png](data:image/png;base64,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)"
      ]
    },
    {
      "cell_type": "markdown",
      "id": "sl89pic17iPU",
      "metadata": {
        "id": "sl89pic17iPU"
      },
      "source": [
        "<style>\n",
        "@import url('https://fonts.googleapis.com/css2?family=Latin+Modern+Roman:wght@400;700&display=swap');\n",
        "\n",
        "body, p, h1, h2, h3, h4, h5, h6, li {\n",
        "  font-family: 'Latin Modern Roman', serif;\n",
        "}\n",
        "code, pre {\n",
        "  font-family: 'Fira Mono', monospace;\n",
        "}\n",
        "</style>\n",
        "\n",
        "***\n",
        "\n",
        "# **Mini Proyecto 2, Técnicas de *Deep Learning*: Clasificación de Sentimientos de Reseñas de Películas en *IMDB* con Redes Neuronales Recurrentes**\n",
        "\n",
        "## **Descripción del problema:**\n",
        "\n",
        "En este proyecto abordamos el problema de clasificación de sentimiento en reseñas de películas. Partimos de un conjunto de datos extraído de Kaggle que contiene reseñas textuales (**`text`**) y una etiqueta binaria (**`label`**) que indica si la opinión es positiva (**1**) o negativa (**0**). El reto consiste en diseñar un modelo de *Deep Learning*, concretamente una Red Neuronal Recurrente con capas LSTM, capaz de procesar secuencias de texto y predecir con alta precisión la polaridad de cada reseña.\n",
        "\n",
        "## **Objetivo:**\n",
        "\n",
        "* Implementar un *pipeline* completo que incluya la descarga del *dataset*, el preprocesamiento de texto (tokenización, limpieza, construcción de vocabulario y* padding *de secuencias), y la definición de un *Dataset* y *DataLoader* en PyTorch.\n",
        "\n",
        "* Diseñar una arquitectura basada en *embeddings* y una o varias capas LSTM (bidireccionales), con regularización por *dropout* y optimización con **`Adam`**.\n",
        "\n",
        "* Entrenar el modelo utilizando GPU cuando esté disponible, incorporando técnicas de *early stopping* y gradient clipping para evitar sobreajuste y explosión de gradientes.\n",
        "\n",
        "* Evaluar su desempeño final sobre el conjunto de prueba, calculando *accuracy*, *F1‑score*, *recall* y presentando la matriz de confusión.\n",
        "\n",
        "* Visualizar la evolución de la pérdida y la exactitud en entrenamiento y validación a lo largo de las épocas."
      ]
    },
    {
      "cell_type": "markdown",
      "id": "SiCS5j-HAbCB",
      "metadata": {
        "id": "SiCS5j-HAbCB"
      },
      "source": [
        "***\n",
        "\n",
        "**Este proyecto es realizado por Andrés Felipe Ñungo y Jordan Bryan Núñez Campos para entrega el 9 de mayo.**\n"
      ]
    },
    {
      "cell_type": "markdown",
      "source": [
        "***\n",
        "# Tareas\n",
        "\n",
        "* Exploración y pre-procesamiento (Jordan)\n",
        "\n",
        "* Introducción, y explicación de las opciones tomadas en el PDF (Andrés y Jordan)\n",
        "\n",
        "* Comentarios en código, explicaciones en markdowns (Andrés y Jordan)\n",
        "\n",
        "* Nube de Palabras (Jordan) ✅\n",
        "\n",
        "* Validación de idiomas (Jordan) ✅\n",
        "\n",
        "* Glove  (Jordan)\n",
        "\n",
        "* Word2vec (Andrés) ✅\n",
        "\n",
        "* LSTM o GRU  (Andrés) ✅\n",
        "\n",
        "* Mejorar red (Andrés) ✅\n",
        "\n",
        "* Pensar en ideas visualización (Andrés y Jordan)\n",
        "- t-SNE\n",
        "\n",
        "* Entrenamiento y evaluación de modelo (Andrés) ✅\n",
        "\n",
        "* Informe: Arquitectura, entrenamiento, evaluación, análisis cuantitativo (Andrés)\n",
        "\n",
        "* Informe: Exploración, pre-procesamiento, análisis cualitativo, discusión (Jordan)"
      ],
      "metadata": {
        "id": "aP4T8CvEqYMG"
      },
      "id": "aP4T8CvEqYMG"
    },
    {
      "cell_type": "markdown",
      "id": "8VqTMx7TYgjH",
      "metadata": {
        "id": "8VqTMx7TYgjH"
      },
      "source": [
        "\n",
        "***\n",
        "# **Índice**\n",
        "\n",
        "El *notebook* abordará el proyecto de la siguiente manera:\n",
        "\n",
        "| 🔹 | Sección        |\n",
        "|----|----------------|\n",
        "| 1️⃣ | **Instalación y carga de librerías** |\n",
        "| 1️⃣.1️⃣ | **Word2Vec** |\n",
        "| 1️⃣.2️⃣ | **GloVe** |\n",
        "| 2️⃣ | **Análisis exploratorio y preparación de los datos**       |\n",
        "| 2️⃣.1️⃣ | **Carga y estadísticas generales**       |\n",
        "| 2️⃣.2️⃣ | **Limpieza de los datos**       |\n",
        "| 3️⃣ | **Definición de *pipelines* de procesamiento**          |\n",
        "| 3️⃣.1️⃣ | **Pipeline de preprocesamiento**   |\n",
        "| 4️⃣ | **Desarrollo del modelo RNN**   |\n",
        "| 4️⃣.1️⃣ | **Hiperparámetros, partición y Dataloaders**   |\n",
        "| 4️⃣.2️⃣ | **Adaptación a partir de la arquitectura ...*   |\n",
        "| 4️⃣.3️⃣ | **Entrenamiento, validación y prueba**   |\n",
        "| 5️⃣ | **Análisis de resultados y conclusiones**   |\n",
        "| 6️⃣ | **Conclusión**   |\n",
        "| 7️⃣ | **Referencias**   |\n"
      ]
    },
    {
      "cell_type": "markdown",
      "id": "2cyVuwlHB_W3",
      "metadata": {
        "id": "2cyVuwlHB_W3"
      },
      "source": [
        "***\n",
        "\n",
        "# 1. Instalación y cargue de librerías"
      ]
    },
    {
      "cell_type": "markdown",
      "source": [
        "Prueba"
      ],
      "metadata": {
        "id": "Ahvgr3QuGK5_"
      },
      "id": "Ahvgr3QuGK5_"
    },
    {
      "cell_type": "markdown",
      "source": [
        "Después de la instalación de algunas librerías se importan utilidades generales (**`os`**, **`random`**,**`time`**, **`NumPy`**, **`pandas`**), herramientas de PLN con **`NLTK`** (incluida la descarga de *stop-words*), módulos de **`PyTorch`** para construir y entrenar la red, métricas de **`scikit-learn`** y utilidades de visualización con **`Matplotlib`** y **`Seaborn`**. Por último, importa la librería **`huggingface_hub`** para más adelante descargar uno de los embeddings."
      ],
      "metadata": {
        "id": "DkjBiBB5rU6t"
      },
      "id": "DkjBiBB5rU6t"
    },
    {
      "cell_type": "code",
      "source": [
        "# Instalación de librerías para colab\n",
        "%pip install -q --no-cache-dir kagglehub langdetect\n",
        "%pip install -q --no-cache-dir huggingface_hub"
      ],
      "metadata": {
        "id": "l26426jMLCxE",
        "outputId": "1762e95e-0936-444f-c7c3-962d4f832d4e",
        "colab": {
          "base_uri": "https://localhost:8080/"
        }
      },
      "id": "l26426jMLCxE",
      "execution_count": 1,
      "outputs": [
        {
          "output_type": "stream",
          "name": "stdout",
          "text": [
            "\u001b[?25l     \u001b[90m━━━━━━━━━━━━━━━━━━━━━━━━━━━━━━━━━━━━━━━━\u001b[0m \u001b[32m0.0/981.5 kB\u001b[0m \u001b[31m?\u001b[0m eta \u001b[36m-:--:--\u001b[0m\r\u001b[2K     \u001b[90m━━━━━━━━━━━━━━━━━━━━━━━━━━━━━━━━━━━━━━\u001b[0m \u001b[32m981.5/981.5 kB\u001b[0m \u001b[31m47.1 MB/s\u001b[0m eta \u001b[36m0:00:00\u001b[0m\n",
            "\u001b[?25h  Preparing metadata (setup.py) ... \u001b[?25l\u001b[?25hdone\n",
            "  Building wheel for langdetect (setup.py) ... \u001b[?25l\u001b[?25hdone\n"
          ]
        }
      ]
    },
    {
      "cell_type": "code",
      "source": [
        "# Librerías comunes\n",
        "import os\n",
        "import random\n",
        "import time\n",
        "import numpy as np\n",
        "import pandas as pd\n",
        "import time\n",
        "\n",
        "# Descarga de datasets y de embeddings\n",
        "import kagglehub\n",
        "from huggingface_hub import hf_hub_download\n",
        "\n",
        "# Preprocesamiento, NLP\n",
        "from collections import Counter\n",
        "from langdetect import detect\n",
        "import nltk\n",
        "from nltk.tokenize import word_tokenize\n",
        "from nltk.corpus import stopwords\n",
        "from collections import Counter\n",
        "import re\n",
        "from nltk.corpus import stopwords\n",
        "import nltk\n",
        "from sklearn.preprocessing import StandardScaler\n",
        "from sklearn.decomposition import PCA\n",
        "# Palabras vacías\n",
        "nltk.download('stopwords')\n",
        "\n",
        "# Modelado\n",
        "import torch\n",
        "import torch.nn as nn\n",
        "from torch.utils.data import Dataset, DataLoader, random_split\n",
        "import torch.optim as optim\n",
        "from torch.nn.utils.rnn import pack_padded_sequence, pad_packed_sequence,  pad_sequence\n",
        "\n",
        "# Evaluación\n",
        "from sklearn.metrics import accuracy_score, f1_score, recall_score, confusion_matrix\n",
        "from tqdm import tqdm\n",
        "\n",
        "# Librerías para visualizaciones\n",
        "import matplotlib.pyplot as plt\n",
        "import seaborn as sns\n",
        "from wordcloud import WordCloud\n",
        "from mpl_toolkits.mplot3d import Axes3D\n",
        "from sklearn.manifold import TSNE\n",
        "import plotly.express as px"
      ],
      "metadata": {
        "id": "osjmTJMvtxua",
        "colab": {
          "base_uri": "https://localhost:8080/"
        },
        "outputId": "b80f7004-8cf2-4ea3-f982-19461185fba5"
      },
      "id": "osjmTJMvtxua",
      "execution_count": 2,
      "outputs": [
        {
          "output_type": "stream",
          "name": "stderr",
          "text": [
            "[nltk_data] Downloading package stopwords to /root/nltk_data...\n",
            "[nltk_data]   Unzipping corpora/stopwords.zip.\n"
          ]
        }
      ]
    },
    {
      "cell_type": "markdown",
      "source": [
        "Se importa **`kagglehub`** y ejecuta **`dataset_download`** con el identificador **`yasserh/imdb-movie-ratings-sentiment-analysis`** para descargar el conjunto de datos de reseñas de películas IMDB. La función guarda los archivos de manera local y devuelve la ruta absoluta, que se almacena en **`path`** y se muestra en pantalla mediante **`print`** para confirmar dónde quedaron los datos."
      ],
      "metadata": {
        "id": "yHwealvATakn"
      },
      "id": "yHwealvATakn"
    },
    {
      "cell_type": "code",
      "source": [
        "path = kagglehub.dataset_download(\"yasserh/imdb-movie-ratings-sentiment-analysis\")\n",
        "print(\"Datos descargados en:\", path)"
      ],
      "metadata": {
        "id": "F4y-tzhMl2CC",
        "colab": {
          "base_uri": "https://localhost:8080/"
        },
        "outputId": "d97c8b9d-072c-46ba-fd5c-b9fd666ad806"
      },
      "id": "F4y-tzhMl2CC",
      "execution_count": 3,
      "outputs": [
        {
          "output_type": "stream",
          "name": "stdout",
          "text": [
            "Datos descargados en: /kaggle/input/imdb-movie-ratings-sentiment-analysis\n"
          ]
        }
      ]
    },
    {
      "cell_type": "markdown",
      "source": [
        "Se carga los *embeddings* de los *tokens* de los documentos, que nos permitirán tener un nuevo espacio de representación más enriquecido. Más adelante se explica con más detalle cada tipo de *embedding*.\n",
        "\n",
        "## 1.1 Word2Vec\n",
        "\n",
        "*Word2Vec GoogleNews* es un modelo que contiene 3 millones de vectores de 300 dimensiones entrenados con el algoritmo skip-gram con negative sampling sobre ≈ 100 mil millones de palabras del corpus Google News. Los autores sustituyeron las redes n-gram tradicionales por dos arquitecturas sencillas (CBOW y Skip-gram) con optimizaciones como negative sampling y sub-sampling de palabras frecuentes. Esto permitió entrenar embeddings de alta calidad en horas, no en días [²]."
      ],
      "metadata": {
        "id": "07ZBWlW6BudL"
      },
      "id": "07ZBWlW6BudL"
    },
    {
      "cell_type": "code",
      "source": [
        "bin_path = hf_hub_download(repo_id =\n",
        "            \"NathaNn1111/word2vec-google-news-negative-300-bin\",\n",
        "            filename = \"GoogleNews-vectors-negative300.bin\")\n",
        "print(\"Embeddings en:\", bin_path)"
      ],
      "metadata": {
        "id": "oxSwr79ozCBB",
        "colab": {
          "base_uri": "https://localhost:8080/",
          "height": 198,
          "referenced_widgets": [
            "f7a6915888634c1a87d536dcde7c097c",
            "a4db8b4ca9c84480a79f06a75c15e220",
            "03f183b4c7964f63949407e62e2b1de5",
            "8ece0802ce0045dea7cd5590d4ab84c8",
            "e78d6f0920714632ae4f499f7b663919",
            "f80f65423a0a4a5e8b4cf137daba1ea5",
            "282f967a603f4e22850c99ae59401d4d",
            "8dfbabc176eb4b4ab578eb3f6b6dda7f",
            "570b023aab8147f183d5d654de13fea2",
            "1b060555e7104ce39e3d450d827a53ba",
            "c600f212c6904a9cbb2d0402c7fc6ecd"
          ]
        },
        "outputId": "1ca896be-4d79-4e9a-826d-2a60a22d5246"
      },
      "id": "oxSwr79ozCBB",
      "execution_count": 4,
      "outputs": [
        {
          "output_type": "stream",
          "name": "stderr",
          "text": [
            "/usr/local/lib/python3.11/dist-packages/huggingface_hub/utils/_auth.py:94: UserWarning: \n",
            "The secret `HF_TOKEN` does not exist in your Colab secrets.\n",
            "To authenticate with the Hugging Face Hub, create a token in your settings tab (https://huggingface.co/settings/tokens), set it as secret in your Google Colab and restart your session.\n",
            "You will be able to reuse this secret in all of your notebooks.\n",
            "Please note that authentication is recommended but still optional to access public models or datasets.\n",
            "  warnings.warn(\n"
          ]
        },
        {
          "output_type": "display_data",
          "data": {
            "text/plain": [
              "GoogleNews-vectors-negative300.bin:   0%|          | 0.00/3.64G [00:00<?, ?B/s]"
            ],
            "application/vnd.jupyter.widget-view+json": {
              "version_major": 2,
              "version_minor": 0,
              "model_id": "f7a6915888634c1a87d536dcde7c097c"
            }
          },
          "metadata": {}
        },
        {
          "output_type": "stream",
          "name": "stdout",
          "text": [
            "Embeddings en: /root/.cache/huggingface/hub/models--NathaNn1111--word2vec-google-news-negative-300-bin/snapshots/78856d4586b3a938134c9833d92139f2e056e369/GoogleNews-vectors-negative300.bin\n"
          ]
        }
      ]
    },
    {
      "cell_type": "markdown",
      "source": [
        "## 1.2 GloVe"
      ],
      "metadata": {
        "id": "fKcFZEzKN3kW"
      },
      "id": "fKcFZEzKN3kW"
    },
    {
      "cell_type": "code",
      "source": [
        "!wget -P . http://nlp.stanford.edu/data/glove.6B.zip\n",
        "!unzip -o glove.6B.zip -d ."
      ],
      "metadata": {
        "id": "zZiJq8VNJIhF",
        "colab": {
          "base_uri": "https://localhost:8080/"
        },
        "outputId": "7872f5b0-deab-4af7-9072-2e2fd296f023"
      },
      "id": "zZiJq8VNJIhF",
      "execution_count": 5,
      "outputs": [
        {
          "output_type": "stream",
          "name": "stdout",
          "text": [
            "--2025-05-10 15:35:01--  http://nlp.stanford.edu/data/glove.6B.zip\n",
            "Resolving nlp.stanford.edu (nlp.stanford.edu)... 171.64.67.140\n",
            "Connecting to nlp.stanford.edu (nlp.stanford.edu)|171.64.67.140|:80... connected.\n",
            "HTTP request sent, awaiting response... 302 Found\n",
            "Location: https://nlp.stanford.edu/data/glove.6B.zip [following]\n",
            "--2025-05-10 15:35:01--  https://nlp.stanford.edu/data/glove.6B.zip\n",
            "Connecting to nlp.stanford.edu (nlp.stanford.edu)|171.64.67.140|:443... connected.\n",
            "HTTP request sent, awaiting response... 301 Moved Permanently\n",
            "Location: https://downloads.cs.stanford.edu/nlp/data/glove.6B.zip [following]\n",
            "--2025-05-10 15:35:02--  https://downloads.cs.stanford.edu/nlp/data/glove.6B.zip\n",
            "Resolving downloads.cs.stanford.edu (downloads.cs.stanford.edu)... 171.64.64.22\n",
            "Connecting to downloads.cs.stanford.edu (downloads.cs.stanford.edu)|171.64.64.22|:443... connected.\n",
            "HTTP request sent, awaiting response... 200 OK\n",
            "Length: 862182613 (822M) [application/zip]\n",
            "Saving to: ‘./glove.6B.zip’\n",
            "\n",
            "glove.6B.zip        100%[===================>] 822.24M   809KB/s    in 9m 43s  \n",
            "\n",
            "2025-05-10 15:44:46 (1.41 MB/s) - ‘./glove.6B.zip’ saved [862182613/862182613]\n",
            "\n",
            "Archive:  glove.6B.zip\n",
            "  inflating: ./glove.6B.50d.txt      \n",
            "  inflating: ./glove.6B.100d.txt     \n",
            "  inflating: ./glove.6B.200d.txt     \n",
            "  inflating: ./glove.6B.300d.txt     \n"
          ]
        }
      ]
    },
    {
      "cell_type": "markdown",
      "source": [
        "Este bloque detecta si el entorno dispone de GPU y selecciona el **`device`** apropiado para PyTorch.  \n",
        "Primero se llama a **`torch.cuda.is_available()`**, que devuelve *True* si se ha asignado una GPU CUDA al runtime de Colab. Según el resultado se imprime un mensaje informativo (“Entrenando en GPU.” o “GPU no disponible, entrenando en CPU.”).  \n",
        "\n",
        "A continuación se construye el objeto **`device`** con **`torch.device(\"cuda\" if train_on_gpu else \"cpu\")`**, que será pasado a la red y a los tensores de entrada para que se ubiquen en la GPU cuando sea posible. Por último se muestra en pantalla el dispositivo elegido."
      ],
      "metadata": {
        "id": "uOceAejmVjqF"
      },
      "id": "uOceAejmVjqF"
    },
    {
      "cell_type": "code",
      "source": [
        "train_on_gpu = torch.cuda.is_available()\n",
        "if train_on_gpu:\n",
        "    print(\"Entrenando en GPU.\")\n",
        "else:\n",
        "    print(\"GPU no disponible, entrenando en CPU.\")\n",
        "\n",
        "# 2) Elegir device según disponibilidad\n",
        "device = torch.device(\"cuda\" if train_on_gpu else \"cpu\")\n",
        "print(f\"   Usando device: {device}\\n\")"
      ],
      "metadata": {
        "id": "LksJ95qEPWVr",
        "colab": {
          "base_uri": "https://localhost:8080/"
        },
        "outputId": "ff43b019-4034-467b-9f97-a28b9b01e547"
      },
      "id": "LksJ95qEPWVr",
      "execution_count": 6,
      "outputs": [
        {
          "output_type": "stream",
          "name": "stdout",
          "text": [
            "Entrenando en GPU.\n",
            "   Usando device: cuda\n",
            "\n"
          ]
        }
      ]
    },
    {
      "cell_type": "markdown",
      "source": [
        "Este bloque hace dos tareas sencillas de soporte:\n",
        "\n",
        "1. Llama a **`warnings.filterwarnings(\"ignore\")`** para ocultar avisos y mantener la salida del notebook limpia.\n",
        "2. Utiliza **`importlib.metadata.version`** para imprimir las versiones de un conjunto de librerías clave ( **`numpy`**, **`pandas`**, **`torch`**, **`torchvision`**, **`scikit-learn`**, **`kagglehub`**, **`pillow`**, **`matplotlib`**, **`seaborn`** ). Mostrar estas versiones al inicio del notebook facilita la reproducibilidad y ayuda a depurar posibles conflictos de dependencias."
      ],
      "metadata": {
        "id": "pfXxKk09Vulp"
      },
      "id": "pfXxKk09Vulp"
    },
    {
      "cell_type": "code",
      "execution_count": 7,
      "id": "LSwlUgjUjtR_",
      "metadata": {
        "id": "LSwlUgjUjtR_",
        "colab": {
          "base_uri": "https://localhost:8080/"
        },
        "outputId": "fd0c9e9c-2a34-4cdc-a6a8-7700b041ad01"
      },
      "outputs": [
        {
          "output_type": "stream",
          "name": "stdout",
          "text": [
            "numpy :  2.0.2\n",
            "pandas :  2.2.2\n",
            "torch :  2.6.0+cu124\n",
            "torchvision :  0.21.0+cu124\n",
            "scikit-learn :  1.6.1\n",
            "kagglehub :  0.3.12\n",
            "pillow :  11.2.1\n",
            "matplotlib :  3.10.0\n",
            "seaborn :  0.13.2\n",
            "nltk :  3.9.1\n",
            "tqdm :  4.67.1\n",
            "scipy :  1.15.2\n"
          ]
        }
      ],
      "source": [
        "# Ignorar las warnings\n",
        "import warnings\n",
        "warnings.filterwarnings(\"ignore\")\n",
        "\n",
        "# Versiones utilizadas\n",
        "from importlib.metadata import version\n",
        "librerias = [\n",
        "    \"numpy\", \"pandas\", \"torch\", \"torchvision\", \"scikit-learn\", \"kagglehub\",\n",
        "    \"pillow\", \"matplotlib\", \"seaborn\",\n",
        "    \"nltk\", \"tqdm\", \"scipy\"\n",
        "]\n",
        "for library in librerias:\n",
        "  print(library, \": \", version(library))"
      ]
    },
    {
      "cell_type": "markdown",
      "source": [
        "El siguiente bloque de código nos permite hacer determininísticas las funciones traídas de **`pytorch`**, y en general controlar todos los pseudo-aleatorios del *notebook*"
      ],
      "metadata": {
        "id": "ok4F_5E1njTi"
      },
      "id": "ok4F_5E1njTi"
    },
    {
      "cell_type": "code",
      "source": [
        "# Definición del random state y seeds\n",
        "RANDOM_STATE = 13\n",
        "random.seed(RANDOM_STATE)\n",
        "np.random.seed(RANDOM_STATE)"
      ],
      "metadata": {
        "id": "xdgcOt7gznvJ"
      },
      "id": "xdgcOt7gznvJ",
      "execution_count": 8,
      "outputs": []
    },
    {
      "cell_type": "markdown",
      "id": "qK311OLFzPep",
      "metadata": {
        "id": "qK311OLFzPep"
      },
      "source": [
        "***\n",
        "\n",
        "# 2. Análisis exploratorio y preparación de los datos\n"
      ]
    },
    {
      "cell_type": "markdown",
      "source": [
        "***\n",
        "\n",
        "## 2.1. Carga y estadísticas generales"
      ],
      "metadata": {
        "id": "4KxKy7H1eID-"
      },
      "id": "4KxKy7H1eID-"
    },
    {
      "cell_type": "code",
      "execution_count": 9,
      "id": "K4yOzyWKJbov",
      "metadata": {
        "id": "K4yOzyWKJbov",
        "colab": {
          "base_uri": "https://localhost:8080/",
          "height": 206
        },
        "outputId": "bc1b72c3-4d7b-43ab-88da-ca8bd3000da2"
      },
      "outputs": [
        {
          "output_type": "execute_result",
          "data": {
            "text/plain": [
              "                                                text  label\n",
              "0  I grew up (b. 1965) watching and loving the Th...      0\n",
              "1  When I put this movie in my DVD player, and sa...      0\n",
              "2  Why do people who do not know what a particula...      0\n",
              "3  Even though I have great interest in Biblical ...      0\n",
              "4  Im a die hard Dads Army fan and nothing will e...      1"
            ],
            "text/html": [
              "\n",
              "  <div id=\"df-cf994cca-c147-4356-a116-8de77ca681bb\" class=\"colab-df-container\">\n",
              "    <div>\n",
              "<style scoped>\n",
              "    .dataframe tbody tr th:only-of-type {\n",
              "        vertical-align: middle;\n",
              "    }\n",
              "\n",
              "    .dataframe tbody tr th {\n",
              "        vertical-align: top;\n",
              "    }\n",
              "\n",
              "    .dataframe thead th {\n",
              "        text-align: right;\n",
              "    }\n",
              "</style>\n",
              "<table border=\"1\" class=\"dataframe\">\n",
              "  <thead>\n",
              "    <tr style=\"text-align: right;\">\n",
              "      <th></th>\n",
              "      <th>text</th>\n",
              "      <th>label</th>\n",
              "    </tr>\n",
              "  </thead>\n",
              "  <tbody>\n",
              "    <tr>\n",
              "      <th>0</th>\n",
              "      <td>I grew up (b. 1965) watching and loving the Th...</td>\n",
              "      <td>0</td>\n",
              "    </tr>\n",
              "    <tr>\n",
              "      <th>1</th>\n",
              "      <td>When I put this movie in my DVD player, and sa...</td>\n",
              "      <td>0</td>\n",
              "    </tr>\n",
              "    <tr>\n",
              "      <th>2</th>\n",
              "      <td>Why do people who do not know what a particula...</td>\n",
              "      <td>0</td>\n",
              "    </tr>\n",
              "    <tr>\n",
              "      <th>3</th>\n",
              "      <td>Even though I have great interest in Biblical ...</td>\n",
              "      <td>0</td>\n",
              "    </tr>\n",
              "    <tr>\n",
              "      <th>4</th>\n",
              "      <td>Im a die hard Dads Army fan and nothing will e...</td>\n",
              "      <td>1</td>\n",
              "    </tr>\n",
              "  </tbody>\n",
              "</table>\n",
              "</div>\n",
              "    <div class=\"colab-df-buttons\">\n",
              "\n",
              "  <div class=\"colab-df-container\">\n",
              "    <button class=\"colab-df-convert\" onclick=\"convertToInteractive('df-cf994cca-c147-4356-a116-8de77ca681bb')\"\n",
              "            title=\"Convert this dataframe to an interactive table.\"\n",
              "            style=\"display:none;\">\n",
              "\n",
              "  <svg xmlns=\"http://www.w3.org/2000/svg\" height=\"24px\" viewBox=\"0 -960 960 960\">\n",
              "    <path d=\"M120-120v-720h720v720H120Zm60-500h600v-160H180v160Zm220 220h160v-160H400v160Zm0 220h160v-160H400v160ZM180-400h160v-160H180v160Zm440 0h160v-160H620v160ZM180-180h160v-160H180v160Zm440 0h160v-160H620v160Z\"/>\n",
              "  </svg>\n",
              "    </button>\n",
              "\n",
              "  <style>\n",
              "    .colab-df-container {\n",
              "      display:flex;\n",
              "      gap: 12px;\n",
              "    }\n",
              "\n",
              "    .colab-df-convert {\n",
              "      background-color: #E8F0FE;\n",
              "      border: none;\n",
              "      border-radius: 50%;\n",
              "      cursor: pointer;\n",
              "      display: none;\n",
              "      fill: #1967D2;\n",
              "      height: 32px;\n",
              "      padding: 0 0 0 0;\n",
              "      width: 32px;\n",
              "    }\n",
              "\n",
              "    .colab-df-convert:hover {\n",
              "      background-color: #E2EBFA;\n",
              "      box-shadow: 0px 1px 2px rgba(60, 64, 67, 0.3), 0px 1px 3px 1px rgba(60, 64, 67, 0.15);\n",
              "      fill: #174EA6;\n",
              "    }\n",
              "\n",
              "    .colab-df-buttons div {\n",
              "      margin-bottom: 4px;\n",
              "    }\n",
              "\n",
              "    [theme=dark] .colab-df-convert {\n",
              "      background-color: #3B4455;\n",
              "      fill: #D2E3FC;\n",
              "    }\n",
              "\n",
              "    [theme=dark] .colab-df-convert:hover {\n",
              "      background-color: #434B5C;\n",
              "      box-shadow: 0px 1px 3px 1px rgba(0, 0, 0, 0.15);\n",
              "      filter: drop-shadow(0px 1px 2px rgba(0, 0, 0, 0.3));\n",
              "      fill: #FFFFFF;\n",
              "    }\n",
              "  </style>\n",
              "\n",
              "    <script>\n",
              "      const buttonEl =\n",
              "        document.querySelector('#df-cf994cca-c147-4356-a116-8de77ca681bb button.colab-df-convert');\n",
              "      buttonEl.style.display =\n",
              "        google.colab.kernel.accessAllowed ? 'block' : 'none';\n",
              "\n",
              "      async function convertToInteractive(key) {\n",
              "        const element = document.querySelector('#df-cf994cca-c147-4356-a116-8de77ca681bb');\n",
              "        const dataTable =\n",
              "          await google.colab.kernel.invokeFunction('convertToInteractive',\n",
              "                                                    [key], {});\n",
              "        if (!dataTable) return;\n",
              "\n",
              "        const docLinkHtml = 'Like what you see? Visit the ' +\n",
              "          '<a target=\"_blank\" href=https://colab.research.google.com/notebooks/data_table.ipynb>data table notebook</a>'\n",
              "          + ' to learn more about interactive tables.';\n",
              "        element.innerHTML = '';\n",
              "        dataTable['output_type'] = 'display_data';\n",
              "        await google.colab.output.renderOutput(dataTable, element);\n",
              "        const docLink = document.createElement('div');\n",
              "        docLink.innerHTML = docLinkHtml;\n",
              "        element.appendChild(docLink);\n",
              "      }\n",
              "    </script>\n",
              "  </div>\n",
              "\n",
              "\n",
              "    <div id=\"df-18fab56b-a109-4e7b-87b1-258894c43d19\">\n",
              "      <button class=\"colab-df-quickchart\" onclick=\"quickchart('df-18fab56b-a109-4e7b-87b1-258894c43d19')\"\n",
              "                title=\"Suggest charts\"\n",
              "                style=\"display:none;\">\n",
              "\n",
              "<svg xmlns=\"http://www.w3.org/2000/svg\" height=\"24px\"viewBox=\"0 0 24 24\"\n",
              "     width=\"24px\">\n",
              "    <g>\n",
              "        <path d=\"M19 3H5c-1.1 0-2 .9-2 2v14c0 1.1.9 2 2 2h14c1.1 0 2-.9 2-2V5c0-1.1-.9-2-2-2zM9 17H7v-7h2v7zm4 0h-2V7h2v10zm4 0h-2v-4h2v4z\"/>\n",
              "    </g>\n",
              "</svg>\n",
              "      </button>\n",
              "\n",
              "<style>\n",
              "  .colab-df-quickchart {\n",
              "      --bg-color: #E8F0FE;\n",
              "      --fill-color: #1967D2;\n",
              "      --hover-bg-color: #E2EBFA;\n",
              "      --hover-fill-color: #174EA6;\n",
              "      --disabled-fill-color: #AAA;\n",
              "      --disabled-bg-color: #DDD;\n",
              "  }\n",
              "\n",
              "  [theme=dark] .colab-df-quickchart {\n",
              "      --bg-color: #3B4455;\n",
              "      --fill-color: #D2E3FC;\n",
              "      --hover-bg-color: #434B5C;\n",
              "      --hover-fill-color: #FFFFFF;\n",
              "      --disabled-bg-color: #3B4455;\n",
              "      --disabled-fill-color: #666;\n",
              "  }\n",
              "\n",
              "  .colab-df-quickchart {\n",
              "    background-color: var(--bg-color);\n",
              "    border: none;\n",
              "    border-radius: 50%;\n",
              "    cursor: pointer;\n",
              "    display: none;\n",
              "    fill: var(--fill-color);\n",
              "    height: 32px;\n",
              "    padding: 0;\n",
              "    width: 32px;\n",
              "  }\n",
              "\n",
              "  .colab-df-quickchart:hover {\n",
              "    background-color: var(--hover-bg-color);\n",
              "    box-shadow: 0 1px 2px rgba(60, 64, 67, 0.3), 0 1px 3px 1px rgba(60, 64, 67, 0.15);\n",
              "    fill: var(--button-hover-fill-color);\n",
              "  }\n",
              "\n",
              "  .colab-df-quickchart-complete:disabled,\n",
              "  .colab-df-quickchart-complete:disabled:hover {\n",
              "    background-color: var(--disabled-bg-color);\n",
              "    fill: var(--disabled-fill-color);\n",
              "    box-shadow: none;\n",
              "  }\n",
              "\n",
              "  .colab-df-spinner {\n",
              "    border: 2px solid var(--fill-color);\n",
              "    border-color: transparent;\n",
              "    border-bottom-color: var(--fill-color);\n",
              "    animation:\n",
              "      spin 1s steps(1) infinite;\n",
              "  }\n",
              "\n",
              "  @keyframes spin {\n",
              "    0% {\n",
              "      border-color: transparent;\n",
              "      border-bottom-color: var(--fill-color);\n",
              "      border-left-color: var(--fill-color);\n",
              "    }\n",
              "    20% {\n",
              "      border-color: transparent;\n",
              "      border-left-color: var(--fill-color);\n",
              "      border-top-color: var(--fill-color);\n",
              "    }\n",
              "    30% {\n",
              "      border-color: transparent;\n",
              "      border-left-color: var(--fill-color);\n",
              "      border-top-color: var(--fill-color);\n",
              "      border-right-color: var(--fill-color);\n",
              "    }\n",
              "    40% {\n",
              "      border-color: transparent;\n",
              "      border-right-color: var(--fill-color);\n",
              "      border-top-color: var(--fill-color);\n",
              "    }\n",
              "    60% {\n",
              "      border-color: transparent;\n",
              "      border-right-color: var(--fill-color);\n",
              "    }\n",
              "    80% {\n",
              "      border-color: transparent;\n",
              "      border-right-color: var(--fill-color);\n",
              "      border-bottom-color: var(--fill-color);\n",
              "    }\n",
              "    90% {\n",
              "      border-color: transparent;\n",
              "      border-bottom-color: var(--fill-color);\n",
              "    }\n",
              "  }\n",
              "</style>\n",
              "\n",
              "      <script>\n",
              "        async function quickchart(key) {\n",
              "          const quickchartButtonEl =\n",
              "            document.querySelector('#' + key + ' button');\n",
              "          quickchartButtonEl.disabled = true;  // To prevent multiple clicks.\n",
              "          quickchartButtonEl.classList.add('colab-df-spinner');\n",
              "          try {\n",
              "            const charts = await google.colab.kernel.invokeFunction(\n",
              "                'suggestCharts', [key], {});\n",
              "          } catch (error) {\n",
              "            console.error('Error during call to suggestCharts:', error);\n",
              "          }\n",
              "          quickchartButtonEl.classList.remove('colab-df-spinner');\n",
              "          quickchartButtonEl.classList.add('colab-df-quickchart-complete');\n",
              "        }\n",
              "        (() => {\n",
              "          let quickchartButtonEl =\n",
              "            document.querySelector('#df-18fab56b-a109-4e7b-87b1-258894c43d19 button');\n",
              "          quickchartButtonEl.style.display =\n",
              "            google.colab.kernel.accessAllowed ? 'block' : 'none';\n",
              "        })();\n",
              "      </script>\n",
              "    </div>\n",
              "\n",
              "    </div>\n",
              "  </div>\n"
            ],
            "application/vnd.google.colaboratory.intrinsic+json": {
              "type": "dataframe",
              "variable_name": "data_raw",
              "summary": "{\n  \"name\": \"data_raw\",\n  \"rows\": 40000,\n  \"fields\": [\n    {\n      \"column\": \"text\",\n      \"properties\": {\n        \"dtype\": \"string\",\n        \"num_unique_values\": 39723,\n        \"samples\": [\n          \"There are similarities between Ray Lawrence's \\\"Jindabyne\\\" and his last movie \\\"Lantana\\\" \\u0096 a dead body and its repercussions for already dysfunctional lives. But whereas \\\"Lantana\\\" offered some hope and resolution, \\\"Jindabyne\\\" leaves everything unresolved in a bleak way that will leave most viewers unsatisfied, perhaps even cheated.<br /><br />The storyline - the aftermath of a fisherman's discovery of a corpse floating in a remote river - is based on a short story by Raymond Carver. It became an element in Robert Altman's classic 1993 ensemble \\\"Short Cuts\\\". Lawrence uses this theme for an exploration and exposition of relationships within a small Australian community under stress. The movie poses some moral questions \\\"Would you let the discovery of a dead body ruin your good weekend?\\\" and more poignantly for Australians \\\"Would it make any difference if the dead person was an aboriginal?\\\" The acting, especially by Gabriel Byrne and Laura Linney, is commendable. And there are elements of mysticism reinforced by haunting music, not unlike \\\"Picnic at Hanging Rock\\\".<br /><br />If all this sounds like the basis for a great movie - be prepared for a let down, the pace is very slow and the murder is shown near the beginning, thereby eliminating the element of mystery. And so we are left with these desolate lives and a blank finale.\",\n          \"Hammer House of Horror: Witching Time is set in rural England on Woodstock farm where stressed musician David Winter (Jon Finch) lives with his actress wife Mary (Prunella Gee) & is currently composing the music for a horror film. One night while looking for his dog Billy David finds a mysterious woman in his barn, calling herself Lucinda Jessop (Patricia Quinn) she claims to be a witch who has transported herself from 300 years in the past to now. Obviously rather sceptical David has a hard time believing her so he locks her in a room in his farmhouse & calls his doctor Charles (Ian McCulloch) to come examine her, however once he arrives & they enter the room Lucinda has disappeared. Charles puts it down to David drinking too much but over the next few day strange & disturbing things begin to happen to David & Mary...<br /><br />Witching Time was episode 1 from the short lived British anthology horror series produced by Hammer studios for TV & originally aired here in the UK during September 1980, the first of two Hammer House of Horror episodes to be directed by Don Leaver (episode 13 The Mark of Satan being the other) I actually rather liked this. As a series Hammer House of Horror dealt with various different themes & were all unconnected to each other except in name & unsurprisingly Watching Time is a sinister & effective little tale about a witch, the script by Anthony Read benefits from it's slight 50 odd minute duration & moves along at a nice pace. The character's are pretty good as is the dialogue, there are some nice scenes here & I liked the way it never quite reveals whether David & Mary are going crazy or not. I think it's a well structured, entertaining & reasonably creepy horror themed TV show that I enjoyed more than I thought I would.<br /><br />Being made for British TV meant the boys at Hammer had a lower budget than usual, if that was even possible, & as such there is no gorgeous period settings here as in their most well know Frankenstein & Dracula films although the contemporary English setting does give it a certain atmosphere that you can relate to a bit more. Another TV based restriction is that the exploitation levels are lower than you might hope for, there's some nudity & gore but not much although I didn't mind too much as the story here is pretty good. It's well made for what it is & Hammer's experience on their feature films probably helped make these look pretty good, the acting is good as well with genre favourite Ian McCulloch making a bit-part appearance.<br /><br />Witching Time is a good start to the Hammer House of Horror series, as a 50 minute piece of British TV it's pretty damned good, now why don't they make show's like this over here anymore?\",\n          \"What a great cast for this movie. The timing was excellent and there were so many clever lines-several times I was still laughing minutes after they were delivered. I found Manna From Heaven to have some surprising moments and while there were things I was thinking would happen, the way they came together was anything but predictable. This movie is about hope and righting wrongs. I left the theater feeling inspired to do the right thing. Bravo to the Five Sisters.\"\n        ],\n        \"semantic_type\": \"\",\n        \"description\": \"\"\n      }\n    },\n    {\n      \"column\": \"label\",\n      \"properties\": {\n        \"dtype\": \"number\",\n        \"std\": 0,\n        \"min\": 0,\n        \"max\": 1,\n        \"num_unique_values\": 2,\n        \"samples\": [\n          1,\n          0\n        ],\n        \"semantic_type\": \"\",\n        \"description\": \"\"\n      }\n    }\n  ]\n}"
            }
          },
          "metadata": {},
          "execution_count": 9
        }
      ],
      "source": [
        "# Descargar el conjunto de datos y almacenar el path en una variable\n",
        "data_raw = pd.read_csv(os.path.join(path, 'movie.csv'))\n",
        "data_raw.head()"
      ]
    },
    {
      "cell_type": "code",
      "source": [
        "label2index = {'Negativa':0, 'Positiva':1}\n",
        "index2label = {0:'Negativa', 1:'Positiva'}"
      ],
      "metadata": {
        "id": "tK_D4XVsnk6c"
      },
      "id": "tK_D4XVsnk6c",
      "execution_count": 10,
      "outputs": []
    },
    {
      "cell_type": "code",
      "source": [
        "# Frecuencias absoluta y relativa de cada clase\n",
        "pd.DataFrame({\n",
        "    \"Review\": index2label,\n",
        "    \"F. Absoluta\": data_raw['label'].value_counts().sort_index(),\n",
        "    \"F. Relativa\": data_raw['label'].value_counts(normalize=True).sort_index(),\n",
        "})"
      ],
      "metadata": {
        "id": "EkiUxk8il_JG",
        "colab": {
          "base_uri": "https://localhost:8080/",
          "height": 112
        },
        "outputId": "310a8c49-fec8-45e6-8d25-2957c306b926"
      },
      "id": "EkiUxk8il_JG",
      "execution_count": 11,
      "outputs": [
        {
          "output_type": "execute_result",
          "data": {
            "text/plain": [
              "     Review  F. Absoluta  F. Relativa\n",
              "0  Negativa        20019     0.500475\n",
              "1  Positiva        19981     0.499525"
            ],
            "text/html": [
              "\n",
              "  <div id=\"df-d40a23c6-a7af-4955-a406-0973584d803c\" class=\"colab-df-container\">\n",
              "    <div>\n",
              "<style scoped>\n",
              "    .dataframe tbody tr th:only-of-type {\n",
              "        vertical-align: middle;\n",
              "    }\n",
              "\n",
              "    .dataframe tbody tr th {\n",
              "        vertical-align: top;\n",
              "    }\n",
              "\n",
              "    .dataframe thead th {\n",
              "        text-align: right;\n",
              "    }\n",
              "</style>\n",
              "<table border=\"1\" class=\"dataframe\">\n",
              "  <thead>\n",
              "    <tr style=\"text-align: right;\">\n",
              "      <th></th>\n",
              "      <th>Review</th>\n",
              "      <th>F. Absoluta</th>\n",
              "      <th>F. Relativa</th>\n",
              "    </tr>\n",
              "  </thead>\n",
              "  <tbody>\n",
              "    <tr>\n",
              "      <th>0</th>\n",
              "      <td>Negativa</td>\n",
              "      <td>20019</td>\n",
              "      <td>0.500475</td>\n",
              "    </tr>\n",
              "    <tr>\n",
              "      <th>1</th>\n",
              "      <td>Positiva</td>\n",
              "      <td>19981</td>\n",
              "      <td>0.499525</td>\n",
              "    </tr>\n",
              "  </tbody>\n",
              "</table>\n",
              "</div>\n",
              "    <div class=\"colab-df-buttons\">\n",
              "\n",
              "  <div class=\"colab-df-container\">\n",
              "    <button class=\"colab-df-convert\" onclick=\"convertToInteractive('df-d40a23c6-a7af-4955-a406-0973584d803c')\"\n",
              "            title=\"Convert this dataframe to an interactive table.\"\n",
              "            style=\"display:none;\">\n",
              "\n",
              "  <svg xmlns=\"http://www.w3.org/2000/svg\" height=\"24px\" viewBox=\"0 -960 960 960\">\n",
              "    <path d=\"M120-120v-720h720v720H120Zm60-500h600v-160H180v160Zm220 220h160v-160H400v160Zm0 220h160v-160H400v160ZM180-400h160v-160H180v160Zm440 0h160v-160H620v160ZM180-180h160v-160H180v160Zm440 0h160v-160H620v160Z\"/>\n",
              "  </svg>\n",
              "    </button>\n",
              "\n",
              "  <style>\n",
              "    .colab-df-container {\n",
              "      display:flex;\n",
              "      gap: 12px;\n",
              "    }\n",
              "\n",
              "    .colab-df-convert {\n",
              "      background-color: #E8F0FE;\n",
              "      border: none;\n",
              "      border-radius: 50%;\n",
              "      cursor: pointer;\n",
              "      display: none;\n",
              "      fill: #1967D2;\n",
              "      height: 32px;\n",
              "      padding: 0 0 0 0;\n",
              "      width: 32px;\n",
              "    }\n",
              "\n",
              "    .colab-df-convert:hover {\n",
              "      background-color: #E2EBFA;\n",
              "      box-shadow: 0px 1px 2px rgba(60, 64, 67, 0.3), 0px 1px 3px 1px rgba(60, 64, 67, 0.15);\n",
              "      fill: #174EA6;\n",
              "    }\n",
              "\n",
              "    .colab-df-buttons div {\n",
              "      margin-bottom: 4px;\n",
              "    }\n",
              "\n",
              "    [theme=dark] .colab-df-convert {\n",
              "      background-color: #3B4455;\n",
              "      fill: #D2E3FC;\n",
              "    }\n",
              "\n",
              "    [theme=dark] .colab-df-convert:hover {\n",
              "      background-color: #434B5C;\n",
              "      box-shadow: 0px 1px 3px 1px rgba(0, 0, 0, 0.15);\n",
              "      filter: drop-shadow(0px 1px 2px rgba(0, 0, 0, 0.3));\n",
              "      fill: #FFFFFF;\n",
              "    }\n",
              "  </style>\n",
              "\n",
              "    <script>\n",
              "      const buttonEl =\n",
              "        document.querySelector('#df-d40a23c6-a7af-4955-a406-0973584d803c button.colab-df-convert');\n",
              "      buttonEl.style.display =\n",
              "        google.colab.kernel.accessAllowed ? 'block' : 'none';\n",
              "\n",
              "      async function convertToInteractive(key) {\n",
              "        const element = document.querySelector('#df-d40a23c6-a7af-4955-a406-0973584d803c');\n",
              "        const dataTable =\n",
              "          await google.colab.kernel.invokeFunction('convertToInteractive',\n",
              "                                                    [key], {});\n",
              "        if (!dataTable) return;\n",
              "\n",
              "        const docLinkHtml = 'Like what you see? Visit the ' +\n",
              "          '<a target=\"_blank\" href=https://colab.research.google.com/notebooks/data_table.ipynb>data table notebook</a>'\n",
              "          + ' to learn more about interactive tables.';\n",
              "        element.innerHTML = '';\n",
              "        dataTable['output_type'] = 'display_data';\n",
              "        await google.colab.output.renderOutput(dataTable, element);\n",
              "        const docLink = document.createElement('div');\n",
              "        docLink.innerHTML = docLinkHtml;\n",
              "        element.appendChild(docLink);\n",
              "      }\n",
              "    </script>\n",
              "  </div>\n",
              "\n",
              "\n",
              "    <div id=\"df-b6457db7-7750-4bc3-855c-9d13eb400ce1\">\n",
              "      <button class=\"colab-df-quickchart\" onclick=\"quickchart('df-b6457db7-7750-4bc3-855c-9d13eb400ce1')\"\n",
              "                title=\"Suggest charts\"\n",
              "                style=\"display:none;\">\n",
              "\n",
              "<svg xmlns=\"http://www.w3.org/2000/svg\" height=\"24px\"viewBox=\"0 0 24 24\"\n",
              "     width=\"24px\">\n",
              "    <g>\n",
              "        <path d=\"M19 3H5c-1.1 0-2 .9-2 2v14c0 1.1.9 2 2 2h14c1.1 0 2-.9 2-2V5c0-1.1-.9-2-2-2zM9 17H7v-7h2v7zm4 0h-2V7h2v10zm4 0h-2v-4h2v4z\"/>\n",
              "    </g>\n",
              "</svg>\n",
              "      </button>\n",
              "\n",
              "<style>\n",
              "  .colab-df-quickchart {\n",
              "      --bg-color: #E8F0FE;\n",
              "      --fill-color: #1967D2;\n",
              "      --hover-bg-color: #E2EBFA;\n",
              "      --hover-fill-color: #174EA6;\n",
              "      --disabled-fill-color: #AAA;\n",
              "      --disabled-bg-color: #DDD;\n",
              "  }\n",
              "\n",
              "  [theme=dark] .colab-df-quickchart {\n",
              "      --bg-color: #3B4455;\n",
              "      --fill-color: #D2E3FC;\n",
              "      --hover-bg-color: #434B5C;\n",
              "      --hover-fill-color: #FFFFFF;\n",
              "      --disabled-bg-color: #3B4455;\n",
              "      --disabled-fill-color: #666;\n",
              "  }\n",
              "\n",
              "  .colab-df-quickchart {\n",
              "    background-color: var(--bg-color);\n",
              "    border: none;\n",
              "    border-radius: 50%;\n",
              "    cursor: pointer;\n",
              "    display: none;\n",
              "    fill: var(--fill-color);\n",
              "    height: 32px;\n",
              "    padding: 0;\n",
              "    width: 32px;\n",
              "  }\n",
              "\n",
              "  .colab-df-quickchart:hover {\n",
              "    background-color: var(--hover-bg-color);\n",
              "    box-shadow: 0 1px 2px rgba(60, 64, 67, 0.3), 0 1px 3px 1px rgba(60, 64, 67, 0.15);\n",
              "    fill: var(--button-hover-fill-color);\n",
              "  }\n",
              "\n",
              "  .colab-df-quickchart-complete:disabled,\n",
              "  .colab-df-quickchart-complete:disabled:hover {\n",
              "    background-color: var(--disabled-bg-color);\n",
              "    fill: var(--disabled-fill-color);\n",
              "    box-shadow: none;\n",
              "  }\n",
              "\n",
              "  .colab-df-spinner {\n",
              "    border: 2px solid var(--fill-color);\n",
              "    border-color: transparent;\n",
              "    border-bottom-color: var(--fill-color);\n",
              "    animation:\n",
              "      spin 1s steps(1) infinite;\n",
              "  }\n",
              "\n",
              "  @keyframes spin {\n",
              "    0% {\n",
              "      border-color: transparent;\n",
              "      border-bottom-color: var(--fill-color);\n",
              "      border-left-color: var(--fill-color);\n",
              "    }\n",
              "    20% {\n",
              "      border-color: transparent;\n",
              "      border-left-color: var(--fill-color);\n",
              "      border-top-color: var(--fill-color);\n",
              "    }\n",
              "    30% {\n",
              "      border-color: transparent;\n",
              "      border-left-color: var(--fill-color);\n",
              "      border-top-color: var(--fill-color);\n",
              "      border-right-color: var(--fill-color);\n",
              "    }\n",
              "    40% {\n",
              "      border-color: transparent;\n",
              "      border-right-color: var(--fill-color);\n",
              "      border-top-color: var(--fill-color);\n",
              "    }\n",
              "    60% {\n",
              "      border-color: transparent;\n",
              "      border-right-color: var(--fill-color);\n",
              "    }\n",
              "    80% {\n",
              "      border-color: transparent;\n",
              "      border-right-color: var(--fill-color);\n",
              "      border-bottom-color: var(--fill-color);\n",
              "    }\n",
              "    90% {\n",
              "      border-color: transparent;\n",
              "      border-bottom-color: var(--fill-color);\n",
              "    }\n",
              "  }\n",
              "</style>\n",
              "\n",
              "      <script>\n",
              "        async function quickchart(key) {\n",
              "          const quickchartButtonEl =\n",
              "            document.querySelector('#' + key + ' button');\n",
              "          quickchartButtonEl.disabled = true;  // To prevent multiple clicks.\n",
              "          quickchartButtonEl.classList.add('colab-df-spinner');\n",
              "          try {\n",
              "            const charts = await google.colab.kernel.invokeFunction(\n",
              "                'suggestCharts', [key], {});\n",
              "          } catch (error) {\n",
              "            console.error('Error during call to suggestCharts:', error);\n",
              "          }\n",
              "          quickchartButtonEl.classList.remove('colab-df-spinner');\n",
              "          quickchartButtonEl.classList.add('colab-df-quickchart-complete');\n",
              "        }\n",
              "        (() => {\n",
              "          let quickchartButtonEl =\n",
              "            document.querySelector('#df-b6457db7-7750-4bc3-855c-9d13eb400ce1 button');\n",
              "          quickchartButtonEl.style.display =\n",
              "            google.colab.kernel.accessAllowed ? 'block' : 'none';\n",
              "        })();\n",
              "      </script>\n",
              "    </div>\n",
              "\n",
              "    </div>\n",
              "  </div>\n"
            ],
            "application/vnd.google.colaboratory.intrinsic+json": {
              "type": "dataframe",
              "summary": "{\n  \"name\": \"})\",\n  \"rows\": 2,\n  \"fields\": [\n    {\n      \"column\": \"Review\",\n      \"properties\": {\n        \"dtype\": \"string\",\n        \"num_unique_values\": 2,\n        \"samples\": [\n          \"Positiva\",\n          \"Negativa\"\n        ],\n        \"semantic_type\": \"\",\n        \"description\": \"\"\n      }\n    },\n    {\n      \"column\": \"F. Absoluta\",\n      \"properties\": {\n        \"dtype\": \"number\",\n        \"std\": 26,\n        \"min\": 19981,\n        \"max\": 20019,\n        \"num_unique_values\": 2,\n        \"samples\": [\n          19981,\n          20019\n        ],\n        \"semantic_type\": \"\",\n        \"description\": \"\"\n      }\n    },\n    {\n      \"column\": \"F. Relativa\",\n      \"properties\": {\n        \"dtype\": \"number\",\n        \"std\": 0.0006717514421272246,\n        \"min\": 0.499525,\n        \"max\": 0.500475,\n        \"num_unique_values\": 2,\n        \"samples\": [\n          0.499525,\n          0.500475\n        ],\n        \"semantic_type\": \"\",\n        \"description\": \"\"\n      }\n    }\n  ]\n}"
            }
          },
          "metadata": {},
          "execution_count": 11
        }
      ]
    },
    {
      "cell_type": "markdown",
      "id": "CNfurSnbmf79",
      "metadata": {
        "id": "CNfurSnbmf79"
      },
      "source": [
        "***\n",
        "\n",
        "## 2.2. Limpieza de los datos\n",
        "\n",
        "En estas sección identificamos y corregimos:\n",
        "\n",
        "* Valores faltantes\n",
        "* Textos duplicados\n",
        "* Textos en otros idiomas distintos al inglés"
      ]
    },
    {
      "cell_type": "code",
      "source": [
        "data_raw.isna().sum()"
      ],
      "metadata": {
        "id": "2r0P2t_Ysjbq",
        "colab": {
          "base_uri": "https://localhost:8080/",
          "height": 147
        },
        "outputId": "3351b03a-ac0e-43be-86b0-b7e006b97d29"
      },
      "id": "2r0P2t_Ysjbq",
      "execution_count": 12,
      "outputs": [
        {
          "output_type": "execute_result",
          "data": {
            "text/plain": [
              "text     0\n",
              "label    0\n",
              "dtype: int64"
            ],
            "text/html": [
              "<div>\n",
              "<style scoped>\n",
              "    .dataframe tbody tr th:only-of-type {\n",
              "        vertical-align: middle;\n",
              "    }\n",
              "\n",
              "    .dataframe tbody tr th {\n",
              "        vertical-align: top;\n",
              "    }\n",
              "\n",
              "    .dataframe thead th {\n",
              "        text-align: right;\n",
              "    }\n",
              "</style>\n",
              "<table border=\"1\" class=\"dataframe\">\n",
              "  <thead>\n",
              "    <tr style=\"text-align: right;\">\n",
              "      <th></th>\n",
              "      <th>0</th>\n",
              "    </tr>\n",
              "  </thead>\n",
              "  <tbody>\n",
              "    <tr>\n",
              "      <th>text</th>\n",
              "      <td>0</td>\n",
              "    </tr>\n",
              "    <tr>\n",
              "      <th>label</th>\n",
              "      <td>0</td>\n",
              "    </tr>\n",
              "  </tbody>\n",
              "</table>\n",
              "</div><br><label><b>dtype:</b> int64</label>"
            ]
          },
          "metadata": {},
          "execution_count": 12
        }
      ]
    },
    {
      "cell_type": "code",
      "source": [
        "data_raw.duplicated().sum()"
      ],
      "metadata": {
        "id": "m3IgmRbWskuE",
        "colab": {
          "base_uri": "https://localhost:8080/"
        },
        "outputId": "324417f1-9a8e-4ddf-8686-ac2d37964a41"
      },
      "id": "m3IgmRbWskuE",
      "execution_count": 13,
      "outputs": [
        {
          "output_type": "execute_result",
          "data": {
            "text/plain": [
              "np.int64(277)"
            ]
          },
          "metadata": {},
          "execution_count": 13
        }
      ]
    },
    {
      "cell_type": "code",
      "source": [
        "data = data_raw.drop_duplicates(keep='first')\n",
        "\n",
        "# Frecuencias absoluta y relativa de cada clase\n",
        "pd.DataFrame({\n",
        "    \"Review\": index2label,\n",
        "    \"F. Absoluta\": data['label'].value_counts().sort_index(),\n",
        "    \"F. Relativa\": data['label'].value_counts(normalize=True).sort_index(),\n",
        "})"
      ],
      "metadata": {
        "id": "37qzkcBL3D3P",
        "colab": {
          "base_uri": "https://localhost:8080/",
          "height": 112
        },
        "outputId": "8c521a62-2acb-477d-dcbf-b8dd43fae71d"
      },
      "id": "37qzkcBL3D3P",
      "execution_count": 14,
      "outputs": [
        {
          "output_type": "execute_result",
          "data": {
            "text/plain": [
              "     Review  F. Absoluta  F. Relativa\n",
              "0  Negativa        19815     0.498829\n",
              "1  Positiva        19908     0.501171"
            ],
            "text/html": [
              "\n",
              "  <div id=\"df-fb39da8a-c38b-458d-b798-fa778674d3c9\" class=\"colab-df-container\">\n",
              "    <div>\n",
              "<style scoped>\n",
              "    .dataframe tbody tr th:only-of-type {\n",
              "        vertical-align: middle;\n",
              "    }\n",
              "\n",
              "    .dataframe tbody tr th {\n",
              "        vertical-align: top;\n",
              "    }\n",
              "\n",
              "    .dataframe thead th {\n",
              "        text-align: right;\n",
              "    }\n",
              "</style>\n",
              "<table border=\"1\" class=\"dataframe\">\n",
              "  <thead>\n",
              "    <tr style=\"text-align: right;\">\n",
              "      <th></th>\n",
              "      <th>Review</th>\n",
              "      <th>F. Absoluta</th>\n",
              "      <th>F. Relativa</th>\n",
              "    </tr>\n",
              "  </thead>\n",
              "  <tbody>\n",
              "    <tr>\n",
              "      <th>0</th>\n",
              "      <td>Negativa</td>\n",
              "      <td>19815</td>\n",
              "      <td>0.498829</td>\n",
              "    </tr>\n",
              "    <tr>\n",
              "      <th>1</th>\n",
              "      <td>Positiva</td>\n",
              "      <td>19908</td>\n",
              "      <td>0.501171</td>\n",
              "    </tr>\n",
              "  </tbody>\n",
              "</table>\n",
              "</div>\n",
              "    <div class=\"colab-df-buttons\">\n",
              "\n",
              "  <div class=\"colab-df-container\">\n",
              "    <button class=\"colab-df-convert\" onclick=\"convertToInteractive('df-fb39da8a-c38b-458d-b798-fa778674d3c9')\"\n",
              "            title=\"Convert this dataframe to an interactive table.\"\n",
              "            style=\"display:none;\">\n",
              "\n",
              "  <svg xmlns=\"http://www.w3.org/2000/svg\" height=\"24px\" viewBox=\"0 -960 960 960\">\n",
              "    <path d=\"M120-120v-720h720v720H120Zm60-500h600v-160H180v160Zm220 220h160v-160H400v160Zm0 220h160v-160H400v160ZM180-400h160v-160H180v160Zm440 0h160v-160H620v160ZM180-180h160v-160H180v160Zm440 0h160v-160H620v160Z\"/>\n",
              "  </svg>\n",
              "    </button>\n",
              "\n",
              "  <style>\n",
              "    .colab-df-container {\n",
              "      display:flex;\n",
              "      gap: 12px;\n",
              "    }\n",
              "\n",
              "    .colab-df-convert {\n",
              "      background-color: #E8F0FE;\n",
              "      border: none;\n",
              "      border-radius: 50%;\n",
              "      cursor: pointer;\n",
              "      display: none;\n",
              "      fill: #1967D2;\n",
              "      height: 32px;\n",
              "      padding: 0 0 0 0;\n",
              "      width: 32px;\n",
              "    }\n",
              "\n",
              "    .colab-df-convert:hover {\n",
              "      background-color: #E2EBFA;\n",
              "      box-shadow: 0px 1px 2px rgba(60, 64, 67, 0.3), 0px 1px 3px 1px rgba(60, 64, 67, 0.15);\n",
              "      fill: #174EA6;\n",
              "    }\n",
              "\n",
              "    .colab-df-buttons div {\n",
              "      margin-bottom: 4px;\n",
              "    }\n",
              "\n",
              "    [theme=dark] .colab-df-convert {\n",
              "      background-color: #3B4455;\n",
              "      fill: #D2E3FC;\n",
              "    }\n",
              "\n",
              "    [theme=dark] .colab-df-convert:hover {\n",
              "      background-color: #434B5C;\n",
              "      box-shadow: 0px 1px 3px 1px rgba(0, 0, 0, 0.15);\n",
              "      filter: drop-shadow(0px 1px 2px rgba(0, 0, 0, 0.3));\n",
              "      fill: #FFFFFF;\n",
              "    }\n",
              "  </style>\n",
              "\n",
              "    <script>\n",
              "      const buttonEl =\n",
              "        document.querySelector('#df-fb39da8a-c38b-458d-b798-fa778674d3c9 button.colab-df-convert');\n",
              "      buttonEl.style.display =\n",
              "        google.colab.kernel.accessAllowed ? 'block' : 'none';\n",
              "\n",
              "      async function convertToInteractive(key) {\n",
              "        const element = document.querySelector('#df-fb39da8a-c38b-458d-b798-fa778674d3c9');\n",
              "        const dataTable =\n",
              "          await google.colab.kernel.invokeFunction('convertToInteractive',\n",
              "                                                    [key], {});\n",
              "        if (!dataTable) return;\n",
              "\n",
              "        const docLinkHtml = 'Like what you see? Visit the ' +\n",
              "          '<a target=\"_blank\" href=https://colab.research.google.com/notebooks/data_table.ipynb>data table notebook</a>'\n",
              "          + ' to learn more about interactive tables.';\n",
              "        element.innerHTML = '';\n",
              "        dataTable['output_type'] = 'display_data';\n",
              "        await google.colab.output.renderOutput(dataTable, element);\n",
              "        const docLink = document.createElement('div');\n",
              "        docLink.innerHTML = docLinkHtml;\n",
              "        element.appendChild(docLink);\n",
              "      }\n",
              "    </script>\n",
              "  </div>\n",
              "\n",
              "\n",
              "    <div id=\"df-7d1563b0-558a-47ca-b3f9-1443eda4f360\">\n",
              "      <button class=\"colab-df-quickchart\" onclick=\"quickchart('df-7d1563b0-558a-47ca-b3f9-1443eda4f360')\"\n",
              "                title=\"Suggest charts\"\n",
              "                style=\"display:none;\">\n",
              "\n",
              "<svg xmlns=\"http://www.w3.org/2000/svg\" height=\"24px\"viewBox=\"0 0 24 24\"\n",
              "     width=\"24px\">\n",
              "    <g>\n",
              "        <path d=\"M19 3H5c-1.1 0-2 .9-2 2v14c0 1.1.9 2 2 2h14c1.1 0 2-.9 2-2V5c0-1.1-.9-2-2-2zM9 17H7v-7h2v7zm4 0h-2V7h2v10zm4 0h-2v-4h2v4z\"/>\n",
              "    </g>\n",
              "</svg>\n",
              "      </button>\n",
              "\n",
              "<style>\n",
              "  .colab-df-quickchart {\n",
              "      --bg-color: #E8F0FE;\n",
              "      --fill-color: #1967D2;\n",
              "      --hover-bg-color: #E2EBFA;\n",
              "      --hover-fill-color: #174EA6;\n",
              "      --disabled-fill-color: #AAA;\n",
              "      --disabled-bg-color: #DDD;\n",
              "  }\n",
              "\n",
              "  [theme=dark] .colab-df-quickchart {\n",
              "      --bg-color: #3B4455;\n",
              "      --fill-color: #D2E3FC;\n",
              "      --hover-bg-color: #434B5C;\n",
              "      --hover-fill-color: #FFFFFF;\n",
              "      --disabled-bg-color: #3B4455;\n",
              "      --disabled-fill-color: #666;\n",
              "  }\n",
              "\n",
              "  .colab-df-quickchart {\n",
              "    background-color: var(--bg-color);\n",
              "    border: none;\n",
              "    border-radius: 50%;\n",
              "    cursor: pointer;\n",
              "    display: none;\n",
              "    fill: var(--fill-color);\n",
              "    height: 32px;\n",
              "    padding: 0;\n",
              "    width: 32px;\n",
              "  }\n",
              "\n",
              "  .colab-df-quickchart:hover {\n",
              "    background-color: var(--hover-bg-color);\n",
              "    box-shadow: 0 1px 2px rgba(60, 64, 67, 0.3), 0 1px 3px 1px rgba(60, 64, 67, 0.15);\n",
              "    fill: var(--button-hover-fill-color);\n",
              "  }\n",
              "\n",
              "  .colab-df-quickchart-complete:disabled,\n",
              "  .colab-df-quickchart-complete:disabled:hover {\n",
              "    background-color: var(--disabled-bg-color);\n",
              "    fill: var(--disabled-fill-color);\n",
              "    box-shadow: none;\n",
              "  }\n",
              "\n",
              "  .colab-df-spinner {\n",
              "    border: 2px solid var(--fill-color);\n",
              "    border-color: transparent;\n",
              "    border-bottom-color: var(--fill-color);\n",
              "    animation:\n",
              "      spin 1s steps(1) infinite;\n",
              "  }\n",
              "\n",
              "  @keyframes spin {\n",
              "    0% {\n",
              "      border-color: transparent;\n",
              "      border-bottom-color: var(--fill-color);\n",
              "      border-left-color: var(--fill-color);\n",
              "    }\n",
              "    20% {\n",
              "      border-color: transparent;\n",
              "      border-left-color: var(--fill-color);\n",
              "      border-top-color: var(--fill-color);\n",
              "    }\n",
              "    30% {\n",
              "      border-color: transparent;\n",
              "      border-left-color: var(--fill-color);\n",
              "      border-top-color: var(--fill-color);\n",
              "      border-right-color: var(--fill-color);\n",
              "    }\n",
              "    40% {\n",
              "      border-color: transparent;\n",
              "      border-right-color: var(--fill-color);\n",
              "      border-top-color: var(--fill-color);\n",
              "    }\n",
              "    60% {\n",
              "      border-color: transparent;\n",
              "      border-right-color: var(--fill-color);\n",
              "    }\n",
              "    80% {\n",
              "      border-color: transparent;\n",
              "      border-right-color: var(--fill-color);\n",
              "      border-bottom-color: var(--fill-color);\n",
              "    }\n",
              "    90% {\n",
              "      border-color: transparent;\n",
              "      border-bottom-color: var(--fill-color);\n",
              "    }\n",
              "  }\n",
              "</style>\n",
              "\n",
              "      <script>\n",
              "        async function quickchart(key) {\n",
              "          const quickchartButtonEl =\n",
              "            document.querySelector('#' + key + ' button');\n",
              "          quickchartButtonEl.disabled = true;  // To prevent multiple clicks.\n",
              "          quickchartButtonEl.classList.add('colab-df-spinner');\n",
              "          try {\n",
              "            const charts = await google.colab.kernel.invokeFunction(\n",
              "                'suggestCharts', [key], {});\n",
              "          } catch (error) {\n",
              "            console.error('Error during call to suggestCharts:', error);\n",
              "          }\n",
              "          quickchartButtonEl.classList.remove('colab-df-spinner');\n",
              "          quickchartButtonEl.classList.add('colab-df-quickchart-complete');\n",
              "        }\n",
              "        (() => {\n",
              "          let quickchartButtonEl =\n",
              "            document.querySelector('#df-7d1563b0-558a-47ca-b3f9-1443eda4f360 button');\n",
              "          quickchartButtonEl.style.display =\n",
              "            google.colab.kernel.accessAllowed ? 'block' : 'none';\n",
              "        })();\n",
              "      </script>\n",
              "    </div>\n",
              "\n",
              "    </div>\n",
              "  </div>\n"
            ],
            "application/vnd.google.colaboratory.intrinsic+json": {
              "type": "dataframe",
              "summary": "{\n  \"name\": \"})\",\n  \"rows\": 2,\n  \"fields\": [\n    {\n      \"column\": \"Review\",\n      \"properties\": {\n        \"dtype\": \"string\",\n        \"num_unique_values\": 2,\n        \"samples\": [\n          \"Positiva\",\n          \"Negativa\"\n        ],\n        \"semantic_type\": \"\",\n        \"description\": \"\"\n      }\n    },\n    {\n      \"column\": \"F. Absoluta\",\n      \"properties\": {\n        \"dtype\": \"number\",\n        \"std\": 65,\n        \"min\": 19815,\n        \"max\": 19908,\n        \"num_unique_values\": 2,\n        \"samples\": [\n          19908,\n          19815\n        ],\n        \"semantic_type\": \"\",\n        \"description\": \"\"\n      }\n    },\n    {\n      \"column\": \"F. Relativa\",\n      \"properties\": {\n        \"dtype\": \"number\",\n        \"std\": 0.0016554875173161556,\n        \"min\": 0.49882939355033606,\n        \"max\": 0.5011706064496639,\n        \"num_unique_values\": 2,\n        \"samples\": [\n          0.5011706064496639,\n          0.49882939355033606\n        ],\n        \"semantic_type\": \"\",\n        \"description\": \"\"\n      }\n    }\n  ]\n}"
            }
          },
          "metadata": {},
          "execution_count": 14
        }
      ]
    },
    {
      "cell_type": "markdown",
      "source": [
        "Detectando otros idiomas:"
      ],
      "metadata": {
        "id": "znjAi7TSPK3f"
      },
      "id": "znjAi7TSPK3f"
    },
    {
      "cell_type": "code",
      "source": [
        "def detectar_idiomas(X: pd.DataFrame):\n",
        "  #Identificar los idiomas del dataframe y los índices de las filas que no están en inglés\n",
        "  X['idioma'] = X['text'].apply(lambda x: detect(x) if isinstance(x, str) and x.strip() else \"desconocido\")\n",
        "  indices_a_traducir = X[X['idioma'] != 'en'].index\n",
        "\n",
        "  # Imprimir textos en otros idiomas\n",
        "  print(\"Textos en otros idiomas:\")\n",
        "  for i in indices_a_traducir:\n",
        "    print(X.loc[i].text)\n",
        "\n",
        "  # Retornar el df ahora con la columna 'idioma'\n",
        "  return X"
      ],
      "metadata": {
        "id": "_WQ5tiJps-bO"
      },
      "id": "_WQ5tiJps-bO",
      "execution_count": 15,
      "outputs": []
    },
    {
      "cell_type": "code",
      "source": [
        "# %time data = detectar_idiomas(data)\n",
        "# data.idioma.value_counts()"
      ],
      "metadata": {
        "id": "17fC-8gv1YCD"
      },
      "id": "17fC-8gv1YCD",
      "execution_count": 16,
      "outputs": []
    },
    {
      "cell_type": "markdown",
      "source": [
        "El objetivo de esta sección es incorporar varios estilos de pre-procesamiento, probar diferentes maneras de depurar los textos como por ejemplo remover caracteres no alfanuméricos, a excepción de guiones o apóstrofes. También haremos uso de dos normalizadores: *Stemming* y *Lemmatization*, ...."
      ],
      "metadata": {
        "id": "vCm-sqa9t8D2"
      },
      "id": "vCm-sqa9t8D2"
    },
    {
      "cell_type": "markdown",
      "id": "_ypyorGqwmRl",
      "metadata": {
        "id": "_ypyorGqwmRl"
      },
      "source": [
        "***\n",
        "\n",
        "# 3. Definición de *pipelines* de procesamiento"
      ]
    },
    {
      "cell_type": "markdown",
      "id": "4370a607-ad43-4c5d-bddd-1a9370469409",
      "metadata": {
        "id": "4370a607-ad43-4c5d-bddd-1a9370469409"
      },
      "source": [
        "***\n",
        "\n",
        "## 3.1. *Pipeline* de preprocesamiento\n",
        "\n",
        "Se construye el conjunto **`english_stop`** a partir de las *stop-words* inglesas de **`NLTK`** y se define la función **`clean_and_tokenize`** [¹]:"
      ]
    },
    {
      "cell_type": "code",
      "source": [
        "english_stop = set(stopwords.words('english'))\n",
        "\n",
        "def clean_and_tokenize(text):\n",
        "    text = text.lower()\n",
        "\n",
        "    # Regex:\n",
        "    # [a-z0-9]+ (letras y dígitos)\n",
        "    # [!?] (exclamación y preguntas)\n",
        "    pattern = r\"[a-z0-9]+|[!?]\"\n",
        "    raw_tokens = re.findall(pattern, text)\n",
        "\n",
        "    # Filtrar stopwords solo en tokens alfanuméricos:\n",
        "    cleaned = []\n",
        "    for tok in raw_tokens:\n",
        "        if re.fullmatch(r\"[a-z0-9]+\", tok):\n",
        "            if tok in english_stop:\n",
        "                continue\n",
        "        # Mantener signos de puntuación y non-stopwrods\n",
        "        cleaned.append(tok)\n",
        "\n",
        "    return cleaned\n",
        "\n",
        "# Prueba\n",
        "example = data.loc[0, 'text']\n",
        "print(clean_and_tokenize(example))"
      ],
      "metadata": {
        "id": "XlF68jZ8yWYn",
        "colab": {
          "base_uri": "https://localhost:8080/"
        },
        "outputId": "d1554fc2-8076-4a20-af28-5c8066a40c68"
      },
      "id": "XlF68jZ8yWYn",
      "execution_count": 17,
      "outputs": [
        {
          "output_type": "stream",
          "name": "stdout",
          "text": [
            "['grew', 'b', '1965', 'watching', 'loving', 'thunderbirds', 'mates', 'school', 'watched', 'played', 'thunderbirds', 'school', 'lunch', 'school', 'wanted', 'virgil', 'scott', 'one', 'wanted', 'alan', 'counting', '5', 'became', 'art', 'form', 'took', 'children', 'see', 'movie', 'hoping', 'would', 'get', 'glimpse', 'loved', 'child', 'bitterly', 'disappointing', 'high', 'point', 'snappy', 'theme', 'tune', 'could', 'compare', 'original', 'score', 'thunderbirds', 'thankfully', 'early', 'saturday', 'mornings', 'one', 'television', 'channel', 'still', 'plays', 'reruns', 'series', 'gerry', 'anderson', 'wife', 'created', 'jonatha', 'frakes', 'hand', 'directors', 'chair', 'version', 'completely', 'hopeless', 'waste', 'film', 'utter', 'rubbish', 'cgi', 'remake', 'may', 'acceptable', 'replacing', 'marionettes', 'homo', 'sapiens', 'subsp', 'sapiens', 'huge', 'error', 'judgment']\n"
          ]
        }
      ]
    },
    {
      "cell_type": "markdown",
      "source": [
        "Se construye el vocabulario y define la función de codificación:\n",
        "\n",
        "1. **`all_tokens`** concatena todos los tokens de las reseñas ya limpiadas.  \n",
        "2. Con **`Counter`** se calcula **`freq`**, el conteo de frecuencia de cada token.  \n",
        "3. Se crea **`vocab`** guardando las 20 000 palabras más frecuentes y asignando\n",
        "   índices a partir del 2; los índices **`0`** y **`1`** quedan reservados para los\n",
        "   símbolos especiales **`<PAD>`** y **`<UNK>`** que se añaden después.\n",
        "4. **`encode(tokens, max_len)`** convierte una lista de tokens en su\n",
        "   representación numérica mediante el diccionario **`vocab`**.  \n",
        "   - Cada palabra se mapea a su índice; las fuera de vocabulario usan **`1`**  \n",
        "     (**`<UNK>`**).  \n",
        "   - La secuencia resultante se recorta a **`max_len`** y se rellena con **`0`**\n",
        "     (**`<PAD>`**) hasta alcanzar exactamente esa longitud.\n"
      ],
      "metadata": {
        "id": "TFInYXoOXHTh"
      },
      "id": "TFInYXoOXHTh"
    },
    {
      "cell_type": "code",
      "source": [
        "# Limpiar, tokenizar, y filtrar las palabras más comunes\n",
        "all_tokens = [tok for txt in data['text'] for tok in clean_and_tokenize(txt)]\n",
        "freq = Counter(all_tokens)\n",
        "TOP = 50_000\n",
        "vocab = {w:i+4 for i,(w,_) in enumerate(freq.most_common(TOP))}\n",
        "\n",
        "#Indicadores de padding, token desconocido, inicio y final de secuencia\n",
        "vocab.update({'<PAD>':0, '<UNK>':1, '<SOS>':2, '<EOS>':3})\n",
        "\n",
        "# Encoder\n",
        "def encode(tokens, max_len):\n",
        "    # Mapear tokens → ids, con id=1 para los tokens desconocidos (<UNK>)\n",
        "    seq = [vocab.get(t, 1) for t in tokens]\n",
        "    # Retornar la codificación con el padding apropiado\n",
        "    return seq[:max_len] + [vocab['<PAD>']] * max(0, max_len - len(seq))"
      ],
      "metadata": {
        "id": "zfp-stYtEt71"
      },
      "id": "zfp-stYtEt71",
      "execution_count": 34,
      "outputs": []
    },
    {
      "cell_type": "markdown",
      "source": [
        "La función **`load_google_vectors_bin`** genera la matriz de pesos que inicializará la capa **`Embedding`** del modelo:"
      ],
      "metadata": {
        "id": "dFNdGo_cXGTs"
      },
      "id": "dFNdGo_cXGTs"
    },
    {
      "cell_type": "code",
      "source": [
        "# 1. Carga Word2Vec\n",
        "def load_google_vectors_bin(bin_file: str,\n",
        "                            vocab: dict[str, int],\n",
        "                            emb_dim: int = 300) -> np.ndarray:\n",
        "    \"\"\"\n",
        "    Lee el fichero Word2Vec binario de Google News y devuelve la matriz\n",
        "    de pesos (|vocab| × emb_dim) lista para nn.Embedding.\n",
        "    Solo extrae los vectores de las palabras presentes en `vocab`;\n",
        "    el resto se inicializa aleatoriamente (N(0, 0.6²)).\n",
        "    \"\"\"\n",
        "    matrix = np.random.normal(scale=0.6,\n",
        "                              size=(len(vocab), emb_dim)\n",
        "                             ).astype(np.float32)\n",
        "\n",
        "    with open(bin_file, \"rb\") as f:\n",
        "        # Cabecera:  \"3000000 300\\n\"\n",
        "        header = f.readline()\n",
        "        total_words, dim = map(int, header.split())\n",
        "        assert dim == emb_dim, \"Dimensión de embedding inesperada\"\n",
        "\n",
        "        binary_len = emb_dim * 4  # 4 bytes • float32\n",
        "        for _ in range(total_words):\n",
        "            # 1) Leer palabra (bytes hasta el primer espacio)\n",
        "            word_bytes = []\n",
        "            while True:\n",
        "                ch = f.read(1)\n",
        "                if ch == b' ':          # separador palabra-vector\n",
        "                    word = b\"\".join(word_bytes).decode(\"utf-8\", \"ignore\")\n",
        "                    break\n",
        "                if ch != b'\\n':         # el \\n solo aparece en la cabecera\n",
        "                    word_bytes.append(ch)\n",
        "\n",
        "            # 2) Leer los 300 float32 (secuencia de 1200 bytes)\n",
        "            vec = np.frombuffer(f.read(binary_len), dtype=np.float32)\n",
        "\n",
        "            # 3) Copiar si la palabra está en nuestro vocabulario\n",
        "            if word in vocab:\n",
        "                matrix[vocab[word]] = vec\n",
        "\n",
        "    return matrix\n",
        "\n",
        "\n",
        "%time w2v_weights = load_google_vectors_bin(bin_path, vocab, emb_dim=300)"
      ],
      "metadata": {
        "id": "nZt2seoiKfRy",
        "colab": {
          "base_uri": "https://localhost:8080/"
        },
        "outputId": "df628b78-971c-41fd-f184-f7e37a0f5bd9"
      },
      "id": "nZt2seoiKfRy",
      "execution_count": 35,
      "outputs": [
        {
          "output_type": "stream",
          "name": "stdout",
          "text": [
            "CPU times: user 12.4 s, sys: 1.82 s, total: 14.2 s\n",
            "Wall time: 15.8 s\n"
          ]
        }
      ]
    },
    {
      "cell_type": "code",
      "source": [
        "len(vocab)"
      ],
      "metadata": {
        "id": "PNU8mFGZkdM5",
        "colab": {
          "base_uri": "https://localhost:8080/"
        },
        "outputId": "192a594d-05cc-459d-b426-ec0d82a54f7e"
      },
      "id": "PNU8mFGZkdM5",
      "execution_count": 36,
      "outputs": [
        {
          "output_type": "execute_result",
          "data": {
            "text/plain": [
              "50004"
            ]
          },
          "metadata": {},
          "execution_count": 36
        }
      ]
    },
    {
      "cell_type": "code",
      "source": [
        "def load_glove_vectors_txt(txt_file: str, vocab: dict[str, int], emb_dim: int = 300) -> np.ndarray:\n",
        "    # Inicializar aleatoriamente aquellas palabras que no están en GloVe\n",
        "    matrix = np.random.normal(\n",
        "        loc=0.0,\n",
        "        scale=0.6,\n",
        "        size=(len(vocab), emb_dim)\n",
        "    ).astype(np.float32)\n",
        "\n",
        "    # Iterar cada línea de GloVe, sin cargar todo el file\n",
        "    with open(txt_file, 'r', encoding='utf-8') as f:\n",
        "        for line in f:\n",
        "            parts = line.rstrip().split(' ')\n",
        "            word = parts[0]\n",
        "            # La línea debe tener la dimensión esperada\n",
        "            if len(parts) - 1 != emb_dim:\n",
        "                continue\n",
        "\n",
        "            if word in vocab:\n",
        "                vector = np.asarray(parts[1:], dtype=np.float32)\n",
        "                matrix[vocab[word]] = vector\n",
        "\n",
        "    return matrix"
      ],
      "metadata": {
        "id": "nNzNtqJTl-v2"
      },
      "id": "nNzNtqJTl-v2",
      "execution_count": 37,
      "outputs": []
    },
    {
      "cell_type": "code",
      "source": [
        "%time glove_weights = load_glove_vectors_txt(txt_file=\"glove.6B.300d.txt\", vocab=vocab, emb_dim=300)"
      ],
      "metadata": {
        "id": "CeWGPQH2e2LH",
        "colab": {
          "base_uri": "https://localhost:8080/"
        },
        "outputId": "76a6528b-73cb-4192-f19a-5af103115d68"
      },
      "id": "CeWGPQH2e2LH",
      "execution_count": 38,
      "outputs": [
        {
          "output_type": "stream",
          "name": "stdout",
          "text": [
            "CPU times: user 8.87 s, sys: 594 ms, total: 9.47 s\n",
            "Wall time: 9.36 s\n"
          ]
        }
      ]
    },
    {
      "cell_type": "markdown",
      "source": [
        "Se construye la matriz **`w2v_weights`** aplicando **`load_google_vectors_bin`** al modelo *Word2Vec GoogleNews*.\n",
        "\n",
        "Esto vectores se cracteríza por capturar relaciones aditivas (“king − man + woman ≈ queen”) y mejoraron sustancialmente las tareas de analogías y similitud frente a métodos previos. Es un amplio vocabulario y la granularidad de 300 dimensiones hacen que todavía sea un punto de partida competitivo para tareas de PLN en inglés, sobre todo cuando el corpus propio es pequeño o se busca ahorrar tiempo de entrenamiento."
      ],
      "metadata": {
        "id": "MFBM8AiDXFqo"
      },
      "id": "MFBM8AiDXFqo"
    },
    {
      "cell_type": "markdown",
      "source": [
        "Nube de palabras"
      ],
      "metadata": {
        "id": "IOYz0UWa9jRl"
      },
      "id": "IOYz0UWa9jRl"
    },
    {
      "cell_type": "code",
      "source": [
        "def generar_wordcloud(X: pd.DataFrame):\n",
        "\n",
        "  # Foo\n",
        "  X_preprocesado = X.text.apply(lambda x: clean_and_tokenize(x))\n",
        "  texto_nube = ' '.join(w for text in X_preprocesado for w in text)\n",
        "\n",
        "  # Generación Nube de Palabras\n",
        "  wordcloud = WordCloud(\n",
        "      width=800,\n",
        "      height=400,\n",
        "      background_color ='white',\n",
        "      min_font_size=10,\n",
        "      max_font_size=110,\n",
        "      max_words=100\n",
        "  ).generate(texto_nube)\n",
        "  plt.figure(figsize=(10, 10))\n",
        "  plt.imshow(wordcloud)\n",
        "  plt.axis('off')\n",
        "  plt.show()"
      ],
      "metadata": {
        "id": "sBwcvN1xtktk"
      },
      "id": "sBwcvN1xtktk",
      "execution_count": 23,
      "outputs": []
    },
    {
      "cell_type": "code",
      "source": [
        "%time generar_wordcloud(data)"
      ],
      "metadata": {
        "id": "3Rof6FeuAQNF",
        "colab": {
          "base_uri": "https://localhost:8080/",
          "height": 461
        },
        "outputId": "7c285e6d-038a-48f9-fb28-57e1c8b63865"
      },
      "id": "3Rof6FeuAQNF",
      "execution_count": 24,
      "outputs": [
        {
          "output_type": "display_data",
          "data": {
            "text/plain": [
              "<Figure size 1000x1000 with 1 Axes>"
            ],
            "image/png": "[encoded data removed]"
          },
          "metadata": {}
        },
        {
          "output_type": "stream",
          "name": "stdout",
          "text": [
            "CPU times: user 38.1 s, sys: 1.4 s, total: 39.5 s\n",
            "Wall time: 42.9 s\n"
          ]
        }
      ]
    },
    {
      "cell_type": "code",
      "source": [
        "N = 500\n",
        "palabras = list(vocab.keys())[:N]\n",
        "vectores_w2v   = np.stack([w2v_weights[vocab[p]]   for p in palabras])\n",
        "vectores_glove = np.stack([glove_weights[vocab[p]] for p in palabras])\n",
        "\n",
        "# 2) Concatenar y normalizar\n",
        "V = np.vstack([vectores_w2v, vectores_glove])\n",
        "V = StandardScaler().fit_transform(V)\n",
        "\n",
        "# 3) PCA para reducción inicial (p. ej. a 50 dimensiones)\n",
        "pca = PCA(n_components=50, random_state=13)\n",
        "V_pca = pca.fit_transform(V)\n",
        "\n",
        "# 4) t-SNE en 3D\n",
        "tsne = TSNE(\n",
        "    n_components=3,\n",
        "    perplexity=40,\n",
        "    init='pca',\n",
        "    random_state=13,\n",
        "    learning_rate='auto'\n",
        ")\n",
        "X_tsne = tsne.fit_transform(V_pca)\n",
        "\n",
        "# 5) Preparar DataFrame para Plotly\n",
        "etiquetas = ['Word2Vec'] * N + ['GloVe'] * N\n",
        "palabras_total = palabras + palabras  # una lista de 2N: primera mitad Word2Vec, segunda mitad GloVe\n",
        "\n",
        "df = pd.DataFrame({\n",
        "    'x':        X_tsne[:, 0],\n",
        "    'y':        X_tsne[:, 1],\n",
        "    'z':        X_tsne[:, 2],\n",
        "    'palabra':  palabras_total,\n",
        "    'modelo':   etiquetas\n",
        "})\n",
        "\n",
        "# 6) Gráfico interactivo 3D\n",
        "fig = px.scatter_3d(\n",
        "    df,\n",
        "    x='x', y='y', z='z',\n",
        "    color='modelo',\n",
        "    hover_name='palabra',\n",
        "    title='t-SNE 3D — Word2Vec vs. GloVe'\n",
        ")\n",
        "fig.update_traces(marker=dict(size=3))\n",
        "fig.show()"
      ],
      "metadata": {
        "colab": {
          "base_uri": "https://localhost:8080/",
          "height": 542
        },
        "id": "VMKUatkRMTY6",
        "outputId": "74802138-1c9a-4164-b39f-815dd932e471"
      },
      "id": "VMKUatkRMTY6",
      "execution_count": 39,
      "outputs": [
        {
          "output_type": "display_data",
          "data": {
            "text/html": [
              "<html>\n",
              "<head><meta charset=\"utf-8\" /></head>\n",
              "<body>\n",
              "    <div>            <script src=\"https://cdnjs.cloudflare.com/ajax/libs/mathjax/2.7.5/MathJax.js?config=TeX-AMS-MML_SVG\"></script><script type=\"text/javascript\">if (window.MathJax && window.MathJax.Hub && window.MathJax.Hub.Config) {window.MathJax.Hub.Config({SVG: {font: \"STIX-Web\"}});}</script>                <script type=\"text/javascript\">window.PlotlyConfig = {MathJaxConfig: 'local'};</script>\n",
              "        <script charset=\"utf-8\" src=\"https://cdn.plot.ly/plotly-2.35.2.min.js\"></script>                <div id=\"a047b6e2-e6db-4746-b95e-f939d5068236\" class=\"plotly-graph-div\" style=\"height:525px; width:100%;\"></div>            <script type=\"text/javascript\">                                    window.PLOTLYENV=window.PLOTLYENV || {};                                    if (document.getElementById(\"a047b6e2-e6db-4746-b95e-f939d5068236\")) {                    Plotly.newPlot(                        \"a047b6e2-e6db-4746-b95e-f939d5068236\",                        [{\"hovertemplate\":\"\\u003cb\\u003e%{hovertext}\\u003c\\u002fb\\u003e\\u003cbr\\u003e\\u003cbr\\u003emodelo=Word2Vec\\u003cbr\\u003ex=%{x}\\u003cbr\\u003ey=%{y}\\u003cbr\\u003ez=%{z}\\u003cextra\\u003e\\u003c\\u002fextra\\u003e\",\"hovertext\":[\"br\",\"movie\",\"film\",\"one\",\"!\",\"like\",\"?\",\"good\",\"time\",\"even\",\"would\",\"really\",\"story\",\"see\",\"well\",\"much\",\"get\",\"bad\",\"also\",\"people\",\"great\",\"first\",\"made\",\"make\",\"way\",\"could\",\"movies\",\"characters\",\"think\",\"character\",\"watch\",\"films\",\"two\",\"seen\",\"many\",\"love\",\"plot\",\"never\",\"life\",\"acting\",\"best\",\"show\",\"little\",\"know\",\"ever\",\"man\",\"better\",\"end\",\"scene\",\"still\",\"say\",\"scenes\",\"something\",\"go\",\"back\",\"real\",\"thing\",\"watching\",\"actors\",\"director\",\"years\",\"though\",\"10\",\"funny\",\"old\",\"work\",\"actually\",\"another\",\"look\",\"nothing\",\"makes\",\"going\",\"find\",\"new\",\"lot\",\"every\",\"part\",\"world\",\"us\",\"cast\",\"things\",\"horror\",\"quite\",\"pretty\",\"want\",\"around\",\"seems\",\"young\",\"big\",\"take\",\"however\",\"enough\",\"got\",\"thought\",\"fact\",\"long\",\"give\",\"series\",\"may\",\"music\",\"right\",\"comedy\",\"guy\",\"action\",\"must\",\"without\",\"always\",\"times\",\"original\",\"saw\",\"almost\",\"gets\",\"role\",\"come\",\"done\",\"interesting\",\"point\",\"least\",\"whole\",\"bit\",\"far\",\"script\",\"2\",\"feel\",\"family\",\"minutes\",\"might\",\"last\",\"making\",\"anything\",\"since\",\"probably\",\"tv\",\"away\",\"performance\",\"kind\",\"yet\",\"girl\",\"fun\",\"woman\",\"anyone\",\"worst\",\"rather\",\"sure\",\"hard\",\"played\",\"day\",\"found\",\"screen\",\"especially\",\"looking\",\"although\",\"believe\",\"course\",\"trying\",\"dvd\",\"everything\",\"set\",\"ending\",\"comes\",\"goes\",\"maybe\",\"put\",\"three\",\"let\",\"book\",\"shows\",\"place\",\"worth\",\"different\",\"actor\",\"sense\",\"main\",\"american\",\"someone\",\"true\",\"looks\",\"effects\",\"watched\",\"reason\",\"play\",\"everyone\",\"money\",\"war\",\"together\",\"year\",\"job\",\"1\",\"high\",\"plays\",\"instead\",\"audience\",\"said\",\"black\",\"later\",\"half\",\"seem\",\"takes\",\"special\",\"night\",\"left\",\"seeing\",\"beautiful\",\"john\",\"wife\",\"shot\",\"excellent\",\"house\",\"idea\",\"star\",\"version\",\"mind\",\"else\",\"death\",\"fan\",\"men\",\"budget\",\"nice\",\"used\",\"father\",\"short\",\"simply\",\"poor\",\"3\",\"read\",\"completely\",\"along\",\"second\",\"top\",\"help\",\"less\",\"home\",\"boring\",\"dead\",\"kids\",\"either\",\"hollywood\",\"line\",\"friends\",\"try\",\"low\",\"given\",\"wrong\",\"enjoy\",\"camera\",\"full\",\"women\",\"use\",\"classic\",\"production\",\"school\",\"stupid\",\"need\",\"couple\",\"performances\",\"rest\",\"next\",\"truly\",\"awful\",\"video\",\"start\",\"sex\",\"recommend\",\"tell\",\"mean\",\"perhaps\",\"terrible\",\"understand\",\"getting\",\"face\",\"remember\",\"moments\",\"came\",\"name\",\"keep\",\"small\",\"perfect\",\"person\",\"playing\",\"human\",\"style\",\"definitely\",\"boy\",\"early\",\"mother\",\"wonderful\",\"head\",\"others\",\"episode\",\"often\",\"stars\",\"written\",\"piece\",\"dialogue\",\"lines\",\"live\",\"gives\",\"children\",\"case\",\"yes\",\"laugh\",\"friend\",\"lost\",\"loved\",\"finally\",\"certainly\",\"title\",\"absolutely\",\"oh\",\"went\",\"entertaining\",\"liked\",\"sort\",\"cinema\",\"worse\",\"felt\",\"picture\",\"mr\",\"become\",\"overall\",\"hope\",\"5\",\"several\",\"drama\",\"entire\",\"based\",\"supposed\",\"sound\",\"called\",\"white\",\"guys\",\"dark\",\"problem\",\"4\",\"fans\",\"care\",\"waste\",\"beginning\",\"lead\",\"game\",\"humor\",\"seemed\",\"lives\",\"wanted\",\"direction\",\"despite\",\"totally\",\"guess\",\"evil\",\"final\",\"throughout\",\"example\",\"already\",\"becomes\",\"unfortunately\",\"son\",\"able\",\"turn\",\"quality\",\"killer\",\"michael\",\"b\",\"history\",\"wants\",\"days\",\"heart\",\"side\",\"flick\",\"writing\",\"amazing\",\"fine\",\"god\",\"horrible\",\"matter\",\"run\",\"art\",\"kill\",\"close\",\"act\",\"town\",\"etc\",\"child\",\"works\",\"behind\",\"turns\",\"viewer\",\"today\",\"genre\",\"tries\",\"brilliant\",\"stuff\",\"late\",\"parts\",\"past\",\"eyes\",\"kid\",\"directed\",\"expect\",\"enjoyed\",\"gave\",\"girls\",\"hand\",\"soon\",\"obviously\",\"car\",\"favorite\",\"highly\",\"stop\",\"hour\",\"actress\",\"city\",\"sometimes\",\"thinking\",\"killed\",\"type\",\"daughter\",\"self\",\"blood\",\"group\",\"starts\",\"decent\",\"says\",\"voice\",\"heard\",\"happens\",\"took\",\"writer\",\"fight\",\"known\",\"anyway\",\"except\",\"slow\",\"experience\",\"feeling\",\"coming\",\"leave\",\"stories\",\"score\",\"roles\",\"involved\",\"hero\",\"moment\",\"happen\",\"lack\",\"violence\",\"chance\",\"complete\",\"told\",\"ok\",\"crap\",\"particularly\",\"hit\",\"cool\",\"simple\",\"save\",\"extremely\",\"police\",\"wonder\",\"hell\",\"age\",\"strong\",\"living\",\"please\",\"david\",\"cannot\",\"hilarious\",\"song\",\"looked\",\"attempt\",\"serious\",\"taken\",\"robert\",\"including\",\"obvious\",\"cut\",\"murder\",\"ago\",\"shown\",\"brother\",\"james\",\"happened\",\"husband\",\"released\",\"gore\",\"reality\",\"exactly\",\"none\",\"english\",\"seriously\",\"jokes\",\"running\",\"possible\",\"alone\",\"opening\",\"across\",\"cinematography\",\"sad\",\"usually\",\"number\",\"interest\"],\"legendgroup\":\"Word2Vec\",\"marker\":{\"color\":\"#636efa\",\"symbol\":\"circle\",\"size\":3},\"mode\":\"markers\",\"name\":\"Word2Vec\",\"scene\":\"scene\",\"showlegend\":true,\"x\":[-23.795748,-30.348183,-29.842457,2.620308,-15.1914015,6.017184,-20.167288,13.095903,6.245139,-6.974314,-3.1798868,-0.59231555,-22.790318,5.920473,-6.403102,-7.963459,12.347465,-12.627143,-7.1944366,1.3533643,11.686256,6.108355,20.89086,16.639025,-8.650352,-0.45658106,-30.20025,-28.355043,-0.7977545,-26.78506,22.230505,-32.127335,-3.2823577,-24.579332,-2.357563,2.1372306,-28.672813,-6.454562,4.740236,-26.428228,12.038671,-23.654783,6.2183924,-0.77096325,-9.237488,14.594934,13.859583,9.909544,-35.871143,-7.5291595,-1.7925034,-33.75057,-1.6274787,10.482336,14.147079,-11.492021,-5.093102,20.783936,-31.15616,8.31227,5.677045,-6.992446,1.8244947,-16.57075,11.00156,-11.0831375,-6.870718,6.063764,9.995899,-5.950607,18.656574,9.80353,2.7629094,-6.45758,2.5562475,3.0659559,-1.2627343,4.557119,-7.115507,-25.173143,-2.9103897,-25.55737,3.4118958,5.1689043,4.0312996,-1.5757827,3.4562793,2.3737836,14.354429,17.292309,-4.982167,-3.5744991,16.663065,-1.3155227,-13.733069,-10.952555,20.281828,1.8258572,-3.652413,-25.309288,10.937136,-23.564959,-0.1776221,-21.057821,-2.8497756,-8.706189,-4.744079,5.2236695,-20.799437,20.737055,1.4680191,19.212492,-27.196543,14.483617,6.259322,8.637714,8.43346,-0.2880763,-7.664715,5.699287,-9.553693,-27.014858,-7.800473,1.8492116,8.249655,15.622708,-2.4881983,7.424277,18.29526,-7.0276203,5.269135,-3.734728,-27.010288,13.340313,-23.549269,0.23440865,-11.246216,18.640675,-9.408832,14.943187,-7.634679,15.914666,-2.5962026,2.0080361,10.909528,22.390015,8.161591,2.1981952,-29.730307,-0.42870253,11.777854,-7.744723,0.6472902,4.263576,10.148762,-29.888622,-7.063572,2.8674755,10.834422,18.100597,17.639214,-4.385101,14.62209,-1.2099042,8.302269,-29.53928,-23.00506,8.855504,-0.8490988,10.695863,-31.69409,4.387196,6.5678854,-22.439243,-4.513681,-13.507002,13.466585,-17.52979,23.54652,-15.046985,19.204996,-10.091866,-11.214803,-6.6228747,18.872099,4.308372,-16.30705,-9.44754,-12.812756,18.021126,-3.8281107,-30.361002,0.7385776,-30.496655,11.862602,1.2277623,-0.29366884,20.735151,-10.200967,11.776645,14.18403,8.59892,8.129941,-25.282194,14.773412,18.7091,17.706219,9.036069,0.6277764,7.3434973,-22.170893,-12.625243,-11.077809,-1.108436,11.017217,1.6620855,0.76060385,7.338132,-8.397544,10.510983,-14.945232,-8.572714,-14.634058,-10.4521675,-28.155886,-12.951533,-5.0653367,7.217498,7.2177544,3.4844654,-2.595249,10.715878,-13.663048,0.17401838,6.3690996,-8.222996,-27.76745,-11.627417,11.020984,8.749462,-13.25873,23.208996,-11.521568,15.339779,-26.421677,-3.1697483,0.87450206,-9.613132,-20.65798,-22.273191,8.535346,-15.228916,0.30407214,-0.37993947,-24.735807,-4.241652,6.4913526,-10.152184,-13.417596,-23.249283,7.1801076,-5.487175,-6.3012185,-3.2400684,-5.2304897,-3.9472811,-11.392322,0.68491966,13.790821,7.9050465,-4.1242204,-23.194216,22.063013,2.6892436,10.518203,-8.497043,-16.348106,-2.6658232,20.314829,-5.7351513,-16.89037,2.7635152,17.600344,11.586356,14.287592,9.425675,4.82276,-0.7944658,-23.67076,-4.813171,5.2652874,-28.006483,-20.690886,-32.597267,-14.650276,9.001369,22.308731,6.4797945,-17.65504,-13.684558,-13.542911,14.106569,18.552307,4.622261,15.481059,0.25008854,-22.736813,-13.532791,-16.88398,21.039925,-16.10313,3.8626964,-0.20699047,-34.149666,-16.216347,0.063034914,-18.874264,-21.685368,-7.015371,4.1096,5.416042,-7.4223022,-5.034061,-23.129446,-7.5068636,-1.2100828,10.413542,-17.581413,-6.7992544,-31.325022,2.7506092,-25.47461,-9.08883,-6.6508236,13.460578,-1.5001289,2.655768,5.2452507,5.6810975,17.029991,-20.06651,0.7015052,7.973618,6.1531153,5.319482,-10.68868,-12.761268,-4.786282,-19.73444,7.993945,-9.358374,-15.460028,-4.459811,17.79859,-11.5674095,9.286433,1.9761606,11.214239,-9.297563,-4.956592,-24.964386,-20.470758,0.33445436,5.850476,8.762214,-1.7358854,9.460467,-34.146915,-31.265053,9.285999,-11.283953,-17.130075,-11.635339,-15.54458,14.384305,-16.730377,-6.6111565,13.384069,-22.373804,7.053606,-18.876509,9.885758,-13.56785,11.974464,14.79019,-30.663723,-3.9676497,-31.25061,6.3079424,-19.100569,-3.01983,10.952348,-12.24162,2.7371643,-11.181524,3.1111686,-26.206703,0.4756597,17.58967,23.32487,4.415312,1.8211133,-11.568233,0.2234107,14.961282,8.843434,-15.836212,7.4379764,15.24241,-31.548061,6.2266607,-5.8423114,-5.2312965,-0.21320239,-0.5640506,11.475388,-13.722838,-1.9142666,-0.09987365,5.9254994,13.547633,2.6038842,-31.288609,-3.9220436,11.816847,22.574808,-30.165722,14.905376,-11.235197,-6.7254395,-15.699905,-17.010464,2.5530186,1.293396,13.874663,18.605335,-19.929169,12.212333,-25.838343,-1.1659515,8.9442425,-20.082693,8.944537,-7.9671273,-0.2592029,10.289482,-1.0548594,-0.90474445,-17.708244,-20.010065,1.5006729,15.092554,-6.1919374,-11.973647,-10.890239,4.6827188,13.016787,-7.1419754,-10.662816,6.9205337,-16.886108,9.13821,-11.967668,-24.830975,-12.415547,-19.745298,-27.428625,14.654361,9.544743,-12.71362,20.627718,-24.06646,-2.7178378,-14.40306,-8.333927,-2.3568838,10.187062,-25.449884,9.166528,-28.162252,10.195446,13.753988,-16.162453,-25.563946,-18.062412,-4.4248323,1.1140041,-23.952087,-11.910806,-17.54562,14.259676,-6.893459,1.3481488,8.720738,-5.9041395,-27.988548,-6.83273,-3.838333,-1.3941625,-11.589668],\"y\":[-13.713121,-26.91298,-30.618511,0.69817847,2.614765,-26.800499,7.573963,-32.106495,1.665016,-9.804383,-7.5702424,-29.018671,-30.51976,-20.85325,0.8151837,-8.132504,-15.577377,-29.302229,5.593177,-7.4700303,-33.923134,15.52897,-5.039948,-5.981403,-14.282018,-9.006387,-27.333265,-24.894972,-28.01654,-25.565456,-24.397213,-30.829113,17.105669,6.0293007,-0.8955974,-43.06031,-26.204765,-24.825237,-13.80836,-5.4445295,12.818381,-1.1510745,-27.601425,-26.50861,-15.470355,-9.151089,-29.012861,16.337414,-23.541092,-0.42213044,-20.955675,-25.477488,-29.617285,-11.9805155,2.225077,-20.723024,-34.219387,-23.438997,-28.6032,2.865524,10.630443,-3.539333,10.83153,-36.064224,-10.961312,-6.816515,-18.259155,0.74576664,-23.43953,-29.555435,-9.545553,-13.322276,-18.193462,9.439631,-32.041267,-1.4445311,1.6079147,5.4573197,-28.111832,-18.961527,-31.84098,-25.664217,-20.148054,-24.193924,-14.355356,6.5314417,-13.757863,-10.59803,-30.554752,-8.3071995,-1.6740011,-5.7801623,-16.492706,-32.496387,-13.952106,-0.72104883,-12.2287,15.624977,-12.405218,-17.246424,-8.801849,-30.346014,-38.474617,-0.9373006,-11.415643,-3.6945574,-25.769688,5.995096,-5.8423457,-14.772192,3.3168516,-18.457365,2.0971308,-11.577367,-19.323055,-29.505552,3.9620109,-0.4417045,-22.858942,-26.296007,-4.3600407,-30.657942,23.488832,-31.841225,-15.225256,7.8377123,-11.111309,11.506762,-4.1294756,-31.43088,10.944075,-20.658783,-22.613724,-0.17937806,-13.928973,-25.707218,-2.8763418,-10.4123535,-40.347363,-8.590573,-27.1068,15.147841,-9.215166,-24.059269,-22.917833,-18.645018,5.193903,-14.124769,-13.107018,-16.341225,-19.848104,0.3933508,-22.026766,-2.7715073,-8.531629,-21.617502,-32.09982,22.287964,16.959263,-14.969058,-18.826097,-25.554935,-10.851155,14.80468,-9.155631,-5.5055895,1.4381946,0.37744123,7.3750477,-25.461681,-35.39307,-33.49789,10.780771,-23.073502,-25.114017,-18.301022,-24.196653,0.02542831,-20.495016,-11.080059,-20.938797,-28.65362,-12.894113,10.760343,4.5965543,7.5552106,-20.591785,20.519789,12.232902,-17.582428,-6.738771,-15.173707,-1.5371497,-5.1257763,10.89715,17.929153,-16.057728,-16.118977,10.59563,4.4148216,-2.846041,-19.366444,-39.245663,-19.874964,-15.706665,-3.5198045,-34.403915,-7.0628695,-28.454378,-28.032347,-7.3494687,-16.726818,-28.751307,-19.387346,-27.460829,-8.663544,26.31379,-32.471786,-7.9229774,-15.275081,0.32699007,-11.058136,11.062938,20.98411,-10.807029,-17.672504,4.0085,17.75543,11.542604,-6.392946,-5.957947,-3.9585783,-38.604572,-15.675347,-36.911705,-6.697721,-26.027565,17.154778,-17.903465,-7.028134,14.493309,-9.779191,-31.082308,-38.77713,-12.22688,13.452171,-5.806882,-11.140353,-7.9080696,0.18520047,0.067419425,-29.766436,-14.08344,18.678219,-15.286837,0.33261406,15.254259,-19.27156,-34.835457,-13.244021,19.864565,-8.437596,-15.5385065,-25.212086,-18.712866,-11.703798,-33.269005,-27.203375,-19.000198,0.30006906,-30.722542,-21.622786,-11.417103,-19.284529,-15.5496645,4.491633,-8.546016,-22.04354,-21.129608,7.5287147,-13.489295,-28.918941,-11.735409,15.980905,-13.616674,-37.60179,1.4744412,-5.5672593,-23.387291,-16.718388,-27.003023,-6.3414044,-13.209852,-5.116903,16.797281,-12.447779,-15.49083,-10.3074,-11.568379,-21.446712,-37.015053,-17.818205,13.143449,-41.75202,5.2087607,-20.962513,-4.0114737,-22.117657,-23.060478,-8.667492,-39.665142,-36.311314,-22.823257,-30.409668,-31.136616,-35.191933,-14.619167,-21.343554,-7.473274,9.168439,-19.62407,22.523832,13.844088,-26.911695,-0.41856533,10.269297,-14.233039,-12.735172,-3.1931047,-3.0197537,-37.18215,-5.951179,-11.927232,19.711632,-26.813536,-10.66111,-9.011755,16.306057,4.4158444,-23.66572,-33.389168,-10.651302,-16.486343,-10.357213,-9.158836,8.767813,-20.658184,-26.136301,-22.99266,19.718153,5.610211,-6.495749,3.4012773,-8.529231,-25.493391,-16.567503,-8.297311,-6.91032,-4.10743,-18.861185,-20.59045,-15.495898,6.855494,-11.569211,8.641356,-19.83733,-5.708414,-25.477945,-6.167665,-34.809338,0.9245419,-21.752254,-31.654139,-5.3168335,-2.21247,-9.92778,-18.007376,20.345362,-6.2249694,-3.4761765,-18.77066,-8.769139,-5.3435416,-1.6395732,-14.041186,-17.863716,7.129464,-21.951962,-4.7575603,-8.876345,-36.724403,14.556742,-0.5817063,10.645017,-14.812216,-38.12314,-2.6932285,-18.228765,-37.117676,-13.17321,-6.620405,-3.8033965,5.288964,-24.88968,-7.2237267,12.814832,1.7994698,-4.8422856,6.8640194,-38.10933,-1.3694766,-18.271662,-31.367498,-15.690033,-21.78068,-12.650291,1.4386231,-11.399943,5.765496,20.96546,-34.75328,-1.3958259,-10.951665,-5.1293406,-21.187292,-8.009086,-32.699528,-11.270633,-1.676752,-21.259062,-3.290825,10.637251,-18.73115,-35.629128,-14.207269,-2.4521925,-29.474258,5.5256643,3.6267254,0.36661544,-23.756851,-22.555717,-23.2223,-7.7891855,-3.3068974,-3.3756316,15.745849,-2.7899125,-25.065601,-27.724855,-14.42153,-5.984299,-38.9,-10.109034,16.31719,-17.025698,-4.4401064,-24.637646,-27.59031,-9.611169,6.36227,-13.2046995,-18.891975,-24.784216,-7.8449807,-36.181805,-19.226952,-22.758175,-3.3149943,-11.607619,-5.2286353,-24.659435,10.587458,-26.043095,12.533479,-22.176346,9.457876,3.9270048,-19.088957,-22.983032,-19.025768,-18.1108,7.62879,-29.312346,-20.375982,-19.49945,-3.4363613,-19.378788,-13.306935,-36.260212,-2.121768,-0.17154847,3.6073453,22.505896,6.1661954,-33.886154,-34.39547,-15.071051,12.78426,5.082652],\"z\":[-13.996611,5.2110176,5.0876985,15.583115,36.504585,2.6253965,26.075315,8.38293,8.780032,11.88756,-1.1530586,8.084921,16.42237,-2.6793664,5.4090466,7.247455,4.231257,-1.3991221,15.9106245,27.13893,4.7353935,14.633476,-3.0025315,-2.4240017,5.3610225,-0.27658838,1.3613884,9.54388,1.5718992,12.847691,9.841172,1.4629955,20.869026,9.2424,17.529892,4.3506594,15.95939,15.909315,26.183582,10.924313,26.937565,14.108837,12.158789,-3.7540023,11.19319,31.645948,10.19768,9.91346,13.6991625,15.949316,-4.1970305,11.24338,15.145885,3.2744036,16.771214,6.6396875,9.064975,12.274966,9.378248,-2.7329376,6.626345,12.356137,39.281178,7.2557235,29.217903,2.2913263,7.0095253,17.378967,-4.4232883,16.6386,-7.226105,-2.8273892,-1.517972,10.362861,10.923377,21.384842,6.338917,3.5331726,8.47172,12.595464,11.997991,3.7826679,8.1611185,8.234819,-6.3917747,22.795929,6.269409,29.305374,3.631828,2.5335553,10.007123,3.8830895,3.9530704,3.9605103,15.414241,6.8453875,0.29850373,4.0584955,-0.31223473,5.010693,10.230267,6.429595,17.864313,20.757853,-4.4501524,19.09196,12.064107,15.517034,2.1235294,9.239477,12.466428,-5.039378,25.712236,0.8621498,4.7728987,-0.093494765,20.996641,12.529583,8.193121,15.082381,7.2746468,10.134279,11.467849,-2.0678217,30.378868,8.582213,2.7014053,16.309671,-4.9589505,19.449413,12.87971,5.317771,-8.350152,21.53831,22.041727,11.636654,11.841869,35.473938,6.945809,35.97492,22.061134,27.08402,13.603219,-0.25383314,12.717236,19.0442,9.32059,-0.03232963,8.663572,12.322043,-4.346157,12.069267,-5.8842254,10.945934,-7.063938,-10.268371,13.997379,12.6969,6.320966,-7.870134,-9.342438,4.4367976,5.393491,20.116323,0.39981014,-0.41673553,12.491528,12.5235815,13.685271,3.926433,9.361284,-6.532732,29.04541,-10.886762,22.696505,9.940149,-5.769812,24.591658,11.085261,20.664381,21.810541,12.48444,-14.0421915,2.767698,20.710112,9.522965,29.595186,9.654754,25.934313,20.221966,17.09499,16.181814,-2.450461,21.009874,17.932978,16.894152,5.835693,-9.897842,8.935444,9.379976,14.718612,-0.62199014,-0.3350696,-14.470401,39.878693,19.943623,8.610686,23.079939,19.720274,33.203243,4.857815,4.6010127,16.85393,35.88713,25.039932,33.847214,21.72749,6.1872435,-4.776095,34.919495,5.4120965,15.600645,30.904911,13.4858675,-0.14060858,19.335445,20.665926,16.859432,25.17953,1.3475887,10.786768,21.884018,0.43584135,37.893997,19.374937,15.069904,-10.248589,19.498417,29.393385,-3.551762,27.836681,-1.5510545,3.8522446,0.6540734,9.781128,12.4484415,34.802784,-5.818696,-2.4516177,4.184466,32.22295,-8.284856,-6.790967,23.599825,19.604729,23.591835,20.448177,12.66514,-6.875238,7.0430393,11.139658,35.413284,-7.2209077,-6.7615385,-1.1016804,9.449662,-3.728431,-7.3648896,5.067227,4.752546,-3.3828454,19.825321,7.267242,28.979609,10.349219,9.971504,-8.299035,25.16532,18.280281,5.2560105,4.575832,5.5063157,31.944738,18.059849,35.835133,3.2819083,-1.7086964,24.733797,10.512918,20.288397,31.516384,3.692826,0.8309453,8.46879,19.728354,19.432405,-2.7813299,34.27901,15.301443,-5.7464356,10.100423,31.75641,18.600643,5.6254935,15.697084,4.5703893,-2.5660245,15.746987,-8.075364,10.0870075,3.1257923,5.791286,10.103179,5.532487,-1.1809148,0.47597966,-2.4696562,-15.7837925,-14.5443325,23.521772,-7.3491607,15.442463,22.549124,8.46903,25.730228,6.551296,-6.6554904,9.112329,-4.5721283,19.313564,14.526572,20.573935,19.781883,12.757048,23.24957,21.016644,18.972467,10.128869,24.74715,21.411478,9.700897,6.451759,23.901487,-6.546188,12.034465,19.79076,20.198803,0.08138529,0.61098,20.588514,26.135984,23.090324,15.277154,-11.389402,1.3243103,38.575916,-3.8324676,2.748322,29.261896,34.167828,-18.873392,-12.473154,0.7210081,-11.668297,6.75751,-18.642874,15.287497,2.7135603,3.1754568,1.0320052,18.960258,-3.093504,-6.5250077,10.576235,9.401952,1.6567563,30.062773,14.376491,12.819796,30.92044,-10.948076,34.31601,0.73388016,16.7967,-11.195422,14.332827,10.365771,6.858594,-9.578128,-5.9397054,12.397208,15.095767,24.962631,16.74398,0.43917277,19.655014,5.9170346,-10.364667,-0.4957897,2.6822133,37.6177,6.006997,3.5674355,5.1420593,22.601894,32.070587,12.105664,7.4570246,5.4843984,7.797166,28.950294,17.267271,3.0567248,41.012634,14.748895,38.960384,32.751465,29.320343,7.4701533,7.6490073,11.76815,-4.879255,16.292854,-8.457122,-12.267878,5.8123593,14.111447,14.102749,-2.972241,2.7095265,16.874573,15.136517,19.59873,-3.6729896,-1.3218163,11.768306,15.956902,24.105682,27.707293,1.0710857,30.551079,21.437315,-12.81881,22.384308,30.820343,-2.3319714,10.346251,-6.512152,-11.081535,-8.545201,13.816014,17.62516,1.4087077,9.737252,11.942381,13.457506,29.603588,-3.8989823,-10.0788965,28.06329,19.970745,22.848063,-9.49722,-15.071987,15.850162,5.6871457,4.2027764,-1.4862639,-8.217164,29.26707,4.615621,-19.078184,18.144749,6.7342076,15.212236,36.596306,13.158174,12.635395,35.08504,-16.82861,-14.9124775,36.878967,8.686318,-0.23349959,8.043333,10.312336,15.87771,-7.941698,26.795872,11.414031,6.0731,1.5869612,18.584167,15.464061,24.790407,1.480037,-7.044326,17.098873,25.549507,14.408609],\"type\":\"scatter3d\"},{\"hovertemplate\":\"\\u003cb\\u003e%{hovertext}\\u003c\\u002fb\\u003e\\u003cbr\\u003e\\u003cbr\\u003emodelo=GloVe\\u003cbr\\u003ex=%{x}\\u003cbr\\u003ey=%{y}\\u003cbr\\u003ez=%{z}\\u003cextra\\u003e\\u003c\\u002fextra\\u003e\",\"hovertext\":[\"br\",\"movie\",\"film\",\"one\",\"!\",\"like\",\"?\",\"good\",\"time\",\"even\",\"would\",\"really\",\"story\",\"see\",\"well\",\"much\",\"get\",\"bad\",\"also\",\"people\",\"great\",\"first\",\"made\",\"make\",\"way\",\"could\",\"movies\",\"characters\",\"think\",\"character\",\"watch\",\"films\",\"two\",\"seen\",\"many\",\"love\",\"plot\",\"never\",\"life\",\"acting\",\"best\",\"show\",\"little\",\"know\",\"ever\",\"man\",\"better\",\"end\",\"scene\",\"still\",\"say\",\"scenes\",\"something\",\"go\",\"back\",\"real\",\"thing\",\"watching\",\"actors\",\"director\",\"years\",\"though\",\"10\",\"funny\",\"old\",\"work\",\"actually\",\"another\",\"look\",\"nothing\",\"makes\",\"going\",\"find\",\"new\",\"lot\",\"every\",\"part\",\"world\",\"us\",\"cast\",\"things\",\"horror\",\"quite\",\"pretty\",\"want\",\"around\",\"seems\",\"young\",\"big\",\"take\",\"however\",\"enough\",\"got\",\"thought\",\"fact\",\"long\",\"give\",\"series\",\"may\",\"music\",\"right\",\"comedy\",\"guy\",\"action\",\"must\",\"without\",\"always\",\"times\",\"original\",\"saw\",\"almost\",\"gets\",\"role\",\"come\",\"done\",\"interesting\",\"point\",\"least\",\"whole\",\"bit\",\"far\",\"script\",\"2\",\"feel\",\"family\",\"minutes\",\"might\",\"last\",\"making\",\"anything\",\"since\",\"probably\",\"tv\",\"away\",\"performance\",\"kind\",\"yet\",\"girl\",\"fun\",\"woman\",\"anyone\",\"worst\",\"rather\",\"sure\",\"hard\",\"played\",\"day\",\"found\",\"screen\",\"especially\",\"looking\",\"although\",\"believe\",\"course\",\"trying\",\"dvd\",\"everything\",\"set\",\"ending\",\"comes\",\"goes\",\"maybe\",\"put\",\"three\",\"let\",\"book\",\"shows\",\"place\",\"worth\",\"different\",\"actor\",\"sense\",\"main\",\"american\",\"someone\",\"true\",\"looks\",\"effects\",\"watched\",\"reason\",\"play\",\"everyone\",\"money\",\"war\",\"together\",\"year\",\"job\",\"1\",\"high\",\"plays\",\"instead\",\"audience\",\"said\",\"black\",\"later\",\"half\",\"seem\",\"takes\",\"special\",\"night\",\"left\",\"seeing\",\"beautiful\",\"john\",\"wife\",\"shot\",\"excellent\",\"house\",\"idea\",\"star\",\"version\",\"mind\",\"else\",\"death\",\"fan\",\"men\",\"budget\",\"nice\",\"used\",\"father\",\"short\",\"simply\",\"poor\",\"3\",\"read\",\"completely\",\"along\",\"second\",\"top\",\"help\",\"less\",\"home\",\"boring\",\"dead\",\"kids\",\"either\",\"hollywood\",\"line\",\"friends\",\"try\",\"low\",\"given\",\"wrong\",\"enjoy\",\"camera\",\"full\",\"women\",\"use\",\"classic\",\"production\",\"school\",\"stupid\",\"need\",\"couple\",\"performances\",\"rest\",\"next\",\"truly\",\"awful\",\"video\",\"start\",\"sex\",\"recommend\",\"tell\",\"mean\",\"perhaps\",\"terrible\",\"understand\",\"getting\",\"face\",\"remember\",\"moments\",\"came\",\"name\",\"keep\",\"small\",\"perfect\",\"person\",\"playing\",\"human\",\"style\",\"definitely\",\"boy\",\"early\",\"mother\",\"wonderful\",\"head\",\"others\",\"episode\",\"often\",\"stars\",\"written\",\"piece\",\"dialogue\",\"lines\",\"live\",\"gives\",\"children\",\"case\",\"yes\",\"laugh\",\"friend\",\"lost\",\"loved\",\"finally\",\"certainly\",\"title\",\"absolutely\",\"oh\",\"went\",\"entertaining\",\"liked\",\"sort\",\"cinema\",\"worse\",\"felt\",\"picture\",\"mr\",\"become\",\"overall\",\"hope\",\"5\",\"several\",\"drama\",\"entire\",\"based\",\"supposed\",\"sound\",\"called\",\"white\",\"guys\",\"dark\",\"problem\",\"4\",\"fans\",\"care\",\"waste\",\"beginning\",\"lead\",\"game\",\"humor\",\"seemed\",\"lives\",\"wanted\",\"direction\",\"despite\",\"totally\",\"guess\",\"evil\",\"final\",\"throughout\",\"example\",\"already\",\"becomes\",\"unfortunately\",\"son\",\"able\",\"turn\",\"quality\",\"killer\",\"michael\",\"b\",\"history\",\"wants\",\"days\",\"heart\",\"side\",\"flick\",\"writing\",\"amazing\",\"fine\",\"god\",\"horrible\",\"matter\",\"run\",\"art\",\"kill\",\"close\",\"act\",\"town\",\"etc\",\"child\",\"works\",\"behind\",\"turns\",\"viewer\",\"today\",\"genre\",\"tries\",\"brilliant\",\"stuff\",\"late\",\"parts\",\"past\",\"eyes\",\"kid\",\"directed\",\"expect\",\"enjoyed\",\"gave\",\"girls\",\"hand\",\"soon\",\"obviously\",\"car\",\"favorite\",\"highly\",\"stop\",\"hour\",\"actress\",\"city\",\"sometimes\",\"thinking\",\"killed\",\"type\",\"daughter\",\"self\",\"blood\",\"group\",\"starts\",\"decent\",\"says\",\"voice\",\"heard\",\"happens\",\"took\",\"writer\",\"fight\",\"known\",\"anyway\",\"except\",\"slow\",\"experience\",\"feeling\",\"coming\",\"leave\",\"stories\",\"score\",\"roles\",\"involved\",\"hero\",\"moment\",\"happen\",\"lack\",\"violence\",\"chance\",\"complete\",\"told\",\"ok\",\"crap\",\"particularly\",\"hit\",\"cool\",\"simple\",\"save\",\"extremely\",\"police\",\"wonder\",\"hell\",\"age\",\"strong\",\"living\",\"please\",\"david\",\"cannot\",\"hilarious\",\"song\",\"looked\",\"attempt\",\"serious\",\"taken\",\"robert\",\"including\",\"obvious\",\"cut\",\"murder\",\"ago\",\"shown\",\"brother\",\"james\",\"happened\",\"husband\",\"released\",\"gore\",\"reality\",\"exactly\",\"none\",\"english\",\"seriously\",\"jokes\",\"running\",\"possible\",\"alone\",\"opening\",\"across\",\"cinematography\",\"sad\",\"usually\",\"number\",\"interest\"],\"legendgroup\":\"GloVe\",\"marker\":{\"color\":\"#EF553B\",\"symbol\":\"circle\",\"size\":3},\"mode\":\"markers\",\"name\":\"GloVe\",\"scene\":\"scene\",\"showlegend\":true,\"x\":[-2.8052497,31.173979,29.612038,17.20907,0.20979765,-0.04814532,1.7498223,-0.07818089,12.633307,1.9274402,-15.284902,5.697086,31.350811,1.1769665,5.8551173,4.470431,-9.884673,-1.4767674,5.3233523,10.340804,3.3998733,21.003485,-19.640116,-11.8295355,-4.4030275,-18.286955,28.513445,28.93444,2.8372989,30.713009,-6.2916865,27.31707,18.797342,3.4801795,12.40083,11.603424,-31.466612,-3.2572787,21.188162,25.527142,5.396376,6.6707544,-15.184341,1.1505178,6.419732,18.210068,-2.8962305,-28.359016,-19.340523,6.678617,-13.601169,-18.889742,7.8455997,-5.247176,-4.0666723,-10.992685,5.8735948,-5.3274937,28.649076,32.333588,16.181868,1.4913317,20.262201,17.224434,19.618116,20.981262,-3.6000283,16.280848,0.22156742,-4.76024,-18.754229,-2.9984348,-15.327818,-11.762615,-7.929895,-24.277098,-15.387572,3.2030985,-5.207879,29.19231,5.992968,31.587349,8.017405,9.051764,-9.617907,-25.81341,1.4169717,24.43523,1.681808,-10.593218,0.12667426,-10.845238,-7.29362,4.4656825,-5.228278,20.80685,-12.766126,9.343571,-19.208143,19.774343,-6.7942333,36.385586,22.805973,-20.23907,-17.335836,-15.335309,2.8035004,15.703961,1.0009937,5.6701264,13.380843,-14.398505,24.45945,-2.4688137,-4.542638,12.270328,9.920724,13.924588,-39.89358,-12.099368,5.0101895,36.96193,17.689447,15.3466,42.0113,23.33737,-17.65595,11.826514,-19.619642,-6.0482645,14.557622,0.37896222,8.243551,-1.581835,-3.8053513,12.282221,-0.060066007,30.206902,11.361444,21.644238,-9.557302,-4.051064,-10.60319,-1.8283826,-6.1288934,30.499493,13.56768,6.676865,27.880344,9.075016,0.7248367,1.6664337,-11.446734,-2.7882154,-21.792807,4.8866878,-6.3717523,-8.785482,-31.443062,-20.023273,-18.558348,1.6169049,-8.442303,20.324581,-5.6781864,34.60913,4.7266273,8.23864,-7.561907,19.871937,30.611763,16.982718,-22.664469,-1.2799829,-11.873254,-5.932312,-2.6851897,-1.773806,-2.215256,-8.924389,32.12963,-4.374046,-8.096847,-25.92474,-10.613252,11.834294,-6.2096076,18.584328,30.001785,34.226562,-12.670892,9.494097,-19.02335,-32.731213,1.8895404,16.79095,2.89372,-18.958735,2.3109853,15.183113,-1.0231514,3.717373,11.462082,33.630875,36.877254,10.723898,-0.47084397,-26.044752,13.122597,37.228306,1.9015849,11.027914,-6.945448,-9.3320465,8.559681,19.798536,-8.996519,0.9915848,-23.973145,37.16935,23.20377,-9.986566,-8.481884,21.292053,7.9576335,-20.236923,-23.49567,23.280983,-5.185931,-18.38084,7.6811566,3.0473733,6.0523486,-7.920999,25.41906,-14.1997595,31.27635,-39.73219,41.001575,-22.978315,31.40816,0.89894766,0.77236784,28.644506,29.314919,-39.725048,22.562658,-21.507029,14.304576,-7.258992,28.194662,2.6626709,-14.15422,18.094822,-3.9614313,-10.625106,7.8989897,7.1533585,2.5086436,6.8015575,-28.78871,29.905365,-14.690839,0.8797867,-7.2598367,2.0436528,1.657754,5.20661,-10.402563,-9.651368,5.994547,22.986382,6.443056,-37.67816,-11.7211,-22.187933,3.7766778,-15.527202,30.881264,-6.5562205,23.79513,1.2048593,29.99376,16.063086,33.165817,8.05135,-3.7716403,10.99233,8.369969,13.497078,34.65756,36.163704,-39.871994,10.158945,-39.846664,6.5581355,-22.1341,26.098757,-22.311066,-1.0980725,13.645187,37.62817,9.694372,9.762741,-1.7617147,0.47657037,24.605337,-13.938323,-1.3111098,3.9183102,13.711799,7.764634,12.988872,25.8401,-4.7262177,17.672045,26.07571,1.8310539,-23.495474,-0.9221343,-11.595887,17.894712,15.043677,34.385544,-39.95578,-23.169748,-11.446443,15.7723675,-36.270256,-33.264446,18.313942,-32.21589,-12.837215,20.798725,7.460216,-16.33065,-12.11816,-25.855078,-12.583706,32.457672,19.52271,1.7908375,24.059519,-11.814258,5.4403143,-2.0581794,-17.890211,0.14148897,9.576471,26.540686,-19.476343,-19.304514,7.4425673,-26.547989,-3.8614416,33.71304,-16.60504,-6.587804,-3.1383214,-10.315145,30.040714,-19.084656,7.479448,-20.845388,15.952271,-5.277958,-7.852988,33.56176,38.542286,7.6113653,-2.7316623,9.554737,1.7498018,-8.9989195,-28.232185,21.519209,-10.92468,12.501524,-5.861977,-20.23694,2.4208703,29.108057,21.06772,-2.003057,-15.471778,12.032441,1.8181566,26.008171,-25.648333,7.1888714,7.1878924,18.446768,-15.074956,11.785526,-30.373365,24.872303,29.407124,-11.174182,30.51241,2.7653959,27.61279,-6.3960457,-3.0978427,3.2169437,-24.078596,10.767141,12.561298,-14.377995,20.128561,34.082687,-17.868883,12.128189,9.572629,-8.811593,-20.805527,33.407715,22.274792,-3.6648011,-26.073856,-31.446177,-2.10489,-20.112871,12.971286,7.411337,-8.334662,6.075731,39.356995,-17.585297,-37.003864,-3.6982021,-7.7623553,-5.699424,17.471275,18.129837,-0.16394956,-5.8569484,29.071411,34.099613,25.632935,-30.980762,-30.517866,20.65898,-6.120608,-5.734088,-20.469553,-14.710829,-38.000053,-18.247717,-1.8838044,5.0010347,10.849684,12.728064,-8.46995,-6.4996376,-18.762547,10.290334,-16.760855,6.8070436,3.77861,19.319466,0.6952178,22.457397,-2.8446734,28.79202,-19.943771,18.484297,21.6025,2.8530052,-25.774887,-3.5805104,5.2445827,32.273647,15.666128,-9.394789,-8.486938,-9.886858,15.21283,1.5547438,35.5082,30.688402,-6.7675176,36.95332,2.9844537,-0.6215816,-5.599149,-4.000549,-3.975922,-36.102413,-2.1957178,16.570023,-27.730852,-20.971584,-12.181149,27.530863,-22.162237,23.501421,7.0906157,9.540486,16.91444,3.0175],\"y\":[3.1158679,12.802391,10.194482,-3.0838125,41.471706,24.05519,34.201935,5.6624274,12.486372,11.547956,16.983784,25.80803,9.727373,20.804543,3.4947827,11.397148,31.44581,27.678589,1.149407,-5.5964394,7.055985,-1.4475679,4.4763265,18.571785,16.116116,18.420986,15.541179,5.8914924,27.718498,3.6942952,22.568033,13.503916,-3.966891,13.381025,0.08804057,30.300478,16.660072,12.637495,14.627682,9.2930155,0.7916665,-15.19811,39.766857,28.534466,33.029797,-10.639213,6.0637717,7.394155,2.004966,5.9910817,22.630688,0.28395554,29.429739,20.836464,10.037222,14.705369,30.18463,25.164356,4.242509,-16.726408,7.23083,7.6824727,-22.782953,40.634205,6.153683,24.897404,18.63681,-4.4318705,29.40606,23.983791,29.477177,22.109402,18.358984,5.163249,35.19252,32.561516,-4.800407,35.135822,30.94871,0.95310795,33.257053,18.391048,19.38147,21.658678,25.337023,-1.900862,18.48875,4.798222,21.250647,14.553912,3.101169,21.501654,35.30657,19.883337,18.323503,2.6937294,12.139725,-11.820984,14.336247,29.217339,5.750304,11.183925,16.845568,8.015319,24.10965,8.11898,23.304337,13.233798,-33.29015,9.7873535,10.875475,35.814693,7.6899643,18.280365,22.50421,32.695263,9.930652,1.9678183,10.1123905,40.410915,10.294332,14.839916,-29.45106,24.280119,-2.2107003,19.048931,18.219963,5.2856107,6.676594,26.066193,3.428672,18.018583,-19.870045,9.823459,-6.594392,26.945856,11.247051,2.4098396,37.89104,-11.867936,28.634445,28.610344,10.539789,26.945164,19.528881,-15.885286,15.412347,-0.00349431,1.1469578,6.401713,29.526508,4.5530353,21.30458,13.886354,18.162735,-27.319912,26.11815,6.5543294,7.5604362,33.45617,35.823387,32.553764,8.436448,-1.9850429,25.290648,11.786119,-16.929111,17.538832,34.153473,5.148209,7.3721323,27.249376,-5.3033643,29.389277,31.330076,16.040136,31.425493,23.271685,24.863338,19.495098,-12.714302,29.670124,34.420033,6.9561377,-1.1553636,6.2105117,8.446633,-29.243385,-11.434324,-15.735302,8.765395,26.813757,-3.535824,14.5932255,-5.104466,9.735376,19.175076,36.567795,-5.4656844,18.743631,6.7010884,16.451672,10.956213,-24.30155,0.533545,-5.316741,1.1379608,-15.678058,29.009348,1.5485461,-31.260605,31.92013,29.80394,-26.114649,21.504845,-13.955782,-12.972304,11.117082,21.233507,-5.433829,2.275046,13.73708,1.1147208,-28.22343,27.06669,25.350962,-3.6010864,-1.3304231,4.658789,22.53552,13.651406,7.21537,38.981888,-22.800098,11.778171,11.454417,13.410199,1.2152156,-4.617238,20.206549,-12.374598,1.0185704,33.250637,26.485989,-1.8618689,-11.429529,-14.566679,22.252193,5.86555,-8.956478,-10.046831,36.040848,25.4942,13.485288,-8.481637,3.2860215,13.501032,27.169163,29.052711,-25.59806,10.760798,7.021075,29.608837,27.653946,17.270756,16.335127,27.673704,29.00099,35.106457,-0.1194907,25.76254,29.997198,5.9437327,-3.3496323,25.797447,14.899711,5.2177606,32.241653,-16.020815,23.568419,21.805342,26.956228,4.3689156,23.768278,0.5644195,12.715816,-1.4839158,-1.710597,-13.925263,40.536488,2.2542777,12.712076,14.216801,-36.39882,1.4906211,-13.199422,34.778584,9.152211,21.267914,37.776867,40.777897,-5.3011675,5.972434,23.160877,-7.7996593,23.000565,-3.79438,28.878395,42.753086,5.2315784,36.85358,21.507275,29.248081,10.747183,27.047678,21.242281,1.9876527,-29.289106,11.122734,-6.7660394,13.331846,-25.487444,-1.8046843,12.237982,7.338527,-7.643142,21.058117,28.632729,-2.7447674,11.895128,19.791176,17.604465,19.969078,-25.743187,22.903511,28.508682,26.136494,11.383256,6.7906833,-9.06003,37.70012,15.40395,14.229669,26.285452,11.238885,1.4768875,26.955038,32.333763,39.1409,-3.5857232,-2.4440954,18.621489,6.7024,11.757084,21.473505,-6.5470557,19.988733,13.910086,-1.4760121,-24.387064,-26.6248,-7.2375994,30.630098,3.815159,13.3356695,3.1780043,1.3166786,20.25028,11.735832,15.530791,-13.209884,35.16709,30.835522,24.433706,2.182789,26.738552,-21.117683,8.214164,9.753966,-12.813206,4.647777,8.46205,25.994217,3.2697365,34.71679,27.331736,16.234056,21.351423,22.88667,6.7019854,38.14447,25.069813,-3.8164961,12.988037,20.950157,14.1109085,8.932174,19.98035,24.372396,4.6612635,3.10184,2.5766542,-5.4115467,24.081713,10.137018,5.25974,13.930819,16.386364,17.956984,8.531709,-12.117535,38.94113,33.139828,-20.802776,22.052444,-1.6289337,27.428314,1.2121733,-9.554295,12.482649,5.7254024,0.39311528,28.409458,23.954744,37.08958,1.7934918,8.339883,12.710212,-2.8747802,32.40361,5.793851,18.876148,16.700304,25.187284,16.152723,16.003141,10.667754,-4.28129,5.0105333,3.5098188,10.988018,29.10091,36.451523,1.4172516,5.76464,12.110646,-12.712088,-6.290594,36.576653,41.180923,8.650275,-1.8000674,27.352629,9.687967,22.241419,16.442045,-10.297099,28.173498,36.1075,6.924598,0.108355716,10.496546,28.674032,-23.645456,24.995901,38.09165,31.036848,33.31265,17.02316,43.404186,-0.71768713,-20.823887,-4.159547,14.911457,-10.557936,-29.122925,6.816283,-16.97545,-8.2192135,-23.06463,33.835613,-1.8392682,-26.57223,-27.846375,19.908577,30.590006,8.558747,-0.02526142,43.50396,40.28229,-0.63619393,20.189295,6.976572,-5.1173286,-3.160741,4.2365265,27.686323,40.570217,1.809058,14.588771],\"z\":[30.656652,14.310043,11.99967,-21.68887,-9.179539,-2.466151,-12.103734,-39.60451,-9.323092,-22.863735,-12.887503,-21.69161,-21.490337,-8.542075,-32.097363,-19.870522,-6.1821265,-31.25699,-29.085081,-26.296097,-35.077564,-15.46375,-15.534446,-7.0097017,-4.4706645,-13.44418,14.602223,-27.192158,-19.007637,-26.78161,31.366833,11.955135,-28.342117,-13.941682,-29.822666,-5.8617783,-1.3752825,-22.770176,1.9985952,26.203953,-36.67591,-25.514189,-11.631526,-14.601605,13.075206,-20.341038,-37.847504,-7.3518996,-5.6675034,-26.168001,-19.084724,-7.8705125,-19.264202,-9.805662,-9.588918,-34.17363,-23.16114,29.95043,23.399784,3.0666976,-9.124475,-24.724598,-18.604269,-19.65558,-15.835177,20.460367,-22.31395,-19.3207,-0.18944786,-24.00858,4.2797413,-12.701128,-3.4920275,-3.2401526,-10.938422,-1.7250452,-14.942684,14.629739,13.303405,23.213095,-19.278645,10.4444895,-28.382486,-25.231161,-9.435987,-21.030304,-28.33581,-10.221707,-0.1753044,-10.096701,-23.55878,-3.8227277,-5.214825,-19.495714,-27.531742,1.7770678,-8.743284,-33.682068,-17.037163,8.76313,-13.259646,12.531868,-16.091255,1.9928515,-9.5474615,-22.580921,-15.621687,-12.924648,-18.644571,-12.833902,-23.254831,-1.931197,28.9956,-7.7341137,-18.49144,-26.375269,-1.1068518,-23.17326,-1.0287977,-11.994439,-25.48271,-10.907027,-18.182026,-28.716263,0.31535813,-6.6637764,-16.924345,-12.409066,-13.534806,-21.639116,-10.262765,-19.61785,-25.727488,-6.723469,-35.75012,-21.116007,-27.023525,-8.560122,-21.194008,-19.018854,-21.158886,-37.777233,-18.864006,-17.57021,-1.7230903,-11.436128,-6.3188214,-23.764984,15.600863,-32.65952,2.8031154,-26.157227,-21.511677,-1.4930285,-1.2304363,-27.585396,-15.8755,-5.3857374,-6.868611,1.6498361,0.7653615,-17.388866,-8.548185,-26.857887,-8.172544,-17.439697,-27.013504,-1.7578752,13.378401,-31.481796,23.102812,-20.734594,-15.765509,14.573562,-18.593882,-30.884617,1.6176236,7.135993,30.996063,-25.80332,-13.8410225,-14.469108,6.844309,-4.1888595,-23.89249,-8.320887,-38.399742,-14.3434925,16.642355,-11.523487,-17.253382,26.854544,-34.367268,14.526133,-22.426714,-21.143867,-32.16197,5.2190313,-13.062462,-6.05889,-12.963786,-11.396497,-42.313026,1.2277951,2.1296659,-17.002134,-40.16407,-6.256065,-14.053481,18.94672,-20.395678,-11.323044,-18.169003,-23.668041,33.082775,-27.671082,-23.553612,-41.12935,20.800852,2.6792197,3.1556854,-19.352612,-34.60429,-17.706823,0.2448753,-30.870008,-19.264297,-17.423277,-3.7254045,-0.8975806,-23.723782,-6.806491,-25.307686,-27.938057,-11.0437975,-21.06629,17.902115,7.8741117,-4.5028734,-3.2296436,14.412123,-19.524324,-26.294407,-1.6598134,12.534739,-0.40501052,-27.69747,21.669277,35.309223,-31.70899,19.725874,-29.315117,-6.89585,10.251691,-38.03238,-23.182993,-7.297722,-28.069235,-34.570503,-26.301924,-12.265783,-2.394298,21.72823,-9.967021,-19.55041,-23.377806,-38.113,-13.709508,-6.846033,-10.421326,-9.444338,-9.69712,-12.887292,-13.006798,-0.30429587,10.397814,-42.357746,-19.013906,-14.695669,20.02899,7.515666,-23.61374,-10.963401,-0.9477153,0.034928355,-41.587997,-12.775722,-27.176939,-31.506794,5.5814075,19.764767,-14.570192,-2.0715342,-12.335245,10.674011,-21.161089,7.200769,-7.5895305,-22.37373,-13.204474,-15.238919,-2.7764614,-17.8932,-11.24833,-20.742922,-22.19168,-13.198111,-30.256504,-11.789787,-10.632833,-24.028767,-15.183308,-19.418955,14.90773,-33.59062,-28.406322,13.40914,23.496702,-26.97242,-32.35086,-2.096518,-17.222256,-31.57727,10.308425,-0.24263933,31.540155,5.842832,8.010863,-6.1215115,15.027402,-17.421265,12.273217,-28.29327,-14.760657,30.927599,-5.4742827,13.55532,-10.042456,-9.840642,-14.840806,-15.784935,-31.441458,1.9041984,-13.024922,-0.8680072,-28.209686,-30.772429,-20.767437,-6.1418924,-17.677914,-24.976221,12.615689,-22.507463,-25.632948,-28.905172,3.2314575,-7.294824,-6.6918716,-38.265953,-20.774334,2.8274288,34.672077,16.124949,-32.647163,-6.3646894,39.94947,-16.215542,8.840135,-12.08902,-40.792187,-14.925243,-6.240038,-37.51449,-26.524855,-11.082031,13.877457,-19.318834,-0.92802405,30.862808,-22.906208,28.900536,-5.9786873,17.609018,-9.3008,4.3755336,25.342182,-4.735324,10.661951,-4.0100527,-43.561726,-21.010105,-2.0160952,-18.82467,-14.561485,9.170205,-14.149505,8.498404,-14.625248,-1.6012015,-16.780203,-5.513788,-12.0263605,-21.593708,-25.229578,19.27461,33.53161,-31.339914,5.505992,-6.621777,23.336832,-21.62872,3.5041585,-14.118405,-29.903866,13.466973,3.1431668,-19.8422,41.193783,30.15309,-14.454758,-43.444347,-33.94086,6.845268,-5.208649,-21.284472,-14.349926,-13.778757,3.2505085,-9.436609,-18.514158,-25.224934,2.2525547,2.4422777,-27.432093,-9.33714,-12.634694,-22.979233,-15.991072,28.064074,1.9409415,5.398981,-11.231307,-23.885517,-30.778625,-2.2373617,-4.628275,-2.1959732,-33.81699,-17.255508,-19.097027,-32.630875,-15.512273,1.6355994,-18.335093,3.2425199,-30.205076,-30.530685,-7.003487,-8.609256,-6.742027,-31.537012,1.3808202,-7.1717033,0.3002681,-11.345092,-20.681707,6.0728126,2.2625742,-1.1110018,2.4354002,-16.768488,1.0490359,-34.404648,-26.719227,-26.42667,-22.476128,-13.439209,-27.61624,0.69977,3.5537052,-27.545015,-0.34021723,-21.377666,-12.645965,-34.016582,-23.659994,-27.211174,-17.662693,5.4711266,-14.165956,-11.851387,-18.568634,-28.545877,-20.344084,-22.456982,11.24073,-35.266777,6.4972677,-27.791033,31.879833],\"type\":\"scatter3d\"}],                        {\"template\":{\"data\":{\"histogram2dcontour\":[{\"type\":\"histogram2dcontour\",\"colorbar\":{\"outlinewidth\":0,\"ticks\":\"\"},\"colorscale\":[[0.0,\"#0d0887\"],[0.1111111111111111,\"#46039f\"],[0.2222222222222222,\"#7201a8\"],[0.3333333333333333,\"#9c179e\"],[0.4444444444444444,\"#bd3786\"],[0.5555555555555556,\"#d8576b\"],[0.6666666666666666,\"#ed7953\"],[0.7777777777777778,\"#fb9f3a\"],[0.8888888888888888,\"#fdca26\"],[1.0,\"#f0f921\"]]}],\"choropleth\":[{\"type\":\"choropleth\",\"colorbar\":{\"outlinewidth\":0,\"ticks\":\"\"}}],\"histogram2d\":[{\"type\":\"histogram2d\",\"colorbar\":{\"outlinewidth\":0,\"ticks\":\"\"},\"colorscale\":[[0.0,\"#0d0887\"],[0.1111111111111111,\"#46039f\"],[0.2222222222222222,\"#7201a8\"],[0.3333333333333333,\"#9c179e\"],[0.4444444444444444,\"#bd3786\"],[0.5555555555555556,\"#d8576b\"],[0.6666666666666666,\"#ed7953\"],[0.7777777777777778,\"#fb9f3a\"],[0.8888888888888888,\"#fdca26\"],[1.0,\"#f0f921\"]]}],\"heatmap\":[{\"type\":\"heatmap\",\"colorbar\":{\"outlinewidth\":0,\"ticks\":\"\"},\"colorscale\":[[0.0,\"#0d0887\"],[0.1111111111111111,\"#46039f\"],[0.2222222222222222,\"#7201a8\"],[0.3333333333333333,\"#9c179e\"],[0.4444444444444444,\"#bd3786\"],[0.5555555555555556,\"#d8576b\"],[0.6666666666666666,\"#ed7953\"],[0.7777777777777778,\"#fb9f3a\"],[0.8888888888888888,\"#fdca26\"],[1.0,\"#f0f921\"]]}],\"heatmapgl\":[{\"type\":\"heatmapgl\",\"colorbar\":{\"outlinewidth\":0,\"ticks\":\"\"},\"colorscale\":[[0.0,\"#0d0887\"],[0.1111111111111111,\"#46039f\"],[0.2222222222222222,\"#7201a8\"],[0.3333333333333333,\"#9c179e\"],[0.4444444444444444,\"#bd3786\"],[0.5555555555555556,\"#d8576b\"],[0.6666666666666666,\"#ed7953\"],[0.7777777777777778,\"#fb9f3a\"],[0.8888888888888888,\"#fdca26\"],[1.0,\"#f0f921\"]]}],\"contourcarpet\":[{\"type\":\"contourcarpet\",\"colorbar\":{\"outlinewidth\":0,\"ticks\":\"\"}}],\"contour\":[{\"type\":\"contour\",\"colorbar\":{\"outlinewidth\":0,\"ticks\":\"\"},\"colorscale\":[[0.0,\"#0d0887\"],[0.1111111111111111,\"#46039f\"],[0.2222222222222222,\"#7201a8\"],[0.3333333333333333,\"#9c179e\"],[0.4444444444444444,\"#bd3786\"],[0.5555555555555556,\"#d8576b\"],[0.6666666666666666,\"#ed7953\"],[0.7777777777777778,\"#fb9f3a\"],[0.8888888888888888,\"#fdca26\"],[1.0,\"#f0f921\"]]}],\"surface\":[{\"type\":\"surface\",\"colorbar\":{\"outlinewidth\":0,\"ticks\":\"\"},\"colorscale\":[[0.0,\"#0d0887\"],[0.1111111111111111,\"#46039f\"],[0.2222222222222222,\"#7201a8\"],[0.3333333333333333,\"#9c179e\"],[0.4444444444444444,\"#bd3786\"],[0.5555555555555556,\"#d8576b\"],[0.6666666666666666,\"#ed7953\"],[0.7777777777777778,\"#fb9f3a\"],[0.8888888888888888,\"#fdca26\"],[1.0,\"#f0f921\"]]}],\"mesh3d\":[{\"type\":\"mesh3d\",\"colorbar\":{\"outlinewidth\":0,\"ticks\":\"\"}}],\"scatter\":[{\"fillpattern\":{\"fillmode\":\"overlay\",\"size\":10,\"solidity\":0.2},\"type\":\"scatter\"}],\"parcoords\":[{\"type\":\"parcoords\",\"line\":{\"colorbar\":{\"outlinewidth\":0,\"ticks\":\"\"}}}],\"scatterpolargl\":[{\"type\":\"scatterpolargl\",\"marker\":{\"colorbar\":{\"outlinewidth\":0,\"ticks\":\"\"}}}],\"bar\":[{\"error_x\":{\"color\":\"#2a3f5f\"},\"error_y\":{\"color\":\"#2a3f5f\"},\"marker\":{\"line\":{\"color\":\"#E5ECF6\",\"width\":0.5},\"pattern\":{\"fillmode\":\"overlay\",\"size\":10,\"solidity\":0.2}},\"type\":\"bar\"}],\"scattergeo\":[{\"type\":\"scattergeo\",\"marker\":{\"colorbar\":{\"outlinewidth\":0,\"ticks\":\"\"}}}],\"scatterpolar\":[{\"type\":\"scatterpolar\",\"marker\":{\"colorbar\":{\"outlinewidth\":0,\"ticks\":\"\"}}}],\"histogram\":[{\"marker\":{\"pattern\":{\"fillmode\":\"overlay\",\"size\":10,\"solidity\":0.2}},\"type\":\"histogram\"}],\"scattergl\":[{\"type\":\"scattergl\",\"marker\":{\"colorbar\":{\"outlinewidth\":0,\"ticks\":\"\"}}}],\"scatter3d\":[{\"type\":\"scatter3d\",\"line\":{\"colorbar\":{\"outlinewidth\":0,\"ticks\":\"\"}},\"marker\":{\"colorbar\":{\"outlinewidth\":0,\"ticks\":\"\"}}}],\"scattermapbox\":[{\"type\":\"scattermapbox\",\"marker\":{\"colorbar\":{\"outlinewidth\":0,\"ticks\":\"\"}}}],\"scatterternary\":[{\"type\":\"scatterternary\",\"marker\":{\"colorbar\":{\"outlinewidth\":0,\"ticks\":\"\"}}}],\"scattercarpet\":[{\"type\":\"scattercarpet\",\"marker\":{\"colorbar\":{\"outlinewidth\":0,\"ticks\":\"\"}}}],\"carpet\":[{\"aaxis\":{\"endlinecolor\":\"#2a3f5f\",\"gridcolor\":\"white\",\"linecolor\":\"white\",\"minorgridcolor\":\"white\",\"startlinecolor\":\"#2a3f5f\"},\"baxis\":{\"endlinecolor\":\"#2a3f5f\",\"gridcolor\":\"white\",\"linecolor\":\"white\",\"minorgridcolor\":\"white\",\"startlinecolor\":\"#2a3f5f\"},\"type\":\"carpet\"}],\"table\":[{\"cells\":{\"fill\":{\"color\":\"#EBF0F8\"},\"line\":{\"color\":\"white\"}},\"header\":{\"fill\":{\"color\":\"#C8D4E3\"},\"line\":{\"color\":\"white\"}},\"type\":\"table\"}],\"barpolar\":[{\"marker\":{\"line\":{\"color\":\"#E5ECF6\",\"width\":0.5},\"pattern\":{\"fillmode\":\"overlay\",\"size\":10,\"solidity\":0.2}},\"type\":\"barpolar\"}],\"pie\":[{\"automargin\":true,\"type\":\"pie\"}]},\"layout\":{\"autotypenumbers\":\"strict\",\"colorway\":[\"#636efa\",\"#EF553B\",\"#00cc96\",\"#ab63fa\",\"#FFA15A\",\"#19d3f3\",\"#FF6692\",\"#B6E880\",\"#FF97FF\",\"#FECB52\"],\"font\":{\"color\":\"#2a3f5f\"},\"hovermode\":\"closest\",\"hoverlabel\":{\"align\":\"left\"},\"paper_bgcolor\":\"white\",\"plot_bgcolor\":\"#E5ECF6\",\"polar\":{\"bgcolor\":\"#E5ECF6\",\"angularaxis\":{\"gridcolor\":\"white\",\"linecolor\":\"white\",\"ticks\":\"\"},\"radialaxis\":{\"gridcolor\":\"white\",\"linecolor\":\"white\",\"ticks\":\"\"}},\"ternary\":{\"bgcolor\":\"#E5ECF6\",\"aaxis\":{\"gridcolor\":\"white\",\"linecolor\":\"white\",\"ticks\":\"\"},\"baxis\":{\"gridcolor\":\"white\",\"linecolor\":\"white\",\"ticks\":\"\"},\"caxis\":{\"gridcolor\":\"white\",\"linecolor\":\"white\",\"ticks\":\"\"}},\"coloraxis\":{\"colorbar\":{\"outlinewidth\":0,\"ticks\":\"\"}},\"colorscale\":{\"sequential\":[[0.0,\"#0d0887\"],[0.1111111111111111,\"#46039f\"],[0.2222222222222222,\"#7201a8\"],[0.3333333333333333,\"#9c179e\"],[0.4444444444444444,\"#bd3786\"],[0.5555555555555556,\"#d8576b\"],[0.6666666666666666,\"#ed7953\"],[0.7777777777777778,\"#fb9f3a\"],[0.8888888888888888,\"#fdca26\"],[1.0,\"#f0f921\"]],\"sequentialminus\":[[0.0,\"#0d0887\"],[0.1111111111111111,\"#46039f\"],[0.2222222222222222,\"#7201a8\"],[0.3333333333333333,\"#9c179e\"],[0.4444444444444444,\"#bd3786\"],[0.5555555555555556,\"#d8576b\"],[0.6666666666666666,\"#ed7953\"],[0.7777777777777778,\"#fb9f3a\"],[0.8888888888888888,\"#fdca26\"],[1.0,\"#f0f921\"]],\"diverging\":[[0,\"#8e0152\"],[0.1,\"#c51b7d\"],[0.2,\"#de77ae\"],[0.3,\"#f1b6da\"],[0.4,\"#fde0ef\"],[0.5,\"#f7f7f7\"],[0.6,\"#e6f5d0\"],[0.7,\"#b8e186\"],[0.8,\"#7fbc41\"],[0.9,\"#4d9221\"],[1,\"#276419\"]]},\"xaxis\":{\"gridcolor\":\"white\",\"linecolor\":\"white\",\"ticks\":\"\",\"title\":{\"standoff\":15},\"zerolinecolor\":\"white\",\"automargin\":true,\"zerolinewidth\":2},\"yaxis\":{\"gridcolor\":\"white\",\"linecolor\":\"white\",\"ticks\":\"\",\"title\":{\"standoff\":15},\"zerolinecolor\":\"white\",\"automargin\":true,\"zerolinewidth\":2},\"scene\":{\"xaxis\":{\"backgroundcolor\":\"#E5ECF6\",\"gridcolor\":\"white\",\"linecolor\":\"white\",\"showbackground\":true,\"ticks\":\"\",\"zerolinecolor\":\"white\",\"gridwidth\":2},\"yaxis\":{\"backgroundcolor\":\"#E5ECF6\",\"gridcolor\":\"white\",\"linecolor\":\"white\",\"showbackground\":true,\"ticks\":\"\",\"zerolinecolor\":\"white\",\"gridwidth\":2},\"zaxis\":{\"backgroundcolor\":\"#E5ECF6\",\"gridcolor\":\"white\",\"linecolor\":\"white\",\"showbackground\":true,\"ticks\":\"\",\"zerolinecolor\":\"white\",\"gridwidth\":2}},\"shapedefaults\":{\"line\":{\"color\":\"#2a3f5f\"}},\"annotationdefaults\":{\"arrowcolor\":\"#2a3f5f\",\"arrowhead\":0,\"arrowwidth\":1},\"geo\":{\"bgcolor\":\"white\",\"landcolor\":\"#E5ECF6\",\"subunitcolor\":\"white\",\"showland\":true,\"showlakes\":true,\"lakecolor\":\"white\"},\"title\":{\"x\":0.05},\"mapbox\":{\"style\":\"light\"}}},\"scene\":{\"domain\":{\"x\":[0.0,1.0],\"y\":[0.0,1.0]},\"xaxis\":{\"title\":{\"text\":\"x\"}},\"yaxis\":{\"title\":{\"text\":\"y\"}},\"zaxis\":{\"title\":{\"text\":\"z\"}}},\"legend\":{\"title\":{\"text\":\"modelo\"},\"tracegroupgap\":0},\"title\":{\"text\":\"t-SNE 3D — Word2Vec vs. GloVe\"}},                        {\"responsive\": true}                    ).then(function(){\n",
              "                            \n",
              "var gd = document.getElementById('a047b6e2-e6db-4746-b95e-f939d5068236');\n",
              "var x = new MutationObserver(function (mutations, observer) {{\n",
              "        var display = window.getComputedStyle(gd).display;\n",
              "        if (!display || display === 'none') {{\n",
              "            console.log([gd, 'removed!']);\n",
              "            Plotly.purge(gd);\n",
              "            observer.disconnect();\n",
              "        }}\n",
              "}});\n",
              "\n",
              "// Listen for the removal of the full notebook cells\n",
              "var notebookContainer = gd.closest('#notebook-container');\n",
              "if (notebookContainer) {{\n",
              "    x.observe(notebookContainer, {childList: true});\n",
              "}}\n",
              "\n",
              "// Listen for the clearing of the current output cell\n",
              "var outputEl = gd.closest('.output');\n",
              "if (outputEl) {{\n",
              "    x.observe(outputEl, {childList: true});\n",
              "}}\n",
              "\n",
              "                        })                };                            </script>        </div>\n",
              "</body>\n",
              "</html>"
            ]
          },
          "metadata": {}
        }
      ]
    },
    {
      "cell_type": "markdown",
      "id": "G6-RrjwuxYEw",
      "metadata": {
        "id": "G6-RrjwuxYEw"
      },
      "source": [
        "***\n",
        "\n",
        "# 4. Desarrollo del modelo RNN"
      ]
    },
    {
      "cell_type": "markdown",
      "source": [
        "***\n",
        "\n",
        "## 4.1. Hiperparámetros, partición y *DataLoaders*\n",
        "\n",
        "Se crea un **`IMDBDataset`** que toma cada reseña del **`DataFrame`**, la limpia, la tokeniza, la codifica a **`max_len`** índices con **`padding`** y entrega la pareja tensor entero + etiqueta flotante , lista para **`nn.BCELoss`**. Con una semilla fija se divide el conjunto en **`80 %, 10 %, 10 %`** (entrenamiento, validación y prueba) y cada segmento se coloca en un **`DataLoader`** de lote 64, barajado solo en entrenamiento."
      ],
      "metadata": {
        "id": "wqy-xlwJ2zMS"
      },
      "id": "wqy-xlwJ2zMS"
    },
    {
      "cell_type": "code",
      "source": [
        "# 1) Updated Dataset returns (seq, length, label)\n",
        "class IMDBDataset(Dataset):\n",
        "    def __init__(self, df, max_len):\n",
        "        self.texts   = df['text'].tolist()\n",
        "        self.labels  = df['label'].astype(int).tolist()\n",
        "        self.max_len = max_len\n",
        "\n",
        "    def __len__(self):\n",
        "        return len(self.texts)\n",
        "\n",
        "    def __getitem__(self, i):\n",
        "        toks = clean_and_tokenize(self.texts[i])\n",
        "        toks = ['<SOS>'] + toks + ['<EOS>']\n",
        "        seq  = encode(toks, self.max_len)\n",
        "        length = min(len(toks), self.max_len)\n",
        "        return (\n",
        "            torch.tensor(seq, dtype=torch.long),\n",
        "            torch.tensor(length, dtype=torch.long),\n",
        "            torch.tensor(self.labels[i], dtype=torch.float32)\n",
        "        )"
      ],
      "metadata": {
        "id": "syOX51ok8o55"
      },
      "id": "syOX51ok8o55",
      "execution_count": 45,
      "outputs": []
    },
    {
      "cell_type": "code",
      "source": [
        "# 2) Custom collate_fn to pad & sort by length\n",
        "def collate_batch(batch):\n",
        "    \"\"\"\n",
        "    batch: list of (seq_tensor, length_tensor, label_tensor)\n",
        "    Returns: padded_seqs, lengths, labels (all tensors, sorted by descending lengths)\n",
        "    \"\"\"\n",
        "    seqs, lengths, labels = zip(*batch)\n",
        "\n",
        "    # Stack lengths & labels\n",
        "    lengths = torch.stack(lengths)\n",
        "    labels  = torch.stack(labels)\n",
        "\n",
        "    # Pad sequences to the max length in this batch\n",
        "    padded_seqs = pad_sequence(seqs, batch_first=True, padding_value=vocab['<PAD>'])\n",
        "\n",
        "    # Sort by descending length\n",
        "    lengths, perm_idx = lengths.sort(descending=True)\n",
        "    padded_seqs = padded_seqs[perm_idx]\n",
        "    labels      = labels[perm_idx]\n",
        "\n",
        "    return padded_seqs, lengths, labels"
      ],
      "metadata": {
        "id": "GcSWBpd9EKBe"
      },
      "id": "GcSWBpd9EKBe",
      "execution_count": 44,
      "outputs": []
    },
    {
      "cell_type": "code",
      "source": [
        "token_lengths = data.text.apply(lambda x: len(clean_and_tokenize(x)))"
      ],
      "metadata": {
        "id": "rsGi4E36-k0x"
      },
      "id": "rsGi4E36-k0x",
      "execution_count": 75,
      "outputs": []
    },
    {
      "cell_type": "code",
      "source": [
        "token_lengths"
      ],
      "metadata": {
        "id": "HQPPWLFi_jh5",
        "outputId": "50b4c367-2d42-45a9-dd8d-a84a0b5836ac",
        "colab": {
          "base_uri": "https://localhost:8080/",
          "height": 147
        }
      },
      "id": "HQPPWLFi_jh5",
      "execution_count": 74,
      "outputs": [
        {
          "output_type": "error",
          "ename": "NameError",
          "evalue": "name 'token_lengths' is not defined",
          "traceback": [
            "\u001b[0;31m---------------------------------------------------------------------------\u001b[0m",
            "\u001b[0;31mNameError\u001b[0m                                 Traceback (most recent call last)",
            "\u001b[0;32m<ipython-input-74-3061cca6ae1e>\u001b[0m in \u001b[0;36m<cell line: 0>\u001b[0;34m()\u001b[0m\n\u001b[0;32m----> 1\u001b[0;31m \u001b[0mtoken_lengths\u001b[0m\u001b[0;34m\u001b[0m\u001b[0;34m\u001b[0m\u001b[0m\n\u001b[0m",
            "\u001b[0;31mNameError\u001b[0m: name 'token_lengths' is not defined"
          ]
        }
      ]
    },
    {
      "cell_type": "code",
      "source": [
        "# 3) Create Dataset and DataLoaders with collate_fn\n",
        "ds = IMDBDataset(data, max_len=300)\n",
        "n = len(ds)\n",
        "train_ds, val_ds, test_ds = random_split(\n",
        "    ds,\n",
        "    [int(.8 * n), int(.1 * n), n - int(.9 * n)],\n",
        "    generator=torch.Generator().manual_seed(RANDOM_STATE)\n",
        ")\n",
        "\n",
        "batch_size = 64\n",
        "train_loader = DataLoader(train_ds, batch_size=batch_size, shuffle=True, collate_fn=collate_batch)\n",
        "val_loader = DataLoader(val_ds, batch_size=batch_size, shuffle=False, collate_fn=collate_batch)\n",
        "test_loader  = DataLoader(test_ds, batch_size=batch_size, shuffle=False, collate_fn=collate_batch)"
      ],
      "metadata": {
        "id": "tezvllb18tCu"
      },
      "id": "tezvllb18tCu",
      "execution_count": null,
      "outputs": []
    },
    {
      "cell_type": "markdown",
      "source": [
        "**`SentimentRNN`**, derivada de **`Module`**, integra cuatro componentes clave en un único flujo [³]. Primero aparece la capa de *embeddings*: si se suministran **`pretrained_weights`**, estos vectores se cargan mediante **`Embedding.from_pretrained`** y pueden mantenerse fijos o descongelarse según convenga; de lo contrario, se crea un **`Embedding`** estándar con el tamaño del vocabulario. A continuación se encuentra la LSTM, configurable en dimensión oculta, número de capas y bidireccionalidad. Cuando se activa el modo bidireccional, el modelo recorre cada secuencia tanto en su orden natural como en sentido inverso, capturando dependencias de corto y largo alcance, y aplica *dropout* interno entre capas para mejorar la generalización.\n",
        "\n",
        "Tras procesar la secuencia, se conserva únicamente el último estado temporal —que ya sintetiza la información más relevante— y se le aplica un **`Dropout`** externo como medida adicional contra el sobre‑ajuste. Finalmente, una capa totalmente conectada reduce la representación a un valor escalar que **`sigmoid`** transforma en la probabilidad de que la reseña sea positiva. El método **`forward`** encadena estos pasos y devuelve el resultado aplanado con **`.squeeze`** para facilitar la comparación con la etiqueta.\n",
        "\n",
        "---\n",
        "\n",
        "La preferencia por LSTM sobre alternativas como GRU responde a tres factores complementarios. Primero, las reseñas de IMDb rondan los 200 *tokens*, por lo que las dependencias de largo plazo resultan importantes y la memoria explícita de la LSTM ofrece una ventaja. Segundo, el tamaño del corpus es lo bastante grande como para entrenar un modelo con más parámetros sin incurrir en sobre‑ajuste excesivo, especialmente con las técnicas de *dropout* ya mencionadas. Tercero y decisivo, un estudio reciente muestra que en este mismo conjunto de datos la LSTM supera consistentemente a la GRU en *accuracy*, corroborando hallazgos anteriores [⁴]. A la luz de esta evidencia y de los requisitos de desempeño del proyecto, la LSTM se presenta como la opción más sólida."
      ],
      "metadata": {
        "id": "vPRMS7KNUVmE"
      },
      "id": "vPRMS7KNUVmE"
    },
    {
      "cell_type": "code",
      "source": [
        "# class SentimentRNN(nn.Module):\n",
        "#     def __init__(self, vocab_size, emb_dim=300, hid_dim=128, n_layers=3, bidir=True, drop=0.6, pretrained_weights=None):\n",
        "#         super().__init__()\n",
        "#         #Capa de embedding\n",
        "#         if pretrained_weights is not None:\n",
        "#             self.embedding = nn.Embedding.from_pretrained(\n",
        "#                 torch.FloatTensor(pretrained_weights),\n",
        "#                 freeze=True,\n",
        "#                 padding_idx=0\n",
        "#             )\n",
        "#         else:\n",
        "#             self.embedding = nn.Embedding(vocab_size, emb_dim, padding_idx=0)\n",
        "#         # RNN\n",
        "#         self.lstm = nn.LSTM(emb_dim, hid_dim, n_layers, bidirectional=bidir, batch_first=True, dropout=drop if n_layers > 1 else 0.0)\n",
        "#         # Droput\n",
        "#         self.dropout = nn.Dropout(drop)\n",
        "#         # Red completamente conectada\n",
        "#         self.fc = nn.Linear(hid_dim*(2 if bidir else 1), 1)\n",
        "\n",
        "#     def forward(self, x):\n",
        "#         emb, _ = self.embedding(x), None\n",
        "#         out, _ = self.lstm(emb)\n",
        "#         h_last = out[:, -1, :]\n",
        "#         return torch.sigmoid(self.fc(self.dropout(h_last))).squeeze()"
      ],
      "metadata": {
        "id": "cipLcGcoKLdm"
      },
      "id": "cipLcGcoKLdm",
      "execution_count": 27,
      "outputs": []
    },
    {
      "cell_type": "code",
      "source": [
        "class SentimentRNN(nn.Module):\n",
        "    def __init__(self, vocab_size, emb_dim=300, hid_dim=256, n_layers=3, bidir=True, drop=0.5, pretrained_weights=None):\n",
        "        super().__init__()\n",
        "\n",
        "        # Embedding layer (with optional pretrained + padding)\n",
        "        if pretrained_weights is not None:\n",
        "            self.embedding = nn.Embedding.from_pretrained(\n",
        "                torch.FloatTensor(pretrained_weights),\n",
        "                freeze=True,\n",
        "                padding_idx=vocab['<PAD>']\n",
        "            )\n",
        "        else:\n",
        "            self.embedding = nn.Embedding(\n",
        "                num_embeddings=vocab_size,\n",
        "                embedding_dim=emb_dim,\n",
        "                padding_idx=vocab['<PAD>']\n",
        "            )\n",
        "\n",
        "        # LSTM\n",
        "        self.lstm = nn.LSTM(\n",
        "            input_size=emb_dim,\n",
        "            hidden_size=hid_dim,\n",
        "            num_layers=n_layers,\n",
        "            bidirectional=bidir,\n",
        "            batch_first=True,\n",
        "            dropout=drop if n_layers > 1 else 0.0\n",
        "        )\n",
        "\n",
        "        # Dropout & final FC\n",
        "        self.dropout = nn.Dropout(drop)\n",
        "        self.fc = nn.Linear(\n",
        "            in_features=hid_dim * (2 if bidir else 1),\n",
        "            out_features=1\n",
        "        )\n",
        "\n",
        "    def forward(self, x, lengths):\n",
        "        \"\"\"\n",
        "        x:       LongTensor, shape (B, T) — padded token indices\n",
        "        lengths: LongTensor, shape (B,) — true sequence lengths (<= T), sorted desc\n",
        "        \"\"\"\n",
        "        # 1) Embed\n",
        "        emb = self.embedding(x)  # (B, T, D)\n",
        "\n",
        "        # 2) Pack\n",
        "        packed = pack_padded_sequence(\n",
        "            emb,\n",
        "            lengths.cpu(),\n",
        "            batch_first=True,\n",
        "            enforce_sorted=True\n",
        "        )\n",
        "\n",
        "        # 3) LSTM\n",
        "        packed_out, _ = self.lstm(packed)\n",
        "\n",
        "        # 4) Unpack\n",
        "        out, _ = pad_packed_sequence(packed_out, batch_first=True)  # (B, T, 2H)\n",
        "\n",
        "        # 5) Gather the last valid output for each sequence\n",
        "        idx = (lengths - 1).view(-1, 1, 1).expand(-1, 1, out.size(2))\n",
        "        h_last = out.gather(1, idx).squeeze(1)  # (B, 2H)\n",
        "\n",
        "        # 6) Classifier\n",
        "        logits = self.fc(self.dropout(h_last))  # (B, 1)\n",
        "        return torch.sigmoid(logits).squeeze()  # (B,)"
      ],
      "metadata": {
        "id": "yod5PSrpEXcq"
      },
      "id": "yod5PSrpEXcq",
      "execution_count": 41,
      "outputs": []
    },
    {
      "cell_type": "markdown",
      "source": [
        "***\n",
        "\n",
        "## 4.3. Entrenamiento, validación y prueba\n",
        "\n",
        "La función **`train`** recorre las épocas alternando entrenamiento y validación, calcula pérdidas y precisiones, y registra todo en **`history`**. Al inicio se utiliza la técnica de descongelamiento progresivo [⁵] la cual  permite (i) conservar características generales útiles, (ii) adaptar con seguridad las capas superiores y (iii) mejorar la precisión sin sobre-ajustar, sobre todo en conjuntos de datos pequeños o medianos. Esta técnica se aplica a partir de la época 5 donde se llama a **`requires_grad_(True)`** y se crea un nuevo optimizador para incluir los parámetros recién liberados; esto permite fine-tuning de los vectores sin alterar la fase de arranque.\n",
        "\n",
        "Antes de cada actualización se aplica **`gradient clipping`** mediante **`clip_grad_norm_`**, limitando la norma de los gradientes a **`1.0`**; esto previene el problema de **`exploding gradients`**, que puede desestabilizar el aprendizaje al producir actualizaciones desmesuradas en los pesos, sobre todo en redes recurrentes y arquitecturas profundas [⁶]. Tras cada época se guarda el mejor modelo según la pérdida de validación y se activa **`Early Stopping`** si no hay mejora durante el número de épocas definido por **`patience`**; al finalizar, la función devuelve **`history`** para análisis posterior.\n",
        "\n",
        "Cabe resaltar que se usa Backpropagation Through Time (BPTT) la extensión del algoritmo de retropropagación estándar para redes recurrentes. En esencia, consiste en “desenrollar” la RNN a lo largo de cada paso temporal y aplicar la regla de la cadena a todo el grafo computacional resultante  [⁷]."
      ],
      "metadata": {
        "id": "oz4ZPXG44a8W"
      },
      "id": "oz4ZPXG44a8W"
    },
    {
      "cell_type": "code",
      "source": [
        "# Entrena una red para clasificación binaria con Early Stopping y gradient clipping.\n",
        "def train( model, train_loader, val_loader, epochs=10, lr=1e-3, device=\"cuda\", clip=1.0, patience=5, save_path=\"best_model.pt\"):\n",
        "\n",
        "    criterion  = nn.BCELoss()\n",
        "    #optimizer  = optim.Adam(model.parameters(), lr=lr, weight_decay=5e-5)  # <— usa el lr pasado\n",
        "    optimizer  = optim.Adam(model.parameters(), lr=lr)\n",
        "    best_val   = float(\"inf\")\n",
        "    epochs_no_imp = 0\n",
        "\n",
        "    history = {k: [] for k in (\"train_loss\", \"val_loss\", \"train_acc\", \"val_acc\")}\n",
        "\n",
        "    start_time = time.time()\n",
        "    for epoch in range(1, epochs + 1):\n",
        "        # Descongelar embeddings en la época 5\n",
        "        if epoch == 5:\n",
        "            model.embedding.weight.requires_grad_(True)\n",
        "\n",
        "            # opción simple: recrea el optimizador para que incluya la capa\n",
        "            optimizer = optim.Adam(\n",
        "                model.parameters(), lr=lr, weight_decay=1e-2\n",
        "            )\n",
        "\n",
        "        # ---------- Fase de entrenamiento ----------\n",
        "        model.train()\n",
        "        running_loss, running_corrects, total_train = 0.0, 0, 0\n",
        "\n",
        "        for x, lengths, y in train_loader:\n",
        "        #for x, y in train_loader:\n",
        "            x, lengths, y = x.to(device), lengths.to(device), y.to(device)\n",
        "            #x, y = x.to(device), y.to(device)\n",
        "            optimizer.zero_grad()\n",
        "\n",
        "            #outputs = model(x)\n",
        "            outputs = model(x, lengths)\n",
        "            loss    = criterion(outputs, y)\n",
        "            loss.backward()\n",
        "\n",
        "            nn.utils.clip_grad_norm_(model.parameters(), clip)  # gradient clipping\n",
        "            optimizer.step()\n",
        "\n",
        "            running_loss     += loss.item() * x.size(0)\n",
        "            preds             = (outputs >= 0.5).float()\n",
        "            running_corrects += (preds == y).sum().item()\n",
        "            total_train      += x.size(0)\n",
        "\n",
        "        epoch_train_loss = running_loss / total_train\n",
        "        epoch_train_acc  = running_corrects / total_train\n",
        "\n",
        "        # ---------- Fase de validación ----------\n",
        "        model.eval()\n",
        "        val_loss, val_corrects, total_val = 0.0, 0, 0\n",
        "\n",
        "        with torch.no_grad():\n",
        "            for x, lengths, y in train_loader:\n",
        "            #for x, y in val_loader:\n",
        "                x, lengths, y = x.to(device), lengths.to(device), y.to(device)\n",
        "                #x, y = x.to(device), y.to(device)\n",
        "                outputs = model(x, lengths)\n",
        "                #outputs = model(x)\n",
        "                val_loss += criterion(outputs, y).item() * x.size(0)\n",
        "\n",
        "                preds        = (outputs >= 0.5).float()\n",
        "                val_corrects += (preds == y).sum().item()\n",
        "                total_val    += x.size(0)\n",
        "\n",
        "        epoch_val_loss = val_loss / total_val\n",
        "        epoch_val_acc  = val_corrects / total_val\n",
        "\n",
        "        # ---------- Registro de métricas ----------\n",
        "        history[\"train_loss\"].append(epoch_train_loss)\n",
        "        history[\"val_loss\"].append(epoch_val_loss)\n",
        "        history[\"train_acc\"].append(epoch_train_acc)\n",
        "        history[\"val_acc\"].append(epoch_val_acc)\n",
        "\n",
        "        print(\n",
        "            f\"Epoch {epoch:02d} | \"\n",
        "            f\"Train Loss {epoch_train_loss:.4f}  Acc {epoch_train_acc:.4f} | \"\n",
        "            f\"Val Loss {epoch_val_loss:.4f}  Acc {epoch_val_acc:.4f}\"\n",
        "        )\n",
        "\n",
        "        # ---------- Early Stopping ----------\n",
        "        if epoch_val_loss < best_val:\n",
        "            best_val = epoch_val_loss\n",
        "            torch.save(model.state_dict(), save_path)\n",
        "            epochs_no_imp = 0\n",
        "        else:\n",
        "            epochs_no_imp += 1\n",
        "            if epochs_no_imp >= patience:\n",
        "                print(\"Early stopping\")\n",
        "                break\n",
        "\n",
        "    mins, secs = divmod(time.time() - start_time, 60)\n",
        "    print(f\"\\nTiempo total: {int(mins)} min {int(secs)} seg\")\n",
        "    return history"
      ],
      "metadata": {
        "id": "DVO5O3T1Kh4O"
      },
      "id": "DVO5O3T1Kh4O",
      "execution_count": 42,
      "outputs": []
    },
    {
      "cell_type": "markdown",
      "source": [
        "Se instancia **`model_w2v`** como una versión de **`SentimentRNN`** cuyos vectores de entrada provienen de un embebido **`Word2Vec`** de 300 dimensiones (**`w2v_weights`**) y se mueve al **`device`** seleccionado (GPU o CPU). Con este modelo se llama a **`train`** durante 15 épocas, una tasa de aprendizaje de **`2 × 10⁻⁴`**, *gradient clipping* y *early stopping* habilitados, utilizando los **`DataLoaders`** de entrenamiento y validación. El historial de pérdidas y precisiones se almacena en **`hist_w2v`**, mientras que los mejores pesos (según la pérdida de validación más baja) se guardan en **`best_w2v.pt`** para uso posterior."
      ],
      "metadata": {
        "id": "75G3J6o5ieVc"
      },
      "id": "75G3J6o5ieVc"
    },
    {
      "cell_type": "code",
      "source": [
        "# Word2Vec\n",
        "model_w2v = SentimentRNN(\n",
        "    vocab_size=len(vocab),\n",
        "    emb_dim=300,\n",
        "    hid_dim=256,\n",
        "    n_layers=3,\n",
        "    drop=0.5,\n",
        "    pretrained_weights=w2v_weights\n",
        ").to(device)\n",
        "\n",
        "hist_w2v = train(\n",
        "    model_w2v,\n",
        "    train_loader,\n",
        "    val_loader,\n",
        "    epochs=20,\n",
        "    lr=5e-5,\n",
        "    device=device,\n",
        "    save_path=\"best_w2v.pt\"\n",
        ")"
      ],
      "metadata": {
        "id": "ZYBhqK0KKzNt",
        "colab": {
          "base_uri": "https://localhost:8080/",
          "height": 502
        },
        "outputId": "d7fbd330-bc9a-4637-e5ec-8bb80936c69b"
      },
      "id": "ZYBhqK0KKzNt",
      "execution_count": 43,
      "outputs": [
        {
          "output_type": "stream",
          "name": "stdout",
          "text": [
            "Epoch 01 | Train Loss 0.5516  Acc 0.6853 | Val Loss 0.4284  Acc 0.8147\n",
            "Epoch 02 | Train Loss 0.3791  Acc 0.8352 | Val Loss 0.3560  Acc 0.8461\n",
            "Epoch 03 | Train Loss 0.3606  Acc 0.8451 | Val Loss 0.3458  Acc 0.8509\n",
            "Epoch 04 | Train Loss 0.3520  Acc 0.8505 | Val Loss 0.3359  Acc 0.8574\n",
            "Epoch 05 | Train Loss 0.3578  Acc 0.8476 | Val Loss 0.3607  Acc 0.8511\n",
            "Epoch 06 | Train Loss 0.3823  Acc 0.8382 | Val Loss 0.3912  Acc 0.8383\n",
            "Epoch 07 | Train Loss 0.4021  Acc 0.8289 | Val Loss 0.3969  Acc 0.8321\n"
          ]
        },
        {
          "output_type": "error",
          "ename": "KeyboardInterrupt",
          "evalue": "",
          "traceback": [
            "\u001b[0;31m---------------------------------------------------------------------------\u001b[0m",
            "\u001b[0;31mKeyboardInterrupt\u001b[0m                         Traceback (most recent call last)",
            "\u001b[0;32m<ipython-input-43-859f72bab77b>\u001b[0m in \u001b[0;36m<cell line: 0>\u001b[0;34m()\u001b[0m\n\u001b[1;32m      9\u001b[0m ).to(device)\n\u001b[1;32m     10\u001b[0m \u001b[0;34m\u001b[0m\u001b[0m\n\u001b[0;32m---> 11\u001b[0;31m hist_w2v = train(\n\u001b[0m\u001b[1;32m     12\u001b[0m     \u001b[0mmodel_w2v\u001b[0m\u001b[0;34m,\u001b[0m\u001b[0;34m\u001b[0m\u001b[0;34m\u001b[0m\u001b[0m\n\u001b[1;32m     13\u001b[0m     \u001b[0mtrain_loader\u001b[0m\u001b[0;34m,\u001b[0m\u001b[0;34m\u001b[0m\u001b[0;34m\u001b[0m\u001b[0m\n",
            "\u001b[0;32m<ipython-input-42-6eda30e6ee43>\u001b[0m in \u001b[0;36mtrain\u001b[0;34m(model, train_loader, val_loader, epochs, lr, device, clip, patience, save_path)\u001b[0m\n\u001b[1;32m     34\u001b[0m             \u001b[0moutputs\u001b[0m \u001b[0;34m=\u001b[0m \u001b[0mmodel\u001b[0m\u001b[0;34m(\u001b[0m\u001b[0mx\u001b[0m\u001b[0;34m,\u001b[0m \u001b[0mlengths\u001b[0m\u001b[0;34m)\u001b[0m\u001b[0;34m\u001b[0m\u001b[0;34m\u001b[0m\u001b[0m\n\u001b[1;32m     35\u001b[0m             \u001b[0mloss\u001b[0m    \u001b[0;34m=\u001b[0m \u001b[0mcriterion\u001b[0m\u001b[0;34m(\u001b[0m\u001b[0moutputs\u001b[0m\u001b[0;34m,\u001b[0m \u001b[0my\u001b[0m\u001b[0;34m)\u001b[0m\u001b[0;34m\u001b[0m\u001b[0;34m\u001b[0m\u001b[0m\n\u001b[0;32m---> 36\u001b[0;31m             \u001b[0mloss\u001b[0m\u001b[0;34m.\u001b[0m\u001b[0mbackward\u001b[0m\u001b[0;34m(\u001b[0m\u001b[0;34m)\u001b[0m\u001b[0;34m\u001b[0m\u001b[0;34m\u001b[0m\u001b[0m\n\u001b[0m\u001b[1;32m     37\u001b[0m \u001b[0;34m\u001b[0m\u001b[0m\n\u001b[1;32m     38\u001b[0m             \u001b[0mnn\u001b[0m\u001b[0;34m.\u001b[0m\u001b[0mutils\u001b[0m\u001b[0;34m.\u001b[0m\u001b[0mclip_grad_norm_\u001b[0m\u001b[0;34m(\u001b[0m\u001b[0mmodel\u001b[0m\u001b[0;34m.\u001b[0m\u001b[0mparameters\u001b[0m\u001b[0;34m(\u001b[0m\u001b[0;34m)\u001b[0m\u001b[0;34m,\u001b[0m \u001b[0mclip\u001b[0m\u001b[0;34m)\u001b[0m  \u001b[0;31m# gradient clipping\u001b[0m\u001b[0;34m\u001b[0m\u001b[0;34m\u001b[0m\u001b[0m\n",
            "\u001b[0;32m/usr/local/lib/python3.11/dist-packages/torch/_tensor.py\u001b[0m in \u001b[0;36mbackward\u001b[0;34m(self, gradient, retain_graph, create_graph, inputs)\u001b[0m\n\u001b[1;32m    624\u001b[0m                 \u001b[0minputs\u001b[0m\u001b[0;34m=\u001b[0m\u001b[0minputs\u001b[0m\u001b[0;34m,\u001b[0m\u001b[0;34m\u001b[0m\u001b[0;34m\u001b[0m\u001b[0m\n\u001b[1;32m    625\u001b[0m             )\n\u001b[0;32m--> 626\u001b[0;31m         torch.autograd.backward(\n\u001b[0m\u001b[1;32m    627\u001b[0m             \u001b[0mself\u001b[0m\u001b[0;34m,\u001b[0m \u001b[0mgradient\u001b[0m\u001b[0;34m,\u001b[0m \u001b[0mretain_graph\u001b[0m\u001b[0;34m,\u001b[0m \u001b[0mcreate_graph\u001b[0m\u001b[0;34m,\u001b[0m \u001b[0minputs\u001b[0m\u001b[0;34m=\u001b[0m\u001b[0minputs\u001b[0m\u001b[0;34m\u001b[0m\u001b[0;34m\u001b[0m\u001b[0m\n\u001b[1;32m    628\u001b[0m         )\n",
            "\u001b[0;32m/usr/local/lib/python3.11/dist-packages/torch/autograd/__init__.py\u001b[0m in \u001b[0;36mbackward\u001b[0;34m(tensors, grad_tensors, retain_graph, create_graph, grad_variables, inputs)\u001b[0m\n\u001b[1;32m    345\u001b[0m     \u001b[0;31m# some Python versions print out the first line of a multi-line function\u001b[0m\u001b[0;34m\u001b[0m\u001b[0;34m\u001b[0m\u001b[0m\n\u001b[1;32m    346\u001b[0m     \u001b[0;31m# calls in the traceback and some print out the last line\u001b[0m\u001b[0;34m\u001b[0m\u001b[0;34m\u001b[0m\u001b[0m\n\u001b[0;32m--> 347\u001b[0;31m     _engine_run_backward(\n\u001b[0m\u001b[1;32m    348\u001b[0m         \u001b[0mtensors\u001b[0m\u001b[0;34m,\u001b[0m\u001b[0;34m\u001b[0m\u001b[0;34m\u001b[0m\u001b[0m\n\u001b[1;32m    349\u001b[0m         \u001b[0mgrad_tensors_\u001b[0m\u001b[0;34m,\u001b[0m\u001b[0;34m\u001b[0m\u001b[0;34m\u001b[0m\u001b[0m\n",
            "\u001b[0;32m/usr/local/lib/python3.11/dist-packages/torch/autograd/graph.py\u001b[0m in \u001b[0;36m_engine_run_backward\u001b[0;34m(t_outputs, *args, **kwargs)\u001b[0m\n\u001b[1;32m    821\u001b[0m         \u001b[0munregister_hooks\u001b[0m \u001b[0;34m=\u001b[0m \u001b[0m_register_logging_hooks_on_whole_graph\u001b[0m\u001b[0;34m(\u001b[0m\u001b[0mt_outputs\u001b[0m\u001b[0;34m)\u001b[0m\u001b[0;34m\u001b[0m\u001b[0;34m\u001b[0m\u001b[0m\n\u001b[1;32m    822\u001b[0m     \u001b[0;32mtry\u001b[0m\u001b[0;34m:\u001b[0m\u001b[0;34m\u001b[0m\u001b[0;34m\u001b[0m\u001b[0m\n\u001b[0;32m--> 823\u001b[0;31m         return Variable._execution_engine.run_backward(  # Calls into the C++ engine to run the backward pass\n\u001b[0m\u001b[1;32m    824\u001b[0m             \u001b[0mt_outputs\u001b[0m\u001b[0;34m,\u001b[0m \u001b[0;34m*\u001b[0m\u001b[0margs\u001b[0m\u001b[0;34m,\u001b[0m \u001b[0;34m**\u001b[0m\u001b[0mkwargs\u001b[0m\u001b[0;34m\u001b[0m\u001b[0;34m\u001b[0m\u001b[0m\n\u001b[1;32m    825\u001b[0m         )  # Calls into the C++ engine to run the backward pass\n",
            "\u001b[0;31mKeyboardInterrupt\u001b[0m: "
          ]
        }
      ]
    },
    {
      "cell_type": "code",
      "source": [
        "# GloVe\n",
        "model_glove = SentimentRNN(\n",
        "    vocab_size=len(vocab),\n",
        "    emb_dim=300,\n",
        "    hid_dim=256,\n",
        "    n_layers=3,\n",
        "    drop=0.5,\n",
        "    pretrained_weights=glove_weights\n",
        ").to(device)\n",
        "\n",
        "hist_glove = train(\n",
        "    model_glove,\n",
        "    train_loader,\n",
        "    val_loader,\n",
        "    epochs=15,\n",
        "    lr=1e-5,\n",
        "    device=device,\n",
        "    save_path=\"best_glove.pt\"\n",
        ")"
      ],
      "metadata": {
        "id": "z3HEQeuahpTZ"
      },
      "id": "z3HEQeuahpTZ",
      "execution_count": null,
      "outputs": []
    },
    {
      "cell_type": "markdown",
      "id": "7JgtiyyfIyMM",
      "metadata": {
        "id": "7JgtiyyfIyMM"
      },
      "source": [
        "***\n",
        "\n",
        "\n",
        "# 5. Análisis de resultados y conclusiones\n",
        "\n",
        "Se instancia un nuevo **`SentimentRNN`** con los pesos de **`Word2Vec`** (300 dimensiones) y se envía al **`device`** detectado; a continuación se cargan los parámetros previamente entrenados desde **`best_w2v.pt`** mediante **`load_state_dict(torch.load(...))`**, dejando al modelo **`best_w2v`** listo para inferencia o evaluación sin requerir más entrenamiento."
      ]
    },
    {
      "cell_type": "code",
      "source": [
        "best_w2v = SentimentRNN(\n",
        "    vocab_size=len(vocab),   # mismo vocabulario\n",
        "    emb_dim=300,            # 300 d Word2Vec\n",
        "    hid_dim=256,            # como en el entrenamiento\n",
        "    n_layers=3,             # coincidir!\n",
        "    bidir=True,             # bidireccional\n",
        "    drop=0.5,\n",
        "    pretrained_weights=w2v_weights\n",
        ").to(device)\n",
        "best_w2v.load_state_dict(torch.load(\"best_w2v.pt\"))"
      ],
      "metadata": {
        "id": "MwXrB3ThRHcI"
      },
      "id": "MwXrB3ThRHcI",
      "execution_count": null,
      "outputs": []
    },
    {
      "cell_type": "markdown",
      "source": [
        "Se define la función **`plot_history`** que recibe el diccionario **`history`** y crea dos gráficos de línea con **`matplotlib`**: el primero compara **`train_loss`** y **`val_loss`** por época, y el segundo hace lo mismo con **`train_acc`** y **`val_acc`**."
      ],
      "metadata": {
        "id": "Ty3gzWEui8xK"
      },
      "id": "Ty3gzWEui8xK"
    },
    {
      "cell_type": "code",
      "source": [
        "def plot_history(history):\n",
        "    epochs = range(1, len(history['train_loss']) + 1)\n",
        "\n",
        "    # Pérdidas\n",
        "    plt.figure(figsize=(8,4))\n",
        "    plt.plot(epochs, history['train_loss'], label='Train Loss')\n",
        "    plt.plot(epochs, history['val_loss'],   label='Val Loss')\n",
        "    plt.xlabel('Epoch')\n",
        "    plt.ylabel('Loss')\n",
        "    plt.title('Training vs Validation Loss')\n",
        "    plt.legend()\n",
        "    plt.tight_layout()\n",
        "    plt.show()\n",
        "\n",
        "    # Exactitudes\n",
        "    plt.figure(figsize=(8,4))\n",
        "    plt.plot(epochs, history['train_acc'], label='Train Acc')\n",
        "    plt.plot(epochs, history['val_acc'],   label='Val Acc')\n",
        "    plt.xlabel('Epoch')\n",
        "    plt.ylabel('Accuracy')\n",
        "    plt.title('Training vs Validation Accuracy')\n",
        "    plt.legend()\n",
        "    plt.tight_layout()\n",
        "    plt.show()"
      ],
      "metadata": {
        "id": "d4PT-Gz1Y9Mh"
      },
      "id": "d4PT-Gz1Y9Mh",
      "execution_count": null,
      "outputs": []
    },
    {
      "cell_type": "code",
      "source": [
        "plot_history(hist_w2v)"
      ],
      "metadata": {
        "id": "hkHiJTa-ZAFC"
      },
      "id": "hkHiJTa-ZAFC",
      "execution_count": null,
      "outputs": []
    },
    {
      "cell_type": "markdown",
      "source": [
        "El gráfico muestra cómo la pérdida de entrenamiento (**`Train Loss`**) desciende de manera casi monótona, mientras que la pérdida de validación (**`Val Loss`**) baja lentamente hasta la época 5, oscila con un pico pronunciado en la época 9 y alcanza su mínimo en la 10, punto en el que se reduce la brecha entre ambas curvas. A partir de ahí la **`Train Loss`** sigue disminuyendo, pero la **`Val Loss`** se estabiliza y vuelve a subir levemente, señal de sobreajuste. El uso de *early stopping* detuvo el entrenamiento cerca del óptimo de validación, evitando que el modelo se desvíe; sin embargo, la variabilidad previa sugiere que podrían mejorarse la regularización (más **`dropout`** o **`weight decay`**) o la diversidad de datos para lograr curvas de validación más suaves y una convergencia más estable."
      ],
      "metadata": {
        "id": "qJZ_NDzdjQ7G"
      },
      "id": "qJZ_NDzdjQ7G"
    },
    {
      "cell_type": "markdown",
      "source": [
        "Se cargan los pesos óptimos en **`model_w2v`** con **`load_state_dict`** y se cambia a modo evaluación mediante **`eval()`** para desactivar **`dropout`** y el cálculo de gradientes. A continuación se recorre el **`test_loader`** sin seguimiento de gradiente (**`torch.no_grad()`**); cada lote se envía al **`device`**, se obtiene la probabilidad de clase positiva, se aplica un umbral de **`0.5`** para convertirla en etiqueta binaria y se acumulan predicciones (**`y_pred`**) y verdaderos (**`y_true`**). Finalmente se calculan cuatro métricas de rendimiento: **`accuracy_score`** (proporción de aciertos globales), **`recall_score`** (sensibilidad hacia la clase positiva), **`f1_score`** (promedio armónico entre precisión y _recall_) y **`confusion_matrix`** (tabla de errores y aciertos), proporcionando una visión cuantitativa de la capacidad generalizadora del modelo entrenado."
      ],
      "metadata": {
        "id": "We4fOjKpj4_8"
      },
      "id": "We4fOjKpj4_8"
    },
    {
      "cell_type": "code",
      "source": [
        "model_w2v.load_state_dict(torch.load('best_w2v.pt'))\n",
        "model_w2v.eval()\n",
        "\n",
        "y_true, y_pred = [], []\n",
        "\n",
        "model_w2v.load_state_dict(torch.load('best_w2v.pt'))\n",
        "model_w2v.eval()\n",
        "\n",
        "with torch.no_grad():\n",
        "    for x, lengths, y in test_loader:\n",
        "        # 1) Mover a device\n",
        "        x       = x.to(device)\n",
        "        lengths = lengths.to(device)\n",
        "        # 2) Forward (recuerda el segundo argumento)\n",
        "        probs = model_w2v(x, lengths)\n",
        "        # 3) Umbral y CPU\n",
        "        preds = (probs.cpu().numpy() >= 0.5).astype(int)\n",
        "        # 4) Acumular\n",
        "        y_pred.extend(preds.tolist())\n",
        "        y_true.extend(y.numpy().astype(int).tolist())\n",
        "\n",
        "print(\"Accuracy:\", accuracy_score(y_true, y_pred))\n",
        "print(\"Recall:\",   recall_score(y_true, y_pred))\n",
        "print(\"F1-score:\", f1_score(y_true, y_pred))\n",
        "print(\"Confusion Matrix:\\n\", confusion_matrix(y_true, y_pred))"
      ],
      "metadata": {
        "id": "QI42wZnGNDhC"
      },
      "id": "QI42wZnGNDhC",
      "execution_count": null,
      "outputs": []
    },
    {
      "cell_type": "code",
      "source": [
        "cm      = confusion_matrix(y_true, y_pred)\n",
        "class_names = ['Negative', 'Positive']\n",
        "plt.figure(figsize=(6, 5))\n",
        "sns.heatmap(cm,\n",
        "            annot=True,\n",
        "            fmt='d',\n",
        "            cmap='Blues',\n",
        "            xticklabels=class_names,\n",
        "            yticklabels=class_names)\n",
        "plt.xlabel(\"Predicción\")\n",
        "plt.ylabel(\"Etiqueta real\")\n",
        "plt.title(\"Matriz de confusión — Conjunto de prueba\")\n",
        "plt.tight_layout()\n",
        "plt.show()"
      ],
      "metadata": {
        "id": "VY-_TQIJkJbw"
      },
      "id": "VY-_TQIJkJbw",
      "execution_count": null,
      "outputs": []
    },
    {
      "cell_type": "markdown",
      "source": [
        "El modelo alcanza una **`accuracy`** del **`0.878`**, lo que significa que casi 88 % de las reseñas se clasifican correctamente. Con un **`recall`** de **`0.850`**, identifica alrededor del 85 % de las reseñas realmente positivas; unido a un **`F1-score`** de **`0.875`**, esto indica un buen equilibrio entre precisión y recuperación de la clase positiva.\n",
        "\n",
        "La matriz de confusión muestra que el modelo confunde más frecuentemente positivas como negativas (301 FN) que al revés (184 FP). Aun así, la proporción de verdaderos positivos (1700) y verdaderos negativos (1788) domina el total, evidenciando un desempeño sólido pero con margen para reducir los **`false negatives`**—p. ej., ajustando el umbral de decisión o añadiendo regularización para mejorar la cobertura de la clase positiva."
      ],
      "metadata": {
        "id": "ZCYFkXAEkRND"
      },
      "id": "ZCYFkXAEkRND"
    },
    {
      "cell_type": "markdown",
      "source": [
        "La función **`predict_sentiment`** recibe un texto libre y, sin necesidad de gradientes, lo procesa en cinco pasos: primero lo limpia y tokeniza con **`clean_and_tokenize`**; luego transforma cada token en su índice mediante el **`vocab`**, rellenando con **`<PAD>`** o truncando hasta **`sequence_length` = 200**. La secuencia resultante se convierte en un tensor de lote 1, se envía al **`device`** (CPU/GPU) y se pasa por el modelo **`SentimentRNN`** en modo evaluación, obteniendo una probabilidad entre 0 y 1. Finalmente imprime el **`Score de positividad`** y muestra un mensaje 🟢 o 🔴 según si la probabilidad supera el umbral de 0.5, permitiendo clasificar rápidamente cualquier reseña como positiva o negativa."
      ],
      "metadata": {
        "id": "i7hL2aoJkok-"
      },
      "id": "i7hL2aoJkok-"
    },
    {
      "cell_type": "code",
      "source": [
        "def predict_sentiment(review_text: str,\n",
        "                      model: nn.Module,\n",
        "                      vocab: dict,\n",
        "                      sequence_length: int = 200,\n",
        "                      device: torch.device = torch.device('cpu')) -> float:\n",
        "    \"\"\"\n",
        "    Predice la probabilidad de que `review_text` sea positiva.\n",
        "    - review_text: cadena con la reseña a clasificar.\n",
        "    - model: instancia de SentimentRNN ya entrenada.\n",
        "    - vocab: diccionario palabra->índice.\n",
        "    - sequence_length: longitud fija del input (padding/truncado).\n",
        "    - device: 'cuda' o 'cpu'.\n",
        "    Returns:\n",
        "      puntuación de positividad (entre 0 y 1).\n",
        "    \"\"\"\n",
        "    model.eval()\n",
        "\n",
        "    # 1) Tokenizar y limpiar\n",
        "    tokens = clean_and_tokenize(review_text)\n",
        "\n",
        "    # 2) Mapear a índices y calcular longitud original\n",
        "    indices = [vocab.get(tok, vocab.get('<UNK>')) for tok in tokens]\n",
        "    orig_len = min(len(indices), sequence_length)\n",
        "\n",
        "    # 3) Truncar o hacer padding\n",
        "    if len(indices) < sequence_length:\n",
        "        padded = indices + [vocab.get('<PAD>')] * (sequence_length - len(indices))\n",
        "    else:\n",
        "        padded = indices[:sequence_length]\n",
        "\n",
        "    # 4) Crear tensores de entrada y longitudes\n",
        "    x_tensor       = torch.tensor([padded], dtype=torch.long, device=device)\n",
        "    lengths_tensor = torch.tensor([orig_len], dtype=torch.long, device=device)\n",
        "\n",
        "    # 5) Forward + Sigmoid\n",
        "    with torch.no_grad():\n",
        "        logits = model(x_tensor, lengths_tensor)       # forward espera (x, lengths)\n",
        "        prob   = torch.sigmoid(logits).item()          # asumiendo salida raw\n",
        "\n",
        "    return prob\n"
      ],
      "metadata": {
        "id": "tbtQicsqWwTa"
      },
      "id": "tbtQicsqWwTa",
      "execution_count": null,
      "outputs": []
    },
    {
      "cell_type": "code",
      "source": [
        "review = \"Thanks to this movie we are all dumber than before.\"\n",
        "score = predict_sentiment(review, model_w2v, vocab, sequence_length=200, device=device)\n",
        "print(f\"Score de positividad: {score:.4f}\")\n",
        "if score >= 0.5:\n",
        "    print(\"🟢 Positive review detected!\")\n",
        "else:\n",
        "    print(\"🔴 Negative review detected!\")"
      ],
      "metadata": {
        "id": "hs_gr1QGW2D5"
      },
      "id": "hs_gr1QGW2D5",
      "execution_count": null,
      "outputs": []
    },
    {
      "cell_type": "markdown",
      "source": [
        "La reseña  recibió un **`score de positividad`** de **`0.215`**, muy por debajo del umbral **`0.5`**, por lo que el modelo la clasifica como **`Negative review`** con alta confianza. La probabilidad refleja que los términos «dumber» y la construcción irónica «Thanks to this movie…» transmiten un juicio claramente desfavorable, pero que un modelo básico podría confundir al valorar positivamente la palabra *thanks*. El LSTM ha aprendido a asociar esta combinación de palabras con la clase negativa. Si se quisiera afinar la detección de sarcasmo o matices sutiles, podría bajarse el umbral o incorporar ejemplos etiquetados de lenguaje sarcástico para mejorar la sensibilidad en este tipo de frases."
      ],
      "metadata": {
        "id": "ONaHERJlkywv"
      },
      "id": "ONaHERJlkywv"
    },
    {
      "cell_type": "markdown",
      "source": [
        "***\n",
        "\n",
        "\n",
        "# 6. Conclusión\n",
        "\n",
        "El clasificador basado en **`SentimentRNN + Word2Vec`** alcanza un rendimiento sólido (≈ 88 % de *accuracy* y F1 ≈ 0.88), aunque aún comete más falsos negativos que falsos positivos. La prueba con la reseña “Thanks to this movie we are all dumber than before.” confirma que el modelo detecta críticas evidentes. Para mejorar, convendría (i) ajustar el umbral o ponderar la clase positiva para reducir falsos negativos, (ii) reforzar la regularización (*dropout*, *weight decay*) y explorar búsqueda de hiperparámetros, y (iii) ampliar el repertorio de ejemplos —incluido sarcasmo— o probar representaciones más ricas (p. ej., embeddings contextualizados o atención) que capten mejor los matices lingüísticos."
      ],
      "metadata": {
        "id": "uDjo26cIk10k"
      },
      "id": "uDjo26cIk10k"
    },
    {
      "cell_type": "markdown",
      "id": "DwUWQIAE3O0o",
      "metadata": {
        "id": "DwUWQIAE3O0o"
      },
      "source": [
        "***\n",
        "\n",
        "\n",
        "# 7. Referencias"
      ]
    },
    {
      "cell_type": "markdown",
      "id": "BoLDjBS03xiQ",
      "metadata": {
        "id": "BoLDjBS03xiQ"
      },
      "source": [
        "\n",
        "[¹] **Pytorch, Sentiment Analysis**  \n",
        "Disponible en: [github.com](https://github.com/bentrevett/pytorch-sentiment-analysis/blob/main/2%20-%20Recurrent%20Neural%20Networks.ipynb)\n",
        "\n",
        "[¹] **GoogleNews-vectors-negative300**  \n",
        "Disponible en: [kaggle.com](https://www.kaggle.com/datasets/adarshsng/googlenewsvectors)\n",
        "\n",
        "\n",
        "[³] **Sentiment Analysis with an RNN**  \n",
        "Disponible en: [github.com](https://colab.research.google.com/github/agungsantoso/deep-learning-v2-pytorch/blob/master/sentiment-rnn/Sentiment_RNN_Exercise.ipynb#scrollTo=TJHNs4FZpmwj)\n",
        "\n",
        "\n",
        "\n",
        "[⁴] **LSTM and GRU Neural Network Performance Comparison Study: Taking Yelp Review Dataset as an Example**  \n",
        "Disponible en: [researchgate.net/](https://www.researchgate.net/publication/347267378_LSTM_and_GRU_Neural_Network_Performance_Comparison_Study_Taking_Yelp_Review_Dataset_as_an_Example)\n",
        "\n",
        "\n",
        "[⁵] **Transfer Learning: Why We Freeze and Unfreeze Model Layers**  \n",
        "Disponible en: [medium.com](https://medium.com/data-science-collective/transfer-learning-why-we-freeze-and-unfreeze-model-layers-0e0b8f9837ec)\n",
        "\n",
        "[⁶] **Understanding Gradient Clipping (and How It Can Fix Exploding Gradients Problem)**  \n",
        "Disponible en: [neptune.ai](https://neptune.ai/blog/understanding-gradient-clipping-and-how-it-can-fix-exploding-gradients-problem?utm_source=chatgpt.com)\n",
        "\n",
        "[⁷] **Sequence Modeling: Recurrent\n",
        "and Recursive Nets**  \n",
        "Disponible en: [github.io](https://egrcc.github.io/docs/dl/deeplearningbook-rnn.pdf)\n",
        "\n"
      ]
    }
  ],
  "metadata": {
    "colab": {
      "provenance": [],
      "gpuType": "T4",
      "toc_visible": true,
      "include_colab_link": true
    },
    "kernelspec": {
      "display_name": "Python 3",
      "name": "python3"
    },
    "language_info": {
      "codemirror_mode": {
        "name": "ipython",
        "version": 3
      },
      "file_extension": ".py",
      "mimetype": "text/x-python",
      "name": "python",
      "nbconvert_exporter": "python",
      "pygments_lexer": "ipython3",
      "version": "3.12.9"
    },
    "accelerator": "GPU",
    "widgets": {
      "application/vnd.jupyter.widget-state+json": {
        "f7a6915888634c1a87d536dcde7c097c": {
          "model_module": "@jupyter-widgets/controls",
          "model_name": "HBoxModel",
          "model_module_version": "1.5.0",
          "state": {
            "_dom_classes": [],
            "_model_module": "@jupyter-widgets/controls",
            "_model_module_version": "1.5.0",
            "_model_name": "HBoxModel",
            "_view_count": null,
            "_view_module": "@jupyter-widgets/controls",
            "_view_module_version": "1.5.0",
            "_view_name": "HBoxView",
            "box_style": "",
            "children": [
              "IPY_MODEL_a4db8b4ca9c84480a79f06a75c15e220",
              "IPY_MODEL_03f183b4c7964f63949407e62e2b1de5",
              "IPY_MODEL_8ece0802ce0045dea7cd5590d4ab84c8"
            ],
            "layout": "IPY_MODEL_e78d6f0920714632ae4f499f7b663919"
          }
        },
        "a4db8b4ca9c84480a79f06a75c15e220": {
          "model_module": "@jupyter-widgets/controls",
          "model_name": "HTMLModel",
          "model_module_version": "1.5.0",
          "state": {
            "_dom_classes": [],
            "_model_module": "@jupyter-widgets/controls",
            "_model_module_version": "1.5.0",
            "_model_name": "HTMLModel",
            "_view_count": null,
            "_view_module": "@jupyter-widgets/controls",
            "_view_module_version": "1.5.0",
            "_view_name": "HTMLView",
            "description": "",
            "description_tooltip": null,
            "layout": "IPY_MODEL_f80f65423a0a4a5e8b4cf137daba1ea5",
            "placeholder": "​",
            "style": "IPY_MODEL_282f967a603f4e22850c99ae59401d4d",
            "value": "GoogleNews-vectors-negative300.bin: 100%"
          }
        },
        "03f183b4c7964f63949407e62e2b1de5": {
          "model_module": "@jupyter-widgets/controls",
          "model_name": "FloatProgressModel",
          "model_module_version": "1.5.0",
          "state": {
            "_dom_classes": [],
            "_model_module": "@jupyter-widgets/controls",
            "_model_module_version": "1.5.0",
            "_model_name": "FloatProgressModel",
            "_view_count": null,
            "_view_module": "@jupyter-widgets/controls",
            "_view_module_version": "1.5.0",
            "_view_name": "ProgressView",
            "bar_style": "success",
            "description": "",
            "description_tooltip": null,
            "layout": "IPY_MODEL_8dfbabc176eb4b4ab578eb3f6b6dda7f",
            "max": 3644258522,
            "min": 0,
            "orientation": "horizontal",
            "style": "IPY_MODEL_570b023aab8147f183d5d654de13fea2",
            "value": 3644258522
          }
        },
        "8ece0802ce0045dea7cd5590d4ab84c8": {
          "model_module": "@jupyter-widgets/controls",
          "model_name": "HTMLModel",
          "model_module_version": "1.5.0",
          "state": {
            "_dom_classes": [],
            "_model_module": "@jupyter-widgets/controls",
            "_model_module_version": "1.5.0",
            "_model_name": "HTMLModel",
            "_view_count": null,
            "_view_module": "@jupyter-widgets/controls",
            "_view_module_version": "1.5.0",
            "_view_name": "HTMLView",
            "description": "",
            "description_tooltip": null,
            "layout": "IPY_MODEL_1b060555e7104ce39e3d450d827a53ba",
            "placeholder": "​",
            "style": "IPY_MODEL_c600f212c6904a9cbb2d0402c7fc6ecd",
            "value": " 3.64G/3.64G [01:04&lt;00:00, 57.3MB/s]"
          }
        },
        "e78d6f0920714632ae4f499f7b663919": {
          "model_module": "@jupyter-widgets/base",
          "model_name": "LayoutModel",
          "model_module_version": "1.2.0",
          "state": {
            "_model_module": "@jupyter-widgets/base",
            "_model_module_version": "1.2.0",
            "_model_name": "LayoutModel",
            "_view_count": null,
            "_view_module": "@jupyter-widgets/base",
            "_view_module_version": "1.2.0",
            "_view_name": "LayoutView",
            "align_content": null,
            "align_items": null,
            "align_self": null,
            "border": null,
            "bottom": null,
            "display": null,
            "flex": null,
            "flex_flow": null,
            "grid_area": null,
            "grid_auto_columns": null,
            "grid_auto_flow": null,
            "grid_auto_rows": null,
            "grid_column": null,
            "grid_gap": null,
            "grid_row": null,
            "grid_template_areas": null,
            "grid_template_columns": null,
            "grid_template_rows": null,
            "height": null,
            "justify_content": null,
            "justify_items": null,
            "left": null,
            "margin": null,
            "max_height": null,
            "max_width": null,
            "min_height": null,
            "min_width": null,
            "object_fit": null,
            "object_position": null,
            "order": null,
            "overflow": null,
            "overflow_x": null,
            "overflow_y": null,
            "padding": null,
            "right": null,
            "top": null,
            "visibility": null,
            "width": null
          }
        },
        "f80f65423a0a4a5e8b4cf137daba1ea5": {
          "model_module": "@jupyter-widgets/base",
          "model_name": "LayoutModel",
          "model_module_version": "1.2.0",
          "state": {
            "_model_module": "@jupyter-widgets/base",
            "_model_module_version": "1.2.0",
            "_model_name": "LayoutModel",
            "_view_count": null,
            "_view_module": "@jupyter-widgets/base",
            "_view_module_version": "1.2.0",
            "_view_name": "LayoutView",
            "align_content": null,
            "align_items": null,
            "align_self": null,
            "border": null,
            "bottom": null,
            "display": null,
            "flex": null,
            "flex_flow": null,
            "grid_area": null,
            "grid_auto_columns": null,
            "grid_auto_flow": null,
            "grid_auto_rows": null,
            "grid_column": null,
            "grid_gap": null,
            "grid_row": null,
            "grid_template_areas": null,
            "grid_template_columns": null,
            "grid_template_rows": null,
            "height": null,
            "justify_content": null,
            "justify_items": null,
            "left": null,
            "margin": null,
            "max_height": null,
            "max_width": null,
            "min_height": null,
            "min_width": null,
            "object_fit": null,
            "object_position": null,
            "order": null,
            "overflow": null,
            "overflow_x": null,
            "overflow_y": null,
            "padding": null,
            "right": null,
            "top": null,
            "visibility": null,
            "width": null
          }
        },
        "282f967a603f4e22850c99ae59401d4d": {
          "model_module": "@jupyter-widgets/controls",
          "model_name": "DescriptionStyleModel",
          "model_module_version": "1.5.0",
          "state": {
            "_model_module": "@jupyter-widgets/controls",
            "_model_module_version": "1.5.0",
            "_model_name": "DescriptionStyleModel",
            "_view_count": null,
            "_view_module": "@jupyter-widgets/base",
            "_view_module_version": "1.2.0",
            "_view_name": "StyleView",
            "description_width": ""
          }
        },
        "8dfbabc176eb4b4ab578eb3f6b6dda7f": {
          "model_module": "@jupyter-widgets/base",
          "model_name": "LayoutModel",
          "model_module_version": "1.2.0",
          "state": {
            "_model_module": "@jupyter-widgets/base",
            "_model_module_version": "1.2.0",
            "_model_name": "LayoutModel",
            "_view_count": null,
            "_view_module": "@jupyter-widgets/base",
            "_view_module_version": "1.2.0",
            "_view_name": "LayoutView",
            "align_content": null,
            "align_items": null,
            "align_self": null,
            "border": null,
            "bottom": null,
            "display": null,
            "flex": null,
            "flex_flow": null,
            "grid_area": null,
            "grid_auto_columns": null,
            "grid_auto_flow": null,
            "grid_auto_rows": null,
            "grid_column": null,
            "grid_gap": null,
            "grid_row": null,
            "grid_template_areas": null,
            "grid_template_columns": null,
            "grid_template_rows": null,
            "height": null,
            "justify_content": null,
            "justify_items": null,
            "left": null,
            "margin": null,
            "max_height": null,
            "max_width": null,
            "min_height": null,
            "min_width": null,
            "object_fit": null,
            "object_position": null,
            "order": null,
            "overflow": null,
            "overflow_x": null,
            "overflow_y": null,
            "padding": null,
            "right": null,
            "top": null,
            "visibility": null,
            "width": null
          }
        },
        "570b023aab8147f183d5d654de13fea2": {
          "model_module": "@jupyter-widgets/controls",
          "model_name": "ProgressStyleModel",
          "model_module_version": "1.5.0",
          "state": {
            "_model_module": "@jupyter-widgets/controls",
            "_model_module_version": "1.5.0",
            "_model_name": "ProgressStyleModel",
            "_view_count": null,
            "_view_module": "@jupyter-widgets/base",
            "_view_module_version": "1.2.0",
            "_view_name": "StyleView",
            "bar_color": null,
            "description_width": ""
          }
        },
        "1b060555e7104ce39e3d450d827a53ba": {
          "model_module": "@jupyter-widgets/base",
          "model_name": "LayoutModel",
          "model_module_version": "1.2.0",
          "state": {
            "_model_module": "@jupyter-widgets/base",
            "_model_module_version": "1.2.0",
            "_model_name": "LayoutModel",
            "_view_count": null,
            "_view_module": "@jupyter-widgets/base",
            "_view_module_version": "1.2.0",
            "_view_name": "LayoutView",
            "align_content": null,
            "align_items": null,
            "align_self": null,
            "border": null,
            "bottom": null,
            "display": null,
            "flex": null,
            "flex_flow": null,
            "grid_area": null,
            "grid_auto_columns": null,
            "grid_auto_flow": null,
            "grid_auto_rows": null,
            "grid_column": null,
            "grid_gap": null,
            "grid_row": null,
            "grid_template_areas": null,
            "grid_template_columns": null,
            "grid_template_rows": null,
            "height": null,
            "justify_content": null,
            "justify_items": null,
            "left": null,
            "margin": null,
            "max_height": null,
            "max_width": null,
            "min_height": null,
            "min_width": null,
            "object_fit": null,
            "object_position": null,
            "order": null,
            "overflow": null,
            "overflow_x": null,
            "overflow_y": null,
            "padding": null,
            "right": null,
            "top": null,
            "visibility": null,
            "width": null
          }
        },
        "c600f212c6904a9cbb2d0402c7fc6ecd": {
          "model_module": "@jupyter-widgets/controls",
          "model_name": "DescriptionStyleModel",
          "model_module_version": "1.5.0",
          "state": {
            "_model_module": "@jupyter-widgets/controls",
            "_model_module_version": "1.5.0",
            "_model_name": "DescriptionStyleModel",
            "_view_count": null,
            "_view_module": "@jupyter-widgets/base",
            "_view_module_version": "1.2.0",
            "_view_name": "StyleView",
            "description_width": ""
          }
        }
      }
    }
  },
  "nbformat": 4,
  "nbformat_minor": 5
}