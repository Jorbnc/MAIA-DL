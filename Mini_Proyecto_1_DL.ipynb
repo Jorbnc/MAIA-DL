{
  "cells": [
    {
      "cell_type": "markdown",
      "metadata": {
        "id": "view-in-github",
        "colab_type": "text"
      },
      "source": [
        "<a href=\"https://colab.research.google.com/github/Jorbnc/MAIA-DL/blob/master/Mini_Proyecto_1_DL.ipynb\" target=\"_parent\"><img src=\"https://colab.research.google.com/assets/colab-badge.svg\" alt=\"Open In Colab\"/></a>"
      ]
    },
    {
      "cell_type": "markdown",
      "id": "oa_MJEGQ6jTi",
      "metadata": {
        "id": "oa_MJEGQ6jTi"
      },
      "source": [
        "![Universidad_de_los_Andes_30.png](data:image/png;base64,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)"
      ]
    },
    {
      "cell_type": "markdown",
      "id": "sl89pic17iPU",
      "metadata": {
        "id": "sl89pic17iPU"
      },
      "source": [
        "<span style=\"font-family:Cambria Math\">\n",
        "    \n",
        "# Mini Proyecto 1, Técnica de *Deep Learning*: Clasificación de MRI con Redes Neuronales Convolucionales para Tipos de Cáncer\n",
        "\n",
        "## Descripción del problema:\n",
        "\n",
        "La **resonancia magnética** (MRI) es clave para detectar y clasificar tumores cerebrales. Gracias a las redes neuronales convolucionales (CNN), hoy podemos analizar estas imágenes con gran precisión, ya que las CNN aprenden a reconocer los patrones propios de cada tipo de tumor.\n",
        "\n",
        "Un estudio completo de MRI genera un volumen 3D formado por muchas **capas bidimensionales**. Procesar el volumen entero resulta costoso en tiempo y recursos.\n",
        "\n",
        "Para este proyecto abordaremos el problema de forma más ligera: trabajaremos solo con las imágenes 2D extraídas de cada capa. Así reducimos la carga computacional y convertimos la tarea en una clasificación de imágenes individuales, sin perder la información esencial para el diagnóstico.\n",
        "\n",
        "## Objetivo:\n",
        "\n",
        "Desarrollar un método basado en redes neuronales convolucionales que permita\n",
        "clasificar con exactitud imágenes extraídas de MRIs en una de las 4 categorías.\n",
        "\n",
        "- **Glioma**: Detecta masas anómalas con bordes irregulares y heterogeneidad en\n",
        "el tejido cerebral.\n",
        "- **Meningioma**: Identifica tumores bien delimitados originados en las meninges.\n",
        "- **Pituitary**: Clasifica adenomas hipofisarios en la región selar.\n",
        "- **Tejido sano**: Diferencia el tejido cerebral normal sin anomalías presentes\n",
        "*****\n",
        "</span>"
      ]
    },
    {
      "cell_type": "markdown",
      "id": "SiCS5j-HAbCB",
      "metadata": {
        "id": "SiCS5j-HAbCB"
      },
      "source": [
        "***\n",
        "\n",
        "<div class=\"alert alert-block alert-info\">\n",
        "<bNotar:</b >\n",
        "\n",
        "**Este proyecto es realizado por Andrés Felipe Ñungo y Jordan Bryan Núñez Campos para entrega el 2 de mayo.**\n",
        "\n",
        "Tareas:\n",
        "\n",
        "* Ajustar el código para tomar un solo canal (Andrés Ñungo)\n",
        "* Tomar los papers investigar en la teoría como se debería ver un cerebro enfermo (Andrés Ñungo)\n",
        "* Mejorar la explicación del código\n",
        "\n",
        "</div24></span>"
      ]
    },
    {
      "cell_type": "markdown",
      "id": "8VqTMx7TYgjH",
      "metadata": {
        "id": "8VqTMx7TYgjH"
      },
      "source": [
        "<span style=\"font-family:Cambria Math\">\n",
        "\n",
        "***\n",
        "    \n",
        "# Índice\n",
        "El *notebook* abordará el proyecto de la siguiente manera:\n",
        "\n",
        "1. [Instalación y carga de librerías](#instalacion-y-carga-de-librerias)\n",
        "\n",
        "2. [Análisis exploratorio y preparación de los datos](#analisis-exploratorio-y-preparacion-de-los-datos)\n",
        "\n",
        "7. [Referencias](#referencias)\n",
        "</span>"
      ]
    },
    {
      "cell_type": "markdown",
      "id": "2cyVuwlHB_W3",
      "metadata": {
        "id": "2cyVuwlHB_W3"
      },
      "source": [
        "***\n",
        "\n",
        "<span style=\"font-family:Cambria Math\">\n",
        "\n",
        "# 1. Instalación y cargue de librerías\n",
        "</span>"
      ]
    },
    {
      "cell_type": "markdown",
      "source": [
        "<span style=\"font-family:Cambria Math\">\n",
        "\n",
        "Empezamos por el cargue de las librerias que se usarán, para efectos de este proyecto. De acuerdo, a la sugerencia del enunciado del proyecto se trabaja con **`pytorch`** ya que es unos de las librerías más conocidas e intuitivas para trabajar el problema de clasificación con redes neuronales convolucionales[¹].\n",
        "\n",
        "También importamos el módulo central **`PIL`** (Python Imaging Library), *Image* que nos va a permitir más adelante el cargue, guardado y transformación de las imágenes a trabajar.\n",
        "\n",
        "Adicionalmente nos aseguramos de ignorar alertamientos y de identificar las versiones de las librerías usadas para que el ejercicio pueda ser replicable más adelante.\n",
        "</span>"
      ],
      "metadata": {
        "id": "DkjBiBB5rU6t"
      },
      "id": "DkjBiBB5rU6t"
    },
    {
      "cell_type": "code",
      "source": [
        "# Librerías básicas\n",
        "import os\n",
        "from PIL import Image\n",
        "import pandas as pd\n",
        "import numpy as np\n",
        "import random\n",
        "import matplotlib.pyplot as plt\n",
        "import matplotlib.cm as cm\n",
        "import seaborn as sns\n",
        "\n",
        "# Obtención de la información\n",
        "import kagglehub\n",
        "\n",
        "# Modelado\n",
        "import torch\n",
        "import torch.nn as nn\n",
        "import torch.optim as optim\n",
        "import torchvision.models as models\n",
        "import torchvision.transforms as transforms\n",
        "from torch.utils.data import Dataset, random_split, DataLoader\n",
        "\n",
        "# Evaluación\n",
        "from sklearn.metrics import confusion_matrix, accuracy_score , precision_recall_curve, roc_auc_score, recall_score, f1_score\n",
        "from sklearn.model_selection import RandomizedSearchCV, train_test_split\n",
        "\n",
        "# Para guardar los pesos tuneados\n",
        "import copy"
      ],
      "metadata": {
        "id": "osjmTJMvtxua"
      },
      "id": "osjmTJMvtxua",
      "execution_count": 1,
      "outputs": []
    },
    {
      "cell_type": "code",
      "execution_count": 2,
      "id": "80e4f598-6687-473b-9f1a-a66939a30fa2",
      "metadata": {
        "id": "80e4f598-6687-473b-9f1a-a66939a30fa2"
      },
      "outputs": [],
      "source": [
        "#Visulización adecuada de gráficas en notebook\n",
        "%matplotlib inline"
      ]
    },
    {
      "cell_type": "code",
      "execution_count": 3,
      "id": "LSwlUgjUjtR_",
      "metadata": {
        "id": "LSwlUgjUjtR_"
      },
      "outputs": [],
      "source": [
        "# Ignorar las warnings\n",
        "import warnings\n",
        "warnings.filterwarnings(\"ignore\")"
      ]
    },
    {
      "cell_type": "code",
      "execution_count": 8,
      "id": "FErDFqM7lGo1",
      "metadata": {
        "colab": {
          "base_uri": "https://localhost:8080/"
        },
        "id": "FErDFqM7lGo1",
        "outputId": "a850a5bc-8192-40af-88b2-7e7e55dd3d87"
      },
      "outputs": [
        {
          "output_type": "stream",
          "name": "stdout",
          "text": [
            "numpy :  2.0.2\n",
            "scikit-learn :  1.6.1\n",
            "torch :  2.6.0+cu124\n",
            "joblib :  1.4.2\n",
            "pandas :  2.2.2\n"
          ]
        }
      ],
      "source": [
        "from importlib.metadata import version\n",
        "#Librerias usadas\n",
        "librerias = ['numpy', 'scikit-learn', 'torch', 'joblib','pandas']\n",
        "for library in librerias:\n",
        "  print(library, \": \", version(library))"
      ]
    },
    {
      "cell_type": "markdown",
      "id": "qK311OLFzPep",
      "metadata": {
        "id": "qK311OLFzPep"
      },
      "source": [
        "***\n",
        "<span style=\"font-family:Cambria Math\">\n",
        "\n",
        "# 2. Análisis exploratorio y preparación de los datos\n",
        "\n",
        "Sugiero algunas consideraciones de temas de forma:\n",
        "- Para citar dentro del notebook usar súper-índices, por ejemmplo: [¹]\n",
        "- Palabras en *english* usar cursivas\n",
        "- Variables o parámetros usar la siguiente notación:  **`variable`**\n",
        "</span>"
      ]
    },
    {
      "cell_type": "code",
      "execution_count": null,
      "id": "K4yOzyWKJbov",
      "metadata": {
        "colab": {
          "base_uri": "https://localhost:8080/"
        },
        "id": "K4yOzyWKJbov",
        "outputId": "1c994f56-57e2-4a6f-e000-ed7e51454142"
      },
      "outputs": [
        {
          "output_type": "stream",
          "name": "stdout",
          "text": [
            "Path to dataset files: /kaggle/input/brain-tumor-mri-scans\n"
          ]
        }
      ],
      "source": [
        "# Descargar el conjunto de datos a partir del path suministrado\n",
        "path_kaggle = kagglehub.dataset_download(\"rm1000/brain-tumor-mri-scans\")\n",
        "print(\"Path to dataset files:\", path_kaggle)"
      ]
    },
    {
      "cell_type": "code",
      "execution_count": null,
      "id": "3d018bc8-e5de-4747-95b9-c1b7a1d4e86e",
      "metadata": {
        "id": "3d018bc8-e5de-4747-95b9-c1b7a1d4e86e",
        "colab": {
          "base_uri": "https://localhost:8080/",
          "height": 206
        },
        "outputId": "d41976bb-e61a-4900-b19a-b9eb3f2bdac7"
      },
      "outputs": [
        {
          "output_type": "execute_result",
          "data": {
            "text/plain": [
              "                                            img_path   label\n",
              "0  /kaggle/input/brain-tumor-mri-scans/glioma/066...  glioma\n",
              "1  /kaggle/input/brain-tumor-mri-scans/glioma/126...  glioma\n",
              "2  /kaggle/input/brain-tumor-mri-scans/glioma/073...  glioma\n",
              "3  /kaggle/input/brain-tumor-mri-scans/glioma/010...  glioma\n",
              "4  /kaggle/input/brain-tumor-mri-scans/glioma/037...  glioma"
            ],
            "text/html": [
              "\n",
              "  <div id=\"df-5eb48884-af57-4a32-af3f-1501c91b3ff4\" class=\"colab-df-container\">\n",
              "    <div>\n",
              "<style scoped>\n",
              "    .dataframe tbody tr th:only-of-type {\n",
              "        vertical-align: middle;\n",
              "    }\n",
              "\n",
              "    .dataframe tbody tr th {\n",
              "        vertical-align: top;\n",
              "    }\n",
              "\n",
              "    .dataframe thead th {\n",
              "        text-align: right;\n",
              "    }\n",
              "</style>\n",
              "<table border=\"1\" class=\"dataframe\">\n",
              "  <thead>\n",
              "    <tr style=\"text-align: right;\">\n",
              "      <th></th>\n",
              "      <th>img_path</th>\n",
              "      <th>label</th>\n",
              "    </tr>\n",
              "  </thead>\n",
              "  <tbody>\n",
              "    <tr>\n",
              "      <th>0</th>\n",
              "      <td>/kaggle/input/brain-tumor-mri-scans/glioma/066...</td>\n",
              "      <td>glioma</td>\n",
              "    </tr>\n",
              "    <tr>\n",
              "      <th>1</th>\n",
              "      <td>/kaggle/input/brain-tumor-mri-scans/glioma/126...</td>\n",
              "      <td>glioma</td>\n",
              "    </tr>\n",
              "    <tr>\n",
              "      <th>2</th>\n",
              "      <td>/kaggle/input/brain-tumor-mri-scans/glioma/073...</td>\n",
              "      <td>glioma</td>\n",
              "    </tr>\n",
              "    <tr>\n",
              "      <th>3</th>\n",
              "      <td>/kaggle/input/brain-tumor-mri-scans/glioma/010...</td>\n",
              "      <td>glioma</td>\n",
              "    </tr>\n",
              "    <tr>\n",
              "      <th>4</th>\n",
              "      <td>/kaggle/input/brain-tumor-mri-scans/glioma/037...</td>\n",
              "      <td>glioma</td>\n",
              "    </tr>\n",
              "  </tbody>\n",
              "</table>\n",
              "</div>\n",
              "    <div class=\"colab-df-buttons\">\n",
              "\n",
              "  <div class=\"colab-df-container\">\n",
              "    <button class=\"colab-df-convert\" onclick=\"convertToInteractive('df-5eb48884-af57-4a32-af3f-1501c91b3ff4')\"\n",
              "            title=\"Convert this dataframe to an interactive table.\"\n",
              "            style=\"display:none;\">\n",
              "\n",
              "  <svg xmlns=\"http://www.w3.org/2000/svg\" height=\"24px\" viewBox=\"0 -960 960 960\">\n",
              "    <path d=\"M120-120v-720h720v720H120Zm60-500h600v-160H180v160Zm220 220h160v-160H400v160Zm0 220h160v-160H400v160ZM180-400h160v-160H180v160Zm440 0h160v-160H620v160ZM180-180h160v-160H180v160Zm440 0h160v-160H620v160Z\"/>\n",
              "  </svg>\n",
              "    </button>\n",
              "\n",
              "  <style>\n",
              "    .colab-df-container {\n",
              "      display:flex;\n",
              "      gap: 12px;\n",
              "    }\n",
              "\n",
              "    .colab-df-convert {\n",
              "      background-color: #E8F0FE;\n",
              "      border: none;\n",
              "      border-radius: 50%;\n",
              "      cursor: pointer;\n",
              "      display: none;\n",
              "      fill: #1967D2;\n",
              "      height: 32px;\n",
              "      padding: 0 0 0 0;\n",
              "      width: 32px;\n",
              "    }\n",
              "\n",
              "    .colab-df-convert:hover {\n",
              "      background-color: #E2EBFA;\n",
              "      box-shadow: 0px 1px 2px rgba(60, 64, 67, 0.3), 0px 1px 3px 1px rgba(60, 64, 67, 0.15);\n",
              "      fill: #174EA6;\n",
              "    }\n",
              "\n",
              "    .colab-df-buttons div {\n",
              "      margin-bottom: 4px;\n",
              "    }\n",
              "\n",
              "    [theme=dark] .colab-df-convert {\n",
              "      background-color: #3B4455;\n",
              "      fill: #D2E3FC;\n",
              "    }\n",
              "\n",
              "    [theme=dark] .colab-df-convert:hover {\n",
              "      background-color: #434B5C;\n",
              "      box-shadow: 0px 1px 3px 1px rgba(0, 0, 0, 0.15);\n",
              "      filter: drop-shadow(0px 1px 2px rgba(0, 0, 0, 0.3));\n",
              "      fill: #FFFFFF;\n",
              "    }\n",
              "  </style>\n",
              "\n",
              "    <script>\n",
              "      const buttonEl =\n",
              "        document.querySelector('#df-5eb48884-af57-4a32-af3f-1501c91b3ff4 button.colab-df-convert');\n",
              "      buttonEl.style.display =\n",
              "        google.colab.kernel.accessAllowed ? 'block' : 'none';\n",
              "\n",
              "      async function convertToInteractive(key) {\n",
              "        const element = document.querySelector('#df-5eb48884-af57-4a32-af3f-1501c91b3ff4');\n",
              "        const dataTable =\n",
              "          await google.colab.kernel.invokeFunction('convertToInteractive',\n",
              "                                                    [key], {});\n",
              "        if (!dataTable) return;\n",
              "\n",
              "        const docLinkHtml = 'Like what you see? Visit the ' +\n",
              "          '<a target=\"_blank\" href=https://colab.research.google.com/notebooks/data_table.ipynb>data table notebook</a>'\n",
              "          + ' to learn more about interactive tables.';\n",
              "        element.innerHTML = '';\n",
              "        dataTable['output_type'] = 'display_data';\n",
              "        await google.colab.output.renderOutput(dataTable, element);\n",
              "        const docLink = document.createElement('div');\n",
              "        docLink.innerHTML = docLinkHtml;\n",
              "        element.appendChild(docLink);\n",
              "      }\n",
              "    </script>\n",
              "  </div>\n",
              "\n",
              "\n",
              "<div id=\"df-853ad1a5-fc82-424d-9f2c-6ec53ce53d37\">\n",
              "  <button class=\"colab-df-quickchart\" onclick=\"quickchart('df-853ad1a5-fc82-424d-9f2c-6ec53ce53d37')\"\n",
              "            title=\"Suggest charts\"\n",
              "            style=\"display:none;\">\n",
              "\n",
              "<svg xmlns=\"http://www.w3.org/2000/svg\" height=\"24px\"viewBox=\"0 0 24 24\"\n",
              "     width=\"24px\">\n",
              "    <g>\n",
              "        <path d=\"M19 3H5c-1.1 0-2 .9-2 2v14c0 1.1.9 2 2 2h14c1.1 0 2-.9 2-2V5c0-1.1-.9-2-2-2zM9 17H7v-7h2v7zm4 0h-2V7h2v10zm4 0h-2v-4h2v4z\"/>\n",
              "    </g>\n",
              "</svg>\n",
              "  </button>\n",
              "\n",
              "<style>\n",
              "  .colab-df-quickchart {\n",
              "      --bg-color: #E8F0FE;\n",
              "      --fill-color: #1967D2;\n",
              "      --hover-bg-color: #E2EBFA;\n",
              "      --hover-fill-color: #174EA6;\n",
              "      --disabled-fill-color: #AAA;\n",
              "      --disabled-bg-color: #DDD;\n",
              "  }\n",
              "\n",
              "  [theme=dark] .colab-df-quickchart {\n",
              "      --bg-color: #3B4455;\n",
              "      --fill-color: #D2E3FC;\n",
              "      --hover-bg-color: #434B5C;\n",
              "      --hover-fill-color: #FFFFFF;\n",
              "      --disabled-bg-color: #3B4455;\n",
              "      --disabled-fill-color: #666;\n",
              "  }\n",
              "\n",
              "  .colab-df-quickchart {\n",
              "    background-color: var(--bg-color);\n",
              "    border: none;\n",
              "    border-radius: 50%;\n",
              "    cursor: pointer;\n",
              "    display: none;\n",
              "    fill: var(--fill-color);\n",
              "    height: 32px;\n",
              "    padding: 0;\n",
              "    width: 32px;\n",
              "  }\n",
              "\n",
              "  .colab-df-quickchart:hover {\n",
              "    background-color: var(--hover-bg-color);\n",
              "    box-shadow: 0 1px 2px rgba(60, 64, 67, 0.3), 0 1px 3px 1px rgba(60, 64, 67, 0.15);\n",
              "    fill: var(--button-hover-fill-color);\n",
              "  }\n",
              "\n",
              "  .colab-df-quickchart-complete:disabled,\n",
              "  .colab-df-quickchart-complete:disabled:hover {\n",
              "    background-color: var(--disabled-bg-color);\n",
              "    fill: var(--disabled-fill-color);\n",
              "    box-shadow: none;\n",
              "  }\n",
              "\n",
              "  .colab-df-spinner {\n",
              "    border: 2px solid var(--fill-color);\n",
              "    border-color: transparent;\n",
              "    border-bottom-color: var(--fill-color);\n",
              "    animation:\n",
              "      spin 1s steps(1) infinite;\n",
              "  }\n",
              "\n",
              "  @keyframes spin {\n",
              "    0% {\n",
              "      border-color: transparent;\n",
              "      border-bottom-color: var(--fill-color);\n",
              "      border-left-color: var(--fill-color);\n",
              "    }\n",
              "    20% {\n",
              "      border-color: transparent;\n",
              "      border-left-color: var(--fill-color);\n",
              "      border-top-color: var(--fill-color);\n",
              "    }\n",
              "    30% {\n",
              "      border-color: transparent;\n",
              "      border-left-color: var(--fill-color);\n",
              "      border-top-color: var(--fill-color);\n",
              "      border-right-color: var(--fill-color);\n",
              "    }\n",
              "    40% {\n",
              "      border-color: transparent;\n",
              "      border-right-color: var(--fill-color);\n",
              "      border-top-color: var(--fill-color);\n",
              "    }\n",
              "    60% {\n",
              "      border-color: transparent;\n",
              "      border-right-color: var(--fill-color);\n",
              "    }\n",
              "    80% {\n",
              "      border-color: transparent;\n",
              "      border-right-color: var(--fill-color);\n",
              "      border-bottom-color: var(--fill-color);\n",
              "    }\n",
              "    90% {\n",
              "      border-color: transparent;\n",
              "      border-bottom-color: var(--fill-color);\n",
              "    }\n",
              "  }\n",
              "</style>\n",
              "\n",
              "  <script>\n",
              "    async function quickchart(key) {\n",
              "      const quickchartButtonEl =\n",
              "        document.querySelector('#' + key + ' button');\n",
              "      quickchartButtonEl.disabled = true;  // To prevent multiple clicks.\n",
              "      quickchartButtonEl.classList.add('colab-df-spinner');\n",
              "      try {\n",
              "        const charts = await google.colab.kernel.invokeFunction(\n",
              "            'suggestCharts', [key], {});\n",
              "      } catch (error) {\n",
              "        console.error('Error during call to suggestCharts:', error);\n",
              "      }\n",
              "      quickchartButtonEl.classList.remove('colab-df-spinner');\n",
              "      quickchartButtonEl.classList.add('colab-df-quickchart-complete');\n",
              "    }\n",
              "    (() => {\n",
              "      let quickchartButtonEl =\n",
              "        document.querySelector('#df-853ad1a5-fc82-424d-9f2c-6ec53ce53d37 button');\n",
              "      quickchartButtonEl.style.display =\n",
              "        google.colab.kernel.accessAllowed ? 'block' : 'none';\n",
              "    })();\n",
              "  </script>\n",
              "</div>\n",
              "\n",
              "    </div>\n",
              "  </div>\n"
            ],
            "application/vnd.google.colaboratory.intrinsic+json": {
              "type": "dataframe",
              "variable_name": "df_paths",
              "summary": "{\n  \"name\": \"df_paths\",\n  \"rows\": 7023,\n  \"fields\": [\n    {\n      \"column\": \"img_path\",\n      \"properties\": {\n        \"dtype\": \"string\",\n        \"num_unique_values\": 7023,\n        \"samples\": [\n          \"/kaggle/input/brain-tumor-mri-scans/meningioma/0517.jpg\",\n          \"/kaggle/input/brain-tumor-mri-scans/healthy/0083.jpg\",\n          \"/kaggle/input/brain-tumor-mri-scans/healthy/1301.jpg\"\n        ],\n        \"semantic_type\": \"\",\n        \"description\": \"\"\n      }\n    },\n    {\n      \"column\": \"label\",\n      \"properties\": {\n        \"dtype\": \"category\",\n        \"num_unique_values\": 4,\n        \"samples\": [\n          \"healthy\",\n          \"pituitary\",\n          \"glioma\"\n        ],\n        \"semantic_type\": \"\",\n        \"description\": \"\"\n      }\n    }\n  ]\n}"
            }
          },
          "metadata": {},
          "execution_count": 33
        }
      ],
      "source": [
        "labels = ['glioma', 'healthy', 'meningioma', 'pituitary']\n",
        "num_labels = len(labels)\n",
        "label2idx = {label: idx for idx, label in enumerate(labels)}\n",
        "idx2label = {v: k for k, v in label2idx.items()}\n",
        "\n",
        "# Cargar solo los paths de las imágenes\n",
        "path_raiz = path_kaggle\n",
        "dir_paths = {label: os.path.join(path_raiz, label) for label in labels}\n",
        "\n",
        "# Dataframe con los paths\n",
        "df_paths = []\n",
        "for label, path in dir_paths.items():\n",
        "    imagenes = os.listdir(path)\n",
        "    for img in imagenes:\n",
        "        if img.lower().endswith('.jpg'):\n",
        "            img_path = os.path.join(path, img)\n",
        "            df_paths.append({'img_path': img_path, 'label': label})\n",
        "\n",
        "df_paths = pd.DataFrame(df_paths)\n",
        "df_paths.head()"
      ]
    },
    {
      "cell_type": "markdown",
      "id": "CNfurSnbmf79",
      "metadata": {
        "id": "CNfurSnbmf79"
      },
      "source": [
        "***\n",
        "<span style=\"font-family:Cambria Math\">\n",
        "\n",
        "XXXXXXX\n",
        "</span>"
      ]
    },
    {
      "cell_type": "markdown",
      "id": "_ypyorGqwmRl",
      "metadata": {
        "id": "_ypyorGqwmRl"
      },
      "source": [
        "***\n",
        "<span style=\"font-family:Cambria Math\">\n",
        "\n",
        "# 3. Definición de *pipelines* de preprocesamiento\n",
        "\n",
        "</span>"
      ]
    },
    {
      "cell_type": "markdown",
      "id": "FISKAzAZH4Iz",
      "metadata": {
        "id": "FISKAzAZH4Iz"
      },
      "source": [
        "***\n",
        "<span style=\"font-family:Cambria Math\">\n",
        "\n",
        "## Análisis de la Distribución de los Datos\n",
        "\n",
        "\n",
        "</span>"
      ]
    },
    {
      "cell_type": "markdown",
      "id": "4370a607-ad43-4c5d-bddd-1a9370469409",
      "metadata": {
        "id": "4370a607-ad43-4c5d-bddd-1a9370469409"
      },
      "source": [
        "***\n",
        "\n",
        "<span style=\"font-family:Cambria Math\">\n",
        "\n",
        "## Pipeline de Preprocesamiento\n",
        "\n",
        "`CenterCrop` (en lugar de `RandomCrop`) funciona bien porque los imágenes original prese\n",
        "\n",
        "</span>"
      ]
    },
    {
      "cell_type": "code",
      "execution_count": null,
      "id": "boj68OJEKvb1",
      "metadata": {
        "id": "boj68OJEKvb1"
      },
      "outputs": [],
      "source": [
        "# Pipeline de preprocesamiento recomendado en https://pytorch.org/hub/pytorch_vision_alexnet/\n",
        "transform_pipeline = transforms.Compose([\n",
        "    transforms.Resize(256),\n",
        "    transforms.CenterCrop(224),\n",
        "    transforms.ToTensor(),\n",
        "    transforms.Normalize(mean=[0.485, 0.456, 0.406], std=[0.229, 0.224, 0.225]),\n",
        "])"
      ]
    },
    {
      "cell_type": "code",
      "execution_count": null,
      "id": "Mfo9TImaKytg",
      "metadata": {
        "id": "Mfo9TImaKytg"
      },
      "outputs": [],
      "source": [
        "# COMPROBAR:\n",
        "# Al parecer este tipo de lógica se llama \"Lazy Evaluation/Programming\"\n",
        "# Es decir, solo se declara lo que se queire hacer, pero se pospone la ejecución para cuando sea realmente necesario\n",
        "\n",
        "# Subclase de Dataset de PyTorch (para cargar más eficientemente la data -> Lazy evaluation)\n",
        "class ImgDataset(Dataset):\n",
        "    def __init__(self, dataframe_paths_labels, transformacion=None, label2idx=None):\n",
        "        self.dataframe = df_paths\n",
        "        self.transformacion = transformacion\n",
        "        self.label2idx = label2idx or {}\n",
        "\n",
        "    def __len__(self):\n",
        "        return len(self.dataframe)\n",
        "\n",
        "    def __getitem__(self, idx):\n",
        "        fila = self.dataframe.iloc[idx]\n",
        "        img_path = fila['img_path']\n",
        "        label = fila['label']\n",
        "\n",
        "        # Si los labels son strings, conviértelos a índices (si label2idx está definido)\n",
        "        if self.label2idx:\n",
        "            label = self.label2idx[label]\n",
        "\n",
        "        # Leer y convertir a RGB\n",
        "        with Image.open(img_path) as img:\n",
        "            img = img.convert('RGB') # OJO: Solo tenemos un canal en B/N\n",
        "\n",
        "            # Aplicar transformación custom o solo a Tensor\n",
        "            img = self.transformacion(img) if self.transformacion else transforms.ToTensor()(img)\n",
        "\n",
        "        return img, label"
      ]
    },
    {
      "cell_type": "code",
      "source": [
        "# Instanciación de la clase de Dataset\n",
        "dataset = ImgDataset(df_paths, transformacion=transform_pipeline, label2idx=label2idx)"
      ],
      "metadata": {
        "id": "P-DS39ro17Wl"
      },
      "id": "P-DS39ro17Wl",
      "execution_count": null,
      "outputs": []
    },
    {
      "cell_type": "code",
      "source": [
        "#tensor, etiqueta = dataset[1]\n",
        "dataset[100]"
      ],
      "metadata": {
        "colab": {
          "base_uri": "https://localhost:8080/"
        },
        "id": "bPbbXYzFMvBb",
        "outputId": "6ae0fc53-bf59-4a2e-b3b9-48c55365bcf8"
      },
      "id": "bPbbXYzFMvBb",
      "execution_count": null,
      "outputs": [
        {
          "output_type": "execute_result",
          "data": {
            "text/plain": [
              "(tensor([[[-2.1179, -2.1179, -2.1179,  ..., -2.1179, -2.1179, -2.1179],\n",
              "          [-2.1179, -2.1179, -2.1179,  ..., -2.1179, -2.1179, -2.1179],\n",
              "          [-2.1179, -2.1179, -2.1179,  ..., -2.1179, -2.1179, -2.1179],\n",
              "          ...,\n",
              "          [-2.1179, -2.1179, -2.1179,  ..., -2.1179, -2.1179, -2.1179],\n",
              "          [-2.1179, -2.1179, -2.1179,  ..., -2.1179, -2.1179, -2.1179],\n",
              "          [-2.1179, -2.1179, -2.1179,  ..., -2.1179, -2.1179, -2.1179]],\n",
              " \n",
              "         [[-2.0357, -2.0357, -2.0357,  ..., -2.0357, -2.0357, -2.0357],\n",
              "          [-2.0357, -2.0357, -2.0357,  ..., -2.0357, -2.0357, -2.0357],\n",
              "          [-2.0357, -2.0357, -2.0357,  ..., -2.0357, -2.0357, -2.0357],\n",
              "          ...,\n",
              "          [-2.0357, -2.0357, -2.0357,  ..., -2.0357, -2.0357, -2.0357],\n",
              "          [-2.0357, -2.0357, -2.0357,  ..., -2.0357, -2.0357, -2.0357],\n",
              "          [-2.0357, -2.0357, -2.0357,  ..., -2.0357, -2.0357, -2.0357]],\n",
              " \n",
              "         [[-1.8044, -1.8044, -1.8044,  ..., -1.8044, -1.8044, -1.8044],\n",
              "          [-1.8044, -1.8044, -1.8044,  ..., -1.8044, -1.8044, -1.8044],\n",
              "          [-1.8044, -1.8044, -1.8044,  ..., -1.8044, -1.8044, -1.8044],\n",
              "          ...,\n",
              "          [-1.8044, -1.8044, -1.8044,  ..., -1.8044, -1.8044, -1.8044],\n",
              "          [-1.8044, -1.8044, -1.8044,  ..., -1.8044, -1.8044, -1.8044],\n",
              "          [-1.8044, -1.8044, -1.8044,  ..., -1.8044, -1.8044, -1.8044]]]),\n",
              " 0)"
            ]
          },
          "metadata": {},
          "execution_count": 37
        }
      ]
    },
    {
      "cell_type": "markdown",
      "id": "u2a-f8cDnhsF",
      "metadata": {
        "id": "u2a-f8cDnhsF"
      },
      "source": [
        "***\n",
        "<span style=\"font-family:Cambria Math\">\n",
        "\n",
        "Plotear una imagen a partir de un tensor:\n",
        "\n",
        "</span>"
      ]
    },
    {
      "cell_type": "code",
      "source": [
        "# (canal, filas, columnas)\n",
        "# (3, 256, 256)\n",
        "# (256, 256, 3)\n",
        "# Convertir de Tensor a Numpy\n",
        "def tensor2numpy(tensor):\n",
        "  return tensor.permute(1, 2, 0).numpy()\n",
        "\n",
        "idx = random.randint(0,len(dataset))\n",
        "plt.imshow(tensor2numpy(dataset[idx][0]))"
      ],
      "metadata": {
        "colab": {
          "base_uri": "https://localhost:8080/",
          "height": 491
        },
        "id": "uzX9HSv4zFwu",
        "outputId": "173f1c44-5c8e-4e82-c58b-47e427aeea0a"
      },
      "id": "uzX9HSv4zFwu",
      "execution_count": null,
      "outputs": [
        {
          "output_type": "stream",
          "name": "stderr",
          "text": [
            "WARNING:matplotlib.image:Clipping input data to the valid range for imshow with RGB data ([0..1] for floats or [0..255] for integers). Got range [-2.117904..2.0822659].\n"
          ]
        },
        {
          "output_type": "execute_result",
          "data": {
            "text/plain": [
              "<matplotlib.image.AxesImage at 0x7d11d5bef090>"
            ]
          },
          "metadata": {},
          "execution_count": 38
        },
        {
          "output_type": "display_data",
          "data": {
            "text/plain": [
              "<Figure size 640x480 with 1 Axes>"
            ],
            "image/png": "[encoded data removed]"
          },
          "metadata": {}
        }
      ]
    },
    {
      "cell_type": "code",
      "execution_count": null,
      "id": "VkpiJyJ2XCbj",
      "metadata": {
        "id": "VkpiJyJ2XCbj"
      },
      "outputs": [],
      "source": []
    },
    {
      "cell_type": "markdown",
      "id": "qbfZ1IyjocL_",
      "metadata": {
        "id": "qbfZ1IyjocL_"
      },
      "source": [
        "***\n",
        "<span style=\"font-family:Cambria Math\">\n",
        "\n",
        "XXXXXXX\n",
        "</span>"
      ]
    },
    {
      "cell_type": "markdown",
      "id": "9Ud1yYW8rOPB",
      "metadata": {
        "id": "9Ud1yYW8rOPB"
      },
      "source": [
        "***\n",
        "<span style=\"font-family:Cambria Math\">\n",
        "\n",
        "XXXXXX\n",
        "</span>"
      ]
    },
    {
      "cell_type": "code",
      "execution_count": null,
      "id": "oo6AlpyyxFRT",
      "metadata": {
        "id": "oo6AlpyyxFRT"
      },
      "outputs": [],
      "source": []
    },
    {
      "cell_type": "code",
      "execution_count": null,
      "id": "V7sT0V_OoOL_",
      "metadata": {
        "id": "V7sT0V_OoOL_"
      },
      "outputs": [],
      "source": []
    },
    {
      "cell_type": "markdown",
      "id": "4FfaZOsT529h",
      "metadata": {
        "id": "4FfaZOsT529h"
      },
      "source": [
        "***\n",
        "<span style=\"font-family:Cambria Math\">\n",
        "\n",
        "XXXXXX\n",
        "</span>"
      ]
    },
    {
      "cell_type": "code",
      "source": [],
      "metadata": {
        "id": "q32Mt9nm2Fnd"
      },
      "id": "q32Mt9nm2Fnd",
      "execution_count": null,
      "outputs": []
    },
    {
      "cell_type": "markdown",
      "id": "G6-RrjwuxYEw",
      "metadata": {
        "id": "G6-RrjwuxYEw"
      },
      "source": [
        "***\n",
        "\n",
        "<span style=\"font-family:Cambria Math\">\n",
        "\n",
        "# 4. Entrenamiento de los modelos\n",
        "\n",
        "## 4.1. Modelo Básico\n",
        "\n",
        "</span>"
      ]
    },
    {
      "cell_type": "code",
      "source": [
        "#"
      ],
      "metadata": {
        "id": "a9umzez_OdDl"
      },
      "id": "a9umzez_OdDl",
      "execution_count": null,
      "outputs": []
    },
    {
      "cell_type": "markdown",
      "id": "bA44stXERD2N",
      "metadata": {
        "id": "bA44stXERD2N"
      },
      "source": [
        "***\n",
        "\n",
        "<span style=\"font-family:Cambria Math\">\n",
        "\n",
        "## 4.1. Modelo AlexNet ajustado (fine-tuning)\n",
        "\n",
        "</span>"
      ]
    },
    {
      "cell_type": "code",
      "source": [
        "# Hiperparámetros\n",
        "batch_size = 32\n",
        "num_epochs = 40\n",
        "learning_rate = 1e-4\n",
        "umbral_epochs = 10 # (i.e. detener el entrenamiento si no hay mejora durante umbral_epochs epochs)\n",
        "\n",
        "# Trabajar en GPU/CPU\n",
        "device = torch.device(\"cuda\" if torch.cuda.is_available() else \"cpu\")"
      ],
      "metadata": {
        "id": "N4CZ0LV22pFw"
      },
      "id": "N4CZ0LV22pFw",
      "execution_count": null,
      "outputs": []
    },
    {
      "cell_type": "code",
      "source": [
        "torch.cuda.is_available()"
      ],
      "metadata": {
        "colab": {
          "base_uri": "https://localhost:8080/"
        },
        "id": "xmUsQdZIO4GM",
        "outputId": "fe26ef91-5999-44e4-cef3-0bb8b56df976"
      },
      "id": "xmUsQdZIO4GM",
      "execution_count": null,
      "outputs": [
        {
          "output_type": "execute_result",
          "data": {
            "text/plain": [
              "True"
            ]
          },
          "metadata": {},
          "execution_count": 41
        }
      ]
    },
    {
      "cell_type": "code",
      "source": [
        "# Partición de los datos\n",
        "size_dataset  = len(dataset)\n",
        "size_entrenmiento = int(0.6 * size_dataset)\n",
        "size_validacion = int(0.2 * size_dataset)\n",
        "size_test = size_dataset - size_entrenmiento - size_validacion\n",
        "\n",
        "# Carga \"lazy\" de las particiones\n",
        "dataset_train, dataset_val, dataset_test = random_split(\n",
        "    dataset,\n",
        "    [size_entrenmiento, size_validacion, size_test],\n",
        "    generator=torch.Generator().manual_seed(1)\n",
        ")\n",
        "\n",
        "train_loader = DataLoader(dataset_train, batch_size=batch_size, shuffle=True)\n",
        "val_loader   = DataLoader(dataset_val,   batch_size=batch_size, shuffle=False)\n",
        "test_loader  = DataLoader(dataset_test,  batch_size=batch_size, shuffle=False)"
      ],
      "metadata": {
        "id": "QvBVZqZW5R3q"
      },
      "id": "QvBVZqZW5R3q",
      "execution_count": null,
      "outputs": []
    },
    {
      "cell_type": "code",
      "source": [
        "train_loader"
      ],
      "metadata": {
        "colab": {
          "base_uri": "https://localhost:8080/"
        },
        "id": "wKg9MISIO9cx",
        "outputId": "b5911083-cac5-473d-847c-30efcc5b2e60"
      },
      "id": "wKg9MISIO9cx",
      "execution_count": null,
      "outputs": [
        {
          "output_type": "execute_result",
          "data": {
            "text/plain": [
              "<torch.utils.data.dataloader.DataLoader at 0x7d11d5b4e650>"
            ]
          },
          "metadata": {},
          "execution_count": 43
        }
      ]
    },
    {
      "cell_type": "code",
      "source": [
        "# Cargar modelo\n",
        "model = models.alexnet(pretrained=True) # .cache #\n",
        "\n",
        "# \"Congelamos\" únicamente los features del modelo que sirven como base para cualquier aplicación de CNNs\n",
        "# Es decir, mantenemos la configuración de las capas que detectan formas básicas, bordes, esquinas, texturas, etc.\n",
        "for param in model.features.parameters():\n",
        "    param.requires_grad = False\n",
        "\n",
        "# Ahora podemos hacer fine-tuning con un dataset en particular\n",
        "\n",
        "# Observemos la arquitectura del modelo\n",
        "model"
      ],
      "metadata": {
        "colab": {
          "base_uri": "https://localhost:8080/"
        },
        "id": "HzGFuR3U6DUE",
        "outputId": "95205be2-ec28-449d-95a7-4d5909c68ca2"
      },
      "id": "HzGFuR3U6DUE",
      "execution_count": null,
      "outputs": [
        {
          "output_type": "stream",
          "name": "stderr",
          "text": [
            "/usr/local/lib/python3.11/dist-packages/torchvision/models/_utils.py:208: UserWarning: The parameter 'pretrained' is deprecated since 0.13 and may be removed in the future, please use 'weights' instead.\n",
            "  warnings.warn(\n",
            "/usr/local/lib/python3.11/dist-packages/torchvision/models/_utils.py:223: UserWarning: Arguments other than a weight enum or `None` for 'weights' are deprecated since 0.13 and may be removed in the future. The current behavior is equivalent to passing `weights=AlexNet_Weights.IMAGENET1K_V1`. You can also use `weights=AlexNet_Weights.DEFAULT` to get the most up-to-date weights.\n",
            "  warnings.warn(msg)\n"
          ]
        },
        {
          "output_type": "execute_result",
          "data": {
            "text/plain": [
              "AlexNet(\n",
              "  (features): Sequential(\n",
              "    (0): Conv2d(3, 64, kernel_size=(11, 11), stride=(4, 4), padding=(2, 2))\n",
              "    (1): ReLU(inplace=True)\n",
              "    (2): MaxPool2d(kernel_size=3, stride=2, padding=0, dilation=1, ceil_mode=False)\n",
              "    (3): Conv2d(64, 192, kernel_size=(5, 5), stride=(1, 1), padding=(2, 2))\n",
              "    (4): ReLU(inplace=True)\n",
              "    (5): MaxPool2d(kernel_size=3, stride=2, padding=0, dilation=1, ceil_mode=False)\n",
              "    (6): Conv2d(192, 384, kernel_size=(3, 3), stride=(1, 1), padding=(1, 1))\n",
              "    (7): ReLU(inplace=True)\n",
              "    (8): Conv2d(384, 256, kernel_size=(3, 3), stride=(1, 1), padding=(1, 1))\n",
              "    (9): ReLU(inplace=True)\n",
              "    (10): Conv2d(256, 256, kernel_size=(3, 3), stride=(1, 1), padding=(1, 1))\n",
              "    (11): ReLU(inplace=True)\n",
              "    (12): MaxPool2d(kernel_size=3, stride=2, padding=0, dilation=1, ceil_mode=False)\n",
              "  )\n",
              "  (avgpool): AdaptiveAvgPool2d(output_size=(6, 6))\n",
              "  (classifier): Sequential(\n",
              "    (0): Dropout(p=0.5, inplace=False)\n",
              "    (1): Linear(in_features=9216, out_features=4096, bias=True)\n",
              "    (2): ReLU(inplace=True)\n",
              "    (3): Dropout(p=0.5, inplace=False)\n",
              "    (4): Linear(in_features=4096, out_features=4096, bias=True)\n",
              "    (5): ReLU(inplace=True)\n",
              "    (6): Linear(in_features=4096, out_features=1000, bias=True)\n",
              "  )\n",
              ")"
            ]
          },
          "metadata": {},
          "execution_count": 44
        }
      ]
    },
    {
      "cell_type": "code",
      "source": [
        "# Adaptando AlexNet para nuestra aplicación\n",
        "# AlexNet tiene un submodulo \"classifier\" que por defecto espera un número de features (capa anterior)\n",
        "num_features = model.classifier[6].in_features # Por defecto es 1000\n",
        "model.classifier[6] = nn.Linear(num_features, num_labels) # Modificamos la capa para un output de 4 labels\n",
        "model"
      ],
      "metadata": {
        "colab": {
          "base_uri": "https://localhost:8080/"
        },
        "id": "oAIgaHPj9UQu",
        "outputId": "62b176b8-ae48-4dfb-e139-44546ab7328e"
      },
      "id": "oAIgaHPj9UQu",
      "execution_count": null,
      "outputs": [
        {
          "output_type": "execute_result",
          "data": {
            "text/plain": [
              "AlexNet(\n",
              "  (features): Sequential(\n",
              "    (0): Conv2d(3, 64, kernel_size=(11, 11), stride=(4, 4), padding=(2, 2))\n",
              "    (1): ReLU(inplace=True)\n",
              "    (2): MaxPool2d(kernel_size=3, stride=2, padding=0, dilation=1, ceil_mode=False)\n",
              "    (3): Conv2d(64, 192, kernel_size=(5, 5), stride=(1, 1), padding=(2, 2))\n",
              "    (4): ReLU(inplace=True)\n",
              "    (5): MaxPool2d(kernel_size=3, stride=2, padding=0, dilation=1, ceil_mode=False)\n",
              "    (6): Conv2d(192, 384, kernel_size=(3, 3), stride=(1, 1), padding=(1, 1))\n",
              "    (7): ReLU(inplace=True)\n",
              "    (8): Conv2d(384, 256, kernel_size=(3, 3), stride=(1, 1), padding=(1, 1))\n",
              "    (9): ReLU(inplace=True)\n",
              "    (10): Conv2d(256, 256, kernel_size=(3, 3), stride=(1, 1), padding=(1, 1))\n",
              "    (11): ReLU(inplace=True)\n",
              "    (12): MaxPool2d(kernel_size=3, stride=2, padding=0, dilation=1, ceil_mode=False)\n",
              "  )\n",
              "  (avgpool): AdaptiveAvgPool2d(output_size=(6, 6))\n",
              "  (classifier): Sequential(\n",
              "    (0): Dropout(p=0.5, inplace=False)\n",
              "    (1): Linear(in_features=9216, out_features=4096, bias=True)\n",
              "    (2): ReLU(inplace=True)\n",
              "    (3): Dropout(p=0.5, inplace=False)\n",
              "    (4): Linear(in_features=4096, out_features=4096, bias=True)\n",
              "    (5): ReLU(inplace=True)\n",
              "    (6): Linear(in_features=4096, out_features=4, bias=True)\n",
              "  )\n",
              ")"
            ]
          },
          "metadata": {},
          "execution_count": 45
        }
      ]
    },
    {
      "cell_type": "code",
      "source": [
        "# Cargar al device elegido\n",
        "model = model.to(device)"
      ],
      "metadata": {
        "id": "JAL3sReA-I8h"
      },
      "id": "JAL3sReA-I8h",
      "execution_count": null,
      "outputs": []
    },
    {
      "cell_type": "code",
      "source": [
        "# Función de pérdida y optimizador\n",
        "loss_f = nn.CrossEntropyLoss() # TODO: Probar otras función losses\n",
        "optimizer = optim.Adam(model.parameters(), lr=learning_rate)\n",
        "\n",
        "# 3) Training loop with early stopping\n",
        "pesos_mejor_modelo = copy.deepcopy(model.state_dict())\n",
        "mejor_loss_val  = float('inf')\n",
        "epochs_no_imp  = 0"
      ],
      "metadata": {
        "id": "6et9JqI8_n16"
      },
      "id": "6et9JqI8_n16",
      "execution_count": null,
      "outputs": []
    },
    {
      "cell_type": "markdown",
      "source": [
        "\n",
        "TODO:\n",
        "- [ ] Acumular train y val loss para plotear\n",
        "- [ ] Acumular train y val accuracy para plotear\n",
        "\n"
      ],
      "metadata": {
        "id": "oz4ZPXG44a8W"
      },
      "id": "oz4ZPXG44a8W"
    },
    {
      "cell_type": "code",
      "source": [
        "for epoch in range(1, num_epochs+1):\n",
        "\n",
        "    # Entrenamieto\n",
        "    model.train() # Al parecer aplica dropout -> Entender\n",
        "    loss_acumulada = 0.0\n",
        "    for imgs, labels in train_loader:\n",
        "        imgs, labels = imgs.to(device), labels.to(device)\n",
        "        optimizer.zero_grad()\n",
        "        outputs = model(imgs)\n",
        "        loss = loss_f(outputs, labels)\n",
        "        loss.backward()\n",
        "        optimizer.step()\n",
        "        loss_acumulada += loss.item() * imgs.size(0)\n",
        "\n",
        "    train_loss = loss_acumulada / len(train_loader.dataset)\n",
        "\n",
        "    # Validación\n",
        "    model.eval()\n",
        "    val_loss = 0.0\n",
        "    with torch.no_grad(): # Desactiva la actualización de parámetos (no gradient)\n",
        "        for imgs, labels in val_loader:\n",
        "            imgs, labels = imgs.to(device), labels.to(device)\n",
        "            outputs = model(imgs)\n",
        "            loss = loss_f(outputs, labels)\n",
        "            val_loss += loss.item() * imgs.size(0)\n",
        "\n",
        "    val_loss /= len(val_loader.dataset)\n",
        "    print(f\"Epoch {epoch}/{num_epochs}  Train Loss: {train_loss:.4f}  Val Loss: {val_loss:.4f}\")\n",
        "\n",
        "    # Early stopping\n",
        "    if val_loss < mejor_loss_val:\n",
        "        mejor_loss_val = val_loss\n",
        "        pesos_mejor_modelo = copy.deepcopy(model.state_dict())\n",
        "        epochs_sin_mejorar = 0\n",
        "    else:\n",
        "        epochs_sin_mejorar += 1\n",
        "        if epochs_sin_mejorar >= umbral_epochs:\n",
        "            print(f\"→ Early stopping después de {epoch} epochs.\")\n",
        "            break"
      ],
      "metadata": {
        "colab": {
          "base_uri": "https://localhost:8080/"
        },
        "id": "O-cjHNIS5zyf",
        "outputId": "0399da80-bc8e-4fd3-fc92-a5cdc0b7b6c6"
      },
      "id": "O-cjHNIS5zyf",
      "execution_count": null,
      "outputs": [
        {
          "output_type": "stream",
          "name": "stdout",
          "text": [
            "Epoch 1/40  Train Loss: 0.4174  Val Loss: 0.2431\n",
            "Epoch 2/40  Train Loss: 0.2068  Val Loss: 0.2106\n",
            "Epoch 3/40  Train Loss: 0.1514  Val Loss: 0.1725\n",
            "Epoch 4/40  Train Loss: 0.1134  Val Loss: 0.1489\n",
            "Epoch 5/40  Train Loss: 0.0831  Val Loss: 0.1760\n",
            "Epoch 6/40  Train Loss: 0.0762  Val Loss: 0.1592\n",
            "Epoch 7/40  Train Loss: 0.0768  Val Loss: 0.1335\n",
            "Epoch 8/40  Train Loss: 0.0520  Val Loss: 0.1571\n",
            "Epoch 9/40  Train Loss: 0.0478  Val Loss: 0.1555\n",
            "Epoch 10/40  Train Loss: 0.0555  Val Loss: 0.1888\n",
            "Epoch 11/40  Train Loss: 0.0398  Val Loss: 0.1278\n",
            "Epoch 12/40  Train Loss: 0.0331  Val Loss: 0.1429\n",
            "Epoch 13/40  Train Loss: 0.0297  Val Loss: 0.1679\n",
            "Epoch 14/40  Train Loss: 0.0200  Val Loss: 0.1799\n",
            "Epoch 15/40  Train Loss: 0.0250  Val Loss: 0.2004\n",
            "Epoch 16/40  Train Loss: 0.0444  Val Loss: 0.1765\n",
            "Epoch 17/40  Train Loss: 0.0263  Val Loss: 0.1569\n",
            "Epoch 18/40  Train Loss: 0.0234  Val Loss: 0.2190\n",
            "Epoch 19/40  Train Loss: 0.0157  Val Loss: 0.1926\n",
            "Epoch 20/40  Train Loss: 0.0277  Val Loss: 0.1739\n",
            "Epoch 21/40  Train Loss: 0.0409  Val Loss: 0.2400\n",
            "→ Early stopping después de 21 epochs.\n"
          ]
        }
      ]
    },
    {
      "cell_type": "code",
      "source": [
        "# pesos_mejor_modelo"
      ],
      "metadata": {
        "id": "JAn7cJCxGrwd"
      },
      "id": "JAn7cJCxGrwd",
      "execution_count": null,
      "outputs": []
    },
    {
      "cell_type": "code",
      "source": [
        "# Cargar mejores pesos\n",
        "model.load_state_dict(pesos_mejor_modelo)\n",
        "\n",
        "# Test\n",
        "model.eval()\n",
        "correctos = 0\n",
        "total   = 0\n",
        "with torch.no_grad():\n",
        "    for imgs, labels in test_loader:\n",
        "        imgs, labels = imgs.to(device), labels.to(device)\n",
        "        outputs = model(imgs)\n",
        "        _, predicciones = torch.max(outputs, 1)\n",
        "        correctos += (predicciones == labels).sum().item()\n",
        "        total += labels.size(0)\n",
        "\n",
        "test_accuracy = correctos / total * 100 # PROBAR TAMBIÉN F-SCORE\n",
        "print(f\"Test Accuracy: {test_accuracy:.2f}%\")"
      ],
      "metadata": {
        "colab": {
          "base_uri": "https://localhost:8080/"
        },
        "id": "vDMgSSh_7euD",
        "outputId": "cf105714-7e41-4b9f-fc07-54da73f2ff8b"
      },
      "id": "vDMgSSh_7euD",
      "execution_count": null,
      "outputs": [
        {
          "output_type": "stream",
          "name": "stdout",
          "text": [
            "Test Accuracy: 95.45%\n"
          ]
        }
      ]
    },
    {
      "cell_type": "markdown",
      "id": "7JgtiyyfIyMM",
      "metadata": {
        "id": "7JgtiyyfIyMM"
      },
      "source": [
        "***\n",
        "<span style=\"font-family:Cambria Math\">\n",
        "\n",
        "# 6. Análisis de resultados y conclusiones\n",
        "\n",
        "XXXXXX\n",
        "</span>"
      ]
    },
    {
      "cell_type": "code",
      "execution_count": null,
      "id": "EE72HCk4fFLr",
      "metadata": {
        "id": "EE72HCk4fFLr"
      },
      "outputs": [],
      "source": [
        "# def visualization_history(resultsFit):\n",
        "#     \"\"\"\n",
        "#     Esta función grafica las curvas de precisión a lo largo de las épocas de entrenamiento\n",
        "#     para el conjunto de prueba como el de validación.\n",
        "#     Parámetros:\n",
        "#     resultsFit = historial de entrenamiento de un modelo entensorflow.keras\n",
        "#     Salida:\n",
        "#     Gráfica de la precisión en validación y prueba.\n",
        "#     \"\"\"\n",
        "#     # Llamado al entrono de la gráfica y fijar tamaño de visualización\n",
        "#     fig, axes = plt.subplots(1, 2, figsize=(13, 5))\n",
        "\n",
        "#     # Graficar la presición de la historia en entrenamiento\n",
        "#     axes[0].plot(range(len(resultsFit.history['accuracy'])), resultsFit.history['accuracy'],\n",
        "#            '#5a2ff4', linestyle = \"-\", marker = \"o\",\n",
        "#            label='Precisión entrenamiento', lw = 3)\n",
        "\n",
        "#     # Graficar la presición de la historia en validación\n",
        "#     axes[0].plot(range(len(resultsFit.history['val_accuracy'])), resultsFit.history['val_accuracy'],  '#60d13e',\n",
        "#            label='Precisión validación', linestyle = '-', marker = 'o', lw = 3)\n",
        "\n",
        "#     # Umbral 90% de precisión\n",
        "#     axes[0].plot(range(len(resultsFit.history['val_accuracy'])), 0.9*np.ones(len(resultsFit.history['val_accuracy'])),\n",
        "#                'red', lw = 3, label = 'Umbral')\n",
        "\n",
        "#     # Títulos de los ejes\n",
        "#     axes[0].set_xlabel('Época',fontsize=16)\n",
        "#     axes[0].set_ylabel(r'Precisión',fontsize=16)\n",
        "#     axes[0].set_ylim(top=1) # Límite de la grafica\n",
        "#     axes[0].grid()      # Activar la cuadricula\n",
        "#     axes[0].legend(fontsize=14,loc = 'lower right')   # Establecer la legenda\n",
        "\n",
        "\n",
        "#     # Graficar la pérdida de la historia en entrenamiento\n",
        "#     axes[1].plot(range(len(resultsFit.history['loss'])), resultsFit.history['loss'],\n",
        "#            '#5a2ff4', linestyle = \"-\", marker = \"o\",\n",
        "#            label='Pérdida entrenamiento', lw = 3)\n",
        "\n",
        "#     # Graficar la presición de la historia en validación\n",
        "#     axes[1].plot(range(len(resultsFit.history['val_loss'])), resultsFit.history['val_loss'],  '#60d13e',\n",
        "#            label='Pérdida validación', linestyle = '-', marker = 'o', lw = 3)\n",
        "\n",
        "#     # Títulos de los ejes\n",
        "#     axes[1].set_xlabel('Época',fontsize=16)\n",
        "#     axes[1].set_ylabel(r'Pérdida',fontsize=16)\n",
        "#     axes[1].grid()      # Activar la cuadricula\n",
        "#     axes[1].legend(fontsize=14,loc = 'upper right')   # Establecer la legenda\n",
        "\n",
        "\n",
        "#     plt.tight_layout() # Ajusta automáticamente el diseño de la figura\n",
        "#     plt.show()"
      ]
    },
    {
      "cell_type": "code",
      "execution_count": null,
      "id": "LbDqp-hbXTEr",
      "metadata": {
        "id": "LbDqp-hbXTEr"
      },
      "outputs": [],
      "source": [
        "# # Evaluación del modelo en el conjunto de prueba\n",
        "# results = model.evaluate(X_test, y_test_onehot)\n",
        "\n",
        "# # Los resultados contendrán los valores de las métricas definidas, por ejemplo, pérdida y precisión.\n",
        "# print(f'Pérdida en el conjunto de prueba: {results[0]:0.2f}')\n",
        "# print(f'Precisión en el conjunto de prueba:{results[1]:0.2f}')"
      ]
    },
    {
      "cell_type": "markdown",
      "id": "6yhcCQScZ9Ny",
      "metadata": {
        "id": "6yhcCQScZ9Ny"
      },
      "source": [
        "***\n",
        "<span style=\"font-family:Cambria Math\">\n",
        "\n",
        "XXXXXXX\n",
        "</span>"
      ]
    },
    {
      "cell_type": "markdown",
      "id": "DwUWQIAE3O0o",
      "metadata": {
        "id": "DwUWQIAE3O0o"
      },
      "source": [
        "***\n",
        "<span style=\"font-family:Cambria Math\">\n",
        "\n",
        "# 7. Referencias\n",
        "</span>"
      ]
    },
    {
      "cell_type": "markdown",
      "id": "BoLDjBS03xiQ",
      "metadata": {
        "id": "BoLDjBS03xiQ"
      },
      "source": [
        "***\n",
        "<span style=\"font-family:Cambria Math\">\n",
        "\n",
        "[¹] **Pytorch, entranando un clasificador**  \n",
        "Disponible en: [Pytorch.org](https://pytorch.org/tutorials/beginner/blitz/cifar10_tutorial.html)\n",
        "\n",
        "\n",
        "\n",
        "</span>\n",
        "\n",
        "\n",
        "\n",
        "\n",
        "\n"
      ]
    }
  ],
  "metadata": {
    "accelerator": "GPU",
    "colab": {
      "gpuType": "T4",
      "provenance": [],
      "include_colab_link": true
    },
    "kernelspec": {
      "display_name": "Python 3",
      "name": "python3"
    },
    "language_info": {
      "codemirror_mode": {
        "name": "ipython",
        "version": 3
      },
      "file_extension": ".py",
      "mimetype": "text/x-python",
      "name": "python",
      "nbconvert_exporter": "python",
      "pygments_lexer": "ipython3",
      "version": "3.12.9"
    }
  },
  "nbformat": 4,
  "nbformat_minor": 5
}