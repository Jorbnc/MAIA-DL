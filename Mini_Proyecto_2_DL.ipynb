{
  "cells": [
    {
      "cell_type": "markdown",
      "metadata": {
        "id": "view-in-github",
        "colab_type": "text"
      },
      "source": [
        "<a href=\"https://colab.research.google.com/github/Jorbnc/MAIA-DL/blob/master/Mini_Proyecto_2_DL.ipynb\" target=\"_parent\"><img src=\"https://colab.research.google.com/assets/colab-badge.svg\" alt=\"Open In Colab\"/></a>"
      ]
    },
    {
      "cell_type": "markdown",
      "id": "oa_MJEGQ6jTi",
      "metadata": {
        "id": "oa_MJEGQ6jTi"
      },
      "source": [
        "![Universidad_de_los_Andes_30.png](data:image/png;base64,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)"
      ]
    },
    {
      "cell_type": "markdown",
      "id": "sl89pic17iPU",
      "metadata": {
        "id": "sl89pic17iPU"
      },
      "source": [
        "<style>\n",
        "@import url('https://fonts.googleapis.com/css2?family=Latin+Modern+Roman:wght@400;700&display=swap');\n",
        "\n",
        "body, p, h1, h2, h3, h4, h5, h6, li {\n",
        "  font-family: 'Latin Modern Roman', serif;\n",
        "}\n",
        "code, pre {\n",
        "  font-family: 'Fira Mono', monospace;\n",
        "}\n",
        "</style>\n",
        "\n",
        "***\n",
        "\n",
        "# **Mini Proyecto 2, Técnicas de *Deep Learning*: XXXX**\n",
        "\n",
        "## **Descripción del problema:**\n",
        "\n",
        "XXXXXX\n",
        "\n",
        "## **Objetivo:**\n",
        "\n",
        "XXXXX\n",
        "\n",
        "## **Resumen:**\n",
        "\n",
        "XXXX"
      ]
    },
    {
      "cell_type": "markdown",
      "id": "SiCS5j-HAbCB",
      "metadata": {
        "id": "SiCS5j-HAbCB"
      },
      "source": [
        "***\n",
        "\n",
        "**Este proyecto es realizado por Andrés Felipe Ñungo y Jordan Bryan Núñez Campos para entrega el 9 de mayo.**\n"
      ]
    },
    {
      "cell_type": "markdown",
      "source": [
        "# Tareas\n",
        "\n",
        "* Exploración y pre-procesamiento (Jordan)\n",
        "\n",
        "* Introducción, y explicación de las opciones tomadas en el PDF (Andrés y Jordan)\n",
        "\n",
        "* Validar cual es mejor Word2vec o Glove (Andrés y Jordan)  Busqueda bibliográfica para explicar informe\n",
        "\n",
        "* LSTM o GRU  (Andrés)\n",
        "\n",
        "* Pensar en ideas visualización (Andrés y Jordan)\n",
        "\n",
        "* Entrenamiento y evaluación de modelo (Andrés)"
      ],
      "metadata": {
        "id": "aP4T8CvEqYMG"
      },
      "id": "aP4T8CvEqYMG"
    },
    {
      "cell_type": "markdown",
      "id": "8VqTMx7TYgjH",
      "metadata": {
        "id": "8VqTMx7TYgjH"
      },
      "source": [
        "\n",
        "***\n",
        "# **Índice**\n",
        "\n",
        "El *notebook* abordará el proyecto de la siguiente manera:\n",
        "\n",
        "| 🔹 | Sección        |\n",
        "|----|----------------|\n",
        "| 1️⃣ | **Instalación y carga de librerías** |\n",
        "| 2️⃣ | **Análisis exploratorio y preparación de los datos**       |\n",
        "| 3️⃣ | **Definición de *pipelines* de procesamiento**          |\n",
        "| 3️⃣.1️⃣ | **Pipeline de preprocesamiento ...**   |\n",
        "| 4️⃣ | **Desarrollo del modelo RNN...**   |\n",
        "| 4️⃣.1️⃣ | **Hiperparámetros, partición y Dataloaders**   |\n",
        "| 4️⃣.2️⃣ | **Adaptación a partir de la arquitectura ...*   |\n",
        "| 4️⃣.3️⃣ | **Entrenamiento, validación y prueba**   |\n",
        "| 5️⃣ | **Análisis de resultados y conclusiones**   |\n",
        "| 6️⃣ | **Referencias**   |\n",
        "\n"
      ]
    },
    {
      "cell_type": "markdown",
      "id": "2cyVuwlHB_W3",
      "metadata": {
        "id": "2cyVuwlHB_W3"
      },
      "source": [
        "***\n",
        "\n",
        "# 1. Instalación y cargue de librerías"
      ]
    },
    {
      "cell_type": "markdown",
      "source": [
        "Empezamos por el cargue de las librerias que se usarán para efectos de este proyecto. Estas incluyen:\n",
        "\n",
        "* Librerías comunes para la lectura, procesamiento y ploteo básico de las imágenes.\n",
        "* **`kagglehub`**, para poder descargar el dataset del miniproyecto de forma conveniente\n",
        "* **`pytorch`** (de acuerdo, a la sugerencia del enunciado del proyecto) ...."
      ],
      "metadata": {
        "id": "DkjBiBB5rU6t"
      },
      "id": "DkjBiBB5rU6t"
    },
    {
      "cell_type": "code",
      "source": [
        "pip install kagglehub # Necesario para ejecutarse en Coursera"
      ],
      "metadata": {
        "id": "E406fnSfiL0M",
        "outputId": "944566d0-025f-46b1-eb11-5580e07bb94b",
        "colab": {
          "base_uri": "https://localhost:8080/"
        }
      },
      "id": "E406fnSfiL0M",
      "execution_count": 1,
      "outputs": [
        {
          "output_type": "stream",
          "name": "stdout",
          "text": [
            "Requirement already satisfied: kagglehub in /usr/local/lib/python3.11/dist-packages (0.3.12)\n",
            "Requirement already satisfied: packaging in /usr/local/lib/python3.11/dist-packages (from kagglehub) (24.2)\n",
            "Requirement already satisfied: pyyaml in /usr/local/lib/python3.11/dist-packages (from kagglehub) (6.0.2)\n",
            "Requirement already satisfied: requests in /usr/local/lib/python3.11/dist-packages (from kagglehub) (2.32.3)\n",
            "Requirement already satisfied: tqdm in /usr/local/lib/python3.11/dist-packages (from kagglehub) (4.67.1)\n",
            "Requirement already satisfied: charset-normalizer<4,>=2 in /usr/local/lib/python3.11/dist-packages (from requests->kagglehub) (3.4.1)\n",
            "Requirement already satisfied: idna<4,>=2.5 in /usr/local/lib/python3.11/dist-packages (from requests->kagglehub) (3.10)\n",
            "Requirement already satisfied: urllib3<3,>=1.21.1 in /usr/local/lib/python3.11/dist-packages (from requests->kagglehub) (2.4.0)\n",
            "Requirement already satisfied: certifi>=2017.4.17 in /usr/local/lib/python3.11/dist-packages (from requests->kagglehub) (2025.4.26)\n"
          ]
        }
      ]
    },
    {
      "cell_type": "code",
      "source": [
        "# Librerías comunes\n",
        "import os\n",
        "import pandas as pd\n",
        "import numpy as np\n",
        "import random\n",
        "import time\n",
        "\n",
        "# Obtención de la información\n",
        "import kagglehub\n",
        "from PIL import Image\n",
        "\n",
        "# Librerías usadas para la preparación de los datos\n",
        "import hashlib\n",
        "\n",
        "# Modelado\n",
        "import torch\n",
        "import torch.nn as nn\n",
        "from torch.utils.data import Dataset, random_split, DataLoader\n",
        "import torch.optim as optim\n",
        "import torchvision.models as models\n",
        "import torchvision.transforms as transforms\n",
        "import copy\n",
        "\n",
        "# Librerías básicas\n",
        "import pandas as pd\n",
        "import numpy as np\n",
        "from collections import Counter\n",
        "\n",
        "# Librerías NLP\n",
        "import nltk\n",
        "from nltk.tokenize import word_tokenize\n",
        "from nltk import RegexpTokenizer\n",
        "from nltk.corpus import stopwords\n",
        "from nltk.stem import SnowballStemmer\n",
        "from wordcloud import WordCloud\n",
        "import spacy\n",
        "\n",
        "# Tratamiento de textos en diferentes idiomas\n",
        "from langdetect import detect\n",
        "from googletrans import Translator\n",
        "\n",
        "# Sklearn\n",
        "from sklearn.model_selection import train_test_split\n",
        "from sklearn.model_selection import GridSearchCV\n",
        "from sklearn.pipeline import Pipeline\n",
        "from sklearn.base import BaseEstimator, TransformerMixin\n",
        "from sklearn.decomposition import TruncatedSVD\n",
        "\n",
        "# Visualización\n",
        "from scipy.sparse import coo_matrix\n",
        "import matplotlib.pyplot as plt\n",
        "import seaborn as sns\n",
        "from sklearn.decomposition import PCA\n",
        "from sklearn.manifold import TSNE\n",
        "import matplotlib.patches as mpatches\n",
        "import matplotlib.cm as cm\n",
        "%matplotlib inline"
      ],
      "metadata": {
        "id": "osjmTJMvtxua",
        "outputId": "4d2a7503-8a93-402b-cb38-e54395b992c2",
        "colab": {
          "base_uri": "https://localhost:8080/",
          "height": 383
        }
      },
      "id": "osjmTJMvtxua",
      "execution_count": 2,
      "outputs": [
        {
          "output_type": "error",
          "ename": "ModuleNotFoundError",
          "evalue": "No module named 'langdetect'",
          "traceback": [
            "\u001b[0;31m---------------------------------------------------------------------------\u001b[0m",
            "\u001b[0;31mModuleNotFoundError\u001b[0m                       Traceback (most recent call last)",
            "\u001b[0;32m<ipython-input-2-0b3cceff6b04>\u001b[0m in \u001b[0;36m<cell line: 0>\u001b[0;34m()\u001b[0m\n\u001b[1;32m     37\u001b[0m \u001b[0;34m\u001b[0m\u001b[0m\n\u001b[1;32m     38\u001b[0m \u001b[0;31m# Tratamiento de textos en diferentes idiomas\u001b[0m\u001b[0;34m\u001b[0m\u001b[0;34m\u001b[0m\u001b[0m\n\u001b[0;32m---> 39\u001b[0;31m \u001b[0;32mfrom\u001b[0m \u001b[0mlangdetect\u001b[0m \u001b[0;32mimport\u001b[0m \u001b[0mdetect\u001b[0m\u001b[0;34m\u001b[0m\u001b[0;34m\u001b[0m\u001b[0m\n\u001b[0m\u001b[1;32m     40\u001b[0m \u001b[0;32mfrom\u001b[0m \u001b[0mgoogletrans\u001b[0m \u001b[0;32mimport\u001b[0m \u001b[0mTranslator\u001b[0m\u001b[0;34m\u001b[0m\u001b[0;34m\u001b[0m\u001b[0m\n\u001b[1;32m     41\u001b[0m \u001b[0;34m\u001b[0m\u001b[0m\n",
            "\u001b[0;31mModuleNotFoundError\u001b[0m: No module named 'langdetect'",
            "",
            "\u001b[0;31m---------------------------------------------------------------------------\u001b[0;32m\nNOTE: If your import is failing due to a missing package, you can\nmanually install dependencies using either !pip or !apt.\n\nTo view examples of installing some common dependencies, click the\n\"Open Examples\" button below.\n\u001b[0;31m---------------------------------------------------------------------------\u001b[0m\n"
          ],
          "errorDetails": {
            "actions": [
              {
                "action": "open_url",
                "actionText": "Open Examples",
                "url": "/notebooks/snippets/importing_libraries.ipynb"
              }
            ]
          }
        }
      ]
    },
    {
      "cell_type": "code",
      "source": [
        "# Descarga de palabra vacías\n",
        "nltk.download('stopwords')"
      ],
      "metadata": {
        "id": "pEJ80cY8rlEv"
      },
      "id": "pEJ80cY8rlEv",
      "execution_count": null,
      "outputs": []
    },
    {
      "cell_type": "code",
      "execution_count": null,
      "id": "LSwlUgjUjtR_",
      "metadata": {
        "id": "LSwlUgjUjtR_",
        "colab": {
          "base_uri": "https://localhost:8080/"
        },
        "outputId": "32a927f1-92b7-4bff-aa81-a0649ea65883"
      },
      "outputs": [
        {
          "output_type": "stream",
          "name": "stdout",
          "text": [
            "numpy :  2.0.2\n",
            "pandas :  2.2.2\n",
            "torch :  2.6.0+cu124\n",
            "torchvision :  0.21.0+cu124\n",
            "scikit-learn :  1.6.1\n",
            "kagglehub :  0.3.12\n",
            "pillow :  11.2.1\n",
            "matplotlib :  3.10.0\n",
            "seaborn :  0.13.2\n"
          ]
        }
      ],
      "source": [
        "# Ignorar las warnings\n",
        "import warnings\n",
        "warnings.filterwarnings(\"ignore\")\n",
        "\n",
        "# Versiones utilizadas\n",
        "from importlib.metadata import version\n",
        "librerias = ['numpy', 'pandas', 'torch', 'torchvision', 'scikit-learn', 'kagglehub', 'pillow','matplotlib','seaborn']\n",
        "for library in librerias:\n",
        "  print(library, \": \", version(library))"
      ]
    },
    {
      "cell_type": "markdown",
      "source": [
        "El siguiente bloque de código nos permite hacer determininísticas las funciones traídas de **`pytorch`**, y en general controlar todos los pseudo-aleatorios del *notebook*"
      ],
      "metadata": {
        "id": "ok4F_5E1njTi"
      },
      "id": "ok4F_5E1njTi"
    },
    {
      "cell_type": "code",
      "source": [
        "# Definición del random state y seeds\n",
        "RANDOM_STATE = 13\n",
        "random.seed(RANDOM_STATE)\n",
        "np.random.seed(RANDOM_STATE)"
      ],
      "metadata": {
        "id": "xdgcOt7gznvJ"
      },
      "id": "xdgcOt7gznvJ",
      "execution_count": null,
      "outputs": []
    },
    {
      "cell_type": "markdown",
      "id": "qK311OLFzPep",
      "metadata": {
        "id": "qK311OLFzPep"
      },
      "source": [
        "***\n",
        "\n",
        "# 2. Análisis exploratorio y preparación de los datos\n"
      ]
    },
    {
      "cell_type": "markdown",
      "source": [
        "***\n",
        "\n",
        "## 2.1. Carga y estadísticas generales\n",
        "\n",
        "XXXXXXX   Esto se detalla posteriormente en la sección **Pipeline de Preprocesamiento**."
      ],
      "metadata": {
        "id": "4KxKy7H1eID-"
      },
      "id": "4KxKy7H1eID-"
    },
    {
      "cell_type": "code",
      "execution_count": null,
      "id": "K4yOzyWKJbov",
      "metadata": {
        "colab": {
          "base_uri": "https://localhost:8080/"
        },
        "id": "K4yOzyWKJbov",
        "outputId": "0036a764-4b9b-4153-d418-cdeb5d2bc1fb"
      },
      "outputs": [
        {
          "output_type": "stream",
          "name": "stdout",
          "text": [
            "Ruta: /kaggle/input/brain-tumor-mri-scans\n"
          ]
        }
      ],
      "source": [
        "# Descargar el conjunto de datos y almacenar el path en una variable\n",
        "path_kaggle = kagglehub.dataset_download(\"yasserh/imdb-movie-ratings-sentiment-analysis\")\n",
        "print(\"Ruta:\", path_kaggle)"
      ]
    },
    {
      "cell_type": "markdown",
      "id": "CNfurSnbmf79",
      "metadata": {
        "id": "CNfurSnbmf79"
      },
      "source": [
        "Una vez teniendo esta información pre-cargada, hacemos un breve análisis de nuestro conjunto de datos. Empezando por la distribución de las clases:"
      ]
    },
    {
      "cell_type": "code",
      "source": [],
      "metadata": {
        "id": "_3NUQIRksDxe"
      },
      "id": "_3NUQIRksDxe",
      "execution_count": null,
      "outputs": []
    },
    {
      "cell_type": "code",
      "source": [
        "data_raw.shape"
      ],
      "metadata": {
        "id": "kGK5UaZssixU"
      },
      "id": "kGK5UaZssixU",
      "execution_count": null,
      "outputs": []
    },
    {
      "cell_type": "code",
      "source": [
        "data = data_raw.copy()\n",
        "data.isna().sum()"
      ],
      "metadata": {
        "id": "2r0P2t_Ysjbq"
      },
      "id": "2r0P2t_Ysjbq",
      "execution_count": null,
      "outputs": []
    },
    {
      "cell_type": "code",
      "source": [
        "data.duplicated().sum()"
      ],
      "metadata": {
        "id": "m3IgmRbWskuE"
      },
      "id": "m3IgmRbWskuE",
      "execution_count": null,
      "outputs": []
    },
    {
      "cell_type": "code",
      "source": [
        "# # Nombres de las clases\n",
        "# ods = np.array([\n",
        "#     \"Fin de la pobreza\", \"Hambre cero\", \"Salud y bienestar\", \"Educación de calidad\", \"Igualdad de género\",\n",
        "#     \"Agua limpia y saneamiento\", \"Energía asequible y no contaminante\", \"Trabajo decente y crecimiento económico\",\n",
        "#     \"Industria, innovación e infraestructura\", \"Reducción de las desigualdades\", \"Ciudades y comunidades sostenibles\",\n",
        "#     \"Producción y consumo responsables\", \"Acción por el clima\", \"Vida submarina\", \"Vida de ecosistemas terrestres\",\n",
        "#     \"Paz, justicia e instituciones sólidas\"\n",
        "# ])\n",
        "# counts = data['ODS'].value_counts()\n",
        "# # Plot del número de documentos por categoría\n",
        "# fig, ax = plt.subplots(1, 1, figsize=(5,5))\n",
        "# norm = plt.Normalize(vmin=counts.min(), vmax=counts.max())\n",
        "# colors = cm.viridis(norm(counts))\n",
        "# ax.barh(range(0,16), counts,color=colors)\n",
        "# ax.set_yticks(range(0,16), labels=[ods[l-1] + f\" ({l})\" for l in counts.index])\n",
        "# ax.invert_yaxis()\n",
        "# fig.show()"
      ],
      "metadata": {
        "id": "m3zQ2lidsqWS"
      },
      "id": "m3zQ2lidsqWS",
      "execution_count": null,
      "outputs": []
    },
    {
      "cell_type": "markdown",
      "source": [
        "xxxxxx"
      ],
      "metadata": {
        "id": "GYikkR-zw4dQ"
      },
      "id": "GYikkR-zw4dQ"
    },
    {
      "cell_type": "markdown",
      "source": [
        "Idiomas xxxx"
      ],
      "metadata": {
        "id": "IQ5tDkuys-GR"
      },
      "id": "IQ5tDkuys-GR"
    },
    {
      "cell_type": "code",
      "source": [
        "# #Identifica el Idioma de cada fila\n",
        "# def identificar_idioma(X: pd.DataFrame):\n",
        "#     X[\"idioma\"] = X['textos'].apply(lambda x: detect(x) if isinstance(x, str) and x.strip() else \"desconocido\")\n",
        "#     return X\n",
        "\n",
        "# X_deteccion = identificar_idioma(data)\n",
        "# print(X_deteccion['idioma'].value_counts())"
      ],
      "metadata": {
        "id": "_WQ5tiJps-bO"
      },
      "id": "_WQ5tiJps-bO",
      "execution_count": null,
      "outputs": []
    },
    {
      "cell_type": "code",
      "source": [
        "# indices_a_traducir = data[data['idioma'] != 'es'].index\n",
        "# translator = Translator()\n",
        "\n",
        "# # Traducción hecha con google translate\n",
        "# def traducir_texto_fila(fila):\n",
        "#     texto = fila['textos']\n",
        "#     idioma_original = fila['idioma']\n",
        "#     if isinstance(texto, str) and texto.strip():\n",
        "#         return translator.translate(texto, src=idioma_original, dest=\"es\").text\n",
        "#     return texto\n",
        "\n",
        "# # Aplicando la traducción\n",
        "# data.loc[indices_a_traducir, 'textos'] = data.loc[indices_a_traducir].apply(traducir_texto_fila, axis=1)\n",
        "\n",
        "# # Ahora los textos han sido traducios al español\n",
        "# for texto in data.loc[indices_a_traducir, 'textos']:\n",
        "#     print(texto, \"\\n\")"
      ],
      "metadata": {
        "id": "-tLxVOSwtN02"
      },
      "id": "-tLxVOSwtN02",
      "execution_count": null,
      "outputs": []
    },
    {
      "cell_type": "code",
      "source": [
        "# nltk_stopwords_set = set(stopwords.words(\"spanish\"))"
      ],
      "metadata": {
        "id": "XWPuyoWdtdJB"
      },
      "id": "XWPuyoWdtdJB",
      "execution_count": null,
      "outputs": []
    },
    {
      "cell_type": "code",
      "source": [
        "# def preprocesamiento_exploratorio(X: pd.DataFrame):\n",
        "#     # Tokenizar a nivel de palabra y pasar a minúsculas\n",
        "#     tokenizer = RegexpTokenizer(r\"\\b[a-zA-ZáéíóúüñÁÉÍÓÚÜÑ'-]+\")\n",
        "\n",
        "#     X_preprocesado = X.apply(lambda x: tokenizer.tokenize(x))\n",
        "#     X_preprocesado = [[t.lower() for t in text] for text in X_preprocesado]\n",
        "\n",
        "#     # Filtrar palabras vacías\n",
        "#     X_preprocesado = [[token for token in text if token not in nltk_stopwords_set] for text in X_preprocesado]\n",
        "#     texto_nube = ' '.join(word for text in X_preprocesado for word in text)\n",
        "#     return texto_nube"
      ],
      "metadata": {
        "id": "T57xBkmKtilY"
      },
      "id": "T57xBkmKtilY",
      "execution_count": null,
      "outputs": []
    },
    {
      "cell_type": "code",
      "source": [
        "# #Visualización inicial de las palabras que contienen los documentos.\n",
        "# texto_nube = preprocesamiento_exploratorio(X_train['textos'])\n",
        "\n",
        "# # Generación Nube de Palabras\n",
        "# wordcloud = WordCloud(\n",
        "#     width=800,\n",
        "#     height=400,\n",
        "#     background_color ='white',\n",
        "#     min_font_size=10,\n",
        "#     max_font_size=110,\n",
        "#     max_words=100\n",
        "# ).generate(texto_nube)\n",
        "# plt.figure(figsize=(10, 10))\n",
        "# plt.imshow(wordcloud)\n",
        "# plt.axis('off')\n",
        "# plt.show()"
      ],
      "metadata": {
        "id": "sBwcvN1xtktk"
      },
      "id": "sBwcvN1xtktk",
      "execution_count": null,
      "outputs": []
    },
    {
      "cell_type": "code",
      "source": [
        "# #Conversión a dataframe\n",
        "# def palabras_a_dataframe(texto):\n",
        "#     palabras = texto.split()  # Dividir el texto en palabras por espacios\n",
        "#     conteo = Counter(palabras)  # Contar ocurrencias de cada palabra\n",
        "#     df = pd.DataFrame(conteo.items(), columns=['Palabra', 'Frecuencia'])\n",
        "#     df = df.sort_values(by='Frecuencia', ascending=False).reset_index(drop=True)  # Ordenar y resetear índice\n",
        "#     return df\n",
        "\n",
        "# conteo_palabras = palabras_a_dataframe(texto_nube)\n",
        "# conteo_top = conteo_palabras.head(20)\n",
        "\n",
        "# # Top 20 palabras\n",
        "# plt.figure(figsize=(5, 5))\n",
        "# sns.barplot(x=conteo_top[\"Frecuencia\"], y=conteo_top[\"Palabra\"], palette=\"viridis\")\n",
        "# plt.xlabel(\"Frecuencia\")\n",
        "# plt.ylabel(\"Palabra\")\n",
        "# plt.title(f\"Top {20} Palabras más Frecuentes\")\n",
        "# plt.show()"
      ],
      "metadata": {
        "id": "LdeXcjGHts3g"
      },
      "id": "LdeXcjGHts3g",
      "execution_count": null,
      "outputs": []
    },
    {
      "cell_type": "code",
      "source": [
        "# counts = data['ODS'].value_counts()\n",
        "# counts_train = y_train.value_counts()\n",
        "\n",
        "# # Gráfica de la proporcionalidad de las clases y los conjuntos divididos\n",
        "# fig, ax = plt.subplots(1, 1, figsize=(5,5))\n",
        "# ax.barh(range(0,16), counts, label=\"Test\")\n",
        "# ax.barh(range(0,16), counts_train, label=\"Train\")\n",
        "# ax.set_yticks(range(0,16), labels=[ods[l-1] + f\" ({l})\" for l in counts.index])\n",
        "# ax.invert_yaxis()\n",
        "# plt.title(\"Distribución del split estratificado\")\n",
        "# plt.legend()\n",
        "# fig.show()"
      ],
      "metadata": {
        "id": "UvsQEU5_twrt"
      },
      "id": "UvsQEU5_twrt",
      "execution_count": null,
      "outputs": []
    },
    {
      "cell_type": "markdown",
      "source": [
        "El objetivo de esta sección es incorporar varios estilos de pre-procesamiento, probar diferentes maneras de depurar los textos como por ejemplo remover caracteres no alfanuméricos, a excepción de guiones o apóstrofes. También haremos uso de dos normalizadores: *Stemming* y *Lemmatization*, ...."
      ],
      "metadata": {
        "id": "vCm-sqa9t8D2"
      },
      "id": "vCm-sqa9t8D2"
    },
    {
      "cell_type": "markdown",
      "id": "_ypyorGqwmRl",
      "metadata": {
        "id": "_ypyorGqwmRl"
      },
      "source": [
        "***\n",
        "\n",
        "# 3. Definición de *pipelines* de procesamiento"
      ]
    },
    {
      "cell_type": "markdown",
      "id": "4370a607-ad43-4c5d-bddd-1a9370469409",
      "metadata": {
        "id": "4370a607-ad43-4c5d-bddd-1a9370469409"
      },
      "source": [
        "***\n",
        "\n",
        "## 3.1. *Pipeline* de preprocesamiento\n",
        "\n",
        "...\n",
        "\n",
        "..."
      ]
    },
    {
      "cell_type": "code",
      "execution_count": null,
      "id": "boj68OJEKvb1",
      "metadata": {
        "id": "boj68OJEKvb1"
      },
      "outputs": [],
      "source": [
        "# Pipeline de preprocesamiento recomendado\n",
        "transform_pipeline = transforms.Compose([\n",
        "    transforms.Grayscale(num_output_channels=1),\n",
        "    transforms.Resize(256),\n",
        "    transforms.RandomRotation(15),\n",
        "    transforms.CenterCrop(224),\n",
        "    transforms.RandomHorizontalFlip(),\n",
        "    transforms.ToTensor(),\n",
        "    transforms.Normalize((gray_mean,), (gray_std,))\n",
        "])\n",
        "\n",
        "# Pipeline con Stemming, sin depuración de palabras\n",
        "pipeline_stem = Pipeline([\n",
        "    ('preprocesador', preprocesador(normalizer=normalizer_stem)),\n",
        "    ('vectorizer', TfidfVectorizer()),\n",
        "])"
      ]
    },
    {
      "cell_type": "code",
      "source": [
        "# Stemming\n",
        "stemmer = SnowballStemmer(\"spanish\")\n",
        "normalizer_stem = lambda tokens: [stemmer.stem(t) for t in tokens]\n",
        "\n",
        "# Lemmatization\n",
        "nlp = spacy.load(\"es_core_news_sm\")\n",
        "normalizer_lemma = lambda tokens: [t.lemma_ for t in nlp(\" \".join(tokens))]"
      ],
      "metadata": {
        "id": "bqRFW-7euRUA"
      },
      "id": "bqRFW-7euRUA",
      "execution_count": null,
      "outputs": []
    },
    {
      "cell_type": "markdown",
      "id": "G6-RrjwuxYEw",
      "metadata": {
        "id": "G6-RrjwuxYEw"
      },
      "source": [
        "***\n",
        "\n",
        "# 4. Desarrollo del modelo RNN...."
      ]
    },
    {
      "cell_type": "markdown",
      "source": [
        "***\n",
        "\n",
        "## 4.1. Hiperparámetros, partición y *DataLoaders*\n",
        "\n",
        "XXXXX"
      ],
      "metadata": {
        "id": "wqy-xlwJ2zMS"
      },
      "id": "wqy-xlwJ2zMS"
    },
    {
      "cell_type": "markdown",
      "source": [
        "Se usa una partición **80/10/10** para los datos de entrenamiento, validación y *test*, respectivamente. También se define **`device`** que nos permitirá ir alternado el uso de GPU y de CPU."
      ],
      "metadata": {
        "id": "88Ve2DvMLVqO"
      },
      "id": "88Ve2DvMLVqO"
    },
    {
      "cell_type": "code",
      "source": [
        "# # Trabajar en GPU/CPU\n",
        "# device = torch.device(\"cuda\" if torch.cuda.is_available() else \"cpu\")\n",
        "\n",
        "# # Partición de los datos\n",
        "# size_dataset  = len(dataset)\n",
        "# size_entrenmiento = int(0.8 * size_dataset)\n",
        "# size_validacion = int(0.1 * size_dataset)\n",
        "# size_test = size_dataset - size_entrenmiento - size_validacion\n",
        "# dataset_train, dataset_val, dataset_test = random_split(\n",
        "#     dataset,\n",
        "#     [size_entrenmiento, size_validacion, size_test],\n",
        "#     generator=torch.Generator().manual_seed(RANDOM_STATE)\n",
        "# )\n",
        "\n",
        "# # Carga \"lazy\" de las particiones\n",
        "# train_loader = DataLoader(dataset_train, batch_size=batch_size, shuffle=True)\n",
        "# val_loader   = DataLoader(dataset_val,   batch_size=batch_size, shuffle=False)\n",
        "# test_loader  = DataLoader(dataset_test,  batch_size=batch_size, shuffle=False)"
      ],
      "metadata": {
        "id": "QvBVZqZW5R3q"
      },
      "id": "QvBVZqZW5R3q",
      "execution_count": null,
      "outputs": []
    },
    {
      "cell_type": "markdown",
      "source": [
        "***\n",
        "\n",
        "## 4.2. Adaptación a partir ...\n",
        "</span>"
      ],
      "metadata": {
        "id": "nYOiJFBC-lqR"
      },
      "id": "nYOiJFBC-lqR"
    },
    {
      "cell_type": "markdown",
      "source": [
        "***\n",
        "### 4.2.1 Modelo: ...\n",
        "\n",
        "... s capaz de detectar tanto bordes como patrones complejos. Además, al estar pre-entrenado en *ImageNet*, acelera y facilita la adaptación a nuestra nueva tarea. No obstante, dado que trabajamos con un conjunto de datos ..."
      ],
      "metadata": {
        "id": "UuM73kN6TLW9"
      },
      "id": "UuM73kN6TLW9"
    },
    {
      "cell_type": "code",
      "source": [
        "# # Cargar modelo\n",
        "# model = models.alexnet(pretrained=True)\n",
        "\n",
        "# # Número de parámetros de la arquitectura sin modificaciones\n",
        "# total_parametros = sum(p.numel() for p in model.parameters())\n",
        "# print(f\"Total parametros {total_parametros:,}\\n\")\n",
        "\n",
        "# # Observamos la arquitectura del modelo original\n",
        "# model"
      ],
      "metadata": {
        "colab": {
          "base_uri": "https://localhost:8080/"
        },
        "id": "HzGFuR3U6DUE",
        "outputId": "a5086a16-b0a0-4595-84c9-65a3e00c51b6"
      },
      "id": "HzGFuR3U6DUE",
      "execution_count": null,
      "outputs": [
        {
          "output_type": "stream",
          "name": "stderr",
          "text": [
            "Downloading: \"https://download.pytorch.org/models/alexnet-owt-7be5be79.pth\" to /root/.cache/torch/hub/checkpoints/alexnet-owt-7be5be79.pth\n",
            "100%|██████████| 233M/233M [00:03<00:00, 80.4MB/s]\n"
          ]
        },
        {
          "output_type": "stream",
          "name": "stdout",
          "text": [
            "Total parametros 61,100,840\n",
            "\n"
          ]
        },
        {
          "output_type": "execute_result",
          "data": {
            "text/plain": [
              "AlexNet(\n",
              "  (features): Sequential(\n",
              "    (0): Conv2d(3, 64, kernel_size=(11, 11), stride=(4, 4), padding=(2, 2))\n",
              "    (1): ReLU(inplace=True)\n",
              "    (2): MaxPool2d(kernel_size=3, stride=2, padding=0, dilation=1, ceil_mode=False)\n",
              "    (3): Conv2d(64, 192, kernel_size=(5, 5), stride=(1, 1), padding=(2, 2))\n",
              "    (4): ReLU(inplace=True)\n",
              "    (5): MaxPool2d(kernel_size=3, stride=2, padding=0, dilation=1, ceil_mode=False)\n",
              "    (6): Conv2d(192, 384, kernel_size=(3, 3), stride=(1, 1), padding=(1, 1))\n",
              "    (7): ReLU(inplace=True)\n",
              "    (8): Conv2d(384, 256, kernel_size=(3, 3), stride=(1, 1), padding=(1, 1))\n",
              "    (9): ReLU(inplace=True)\n",
              "    (10): Conv2d(256, 256, kernel_size=(3, 3), stride=(1, 1), padding=(1, 1))\n",
              "    (11): ReLU(inplace=True)\n",
              "    (12): MaxPool2d(kernel_size=3, stride=2, padding=0, dilation=1, ceil_mode=False)\n",
              "  )\n",
              "  (avgpool): AdaptiveAvgPool2d(output_size=(6, 6))\n",
              "  (classifier): Sequential(\n",
              "    (0): Dropout(p=0.5, inplace=False)\n",
              "    (1): Linear(in_features=9216, out_features=4096, bias=True)\n",
              "    (2): ReLU(inplace=True)\n",
              "    (3): Dropout(p=0.5, inplace=False)\n",
              "    (4): Linear(in_features=4096, out_features=4096, bias=True)\n",
              "    (5): ReLU(inplace=True)\n",
              "    (6): Linear(in_features=4096, out_features=1000, bias=True)\n",
              "  )\n",
              ")"
            ]
          },
          "metadata": {},
          "execution_count": 27
        }
      ]
    },
    {
      "cell_type": "markdown",
      "source": [
        "El modelo resultante tiene en total **`22,381,764`** parámetros entrenables que serán ajustados al dataset, buscando una buena generalización mediante early stopping."
      ],
      "metadata": {
        "id": "sLkz_rq6UKoW"
      },
      "id": "sLkz_rq6UKoW"
    },
    {
      "cell_type": "markdown",
      "source": [
        "***\n",
        "\n",
        "## 4.3. Entrenamiento, validación y prueba\n",
        "\n",
        "xxxxxx\n"
      ],
      "metadata": {
        "id": "oz4ZPXG44a8W"
      },
      "id": "oz4ZPXG44a8W"
    },
    {
      "cell_type": "code",
      "source": [
        "# # Cargar al device elegido\n",
        "# model = model.to(device)"
      ],
      "metadata": {
        "id": "JAL3sReA-I8h"
      },
      "id": "JAL3sReA-I8h",
      "execution_count": null,
      "outputs": []
    },
    {
      "cell_type": "code",
      "source": [
        "# # Función de pérdida y optimizador\n",
        "# loss_f = nn.CrossEntropyLoss()\n",
        "# optimizer = optim.Adam(model.parameters(), lr=5e-5)"
      ],
      "metadata": {
        "id": "6et9JqI8_n16"
      },
      "id": "6et9JqI8_n16",
      "execution_count": null,
      "outputs": []
    },
    {
      "cell_type": "code",
      "source": [
        "# # Función para calcular el accuracy\n",
        "# def evaluar_modelo_accuracy(m):\n",
        "#   # Modo evaluación\n",
        "#   m.eval()\n",
        "#   correctos, total = 0, 0\n",
        "#   # Desactivar ajuste de parámetros y calcular accuracy\n",
        "#   with torch.no_grad():\n",
        "#     for imgs, labels in test_loader:\n",
        "#         imgs, labels = imgs.to(device), labels.to(device)\n",
        "#         logits = m(imgs)\n",
        "#         # Obtener el índice (clase) de logit máximo a lo largo de la dim=1\n",
        "#         _, predicciones = torch.max(logits, 1)\n",
        "#         # Actualización iterativa del accuracy\n",
        "#         correctos += (predicciones == labels).sum().item()\n",
        "#         total += labels.size(0)\n",
        "#   return correctos / total * 100"
      ],
      "metadata": {
        "id": "hda66_mf7Wvj"
      },
      "id": "hda66_mf7Wvj",
      "execution_count": null,
      "outputs": []
    },
    {
      "cell_type": "code",
      "source": [
        "# train_loss_acumulado = []\n",
        "# val_loss_acumulado = []\n",
        "# accuracy_acumulado = []\n",
        "\n",
        "# # Las siguientes variables forman parte de la implementación de Early Stopping:\n",
        "# # Copia inicial del estado del modelo\n",
        "# pesos_mejor_modelo = copy.deepcopy(model.state_dict())\n",
        "# # 'mejor loss'. Se inicializa en un valor infinto positivo\n",
        "# mejor_loss_val  = float('inf')\n",
        "# # Contador de epochs sin mejora significativa\n",
        "# epochs_sin_mejora = 0\n",
        "\n",
        "# start_time = time.time()\n",
        "# # Loop de entrenamiento con Early Stopping\n",
        "# for epoch in range(1, num_epochs+1):\n",
        "\n",
        "#     # Entrenamieto\n",
        "#     model.train() # Cambia a modo de entrenamiento y permite Dropout\n",
        "#     loss_acumulada = 0.0\n",
        "#     for imgs, labels in train_loader:\n",
        "#         imgs, labels = imgs.to(device), labels.to(device)\n",
        "#         # Backpropagation y Ajuste de parámetros\n",
        "#         optimizer.zero_grad()\n",
        "#         outputs = model(imgs)\n",
        "#         loss = loss_f(outputs, labels)\n",
        "#         loss.backward()\n",
        "#         optimizer.step()\n",
        "#         loss_acumulada += loss.item() * imgs.size(0)\n",
        "\n",
        "#     # Métrica de entrenamiento para la epoch actual\n",
        "#     train_loss = loss_acumulada / len(train_loader.dataset)\n",
        "#     train_loss_acumulado.append(train_loss)\n",
        "\n",
        "#     # Validación\n",
        "#     model.eval()\n",
        "#     val_loss = 0.0\n",
        "#     # Desactiva la actualización de parámetos (no gradient) y activa el modo inferencia\n",
        "#     with torch.no_grad():\n",
        "#         for imgs, labels in val_loader:\n",
        "#             imgs, labels = imgs.to(device), labels.to(device)\n",
        "#             outputs = model(imgs)\n",
        "#             loss = loss_f(outputs, labels)\n",
        "#             val_loss += loss.item() * imgs.size(0)\n",
        "#     val_loss /= len(val_loader.dataset)\n",
        "#     val_loss_acumulado.append(val_loss)\n",
        "\n",
        "#     # Prueba iterativa\n",
        "#     acc = evaluar_modelo_accuracy(model)\n",
        "#     accuracy_acumulado.append(acc)\n",
        "\n",
        "#     # Early stopping\n",
        "#     # Si es que hay mejoría...\n",
        "#     if val_loss < mejor_loss_val:\n",
        "#         # ...actualizar el mejor loss\n",
        "#         mejor_loss_val = val_loss\n",
        "#         pesos_mejor_modelo = copy.deepcopy(model.state_dict())\n",
        "#         # Y reiniciar el contador de epochs\n",
        "#         epochs_sin_mejora = 0\n",
        "#         print(f\"Epoch {epoch}/{num_epochs}, Train Loss: {train_loss:.4f},  Val Loss: {val_loss:.4f} --> Nueva mejor métrica (Test Accuracy: {acc:.2f}%)\")\n",
        "#     # En caso contrario, seguir iterando hasta superar el umbral o finalizar todas las epochs\n",
        "#     else:\n",
        "#         epochs_sin_mejora += 1\n",
        "#         print(f\"Epoch {epoch}/{num_epochs}, Train Loss: {train_loss:.4f},  Val Loss: {val_loss:.4f} (Test Accuracy: {acc:.2f}%)\")\n",
        "#         if epochs_sin_mejora >= umbral_epochs:\n",
        "#             print(f\"→ Early stopping después de {epoch} epochs.\")\n",
        "#             break\n",
        "\n",
        "# end_time = time.time()\n",
        "# print(f\"Completado en {(end_time - start_time) / 60.0} minutos.\")"
      ],
      "metadata": {
        "colab": {
          "base_uri": "https://localhost:8080/"
        },
        "id": "O-cjHNIS5zyf",
        "outputId": "6538269f-6fbd-48c5-e9dc-cc579935a60f"
      },
      "id": "O-cjHNIS5zyf",
      "execution_count": null,
      "outputs": [
        {
          "output_type": "stream",
          "name": "stdout",
          "text": [
            "Epoch 1/50, Train Loss: 0.5282,  Val Loss: 0.3255 --> Nueva mejor métrica (Test Accuracy: 86.69%)\n",
            "Epoch 2/50, Train Loss: 0.2598,  Val Loss: 0.1702 --> Nueva mejor métrica (Test Accuracy: 93.80%)\n",
            "Epoch 3/50, Train Loss: 0.1929,  Val Loss: 0.2059 (Test Accuracy: 91.38%)\n",
            "Epoch 4/50, Train Loss: 0.1418,  Val Loss: 0.1412 --> Nueva mejor métrica (Test Accuracy: 95.31%)\n",
            "Epoch 5/50, Train Loss: 0.1069,  Val Loss: 0.1099 --> Nueva mejor métrica (Test Accuracy: 95.61%)\n",
            "Epoch 6/50, Train Loss: 0.0870,  Val Loss: 0.1290 (Test Accuracy: 95.31%)\n",
            "Epoch 7/50, Train Loss: 0.0713,  Val Loss: 0.1012 --> Nueva mejor métrica (Test Accuracy: 96.07%)\n",
            "Epoch 8/50, Train Loss: 0.0551,  Val Loss: 0.1032 (Test Accuracy: 97.13%)\n",
            "Epoch 9/50, Train Loss: 0.0505,  Val Loss: 0.0928 --> Nueva mejor métrica (Test Accuracy: 95.76%)\n",
            "Epoch 10/50, Train Loss: 0.0356,  Val Loss: 0.0822 --> Nueva mejor métrica (Test Accuracy: 97.73%)\n",
            "Epoch 11/50, Train Loss: 0.0256,  Val Loss: 0.1012 (Test Accuracy: 96.22%)\n",
            "Epoch 12/50, Train Loss: 0.0289,  Val Loss: 0.1003 (Test Accuracy: 97.13%)\n",
            "Epoch 13/50, Train Loss: 0.0236,  Val Loss: 0.1173 (Test Accuracy: 96.52%)\n",
            "Epoch 14/50, Train Loss: 0.0416,  Val Loss: 0.1000 (Test Accuracy: 96.52%)\n",
            "Epoch 15/50, Train Loss: 0.0228,  Val Loss: 0.1029 (Test Accuracy: 96.67%)\n",
            "Epoch 16/50, Train Loss: 0.0315,  Val Loss: 0.0925 (Test Accuracy: 97.28%)\n",
            "Epoch 17/50, Train Loss: 0.0157,  Val Loss: 0.1382 (Test Accuracy: 96.52%)\n",
            "Epoch 18/50, Train Loss: 0.0166,  Val Loss: 0.1245 (Test Accuracy: 97.28%)\n",
            "Epoch 19/50, Train Loss: 0.0181,  Val Loss: 0.0868 (Test Accuracy: 98.18%)\n",
            "Epoch 20/50, Train Loss: 0.0107,  Val Loss: 0.1095 (Test Accuracy: 97.88%)\n",
            "→ Early stopping después de 20 epochs.\n",
            "Completado en 12.345015732447306 minutos.\n"
          ]
        }
      ]
    },
    {
      "cell_type": "code",
      "source": [],
      "metadata": {
        "id": "lfWLuA-e4LBH"
      },
      "id": "lfWLuA-e4LBH",
      "execution_count": null,
      "outputs": []
    },
    {
      "cell_type": "markdown",
      "source": [
        "\n",
        "## Prueba piloto de los clasificadores...\n",
        "\n"
      ],
      "metadata": {
        "id": "SPHtDlSr4Mk-"
      },
      "id": "SPHtDlSr4Mk-"
    },
    {
      "cell_type": "markdown",
      "id": "7JgtiyyfIyMM",
      "metadata": {
        "id": "7JgtiyyfIyMM"
      },
      "source": [
        "***\n",
        "\n",
        "\n",
        "# 5. Análisis de resultados y conclusiones\n",
        "\n",
        "xxxxx calculando *Accuracy*, *Recall*, *F1-macro* y la *Matriz de confusión*xxxx"
      ]
    },
    {
      "cell_type": "code",
      "source": [
        "# #Devuelve y_true, y_pred, accuracy y F1-macro.\n",
        "# def evaluar_test(modelo, loader, device):\n",
        "\n",
        "#     modelo.eval()\n",
        "#     y_true, y_pred = [], []\n",
        "\n",
        "#     with torch.no_grad():\n",
        "#         for x, y in loader:\n",
        "#             x, y = x.to(device), y.to(device)\n",
        "#             logits = modelo(x)\n",
        "#             _, pred = torch.max(logits, 1)\n",
        "#             y_true.extend(y.cpu().numpy())\n",
        "#             y_pred.extend(pred.cpu().numpy())\n",
        "#     # Accuracy\n",
        "#     acc  = accuracy_score(y_true, y_pred)\n",
        "#     # F1 multi-clase\n",
        "#     f1   = f1_score(y_true, y_pred, average='macro')  #\n",
        "#     cm   = confusion_matrix(y_true, y_pred)\n",
        "#     return acc, f1, cm, y_true, y_pred"
      ],
      "metadata": {
        "id": "Yy_K-NCUcpxU"
      },
      "id": "Yy_K-NCUcpxU",
      "execution_count": null,
      "outputs": []
    },
    {
      "cell_type": "code",
      "source": [
        "# # Evaluar sobre test\n",
        "# acc_test, f1_test, cm_test, y_true, y_pred = evaluar_test(model, test_loader, device)\n",
        "\n",
        "# # Print métricas\n",
        "# print(\"\\nResultados en TEST\")\n",
        "# print(f\"‣ Accuracy : {acc_test*100:6.2f}%\")\n",
        "# print(f\"‣ F1-macro : {f1_test:6.3f}\")\n",
        "\n",
        "\n",
        "# # Convierte cada etiqueta a int\n",
        "# class_ids   = sorted(set(y_true))\n",
        "# class_names = [str(c) for c in class_ids]\n",
        "\n",
        "# # Plot matriz de confusión\n",
        "# plt.figure(figsize=(6, 5))\n",
        "# sns.heatmap(cm_test,\n",
        "#             annot=True, fmt='d', cmap='Blues',\n",
        "#             xticklabels=class_names,\n",
        "#             yticklabels=class_names)\n",
        "# plt.xlabel(\"Predicción\")\n",
        "# plt.ylabel(\"Etiqueta real\")\n",
        "# plt.title(\"Matriz de confusión — Conjunto de prueba\")\n",
        "# plt.tight_layout()\n",
        "# plt.show()"
      ],
      "metadata": {
        "colab": {
          "base_uri": "https://localhost:8080/",
          "height": 575
        },
        "id": "eH9UcueZcvQi",
        "outputId": "9bb43134-6560-4f45-9de6-9b8413c00ed8"
      },
      "id": "eH9UcueZcvQi",
      "execution_count": null,
      "outputs": [
        {
          "output_type": "stream",
          "name": "stdout",
          "text": [
            "\n",
            "Resultados en TEST\n",
            "‣ Accuracy :  97.88%\n",
            "‣ F1-macro :  0.978\n"
          ]
        },
        {
          "output_type": "display_data",
          "data": {
            "text/plain": [
              "<Figure size 600x500 with 2 Axes>"
            ],
            "image/png": "[encoded data removed]"
          },
          "metadata": {}
        }
      ]
    },
    {
      "cell_type": "markdown",
      "source": [
        "XXXXXX"
      ],
      "metadata": {
        "id": "pxpLuOCGhXt8"
      },
      "id": "pxpLuOCGhXt8"
    },
    {
      "cell_type": "code",
      "source": [
        "# sns.set(style=\"darkgrid\")\n",
        "\n",
        "# fig, axes = plt.subplots(1, 2, figsize=(8, 3.75))\n",
        "\n",
        "# axes[0].plot(train_loss_acumulado, label='Pérdida de entrenamiento', color = '#5d34f4', marker = \".\", lw= 1.5)\n",
        "# axes[0].plot(val_loss_acumulado, label='Pérdida de validación', color = '#06cf1e', marker = \".\", lw= 1.5)\n",
        "# axes[0].set_xlabel('Época\\n(a)')\n",
        "# axes[0].set_ylabel('Pérdida')\n",
        "# axes[0].legend()\n",
        "# #axes[0].set_title('Pérdidas de entrenamiento y validación')\n",
        "\n",
        "# axes[1].plot(accuracy_acumulado, label='Test Accuracy', color='#16c8e5', marker = \".\")\n",
        "# axes[1].set_xlabel('Época\\n(b)')\n",
        "# axes[1].set_ylabel('Accuracy')\n",
        "# #axes[1].set_title('Test Accuracy')\n",
        "\n",
        "# plt.tight_layout()\n",
        "# plt.savefig(\"resultados_plot.png\", dpi=300)"
      ],
      "metadata": {
        "id": "89_bnleWB4xW",
        "outputId": "57092a32-b3ad-43bb-e060-cba47f4524c7",
        "colab": {
          "base_uri": "https://localhost:8080/",
          "height": 376
        }
      },
      "id": "89_bnleWB4xW",
      "execution_count": null,
      "outputs": [
        {
          "output_type": "display_data",
          "data": {
            "text/plain": [
              "<Figure size 800x375 with 2 Axes>"
            ],
            "image/png": "[encoded data removed]"
          },
          "metadata": {}
        }
      ]
    },
    {
      "cell_type": "markdown",
      "source": [
        "Teniendo en cuenta el análisis anterior se procede a generar algunos ejemplos de las clasificación obtenida a partir del modelo CNN entrenado"
      ],
      "metadata": {
        "id": "1KJX9niAyHOR"
      },
      "id": "1KJX9niAyHOR"
    },
    {
      "cell_type": "markdown",
      "id": "DwUWQIAE3O0o",
      "metadata": {
        "id": "DwUWQIAE3O0o"
      },
      "source": [
        "***\n",
        "\n",
        "\n",
        "# 6. Referencias"
      ]
    },
    {
      "cell_type": "markdown",
      "id": "BoLDjBS03xiQ",
      "metadata": {
        "id": "BoLDjBS03xiQ"
      },
      "source": [
        "\n",
        "[¹] **Pytorch, entrenando un clasificador**  \n",
        "Disponible en: [Pytorch.org](https://pytorch.org/tutorials/beginner/blitz/cifar10_tutorial.html)\n",
        "\n",
        "[²] **MRI sequences (overview), Radiopaedia.org**  \n",
        "Disponible en: [radiopaedia.org](https://radiopaedia.org/articles/mri-sequences-overview?embed_domain=staging.radpair.comfavicon.icofavicon.icoradiopaedia-icon-144.png&lang=us)\n",
        "\n",
        "[³] **Image Normalization in PyTorch**  \n",
        "Disponible en: [medium.com](https://medium.com/%40piyushkashyap045/image-normalization-in-pytorch-from-tensor-conversion-to-scaling-3951b6337bc8)\n",
        "\n",
        "[⁴] **Harnessing Python and SHA-256: An intuitive guide to removing duplicate files**  \n",
        "Disponible en: [medium.com](https://medium.com/gitconnected/harnessing-python-and-sha-256-an-intuitive-guide-to-removing-duplicate-files-d3b02e0b3978)"
      ]
    }
  ],
  "metadata": {
    "accelerator": "GPU",
    "colab": {
      "gpuType": "T4",
      "provenance": [],
      "include_colab_link": true
    },
    "kernelspec": {
      "display_name": "Python 3",
      "name": "python3"
    },
    "language_info": {
      "codemirror_mode": {
        "name": "ipython",
        "version": 3
      },
      "file_extension": ".py",
      "mimetype": "text/x-python",
      "name": "python",
      "nbconvert_exporter": "python",
      "pygments_lexer": "ipython3",
      "version": "3.12.9"
    }
  },
  "nbformat": 4,
  "nbformat_minor": 5
}