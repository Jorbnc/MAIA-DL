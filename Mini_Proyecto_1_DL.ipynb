{
  "cells": [
    {
      "cell_type": "markdown",
      "metadata": {
        "id": "view-in-github",
        "colab_type": "text"
      },
      "source": [
        "<a href=\"https://colab.research.google.com/github/Jorbnc/MAIA-DL/blob/master/Mini_Proyecto_1_DL.ipynb\" target=\"_parent\"><img src=\"https://colab.research.google.com/assets/colab-badge.svg\" alt=\"Open In Colab\"/></a>"
      ]
    },
    {
      "cell_type": "markdown",
      "id": "oa_MJEGQ6jTi",
      "metadata": {
        "id": "oa_MJEGQ6jTi"
      },
      "source": [
        "![Universidad_de_los_Andes_30.png](data:image/png;base64,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)"
      ]
    },
    {
      "cell_type": "markdown",
      "id": "sl89pic17iPU",
      "metadata": {
        "id": "sl89pic17iPU"
      },
      "source": [
        "<span style=\"font-family:Cambria Math\">\n",
        "    \n",
        "# Mini Proyecto 1, Técnica de *Deep Learning*: Clasificación de MRI con Redes Neuronales Convolucionales para Tipos de Cáncer\n",
        "\n",
        "## Descripción del problema:\n",
        "\n",
        "La resonancia magnética (MRI) desempeña un papel fundamental en la detección y\n",
        "clasificación de los diferentes tipos de cáncer cerebral. La aplicación de redes\n",
        "neuronales convolucionales (CNN) ha incrementado notablemente la precisión en la\n",
        "interpretación de estos volúmenes, al ser entrenadas para reconocer patrones y\n",
        "características distintivas asociadas a cada tipo de tumor. Las resonancias\n",
        "magnéticas (MRI) generan volúmenes tridimensionales compuestos por múltiples\n",
        "capas, donde cada una corresponde a una imagen bidimensional del tejido analizado.\n",
        "Procesar un volumen completo implica manejar una gran cantidad de datos\n",
        "simultáneamente, lo que puede ser computacionalmente costoso y requerir\n",
        "considerable tiempo y recursos. Para este proyecto se trabajará exclusivamente con\n",
        "imágenes individuales extraídas de las capas de los MRI, en lugar de procesar el\n",
        "volumen completo. Esta estrategia simplifica la tarea al transformar el problema en\n",
        "una clasificación de imágenes bidimensionales, reduciendo significativamente la\n",
        "carga computacional.\n",
        "\n",
        "## Objetivo:\n",
        "\n",
        "Desarrollar un método basado en redes neuronales convolucionales que permita\n",
        "clasificar con exactitud imágenes extraídas de MRIs en una de las 4 categorías.\n",
        "\n",
        "- Glioma: Detecta masas anómalas con bordes irregulares y heterogeneidad en\n",
        "el tejido cerebral.\n",
        "- Meningioma: Identifica tumores bien delimitados originados en las meninges.\n",
        "- Pituitary: Clasifica adenomas hipofisarios en la región selar.\n",
        "- Tejido sano: Diferencia el tejido cerebral normal sin anomalías presentes\n",
        "*****\n",
        "</span>"
      ]
    },
    {
      "cell_type": "markdown",
      "id": "SiCS5j-HAbCB",
      "metadata": {
        "id": "SiCS5j-HAbCB"
      },
      "source": [
        "***\n",
        "\n",
        "<div class=\"alert alert-block alert-info\">\n",
        "<bNotar:</b >\n",
        "\n",
        "**Este proyecto es realizado por Andrés Felipe Ñungo y Jordan Bryan Núñez Campos para entrega el 2 de mayo.**\n",
        "</div24></span>"
      ]
    },
    {
      "cell_type": "markdown",
      "source": [
        "Tareas:\n",
        "- Ajustar el código para tomar un solo canal (Andrés Ñungo)\n",
        "- Tomar los papers investigar en la teoría como se debería ver un cerebro enfermo (Andrés Ñungo)\n",
        "-\n"
      ],
      "metadata": {
        "id": "tG7hmUtpT1cq"
      },
      "id": "tG7hmUtpT1cq"
    },
    {
      "cell_type": "markdown",
      "id": "8VqTMx7TYgjH",
      "metadata": {
        "id": "8VqTMx7TYgjH"
      },
      "source": [
        "<span style=\"font-family:Cambria Math\">\n",
        "\n",
        "***\n",
        "    \n",
        "# Índice\n",
        "XXXXXX\n",
        "\n",
        "1. [Instalación y carga de librerías](#instalacion-y-carga-de-librerias)\n",
        "(#ejercicio-didactico-uso-de-la-cota-de-chernoff)\n",
        "7. [Referencias](#referencias)\n",
        "</span>"
      ]
    },
    {
      "cell_type": "markdown",
      "id": "2cyVuwlHB_W3",
      "metadata": {
        "id": "2cyVuwlHB_W3"
      },
      "source": [
        "***\n",
        "\n",
        "<span style=\"font-family:Cambria Math\">\n",
        "\n",
        "# 1. Instalación y cargue de librerías\n",
        "</span>"
      ]
    },
    {
      "cell_type": "markdown",
      "id": "bCoCrFZ9X4qX",
      "metadata": {
        "id": "bCoCrFZ9X4qX"
      },
      "source": [
        "***\n",
        "\n",
        "<span style=\"font-family:Cambria Math\">\n",
        "\n",
        "*** Nota: por lo que veo el equipo de monitores está más inclinado hacia usar Pytorch ***\n",
        "</span>"
      ]
    },
    {
      "cell_type": "code",
      "source": [
        "# Librerías básicas\n",
        "import os\n",
        "from PIL import Image\n",
        "import pandas as pd\n",
        "import numpy as np\n",
        "import matplotlib.pyplot as plt\n",
        "import matplotlib.cm as cm\n",
        "import seaborn as sns\n",
        "\n",
        "# Pytorch\n",
        "import torch\n",
        "import torch.nn as nn\n",
        "import torch.optim as optim\n",
        "import torchvision.models as models\n",
        "import torchvision.transforms as transforms\n",
        "from torch.utils.data import Dataset, DataLoader\n",
        "\n",
        "# Sklearn\n",
        "from sklearn.metrics import confusion_matrix, accuracy_score , precision_recall_curve, roc_auc_score, recall_score, f1_score\n",
        "from sklearn.model_selection import RandomizedSearchCV, train_test_split"
      ],
      "metadata": {
        "id": "osjmTJMvtxua"
      },
      "id": "osjmTJMvtxua",
      "execution_count": 1,
      "outputs": []
    },
    {
      "cell_type": "code",
      "execution_count": 2,
      "id": "80e4f598-6687-473b-9f1a-a66939a30fa2",
      "metadata": {
        "id": "80e4f598-6687-473b-9f1a-a66939a30fa2"
      },
      "outputs": [],
      "source": [
        "#Visulización adecuada de gráficas en notebook\n",
        "%matplotlib inline"
      ]
    },
    {
      "cell_type": "code",
      "execution_count": null,
      "id": "LSwlUgjUjtR_",
      "metadata": {
        "id": "LSwlUgjUjtR_"
      },
      "outputs": [],
      "source": [
        "# Ignorar las warnings\n",
        "#import warnings\n",
        "#warnings.filterwarnings(\"ignore\")"
      ]
    },
    {
      "cell_type": "code",
      "execution_count": 3,
      "id": "FErDFqM7lGo1",
      "metadata": {
        "colab": {
          "base_uri": "https://localhost:8080/"
        },
        "id": "FErDFqM7lGo1",
        "outputId": "071a3a46-8dc4-4987-9cb6-1934f87205ca"
      },
      "outputs": [
        {
          "output_type": "stream",
          "name": "stdout",
          "text": [
            "numpy :  2.0.2\n",
            "scikit-learn :  1.6.1\n",
            "torch :  2.6.0+cu124\n",
            "joblib :  1.4.2\n"
          ]
        }
      ],
      "source": [
        "from importlib.metadata import version\n",
        "#Librerias usadas\n",
        "librerias = ['numpy', 'scikit-learn', 'torch', 'joblib']\n",
        "for library in librerias:\n",
        "  print(library, \": \", version(library))"
      ]
    },
    {
      "cell_type": "markdown",
      "id": "qK311OLFzPep",
      "metadata": {
        "id": "qK311OLFzPep"
      },
      "source": [
        "***\n",
        "<span style=\"font-family:Cambria Math\">\n",
        "\n",
        "# 2. Análisis exploratorio y preparación de los datos\n",
        "\n",
        "Sugiero algunas consideraciones de temas de forma:\n",
        "- Para citar dentro del notebook usar súper-índices, por ejemmplo: [¹]\n",
        "- Palabras en *english* usar cursivas\n",
        "- Variables o parámetros usar la siguiente notación:  **`variable`**\n",
        "</span>"
      ]
    },
    {
      "cell_type": "code",
      "execution_count": 4,
      "id": "K4yOzyWKJbov",
      "metadata": {
        "colab": {
          "base_uri": "https://localhost:8080/"
        },
        "id": "K4yOzyWKJbov",
        "outputId": "ef843aa4-dd0b-407f-9a23-333cb1d4f3ca"
      },
      "outputs": [
        {
          "output_type": "stream",
          "name": "stdout",
          "text": [
            "Path to dataset files: /kaggle/input/brain-tumor-mri-scans\n"
          ]
        }
      ],
      "source": [
        "import kagglehub\n",
        "\n",
        "# Download latest version\n",
        "path_kaggle = kagglehub.dataset_download(\"rm1000/brain-tumor-mri-scans\")\n",
        "print(\"Path to dataset files:\", path_kaggle)"
      ]
    },
    {
      "cell_type": "code",
      "source": [
        "#"
      ],
      "metadata": {
        "id": "9qKbLabBwWpI"
      },
      "id": "9qKbLabBwWpI",
      "execution_count": null,
      "outputs": []
    },
    {
      "cell_type": "code",
      "execution_count": 5,
      "id": "3d018bc8-e5de-4747-95b9-c1b7a1d4e86e",
      "metadata": {
        "id": "3d018bc8-e5de-4747-95b9-c1b7a1d4e86e",
        "colab": {
          "base_uri": "https://localhost:8080/",
          "height": 206
        },
        "outputId": "c8a26776-fe3b-4fbd-c1ae-798d19c4ecaf"
      },
      "outputs": [
        {
          "output_type": "execute_result",
          "data": {
            "text/plain": [
              "                                            img_path   label\n",
              "0  /kaggle/input/brain-tumor-mri-scans/glioma/066...  glioma\n",
              "1  /kaggle/input/brain-tumor-mri-scans/glioma/126...  glioma\n",
              "2  /kaggle/input/brain-tumor-mri-scans/glioma/073...  glioma\n",
              "3  /kaggle/input/brain-tumor-mri-scans/glioma/010...  glioma\n",
              "4  /kaggle/input/brain-tumor-mri-scans/glioma/037...  glioma"
            ],
            "text/html": [
              "\n",
              "  <div id=\"df-618330db-fdc8-4c33-9408-581759cfad18\" class=\"colab-df-container\">\n",
              "    <div>\n",
              "<style scoped>\n",
              "    .dataframe tbody tr th:only-of-type {\n",
              "        vertical-align: middle;\n",
              "    }\n",
              "\n",
              "    .dataframe tbody tr th {\n",
              "        vertical-align: top;\n",
              "    }\n",
              "\n",
              "    .dataframe thead th {\n",
              "        text-align: right;\n",
              "    }\n",
              "</style>\n",
              "<table border=\"1\" class=\"dataframe\">\n",
              "  <thead>\n",
              "    <tr style=\"text-align: right;\">\n",
              "      <th></th>\n",
              "      <th>img_path</th>\n",
              "      <th>label</th>\n",
              "    </tr>\n",
              "  </thead>\n",
              "  <tbody>\n",
              "    <tr>\n",
              "      <th>0</th>\n",
              "      <td>/kaggle/input/brain-tumor-mri-scans/glioma/066...</td>\n",
              "      <td>glioma</td>\n",
              "    </tr>\n",
              "    <tr>\n",
              "      <th>1</th>\n",
              "      <td>/kaggle/input/brain-tumor-mri-scans/glioma/126...</td>\n",
              "      <td>glioma</td>\n",
              "    </tr>\n",
              "    <tr>\n",
              "      <th>2</th>\n",
              "      <td>/kaggle/input/brain-tumor-mri-scans/glioma/073...</td>\n",
              "      <td>glioma</td>\n",
              "    </tr>\n",
              "    <tr>\n",
              "      <th>3</th>\n",
              "      <td>/kaggle/input/brain-tumor-mri-scans/glioma/010...</td>\n",
              "      <td>glioma</td>\n",
              "    </tr>\n",
              "    <tr>\n",
              "      <th>4</th>\n",
              "      <td>/kaggle/input/brain-tumor-mri-scans/glioma/037...</td>\n",
              "      <td>glioma</td>\n",
              "    </tr>\n",
              "  </tbody>\n",
              "</table>\n",
              "</div>\n",
              "    <div class=\"colab-df-buttons\">\n",
              "\n",
              "  <div class=\"colab-df-container\">\n",
              "    <button class=\"colab-df-convert\" onclick=\"convertToInteractive('df-618330db-fdc8-4c33-9408-581759cfad18')\"\n",
              "            title=\"Convert this dataframe to an interactive table.\"\n",
              "            style=\"display:none;\">\n",
              "\n",
              "  <svg xmlns=\"http://www.w3.org/2000/svg\" height=\"24px\" viewBox=\"0 -960 960 960\">\n",
              "    <path d=\"M120-120v-720h720v720H120Zm60-500h600v-160H180v160Zm220 220h160v-160H400v160Zm0 220h160v-160H400v160ZM180-400h160v-160H180v160Zm440 0h160v-160H620v160ZM180-180h160v-160H180v160Zm440 0h160v-160H620v160Z\"/>\n",
              "  </svg>\n",
              "    </button>\n",
              "\n",
              "  <style>\n",
              "    .colab-df-container {\n",
              "      display:flex;\n",
              "      gap: 12px;\n",
              "    }\n",
              "\n",
              "    .colab-df-convert {\n",
              "      background-color: #E8F0FE;\n",
              "      border: none;\n",
              "      border-radius: 50%;\n",
              "      cursor: pointer;\n",
              "      display: none;\n",
              "      fill: #1967D2;\n",
              "      height: 32px;\n",
              "      padding: 0 0 0 0;\n",
              "      width: 32px;\n",
              "    }\n",
              "\n",
              "    .colab-df-convert:hover {\n",
              "      background-color: #E2EBFA;\n",
              "      box-shadow: 0px 1px 2px rgba(60, 64, 67, 0.3), 0px 1px 3px 1px rgba(60, 64, 67, 0.15);\n",
              "      fill: #174EA6;\n",
              "    }\n",
              "\n",
              "    .colab-df-buttons div {\n",
              "      margin-bottom: 4px;\n",
              "    }\n",
              "\n",
              "    [theme=dark] .colab-df-convert {\n",
              "      background-color: #3B4455;\n",
              "      fill: #D2E3FC;\n",
              "    }\n",
              "\n",
              "    [theme=dark] .colab-df-convert:hover {\n",
              "      background-color: #434B5C;\n",
              "      box-shadow: 0px 1px 3px 1px rgba(0, 0, 0, 0.15);\n",
              "      filter: drop-shadow(0px 1px 2px rgba(0, 0, 0, 0.3));\n",
              "      fill: #FFFFFF;\n",
              "    }\n",
              "  </style>\n",
              "\n",
              "    <script>\n",
              "      const buttonEl =\n",
              "        document.querySelector('#df-618330db-fdc8-4c33-9408-581759cfad18 button.colab-df-convert');\n",
              "      buttonEl.style.display =\n",
              "        google.colab.kernel.accessAllowed ? 'block' : 'none';\n",
              "\n",
              "      async function convertToInteractive(key) {\n",
              "        const element = document.querySelector('#df-618330db-fdc8-4c33-9408-581759cfad18');\n",
              "        const dataTable =\n",
              "          await google.colab.kernel.invokeFunction('convertToInteractive',\n",
              "                                                    [key], {});\n",
              "        if (!dataTable) return;\n",
              "\n",
              "        const docLinkHtml = 'Like what you see? Visit the ' +\n",
              "          '<a target=\"_blank\" href=https://colab.research.google.com/notebooks/data_table.ipynb>data table notebook</a>'\n",
              "          + ' to learn more about interactive tables.';\n",
              "        element.innerHTML = '';\n",
              "        dataTable['output_type'] = 'display_data';\n",
              "        await google.colab.output.renderOutput(dataTable, element);\n",
              "        const docLink = document.createElement('div');\n",
              "        docLink.innerHTML = docLinkHtml;\n",
              "        element.appendChild(docLink);\n",
              "      }\n",
              "    </script>\n",
              "  </div>\n",
              "\n",
              "\n",
              "<div id=\"df-76ad664f-2732-4973-bb11-a9d193785f7e\">\n",
              "  <button class=\"colab-df-quickchart\" onclick=\"quickchart('df-76ad664f-2732-4973-bb11-a9d193785f7e')\"\n",
              "            title=\"Suggest charts\"\n",
              "            style=\"display:none;\">\n",
              "\n",
              "<svg xmlns=\"http://www.w3.org/2000/svg\" height=\"24px\"viewBox=\"0 0 24 24\"\n",
              "     width=\"24px\">\n",
              "    <g>\n",
              "        <path d=\"M19 3H5c-1.1 0-2 .9-2 2v14c0 1.1.9 2 2 2h14c1.1 0 2-.9 2-2V5c0-1.1-.9-2-2-2zM9 17H7v-7h2v7zm4 0h-2V7h2v10zm4 0h-2v-4h2v4z\"/>\n",
              "    </g>\n",
              "</svg>\n",
              "  </button>\n",
              "\n",
              "<style>\n",
              "  .colab-df-quickchart {\n",
              "      --bg-color: #E8F0FE;\n",
              "      --fill-color: #1967D2;\n",
              "      --hover-bg-color: #E2EBFA;\n",
              "      --hover-fill-color: #174EA6;\n",
              "      --disabled-fill-color: #AAA;\n",
              "      --disabled-bg-color: #DDD;\n",
              "  }\n",
              "\n",
              "  [theme=dark] .colab-df-quickchart {\n",
              "      --bg-color: #3B4455;\n",
              "      --fill-color: #D2E3FC;\n",
              "      --hover-bg-color: #434B5C;\n",
              "      --hover-fill-color: #FFFFFF;\n",
              "      --disabled-bg-color: #3B4455;\n",
              "      --disabled-fill-color: #666;\n",
              "  }\n",
              "\n",
              "  .colab-df-quickchart {\n",
              "    background-color: var(--bg-color);\n",
              "    border: none;\n",
              "    border-radius: 50%;\n",
              "    cursor: pointer;\n",
              "    display: none;\n",
              "    fill: var(--fill-color);\n",
              "    height: 32px;\n",
              "    padding: 0;\n",
              "    width: 32px;\n",
              "  }\n",
              "\n",
              "  .colab-df-quickchart:hover {\n",
              "    background-color: var(--hover-bg-color);\n",
              "    box-shadow: 0 1px 2px rgba(60, 64, 67, 0.3), 0 1px 3px 1px rgba(60, 64, 67, 0.15);\n",
              "    fill: var(--button-hover-fill-color);\n",
              "  }\n",
              "\n",
              "  .colab-df-quickchart-complete:disabled,\n",
              "  .colab-df-quickchart-complete:disabled:hover {\n",
              "    background-color: var(--disabled-bg-color);\n",
              "    fill: var(--disabled-fill-color);\n",
              "    box-shadow: none;\n",
              "  }\n",
              "\n",
              "  .colab-df-spinner {\n",
              "    border: 2px solid var(--fill-color);\n",
              "    border-color: transparent;\n",
              "    border-bottom-color: var(--fill-color);\n",
              "    animation:\n",
              "      spin 1s steps(1) infinite;\n",
              "  }\n",
              "\n",
              "  @keyframes spin {\n",
              "    0% {\n",
              "      border-color: transparent;\n",
              "      border-bottom-color: var(--fill-color);\n",
              "      border-left-color: var(--fill-color);\n",
              "    }\n",
              "    20% {\n",
              "      border-color: transparent;\n",
              "      border-left-color: var(--fill-color);\n",
              "      border-top-color: var(--fill-color);\n",
              "    }\n",
              "    30% {\n",
              "      border-color: transparent;\n",
              "      border-left-color: var(--fill-color);\n",
              "      border-top-color: var(--fill-color);\n",
              "      border-right-color: var(--fill-color);\n",
              "    }\n",
              "    40% {\n",
              "      border-color: transparent;\n",
              "      border-right-color: var(--fill-color);\n",
              "      border-top-color: var(--fill-color);\n",
              "    }\n",
              "    60% {\n",
              "      border-color: transparent;\n",
              "      border-right-color: var(--fill-color);\n",
              "    }\n",
              "    80% {\n",
              "      border-color: transparent;\n",
              "      border-right-color: var(--fill-color);\n",
              "      border-bottom-color: var(--fill-color);\n",
              "    }\n",
              "    90% {\n",
              "      border-color: transparent;\n",
              "      border-bottom-color: var(--fill-color);\n",
              "    }\n",
              "  }\n",
              "</style>\n",
              "\n",
              "  <script>\n",
              "    async function quickchart(key) {\n",
              "      const quickchartButtonEl =\n",
              "        document.querySelector('#' + key + ' button');\n",
              "      quickchartButtonEl.disabled = true;  // To prevent multiple clicks.\n",
              "      quickchartButtonEl.classList.add('colab-df-spinner');\n",
              "      try {\n",
              "        const charts = await google.colab.kernel.invokeFunction(\n",
              "            'suggestCharts', [key], {});\n",
              "      } catch (error) {\n",
              "        console.error('Error during call to suggestCharts:', error);\n",
              "      }\n",
              "      quickchartButtonEl.classList.remove('colab-df-spinner');\n",
              "      quickchartButtonEl.classList.add('colab-df-quickchart-complete');\n",
              "    }\n",
              "    (() => {\n",
              "      let quickchartButtonEl =\n",
              "        document.querySelector('#df-76ad664f-2732-4973-bb11-a9d193785f7e button');\n",
              "      quickchartButtonEl.style.display =\n",
              "        google.colab.kernel.accessAllowed ? 'block' : 'none';\n",
              "    })();\n",
              "  </script>\n",
              "</div>\n",
              "\n",
              "    </div>\n",
              "  </div>\n"
            ],
            "application/vnd.google.colaboratory.intrinsic+json": {
              "type": "dataframe",
              "variable_name": "df_paths",
              "summary": "{\n  \"name\": \"df_paths\",\n  \"rows\": 7023,\n  \"fields\": [\n    {\n      \"column\": \"img_path\",\n      \"properties\": {\n        \"dtype\": \"string\",\n        \"num_unique_values\": 7023,\n        \"samples\": [\n          \"/kaggle/input/brain-tumor-mri-scans/meningioma/0517.jpg\",\n          \"/kaggle/input/brain-tumor-mri-scans/healthy/0083.jpg\",\n          \"/kaggle/input/brain-tumor-mri-scans/healthy/1301.jpg\"\n        ],\n        \"semantic_type\": \"\",\n        \"description\": \"\"\n      }\n    },\n    {\n      \"column\": \"label\",\n      \"properties\": {\n        \"dtype\": \"category\",\n        \"num_unique_values\": 4,\n        \"samples\": [\n          \"healthy\",\n          \"pituitary\",\n          \"glioma\"\n        ],\n        \"semantic_type\": \"\",\n        \"description\": \"\"\n      }\n    }\n  ]\n}"
            }
          },
          "metadata": {},
          "execution_count": 5
        }
      ],
      "source": [
        "labels = ['glioma', 'healthy', 'meningioma', 'pituitary']\n",
        "label2idx = {label: idx for idx, label in enumerate(labels)}\n",
        "idx2label = {v: k for k, v in label2idx.items()}\n",
        "\n",
        "# Cargar solo los paths de las imágenes\n",
        "path_raiz = path_kaggle\n",
        "dir_paths = {label: os.path.join(path_raiz, label) for label in labels}\n",
        "\n",
        "# Dataframe con los paths\n",
        "df_paths = []\n",
        "for label, path in dir_paths.items():\n",
        "    imagenes = os.listdir(path)\n",
        "    for img in imagenes:\n",
        "        if img.lower().endswith('.jpg'):\n",
        "            img_path = os.path.join(path, img)\n",
        "            df_paths.append({'img_path': img_path, 'label': label})\n",
        "\n",
        "df_paths = pd.DataFrame(df_paths)\n",
        "df_paths.head()"
      ]
    },
    {
      "cell_type": "markdown",
      "id": "CNfurSnbmf79",
      "metadata": {
        "id": "CNfurSnbmf79"
      },
      "source": [
        "***\n",
        "<span style=\"font-family:Cambria Math\">\n",
        "\n",
        "XXXXXXX\n",
        "</span>"
      ]
    },
    {
      "cell_type": "code",
      "execution_count": null,
      "id": "boj68OJEKvb1",
      "metadata": {
        "id": "boj68OJEKvb1"
      },
      "outputs": [],
      "source": [
        "# Pipeline que reduce las dimensiones y convierte a Tensor\n",
        "transform_pipeline = transforms.Compose([\n",
        "    transforms.Resize((256, 256)),\n",
        "    transforms.ToTensor()\n",
        "])"
      ]
    },
    {
      "cell_type": "code",
      "execution_count": null,
      "id": "Mfo9TImaKytg",
      "metadata": {
        "id": "Mfo9TImaKytg"
      },
      "outputs": [],
      "source": [
        "# Subclase de Dataset de PyTorch (para cargar más eficientemente la data)\n",
        "class ImgDataset(Dataset):\n",
        "    def __init__(self, dataframe, transformacion=None, label2idx=None):\n",
        "        self.dataframe = dataframe\n",
        "        self.transformacion = transformacion\n",
        "        self.label2idx = label2idx or {}\n",
        "\n",
        "    def __len__(self):\n",
        "        return len(self.dataframe)\n",
        "\n",
        "    def __getitem__(self, idx):\n",
        "        fila = self.dataframe.iloc[idx]\n",
        "        img_path = fila['img_path']\n",
        "        label = fila['label']\n",
        "\n",
        "        # Si los labels son strings, conviértelos a índices (si label2idx está definido)\n",
        "        if self.label2idx:\n",
        "            label = self.label2idx[label]\n",
        "\n",
        "        # Leer y convertir a RGB\n",
        "        with Image.open(img_path) as img:\n",
        "            img = img.convert('RGB')\n",
        "\n",
        "            # Aplicar transformación custom o solo a Tensor\n",
        "            img = self.transformacion(img) if self.transformacion else transforms.ToTensor()(img)\n",
        "\n",
        "        return img, label\n",
        "\n",
        "\n",
        "# Instanciación de la clase de Dataset\n",
        "dataset = ImgDataset(df_paths, transformacion=transform_pipeline, label2idx=label2idx)"
      ]
    },
    {
      "cell_type": "markdown",
      "id": "u2a-f8cDnhsF",
      "metadata": {
        "id": "u2a-f8cDnhsF"
      },
      "source": [
        "***\n",
        "<span style=\"font-family:Cambria Math\">\n",
        "\n",
        "XXXXXXXX\n",
        "\n",
        "</span>"
      ]
    },
    {
      "cell_type": "code",
      "execution_count": null,
      "id": "VkpiJyJ2XCbj",
      "metadata": {
        "id": "VkpiJyJ2XCbj",
        "colab": {
          "base_uri": "https://localhost:8080/"
        },
        "outputId": "7bdcc04f-ae20-4fce-e0c0-dfdef72daa72"
      },
      "outputs": [
        {
          "output_type": "execute_result",
          "data": {
            "text/plain": [
              "(tensor([[[0., 0., 0.,  ..., 0., 0., 0.],\n",
              "          [0., 0., 0.,  ..., 0., 0., 0.],\n",
              "          [0., 0., 0.,  ..., 0., 0., 0.],\n",
              "          ...,\n",
              "          [0., 0., 0.,  ..., 0., 0., 0.],\n",
              "          [0., 0., 0.,  ..., 0., 0., 0.],\n",
              "          [0., 0., 0.,  ..., 0., 0., 0.]],\n",
              " \n",
              "         [[0., 0., 0.,  ..., 0., 0., 0.],\n",
              "          [0., 0., 0.,  ..., 0., 0., 0.],\n",
              "          [0., 0., 0.,  ..., 0., 0., 0.],\n",
              "          ...,\n",
              "          [0., 0., 0.,  ..., 0., 0., 0.],\n",
              "          [0., 0., 0.,  ..., 0., 0., 0.],\n",
              "          [0., 0., 0.,  ..., 0., 0., 0.]],\n",
              " \n",
              "         [[0., 0., 0.,  ..., 0., 0., 0.],\n",
              "          [0., 0., 0.,  ..., 0., 0., 0.],\n",
              "          [0., 0., 0.,  ..., 0., 0., 0.],\n",
              "          ...,\n",
              "          [0., 0., 0.,  ..., 0., 0., 0.],\n",
              "          [0., 0., 0.,  ..., 0., 0., 0.],\n",
              "          [0., 0., 0.,  ..., 0., 0., 0.]]]),\n",
              " 0)"
            ]
          },
          "metadata": {},
          "execution_count": 25
        }
      ],
      "source": [
        "dataset[0]"
      ]
    },
    {
      "cell_type": "markdown",
      "id": "qbfZ1IyjocL_",
      "metadata": {
        "id": "qbfZ1IyjocL_"
      },
      "source": [
        "***\n",
        "<span style=\"font-family:Cambria Math\">\n",
        "\n",
        "XXXXXXX\n",
        "</span>"
      ]
    },
    {
      "cell_type": "markdown",
      "id": "9Ud1yYW8rOPB",
      "metadata": {
        "id": "9Ud1yYW8rOPB"
      },
      "source": [
        "***\n",
        "<span style=\"font-family:Cambria Math\">\n",
        "\n",
        "XXXXXX\n",
        "</span>"
      ]
    },
    {
      "cell_type": "markdown",
      "id": "_ypyorGqwmRl",
      "metadata": {
        "id": "_ypyorGqwmRl"
      },
      "source": [
        "***\n",
        "<span style=\"font-family:Cambria Math\">\n",
        "\n",
        "# 3. Limpieza y definición de *pipelines* de preprocesamiento\n",
        "\n",
        "</span>"
      ]
    },
    {
      "cell_type": "markdown",
      "id": "FISKAzAZH4Iz",
      "metadata": {
        "id": "FISKAzAZH4Iz"
      },
      "source": [
        "***\n",
        "<span style=\"font-family:Cambria Math\">\n",
        "\n",
        "## 3.1 Análisis de la Distribución de los Datos\n",
        "\n",
        "*** Resize de las imágenes***\n",
        "</span>"
      ]
    },
    {
      "cell_type": "code",
      "execution_count": null,
      "id": "oo6AlpyyxFRT",
      "metadata": {
        "id": "oo6AlpyyxFRT"
      },
      "outputs": [],
      "source": [
        "# Copia de los datos\n",
        "data = data_raw.copy()"
      ]
    },
    {
      "cell_type": "code",
      "execution_count": null,
      "id": "V7sT0V_OoOL_",
      "metadata": {
        "colab": {
          "base_uri": "https://localhost:8080/"
        },
        "id": "V7sT0V_OoOL_",
        "outputId": "e188d684-cd87-47d8-8734-bcc15c84f31d"
      },
      "outputs": [
        {
          "name": "stdout",
          "output_type": "stream",
          "text": [
            "Duplicados: 0\n"
          ]
        },
        {
          "data": {
            "text/plain": [
              "(5318, 12)"
            ]
          },
          "execution_count": 16,
          "metadata": {},
          "output_type": "execute_result"
        }
      ],
      "source": [
        "#Eliminación de duplicados\n",
        "data.drop_duplicates(inplace=True)\n",
        "print(f'Duplicados: {data.duplicated().sum()}')\n",
        "data.shape"
      ]
    },
    {
      "cell_type": "markdown",
      "id": "4FfaZOsT529h",
      "metadata": {
        "id": "4FfaZOsT529h"
      },
      "source": [
        "***\n",
        "<span style=\"font-family:Cambria Math\">\n",
        "\n",
        "XXXXXX\n",
        "</span>"
      ]
    },
    {
      "cell_type": "markdown",
      "id": "4370a607-ad43-4c5d-bddd-1a9370469409",
      "metadata": {
        "id": "4370a607-ad43-4c5d-bddd-1a9370469409"
      },
      "source": [
        "***\n",
        "\n",
        "<span style=\"font-family:Cambria Math\">\n",
        "\n",
        "## 3.2 *Pipeline* de Preprocesamiento\n",
        "XXXXXXX\n",
        "</span>"
      ]
    },
    {
      "cell_type": "markdown",
      "id": "YO487cLEMvw5",
      "metadata": {
        "id": "YO487cLEMvw5"
      },
      "source": [
        "***\n",
        "\n",
        "<span style=\"font-family:Cambria Math\">\n",
        "\n",
        "XXXXXXXXX\n",
        "</span>"
      ]
    },
    {
      "cell_type": "code",
      "execution_count": null,
      "id": "rtdM0L36J7O0",
      "metadata": {
        "id": "rtdM0L36J7O0"
      },
      "outputs": [],
      "source": [
        "# Deginición de objetos\n",
        "smote = SMOTE(k_neighbors=3, random_state=RANDOM_STATE)\n",
        "scaler = RobustScaler()"
      ]
    },
    {
      "cell_type": "code",
      "execution_count": null,
      "id": "xRfx1lOR6yhC",
      "metadata": {
        "id": "xRfx1lOR6yhC"
      },
      "outputs": [],
      "source": [
        "#Definición de objeto de cross-validación estratificada\n",
        "kfold = StratifiedKFold(n_splits=5, shuffle=True, random_state=RANDOM_STATE)"
      ]
    },
    {
      "cell_type": "code",
      "execution_count": null,
      "id": "8gNGgPVOCN1Y",
      "metadata": {
        "colab": {
          "base_uri": "https://localhost:8080/"
        },
        "id": "8gNGgPVOCN1Y",
        "outputId": "ca85953f-62d2-477b-878d-261f8132de6d"
      },
      "outputs": [
        {
          "name": "stdout",
          "output_type": "stream",
          "text": [
            "quality\n",
            "6    1858\n",
            "5    1858\n",
            "7    1858\n",
            "3    1858\n",
            "4    1858\n",
            "8    1858\n",
            "9    1858\n",
            "Name: count, dtype: int64\n"
          ]
        }
      ],
      "source": [
        "counts = y_train_over.value_counts()\n",
        "print(counts)"
      ]
    },
    {
      "cell_type": "code",
      "execution_count": null,
      "id": "WTnL1LoeZsv6",
      "metadata": {
        "id": "WTnL1LoeZsv6"
      },
      "outputs": [],
      "source": [
        "# # Para visualizar la estructura del modelo se puede usar la clase plot_model,\n",
        "# # previamente se habia cargado esta clase en las librerías. Al visualizar el\n",
        "# # modelo también se puede guardar o exportar la imagen resultante.\n",
        "\n",
        "# # Parámetros plot_model:\n",
        "# # modelo = modelo neuronal detensorflow.keras\n",
        "# # to_file = nombre del archivo de la imagen del diagrama\n",
        "# # show_shapes = parámetro binario para definir si se muestran las dimensiones\n",
        "# # show_layer_names = parámetro binario para definir si se incluyen los nombres de las capas\n",
        "# plot_model(model, to_file='model.png', show_shapes=True, show_layer_names=False)"
      ]
    },
    {
      "cell_type": "markdown",
      "id": "0X9-RlXB5Do5",
      "metadata": {
        "id": "0X9-RlXB5Do5"
      },
      "source": [
        "***\n",
        "\n",
        "<span style=\"font-family:Cambria Math\">\n",
        "\n",
        "XXXXXXXX\n",
        "</span>"
      ]
    },
    {
      "cell_type": "markdown",
      "id": "G6-RrjwuxYEw",
      "metadata": {
        "id": "G6-RrjwuxYEw"
      },
      "source": [
        "***\n",
        "\n",
        "<span style=\"font-family:Cambria Math\">\n",
        "\n",
        "# 4. Entrenamiento de los Modelos y Búsqueda de Hiperparámetros\n",
        "\n",
        "- **`LogisticRegression`**\n",
        "\n",
        "\n",
        "\n",
        "\n",
        "</span>"
      ]
    },
    {
      "cell_type": "markdown",
      "id": "bA44stXERD2N",
      "metadata": {
        "id": "bA44stXERD2N"
      },
      "source": [
        "***\n",
        "\n",
        "<span style=\"font-family:Cambria Math\">\n",
        "\n",
        "XXXXXX.\n",
        "\n",
        "> **Nota aclaratoria:**  \n",
        "> XXXXX\n",
        ">  \n",
        "> XXXXX\n",
        "\n",
        "</span>"
      ]
    },
    {
      "cell_type": "markdown",
      "id": "7JgtiyyfIyMM",
      "metadata": {
        "id": "7JgtiyyfIyMM"
      },
      "source": [
        "***\n",
        "<span style=\"font-family:Cambria Math\">\n",
        "\n",
        "# 6. Análisis de resultados y conclusiones\n",
        "\n",
        "XXXXXX\n",
        "</span>"
      ]
    },
    {
      "cell_type": "code",
      "execution_count": null,
      "id": "EE72HCk4fFLr",
      "metadata": {
        "id": "EE72HCk4fFLr"
      },
      "outputs": [],
      "source": [
        "# def visualization_history(resultsFit):\n",
        "#     \"\"\"\n",
        "#     Esta función grafica las curvas de precisión a lo largo de las épocas de entrenamiento\n",
        "#     para el conjunto de prueba como el de validación.\n",
        "#     Parámetros:\n",
        "#     resultsFit = historial de entrenamiento de un modelo entensorflow.keras\n",
        "#     Salida:\n",
        "#     Gráfica de la precisión en validación y prueba.\n",
        "#     \"\"\"\n",
        "#     # Llamado al entrono de la gráfica y fijar tamaño de visualización\n",
        "#     fig, axes = plt.subplots(1, 2, figsize=(13, 5))\n",
        "\n",
        "#     # Graficar la presición de la historia en entrenamiento\n",
        "#     axes[0].plot(range(len(resultsFit.history['accuracy'])), resultsFit.history['accuracy'],\n",
        "#            '#5a2ff4', linestyle = \"-\", marker = \"o\",\n",
        "#            label='Precisión entrenamiento', lw = 3)\n",
        "\n",
        "#     # Graficar la presición de la historia en validación\n",
        "#     axes[0].plot(range(len(resultsFit.history['val_accuracy'])), resultsFit.history['val_accuracy'],  '#60d13e',\n",
        "#            label='Precisión validación', linestyle = '-', marker = 'o', lw = 3)\n",
        "\n",
        "#     # Umbral 90% de precisión\n",
        "#     axes[0].plot(range(len(resultsFit.history['val_accuracy'])), 0.9*np.ones(len(resultsFit.history['val_accuracy'])),\n",
        "#                'red', lw = 3, label = 'Umbral')\n",
        "\n",
        "#     # Títulos de los ejes\n",
        "#     axes[0].set_xlabel('Época',fontsize=16)\n",
        "#     axes[0].set_ylabel(r'Precisión',fontsize=16)\n",
        "#     axes[0].set_ylim(top=1) # Límite de la grafica\n",
        "#     axes[0].grid()      # Activar la cuadricula\n",
        "#     axes[0].legend(fontsize=14,loc = 'lower right')   # Establecer la legenda\n",
        "\n",
        "\n",
        "#     # Graficar la pérdida de la historia en entrenamiento\n",
        "#     axes[1].plot(range(len(resultsFit.history['loss'])), resultsFit.history['loss'],\n",
        "#            '#5a2ff4', linestyle = \"-\", marker = \"o\",\n",
        "#            label='Pérdida entrenamiento', lw = 3)\n",
        "\n",
        "#     # Graficar la presición de la historia en validación\n",
        "#     axes[1].plot(range(len(resultsFit.history['val_loss'])), resultsFit.history['val_loss'],  '#60d13e',\n",
        "#            label='Pérdida validación', linestyle = '-', marker = 'o', lw = 3)\n",
        "\n",
        "#     # Títulos de los ejes\n",
        "#     axes[1].set_xlabel('Época',fontsize=16)\n",
        "#     axes[1].set_ylabel(r'Pérdida',fontsize=16)\n",
        "#     axes[1].grid()      # Activar la cuadricula\n",
        "#     axes[1].legend(fontsize=14,loc = 'upper right')   # Establecer la legenda\n",
        "\n",
        "\n",
        "#     plt.tight_layout() # Ajusta automáticamente el diseño de la figura\n",
        "#     plt.show()"
      ]
    },
    {
      "cell_type": "code",
      "execution_count": null,
      "id": "LbDqp-hbXTEr",
      "metadata": {
        "id": "LbDqp-hbXTEr"
      },
      "outputs": [],
      "source": [
        "# # Evaluación del modelo en el conjunto de prueba\n",
        "# results = model.evaluate(X_test, y_test_onehot)\n",
        "\n",
        "# # Los resultados contendrán los valores de las métricas definidas, por ejemplo, pérdida y precisión.\n",
        "# print(f'Pérdida en el conjunto de prueba: {results[0]:0.2f}')\n",
        "# print(f'Precisión en el conjunto de prueba:{results[1]:0.2f}')"
      ]
    },
    {
      "cell_type": "markdown",
      "id": "6yhcCQScZ9Ny",
      "metadata": {
        "id": "6yhcCQScZ9Ny"
      },
      "source": [
        "***\n",
        "<span style=\"font-family:Cambria Math\">\n",
        "\n",
        "XXXXXXX\n",
        "</span>"
      ]
    },
    {
      "cell_type": "markdown",
      "id": "DwUWQIAE3O0o",
      "metadata": {
        "id": "DwUWQIAE3O0o"
      },
      "source": [
        "***\n",
        "<span style=\"font-family:Cambria Math\">\n",
        "\n",
        "# 7. Referencias\n",
        "</span>"
      ]
    },
    {
      "cell_type": "markdown",
      "id": "BoLDjBS03xiQ",
      "metadata": {
        "id": "BoLDjBS03xiQ"
      },
      "source": [
        "***\n",
        "<span style=\"font-family:Cambria Math\">\n",
        "\n",
        "[¹] **Solución Taller 1, Curso ML No Supervisado**  \n",
        "Disponible en: [Coursera - Machine Learning No Supervisado](https://www.coursera.org/learn/maia-machine-learning-no-supervisado/supplement/fXisI/solucion-al-problema-practicon)\n",
        "\n",
        "[²] **Ídem.**\n",
        "\n",
        "[³] **Taller 2, Curso ML Supervisado**  \n",
        "Disponible en: [Coursera - Machine Learning Supervisado](https://www.coursera.org/learn/maia-machine-learning-supervisado/programming/oqZpF/efecto-de-los-datos-en-la-generacion-de-modelos)\n",
        "\n",
        "[⁴] **Lección 1, Semana 7, Curso ML Supervisado**  \n",
        "Disponible en: [Coursera - Machine Learning Supervisado](https://www.coursera.org/learn/maia-machine-learning-supervisado/programming/MFHfh/clasificacion-binaria-no-balanceada-con-y-sin-costos)\n",
        "\n",
        "[⁵] **Lección 1, Semana 4, Curso ML Supervisado**  \n",
        "Disponible en: [Coursera - Machine Learning Supervisado](https://www.coursera.org/learn/maia-machine-learning-supervisado/programming/iMjb1/clasificacion-y-regresion-simple-diferentes-modelos/lab?path=%2Fnotebooks%2Frelease%2FSemana4Leccion1%2FSemana4Leccion1.ipynb)\n",
        "\n",
        "[⁶] **Taller 6, Curso ML Supervisado**  \n",
        "Disponible en: [Coursera - Machine Learning Supervisado](https://www.coursera.org/learn/maia-machine-learning-supervisado/programming/a9xeR/problema-de-clasificacion-usando-un-ensamble-de-arboles)\n",
        "\n",
        "[⁷] **Taller 4, Curso ML Supervisado**  \n",
        "Disponible en: [Coursera - Machine Learning Supervisado](https://www.coursera.org/learn/maia-machine-learning-supervisado/programming/lI87o/seleccion-de-modelo-y-regularizacion-en-redes-neuronales)\n",
        "\n",
        "[⁸] **Lección 1, Semana 6, Curso ML Supervisado**  \n",
        "Disponible en: [Coursera - Machine Learning Supervisado](https://www.coursera.org/learn/maia-machine-learning-supervisado/programming/t5nSQ/problema-de-clasificacion-con-random-forest)\n",
        "\n",
        "[⁹] **Ídem.**\n",
        "\n",
        "[¹⁰] **Cotas de Chernoff**  \n",
        "Disponible en: [Wikipedia - Cotas de Chernoff](https://es.wikipedia.org/wiki/Cotas_de_Chernoff)\n",
        "\n",
        "</span>\n",
        "\n",
        "\n",
        "\n",
        "\n",
        "\n"
      ]
    }
  ],
  "metadata": {
    "colab": {
      "gpuType": "T4",
      "provenance": [],
      "include_colab_link": true
    },
    "kernelspec": {
      "display_name": "Python 3 (ipykernel)",
      "language": "python",
      "name": "python3"
    },
    "language_info": {
      "codemirror_mode": {
        "name": "ipython",
        "version": 3
      },
      "file_extension": ".py",
      "mimetype": "text/x-python",
      "name": "python",
      "nbconvert_exporter": "python",
      "pygments_lexer": "ipython3",
      "version": "3.12.9"
    }
  },
  "nbformat": 4,
  "nbformat_minor": 5
}