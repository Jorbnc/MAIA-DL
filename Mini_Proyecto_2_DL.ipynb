{
  "cells": [
    {
      "cell_type": "markdown",
      "metadata": {
        "id": "view-in-github",
        "colab_type": "text"
      },
      "source": [
        "<a href=\"https://colab.research.google.com/github/Jorbnc/MAIA-DL/blob/master/Mini_Proyecto_2_DL.ipynb\" target=\"_parent\"><img src=\"https://colab.research.google.com/assets/colab-badge.svg\" alt=\"Open In Colab\"/></a>"
      ]
    },
    {
      "cell_type": "markdown",
      "id": "oa_MJEGQ6jTi",
      "metadata": {
        "id": "oa_MJEGQ6jTi"
      },
      "source": [
        "![Universidad_de_los_Andes_30.png](data:image/png;base64,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)"
      ]
    },
    {
      "cell_type": "markdown",
      "id": "sl89pic17iPU",
      "metadata": {
        "id": "sl89pic17iPU"
      },
      "source": [
        "<style>\n",
        "@import url('https://fonts.googleapis.com/css2?family=Latin+Modern+Roman:wght@400;700&display=swap');\n",
        "\n",
        "body, p, h1, h2, h3, h4, h5, h6, li {\n",
        "  font-family: 'Latin Modern Roman', serif;\n",
        "}\n",
        "code, pre {\n",
        "  font-family: 'Fira Mono', monospace;\n",
        "}\n",
        "</style>\n",
        "\n",
        "***\n",
        "\n",
        "# **Mini Proyecto 2, Técnicas de *Deep Learning*: Clasificación de Sentimientos de Reseñas de Películas en *IMDB* con Redes Neuronales Recurrentes**\n",
        "\n",
        "## **Descripción del problema:**\n",
        "\n",
        "En este proyecto abordamos el problema de clasificación de sentimiento en reseñas de películas. Partimos de un conjunto de datos extraído de Kaggle que contiene reseñas textuales (**`text`**) y una etiqueta binaria (**`label`**) que indica si la opinión es positiva (**1**) o negativa (**0**). El reto consiste en diseñar un modelo de *Deep Learning*, concretamente una Red Neuronal Recurrente con capas LSTM, capaz de procesar secuencias de texto y predecir con alta precisión la polaridad de cada reseña.\n",
        "\n",
        "## **Objetivo:**\n",
        "\n",
        "* Implementar un *pipeline* completo que incluya la descarga del *dataset*, el preprocesamiento de texto (tokenización, limpieza, construcción de vocabulario y* padding *de secuencias), y la definición de un *Dataset* y *DataLoader* en PyTorch.\n",
        "\n",
        "* Diseñar una arquitectura basada en *embeddings* y una o varias capas LSTM (bidireccionales), con regularización por *dropout* y optimización con **`Adam`**.\n",
        "\n",
        "* Entrenar el modelo utilizando GPU cuando esté disponible, incorporando técnicas de *early stopping* y gradient clipping para evitar sobreajuste y explosión de gradientes.\n",
        "\n",
        "* Evaluar su desempeño final sobre el conjunto de prueba, calculando *accuracy*, *F1‑score*, *recall* y presentando la matriz de confusión.\n",
        "\n",
        "* Visualizar la evolución de la pérdida y la exactitud en entrenamiento y validación a lo largo de las épocas."
      ]
    },
    {
      "cell_type": "markdown",
      "id": "SiCS5j-HAbCB",
      "metadata": {
        "id": "SiCS5j-HAbCB"
      },
      "source": [
        "***\n",
        "\n",
        "**Este proyecto es realizado por Andrés Felipe Ñungo y Jordan Bryan Núñez Campos para entrega el 9 de mayo.**\n"
      ]
    },
    {
      "cell_type": "markdown",
      "source": [
        "***\n",
        "# Tareas\n",
        "\n",
        "* Exploración y pre-procesamiento (Jordan)\n",
        "\n",
        "* Introducción, y explicación de las opciones tomadas en el PDF (Andrés y Jordan)\n",
        "\n",
        "* Comentarios en código, explicaciones en markdowns (Andrés y Jordan)\n",
        "\n",
        "* Nube de Palabras (Jordan) ✅\n",
        "\n",
        "* Validación de idiomas (Jordan) ✅\n",
        "\n",
        "* Glove  (Jordan)\n",
        "\n",
        "* Word2vec (Andrés) ✅\n",
        "\n",
        "* LSTM o GRU  (Andrés) ✅\n",
        "\n",
        "* Mejorar red (Andrés) ✅\n",
        "\n",
        "* Pensar en ideas visualización (Andrés y Jordan)\n",
        "- t-SNE\n",
        "\n",
        "* Entrenamiento y evaluación de modelo (Andrés) ✅\n",
        "\n",
        "* Informe: Arquitectura, entrenamiento, evaluación, análisis cuantitativo (Andrés)\n",
        "\n",
        "* Informe: Exploración, pre-procesamiento, análisis cualitativo, discusión (Jordan)"
      ],
      "metadata": {
        "id": "aP4T8CvEqYMG"
      },
      "id": "aP4T8CvEqYMG"
    },
    {
      "cell_type": "markdown",
      "id": "8VqTMx7TYgjH",
      "metadata": {
        "id": "8VqTMx7TYgjH"
      },
      "source": [
        "\n",
        "***\n",
        "# **Índice**\n",
        "\n",
        "El *notebook* abordará el proyecto de la siguiente manera:\n",
        "\n",
        "| 🔹 | Sección        |\n",
        "|----|----------------|\n",
        "| 1️⃣ | **Instalación y carga de librerías** |\n",
        "| 1️⃣.1️⃣ | **Word2Vec** |\n",
        "| 1️⃣.2️⃣ | **GloVe** |\n",
        "| 2️⃣ | **Análisis exploratorio y preparación de los datos**       |\n",
        "| 2️⃣.1️⃣ | **Carga y estadísticas generales**       |\n",
        "| 2️⃣.2️⃣ | **Limpieza de los datos**       |\n",
        "| 3️⃣ | **Definición de *pipelines* de procesamiento**          |\n",
        "| 3️⃣.1️⃣ | **Pipeline de preprocesamiento**   |\n",
        "| 4️⃣ | **Desarrollo del modelo RNN**   |\n",
        "| 4️⃣.1️⃣ | **Hiperparámetros, partición y Dataloaders**   |\n",
        "| 4️⃣.2️⃣ | **Adaptación a partir de la arquitectura ...*   |\n",
        "| 4️⃣.3️⃣ | **Entrenamiento, validación y prueba**   |\n",
        "| 5️⃣ | **Análisis de resultados y conclusiones**   |\n",
        "| 6️⃣ | **Conclusión**   |\n",
        "| 7️⃣ | **Referencias**   |\n"
      ]
    },
    {
      "cell_type": "markdown",
      "id": "2cyVuwlHB_W3",
      "metadata": {
        "id": "2cyVuwlHB_W3"
      },
      "source": [
        "***\n",
        "\n",
        "# 1. Instalación y cargue de librerías"
      ]
    },
    {
      "cell_type": "markdown",
      "source": [
        "Prueba"
      ],
      "metadata": {
        "id": "Ahvgr3QuGK5_"
      },
      "id": "Ahvgr3QuGK5_"
    },
    {
      "cell_type": "markdown",
      "source": [
        "Después de la instalación de algunas librerías se importan utilidades generales (**`os`**, **`random`**,**`time`**, **`NumPy`**, **`pandas`**), herramientas de PLN con **`NLTK`** (incluida la descarga de *stop-words*), módulos de **`PyTorch`** para construir y entrenar la red, métricas de **`scikit-learn`** y utilidades de visualización con **`Matplotlib`** y **`Seaborn`**. Por último, importa la librería **`huggingface_hub`** para más adelante descargar uno de los embeddings."
      ],
      "metadata": {
        "id": "DkjBiBB5rU6t"
      },
      "id": "DkjBiBB5rU6t"
    },
    {
      "cell_type": "code",
      "source": [
        "# Instalación de librerías para Colab y Coursera\n",
        "%pip install -q --no-cache-dir kagglehub langdetect\n",
        "%pip install -q --no-cache-dir huggingface_hub\n",
        "%pip install -q --no-cache-dir nltk\n",
        "%pip install -q --no-cache-dir wordcloud\n",
        "%pip install -q --no-cache-dir plotly"
      ],
      "metadata": {
        "id": "l26426jMLCxE"
      },
      "id": "l26426jMLCxE",
      "execution_count": 1,
      "outputs": []
    },
    {
      "cell_type": "code",
      "source": [
        "# Librerías comunes\n",
        "import os\n",
        "import random\n",
        "import time\n",
        "import numpy as np\n",
        "import pandas as pd\n",
        "import time\n",
        "\n",
        "# Descarga de datasets y de embeddings\n",
        "import kagglehub\n",
        "from huggingface_hub import hf_hub_download\n",
        "\n",
        "# Preprocesamiento, NLP\n",
        "from collections import Counter\n",
        "from langdetect import detect\n",
        "import nltk\n",
        "from nltk.tokenize import word_tokenize\n",
        "from nltk.corpus import stopwords\n",
        "from collections import Counter\n",
        "import re\n",
        "from nltk.corpus import stopwords\n",
        "import nltk\n",
        "from sklearn.preprocessing import StandardScaler\n",
        "from sklearn.decomposition import PCA\n",
        "# Palabras vacías\n",
        "nltk.download('stopwords')\n",
        "\n",
        "# Modelado\n",
        "import torch\n",
        "import torch.nn as nn\n",
        "from torch.utils.data import Dataset, DataLoader, random_split\n",
        "import torch.optim as optim\n",
        "from torch.nn.utils.rnn import pack_padded_sequence, pad_packed_sequence,  pad_sequence\n",
        "\n",
        "# Evaluación\n",
        "from sklearn.metrics import accuracy_score, f1_score, recall_score, confusion_matrix\n",
        "from tqdm import tqdm\n",
        "\n",
        "# Librerías para visualizaciones\n",
        "import matplotlib.pyplot as plt\n",
        "import seaborn as sns\n",
        "from wordcloud import WordCloud\n",
        "from mpl_toolkits.mplot3d import Axes3D\n",
        "from sklearn.manifold import TSNE\n",
        "import plotly.express as px"
      ],
      "metadata": {
        "id": "osjmTJMvtxua",
        "colab": {
          "base_uri": "https://localhost:8080/"
        },
        "outputId": "2bba310b-1895-4086-beb7-4bf9384fe469"
      },
      "id": "osjmTJMvtxua",
      "execution_count": 2,
      "outputs": [
        {
          "output_type": "stream",
          "name": "stderr",
          "text": [
            "[nltk_data] Downloading package stopwords to /root/nltk_data...\n",
            "[nltk_data]   Package stopwords is already up-to-date!\n"
          ]
        }
      ]
    },
    {
      "cell_type": "markdown",
      "source": [
        "Se importa **`kagglehub`** y ejecuta **`dataset_download`** con el identificador **`yasserh/imdb-movie-ratings-sentiment-analysis`** para descargar el conjunto de datos de reseñas de películas IMDB. La función guarda los archivos de manera local y devuelve la ruta absoluta, que se almacena en **`path`** y se muestra en pantalla mediante **`print`** para confirmar dónde quedaron los datos."
      ],
      "metadata": {
        "id": "yHwealvATakn"
      },
      "id": "yHwealvATakn"
    },
    {
      "cell_type": "code",
      "source": [
        "path = kagglehub.dataset_download(\"yasserh/imdb-movie-ratings-sentiment-analysis\")\n",
        "print(\"Datos descargados en:\", path)"
      ],
      "metadata": {
        "id": "F4y-tzhMl2CC",
        "colab": {
          "base_uri": "https://localhost:8080/"
        },
        "outputId": "6d4979dc-7da3-4e3b-abb8-2343c0f472a2"
      },
      "id": "F4y-tzhMl2CC",
      "execution_count": 3,
      "outputs": [
        {
          "output_type": "stream",
          "name": "stdout",
          "text": [
            "Datos descargados en: /kaggle/input/imdb-movie-ratings-sentiment-analysis\n"
          ]
        }
      ]
    },
    {
      "cell_type": "markdown",
      "source": [
        "Se carga los *embeddings* de los *tokens* de los documentos, que nos permitirán tener un nuevo espacio de representación más enriquecido. Más adelante se explica con más detalle cada tipo de *embedding*.\n",
        "\n",
        "## 1.1 Word2Vec\n",
        "\n",
        "*Word2Vec GoogleNews* es un modelo que contiene 3 millones de vectores de 300 dimensiones entrenados con el algoritmo skip-gram con negative sampling sobre ≈ 100 mil millones de palabras del corpus Google News. Los autores sustituyeron las redes n-gram tradicionales por dos arquitecturas sencillas (CBOW y Skip-gram) con optimizaciones como negative sampling y sub-sampling de palabras frecuentes. Esto permitió entrenar embeddings de alta calidad en horas, no en días [²]."
      ],
      "metadata": {
        "id": "07ZBWlW6BudL"
      },
      "id": "07ZBWlW6BudL"
    },
    {
      "cell_type": "code",
      "source": [
        "bin_path = hf_hub_download(repo_id =\n",
        "            \"NathaNn1111/word2vec-google-news-negative-300-bin\",\n",
        "            filename = \"GoogleNews-vectors-negative300.bin\")\n",
        "print(\"Embeddings en:\", bin_path)"
      ],
      "metadata": {
        "id": "oxSwr79ozCBB",
        "colab": {
          "base_uri": "https://localhost:8080/"
        },
        "outputId": "2be466f9-0eb0-46d9-99cd-8fffb63936a2"
      },
      "id": "oxSwr79ozCBB",
      "execution_count": 4,
      "outputs": [
        {
          "output_type": "stream",
          "name": "stdout",
          "text": [
            "Embeddings en: /root/.cache/huggingface/hub/models--NathaNn1111--word2vec-google-news-negative-300-bin/snapshots/78856d4586b3a938134c9833d92139f2e056e369/GoogleNews-vectors-negative300.bin\n"
          ]
        },
        {
          "output_type": "stream",
          "name": "stderr",
          "text": [
            "/usr/local/lib/python3.11/dist-packages/huggingface_hub/utils/_auth.py:94: UserWarning: \n",
            "The secret `HF_TOKEN` does not exist in your Colab secrets.\n",
            "To authenticate with the Hugging Face Hub, create a token in your settings tab (https://huggingface.co/settings/tokens), set it as secret in your Google Colab and restart your session.\n",
            "You will be able to reuse this secret in all of your notebooks.\n",
            "Please note that authentication is recommended but still optional to access public models or datasets.\n",
            "  warnings.warn(\n"
          ]
        }
      ]
    },
    {
      "cell_type": "markdown",
      "source": [
        "## 1.2 GloVe"
      ],
      "metadata": {
        "id": "fKcFZEzKN3kW"
      },
      "id": "fKcFZEzKN3kW"
    },
    {
      "cell_type": "code",
      "source": [
        "!wget -P . http://nlp.stanford.edu/data/glove.6B.zip\n",
        "!unzip -o glove.6B.zip -d ."
      ],
      "metadata": {
        "id": "zZiJq8VNJIhF",
        "colab": {
          "base_uri": "https://localhost:8080/"
        },
        "outputId": "21388647-3f84-4a42-888b-2b0570482ee3"
      },
      "id": "zZiJq8VNJIhF",
      "execution_count": 5,
      "outputs": [
        {
          "output_type": "stream",
          "name": "stdout",
          "text": [
            "--2025-05-10 18:34:18--  http://nlp.stanford.edu/data/glove.6B.zip\n",
            "Resolving nlp.stanford.edu (nlp.stanford.edu)... 171.64.67.140\n",
            "Connecting to nlp.stanford.edu (nlp.stanford.edu)|171.64.67.140|:80... connected.\n",
            "HTTP request sent, awaiting response... 302 Found\n",
            "Location: https://nlp.stanford.edu/data/glove.6B.zip [following]\n",
            "--2025-05-10 18:34:18--  https://nlp.stanford.edu/data/glove.6B.zip\n",
            "Connecting to nlp.stanford.edu (nlp.stanford.edu)|171.64.67.140|:443... connected.\n",
            "HTTP request sent, awaiting response... 301 Moved Permanently\n",
            "Location: https://downloads.cs.stanford.edu/nlp/data/glove.6B.zip [following]\n",
            "--2025-05-10 18:34:18--  https://downloads.cs.stanford.edu/nlp/data/glove.6B.zip\n",
            "Resolving downloads.cs.stanford.edu (downloads.cs.stanford.edu)... 171.64.64.22\n",
            "Connecting to downloads.cs.stanford.edu (downloads.cs.stanford.edu)|171.64.64.22|:443... connected.\n",
            "HTTP request sent, awaiting response... 200 OK\n",
            "Length: 862182613 (822M) [application/zip]\n",
            "Saving to: ‘./glove.6B.zip.2’\n",
            "\n",
            "glove.6B.zip.2      100%[===================>] 822.24M  5.00MB/s    in 2m 39s  \n",
            "\n",
            "2025-05-10 18:36:57 (5.18 MB/s) - ‘./glove.6B.zip.2’ saved [862182613/862182613]\n",
            "\n",
            "Archive:  glove.6B.zip\n",
            "  inflating: ./glove.6B.50d.txt      \n",
            "  inflating: ./glove.6B.100d.txt     \n",
            "  inflating: ./glove.6B.200d.txt     \n",
            "  inflating: ./glove.6B.300d.txt     \n"
          ]
        }
      ]
    },
    {
      "cell_type": "markdown",
      "source": [
        "Este bloque detecta si el entorno dispone de GPU y selecciona el **`device`** apropiado para PyTorch.  \n",
        "Primero se llama a **`torch.cuda.is_available()`**, que devuelve *True* si se ha asignado una GPU CUDA al runtime de Colab. Según el resultado se imprime un mensaje informativo (“Entrenando en GPU.” o “GPU no disponible, entrenando en CPU.”).  \n",
        "\n",
        "A continuación se construye el objeto **`device`** con **`torch.device(\"cuda\" if train_on_gpu else \"cpu\")`**, que será pasado a la red y a los tensores de entrada para que se ubiquen en la GPU cuando sea posible. Por último se muestra en pantalla el dispositivo elegido."
      ],
      "metadata": {
        "id": "uOceAejmVjqF"
      },
      "id": "uOceAejmVjqF"
    },
    {
      "cell_type": "code",
      "source": [
        "train_on_gpu = torch.cuda.is_available()\n",
        "if train_on_gpu:\n",
        "    print(\"Entrenando en GPU.\")\n",
        "else:\n",
        "    print(\"GPU no disponible, entrenando en CPU.\")\n",
        "\n",
        "# 2) Elegir device según disponibilidad\n",
        "device = torch.device(\"cuda\" if train_on_gpu else \"cpu\")\n",
        "print(f\"   Usando device: {device}\\n\")"
      ],
      "metadata": {
        "id": "LksJ95qEPWVr",
        "colab": {
          "base_uri": "https://localhost:8080/"
        },
        "outputId": "966f4e9c-eded-4d10-8df7-0595da379fab"
      },
      "id": "LksJ95qEPWVr",
      "execution_count": 6,
      "outputs": [
        {
          "output_type": "stream",
          "name": "stdout",
          "text": [
            "Entrenando en GPU.\n",
            "   Usando device: cuda\n",
            "\n"
          ]
        }
      ]
    },
    {
      "cell_type": "markdown",
      "source": [
        "Este bloque hace dos tareas sencillas de soporte:\n",
        "\n",
        "1. Llama a **`warnings.filterwarnings(\"ignore\")`** para ocultar avisos y mantener la salida del notebook limpia.\n",
        "2. Utiliza **`importlib.metadata.version`** para imprimir las versiones de un conjunto de librerías clave ( **`numpy`**, **`pandas`**, **`torch`**, **`torchvision`**, **`scikit-learn`**, **`kagglehub`**, **`pillow`**, **`matplotlib`**, **`seaborn`** ). Mostrar estas versiones al inicio del notebook facilita la reproducibilidad y ayuda a depurar posibles conflictos de dependencias."
      ],
      "metadata": {
        "id": "pfXxKk09Vulp"
      },
      "id": "pfXxKk09Vulp"
    },
    {
      "cell_type": "code",
      "execution_count": 7,
      "id": "LSwlUgjUjtR_",
      "metadata": {
        "id": "LSwlUgjUjtR_",
        "colab": {
          "base_uri": "https://localhost:8080/"
        },
        "outputId": "ac2dc4f5-7651-4e79-e52d-3827dab8112c"
      },
      "outputs": [
        {
          "output_type": "stream",
          "name": "stdout",
          "text": [
            "numpy :  2.0.2\n",
            "pandas :  2.2.2\n",
            "torch :  2.6.0+cu124\n",
            "torchvision :  0.21.0+cu124\n",
            "scikit-learn :  1.6.1\n",
            "kagglehub :  0.3.12\n",
            "pillow :  11.2.1\n",
            "matplotlib :  3.10.0\n",
            "seaborn :  0.13.2\n",
            "nltk :  3.9.1\n",
            "tqdm :  4.67.1\n",
            "scipy :  1.15.2\n"
          ]
        }
      ],
      "source": [
        "# Ignorar las warnings\n",
        "import warnings\n",
        "warnings.filterwarnings(\"ignore\")\n",
        "\n",
        "# Versiones utilizadas\n",
        "from importlib.metadata import version\n",
        "librerias = [\n",
        "    \"numpy\", \"pandas\", \"torch\", \"torchvision\", \"scikit-learn\", \"kagglehub\",\n",
        "    \"pillow\", \"matplotlib\", \"seaborn\",\n",
        "    \"nltk\", \"tqdm\", \"scipy\"\n",
        "]\n",
        "for library in librerias:\n",
        "  print(library, \": \", version(library))"
      ]
    },
    {
      "cell_type": "markdown",
      "source": [
        "El siguiente bloque de código nos permite hacer determininísticas las funciones traídas de **`pytorch`**, y en general controlar todos los pseudo-aleatorios del *notebook*"
      ],
      "metadata": {
        "id": "ok4F_5E1njTi"
      },
      "id": "ok4F_5E1njTi"
    },
    {
      "cell_type": "code",
      "source": [
        "# Definición del random state y seeds\n",
        "RANDOM_STATE = 13\n",
        "random.seed(RANDOM_STATE)\n",
        "np.random.seed(RANDOM_STATE)"
      ],
      "metadata": {
        "id": "xdgcOt7gznvJ"
      },
      "id": "xdgcOt7gznvJ",
      "execution_count": 8,
      "outputs": []
    },
    {
      "cell_type": "markdown",
      "id": "qK311OLFzPep",
      "metadata": {
        "id": "qK311OLFzPep"
      },
      "source": [
        "***\n",
        "\n",
        "# 2. Análisis exploratorio y preparación de los datos\n"
      ]
    },
    {
      "cell_type": "markdown",
      "source": [
        "***\n",
        "\n",
        "## 2.1. Carga y estadísticas generales"
      ],
      "metadata": {
        "id": "4KxKy7H1eID-"
      },
      "id": "4KxKy7H1eID-"
    },
    {
      "cell_type": "code",
      "execution_count": 9,
      "id": "K4yOzyWKJbov",
      "metadata": {
        "id": "K4yOzyWKJbov",
        "colab": {
          "base_uri": "https://localhost:8080/",
          "height": 206
        },
        "outputId": "5bc2cb34-44ab-4c6f-e39b-e974af5c417b"
      },
      "outputs": [
        {
          "output_type": "execute_result",
          "data": {
            "text/plain": [
              "                                                text  label\n",
              "0  I grew up (b. 1965) watching and loving the Th...      0\n",
              "1  When I put this movie in my DVD player, and sa...      0\n",
              "2  Why do people who do not know what a particula...      0\n",
              "3  Even though I have great interest in Biblical ...      0\n",
              "4  Im a die hard Dads Army fan and nothing will e...      1"
            ],
            "text/html": [
              "\n",
              "  <div id=\"df-e4b3f79c-4bf2-4025-ba46-cd15b64837a1\" class=\"colab-df-container\">\n",
              "    <div>\n",
              "<style scoped>\n",
              "    .dataframe tbody tr th:only-of-type {\n",
              "        vertical-align: middle;\n",
              "    }\n",
              "\n",
              "    .dataframe tbody tr th {\n",
              "        vertical-align: top;\n",
              "    }\n",
              "\n",
              "    .dataframe thead th {\n",
              "        text-align: right;\n",
              "    }\n",
              "</style>\n",
              "<table border=\"1\" class=\"dataframe\">\n",
              "  <thead>\n",
              "    <tr style=\"text-align: right;\">\n",
              "      <th></th>\n",
              "      <th>text</th>\n",
              "      <th>label</th>\n",
              "    </tr>\n",
              "  </thead>\n",
              "  <tbody>\n",
              "    <tr>\n",
              "      <th>0</th>\n",
              "      <td>I grew up (b. 1965) watching and loving the Th...</td>\n",
              "      <td>0</td>\n",
              "    </tr>\n",
              "    <tr>\n",
              "      <th>1</th>\n",
              "      <td>When I put this movie in my DVD player, and sa...</td>\n",
              "      <td>0</td>\n",
              "    </tr>\n",
              "    <tr>\n",
              "      <th>2</th>\n",
              "      <td>Why do people who do not know what a particula...</td>\n",
              "      <td>0</td>\n",
              "    </tr>\n",
              "    <tr>\n",
              "      <th>3</th>\n",
              "      <td>Even though I have great interest in Biblical ...</td>\n",
              "      <td>0</td>\n",
              "    </tr>\n",
              "    <tr>\n",
              "      <th>4</th>\n",
              "      <td>Im a die hard Dads Army fan and nothing will e...</td>\n",
              "      <td>1</td>\n",
              "    </tr>\n",
              "  </tbody>\n",
              "</table>\n",
              "</div>\n",
              "    <div class=\"colab-df-buttons\">\n",
              "\n",
              "  <div class=\"colab-df-container\">\n",
              "    <button class=\"colab-df-convert\" onclick=\"convertToInteractive('df-e4b3f79c-4bf2-4025-ba46-cd15b64837a1')\"\n",
              "            title=\"Convert this dataframe to an interactive table.\"\n",
              "            style=\"display:none;\">\n",
              "\n",
              "  <svg xmlns=\"http://www.w3.org/2000/svg\" height=\"24px\" viewBox=\"0 -960 960 960\">\n",
              "    <path d=\"M120-120v-720h720v720H120Zm60-500h600v-160H180v160Zm220 220h160v-160H400v160Zm0 220h160v-160H400v160ZM180-400h160v-160H180v160Zm440 0h160v-160H620v160ZM180-180h160v-160H180v160Zm440 0h160v-160H620v160Z\"/>\n",
              "  </svg>\n",
              "    </button>\n",
              "\n",
              "  <style>\n",
              "    .colab-df-container {\n",
              "      display:flex;\n",
              "      gap: 12px;\n",
              "    }\n",
              "\n",
              "    .colab-df-convert {\n",
              "      background-color: #E8F0FE;\n",
              "      border: none;\n",
              "      border-radius: 50%;\n",
              "      cursor: pointer;\n",
              "      display: none;\n",
              "      fill: #1967D2;\n",
              "      height: 32px;\n",
              "      padding: 0 0 0 0;\n",
              "      width: 32px;\n",
              "    }\n",
              "\n",
              "    .colab-df-convert:hover {\n",
              "      background-color: #E2EBFA;\n",
              "      box-shadow: 0px 1px 2px rgba(60, 64, 67, 0.3), 0px 1px 3px 1px rgba(60, 64, 67, 0.15);\n",
              "      fill: #174EA6;\n",
              "    }\n",
              "\n",
              "    .colab-df-buttons div {\n",
              "      margin-bottom: 4px;\n",
              "    }\n",
              "\n",
              "    [theme=dark] .colab-df-convert {\n",
              "      background-color: #3B4455;\n",
              "      fill: #D2E3FC;\n",
              "    }\n",
              "\n",
              "    [theme=dark] .colab-df-convert:hover {\n",
              "      background-color: #434B5C;\n",
              "      box-shadow: 0px 1px 3px 1px rgba(0, 0, 0, 0.15);\n",
              "      filter: drop-shadow(0px 1px 2px rgba(0, 0, 0, 0.3));\n",
              "      fill: #FFFFFF;\n",
              "    }\n",
              "  </style>\n",
              "\n",
              "    <script>\n",
              "      const buttonEl =\n",
              "        document.querySelector('#df-e4b3f79c-4bf2-4025-ba46-cd15b64837a1 button.colab-df-convert');\n",
              "      buttonEl.style.display =\n",
              "        google.colab.kernel.accessAllowed ? 'block' : 'none';\n",
              "\n",
              "      async function convertToInteractive(key) {\n",
              "        const element = document.querySelector('#df-e4b3f79c-4bf2-4025-ba46-cd15b64837a1');\n",
              "        const dataTable =\n",
              "          await google.colab.kernel.invokeFunction('convertToInteractive',\n",
              "                                                    [key], {});\n",
              "        if (!dataTable) return;\n",
              "\n",
              "        const docLinkHtml = 'Like what you see? Visit the ' +\n",
              "          '<a target=\"_blank\" href=https://colab.research.google.com/notebooks/data_table.ipynb>data table notebook</a>'\n",
              "          + ' to learn more about interactive tables.';\n",
              "        element.innerHTML = '';\n",
              "        dataTable['output_type'] = 'display_data';\n",
              "        await google.colab.output.renderOutput(dataTable, element);\n",
              "        const docLink = document.createElement('div');\n",
              "        docLink.innerHTML = docLinkHtml;\n",
              "        element.appendChild(docLink);\n",
              "      }\n",
              "    </script>\n",
              "  </div>\n",
              "\n",
              "\n",
              "    <div id=\"df-3a197b8c-93e0-44d9-a653-59d450392844\">\n",
              "      <button class=\"colab-df-quickchart\" onclick=\"quickchart('df-3a197b8c-93e0-44d9-a653-59d450392844')\"\n",
              "                title=\"Suggest charts\"\n",
              "                style=\"display:none;\">\n",
              "\n",
              "<svg xmlns=\"http://www.w3.org/2000/svg\" height=\"24px\"viewBox=\"0 0 24 24\"\n",
              "     width=\"24px\">\n",
              "    <g>\n",
              "        <path d=\"M19 3H5c-1.1 0-2 .9-2 2v14c0 1.1.9 2 2 2h14c1.1 0 2-.9 2-2V5c0-1.1-.9-2-2-2zM9 17H7v-7h2v7zm4 0h-2V7h2v10zm4 0h-2v-4h2v4z\"/>\n",
              "    </g>\n",
              "</svg>\n",
              "      </button>\n",
              "\n",
              "<style>\n",
              "  .colab-df-quickchart {\n",
              "      --bg-color: #E8F0FE;\n",
              "      --fill-color: #1967D2;\n",
              "      --hover-bg-color: #E2EBFA;\n",
              "      --hover-fill-color: #174EA6;\n",
              "      --disabled-fill-color: #AAA;\n",
              "      --disabled-bg-color: #DDD;\n",
              "  }\n",
              "\n",
              "  [theme=dark] .colab-df-quickchart {\n",
              "      --bg-color: #3B4455;\n",
              "      --fill-color: #D2E3FC;\n",
              "      --hover-bg-color: #434B5C;\n",
              "      --hover-fill-color: #FFFFFF;\n",
              "      --disabled-bg-color: #3B4455;\n",
              "      --disabled-fill-color: #666;\n",
              "  }\n",
              "\n",
              "  .colab-df-quickchart {\n",
              "    background-color: var(--bg-color);\n",
              "    border: none;\n",
              "    border-radius: 50%;\n",
              "    cursor: pointer;\n",
              "    display: none;\n",
              "    fill: var(--fill-color);\n",
              "    height: 32px;\n",
              "    padding: 0;\n",
              "    width: 32px;\n",
              "  }\n",
              "\n",
              "  .colab-df-quickchart:hover {\n",
              "    background-color: var(--hover-bg-color);\n",
              "    box-shadow: 0 1px 2px rgba(60, 64, 67, 0.3), 0 1px 3px 1px rgba(60, 64, 67, 0.15);\n",
              "    fill: var(--button-hover-fill-color);\n",
              "  }\n",
              "\n",
              "  .colab-df-quickchart-complete:disabled,\n",
              "  .colab-df-quickchart-complete:disabled:hover {\n",
              "    background-color: var(--disabled-bg-color);\n",
              "    fill: var(--disabled-fill-color);\n",
              "    box-shadow: none;\n",
              "  }\n",
              "\n",
              "  .colab-df-spinner {\n",
              "    border: 2px solid var(--fill-color);\n",
              "    border-color: transparent;\n",
              "    border-bottom-color: var(--fill-color);\n",
              "    animation:\n",
              "      spin 1s steps(1) infinite;\n",
              "  }\n",
              "\n",
              "  @keyframes spin {\n",
              "    0% {\n",
              "      border-color: transparent;\n",
              "      border-bottom-color: var(--fill-color);\n",
              "      border-left-color: var(--fill-color);\n",
              "    }\n",
              "    20% {\n",
              "      border-color: transparent;\n",
              "      border-left-color: var(--fill-color);\n",
              "      border-top-color: var(--fill-color);\n",
              "    }\n",
              "    30% {\n",
              "      border-color: transparent;\n",
              "      border-left-color: var(--fill-color);\n",
              "      border-top-color: var(--fill-color);\n",
              "      border-right-color: var(--fill-color);\n",
              "    }\n",
              "    40% {\n",
              "      border-color: transparent;\n",
              "      border-right-color: var(--fill-color);\n",
              "      border-top-color: var(--fill-color);\n",
              "    }\n",
              "    60% {\n",
              "      border-color: transparent;\n",
              "      border-right-color: var(--fill-color);\n",
              "    }\n",
              "    80% {\n",
              "      border-color: transparent;\n",
              "      border-right-color: var(--fill-color);\n",
              "      border-bottom-color: var(--fill-color);\n",
              "    }\n",
              "    90% {\n",
              "      border-color: transparent;\n",
              "      border-bottom-color: var(--fill-color);\n",
              "    }\n",
              "  }\n",
              "</style>\n",
              "\n",
              "      <script>\n",
              "        async function quickchart(key) {\n",
              "          const quickchartButtonEl =\n",
              "            document.querySelector('#' + key + ' button');\n",
              "          quickchartButtonEl.disabled = true;  // To prevent multiple clicks.\n",
              "          quickchartButtonEl.classList.add('colab-df-spinner');\n",
              "          try {\n",
              "            const charts = await google.colab.kernel.invokeFunction(\n",
              "                'suggestCharts', [key], {});\n",
              "          } catch (error) {\n",
              "            console.error('Error during call to suggestCharts:', error);\n",
              "          }\n",
              "          quickchartButtonEl.classList.remove('colab-df-spinner');\n",
              "          quickchartButtonEl.classList.add('colab-df-quickchart-complete');\n",
              "        }\n",
              "        (() => {\n",
              "          let quickchartButtonEl =\n",
              "            document.querySelector('#df-3a197b8c-93e0-44d9-a653-59d450392844 button');\n",
              "          quickchartButtonEl.style.display =\n",
              "            google.colab.kernel.accessAllowed ? 'block' : 'none';\n",
              "        })();\n",
              "      </script>\n",
              "    </div>\n",
              "\n",
              "    </div>\n",
              "  </div>\n"
            ],
            "application/vnd.google.colaboratory.intrinsic+json": {
              "type": "dataframe",
              "variable_name": "data_raw",
              "summary": "{\n  \"name\": \"data_raw\",\n  \"rows\": 40000,\n  \"fields\": [\n    {\n      \"column\": \"text\",\n      \"properties\": {\n        \"dtype\": \"string\",\n        \"num_unique_values\": 39723,\n        \"samples\": [\n          \"There are similarities between Ray Lawrence's \\\"Jindabyne\\\" and his last movie \\\"Lantana\\\" \\u0096 a dead body and its repercussions for already dysfunctional lives. But whereas \\\"Lantana\\\" offered some hope and resolution, \\\"Jindabyne\\\" leaves everything unresolved in a bleak way that will leave most viewers unsatisfied, perhaps even cheated.<br /><br />The storyline - the aftermath of a fisherman's discovery of a corpse floating in a remote river - is based on a short story by Raymond Carver. It became an element in Robert Altman's classic 1993 ensemble \\\"Short Cuts\\\". Lawrence uses this theme for an exploration and exposition of relationships within a small Australian community under stress. The movie poses some moral questions \\\"Would you let the discovery of a dead body ruin your good weekend?\\\" and more poignantly for Australians \\\"Would it make any difference if the dead person was an aboriginal?\\\" The acting, especially by Gabriel Byrne and Laura Linney, is commendable. And there are elements of mysticism reinforced by haunting music, not unlike \\\"Picnic at Hanging Rock\\\".<br /><br />If all this sounds like the basis for a great movie - be prepared for a let down, the pace is very slow and the murder is shown near the beginning, thereby eliminating the element of mystery. And so we are left with these desolate lives and a blank finale.\",\n          \"Hammer House of Horror: Witching Time is set in rural England on Woodstock farm where stressed musician David Winter (Jon Finch) lives with his actress wife Mary (Prunella Gee) & is currently composing the music for a horror film. One night while looking for his dog Billy David finds a mysterious woman in his barn, calling herself Lucinda Jessop (Patricia Quinn) she claims to be a witch who has transported herself from 300 years in the past to now. Obviously rather sceptical David has a hard time believing her so he locks her in a room in his farmhouse & calls his doctor Charles (Ian McCulloch) to come examine her, however once he arrives & they enter the room Lucinda has disappeared. Charles puts it down to David drinking too much but over the next few day strange & disturbing things begin to happen to David & Mary...<br /><br />Witching Time was episode 1 from the short lived British anthology horror series produced by Hammer studios for TV & originally aired here in the UK during September 1980, the first of two Hammer House of Horror episodes to be directed by Don Leaver (episode 13 The Mark of Satan being the other) I actually rather liked this. As a series Hammer House of Horror dealt with various different themes & were all unconnected to each other except in name & unsurprisingly Watching Time is a sinister & effective little tale about a witch, the script by Anthony Read benefits from it's slight 50 odd minute duration & moves along at a nice pace. The character's are pretty good as is the dialogue, there are some nice scenes here & I liked the way it never quite reveals whether David & Mary are going crazy or not. I think it's a well structured, entertaining & reasonably creepy horror themed TV show that I enjoyed more than I thought I would.<br /><br />Being made for British TV meant the boys at Hammer had a lower budget than usual, if that was even possible, & as such there is no gorgeous period settings here as in their most well know Frankenstein & Dracula films although the contemporary English setting does give it a certain atmosphere that you can relate to a bit more. Another TV based restriction is that the exploitation levels are lower than you might hope for, there's some nudity & gore but not much although I didn't mind too much as the story here is pretty good. It's well made for what it is & Hammer's experience on their feature films probably helped make these look pretty good, the acting is good as well with genre favourite Ian McCulloch making a bit-part appearance.<br /><br />Witching Time is a good start to the Hammer House of Horror series, as a 50 minute piece of British TV it's pretty damned good, now why don't they make show's like this over here anymore?\",\n          \"What a great cast for this movie. The timing was excellent and there were so many clever lines-several times I was still laughing minutes after they were delivered. I found Manna From Heaven to have some surprising moments and while there were things I was thinking would happen, the way they came together was anything but predictable. This movie is about hope and righting wrongs. I left the theater feeling inspired to do the right thing. Bravo to the Five Sisters.\"\n        ],\n        \"semantic_type\": \"\",\n        \"description\": \"\"\n      }\n    },\n    {\n      \"column\": \"label\",\n      \"properties\": {\n        \"dtype\": \"number\",\n        \"std\": 0,\n        \"min\": 0,\n        \"max\": 1,\n        \"num_unique_values\": 2,\n        \"samples\": [\n          1,\n          0\n        ],\n        \"semantic_type\": \"\",\n        \"description\": \"\"\n      }\n    }\n  ]\n}"
            }
          },
          "metadata": {},
          "execution_count": 9
        }
      ],
      "source": [
        "# Descargar el conjunto de datos y almacenar el path en una variable\n",
        "data_raw = pd.read_csv(os.path.join(path, 'movie.csv'))\n",
        "data_raw.head()"
      ]
    },
    {
      "cell_type": "code",
      "source": [
        "label2index = {'Negativa':0, 'Positiva':1}\n",
        "index2label = {0:'Negativa', 1:'Positiva'}"
      ],
      "metadata": {
        "id": "tK_D4XVsnk6c"
      },
      "id": "tK_D4XVsnk6c",
      "execution_count": 10,
      "outputs": []
    },
    {
      "cell_type": "code",
      "source": [
        "# Frecuencias absoluta y relativa de cada clase\n",
        "pd.DataFrame({\n",
        "    \"Review\": index2label,\n",
        "    \"F. Absoluta\": data_raw['label'].value_counts().sort_index(),\n",
        "    \"F. Relativa\": data_raw['label'].value_counts(normalize=True).sort_index(),\n",
        "})"
      ],
      "metadata": {
        "id": "EkiUxk8il_JG",
        "colab": {
          "base_uri": "https://localhost:8080/",
          "height": 112
        },
        "outputId": "be1fcbfd-800c-4a21-ffe5-b879dad7b652"
      },
      "id": "EkiUxk8il_JG",
      "execution_count": 11,
      "outputs": [
        {
          "output_type": "execute_result",
          "data": {
            "text/plain": [
              "     Review  F. Absoluta  F. Relativa\n",
              "0  Negativa        20019     0.500475\n",
              "1  Positiva        19981     0.499525"
            ],
            "text/html": [
              "\n",
              "  <div id=\"df-9c1e0060-ec32-48a5-b8d6-a5e21230c5aa\" class=\"colab-df-container\">\n",
              "    <div>\n",
              "<style scoped>\n",
              "    .dataframe tbody tr th:only-of-type {\n",
              "        vertical-align: middle;\n",
              "    }\n",
              "\n",
              "    .dataframe tbody tr th {\n",
              "        vertical-align: top;\n",
              "    }\n",
              "\n",
              "    .dataframe thead th {\n",
              "        text-align: right;\n",
              "    }\n",
              "</style>\n",
              "<table border=\"1\" class=\"dataframe\">\n",
              "  <thead>\n",
              "    <tr style=\"text-align: right;\">\n",
              "      <th></th>\n",
              "      <th>Review</th>\n",
              "      <th>F. Absoluta</th>\n",
              "      <th>F. Relativa</th>\n",
              "    </tr>\n",
              "  </thead>\n",
              "  <tbody>\n",
              "    <tr>\n",
              "      <th>0</th>\n",
              "      <td>Negativa</td>\n",
              "      <td>20019</td>\n",
              "      <td>0.500475</td>\n",
              "    </tr>\n",
              "    <tr>\n",
              "      <th>1</th>\n",
              "      <td>Positiva</td>\n",
              "      <td>19981</td>\n",
              "      <td>0.499525</td>\n",
              "    </tr>\n",
              "  </tbody>\n",
              "</table>\n",
              "</div>\n",
              "    <div class=\"colab-df-buttons\">\n",
              "\n",
              "  <div class=\"colab-df-container\">\n",
              "    <button class=\"colab-df-convert\" onclick=\"convertToInteractive('df-9c1e0060-ec32-48a5-b8d6-a5e21230c5aa')\"\n",
              "            title=\"Convert this dataframe to an interactive table.\"\n",
              "            style=\"display:none;\">\n",
              "\n",
              "  <svg xmlns=\"http://www.w3.org/2000/svg\" height=\"24px\" viewBox=\"0 -960 960 960\">\n",
              "    <path d=\"M120-120v-720h720v720H120Zm60-500h600v-160H180v160Zm220 220h160v-160H400v160Zm0 220h160v-160H400v160ZM180-400h160v-160H180v160Zm440 0h160v-160H620v160ZM180-180h160v-160H180v160Zm440 0h160v-160H620v160Z\"/>\n",
              "  </svg>\n",
              "    </button>\n",
              "\n",
              "  <style>\n",
              "    .colab-df-container {\n",
              "      display:flex;\n",
              "      gap: 12px;\n",
              "    }\n",
              "\n",
              "    .colab-df-convert {\n",
              "      background-color: #E8F0FE;\n",
              "      border: none;\n",
              "      border-radius: 50%;\n",
              "      cursor: pointer;\n",
              "      display: none;\n",
              "      fill: #1967D2;\n",
              "      height: 32px;\n",
              "      padding: 0 0 0 0;\n",
              "      width: 32px;\n",
              "    }\n",
              "\n",
              "    .colab-df-convert:hover {\n",
              "      background-color: #E2EBFA;\n",
              "      box-shadow: 0px 1px 2px rgba(60, 64, 67, 0.3), 0px 1px 3px 1px rgba(60, 64, 67, 0.15);\n",
              "      fill: #174EA6;\n",
              "    }\n",
              "\n",
              "    .colab-df-buttons div {\n",
              "      margin-bottom: 4px;\n",
              "    }\n",
              "\n",
              "    [theme=dark] .colab-df-convert {\n",
              "      background-color: #3B4455;\n",
              "      fill: #D2E3FC;\n",
              "    }\n",
              "\n",
              "    [theme=dark] .colab-df-convert:hover {\n",
              "      background-color: #434B5C;\n",
              "      box-shadow: 0px 1px 3px 1px rgba(0, 0, 0, 0.15);\n",
              "      filter: drop-shadow(0px 1px 2px rgba(0, 0, 0, 0.3));\n",
              "      fill: #FFFFFF;\n",
              "    }\n",
              "  </style>\n",
              "\n",
              "    <script>\n",
              "      const buttonEl =\n",
              "        document.querySelector('#df-9c1e0060-ec32-48a5-b8d6-a5e21230c5aa button.colab-df-convert');\n",
              "      buttonEl.style.display =\n",
              "        google.colab.kernel.accessAllowed ? 'block' : 'none';\n",
              "\n",
              "      async function convertToInteractive(key) {\n",
              "        const element = document.querySelector('#df-9c1e0060-ec32-48a5-b8d6-a5e21230c5aa');\n",
              "        const dataTable =\n",
              "          await google.colab.kernel.invokeFunction('convertToInteractive',\n",
              "                                                    [key], {});\n",
              "        if (!dataTable) return;\n",
              "\n",
              "        const docLinkHtml = 'Like what you see? Visit the ' +\n",
              "          '<a target=\"_blank\" href=https://colab.research.google.com/notebooks/data_table.ipynb>data table notebook</a>'\n",
              "          + ' to learn more about interactive tables.';\n",
              "        element.innerHTML = '';\n",
              "        dataTable['output_type'] = 'display_data';\n",
              "        await google.colab.output.renderOutput(dataTable, element);\n",
              "        const docLink = document.createElement('div');\n",
              "        docLink.innerHTML = docLinkHtml;\n",
              "        element.appendChild(docLink);\n",
              "      }\n",
              "    </script>\n",
              "  </div>\n",
              "\n",
              "\n",
              "    <div id=\"df-40d1bdb6-6a7c-4ca4-a84b-84586d1f2742\">\n",
              "      <button class=\"colab-df-quickchart\" onclick=\"quickchart('df-40d1bdb6-6a7c-4ca4-a84b-84586d1f2742')\"\n",
              "                title=\"Suggest charts\"\n",
              "                style=\"display:none;\">\n",
              "\n",
              "<svg xmlns=\"http://www.w3.org/2000/svg\" height=\"24px\"viewBox=\"0 0 24 24\"\n",
              "     width=\"24px\">\n",
              "    <g>\n",
              "        <path d=\"M19 3H5c-1.1 0-2 .9-2 2v14c0 1.1.9 2 2 2h14c1.1 0 2-.9 2-2V5c0-1.1-.9-2-2-2zM9 17H7v-7h2v7zm4 0h-2V7h2v10zm4 0h-2v-4h2v4z\"/>\n",
              "    </g>\n",
              "</svg>\n",
              "      </button>\n",
              "\n",
              "<style>\n",
              "  .colab-df-quickchart {\n",
              "      --bg-color: #E8F0FE;\n",
              "      --fill-color: #1967D2;\n",
              "      --hover-bg-color: #E2EBFA;\n",
              "      --hover-fill-color: #174EA6;\n",
              "      --disabled-fill-color: #AAA;\n",
              "      --disabled-bg-color: #DDD;\n",
              "  }\n",
              "\n",
              "  [theme=dark] .colab-df-quickchart {\n",
              "      --bg-color: #3B4455;\n",
              "      --fill-color: #D2E3FC;\n",
              "      --hover-bg-color: #434B5C;\n",
              "      --hover-fill-color: #FFFFFF;\n",
              "      --disabled-bg-color: #3B4455;\n",
              "      --disabled-fill-color: #666;\n",
              "  }\n",
              "\n",
              "  .colab-df-quickchart {\n",
              "    background-color: var(--bg-color);\n",
              "    border: none;\n",
              "    border-radius: 50%;\n",
              "    cursor: pointer;\n",
              "    display: none;\n",
              "    fill: var(--fill-color);\n",
              "    height: 32px;\n",
              "    padding: 0;\n",
              "    width: 32px;\n",
              "  }\n",
              "\n",
              "  .colab-df-quickchart:hover {\n",
              "    background-color: var(--hover-bg-color);\n",
              "    box-shadow: 0 1px 2px rgba(60, 64, 67, 0.3), 0 1px 3px 1px rgba(60, 64, 67, 0.15);\n",
              "    fill: var(--button-hover-fill-color);\n",
              "  }\n",
              "\n",
              "  .colab-df-quickchart-complete:disabled,\n",
              "  .colab-df-quickchart-complete:disabled:hover {\n",
              "    background-color: var(--disabled-bg-color);\n",
              "    fill: var(--disabled-fill-color);\n",
              "    box-shadow: none;\n",
              "  }\n",
              "\n",
              "  .colab-df-spinner {\n",
              "    border: 2px solid var(--fill-color);\n",
              "    border-color: transparent;\n",
              "    border-bottom-color: var(--fill-color);\n",
              "    animation:\n",
              "      spin 1s steps(1) infinite;\n",
              "  }\n",
              "\n",
              "  @keyframes spin {\n",
              "    0% {\n",
              "      border-color: transparent;\n",
              "      border-bottom-color: var(--fill-color);\n",
              "      border-left-color: var(--fill-color);\n",
              "    }\n",
              "    20% {\n",
              "      border-color: transparent;\n",
              "      border-left-color: var(--fill-color);\n",
              "      border-top-color: var(--fill-color);\n",
              "    }\n",
              "    30% {\n",
              "      border-color: transparent;\n",
              "      border-left-color: var(--fill-color);\n",
              "      border-top-color: var(--fill-color);\n",
              "      border-right-color: var(--fill-color);\n",
              "    }\n",
              "    40% {\n",
              "      border-color: transparent;\n",
              "      border-right-color: var(--fill-color);\n",
              "      border-top-color: var(--fill-color);\n",
              "    }\n",
              "    60% {\n",
              "      border-color: transparent;\n",
              "      border-right-color: var(--fill-color);\n",
              "    }\n",
              "    80% {\n",
              "      border-color: transparent;\n",
              "      border-right-color: var(--fill-color);\n",
              "      border-bottom-color: var(--fill-color);\n",
              "    }\n",
              "    90% {\n",
              "      border-color: transparent;\n",
              "      border-bottom-color: var(--fill-color);\n",
              "    }\n",
              "  }\n",
              "</style>\n",
              "\n",
              "      <script>\n",
              "        async function quickchart(key) {\n",
              "          const quickchartButtonEl =\n",
              "            document.querySelector('#' + key + ' button');\n",
              "          quickchartButtonEl.disabled = true;  // To prevent multiple clicks.\n",
              "          quickchartButtonEl.classList.add('colab-df-spinner');\n",
              "          try {\n",
              "            const charts = await google.colab.kernel.invokeFunction(\n",
              "                'suggestCharts', [key], {});\n",
              "          } catch (error) {\n",
              "            console.error('Error during call to suggestCharts:', error);\n",
              "          }\n",
              "          quickchartButtonEl.classList.remove('colab-df-spinner');\n",
              "          quickchartButtonEl.classList.add('colab-df-quickchart-complete');\n",
              "        }\n",
              "        (() => {\n",
              "          let quickchartButtonEl =\n",
              "            document.querySelector('#df-40d1bdb6-6a7c-4ca4-a84b-84586d1f2742 button');\n",
              "          quickchartButtonEl.style.display =\n",
              "            google.colab.kernel.accessAllowed ? 'block' : 'none';\n",
              "        })();\n",
              "      </script>\n",
              "    </div>\n",
              "\n",
              "    </div>\n",
              "  </div>\n"
            ],
            "application/vnd.google.colaboratory.intrinsic+json": {
              "type": "dataframe",
              "summary": "{\n  \"name\": \"})\",\n  \"rows\": 2,\n  \"fields\": [\n    {\n      \"column\": \"Review\",\n      \"properties\": {\n        \"dtype\": \"string\",\n        \"num_unique_values\": 2,\n        \"samples\": [\n          \"Positiva\",\n          \"Negativa\"\n        ],\n        \"semantic_type\": \"\",\n        \"description\": \"\"\n      }\n    },\n    {\n      \"column\": \"F. Absoluta\",\n      \"properties\": {\n        \"dtype\": \"number\",\n        \"std\": 26,\n        \"min\": 19981,\n        \"max\": 20019,\n        \"num_unique_values\": 2,\n        \"samples\": [\n          19981,\n          20019\n        ],\n        \"semantic_type\": \"\",\n        \"description\": \"\"\n      }\n    },\n    {\n      \"column\": \"F. Relativa\",\n      \"properties\": {\n        \"dtype\": \"number\",\n        \"std\": 0.0006717514421272246,\n        \"min\": 0.499525,\n        \"max\": 0.500475,\n        \"num_unique_values\": 2,\n        \"samples\": [\n          0.499525,\n          0.500475\n        ],\n        \"semantic_type\": \"\",\n        \"description\": \"\"\n      }\n    }\n  ]\n}"
            }
          },
          "metadata": {},
          "execution_count": 11
        }
      ]
    },
    {
      "cell_type": "markdown",
      "id": "CNfurSnbmf79",
      "metadata": {
        "id": "CNfurSnbmf79"
      },
      "source": [
        "***\n",
        "\n",
        "## 2.2. Limpieza de los datos\n",
        "\n",
        "En estas sección identificamos y corregimos:\n",
        "\n",
        "* Valores faltantes\n",
        "* Textos duplicados\n",
        "* Textos en otros idiomas distintos al inglés"
      ]
    },
    {
      "cell_type": "code",
      "source": [
        "data_raw.isna().sum()"
      ],
      "metadata": {
        "id": "2r0P2t_Ysjbq",
        "colab": {
          "base_uri": "https://localhost:8080/",
          "height": 147
        },
        "outputId": "f8f14107-01af-42f6-c8cb-d583b10c07eb"
      },
      "id": "2r0P2t_Ysjbq",
      "execution_count": 12,
      "outputs": [
        {
          "output_type": "execute_result",
          "data": {
            "text/plain": [
              "text     0\n",
              "label    0\n",
              "dtype: int64"
            ],
            "text/html": [
              "<div>\n",
              "<style scoped>\n",
              "    .dataframe tbody tr th:only-of-type {\n",
              "        vertical-align: middle;\n",
              "    }\n",
              "\n",
              "    .dataframe tbody tr th {\n",
              "        vertical-align: top;\n",
              "    }\n",
              "\n",
              "    .dataframe thead th {\n",
              "        text-align: right;\n",
              "    }\n",
              "</style>\n",
              "<table border=\"1\" class=\"dataframe\">\n",
              "  <thead>\n",
              "    <tr style=\"text-align: right;\">\n",
              "      <th></th>\n",
              "      <th>0</th>\n",
              "    </tr>\n",
              "  </thead>\n",
              "  <tbody>\n",
              "    <tr>\n",
              "      <th>text</th>\n",
              "      <td>0</td>\n",
              "    </tr>\n",
              "    <tr>\n",
              "      <th>label</th>\n",
              "      <td>0</td>\n",
              "    </tr>\n",
              "  </tbody>\n",
              "</table>\n",
              "</div><br><label><b>dtype:</b> int64</label>"
            ]
          },
          "metadata": {},
          "execution_count": 12
        }
      ]
    },
    {
      "cell_type": "code",
      "source": [
        "data_raw.duplicated().sum()"
      ],
      "metadata": {
        "id": "m3IgmRbWskuE",
        "colab": {
          "base_uri": "https://localhost:8080/"
        },
        "outputId": "151b2e82-e276-4ad9-c158-69879924de6c"
      },
      "id": "m3IgmRbWskuE",
      "execution_count": 13,
      "outputs": [
        {
          "output_type": "execute_result",
          "data": {
            "text/plain": [
              "np.int64(277)"
            ]
          },
          "metadata": {},
          "execution_count": 13
        }
      ]
    },
    {
      "cell_type": "code",
      "source": [
        "data = data_raw.drop_duplicates(keep='first')\n",
        "\n",
        "# Frecuencias absoluta y relativa de cada clase\n",
        "pd.DataFrame({\n",
        "    \"Review\": index2label,\n",
        "    \"F. Absoluta\": data['label'].value_counts().sort_index(),\n",
        "    \"F. Relativa\": data['label'].value_counts(normalize=True).sort_index(),\n",
        "})"
      ],
      "metadata": {
        "id": "37qzkcBL3D3P",
        "colab": {
          "base_uri": "https://localhost:8080/",
          "height": 112
        },
        "outputId": "cc7ee410-d08c-4229-d84d-eba1051dab33"
      },
      "id": "37qzkcBL3D3P",
      "execution_count": 14,
      "outputs": [
        {
          "output_type": "execute_result",
          "data": {
            "text/plain": [
              "     Review  F. Absoluta  F. Relativa\n",
              "0  Negativa        19815     0.498829\n",
              "1  Positiva        19908     0.501171"
            ],
            "text/html": [
              "\n",
              "  <div id=\"df-d3f09887-98b1-42fd-9349-7e5f93b6f1ac\" class=\"colab-df-container\">\n",
              "    <div>\n",
              "<style scoped>\n",
              "    .dataframe tbody tr th:only-of-type {\n",
              "        vertical-align: middle;\n",
              "    }\n",
              "\n",
              "    .dataframe tbody tr th {\n",
              "        vertical-align: top;\n",
              "    }\n",
              "\n",
              "    .dataframe thead th {\n",
              "        text-align: right;\n",
              "    }\n",
              "</style>\n",
              "<table border=\"1\" class=\"dataframe\">\n",
              "  <thead>\n",
              "    <tr style=\"text-align: right;\">\n",
              "      <th></th>\n",
              "      <th>Review</th>\n",
              "      <th>F. Absoluta</th>\n",
              "      <th>F. Relativa</th>\n",
              "    </tr>\n",
              "  </thead>\n",
              "  <tbody>\n",
              "    <tr>\n",
              "      <th>0</th>\n",
              "      <td>Negativa</td>\n",
              "      <td>19815</td>\n",
              "      <td>0.498829</td>\n",
              "    </tr>\n",
              "    <tr>\n",
              "      <th>1</th>\n",
              "      <td>Positiva</td>\n",
              "      <td>19908</td>\n",
              "      <td>0.501171</td>\n",
              "    </tr>\n",
              "  </tbody>\n",
              "</table>\n",
              "</div>\n",
              "    <div class=\"colab-df-buttons\">\n",
              "\n",
              "  <div class=\"colab-df-container\">\n",
              "    <button class=\"colab-df-convert\" onclick=\"convertToInteractive('df-d3f09887-98b1-42fd-9349-7e5f93b6f1ac')\"\n",
              "            title=\"Convert this dataframe to an interactive table.\"\n",
              "            style=\"display:none;\">\n",
              "\n",
              "  <svg xmlns=\"http://www.w3.org/2000/svg\" height=\"24px\" viewBox=\"0 -960 960 960\">\n",
              "    <path d=\"M120-120v-720h720v720H120Zm60-500h600v-160H180v160Zm220 220h160v-160H400v160Zm0 220h160v-160H400v160ZM180-400h160v-160H180v160Zm440 0h160v-160H620v160ZM180-180h160v-160H180v160Zm440 0h160v-160H620v160Z\"/>\n",
              "  </svg>\n",
              "    </button>\n",
              "\n",
              "  <style>\n",
              "    .colab-df-container {\n",
              "      display:flex;\n",
              "      gap: 12px;\n",
              "    }\n",
              "\n",
              "    .colab-df-convert {\n",
              "      background-color: #E8F0FE;\n",
              "      border: none;\n",
              "      border-radius: 50%;\n",
              "      cursor: pointer;\n",
              "      display: none;\n",
              "      fill: #1967D2;\n",
              "      height: 32px;\n",
              "      padding: 0 0 0 0;\n",
              "      width: 32px;\n",
              "    }\n",
              "\n",
              "    .colab-df-convert:hover {\n",
              "      background-color: #E2EBFA;\n",
              "      box-shadow: 0px 1px 2px rgba(60, 64, 67, 0.3), 0px 1px 3px 1px rgba(60, 64, 67, 0.15);\n",
              "      fill: #174EA6;\n",
              "    }\n",
              "\n",
              "    .colab-df-buttons div {\n",
              "      margin-bottom: 4px;\n",
              "    }\n",
              "\n",
              "    [theme=dark] .colab-df-convert {\n",
              "      background-color: #3B4455;\n",
              "      fill: #D2E3FC;\n",
              "    }\n",
              "\n",
              "    [theme=dark] .colab-df-convert:hover {\n",
              "      background-color: #434B5C;\n",
              "      box-shadow: 0px 1px 3px 1px rgba(0, 0, 0, 0.15);\n",
              "      filter: drop-shadow(0px 1px 2px rgba(0, 0, 0, 0.3));\n",
              "      fill: #FFFFFF;\n",
              "    }\n",
              "  </style>\n",
              "\n",
              "    <script>\n",
              "      const buttonEl =\n",
              "        document.querySelector('#df-d3f09887-98b1-42fd-9349-7e5f93b6f1ac button.colab-df-convert');\n",
              "      buttonEl.style.display =\n",
              "        google.colab.kernel.accessAllowed ? 'block' : 'none';\n",
              "\n",
              "      async function convertToInteractive(key) {\n",
              "        const element = document.querySelector('#df-d3f09887-98b1-42fd-9349-7e5f93b6f1ac');\n",
              "        const dataTable =\n",
              "          await google.colab.kernel.invokeFunction('convertToInteractive',\n",
              "                                                    [key], {});\n",
              "        if (!dataTable) return;\n",
              "\n",
              "        const docLinkHtml = 'Like what you see? Visit the ' +\n",
              "          '<a target=\"_blank\" href=https://colab.research.google.com/notebooks/data_table.ipynb>data table notebook</a>'\n",
              "          + ' to learn more about interactive tables.';\n",
              "        element.innerHTML = '';\n",
              "        dataTable['output_type'] = 'display_data';\n",
              "        await google.colab.output.renderOutput(dataTable, element);\n",
              "        const docLink = document.createElement('div');\n",
              "        docLink.innerHTML = docLinkHtml;\n",
              "        element.appendChild(docLink);\n",
              "      }\n",
              "    </script>\n",
              "  </div>\n",
              "\n",
              "\n",
              "    <div id=\"df-c6c83ef0-1bf4-4234-9694-2a1fbde80306\">\n",
              "      <button class=\"colab-df-quickchart\" onclick=\"quickchart('df-c6c83ef0-1bf4-4234-9694-2a1fbde80306')\"\n",
              "                title=\"Suggest charts\"\n",
              "                style=\"display:none;\">\n",
              "\n",
              "<svg xmlns=\"http://www.w3.org/2000/svg\" height=\"24px\"viewBox=\"0 0 24 24\"\n",
              "     width=\"24px\">\n",
              "    <g>\n",
              "        <path d=\"M19 3H5c-1.1 0-2 .9-2 2v14c0 1.1.9 2 2 2h14c1.1 0 2-.9 2-2V5c0-1.1-.9-2-2-2zM9 17H7v-7h2v7zm4 0h-2V7h2v10zm4 0h-2v-4h2v4z\"/>\n",
              "    </g>\n",
              "</svg>\n",
              "      </button>\n",
              "\n",
              "<style>\n",
              "  .colab-df-quickchart {\n",
              "      --bg-color: #E8F0FE;\n",
              "      --fill-color: #1967D2;\n",
              "      --hover-bg-color: #E2EBFA;\n",
              "      --hover-fill-color: #174EA6;\n",
              "      --disabled-fill-color: #AAA;\n",
              "      --disabled-bg-color: #DDD;\n",
              "  }\n",
              "\n",
              "  [theme=dark] .colab-df-quickchart {\n",
              "      --bg-color: #3B4455;\n",
              "      --fill-color: #D2E3FC;\n",
              "      --hover-bg-color: #434B5C;\n",
              "      --hover-fill-color: #FFFFFF;\n",
              "      --disabled-bg-color: #3B4455;\n",
              "      --disabled-fill-color: #666;\n",
              "  }\n",
              "\n",
              "  .colab-df-quickchart {\n",
              "    background-color: var(--bg-color);\n",
              "    border: none;\n",
              "    border-radius: 50%;\n",
              "    cursor: pointer;\n",
              "    display: none;\n",
              "    fill: var(--fill-color);\n",
              "    height: 32px;\n",
              "    padding: 0;\n",
              "    width: 32px;\n",
              "  }\n",
              "\n",
              "  .colab-df-quickchart:hover {\n",
              "    background-color: var(--hover-bg-color);\n",
              "    box-shadow: 0 1px 2px rgba(60, 64, 67, 0.3), 0 1px 3px 1px rgba(60, 64, 67, 0.15);\n",
              "    fill: var(--button-hover-fill-color);\n",
              "  }\n",
              "\n",
              "  .colab-df-quickchart-complete:disabled,\n",
              "  .colab-df-quickchart-complete:disabled:hover {\n",
              "    background-color: var(--disabled-bg-color);\n",
              "    fill: var(--disabled-fill-color);\n",
              "    box-shadow: none;\n",
              "  }\n",
              "\n",
              "  .colab-df-spinner {\n",
              "    border: 2px solid var(--fill-color);\n",
              "    border-color: transparent;\n",
              "    border-bottom-color: var(--fill-color);\n",
              "    animation:\n",
              "      spin 1s steps(1) infinite;\n",
              "  }\n",
              "\n",
              "  @keyframes spin {\n",
              "    0% {\n",
              "      border-color: transparent;\n",
              "      border-bottom-color: var(--fill-color);\n",
              "      border-left-color: var(--fill-color);\n",
              "    }\n",
              "    20% {\n",
              "      border-color: transparent;\n",
              "      border-left-color: var(--fill-color);\n",
              "      border-top-color: var(--fill-color);\n",
              "    }\n",
              "    30% {\n",
              "      border-color: transparent;\n",
              "      border-left-color: var(--fill-color);\n",
              "      border-top-color: var(--fill-color);\n",
              "      border-right-color: var(--fill-color);\n",
              "    }\n",
              "    40% {\n",
              "      border-color: transparent;\n",
              "      border-right-color: var(--fill-color);\n",
              "      border-top-color: var(--fill-color);\n",
              "    }\n",
              "    60% {\n",
              "      border-color: transparent;\n",
              "      border-right-color: var(--fill-color);\n",
              "    }\n",
              "    80% {\n",
              "      border-color: transparent;\n",
              "      border-right-color: var(--fill-color);\n",
              "      border-bottom-color: var(--fill-color);\n",
              "    }\n",
              "    90% {\n",
              "      border-color: transparent;\n",
              "      border-bottom-color: var(--fill-color);\n",
              "    }\n",
              "  }\n",
              "</style>\n",
              "\n",
              "      <script>\n",
              "        async function quickchart(key) {\n",
              "          const quickchartButtonEl =\n",
              "            document.querySelector('#' + key + ' button');\n",
              "          quickchartButtonEl.disabled = true;  // To prevent multiple clicks.\n",
              "          quickchartButtonEl.classList.add('colab-df-spinner');\n",
              "          try {\n",
              "            const charts = await google.colab.kernel.invokeFunction(\n",
              "                'suggestCharts', [key], {});\n",
              "          } catch (error) {\n",
              "            console.error('Error during call to suggestCharts:', error);\n",
              "          }\n",
              "          quickchartButtonEl.classList.remove('colab-df-spinner');\n",
              "          quickchartButtonEl.classList.add('colab-df-quickchart-complete');\n",
              "        }\n",
              "        (() => {\n",
              "          let quickchartButtonEl =\n",
              "            document.querySelector('#df-c6c83ef0-1bf4-4234-9694-2a1fbde80306 button');\n",
              "          quickchartButtonEl.style.display =\n",
              "            google.colab.kernel.accessAllowed ? 'block' : 'none';\n",
              "        })();\n",
              "      </script>\n",
              "    </div>\n",
              "\n",
              "    </div>\n",
              "  </div>\n"
            ],
            "application/vnd.google.colaboratory.intrinsic+json": {
              "type": "dataframe",
              "summary": "{\n  \"name\": \"})\",\n  \"rows\": 2,\n  \"fields\": [\n    {\n      \"column\": \"Review\",\n      \"properties\": {\n        \"dtype\": \"string\",\n        \"num_unique_values\": 2,\n        \"samples\": [\n          \"Positiva\",\n          \"Negativa\"\n        ],\n        \"semantic_type\": \"\",\n        \"description\": \"\"\n      }\n    },\n    {\n      \"column\": \"F. Absoluta\",\n      \"properties\": {\n        \"dtype\": \"number\",\n        \"std\": 65,\n        \"min\": 19815,\n        \"max\": 19908,\n        \"num_unique_values\": 2,\n        \"samples\": [\n          19908,\n          19815\n        ],\n        \"semantic_type\": \"\",\n        \"description\": \"\"\n      }\n    },\n    {\n      \"column\": \"F. Relativa\",\n      \"properties\": {\n        \"dtype\": \"number\",\n        \"std\": 0.0016554875173161556,\n        \"min\": 0.49882939355033606,\n        \"max\": 0.5011706064496639,\n        \"num_unique_values\": 2,\n        \"samples\": [\n          0.5011706064496639,\n          0.49882939355033606\n        ],\n        \"semantic_type\": \"\",\n        \"description\": \"\"\n      }\n    }\n  ]\n}"
            }
          },
          "metadata": {},
          "execution_count": 14
        }
      ]
    },
    {
      "cell_type": "markdown",
      "source": [
        "Detectando otros idiomas:"
      ],
      "metadata": {
        "id": "znjAi7TSPK3f"
      },
      "id": "znjAi7TSPK3f"
    },
    {
      "cell_type": "code",
      "source": [
        "def detectar_idiomas(X: pd.DataFrame):\n",
        "  #Identificar los idiomas del dataframe y los índices de las filas que no están en inglés\n",
        "  X['idioma'] = X['text'].apply(lambda x: detect(x) if isinstance(x, str) and x.strip() else \"desconocido\")\n",
        "  indices_a_traducir = X[X['idioma'] != 'en'].index\n",
        "\n",
        "  # Imprimir textos en otros idiomas\n",
        "  print(\"Textos en otros idiomas:\")\n",
        "  for i in indices_a_traducir:\n",
        "    print(X.loc[i].text)\n",
        "\n",
        "  # Retornar el df ahora con la columna 'idioma'\n",
        "  return X"
      ],
      "metadata": {
        "id": "_WQ5tiJps-bO"
      },
      "id": "_WQ5tiJps-bO",
      "execution_count": 15,
      "outputs": []
    },
    {
      "cell_type": "code",
      "source": [
        "# %time data = detectar_idiomas(data)\n",
        "# data.idioma.value_counts()"
      ],
      "metadata": {
        "id": "17fC-8gv1YCD"
      },
      "id": "17fC-8gv1YCD",
      "execution_count": 16,
      "outputs": []
    },
    {
      "cell_type": "markdown",
      "source": [
        "El objetivo de esta sección es incorporar varios estilos de pre-procesamiento, probar diferentes maneras de depurar los textos como por ejemplo remover caracteres no alfanuméricos, a excepción de guiones o apóstrofes. También haremos uso de dos normalizadores: *Stemming* y *Lemmatization*, ...."
      ],
      "metadata": {
        "id": "vCm-sqa9t8D2"
      },
      "id": "vCm-sqa9t8D2"
    },
    {
      "cell_type": "markdown",
      "id": "_ypyorGqwmRl",
      "metadata": {
        "id": "_ypyorGqwmRl"
      },
      "source": [
        "***\n",
        "\n",
        "# 3. Definición de *pipelines* de procesamiento"
      ]
    },
    {
      "cell_type": "markdown",
      "id": "4370a607-ad43-4c5d-bddd-1a9370469409",
      "metadata": {
        "id": "4370a607-ad43-4c5d-bddd-1a9370469409"
      },
      "source": [
        "***\n",
        "\n",
        "## 3.1. *Pipeline* de preprocesamiento\n",
        "\n",
        "Se construye el conjunto **`english_stop`** a partir de las *stop-words* inglesas de **`NLTK`** y se define la función **`clean_and_tokenize`** [¹]:"
      ]
    },
    {
      "cell_type": "code",
      "source": [
        "english_stop = set(stopwords.words('english'))\n",
        "\n",
        "def clean_and_tokenize(text):\n",
        "    text = text.lower()\n",
        "\n",
        "    # Regex:\n",
        "    # [a-z0-9]+ (letras y dígitos)\n",
        "    # [!?] (exclamación y preguntas)\n",
        "    pattern = r\"[a-z0-9]+|[!?]\"\n",
        "    raw_tokens = re.findall(pattern, text)\n",
        "\n",
        "    # Filtrar stopwords solo en tokens alfanuméricos:\n",
        "    cleaned = []\n",
        "    for tok in raw_tokens:\n",
        "        if re.fullmatch(r\"[a-z0-9]+\", tok):\n",
        "            if tok in english_stop:\n",
        "                continue\n",
        "        # Mantener signos de puntuación y non-stopwrods\n",
        "        cleaned.append(tok)\n",
        "\n",
        "    return cleaned\n",
        "\n",
        "# Prueba\n",
        "example = data.loc[0, 'text']\n",
        "print(clean_and_tokenize(example))"
      ],
      "metadata": {
        "id": "XlF68jZ8yWYn",
        "colab": {
          "base_uri": "https://localhost:8080/"
        },
        "outputId": "96490b9d-3acc-4729-f672-67962954e8f5"
      },
      "id": "XlF68jZ8yWYn",
      "execution_count": 17,
      "outputs": [
        {
          "output_type": "stream",
          "name": "stdout",
          "text": [
            "['grew', 'b', '1965', 'watching', 'loving', 'thunderbirds', 'mates', 'school', 'watched', 'played', 'thunderbirds', 'school', 'lunch', 'school', 'wanted', 'virgil', 'scott', 'one', 'wanted', 'alan', 'counting', '5', 'became', 'art', 'form', 'took', 'children', 'see', 'movie', 'hoping', 'would', 'get', 'glimpse', 'loved', 'child', 'bitterly', 'disappointing', 'high', 'point', 'snappy', 'theme', 'tune', 'could', 'compare', 'original', 'score', 'thunderbirds', 'thankfully', 'early', 'saturday', 'mornings', 'one', 'television', 'channel', 'still', 'plays', 'reruns', 'series', 'gerry', 'anderson', 'wife', 'created', 'jonatha', 'frakes', 'hand', 'directors', 'chair', 'version', 'completely', 'hopeless', 'waste', 'film', 'utter', 'rubbish', 'cgi', 'remake', 'may', 'acceptable', 'replacing', 'marionettes', 'homo', 'sapiens', 'subsp', 'sapiens', 'huge', 'error', 'judgment']\n"
          ]
        }
      ]
    },
    {
      "cell_type": "markdown",
      "source": [
        "Se construye el vocabulario y define la función de codificación:\n",
        "\n",
        "1. **`all_tokens`** concatena todos los tokens de las reseñas ya limpiadas.  \n",
        "2. Con **`Counter`** se calcula **`freq`**, el conteo de frecuencia de cada token.  \n",
        "3. Se crea **`vocab`** guardando las 20 000 palabras más frecuentes y asignando\n",
        "   índices a partir del 2; los índices **`0`** y **`1`** quedan reservados para los\n",
        "   símbolos especiales **`<PAD>`** y **`<UNK>`** que se añaden después.\n",
        "4. **`encode(tokens, max_len)`** convierte una lista de tokens en su\n",
        "   representación numérica mediante el diccionario **`vocab`**.  \n",
        "   - Cada palabra se mapea a su índice; las fuera de vocabulario usan **`1`**  \n",
        "     (**`<UNK>`**).  \n",
        "   - La secuencia resultante se recorta a **`max_len`** y se rellena con **`0`**\n",
        "     (**`<PAD>`**) hasta alcanzar exactamente esa longitud.\n"
      ],
      "metadata": {
        "id": "TFInYXoOXHTh"
      },
      "id": "TFInYXoOXHTh"
    },
    {
      "cell_type": "code",
      "source": [
        "# Limpiar, tokenizar, y filtrar las palabras más comunes\n",
        "all_tokens = [tok for txt in data['text'] for tok in clean_and_tokenize(txt)]\n",
        "freq = Counter(all_tokens)\n",
        "TOP = 50_000\n",
        "vocab = {w:i+4 for i,(w,_) in enumerate(freq.most_common(TOP))}\n",
        "\n",
        "#Indicadores de padding, token desconocido, inicio y final de secuencia\n",
        "vocab.update({'<PAD>':0, '<UNK>':1, '<SOS>':2, '<EOS>':3})\n",
        "\n",
        "# Encoder\n",
        "def encode(tokens, max_len):\n",
        "    # Mapear tokens → ids, con id=1 para los tokens desconocidos (<UNK>)\n",
        "    seq = [vocab.get(t, 1) for t in tokens]\n",
        "    # Retornar la codificación con el padding apropiado\n",
        "    return seq[:max_len] + [vocab['<PAD>']] * max(0, max_len - len(seq))"
      ],
      "metadata": {
        "id": "zfp-stYtEt71"
      },
      "id": "zfp-stYtEt71",
      "execution_count": 18,
      "outputs": []
    },
    {
      "cell_type": "markdown",
      "source": [
        "La función **`load_google_vectors_bin`** genera la matriz de pesos que inicializará la capa **`Embedding`** del modelo:"
      ],
      "metadata": {
        "id": "dFNdGo_cXGTs"
      },
      "id": "dFNdGo_cXGTs"
    },
    {
      "cell_type": "code",
      "source": [
        "# 1. Carga Word2Vec\n",
        "def load_google_vectors_bin(bin_file: str,\n",
        "                            vocab: dict,\n",
        "                            emb_dim: int = 300) -> np.ndarray:\n",
        "    \"\"\"\n",
        "    Lee el fichero Word2Vec binario de Google News y devuelve la matriz\n",
        "    de pesos (|vocab| × emb_dim) lista para nn.Embedding.\n",
        "    Solo extrae los vectores de las palabras presentes en `vocab`;\n",
        "    el resto se inicializa aleatoriamente (N(0, 0.6²)).\n",
        "    \"\"\"\n",
        "    matrix = np.random.normal(scale=0.6,\n",
        "                              size=(len(vocab), emb_dim)\n",
        "                             ).astype(np.float32)\n",
        "\n",
        "    with open(bin_file, \"rb\") as f:\n",
        "        # Cabecera:  \"3000000 300\\n\"\n",
        "        header = f.readline()\n",
        "        total_words, dim = map(int, header.split())\n",
        "        assert dim == emb_dim, \"Dimensión de embedding inesperada\"\n",
        "\n",
        "        binary_len = emb_dim * 4  # 4 bytes • float32\n",
        "        for _ in range(total_words):\n",
        "            # 1) Leer palabra (bytes hasta el primer espacio)\n",
        "            word_bytes = []\n",
        "            while True:\n",
        "                ch = f.read(1)\n",
        "                if ch == b' ':          # separador palabra-vector\n",
        "                    word = b\"\".join(word_bytes).decode(\"utf-8\", \"ignore\")\n",
        "                    break\n",
        "                if ch != b'\\n':         # el \\n solo aparece en la cabecera\n",
        "                    word_bytes.append(ch)\n",
        "\n",
        "            # 2) Leer los 300 float32 (secuencia de 1200 bytes)\n",
        "            vec = np.frombuffer(f.read(binary_len), dtype=np.float32)\n",
        "\n",
        "            # 3) Copiar si la palabra está en nuestro vocabulario\n",
        "            if word in vocab:\n",
        "                matrix[vocab[word]] = vec\n",
        "\n",
        "    return matrix\n",
        "\n",
        "\n",
        "%time w2v_weights = load_google_vectors_bin(bin_path, vocab, emb_dim=300)"
      ],
      "metadata": {
        "id": "nZt2seoiKfRy",
        "colab": {
          "base_uri": "https://localhost:8080/"
        },
        "outputId": "73b21259-0474-40e1-e94c-70b6eeb258ca"
      },
      "id": "nZt2seoiKfRy",
      "execution_count": 19,
      "outputs": [
        {
          "output_type": "stream",
          "name": "stdout",
          "text": [
            "CPU times: user 12.9 s, sys: 1.89 s, total: 14.7 s\n",
            "Wall time: 18.5 s\n"
          ]
        }
      ]
    },
    {
      "cell_type": "code",
      "source": [
        "len(vocab)"
      ],
      "metadata": {
        "id": "PNU8mFGZkdM5",
        "colab": {
          "base_uri": "https://localhost:8080/"
        },
        "outputId": "036730a3-58e0-47f7-ba19-606a06e6975e"
      },
      "id": "PNU8mFGZkdM5",
      "execution_count": 20,
      "outputs": [
        {
          "output_type": "execute_result",
          "data": {
            "text/plain": [
              "50004"
            ]
          },
          "metadata": {},
          "execution_count": 20
        }
      ]
    },
    {
      "cell_type": "code",
      "source": [
        "def load_glove_vectors_txt(txt_file: str, vocab: dict, emb_dim: int = 300) -> np.ndarray:\n",
        "    # Inicializar aleatoriamente aquellas palabras que no están en GloVe\n",
        "    matrix = np.random.normal(\n",
        "        loc=0.0,\n",
        "        scale=0.6,\n",
        "        size=(len(vocab), emb_dim)\n",
        "    ).astype(np.float32)\n",
        "\n",
        "    # Iterar cada línea de GloVe, sin cargar todo el file\n",
        "    with open(txt_file, 'r', encoding='utf-8') as f:\n",
        "        for line in f:\n",
        "            parts = line.rstrip().split(' ')\n",
        "            word = parts[0]\n",
        "            # La línea debe tener la dimensión esperada\n",
        "            if len(parts) - 1 != emb_dim:\n",
        "                continue\n",
        "\n",
        "            if word in vocab:\n",
        "                vector = np.asarray(parts[1:], dtype=np.float32)\n",
        "                matrix[vocab[word]] = vector\n",
        "\n",
        "    return matrix"
      ],
      "metadata": {
        "id": "nNzNtqJTl-v2"
      },
      "id": "nNzNtqJTl-v2",
      "execution_count": 21,
      "outputs": []
    },
    {
      "cell_type": "code",
      "source": [
        "%time glove_weights = load_glove_vectors_txt(txt_file=\"glove.6B.300d.txt\", vocab=vocab, emb_dim=300)"
      ],
      "metadata": {
        "id": "CeWGPQH2e2LH",
        "colab": {
          "base_uri": "https://localhost:8080/"
        },
        "outputId": "1e4b8158-3dd1-4128-abee-e1ebcdde046d"
      },
      "id": "CeWGPQH2e2LH",
      "execution_count": 22,
      "outputs": [
        {
          "output_type": "stream",
          "name": "stdout",
          "text": [
            "CPU times: user 9.03 s, sys: 555 ms, total: 9.58 s\n",
            "Wall time: 9.49 s\n"
          ]
        }
      ]
    },
    {
      "cell_type": "markdown",
      "source": [
        "Se construye la matriz **`w2v_weights`** aplicando **`load_google_vectors_bin`** al modelo *Word2Vec GoogleNews*.\n",
        "\n",
        "Esto vectores se cracteríza por capturar relaciones aditivas (“king − man + woman ≈ queen”) y mejoraron sustancialmente las tareas de analogías y similitud frente a métodos previos. Es un amplio vocabulario y la granularidad de 300 dimensiones hacen que todavía sea un punto de partida competitivo para tareas de PLN en inglés, sobre todo cuando el corpus propio es pequeño o se busca ahorrar tiempo de entrenamiento."
      ],
      "metadata": {
        "id": "MFBM8AiDXFqo"
      },
      "id": "MFBM8AiDXFqo"
    },
    {
      "cell_type": "markdown",
      "source": [
        "Nube de palabras"
      ],
      "metadata": {
        "id": "IOYz0UWa9jRl"
      },
      "id": "IOYz0UWa9jRl"
    },
    {
      "cell_type": "code",
      "source": [
        "def generar_wordcloud(X: pd.DataFrame):\n",
        "\n",
        "  # Foo\n",
        "  X_preprocesado = X.text.apply(lambda x: clean_and_tokenize(x))\n",
        "  texto_nube = ' '.join(w for text in X_preprocesado for w in text)\n",
        "\n",
        "  # Generación Nube de Palabras\n",
        "  wordcloud = WordCloud(\n",
        "      width=800,\n",
        "      height=400,\n",
        "      background_color ='white',\n",
        "      min_font_size=10,\n",
        "      max_font_size=110,\n",
        "      max_words=100\n",
        "  ).generate(texto_nube)\n",
        "  plt.figure(figsize=(10, 10))\n",
        "  plt.imshow(wordcloud)\n",
        "  plt.axis('off')\n",
        "  plt.show()"
      ],
      "metadata": {
        "id": "sBwcvN1xtktk"
      },
      "id": "sBwcvN1xtktk",
      "execution_count": 23,
      "outputs": []
    },
    {
      "cell_type": "code",
      "source": [
        "%time generar_wordcloud(data)"
      ],
      "metadata": {
        "id": "3Rof6FeuAQNF",
        "colab": {
          "base_uri": "https://localhost:8080/",
          "height": 461
        },
        "outputId": "048a2e1d-7ea7-42de-a0f2-a2460a70c3ef"
      },
      "id": "3Rof6FeuAQNF",
      "execution_count": 24,
      "outputs": [
        {
          "output_type": "display_data",
          "data": {
            "text/plain": [
              "<Figure size 1000x1000 with 1 Axes>"
            ],
            "image/png": "[encoded data removed]"
          },
          "metadata": {}
        },
        {
          "output_type": "stream",
          "name": "stdout",
          "text": [
            "CPU times: user 37.2 s, sys: 1.47 s, total: 38.6 s\n",
            "Wall time: 39 s\n"
          ]
        }
      ]
    },
    {
      "cell_type": "code",
      "source": [
        "N = 500\n",
        "palabras = list(vocab.keys())[:N]\n",
        "vectores_w2v   = np.stack([w2v_weights[vocab[p]]   for p in palabras])\n",
        "vectores_glove = np.stack([glove_weights[vocab[p]] for p in palabras])\n",
        "\n",
        "# 2) Concatenar y normalizar\n",
        "V = np.vstack([vectores_w2v, vectores_glove])\n",
        "V = StandardScaler().fit_transform(V)\n",
        "\n",
        "# 3) PCA para reducción inicial (p. ej. a 50 dimensiones)\n",
        "pca = PCA(n_components=50, random_state=13)\n",
        "V_pca = pca.fit_transform(V)\n",
        "\n",
        "# 4) t-SNE en 3D\n",
        "tsne = TSNE(\n",
        "    n_components=3,\n",
        "    perplexity=40,\n",
        "    init='pca',\n",
        "    random_state=13,\n",
        "    learning_rate='auto'\n",
        ")\n",
        "X_tsne = tsne.fit_transform(V_pca)\n",
        "\n",
        "# 5) Preparar DataFrame para Plotly\n",
        "etiquetas = ['Word2Vec'] * N + ['GloVe'] * N\n",
        "palabras_total = palabras + palabras  # una lista de 2N: primera mitad Word2Vec, segunda mitad GloVe\n",
        "\n",
        "df = pd.DataFrame({\n",
        "    'x':        X_tsne[:, 0],\n",
        "    'y':        X_tsne[:, 1],\n",
        "    'z':        X_tsne[:, 2],\n",
        "    'palabra':  palabras_total,\n",
        "    'modelo':   etiquetas\n",
        "})\n",
        "\n",
        "# 6) Gráfico interactivo 3D\n",
        "fig = px.scatter_3d(\n",
        "    df,\n",
        "    x='x', y='y', z='z',\n",
        "    color='modelo',\n",
        "    hover_name='palabra',\n",
        "    title='t-SNE 3D — Word2Vec vs. GloVe'\n",
        ")\n",
        "fig.update_traces(marker=dict(size=3))\n",
        "fig.show()"
      ],
      "metadata": {
        "colab": {
          "base_uri": "https://localhost:8080/",
          "height": 542
        },
        "id": "VMKUatkRMTY6",
        "outputId": "20419ae6-fc27-437f-eb55-51a222383ca0"
      },
      "id": "VMKUatkRMTY6",
      "execution_count": 25,
      "outputs": [
        {
          "output_type": "display_data",
          "data": {
            "text/html": [
              "<html>\n",
              "<head><meta charset=\"utf-8\" /></head>\n",
              "<body>\n",
              "    <div>            <script src=\"https://cdnjs.cloudflare.com/ajax/libs/mathjax/2.7.5/MathJax.js?config=TeX-AMS-MML_SVG\"></script><script type=\"text/javascript\">if (window.MathJax && window.MathJax.Hub && window.MathJax.Hub.Config) {window.MathJax.Hub.Config({SVG: {font: \"STIX-Web\"}});}</script>                <script type=\"text/javascript\">window.PlotlyConfig = {MathJaxConfig: 'local'};</script>\n",
              "        <script charset=\"utf-8\" src=\"https://cdn.plot.ly/plotly-2.35.2.min.js\"></script>                <div id=\"6de21989-8d02-4b30-b177-371a4d95976e\" class=\"plotly-graph-div\" style=\"height:525px; width:100%;\"></div>            <script type=\"text/javascript\">                                    window.PLOTLYENV=window.PLOTLYENV || {};                                    if (document.getElementById(\"6de21989-8d02-4b30-b177-371a4d95976e\")) {                    Plotly.newPlot(                        \"6de21989-8d02-4b30-b177-371a4d95976e\",                        [{\"hovertemplate\":\"\\u003cb\\u003e%{hovertext}\\u003c\\u002fb\\u003e\\u003cbr\\u003e\\u003cbr\\u003emodelo=Word2Vec\\u003cbr\\u003ex=%{x}\\u003cbr\\u003ey=%{y}\\u003cbr\\u003ez=%{z}\\u003cextra\\u003e\\u003c\\u002fextra\\u003e\",\"hovertext\":[\"br\",\"movie\",\"film\",\"one\",\"!\",\"like\",\"?\",\"good\",\"time\",\"even\",\"would\",\"really\",\"story\",\"see\",\"well\",\"much\",\"get\",\"bad\",\"also\",\"people\",\"great\",\"first\",\"made\",\"make\",\"way\",\"could\",\"movies\",\"characters\",\"think\",\"character\",\"watch\",\"films\",\"two\",\"seen\",\"many\",\"love\",\"plot\",\"never\",\"life\",\"acting\",\"best\",\"show\",\"little\",\"know\",\"ever\",\"man\",\"better\",\"end\",\"scene\",\"still\",\"say\",\"scenes\",\"something\",\"go\",\"back\",\"real\",\"thing\",\"watching\",\"actors\",\"director\",\"years\",\"though\",\"10\",\"funny\",\"old\",\"work\",\"actually\",\"another\",\"look\",\"nothing\",\"makes\",\"going\",\"find\",\"new\",\"lot\",\"every\",\"part\",\"world\",\"us\",\"cast\",\"things\",\"horror\",\"quite\",\"pretty\",\"want\",\"around\",\"seems\",\"young\",\"big\",\"take\",\"however\",\"enough\",\"got\",\"thought\",\"fact\",\"long\",\"give\",\"series\",\"may\",\"music\",\"right\",\"comedy\",\"guy\",\"action\",\"must\",\"without\",\"always\",\"times\",\"original\",\"saw\",\"almost\",\"gets\",\"role\",\"come\",\"done\",\"interesting\",\"point\",\"least\",\"whole\",\"bit\",\"far\",\"script\",\"2\",\"feel\",\"family\",\"minutes\",\"might\",\"last\",\"making\",\"anything\",\"since\",\"probably\",\"tv\",\"away\",\"performance\",\"kind\",\"yet\",\"girl\",\"fun\",\"woman\",\"anyone\",\"worst\",\"rather\",\"sure\",\"hard\",\"played\",\"day\",\"found\",\"screen\",\"especially\",\"looking\",\"although\",\"believe\",\"course\",\"trying\",\"dvd\",\"everything\",\"set\",\"ending\",\"comes\",\"goes\",\"maybe\",\"put\",\"three\",\"let\",\"book\",\"shows\",\"place\",\"worth\",\"different\",\"actor\",\"sense\",\"main\",\"american\",\"someone\",\"true\",\"looks\",\"effects\",\"watched\",\"reason\",\"play\",\"everyone\",\"money\",\"war\",\"together\",\"year\",\"job\",\"1\",\"high\",\"plays\",\"instead\",\"audience\",\"said\",\"black\",\"later\",\"half\",\"seem\",\"takes\",\"special\",\"night\",\"left\",\"seeing\",\"beautiful\",\"john\",\"wife\",\"shot\",\"excellent\",\"house\",\"idea\",\"star\",\"version\",\"mind\",\"else\",\"death\",\"fan\",\"men\",\"budget\",\"nice\",\"used\",\"father\",\"short\",\"simply\",\"poor\",\"3\",\"read\",\"completely\",\"along\",\"second\",\"top\",\"help\",\"less\",\"home\",\"boring\",\"dead\",\"kids\",\"either\",\"hollywood\",\"line\",\"friends\",\"try\",\"low\",\"given\",\"wrong\",\"enjoy\",\"camera\",\"full\",\"women\",\"use\",\"classic\",\"production\",\"school\",\"stupid\",\"need\",\"couple\",\"performances\",\"rest\",\"next\",\"truly\",\"awful\",\"video\",\"start\",\"sex\",\"recommend\",\"tell\",\"mean\",\"perhaps\",\"terrible\",\"understand\",\"getting\",\"face\",\"remember\",\"moments\",\"came\",\"name\",\"keep\",\"small\",\"perfect\",\"person\",\"playing\",\"human\",\"style\",\"definitely\",\"boy\",\"early\",\"mother\",\"wonderful\",\"head\",\"others\",\"episode\",\"often\",\"stars\",\"written\",\"piece\",\"dialogue\",\"lines\",\"live\",\"gives\",\"children\",\"case\",\"yes\",\"laugh\",\"friend\",\"lost\",\"loved\",\"finally\",\"certainly\",\"title\",\"absolutely\",\"oh\",\"went\",\"entertaining\",\"liked\",\"sort\",\"cinema\",\"worse\",\"felt\",\"picture\",\"mr\",\"become\",\"overall\",\"hope\",\"5\",\"several\",\"drama\",\"entire\",\"based\",\"supposed\",\"sound\",\"called\",\"white\",\"guys\",\"dark\",\"problem\",\"4\",\"fans\",\"care\",\"waste\",\"beginning\",\"lead\",\"game\",\"humor\",\"seemed\",\"lives\",\"wanted\",\"direction\",\"despite\",\"totally\",\"guess\",\"evil\",\"final\",\"throughout\",\"example\",\"already\",\"becomes\",\"unfortunately\",\"son\",\"able\",\"turn\",\"quality\",\"killer\",\"michael\",\"b\",\"history\",\"wants\",\"days\",\"heart\",\"side\",\"flick\",\"writing\",\"amazing\",\"fine\",\"god\",\"horrible\",\"matter\",\"run\",\"art\",\"kill\",\"close\",\"act\",\"town\",\"etc\",\"child\",\"works\",\"behind\",\"turns\",\"viewer\",\"today\",\"genre\",\"tries\",\"brilliant\",\"stuff\",\"late\",\"parts\",\"past\",\"eyes\",\"kid\",\"directed\",\"expect\",\"enjoyed\",\"gave\",\"girls\",\"hand\",\"soon\",\"obviously\",\"car\",\"favorite\",\"highly\",\"stop\",\"hour\",\"actress\",\"city\",\"sometimes\",\"thinking\",\"killed\",\"type\",\"daughter\",\"self\",\"blood\",\"group\",\"starts\",\"decent\",\"says\",\"voice\",\"heard\",\"happens\",\"took\",\"writer\",\"fight\",\"known\",\"anyway\",\"except\",\"slow\",\"experience\",\"feeling\",\"coming\",\"leave\",\"stories\",\"score\",\"roles\",\"involved\",\"hero\",\"moment\",\"happen\",\"lack\",\"violence\",\"chance\",\"complete\",\"told\",\"ok\",\"crap\",\"particularly\",\"hit\",\"cool\",\"simple\",\"save\",\"extremely\",\"police\",\"wonder\",\"hell\",\"age\",\"strong\",\"living\",\"please\",\"david\",\"cannot\",\"hilarious\",\"song\",\"looked\",\"attempt\",\"serious\",\"taken\",\"robert\",\"including\",\"obvious\",\"cut\",\"murder\",\"ago\",\"shown\",\"brother\",\"james\",\"happened\",\"husband\",\"released\",\"gore\",\"reality\",\"exactly\",\"none\",\"english\",\"seriously\",\"jokes\",\"running\",\"possible\",\"alone\",\"opening\",\"across\",\"cinematography\",\"sad\",\"usually\",\"number\",\"interest\"],\"legendgroup\":\"Word2Vec\",\"marker\":{\"color\":\"#636efa\",\"symbol\":\"circle\",\"size\":3},\"mode\":\"markers\",\"name\":\"Word2Vec\",\"scene\":\"scene\",\"showlegend\":true,\"x\":[12.4016485,35.365337,34.8874,-1.3524055,-23.69344,5.8308063,-24.887798,-3.9540226,-4.0138803,5.5898013,-1.5296588,15.149894,26.420998,2.128904,-8.196832,1.7801975,-3.7650554,-4.010193,-3.014592,0.8509812,-1.0849637,-10.186743,0.162243,3.1556857,-3.5446184,-0.55502033,38.02606,36.024906,13.301873,32.33803,10.382161,39.54247,-18.353113,0.7132136,4.071615,29.600359,28.798758,20.046656,-2.8831568,19.184397,-10.190489,8.974174,15.277705,10.776318,12.894851,2.1199658,-4.5951557,-8.853956,39.174824,0.9799575,5.121276,39.421104,22.491276,-8.036948,-18.742298,16.14553,24.555618,8.233992,36.300873,-10.637969,-8.17228,1.9428184,38.258198,32.57627,-1.3463819,4.0921874,8.68513,-3.6592436,5.3317084,24.804703,7.880882,-7.636096,4.7179704,1.721285,16.486559,5.566799,0.33979478,10.37042,15.688044,29.75338,20.016535,39.03487,10.522127,11.654832,-2.459419,-5.364067,9.520169,1.2382715,-3.931551,-8.73311,2.2695832,0.7557417,-2.920226,15.495097,6.489147,-4.841041,-3.283883,9.284908,3.2419012,23.320536,-6.1831865,34.095745,26.289965,12.232106,1.5006921,5.9190497,16.47799,-8.760706,19.570972,-3.7855709,1.7818098,3.6124039,25.788235,-6.7992177,1.0354701,2.6358244,-7.688967,2.9137554,12.233133,18.567518,-1.4411001,31.152418,-12.363591,21.108847,-4.6251984,-6.499299,3.7780526,-13.955717,3.6849062,24.167082,-10.715133,9.381808,11.439681,-17.612585,5.08591,17.926573,-0.5238749,2.3739648,27.478304,3.4299219,23.95213,-11.871476,10.314776,7.596534,-2.687445,15.453719,-2.6374538,-3.1852562,25.821108,11.043963,2.525269,-0.87875426,6.5490613,-0.82169205,-11.725491,9.606895,21.119322,-10.367738,-11.299362,7.68696,8.113853,10.964987,-8.995887,-16.866043,-12.654996,21.874994,7.1912103,-3.883995,2.37626,1.1784681,30.426136,22.106012,-15.028574,17.734081,20.632008,18.015923,4.769407,16.084644,6.9316945,11.344018,16.758389,17.724886,-7.997419,7.623057,2.9940467,-5.7550974,-13.662131,-9.6437,-5.5361238,18.878561,8.878431,32.38741,-9.999035,16.48259,-18.304064,-11.474253,8.245459,7.1815753,5.306648,-4.7970595,-16.200657,-0.22023056,21.73743,14.52964,-4.5481353,-20.760769,-6.9307294,-8.24966,27.390612,31.025103,22.90683,21.654564,20.957592,-10.891791,25.234413,4.942977,-4.73508,1.9493573,-14.380554,-4.25749,-7.043288,9.28208,0.46766338,-13.318084,18.12848,21.096735,-3.132763,-13.590024,-14.779076,-7.076431,6.4707494,-12.091598,25.697872,-14.125962,30.994524,6.1332197,12.899636,5.009546,-7.450194,-13.190925,-3.279526,-1.9226505,-3.899458,-2.917775,23.233328,0.35393775,7.880656,-15.291717,19.787365,16.25468,1.3150855,23.518211,0.9014599,-20.716248,7.0048256,-5.0220666,-11.267372,16.677853,28.53207,20.937355,-6.554628,8.215964,-11.403614,10.110239,4.5867023,6.9694324,29.060797,9.671849,-0.22182882,-6.1133995,14.411879,32.692722,-6.778591,-11.114743,10.954699,4.8080964,-3.8376818,5.5144253,17.35721,6.4406385,18.322857,10.674688,0.8819555,-16.769384,-1.431779,23.70733,-9.761475,-0.8917157,32.930832,12.961119,31.337898,18.077608,15.258763,7.568764,8.119193,-10.142692,1.3050857,1.1253939,4.777045,17.504034,33.841442,-8.802189,-22.795473,29.287703,-21.862469,10.03442,23.385584,25.571184,18.40521,-10.334481,26.863338,6.3243556,15.511222,37.067966,-8.167755,19.468292,18.68769,17.723688,10.55372,-11.770279,1.0457703,-12.758336,-20.425087,33.704533,2.8051956,1.6003952,-9.233479,20.002094,-2.7036135,16.052929,23.99163,16.456781,7.687699,-15.723271,22.399792,8.544279,-13.623085,-5.6992245,-22.281956,17.900204,36.587082,8.652331,-6.569881,-8.109299,-1.3762612,-11.182173,22.982328,16.318712,24.135021,-12.549462,-9.3471,11.719374,0.5484715,11.075861,0.5303237,-4.7403255,-4.1417646,-11.007267,9.0643835,-11.5722,18.59347,11.824152,11.515362,-3.7435577,-5.240586,15.936282,-12.663207,33.468197,21.030617,21.890944,9.718414,20.326595,27.871424,-0.21085386,-13.778041,14.833267,-13.014559,-18.59387,16.942234,-0.92754173,13.598847,0.024931885,6.143965,-14.853957,11.644743,35.295864,0.11804673,38.82884,-19.069881,19.373013,20.49126,-13.933521,8.64705,-12.278701,24.698673,29.369577,15.293087,-0.70036143,-5.333989,-3.5401402,5.718293,-3.8441057,-18.50506,11.751021,-7.818918,-14.984861,8.811107,-7.171248,-3.1071656,31.537064,-1.8911446,15.019631,17.575348,-15.6246,16.97732,-3.1688135,13.772602,2.446451,-1.4966778,-4.124029,-7.8583484,-7.150935,20.450716,-5.6089478,11.240916,-8.954829,26.488594,-18.454054,-0.5400136,6.489379,4.7166214,-5.7121253,30.059156,22.997774,-6.3248916,-18.594532,27.847906,15.158084,28.451086,-13.026249,35.26543,30.393665,12.33454,4.1406064,10.982981,-14.57033,1.0090244,-7.358392,18.7629,19.49133,10.03899,-17.968462,4.99311,17.936512,-10.324389,11.288888,-3.991973,15.96583,24.83185,-0.19866581,-7.0196166,-7.560101,14.359246,16.941265,9.825949,31.342136,24.775503,1.299478,-17.04943,-19.296644,-10.8358,20.8608,-12.66296,3.2842581,8.853582,-8.869551,-13.996302,4.1830864,-7.7218413,17.41645,12.904607,-5.6235285,-18.617085,42.089302,23.852528,11.843425,0.87312603,13.599531,-20.242655,34.611084,-12.728867,-9.520577,-2.8733008,-14.71153,-7.917802,37.530617,31.757803,14.429807,-16.891043,-5.2509065],\"y\":[23.706545,8.398091,4.662133,2.3966424,3.5958502,18.713892,1.0209002,14.856978,3.6321096,6.1337285,15.022151,21.174236,8.474237,30.290499,6.9547377,9.30083,25.988762,18.284996,-2.9532828,-12.563904,17.24003,1.6508062,15.673384,18.67571,11.667141,14.850929,8.137383,1.1961102,23.789762,1.5300813,40.667408,5.3942785,-10.456398,16.930962,-2.7547948,16.470367,2.324964,9.694511,-16.110712,-7.348671,9.799009,12.597537,17.881662,27.915258,8.748895,-24.30121,12.37073,5.3923097,4.099064,-1.3276985,30.084393,5.3503723,16.0233,25.04898,0.49383634,11.368414,20.768595,40.68913,5.316347,16.807922,-8.673118,3.5921857,10.9990425,18.491108,-21.182034,7.643608,10.544991,2.4839768,33.232613,17.230957,19.698673,22.974497,27.21958,-8.287344,23.154095,3.0949068,4.222745,-12.474705,16.616901,-1.4848346,18.873337,8.498669,13.837988,18.077679,22.644714,-7.494589,18.60695,-15.499756,19.77231,25.972553,2.4253843,14.790123,28.915546,22.849842,6.8620453,4.1175947,25.461733,6.597359,15.036355,-5.4627113,24.630558,10.2799425,28.884377,-9.135852,19.07337,-2.898973,11.152372,-0.29776,0.562557,35.087673,-0.16506855,26.821222,-5.6390834,28.737534,26.734575,12.001244,6.099443,2.0958202,12.371485,17.956726,6.5763917,6.966194,-14.168256,25.058832,-21.179285,-10.816031,14.256125,-1.3382102,15.186371,13.8454485,-3.34753,17.04036,33.552483,-0.48118275,-28.40431,13.551099,0.57537913,-30.915442,19.914354,-27.412094,10.555209,14.171863,5.4670825,23.68573,14.077811,-11.716693,-5.795961,17.504038,-3.5608525,8.173901,36.344303,1.2738235,28.56909,7.496137,19.172514,33.086853,19.407522,-0.8871184,5.866798,24.725328,28.671947,20.950308,29.124706,-7.734784,25.624243,7.6263366,15.025096,0.3828161,-4.185017,7.709835,0.49831486,17.130894,4.32208,33.712746,8.802714,7.9742036,32.045143,-6.9433117,43.366665,6.526053,-7.9848046,15.230766,14.258596,-17.344746,-9.861006,-4.7956295,14.531019,-15.436117,-3.348339,-11.311579,0.9062344,-2.693237,16.342915,-15.443188,-3.5235176,-7.4448204,19.28613,25.73723,-8.810877,-5.618864,4.729483,32.452526,15.042956,30.068802,-31.673662,5.4994926,9.895105,-14.289329,14.0352335,-8.729161,-0.55120796,10.877527,14.772033,-18.377142,0.31659907,-18.175043,-18.564552,20.637857,20.899378,-26.852503,2.7074556,3.081828,-1.2104977,-17.154839,12.119078,-0.3348817,-7.0382657,1.928154,3.4910722,12.262638,5.2656226,-13.595725,22.986893,-17.903143,27.040958,1.1756144,37.00704,-4.7506337,-21.058657,21.413807,-4.8494935,21.864807,20.219429,37.315876,-6.7033563,-1.7762915,-18.264801,24.448013,5.4234743,-0.3184216,-20.682856,27.932297,21.33617,-9.655105,-30.232649,-2.2491925,4.053986,10.78567,31.096294,-5.3239493,1.8898622,-17.385912,28.710848,31.850302,19.273787,9.806525,31.517038,29.910683,26.072147,7.3647223,28.631628,4.867931,32.850193,-20.815628,5.638437,-8.28437,13.222375,-11.920349,-8.746259,-13.583744,0.30301777,20.983515,-27.860039,-1.5388945,-29.088247,17.700634,13.212496,-8.470461,3.5130186,-0.37964886,-6.1146626,7.7415667,-3.8197556,-7.5027866,-5.312481,-10.336337,26.735748,-21.08731,6.7792745,22.111958,18.132294,-25.1365,6.84839,18.584509,-0.24767093,16.015085,4.4052644,4.624346,25.895119,33.315617,17.518291,24.198315,15.130602,3.4392064,18.119276,24.184977,-5.639728,29.80264,12.182225,0.9504172,25.202866,-13.319893,-7.56011,7.0849776,0.8676035,-14.388595,19.859713,1.1267896,9.327524,-18.043903,30.971996,-14.7804785,1.7451901,-14.089072,-0.7250443,-4.5390935,11.649695,4.665533,4.7815886,-3.9888537,15.060744,14.526226,-14.192129,19.190464,-11.6872425,-2.1050978,0.7669154,26.825396,19.796684,6.2219095,-10.952903,3.0791957,-3.8745248,16.151627,18.08115,-29.898706,17.031622,30.570925,-5.5224113,-14.495724,30.147375,25.734282,-11.6037445,19.80099,-9.798157,-12.658778,4.731715,8.551879,7.051737,19.645813,-5.752209,22.549318,28.731977,4.6977935,10.009863,-1.5953112,-10.576565,3.2047935,-4.0086994,-17.819324,27.556978,-24.686634,9.584919,3.313765,23.894375,-3.4534922,-5.874122,0.18339096,21.267933,9.624888,32.43385,-2.4757457,-1.8799607,-3.8893998,6.4448986,28.054487,3.8607705,30.504717,38.70638,28.623926,-21.841671,8.474614,12.295881,19.23911,-19.003763,6.191855,1.9480168,11.420197,-10.943015,-2.1447346,-18.28052,2.6368608,20.602646,-20.725384,8.095139,-32.526325,1.2049798,-11.351746,-10.59843,4.309631,14.938857,15.290922,-12.450499,19.5476,29.14741,30.243204,4.5751963,24.473688,11.450351,14.597836,8.583702,2.3618102,-1.3086122,21.972338,27.498549,12.753988,9.570858,-7.073131,-6.394011,21.53028,-7.182579,6.687582,27.726954,-0.2646623,-15.293291,17.894358,2.2724748,17.440826,29.606724,31.098043,5.9527836,7.602794,17.135735,3.8360312,-18.53331,8.516365,-22.31183,31.720854,28.52828,-16.805077,3.1045077,-12.565355,18.91289,34.23801,-2.0418818,16.175596,-3.4816875,34.88901,20.76145,14.006718,26.867641,33.195847,-9.048405,12.8750515,1.479551,-18.628147,-6.6469617,17.63975,-30.032246,34.35627,32.409355,-27.730942,-5.9278073,10.574668,10.089591,12.159706,6.3249097,31.977251,16.173115,14.999878,11.672477,8.448674,-1.8666466,3.9420822,-7.651667,13.391296,27.0179,0.9346955,-7.792512,-4.468374],\"z\":[-11.928248,-7.859518,-8.702891,7.4895964,23.73412,24.464108,13.707111,30.038551,4.7439475,15.365803,7.400448,25.67531,-0.6569828,13.133188,23.206427,18.278326,7.9829164,26.366762,18.055286,20.701433,32.363415,0.001735595,0.16895926,0.8751276,16.8998,10.582221,-10.995385,-2.674663,21.631958,-2.7987864,14.178032,-8.634574,9.7014675,-7.045324,20.911531,9.673094,-3.0397296,25.773964,25.808126,14.660808,25.86274,-8.148774,13.664996,21.277107,9.884977,29.551744,27.18435,-4.8995953,4.2099504,13.177416,20.271395,0.7849708,23.649298,7.649372,8.789129,14.543968,24.045923,16.275677,-4.51452,-10.595307,4.594217,14.662486,9.335502,0.3547255,29.973158,-1.0518525,17.769812,10.456296,10.663736,28.695219,2.7025821,12.418091,12.832375,11.115377,29.787636,3.9447162,0.1723872,6.69256,25.286068,2.1951072,25.462503,-3.5461688,27.917871,30.679182,12.472337,10.544166,7.956506,25.464329,33.641254,2.524909,18.5458,15.673525,5.195458,16.882124,20.552624,18.815197,0.29895502,-8.531778,7.555155,-4.8073897,17.844696,-2.6955147,11.109217,19.48431,8.668703,12.467021,24.872501,7.603677,-0.055093605,4.217664,5.994112,3.4600813,13.807261,10.306985,24.905657,32.262226,9.572374,9.544293,15.602974,13.120908,18.399237,-5.920101,4.8906875,19.782558,25.282286,-2.6917832,10.947862,4.001931,0.90611714,28.082495,3.9098063,18.171268,-6.5022526,13.796446,14.792552,20.688644,21.499456,29.634481,3.9155343,27.138998,31.855278,25.11768,13.787984,21.819077,20.685163,38.268124,1.3541715,-13.071204,4.3689313,26.830952,10.5916605,15.824322,17.724201,5.1947803,5.5011144,-9.824936,29.765398,-5.9909596,-7.7334785,2.86138,2.35771,17.124157,6.4673405,8.615032,9.794551,-3.1158135,-7.7237635,1.7069607,4.1878347,33.02679,-10.312929,18.928179,23.865936,-5.731974,31.945887,12.418953,7.1582594,23.257244,12.9341,20.797855,35.460167,30.34689,18.084185,11.53262,1.7780097,4.316671,-1.089112,2.272884,27.764084,35.26276,12.084972,6.322146,-3.2244866,15.568653,2.4314415,-1.9971814,12.037307,-0.7208218,8.724357,-1.7383851,7.1203403,11.231811,4.754358,-11.720417,23.808603,12.464872,31.61212,20.087809,20.704065,-3.1954327,0.48472926,15.883475,33.09785,33.917114,34.886917,26.464119,10.157023,33.236153,19.628561,28.841139,16.05896,18.017391,29.579891,2.034227,-3.9983187,22.914564,14.908396,-0.30430397,20.106813,13.139856,10.640011,19.019136,-0.6893986,30.484634,16.361013,16.058422,-7.9418325,-3.969984,27.54392,8.611151,29.235016,-1.5238364,20.410074,18.604012,3.9806128,-3.6429687,25.51811,20.52504,3.1102643,-4.770267,14.836493,-0.15487085,12.765194,6.0078254,16.324375,12.504812,3.6780453,9.313626,2.0765467,0.12299654,-4.296202,18.928776,22.27383,20.045572,18.517588,12.307852,-2.0843525,24.508772,7.267435,3.0310252,17.633987,9.974662,0.76835805,22.137777,0.8400322,15.645403,35.858696,20.97376,38.888874,13.035914,5.950855,25.777567,31.729925,-2.535101,26.298378,7.6647,-8.449661,19.920603,1.9855896,25.559845,-1.8525003,-5.2493057,7.422844,30.979734,-3.586153,25.378447,-0.7761647,23.261986,24.229382,-2.608622,5.170326,27.916325,3.251453,11.964399,6.7896676,23.684849,5.4299436,24.834229,-3.3736005,2.0144324,-0.9551927,30.721077,19.132334,-12.323498,25.657598,15.065762,6.5089183,-9.378954,3.7195518,20.718443,16.87993,0.26420823,11.641553,-0.26210853,0.6636642,7.0783973,14.452228,11.076229,-2.3475964,16.763414,14.928078,20.556242,22.461557,2.7619503,35.425858,23.833918,14.310884,-1.8544215,20.002466,35.62993,-0.6012886,9.380119,28.24022,7.44919,13.591763,13.246656,25.242586,23.716831,-8.719587,-0.51694447,13.297785,6.7563725,17.609018,2.5702376,24.328876,31.62135,11.768945,12.082487,3.1281676,35.819996,-14.015919,-8.59377,0.71286994,5.518273,2.8415973,7.2879605,13.283476,-12.170151,-7.0403934,5.218122,11.989602,-6.6898713,-0.7515392,24.56005,6.029676,2.2719884,35.638016,1.0522699,16.219753,17.152443,-5.62017,24.126438,-2.7134674,9.664695,3.6740682,4.562749,9.271603,-6.9831967,7.8011703,3.4454072,10.194469,-1.1097014,5.803002,7.9482794,17.09119,13.568518,-5.713884,17.05044,17.132326,-2.3156326,22.802797,12.4083395,18.608046,22.09805,19.337776,27.87326,31.84417,6.237315,-2.2636402,-11.619572,14.230714,25.94204,19.939444,31.231493,18.96582,28.342697,14.043397,27.05394,7.0127053,-7.038326,31.926233,-4.1502657,13.342778,-5.609269,7.802323,-1.4263132,-8.490181,11.641048,-6.04798,18.41723,6.160289,32.164783,18.637655,17.393284,13.76629,5.154613,1.9006423,31.575607,12.823454,-4.6087623,-5.416948,12.626553,10.946399,27.007887,27.01945,11.016557,-4.761795,-0.23131403,-2.3335438,1.9068673,28.91345,9.943744,28.917849,17.7196,6.358417,32.09279,17.343126,23.7186,6.441815,30.417704,25.711163,25.062277,-3.693479,-10.961409,17.736458,-1.8615736,-6.6501865,6.0568447,4.352886,26.328934,-2.3711832,-12.098178,9.721046,23.66945,-2.2797186,36.50717,3.526611,-8.3313265,28.360664,-15.164212,9.032871,24.696726,21.028786,-7.5493464,11.239661,21.142097,10.426587,-3.3382037,28.41634,3.4137845,8.8388,19.733702,7.290568,-4.590722,14.568916,-9.147529,-3.4058633,22.368925,15.122535,21.546131],\"type\":\"scatter3d\"},{\"hovertemplate\":\"\\u003cb\\u003e%{hovertext}\\u003c\\u002fb\\u003e\\u003cbr\\u003e\\u003cbr\\u003emodelo=GloVe\\u003cbr\\u003ex=%{x}\\u003cbr\\u003ey=%{y}\\u003cbr\\u003ez=%{z}\\u003cextra\\u003e\\u003c\\u002fextra\\u003e\",\"hovertext\":[\"br\",\"movie\",\"film\",\"one\",\"!\",\"like\",\"?\",\"good\",\"time\",\"even\",\"would\",\"really\",\"story\",\"see\",\"well\",\"much\",\"get\",\"bad\",\"also\",\"people\",\"great\",\"first\",\"made\",\"make\",\"way\",\"could\",\"movies\",\"characters\",\"think\",\"character\",\"watch\",\"films\",\"two\",\"seen\",\"many\",\"love\",\"plot\",\"never\",\"life\",\"acting\",\"best\",\"show\",\"little\",\"know\",\"ever\",\"man\",\"better\",\"end\",\"scene\",\"still\",\"say\",\"scenes\",\"something\",\"go\",\"back\",\"real\",\"thing\",\"watching\",\"actors\",\"director\",\"years\",\"though\",\"10\",\"funny\",\"old\",\"work\",\"actually\",\"another\",\"look\",\"nothing\",\"makes\",\"going\",\"find\",\"new\",\"lot\",\"every\",\"part\",\"world\",\"us\",\"cast\",\"things\",\"horror\",\"quite\",\"pretty\",\"want\",\"around\",\"seems\",\"young\",\"big\",\"take\",\"however\",\"enough\",\"got\",\"thought\",\"fact\",\"long\",\"give\",\"series\",\"may\",\"music\",\"right\",\"comedy\",\"guy\",\"action\",\"must\",\"without\",\"always\",\"times\",\"original\",\"saw\",\"almost\",\"gets\",\"role\",\"come\",\"done\",\"interesting\",\"point\",\"least\",\"whole\",\"bit\",\"far\",\"script\",\"2\",\"feel\",\"family\",\"minutes\",\"might\",\"last\",\"making\",\"anything\",\"since\",\"probably\",\"tv\",\"away\",\"performance\",\"kind\",\"yet\",\"girl\",\"fun\",\"woman\",\"anyone\",\"worst\",\"rather\",\"sure\",\"hard\",\"played\",\"day\",\"found\",\"screen\",\"especially\",\"looking\",\"although\",\"believe\",\"course\",\"trying\",\"dvd\",\"everything\",\"set\",\"ending\",\"comes\",\"goes\",\"maybe\",\"put\",\"three\",\"let\",\"book\",\"shows\",\"place\",\"worth\",\"different\",\"actor\",\"sense\",\"main\",\"american\",\"someone\",\"true\",\"looks\",\"effects\",\"watched\",\"reason\",\"play\",\"everyone\",\"money\",\"war\",\"together\",\"year\",\"job\",\"1\",\"high\",\"plays\",\"instead\",\"audience\",\"said\",\"black\",\"later\",\"half\",\"seem\",\"takes\",\"special\",\"night\",\"left\",\"seeing\",\"beautiful\",\"john\",\"wife\",\"shot\",\"excellent\",\"house\",\"idea\",\"star\",\"version\",\"mind\",\"else\",\"death\",\"fan\",\"men\",\"budget\",\"nice\",\"used\",\"father\",\"short\",\"simply\",\"poor\",\"3\",\"read\",\"completely\",\"along\",\"second\",\"top\",\"help\",\"less\",\"home\",\"boring\",\"dead\",\"kids\",\"either\",\"hollywood\",\"line\",\"friends\",\"try\",\"low\",\"given\",\"wrong\",\"enjoy\",\"camera\",\"full\",\"women\",\"use\",\"classic\",\"production\",\"school\",\"stupid\",\"need\",\"couple\",\"performances\",\"rest\",\"next\",\"truly\",\"awful\",\"video\",\"start\",\"sex\",\"recommend\",\"tell\",\"mean\",\"perhaps\",\"terrible\",\"understand\",\"getting\",\"face\",\"remember\",\"moments\",\"came\",\"name\",\"keep\",\"small\",\"perfect\",\"person\",\"playing\",\"human\",\"style\",\"definitely\",\"boy\",\"early\",\"mother\",\"wonderful\",\"head\",\"others\",\"episode\",\"often\",\"stars\",\"written\",\"piece\",\"dialogue\",\"lines\",\"live\",\"gives\",\"children\",\"case\",\"yes\",\"laugh\",\"friend\",\"lost\",\"loved\",\"finally\",\"certainly\",\"title\",\"absolutely\",\"oh\",\"went\",\"entertaining\",\"liked\",\"sort\",\"cinema\",\"worse\",\"felt\",\"picture\",\"mr\",\"become\",\"overall\",\"hope\",\"5\",\"several\",\"drama\",\"entire\",\"based\",\"supposed\",\"sound\",\"called\",\"white\",\"guys\",\"dark\",\"problem\",\"4\",\"fans\",\"care\",\"waste\",\"beginning\",\"lead\",\"game\",\"humor\",\"seemed\",\"lives\",\"wanted\",\"direction\",\"despite\",\"totally\",\"guess\",\"evil\",\"final\",\"throughout\",\"example\",\"already\",\"becomes\",\"unfortunately\",\"son\",\"able\",\"turn\",\"quality\",\"killer\",\"michael\",\"b\",\"history\",\"wants\",\"days\",\"heart\",\"side\",\"flick\",\"writing\",\"amazing\",\"fine\",\"god\",\"horrible\",\"matter\",\"run\",\"art\",\"kill\",\"close\",\"act\",\"town\",\"etc\",\"child\",\"works\",\"behind\",\"turns\",\"viewer\",\"today\",\"genre\",\"tries\",\"brilliant\",\"stuff\",\"late\",\"parts\",\"past\",\"eyes\",\"kid\",\"directed\",\"expect\",\"enjoyed\",\"gave\",\"girls\",\"hand\",\"soon\",\"obviously\",\"car\",\"favorite\",\"highly\",\"stop\",\"hour\",\"actress\",\"city\",\"sometimes\",\"thinking\",\"killed\",\"type\",\"daughter\",\"self\",\"blood\",\"group\",\"starts\",\"decent\",\"says\",\"voice\",\"heard\",\"happens\",\"took\",\"writer\",\"fight\",\"known\",\"anyway\",\"except\",\"slow\",\"experience\",\"feeling\",\"coming\",\"leave\",\"stories\",\"score\",\"roles\",\"involved\",\"hero\",\"moment\",\"happen\",\"lack\",\"violence\",\"chance\",\"complete\",\"told\",\"ok\",\"crap\",\"particularly\",\"hit\",\"cool\",\"simple\",\"save\",\"extremely\",\"police\",\"wonder\",\"hell\",\"age\",\"strong\",\"living\",\"please\",\"david\",\"cannot\",\"hilarious\",\"song\",\"looked\",\"attempt\",\"serious\",\"taken\",\"robert\",\"including\",\"obvious\",\"cut\",\"murder\",\"ago\",\"shown\",\"brother\",\"james\",\"happened\",\"husband\",\"released\",\"gore\",\"reality\",\"exactly\",\"none\",\"english\",\"seriously\",\"jokes\",\"running\",\"possible\",\"alone\",\"opening\",\"across\",\"cinematography\",\"sad\",\"usually\",\"number\",\"interest\"],\"legendgroup\":\"GloVe\",\"marker\":{\"color\":\"#EF553B\",\"symbol\":\"circle\",\"size\":3},\"mode\":\"markers\",\"name\":\"GloVe\",\"scene\":\"scene\",\"showlegend\":true,\"x\":[-24.026695,-13.223533,-11.989268,-3.3432758,-1.261471,-6.32127,-3.3216374,-18.116045,-8.103835,0.7191691,14.666506,-7.5372014,-6.379023,0.016389364,-17.20812,1.7734087,-3.831342,-0.31338316,-19.719141,14.842105,-27.620127,0.39816427,-20.49636,7.823106,3.4748755,13.84256,-11.311975,19.766582,-3.299151,20.723621,4.3665147,-10.3193035,26.783405,-0.39690053,20.336332,3.336329,-3.5213082,-4.2758017,-30.52485,14.407013,-14.370374,-37.68687,-8.492504,0.8016152,-3.5087101,-4.2701373,-16.65392,-19.42421,-26.923288,2.1658442,8.66589,-27.238865,-5.5131803,2.9948719,9.878245,-16.342407,-7.5501795,3.9638789,17.696198,-0.3375983,-3.3134754,-1.14791,-17.21017,-22.522545,-11.6379595,-27.837942,-1.440804,-0.6328285,-8.900045,-2.2880487,-27.664354,0.19592458,5.5058837,-6.999602,-10.11376,-30.425241,-22.361277,-33.12674,12.965235,19.975723,-9.855479,-16.47625,-13.896214,-12.967604,8.768091,-15.12144,-6.880306,-11.113211,-5.603808,11.039689,-5.4037733,4.223968,-7.273663,2.6799152,-0.80106586,-30.02609,11.388422,-37.785397,19.312609,-39.257244,6.653512,-17.96285,-10.552216,-17.334736,14.240098,-10.303378,-1.8972101,-7.2496896,29.56496,2.5086026,7.692831,-32.39503,12.843893,2.591151,-6.957138,-18.563972,-11.586705,10.191268,-31.903278,-9.351841,3.4329596,31.81368,-12.921758,-28.767115,3.6944003,-17.521835,15.441716,0.45804232,-23.048803,-1.4555851,0.26327786,1.6340973,-38.690647,11.351715,-20.084581,-15.10781,-1.1944531,-7.83399,-18.262856,-4.9491706,2.574224,-0.59262073,-10.587221,1.2530037,0.04930496,-14.533792,-10.80644,15.024164,-28.60689,-15.443219,-8.293381,-2.6826212,6.707146,-22.364769,12.960243,-31.434952,-5.6323934,-3.7727094,-21.212685,-31.14337,-33.32314,-2.639564,8.917969,28.716583,5.806811,28.141682,-37.443317,-10.002173,14.958499,22.596403,18.763742,-17.621708,-19.90285,-25.693424,2.9508326,-1.5718039,-12.43711,-27.531363,4.247959,2.5418065,-10.116518,-3.064227,-5.6841383,-21.097641,1.9107932,-3.2850063,-17.456581,-9.865318,2.5521004,-12.980302,-8.95738,25.359314,14.912658,15.222069,19.628632,5.9516478,-10.859994,-35.156418,-22.45968,-12.569678,6.443052,-1.1814047,-20.106369,8.0753565,2.7964044,4.038296,-20.706226,18.745161,-8.993686,26.748512,27.687918,-5.854792,-0.041427273,-26.43215,-20.192202,25.553596,23.180004,-16.746675,-31.137917,4.928078,-29.273623,-9.080808,-5.99329,-12.875104,6.8047705,-21.250046,-17.805235,3.359611,-1.8685652,15.560691,6.205466,11.434708,-15.166201,3.9580061,-10.644452,-10.943453,-12.243763,-24.694805,5.673827,14.772358,2.672084,-5.3112903,-9.108628,-16.217875,-29.03006,-5.9060717,23.256718,-32.177532,-12.726089,-22.790663,2.380294,-13.440798,10.606649,4.624309,-19.826296,3.5443995,-7.2893734,-17.708607,-4.41573,-30.800732,-17.263706,-24.132776,18.401707,5.0460896,-5.7485976,2.455524,-5.627681,0.228464,-7.609193,5.507412,4.268914,13.089848,4.8182235,-30.331533,13.055189,-19.716684,-17.619194,5.0219874,-12.674114,-16.361393,-40.195927,-4.0355773,-8.970379,5.400247,-0.6388801,-20.958778,-5.230563,16.695583,-38.377174,-8.173139,24.30953,30.32149,-34.457363,12.104048,-26.461132,-35.55691,-33.901176,-6.1555953,16.94876,-0.1369048,-25.187311,6.446169,7.312157,1.8276387,18.973875,-1.9291497,3.0014594,-16.962582,-1.0480162,6.5201507,-21.123629,-2.6712806,-13.412991,-7.4845185,1.1473374,-32.53358,-28.038893,30.843063,-28.215242,-16.592249,5.827994,-16.45712,22.939276,-17.147102,-29.937212,-19.571394,9.458835,-38.472347,-24.168283,16.480915,-9.471864,13.3688545,6.162636,-13.809112,-21.963337,-4.8390822,-27.100662,-14.664093,11.658762,-6.7120824,-26.358717,-8.733909,-32.164368,7.545822,-23.670073,-6.2102027,-19.560305,0.9035134,-4.97173,5.7298684,-16.45107,-23.55747,4.978371,-30.627888,0.9884994,6.7416625,10.358232,5.9876986,-22.169638,-28.187252,8.393844,26.44677,-29.162197,13.216154,-8.931958,-10.636043,1.624739,-18.41875,32.87791,-21.460413,-19.750431,-1.7697159,-3.3679023,1.9542974,-24.499609,-25.22774,-30.74992,-11.600828,-10.861757,4.357482,-25.317085,-4.0385447,-26.45076,1.9731463,-34.516663,26.143913,24.306696,-41.882195,17.731163,-20.178709,-14.413449,6.8675885,-24.597803,-1.5128939,10.162054,-11.069005,-12.204399,13.722754,-14.471682,11.352576,-9.213807,5.081389,19.722897,-6.337674,-22.889664,-14.2522545,-19.473234,-35.510643,-15.1388,21.470488,5.9925137,-11.143445,-7.91561,3.8853223,-25.288448,2.2586298,-20.779993,-8.239455,-17.594471,-19.662245,-21.88207,15.696349,-37.827026,8.479378,10.237231,7.8672013,32.932976,15.535369,-27.378185,0.11526869,5.5913305,-1.8149642,-28.38362,-29.38756,-0.044939287,16.224255,-8.272759,-2.3918314,13.710264,-19.535858,20.393524,12.946858,11.240899,-5.769202,-21.83588,8.34785,-4.3598313,14.588741,-2.7576401,-16.051012,-16.184883,3.4610765,14.5131235,-13.411252,18.668066,-16.202719,-27.692839,6.0434575,-1.571428,-4.0870523,-10.663954,-33.52849,6.786742,5.749275,17.497345,-24.960838,-40.74786,-8.37474,11.603023,11.935822,10.337333,4.156368,25.319399,-4.9826016,24.564043,-24.817778,-0.9123955,-37.3533,8.472406,5.632801,10.47753,2.976664,23.283535,8.002019,0.55814433,5.0508885,1.8982294,31.234915,14.970225,-26.667461,-23.319805,16.51081,8.190048,8.474393,-16.627739,-25.830854,-7.92531,-9.969737,24.53813,-14.797786],\"y\":[13.366909,-30.03783,-29.715805,-23.857828,-22.221405,-18.130932,-15.3365555,-13.662428,-29.967457,-3.3527372,-10.496006,-13.383241,-8.167624,-23.660526,4.77266,-4.0442524,-21.082561,-29.139465,6.5753574,3.0124319,-17.63242,-31.197111,-2.0790951,-11.405654,-15.767092,-10.069115,-27.316074,-20.273188,-14.925148,-21.432747,-2.7095275,-26.61687,-1.778942,-23.534012,0.03925612,-6.977183,-5.4420304,-4.317682,-3.6635113,-26.480822,-13.840124,-6.0154634,-11.1203575,-16.230814,-5.4441047,32.449837,-11.009653,-26.603376,-25.618973,2.8923907,-7.7717032,-27.240793,-9.412731,-19.22444,-18.457766,0.23653367,-12.85999,-2.4246488,-29.072842,15.457541,-34.586647,0.78302866,38.268154,-7.7950797,-18.77056,-13.575146,-2.7246237,-24.063412,-23.029514,-2.1957664,-5.4306865,-16.665129,-14.668547,-18.815786,-17.051786,-13.821641,10.115659,-22.517193,-7.725122,-27.753496,-9.41626,-25.293455,-5.2425346,-9.333056,-18.162308,19.262981,0.121154174,24.393003,-18.051914,-16.155565,1.8207195,-8.980307,-23.084957,-5.188376,2.5986042,10.136178,-19.906273,-15.294491,-8.536532,9.566064,-11.464798,-32.530067,-20.18,-20.003475,-17.361042,12.812309,-7.50856,-31.92527,-21.729702,-24.69954,1.5214422,-9.381098,-24.219538,-19.32935,-4.4725175,-6.780755,-1.397778,0.7761656,12.780804,-12.37237,0.5277763,-20.541441,43.506283,-9.17931,18.31042,-37.222813,-7.193448,-29.79279,-3.496095,-5.5486383,-33.934353,-6.7485075,-1.8924751,-15.825916,-12.036688,-2.671164,0.44405508,29.571774,-11.790752,31.380375,-4.127187,-35.47731,8.929947,-12.467421,-11.966424,-41.67655,-30.818092,-2.045182,-9.643202,5.544349,-25.318485,3.766578,-8.422394,13.703414,-29.459457,0.6628782,-5.6971636,-20.415365,-29.296707,-9.369566,-9.735273,-13.591056,-20.237087,-1.2564105,-21.118774,-14.258833,-6.7440524,-25.836378,-7.596087,-6.0568724,-30.160585,1.0215956,17.44135,5.464696,-2.5379975,5.9387183,-24.768038,-21.178452,0.95559716,0.9696837,-41.743282,-8.533778,15.139901,-23.645695,11.609384,-31.045866,-7.1759453,41.781178,42.037563,-42.498436,11.7745695,-20.599249,10.842888,17.987127,-22.338337,-30.406742,0.97839,-6.797915,15.286697,-33.116512,-17.163233,-24.106138,-25.651775,15.9432535,26.661522,-23.02509,-15.187127,16.514204,0.29229555,-33.167797,-23.394627,-0.32983983,-6.2844124,30.365252,-4.959007,24.086508,14.755566,-13.797126,4.788008,23.863081,12.883723,5.8281174,14.869857,39.38712,-20.209356,-27.677242,17.759823,-31.766542,-18.458614,-24.551138,-3.460785,-20.71313,-8.570282,-43.26518,-18.209082,9.014142,-32.324028,22.246744,17.264896,-29.671562,43.449043,0.95149595,-10.264962,30.271454,-5.1649046,-5.290852,25.187525,2.4502423,3.6791537,-8.668512,40.21476,-8.49114,-19.762299,-16.424347,-14.334184,7.508939,-26.483358,-19.827358,-31.770277,-1.9522103,-25.404688,5.74394,-7.478741,-18.390394,2.0171907,-2.888032,-34.819984,-20.46305,-20.162617,16.979782,-14.083164,3.7516334,-25.820219,11.221939,-26.157034,3.274458,-18.249214,0.5880098,-44.219433,-15.606191,2.6932833,-12.8884945,26.599123,-38.432255,25.96341,-22.254482,24.023817,0.2565167,-12.233552,-40.080585,-33.124084,-16.788977,9.894328,-37.693653,20.266865,-4.3365192,-6.5024734,25.32424,-0.37911096,-19.50165,-8.834678,21.194185,-1.0290109,-12.31588,-17.148352,-9.07283,-33.628887,-23.623957,-24.30111,-22.795527,-11.319499,-11.022269,-0.19587518,-29.973778,-31.456736,-8.539635,-11.813594,11.581246,-0.9927723,-9.078497,-22.253773,41.32961,1.8045577,-29.385727,14.691102,8.529969,-2.637093,13.440529,10.557955,17.357044,-18.330906,18.44416,4.3075376,41.666004,-6.406276,17.64637,19.77694,-26.353863,-23.988522,-40.318024,-3.6224031,0.437018,-1.5257853,-14.240546,7.244313,7.039473,-26.170488,-13.65861,6.251192,-34.794674,11.200098,3.712329,0.70894337,-3.0136962,5.501872,27.213243,-14.691507,-16.378912,-14.188679,28.295609,10.889432,-9.409767,-22.989212,-18.584923,-33.321545,27.160656,-10.596064,-23.266273,-18.114252,-20.577496,25.842688,4.946143,-35.259117,1.8633678,26.45053,-13.474588,25.748472,-3.917302,-6.13848,-15.145382,8.343522,25.917063,-13.40561,-16.451904,-5.012692,-20.40859,-15.382401,0.9477115,-31.551306,-20.925377,-12.358383,-39.964375,12.886243,-32.09311,17.892248,-19.735184,-27.789352,-10.292848,27.977848,-28.085814,30.89037,-14.218365,-17.931454,-9.76538,-23.91037,1.704861,-1.1256871,10.401038,-35.534283,-31.251732,-17.010998,-39.435165,-2.1405854,-44.806385,0.91496205,28.222845,3.552483,29.15483,11.818602,-24.286932,-12.387213,7.2040243,16.435085,-16.275812,-6.113391,-27.292826,-15.206827,-26.572393,9.128233,-9.665942,8.791135,-12.241054,-20.931215,-6.036508,-19.982374,-15.069527,-10.3818245,-39.724438,-26.287075,22.500536,-13.506482,1.102929,-8.59746,9.962838,-21.469744,-23.558968,-6.747379,13.84221,-19.743792,-15.247613,3.6579082,-23.95857,-28.174755,7.753497,-23.461243,-2.594775,-25.05242,-11.054779,2.0624876,-38.560375,7.038021,-2.7180521,-23.110195,12.146896,-16.927265,-7.6882796,6.612116,-28.690943,-33.12296,6.65665,-26.372581,15.932881,4.6199822,5.474414,12.092538,30.860415,-31.359297,-7.6810265,24.442335,13.383187,-12.8881855,23.459906,-24.924112,34.168045,10.193169,-10.147238,5.21346,-15.458605,7.921902,-6.502784,24.352678,-4.3219295,7.355092,-36.118923,15.606428,-15.244575,-30.793219,-42.687843,-3.0638244,0.56986856],\"z\":[16.779581,12.656306,8.973824,2.8074617,-45.42469,-18.70455,-41.188744,-18.499239,-8.217866,-19.470871,-20.055143,-31.198874,-9.953606,-20.806171,-14.924966,-15.3518,-26.540735,-28.671894,-12.994213,-21.080845,-20.072138,3.180606,-13.141375,-18.94154,-17.236212,-23.332891,14.485729,3.1149516,-32.04057,5.6109867,39.83565,11.064366,-23.975672,-11.6541195,-18.908297,-47.489155,-9.6347885,-23.059744,20.350893,12.062646,-12.53723,8.847953,-19.410276,-33.747868,-18.779358,-13.822805,-17.090448,-1.4733508,11.057899,-14.993463,-26.375353,8.650576,-34.003784,-24.821999,-9.187907,-39.485893,-36.21312,42.932224,7.35843,45.415665,-6.438684,-18.593508,-2.6881368,-37.023266,-6.6334057,14.684497,-28.407238,3.9059708,-19.923958,-33.56114,-11.811374,-26.11313,-21.811525,-7.075031,-28.586163,-7.3549685,-13.331247,-2.0978823,-10.987161,5.09472,-33.533493,14.65405,-26.014458,-27.31742,-28.417233,-18.110355,-27.555403,-25.883978,-15.067143,-16.626766,-16.878368,-19.450428,-28.798721,-29.587015,-28.268795,6.2084446,-17.106998,7.7330155,-23.24473,0.43258363,-10.668995,10.588477,-39.317932,7.7524886,-24.092768,-28.612448,-44.35517,-11.841787,-2.4240575,-8.706442,-23.394125,-17.744251,9.856975,-20.108337,-32.34337,-28.957273,-15.550599,-17.860275,-18.465086,-22.224302,-18.804731,4.7349644,-6.0681515,-26.948906,-22.851294,-8.481843,-24.621864,-4.381543,-12.192377,-33.595352,-4.3262734,-25.804136,6.6248264,-6.902712,-7.0215,-34.995106,-22.572142,-21.024359,-33.740517,-17.856743,-35.98089,-25.73598,-34.096073,-31.152708,-18.538565,6.2529097,-4.6969438,-14.459071,4.64496,-19.36114,-17.933119,-17.681055,-29.250553,-28.302895,-21.683016,5.901531,-37.89652,-5.587471,-1.6548076,-11.054182,-13.169527,-36.813267,-12.773888,-21.767033,-28.313852,5.235833,5.887993,-9.883664,-7.397733,-15.215661,10.982097,-32.926067,-12.537289,-14.596492,-40.042313,-31.776335,-19.140335,-10.818636,42.97004,-29.814613,6.148603,-39.99578,-35.621872,1.2201958,-14.456937,-2.787254,-17.64228,-4.001441,-1.6732705,9.612287,-33.706787,22.984276,-14.665581,-28.047785,-7.261483,-10.611749,-27.267002,-10.984451,-1.125551,-1.8983407,-4.1421385,-15.860458,-21.840885,43.89414,-17.492453,0.306005,-14.641794,-21.8106,-38.527836,6.868485,-3.8693223,-41.278038,-38.11876,-0.33294013,31.856289,-20.679602,-18.816793,-23.408379,-6.879015,-23.211754,6.6736193,-34.371803,-21.151686,-5.724641,-38.249294,-37.727833,-16.231318,2.4452322,-2.2955027,-20.550125,-18.85183,-4.031938,-38.215603,10.779813,-46.828167,-29.918856,15.572727,-9.698799,-18.792475,-19.010473,0.8354565,-12.600341,-42.825565,-11.384003,3.2014694,40.02836,-22.111055,-5.4954176,39.50611,-5.1806197,-5.1966105,-43.859768,-24.369207,3.3461502,-5.039845,-14.767386,-3.3147955,-29.292442,-31.736675,4.3887463,-5.8511977,33.68906,-31.167034,-34.731007,-33.35703,-24.10874,-29.656185,-32.541607,-26.756021,-33.369164,-41.848454,-45.634647,-5.742136,-5.350893,-25.527021,-9.650043,-17.68281,-41.347248,5.1161475,15.003533,-8.909084,-27.432539,-20.452276,-7.0824547,-20.333044,-23.68841,-8.882283,-18.560362,9.260083,-17.530552,5.3679953,4.951611,-16.05827,1.5792106,-8.519331,13.293057,-6.9007745,-27.979837,-29.037954,-41.137093,-42.27923,-18.339283,-10.515988,-47.686783,-7.595115,-28.671318,7.4959683,-33.06777,-42.47916,-4.6226254,-31.54361,-48.026783,-34.98272,11.124812,-25.843168,-27.921566,2.5585482,20.853968,-19.93031,-8.003543,-19.998354,-5.1314955,-21.10221,9.798201,-19.527107,-5.3350997,-32.666504,-0.25474682,-7.1061034,-25.533228,-34.254772,-31.689322,-31.550068,-2.200252,30.140099,-24.452932,11.902217,-3.1621242,-11.930196,5.257486,-37.75955,-23.59494,21.56169,-29.572357,-25.023438,-17.198238,-35.911312,-37.857132,-43.97772,4.1639404,-19.373482,-5.503294,-13.8109,-18.024504,-26.936926,-23.40754,-22.176025,-14.173566,-11.257828,2.1569238,44.882874,24.636112,-0.48043644,-30.778845,-5.819272,32.44743,-7.3521895,16.258282,7.390473,-26.138906,16.869741,-42.010517,-32.028614,-34.27176,-17.33123,21.14732,3.5679758,-13.551693,18.98889,40.01043,18.32104,-25.366121,17.490396,-6.6539483,-14.489161,19.66714,-18.85744,-5.906366,-17.123543,-18.146343,-35.903603,-9.185024,-16.018864,-13.257746,-34.955307,-43.23746,5.721861,-30.0712,-11.53314,-7.1688824,-24.681278,-9.615118,-10.325804,-27.922817,23.322496,36.3678,-22.630371,14.854883,-6.8416777,13.271698,38.603462,-17.454582,-43.47555,8.1827135,-3.4604397,-21.476624,-32.811844,32.416054,-6.3493223,-8.809404,-19.906546,-14.088659,-0.45680588,-43.847458,-39.322964,-3.4171774,9.952739,23.219797,-6.459203,-35.275043,-19.44862,-14.709221,-14.964908,-27.48951,-17.513716,-14.6384325,-9.908946,2.6384115,7.614272,0.6269647,-0.8488656,-44.2118,-36.957478,-20.81688,6.1455207,-16.711563,38.112934,-14.498926,-37.846996,-38.619812,-21.438162,5.584903,-29.261154,-37.545567,-17.925959,-23.748951,15.867751,-43.790615,-46.74708,-7.06705,-15.831805,17.530922,-32.632854,41.93998,-24.787727,-35.1757,2.6343162,-20.93778,-19.949696,-31.786737,-0.18167636,42.83757,-22.372654,-25.882612,-16.007626,2.54955,-7.9943504,2.6560082,-21.792454,45.522957,-38.03461,-18.836498,-5.7783046,27.454185,-28.865906,-36.162556,-21.450012,-11.532538,-32.12337,-40.573025,-15.487494,-27.680794,-23.367361,2.9254916,-18.57511,0.85515606,-34.566185,-14.817994,-18.702446,27.959322],\"type\":\"scatter3d\"}],                        {\"template\":{\"data\":{\"histogram2dcontour\":[{\"type\":\"histogram2dcontour\",\"colorbar\":{\"outlinewidth\":0,\"ticks\":\"\"},\"colorscale\":[[0.0,\"#0d0887\"],[0.1111111111111111,\"#46039f\"],[0.2222222222222222,\"#7201a8\"],[0.3333333333333333,\"#9c179e\"],[0.4444444444444444,\"#bd3786\"],[0.5555555555555556,\"#d8576b\"],[0.6666666666666666,\"#ed7953\"],[0.7777777777777778,\"#fb9f3a\"],[0.8888888888888888,\"#fdca26\"],[1.0,\"#f0f921\"]]}],\"choropleth\":[{\"type\":\"choropleth\",\"colorbar\":{\"outlinewidth\":0,\"ticks\":\"\"}}],\"histogram2d\":[{\"type\":\"histogram2d\",\"colorbar\":{\"outlinewidth\":0,\"ticks\":\"\"},\"colorscale\":[[0.0,\"#0d0887\"],[0.1111111111111111,\"#46039f\"],[0.2222222222222222,\"#7201a8\"],[0.3333333333333333,\"#9c179e\"],[0.4444444444444444,\"#bd3786\"],[0.5555555555555556,\"#d8576b\"],[0.6666666666666666,\"#ed7953\"],[0.7777777777777778,\"#fb9f3a\"],[0.8888888888888888,\"#fdca26\"],[1.0,\"#f0f921\"]]}],\"heatmap\":[{\"type\":\"heatmap\",\"colorbar\":{\"outlinewidth\":0,\"ticks\":\"\"},\"colorscale\":[[0.0,\"#0d0887\"],[0.1111111111111111,\"#46039f\"],[0.2222222222222222,\"#7201a8\"],[0.3333333333333333,\"#9c179e\"],[0.4444444444444444,\"#bd3786\"],[0.5555555555555556,\"#d8576b\"],[0.6666666666666666,\"#ed7953\"],[0.7777777777777778,\"#fb9f3a\"],[0.8888888888888888,\"#fdca26\"],[1.0,\"#f0f921\"]]}],\"heatmapgl\":[{\"type\":\"heatmapgl\",\"colorbar\":{\"outlinewidth\":0,\"ticks\":\"\"},\"colorscale\":[[0.0,\"#0d0887\"],[0.1111111111111111,\"#46039f\"],[0.2222222222222222,\"#7201a8\"],[0.3333333333333333,\"#9c179e\"],[0.4444444444444444,\"#bd3786\"],[0.5555555555555556,\"#d8576b\"],[0.6666666666666666,\"#ed7953\"],[0.7777777777777778,\"#fb9f3a\"],[0.8888888888888888,\"#fdca26\"],[1.0,\"#f0f921\"]]}],\"contourcarpet\":[{\"type\":\"contourcarpet\",\"colorbar\":{\"outlinewidth\":0,\"ticks\":\"\"}}],\"contour\":[{\"type\":\"contour\",\"colorbar\":{\"outlinewidth\":0,\"ticks\":\"\"},\"colorscale\":[[0.0,\"#0d0887\"],[0.1111111111111111,\"#46039f\"],[0.2222222222222222,\"#7201a8\"],[0.3333333333333333,\"#9c179e\"],[0.4444444444444444,\"#bd3786\"],[0.5555555555555556,\"#d8576b\"],[0.6666666666666666,\"#ed7953\"],[0.7777777777777778,\"#fb9f3a\"],[0.8888888888888888,\"#fdca26\"],[1.0,\"#f0f921\"]]}],\"surface\":[{\"type\":\"surface\",\"colorbar\":{\"outlinewidth\":0,\"ticks\":\"\"},\"colorscale\":[[0.0,\"#0d0887\"],[0.1111111111111111,\"#46039f\"],[0.2222222222222222,\"#7201a8\"],[0.3333333333333333,\"#9c179e\"],[0.4444444444444444,\"#bd3786\"],[0.5555555555555556,\"#d8576b\"],[0.6666666666666666,\"#ed7953\"],[0.7777777777777778,\"#fb9f3a\"],[0.8888888888888888,\"#fdca26\"],[1.0,\"#f0f921\"]]}],\"mesh3d\":[{\"type\":\"mesh3d\",\"colorbar\":{\"outlinewidth\":0,\"ticks\":\"\"}}],\"scatter\":[{\"fillpattern\":{\"fillmode\":\"overlay\",\"size\":10,\"solidity\":0.2},\"type\":\"scatter\"}],\"parcoords\":[{\"type\":\"parcoords\",\"line\":{\"colorbar\":{\"outlinewidth\":0,\"ticks\":\"\"}}}],\"scatterpolargl\":[{\"type\":\"scatterpolargl\",\"marker\":{\"colorbar\":{\"outlinewidth\":0,\"ticks\":\"\"}}}],\"bar\":[{\"error_x\":{\"color\":\"#2a3f5f\"},\"error_y\":{\"color\":\"#2a3f5f\"},\"marker\":{\"line\":{\"color\":\"#E5ECF6\",\"width\":0.5},\"pattern\":{\"fillmode\":\"overlay\",\"size\":10,\"solidity\":0.2}},\"type\":\"bar\"}],\"scattergeo\":[{\"type\":\"scattergeo\",\"marker\":{\"colorbar\":{\"outlinewidth\":0,\"ticks\":\"\"}}}],\"scatterpolar\":[{\"type\":\"scatterpolar\",\"marker\":{\"colorbar\":{\"outlinewidth\":0,\"ticks\":\"\"}}}],\"histogram\":[{\"marker\":{\"pattern\":{\"fillmode\":\"overlay\",\"size\":10,\"solidity\":0.2}},\"type\":\"histogram\"}],\"scattergl\":[{\"type\":\"scattergl\",\"marker\":{\"colorbar\":{\"outlinewidth\":0,\"ticks\":\"\"}}}],\"scatter3d\":[{\"type\":\"scatter3d\",\"line\":{\"colorbar\":{\"outlinewidth\":0,\"ticks\":\"\"}},\"marker\":{\"colorbar\":{\"outlinewidth\":0,\"ticks\":\"\"}}}],\"scattermapbox\":[{\"type\":\"scattermapbox\",\"marker\":{\"colorbar\":{\"outlinewidth\":0,\"ticks\":\"\"}}}],\"scatterternary\":[{\"type\":\"scatterternary\",\"marker\":{\"colorbar\":{\"outlinewidth\":0,\"ticks\":\"\"}}}],\"scattercarpet\":[{\"type\":\"scattercarpet\",\"marker\":{\"colorbar\":{\"outlinewidth\":0,\"ticks\":\"\"}}}],\"carpet\":[{\"aaxis\":{\"endlinecolor\":\"#2a3f5f\",\"gridcolor\":\"white\",\"linecolor\":\"white\",\"minorgridcolor\":\"white\",\"startlinecolor\":\"#2a3f5f\"},\"baxis\":{\"endlinecolor\":\"#2a3f5f\",\"gridcolor\":\"white\",\"linecolor\":\"white\",\"minorgridcolor\":\"white\",\"startlinecolor\":\"#2a3f5f\"},\"type\":\"carpet\"}],\"table\":[{\"cells\":{\"fill\":{\"color\":\"#EBF0F8\"},\"line\":{\"color\":\"white\"}},\"header\":{\"fill\":{\"color\":\"#C8D4E3\"},\"line\":{\"color\":\"white\"}},\"type\":\"table\"}],\"barpolar\":[{\"marker\":{\"line\":{\"color\":\"#E5ECF6\",\"width\":0.5},\"pattern\":{\"fillmode\":\"overlay\",\"size\":10,\"solidity\":0.2}},\"type\":\"barpolar\"}],\"pie\":[{\"automargin\":true,\"type\":\"pie\"}]},\"layout\":{\"autotypenumbers\":\"strict\",\"colorway\":[\"#636efa\",\"#EF553B\",\"#00cc96\",\"#ab63fa\",\"#FFA15A\",\"#19d3f3\",\"#FF6692\",\"#B6E880\",\"#FF97FF\",\"#FECB52\"],\"font\":{\"color\":\"#2a3f5f\"},\"hovermode\":\"closest\",\"hoverlabel\":{\"align\":\"left\"},\"paper_bgcolor\":\"white\",\"plot_bgcolor\":\"#E5ECF6\",\"polar\":{\"bgcolor\":\"#E5ECF6\",\"angularaxis\":{\"gridcolor\":\"white\",\"linecolor\":\"white\",\"ticks\":\"\"},\"radialaxis\":{\"gridcolor\":\"white\",\"linecolor\":\"white\",\"ticks\":\"\"}},\"ternary\":{\"bgcolor\":\"#E5ECF6\",\"aaxis\":{\"gridcolor\":\"white\",\"linecolor\":\"white\",\"ticks\":\"\"},\"baxis\":{\"gridcolor\":\"white\",\"linecolor\":\"white\",\"ticks\":\"\"},\"caxis\":{\"gridcolor\":\"white\",\"linecolor\":\"white\",\"ticks\":\"\"}},\"coloraxis\":{\"colorbar\":{\"outlinewidth\":0,\"ticks\":\"\"}},\"colorscale\":{\"sequential\":[[0.0,\"#0d0887\"],[0.1111111111111111,\"#46039f\"],[0.2222222222222222,\"#7201a8\"],[0.3333333333333333,\"#9c179e\"],[0.4444444444444444,\"#bd3786\"],[0.5555555555555556,\"#d8576b\"],[0.6666666666666666,\"#ed7953\"],[0.7777777777777778,\"#fb9f3a\"],[0.8888888888888888,\"#fdca26\"],[1.0,\"#f0f921\"]],\"sequentialminus\":[[0.0,\"#0d0887\"],[0.1111111111111111,\"#46039f\"],[0.2222222222222222,\"#7201a8\"],[0.3333333333333333,\"#9c179e\"],[0.4444444444444444,\"#bd3786\"],[0.5555555555555556,\"#d8576b\"],[0.6666666666666666,\"#ed7953\"],[0.7777777777777778,\"#fb9f3a\"],[0.8888888888888888,\"#fdca26\"],[1.0,\"#f0f921\"]],\"diverging\":[[0,\"#8e0152\"],[0.1,\"#c51b7d\"],[0.2,\"#de77ae\"],[0.3,\"#f1b6da\"],[0.4,\"#fde0ef\"],[0.5,\"#f7f7f7\"],[0.6,\"#e6f5d0\"],[0.7,\"#b8e186\"],[0.8,\"#7fbc41\"],[0.9,\"#4d9221\"],[1,\"#276419\"]]},\"xaxis\":{\"gridcolor\":\"white\",\"linecolor\":\"white\",\"ticks\":\"\",\"title\":{\"standoff\":15},\"zerolinecolor\":\"white\",\"automargin\":true,\"zerolinewidth\":2},\"yaxis\":{\"gridcolor\":\"white\",\"linecolor\":\"white\",\"ticks\":\"\",\"title\":{\"standoff\":15},\"zerolinecolor\":\"white\",\"automargin\":true,\"zerolinewidth\":2},\"scene\":{\"xaxis\":{\"backgroundcolor\":\"#E5ECF6\",\"gridcolor\":\"white\",\"linecolor\":\"white\",\"showbackground\":true,\"ticks\":\"\",\"zerolinecolor\":\"white\",\"gridwidth\":2},\"yaxis\":{\"backgroundcolor\":\"#E5ECF6\",\"gridcolor\":\"white\",\"linecolor\":\"white\",\"showbackground\":true,\"ticks\":\"\",\"zerolinecolor\":\"white\",\"gridwidth\":2},\"zaxis\":{\"backgroundcolor\":\"#E5ECF6\",\"gridcolor\":\"white\",\"linecolor\":\"white\",\"showbackground\":true,\"ticks\":\"\",\"zerolinecolor\":\"white\",\"gridwidth\":2}},\"shapedefaults\":{\"line\":{\"color\":\"#2a3f5f\"}},\"annotationdefaults\":{\"arrowcolor\":\"#2a3f5f\",\"arrowhead\":0,\"arrowwidth\":1},\"geo\":{\"bgcolor\":\"white\",\"landcolor\":\"#E5ECF6\",\"subunitcolor\":\"white\",\"showland\":true,\"showlakes\":true,\"lakecolor\":\"white\"},\"title\":{\"x\":0.05},\"mapbox\":{\"style\":\"light\"}}},\"scene\":{\"domain\":{\"x\":[0.0,1.0],\"y\":[0.0,1.0]},\"xaxis\":{\"title\":{\"text\":\"x\"}},\"yaxis\":{\"title\":{\"text\":\"y\"}},\"zaxis\":{\"title\":{\"text\":\"z\"}}},\"legend\":{\"title\":{\"text\":\"modelo\"},\"tracegroupgap\":0},\"title\":{\"text\":\"t-SNE 3D — Word2Vec vs. GloVe\"}},                        {\"responsive\": true}                    ).then(function(){\n",
              "                            \n",
              "var gd = document.getElementById('6de21989-8d02-4b30-b177-371a4d95976e');\n",
              "var x = new MutationObserver(function (mutations, observer) {{\n",
              "        var display = window.getComputedStyle(gd).display;\n",
              "        if (!display || display === 'none') {{\n",
              "            console.log([gd, 'removed!']);\n",
              "            Plotly.purge(gd);\n",
              "            observer.disconnect();\n",
              "        }}\n",
              "}});\n",
              "\n",
              "// Listen for the removal of the full notebook cells\n",
              "var notebookContainer = gd.closest('#notebook-container');\n",
              "if (notebookContainer) {{\n",
              "    x.observe(notebookContainer, {childList: true});\n",
              "}}\n",
              "\n",
              "// Listen for the clearing of the current output cell\n",
              "var outputEl = gd.closest('.output');\n",
              "if (outputEl) {{\n",
              "    x.observe(outputEl, {childList: true});\n",
              "}}\n",
              "\n",
              "                        })                };                            </script>        </div>\n",
              "</body>\n",
              "</html>"
            ]
          },
          "metadata": {}
        }
      ]
    },
    {
      "cell_type": "markdown",
      "id": "G6-RrjwuxYEw",
      "metadata": {
        "id": "G6-RrjwuxYEw"
      },
      "source": [
        "***\n",
        "\n",
        "# 4. Desarrollo del modelo RNN"
      ]
    },
    {
      "cell_type": "markdown",
      "source": [
        "***\n",
        "\n",
        "## 4.1. Hiperparámetros, partición y *DataLoaders*\n",
        "\n",
        "Se crea un **`IMDBDataset`** que toma cada reseña del **`DataFrame`**, la limpia, la tokeniza, la codifica a **`max_len`** índices con **`padding`** y entrega la pareja tensor entero + etiqueta flotante , lista para **`nn.BCELoss`**. Con una semilla fija se divide el conjunto en **`80 %, 10 %, 10 %`** (entrenamiento, validación y prueba) y cada segmento se coloca en un **`DataLoader`** de lote 64, barajado solo en entrenamiento."
      ],
      "metadata": {
        "id": "wqy-xlwJ2zMS"
      },
      "id": "wqy-xlwJ2zMS"
    },
    {
      "cell_type": "code",
      "source": [
        "# 1) Updated Dataset returns (seq, length, label)\n",
        "class IMDBDataset(Dataset):\n",
        "    def __init__(self, df, max_len):\n",
        "        self.texts   = df['text'].tolist()\n",
        "        self.labels  = df['label'].astype(int).tolist()\n",
        "        self.max_len = max_len\n",
        "\n",
        "    def __len__(self):\n",
        "        return len(self.texts)\n",
        "\n",
        "    def __getitem__(self, i):\n",
        "        toks = clean_and_tokenize(self.texts[i])\n",
        "        toks = ['<SOS>'] + toks + ['<EOS>']\n",
        "        seq  = encode(toks, self.max_len)\n",
        "        length = min(len(toks), self.max_len)\n",
        "        return (\n",
        "            torch.tensor(seq, dtype=torch.long),\n",
        "            torch.tensor(length, dtype=torch.long),\n",
        "            torch.tensor(self.labels[i], dtype=torch.float32)\n",
        "        )"
      ],
      "metadata": {
        "id": "syOX51ok8o55"
      },
      "id": "syOX51ok8o55",
      "execution_count": 26,
      "outputs": []
    },
    {
      "cell_type": "code",
      "source": [
        "# 2) Custom collate_fn to pad & sort by length\n",
        "def collate_batch(batch):\n",
        "    \"\"\"\n",
        "    batch: list of (seq_tensor, length_tensor, label_tensor)\n",
        "    Returns: padded_seqs, lengths, labels (all tensors, sorted by descending lengths)\n",
        "    \"\"\"\n",
        "    seqs, lengths, labels = zip(*batch)\n",
        "\n",
        "    # Stack lengths & labels\n",
        "    lengths = torch.stack(lengths)\n",
        "    labels  = torch.stack(labels)\n",
        "\n",
        "    # Pad sequences to the max length in this batch\n",
        "    padded_seqs = pad_sequence(seqs, batch_first=True, padding_value=vocab['<PAD>'])\n",
        "\n",
        "    # Sort by descending length\n",
        "    lengths, perm_idx = lengths.sort(descending=True)\n",
        "    padded_seqs = padded_seqs[perm_idx]\n",
        "    labels      = labels[perm_idx]\n",
        "\n",
        "    return padded_seqs, lengths, labels"
      ],
      "metadata": {
        "id": "GcSWBpd9EKBe"
      },
      "id": "GcSWBpd9EKBe",
      "execution_count": 27,
      "outputs": []
    },
    {
      "cell_type": "code",
      "source": [
        "def token_lengths_df(X):\n",
        "  # Obtener lengths de cada review tokenizado\n",
        "  token_lengths = X['text'].apply(lambda x: len(clean_and_tokenize(x)))\n",
        "\n",
        "  # Bins y labels\n",
        "  bins = [0, 100, 200, 300, 400, 500, 600, float('inf')]\n",
        "  bins_labels = ['<100', '100-199', '200-299', '300-399', '400-499', '500-599', '>=600']\n",
        "\n",
        "  # Intervalos discretos\n",
        "  intervalos = pd.cut(token_lengths, bins=bins, labels=bins_labels, right=False)\n",
        "  porcentajes = intervalos.value_counts(normalize=True).sort_index() * 100\n",
        "\n",
        "  # DataFrame resumen\n",
        "  df_stats = pd.DataFrame({'Bin': porcentajes.index, '% de reviews': porcentajes.values})\n",
        "  return df_stats"
      ],
      "metadata": {
        "id": "HQPPWLFi_jh5"
      },
      "id": "HQPPWLFi_jh5",
      "execution_count": 28,
      "outputs": []
    },
    {
      "cell_type": "code",
      "source": [
        "token_lengths_df(data)"
      ],
      "metadata": {
        "id": "_u18vOwIJ0W2",
        "outputId": "8a134c1c-758f-44bf-d93b-7f2bac91d158",
        "colab": {
          "base_uri": "https://localhost:8080/",
          "height": 269
        }
      },
      "id": "_u18vOwIJ0W2",
      "execution_count": 29,
      "outputs": [
        {
          "output_type": "execute_result",
          "data": {
            "text/plain": [
              "       Bin  % de reviews\n",
              "0     <100     53.948594\n",
              "1  100-199     30.455907\n",
              "2  200-299      9.420235\n",
              "3  300-399      3.637691\n",
              "4  400-499      1.704302\n",
              "5  500-599      0.742643\n",
              "6    >=600      0.090628"
            ],
            "text/html": [
              "\n",
              "  <div id=\"df-08cc1a48-2601-4439-81b8-029e42f393f0\" class=\"colab-df-container\">\n",
              "    <div>\n",
              "<style scoped>\n",
              "    .dataframe tbody tr th:only-of-type {\n",
              "        vertical-align: middle;\n",
              "    }\n",
              "\n",
              "    .dataframe tbody tr th {\n",
              "        vertical-align: top;\n",
              "    }\n",
              "\n",
              "    .dataframe thead th {\n",
              "        text-align: right;\n",
              "    }\n",
              "</style>\n",
              "<table border=\"1\" class=\"dataframe\">\n",
              "  <thead>\n",
              "    <tr style=\"text-align: right;\">\n",
              "      <th></th>\n",
              "      <th>Bin</th>\n",
              "      <th>% de reviews</th>\n",
              "    </tr>\n",
              "  </thead>\n",
              "  <tbody>\n",
              "    <tr>\n",
              "      <th>0</th>\n",
              "      <td>&lt;100</td>\n",
              "      <td>53.948594</td>\n",
              "    </tr>\n",
              "    <tr>\n",
              "      <th>1</th>\n",
              "      <td>100-199</td>\n",
              "      <td>30.455907</td>\n",
              "    </tr>\n",
              "    <tr>\n",
              "      <th>2</th>\n",
              "      <td>200-299</td>\n",
              "      <td>9.420235</td>\n",
              "    </tr>\n",
              "    <tr>\n",
              "      <th>3</th>\n",
              "      <td>300-399</td>\n",
              "      <td>3.637691</td>\n",
              "    </tr>\n",
              "    <tr>\n",
              "      <th>4</th>\n",
              "      <td>400-499</td>\n",
              "      <td>1.704302</td>\n",
              "    </tr>\n",
              "    <tr>\n",
              "      <th>5</th>\n",
              "      <td>500-599</td>\n",
              "      <td>0.742643</td>\n",
              "    </tr>\n",
              "    <tr>\n",
              "      <th>6</th>\n",
              "      <td>&gt;=600</td>\n",
              "      <td>0.090628</td>\n",
              "    </tr>\n",
              "  </tbody>\n",
              "</table>\n",
              "</div>\n",
              "    <div class=\"colab-df-buttons\">\n",
              "\n",
              "  <div class=\"colab-df-container\">\n",
              "    <button class=\"colab-df-convert\" onclick=\"convertToInteractive('df-08cc1a48-2601-4439-81b8-029e42f393f0')\"\n",
              "            title=\"Convert this dataframe to an interactive table.\"\n",
              "            style=\"display:none;\">\n",
              "\n",
              "  <svg xmlns=\"http://www.w3.org/2000/svg\" height=\"24px\" viewBox=\"0 -960 960 960\">\n",
              "    <path d=\"M120-120v-720h720v720H120Zm60-500h600v-160H180v160Zm220 220h160v-160H400v160Zm0 220h160v-160H400v160ZM180-400h160v-160H180v160Zm440 0h160v-160H620v160ZM180-180h160v-160H180v160Zm440 0h160v-160H620v160Z\"/>\n",
              "  </svg>\n",
              "    </button>\n",
              "\n",
              "  <style>\n",
              "    .colab-df-container {\n",
              "      display:flex;\n",
              "      gap: 12px;\n",
              "    }\n",
              "\n",
              "    .colab-df-convert {\n",
              "      background-color: #E8F0FE;\n",
              "      border: none;\n",
              "      border-radius: 50%;\n",
              "      cursor: pointer;\n",
              "      display: none;\n",
              "      fill: #1967D2;\n",
              "      height: 32px;\n",
              "      padding: 0 0 0 0;\n",
              "      width: 32px;\n",
              "    }\n",
              "\n",
              "    .colab-df-convert:hover {\n",
              "      background-color: #E2EBFA;\n",
              "      box-shadow: 0px 1px 2px rgba(60, 64, 67, 0.3), 0px 1px 3px 1px rgba(60, 64, 67, 0.15);\n",
              "      fill: #174EA6;\n",
              "    }\n",
              "\n",
              "    .colab-df-buttons div {\n",
              "      margin-bottom: 4px;\n",
              "    }\n",
              "\n",
              "    [theme=dark] .colab-df-convert {\n",
              "      background-color: #3B4455;\n",
              "      fill: #D2E3FC;\n",
              "    }\n",
              "\n",
              "    [theme=dark] .colab-df-convert:hover {\n",
              "      background-color: #434B5C;\n",
              "      box-shadow: 0px 1px 3px 1px rgba(0, 0, 0, 0.15);\n",
              "      filter: drop-shadow(0px 1px 2px rgba(0, 0, 0, 0.3));\n",
              "      fill: #FFFFFF;\n",
              "    }\n",
              "  </style>\n",
              "\n",
              "    <script>\n",
              "      const buttonEl =\n",
              "        document.querySelector('#df-08cc1a48-2601-4439-81b8-029e42f393f0 button.colab-df-convert');\n",
              "      buttonEl.style.display =\n",
              "        google.colab.kernel.accessAllowed ? 'block' : 'none';\n",
              "\n",
              "      async function convertToInteractive(key) {\n",
              "        const element = document.querySelector('#df-08cc1a48-2601-4439-81b8-029e42f393f0');\n",
              "        const dataTable =\n",
              "          await google.colab.kernel.invokeFunction('convertToInteractive',\n",
              "                                                    [key], {});\n",
              "        if (!dataTable) return;\n",
              "\n",
              "        const docLinkHtml = 'Like what you see? Visit the ' +\n",
              "          '<a target=\"_blank\" href=https://colab.research.google.com/notebooks/data_table.ipynb>data table notebook</a>'\n",
              "          + ' to learn more about interactive tables.';\n",
              "        element.innerHTML = '';\n",
              "        dataTable['output_type'] = 'display_data';\n",
              "        await google.colab.output.renderOutput(dataTable, element);\n",
              "        const docLink = document.createElement('div');\n",
              "        docLink.innerHTML = docLinkHtml;\n",
              "        element.appendChild(docLink);\n",
              "      }\n",
              "    </script>\n",
              "  </div>\n",
              "\n",
              "\n",
              "    <div id=\"df-fa1f1fd9-5850-434a-a860-1c28c6add1e1\">\n",
              "      <button class=\"colab-df-quickchart\" onclick=\"quickchart('df-fa1f1fd9-5850-434a-a860-1c28c6add1e1')\"\n",
              "                title=\"Suggest charts\"\n",
              "                style=\"display:none;\">\n",
              "\n",
              "<svg xmlns=\"http://www.w3.org/2000/svg\" height=\"24px\"viewBox=\"0 0 24 24\"\n",
              "     width=\"24px\">\n",
              "    <g>\n",
              "        <path d=\"M19 3H5c-1.1 0-2 .9-2 2v14c0 1.1.9 2 2 2h14c1.1 0 2-.9 2-2V5c0-1.1-.9-2-2-2zM9 17H7v-7h2v7zm4 0h-2V7h2v10zm4 0h-2v-4h2v4z\"/>\n",
              "    </g>\n",
              "</svg>\n",
              "      </button>\n",
              "\n",
              "<style>\n",
              "  .colab-df-quickchart {\n",
              "      --bg-color: #E8F0FE;\n",
              "      --fill-color: #1967D2;\n",
              "      --hover-bg-color: #E2EBFA;\n",
              "      --hover-fill-color: #174EA6;\n",
              "      --disabled-fill-color: #AAA;\n",
              "      --disabled-bg-color: #DDD;\n",
              "  }\n",
              "\n",
              "  [theme=dark] .colab-df-quickchart {\n",
              "      --bg-color: #3B4455;\n",
              "      --fill-color: #D2E3FC;\n",
              "      --hover-bg-color: #434B5C;\n",
              "      --hover-fill-color: #FFFFFF;\n",
              "      --disabled-bg-color: #3B4455;\n",
              "      --disabled-fill-color: #666;\n",
              "  }\n",
              "\n",
              "  .colab-df-quickchart {\n",
              "    background-color: var(--bg-color);\n",
              "    border: none;\n",
              "    border-radius: 50%;\n",
              "    cursor: pointer;\n",
              "    display: none;\n",
              "    fill: var(--fill-color);\n",
              "    height: 32px;\n",
              "    padding: 0;\n",
              "    width: 32px;\n",
              "  }\n",
              "\n",
              "  .colab-df-quickchart:hover {\n",
              "    background-color: var(--hover-bg-color);\n",
              "    box-shadow: 0 1px 2px rgba(60, 64, 67, 0.3), 0 1px 3px 1px rgba(60, 64, 67, 0.15);\n",
              "    fill: var(--button-hover-fill-color);\n",
              "  }\n",
              "\n",
              "  .colab-df-quickchart-complete:disabled,\n",
              "  .colab-df-quickchart-complete:disabled:hover {\n",
              "    background-color: var(--disabled-bg-color);\n",
              "    fill: var(--disabled-fill-color);\n",
              "    box-shadow: none;\n",
              "  }\n",
              "\n",
              "  .colab-df-spinner {\n",
              "    border: 2px solid var(--fill-color);\n",
              "    border-color: transparent;\n",
              "    border-bottom-color: var(--fill-color);\n",
              "    animation:\n",
              "      spin 1s steps(1) infinite;\n",
              "  }\n",
              "\n",
              "  @keyframes spin {\n",
              "    0% {\n",
              "      border-color: transparent;\n",
              "      border-bottom-color: var(--fill-color);\n",
              "      border-left-color: var(--fill-color);\n",
              "    }\n",
              "    20% {\n",
              "      border-color: transparent;\n",
              "      border-left-color: var(--fill-color);\n",
              "      border-top-color: var(--fill-color);\n",
              "    }\n",
              "    30% {\n",
              "      border-color: transparent;\n",
              "      border-left-color: var(--fill-color);\n",
              "      border-top-color: var(--fill-color);\n",
              "      border-right-color: var(--fill-color);\n",
              "    }\n",
              "    40% {\n",
              "      border-color: transparent;\n",
              "      border-right-color: var(--fill-color);\n",
              "      border-top-color: var(--fill-color);\n",
              "    }\n",
              "    60% {\n",
              "      border-color: transparent;\n",
              "      border-right-color: var(--fill-color);\n",
              "    }\n",
              "    80% {\n",
              "      border-color: transparent;\n",
              "      border-right-color: var(--fill-color);\n",
              "      border-bottom-color: var(--fill-color);\n",
              "    }\n",
              "    90% {\n",
              "      border-color: transparent;\n",
              "      border-bottom-color: var(--fill-color);\n",
              "    }\n",
              "  }\n",
              "</style>\n",
              "\n",
              "      <script>\n",
              "        async function quickchart(key) {\n",
              "          const quickchartButtonEl =\n",
              "            document.querySelector('#' + key + ' button');\n",
              "          quickchartButtonEl.disabled = true;  // To prevent multiple clicks.\n",
              "          quickchartButtonEl.classList.add('colab-df-spinner');\n",
              "          try {\n",
              "            const charts = await google.colab.kernel.invokeFunction(\n",
              "                'suggestCharts', [key], {});\n",
              "          } catch (error) {\n",
              "            console.error('Error during call to suggestCharts:', error);\n",
              "          }\n",
              "          quickchartButtonEl.classList.remove('colab-df-spinner');\n",
              "          quickchartButtonEl.classList.add('colab-df-quickchart-complete');\n",
              "        }\n",
              "        (() => {\n",
              "          let quickchartButtonEl =\n",
              "            document.querySelector('#df-fa1f1fd9-5850-434a-a860-1c28c6add1e1 button');\n",
              "          quickchartButtonEl.style.display =\n",
              "            google.colab.kernel.accessAllowed ? 'block' : 'none';\n",
              "        })();\n",
              "      </script>\n",
              "    </div>\n",
              "\n",
              "    </div>\n",
              "  </div>\n"
            ],
            "application/vnd.google.colaboratory.intrinsic+json": {
              "type": "dataframe",
              "summary": "{\n  \"name\": \"token_lengths_df(data)\",\n  \"rows\": 7,\n  \"fields\": [\n    {\n      \"column\": \"Bin\",\n      \"properties\": {\n        \"dtype\": \"category\",\n        \"num_unique_values\": 7,\n        \"samples\": [\n          \"<100\",\n          \"100-199\",\n          \"500-599\"\n        ],\n        \"semantic_type\": \"\",\n        \"description\": \"\"\n      }\n    },\n    {\n      \"column\": \"% de reviews\",\n      \"properties\": {\n        \"dtype\": \"number\",\n        \"std\": 20.47307032821012,\n        \"min\": 0.09062759610301337,\n        \"max\": 53.9485940135438,\n        \"num_unique_values\": 7,\n        \"samples\": [\n          53.9485940135438,\n          30.45590715706266,\n          0.742642801399693\n        ],\n        \"semantic_type\": \"\",\n        \"description\": \"\"\n      }\n    }\n  ]\n}"
            }
          },
          "metadata": {},
          "execution_count": 29
        }
      ]
    },
    {
      "cell_type": "code",
      "source": [
        "# 3) Create Dataset and DataLoaders with collate_fn\n",
        "ds = IMDBDataset(data, max_len=300)\n",
        "n = len(ds)\n",
        "train_ds, val_ds, test_ds = random_split(\n",
        "    ds,\n",
        "    [int(.8 * n), int(.1 * n), n - int(.9 * n)],\n",
        "    generator=torch.Generator().manual_seed(RANDOM_STATE)\n",
        ")\n",
        "\n",
        "batch_size = 64\n",
        "train_loader = DataLoader(train_ds, batch_size=batch_size, shuffle=True, collate_fn=collate_batch)\n",
        "val_loader = DataLoader(val_ds, batch_size=batch_size, shuffle=False, collate_fn=collate_batch)\n",
        "test_loader  = DataLoader(test_ds, batch_size=batch_size, shuffle=False, collate_fn=collate_batch)"
      ],
      "metadata": {
        "id": "tezvllb18tCu"
      },
      "id": "tezvllb18tCu",
      "execution_count": 30,
      "outputs": []
    },
    {
      "cell_type": "markdown",
      "source": [
        "**`SentimentRNN`**, derivada de **`Module`**, integra cuatro componentes clave en un único flujo [³]. Primero aparece la capa de *embeddings*: si se suministran **`pretrained_weights`**, estos vectores se cargan mediante **`Embedding.from_pretrained`** y pueden mantenerse fijos o descongelarse según convenga; de lo contrario, se crea un **`Embedding`** estándar con el tamaño del vocabulario. A continuación se encuentra la LSTM, configurable en dimensión oculta, número de capas y bidireccionalidad. Cuando se activa el modo bidireccional, el modelo recorre cada secuencia tanto en su orden natural como en sentido inverso, capturando dependencias de corto y largo alcance, y aplica *dropout* interno entre capas para mejorar la generalización.\n",
        "\n",
        "Tras procesar la secuencia, se conserva únicamente el último estado temporal —que ya sintetiza la información más relevante— y se le aplica un **`Dropout`** externo como medida adicional contra el sobre‑ajuste. Finalmente, una capa totalmente conectada reduce la representación a un valor escalar que **`sigmoid`** transforma en la probabilidad de que la reseña sea positiva. El método **`forward`** encadena estos pasos y devuelve el resultado aplanado con **`.squeeze`** para facilitar la comparación con la etiqueta.\n",
        "\n",
        "---\n",
        "\n",
        "La preferencia por LSTM sobre alternativas como GRU responde a tres factores complementarios. Primero, las reseñas de IMDb rondan los 200 *tokens*, por lo que las dependencias de largo plazo resultan importantes y la memoria explícita de la LSTM ofrece una ventaja. Segundo, el tamaño del corpus es lo bastante grande como para entrenar un modelo con más parámetros sin incurrir en sobre‑ajuste excesivo, especialmente con las técnicas de *dropout* ya mencionadas. Tercero y decisivo, un estudio reciente muestra que en este mismo conjunto de datos la LSTM supera consistentemente a la GRU en *accuracy*, corroborando hallazgos anteriores [⁴]. A la luz de esta evidencia y de los requisitos de desempeño del proyecto, la LSTM se presenta como la opción más sólida."
      ],
      "metadata": {
        "id": "vPRMS7KNUVmE"
      },
      "id": "vPRMS7KNUVmE"
    },
    {
      "cell_type": "code",
      "source": [
        "# class SentimentRNN(nn.Module):\n",
        "#     def __init__(self, vocab_size, emb_dim=300, hid_dim=128, n_layers=3, bidir=True, drop=0.6, pretrained_weights=None):\n",
        "#         super().__init__()\n",
        "#         #Capa de embedding\n",
        "#         if pretrained_weights is not None:\n",
        "#             self.embedding = nn.Embedding.from_pretrained(\n",
        "#                 torch.FloatTensor(pretrained_weights),\n",
        "#                 freeze=True,\n",
        "#                 padding_idx=0\n",
        "#             )\n",
        "#         else:\n",
        "#             self.embedding = nn.Embedding(vocab_size, emb_dim, padding_idx=0)\n",
        "#         # RNN\n",
        "#         self.lstm = nn.LSTM(emb_dim, hid_dim, n_layers, bidirectional=bidir, batch_first=True, dropout=drop if n_layers > 1 else 0.0)\n",
        "#         # Droput\n",
        "#         self.dropout = nn.Dropout(drop)\n",
        "#         # Red completamente conectada\n",
        "#         self.fc = nn.Linear(hid_dim*(2 if bidir else 1), 1)\n",
        "\n",
        "#     def forward(self, x):\n",
        "#         emb, _ = self.embedding(x), None\n",
        "#         out, _ = self.lstm(emb)\n",
        "#         h_last = out[:, -1, :]\n",
        "#         return torch.sigmoid(self.fc(self.dropout(h_last))).squeeze()"
      ],
      "metadata": {
        "id": "cipLcGcoKLdm"
      },
      "id": "cipLcGcoKLdm",
      "execution_count": 31,
      "outputs": []
    },
    {
      "cell_type": "code",
      "source": [
        "class SentimentRNN(nn.Module):\n",
        "    def __init__(self, vocab_size, emb_dim=300, hid_dim=256, n_layers=3, bidir=True, drop=0.5, pretrained_weights=None):\n",
        "        super().__init__()\n",
        "\n",
        "        # Embedding layer (with optional pretrained + padding)\n",
        "        if pretrained_weights is not None:\n",
        "            self.embedding = nn.Embedding.from_pretrained(\n",
        "                torch.FloatTensor(pretrained_weights),\n",
        "                freeze=True,\n",
        "                padding_idx=vocab['<PAD>']\n",
        "            )\n",
        "        else:\n",
        "            self.embedding = nn.Embedding(\n",
        "                num_embeddings=vocab_size,\n",
        "                embedding_dim=emb_dim,\n",
        "                padding_idx=vocab['<PAD>']\n",
        "            )\n",
        "\n",
        "        # LSTM\n",
        "        self.lstm = nn.LSTM(\n",
        "            input_size=emb_dim,\n",
        "            hidden_size=hid_dim,\n",
        "            num_layers=n_layers,\n",
        "            bidirectional=bidir,\n",
        "            batch_first=True,\n",
        "            dropout=drop if n_layers > 1 else 0.0\n",
        "        )\n",
        "\n",
        "        # Dropout & final FC\n",
        "        self.dropout = nn.Dropout(drop)\n",
        "        self.fc = nn.Linear(\n",
        "            in_features=hid_dim * (2 if bidir else 1),\n",
        "            out_features=1\n",
        "        )\n",
        "\n",
        "    def forward(self, x, lengths):\n",
        "        \"\"\"\n",
        "        x:       LongTensor, shape (B, T) — padded token indices\n",
        "        lengths: LongTensor, shape (B,) — true sequence lengths (<= T), sorted desc\n",
        "        \"\"\"\n",
        "        # 1) Embed\n",
        "        emb = self.embedding(x)  # (B, T, D)\n",
        "\n",
        "        # 2) Pack\n",
        "        packed = pack_padded_sequence(\n",
        "            emb,\n",
        "            lengths.cpu(),\n",
        "            batch_first=True,\n",
        "            enforce_sorted=True\n",
        "        )\n",
        "\n",
        "        # 3) LSTM\n",
        "        packed_out, _ = self.lstm(packed)\n",
        "\n",
        "        # 4) Unpack\n",
        "        out, _ = pad_packed_sequence(packed_out, batch_first=True)  # (B, T, 2H)\n",
        "\n",
        "        # 5) Gather the last valid output for each sequence\n",
        "        idx = (lengths - 1).view(-1, 1, 1).expand(-1, 1, out.size(2))\n",
        "        h_last = out.gather(1, idx).squeeze(1)  # (B, 2H)\n",
        "\n",
        "        # 6) Classifier\n",
        "        logits = self.fc(self.dropout(h_last))  # (B, 1)\n",
        "        return torch.sigmoid(logits).squeeze()  # (B,)"
      ],
      "metadata": {
        "id": "yod5PSrpEXcq"
      },
      "id": "yod5PSrpEXcq",
      "execution_count": 32,
      "outputs": []
    },
    {
      "cell_type": "markdown",
      "source": [
        "***\n",
        "\n",
        "## 4.3. Entrenamiento, validación y prueba\n",
        "\n",
        "La función **`train`** recorre las épocas alternando entrenamiento y validación, calcula pérdidas y precisiones, y registra todo en **`history`**. Al inicio se utiliza la técnica de descongelamiento progresivo [⁵] la cual  permite (i) conservar características generales útiles, (ii) adaptar con seguridad las capas superiores y (iii) mejorar la precisión sin sobre-ajustar, sobre todo en conjuntos de datos pequeños o medianos. Esta técnica se aplica a partir de la época 5 donde se llama a **`requires_grad_(True)`** y se crea un nuevo optimizador para incluir los parámetros recién liberados; esto permite fine-tuning de los vectores sin alterar la fase de arranque.\n",
        "\n",
        "Antes de cada actualización se aplica **`gradient clipping`** mediante **`clip_grad_norm_`**, limitando la norma de los gradientes a **`1.0`**; esto previene el problema de **`exploding gradients`**, que puede desestabilizar el aprendizaje al producir actualizaciones desmesuradas en los pesos, sobre todo en redes recurrentes y arquitecturas profundas [⁶]. Tras cada época se guarda el mejor modelo según la pérdida de validación y se activa **`Early Stopping`** si no hay mejora durante el número de épocas definido por **`patience`**; al finalizar, la función devuelve **`history`** para análisis posterior.\n",
        "\n",
        "Cabe resaltar que se usa Backpropagation Through Time (BPTT) la extensión del algoritmo de retropropagación estándar para redes recurrentes. En esencia, consiste en “desenrollar” la RNN a lo largo de cada paso temporal y aplicar la regla de la cadena a todo el grafo computacional resultante  [⁷]."
      ],
      "metadata": {
        "id": "oz4ZPXG44a8W"
      },
      "id": "oz4ZPXG44a8W"
    },
    {
      "cell_type": "code",
      "source": [
        "# Entrena una red para clasificación binaria con Early Stopping y gradient clipping.\n",
        "def train( model, train_loader, val_loader, epochs=10, lr=1e-3, device=\"cuda\", clip=1.0, patience=5, save_path=\"best_model.pt\"):\n",
        "\n",
        "    criterion  = nn.BCELoss()\n",
        "    #optimizer  = optim.Adam(model.parameters(), lr=lr, weight_decay=5e-5)  # <— usa el lr pasado\n",
        "    optimizer  = optim.Adam(model.parameters(), lr=lr)\n",
        "    best_val   = float(\"inf\")\n",
        "    epochs_no_imp = 0\n",
        "\n",
        "    history = {k: [] for k in (\"train_loss\", \"val_loss\", \"train_acc\", \"val_acc\")}\n",
        "\n",
        "    start_time = time.time()\n",
        "    for epoch in range(1, epochs + 1):\n",
        "        # Descongelar embeddings en la época 5\n",
        "        if epoch == 5:\n",
        "            model.embedding.weight.requires_grad_(True)\n",
        "\n",
        "            # opción simple: recrea el optimizador para que incluya la capa\n",
        "            optimizer = optim.Adam(\n",
        "                model.parameters(), lr=lr, weight_decay=1e-2\n",
        "            )\n",
        "\n",
        "        # ---------- Fase de entrenamiento ----------\n",
        "        model.train()\n",
        "        running_loss, running_corrects, total_train = 0.0, 0, 0\n",
        "\n",
        "        for x, lengths, y in train_loader:\n",
        "        #for x, y in train_loader:\n",
        "            x, lengths, y = x.to(device), lengths.to(device), y.to(device)\n",
        "            #x, y = x.to(device), y.to(device)\n",
        "            optimizer.zero_grad()\n",
        "\n",
        "            #outputs = model(x)\n",
        "            outputs = model(x, lengths)\n",
        "            loss    = criterion(outputs, y)\n",
        "            loss.backward()\n",
        "\n",
        "            nn.utils.clip_grad_norm_(model.parameters(), clip)  # gradient clipping\n",
        "            optimizer.step()\n",
        "\n",
        "            running_loss     += loss.item() * x.size(0)\n",
        "            preds             = (outputs >= 0.5).float()\n",
        "            running_corrects += (preds == y).sum().item()\n",
        "            total_train      += x.size(0)\n",
        "\n",
        "        epoch_train_loss = running_loss / total_train\n",
        "        epoch_train_acc  = running_corrects / total_train\n",
        "\n",
        "        # ---------- Fase de validación ----------\n",
        "        model.eval()\n",
        "        val_loss, val_corrects, total_val = 0.0, 0, 0\n",
        "\n",
        "        with torch.no_grad():\n",
        "            for x, lengths, y in train_loader:\n",
        "            #for x, y in val_loader:\n",
        "                x, lengths, y = x.to(device), lengths.to(device), y.to(device)\n",
        "                #x, y = x.to(device), y.to(device)\n",
        "                outputs = model(x, lengths)\n",
        "                #outputs = model(x)\n",
        "                val_loss += criterion(outputs, y).item() * x.size(0)\n",
        "\n",
        "                preds        = (outputs >= 0.5).float()\n",
        "                val_corrects += (preds == y).sum().item()\n",
        "                total_val    += x.size(0)\n",
        "\n",
        "        epoch_val_loss = val_loss / total_val\n",
        "        epoch_val_acc  = val_corrects / total_val\n",
        "\n",
        "        # ---------- Registro de métricas ----------\n",
        "        history[\"train_loss\"].append(epoch_train_loss)\n",
        "        history[\"val_loss\"].append(epoch_val_loss)\n",
        "        history[\"train_acc\"].append(epoch_train_acc)\n",
        "        history[\"val_acc\"].append(epoch_val_acc)\n",
        "\n",
        "        print(\n",
        "            f\"Epoch {epoch:02d} | \"\n",
        "            f\"Train Loss {epoch_train_loss:.4f}  Acc {epoch_train_acc:.4f} | \"\n",
        "            f\"Val Loss {epoch_val_loss:.4f}  Acc {epoch_val_acc:.4f}\"\n",
        "        )\n",
        "\n",
        "        # ---------- Early Stopping ----------\n",
        "        if epoch_val_loss < best_val:\n",
        "            best_val = epoch_val_loss\n",
        "            torch.save(model.state_dict(), save_path)\n",
        "            epochs_no_imp = 0\n",
        "        else:\n",
        "            epochs_no_imp += 1\n",
        "            if epochs_no_imp >= patience:\n",
        "                print(\"Early stopping\")\n",
        "                break\n",
        "\n",
        "    mins, secs = divmod(time.time() - start_time, 60)\n",
        "    print(f\"\\nTiempo total: {int(mins)} min {int(secs)} seg\")\n",
        "    return history"
      ],
      "metadata": {
        "id": "DVO5O3T1Kh4O"
      },
      "id": "DVO5O3T1Kh4O",
      "execution_count": 33,
      "outputs": []
    },
    {
      "cell_type": "markdown",
      "source": [
        "Se instancia **`model_w2v`** como una versión de **`SentimentRNN`** cuyos vectores de entrada provienen de un embebido **`Word2Vec`** de 300 dimensiones (**`w2v_weights`**) y se mueve al **`device`** seleccionado (GPU o CPU). Con este modelo se llama a **`train`** durante 15 épocas, una tasa de aprendizaje de **`2 × 10⁻⁴`**, *gradient clipping* y *early stopping* habilitados, utilizando los **`DataLoaders`** de entrenamiento y validación. El historial de pérdidas y precisiones se almacena en **`hist_w2v`**, mientras que los mejores pesos (según la pérdida de validación más baja) se guardan en **`best_w2v.pt`** para uso posterior."
      ],
      "metadata": {
        "id": "75G3J6o5ieVc"
      },
      "id": "75G3J6o5ieVc"
    },
    {
      "cell_type": "code",
      "source": [
        "# Word2Vec\n",
        "model_w2v = SentimentRNN(\n",
        "    vocab_size=len(vocab),\n",
        "    emb_dim=300,\n",
        "    hid_dim=256,\n",
        "    n_layers=3,\n",
        "    drop=0.5,\n",
        "    pretrained_weights=w2v_weights\n",
        ").to(device)\n",
        "\n",
        "hist_w2v = train(\n",
        "    model_w2v,\n",
        "    train_loader,\n",
        "    val_loader,\n",
        "    epochs=20,\n",
        "    lr=3e-5,\n",
        "    device=device,\n",
        "    save_path=\"best_w2v.pt\"\n",
        ")"
      ],
      "metadata": {
        "id": "ZYBhqK0KKzNt",
        "colab": {
          "base_uri": "https://localhost:8080/"
        },
        "outputId": "3f28d666-4cc8-427c-b819-41a539feb5f7"
      },
      "id": "ZYBhqK0KKzNt",
      "execution_count": 34,
      "outputs": [
        {
          "output_type": "stream",
          "name": "stdout",
          "text": [
            "Epoch 01 | Train Loss 0.6457  Acc 0.5944 | Val Loss 0.4552  Acc 0.7958\n",
            "Epoch 02 | Train Loss 0.4093  Acc 0.8214 | Val Loss 0.3813  Acc 0.8321\n",
            "Epoch 03 | Train Loss 0.3759  Acc 0.8378 | Val Loss 0.3617  Acc 0.8451\n",
            "Epoch 04 | Train Loss 0.3605  Acc 0.8452 | Val Loss 0.3540  Acc 0.8502\n",
            "Epoch 05 | Train Loss 0.3577  Acc 0.8475 | Val Loss 0.3647  Acc 0.8443\n",
            "Epoch 06 | Train Loss 0.3712  Acc 0.8425 | Val Loss 0.3768  Acc 0.8398\n",
            "Epoch 07 | Train Loss 0.3858  Acc 0.8370 | Val Loss 0.3831  Acc 0.8380\n",
            "Epoch 08 | Train Loss 0.3952  Acc 0.8324 | Val Loss 0.3960  Acc 0.8349\n",
            "Epoch 09 | Train Loss 0.4023  Acc 0.8307 | Val Loss 0.3986  Acc 0.8310\n",
            "Early stopping\n",
            "\n",
            "Tiempo total: 15 min 5 seg\n"
          ]
        }
      ]
    },
    {
      "cell_type": "code",
      "source": [
        "# GloVe\n",
        "model_glove = SentimentRNN(\n",
        "    vocab_size=len(vocab),\n",
        "    emb_dim=300,\n",
        "    hid_dim=256,\n",
        "    n_layers=3,\n",
        "    drop=0.5,\n",
        "    pretrained_weights=glove_weights\n",
        ").to(device)\n",
        "\n",
        "hist_glove = train(\n",
        "    model_glove,\n",
        "    train_loader,\n",
        "    val_loader,\n",
        "    epochs=20,\n",
        "    lr=3e-5,\n",
        "    device=device,\n",
        "    save_path=\"best_glove.pt\"\n",
        ")"
      ],
      "metadata": {
        "id": "z3HEQeuahpTZ",
        "outputId": "3c1cac73-2013-4618-b99c-8815094e6f17",
        "colab": {
          "base_uri": "https://localhost:8080/"
        }
      },
      "id": "z3HEQeuahpTZ",
      "execution_count": 35,
      "outputs": [
        {
          "output_type": "stream",
          "name": "stdout",
          "text": [
            "Epoch 01 | Train Loss 0.5766  Acc 0.6818 | Val Loss 0.4157  Acc 0.8194\n",
            "Epoch 02 | Train Loss 0.3926  Acc 0.8285 | Val Loss 0.3861  Acc 0.8402\n",
            "Epoch 03 | Train Loss 0.3663  Acc 0.8417 | Val Loss 0.3479  Acc 0.8505\n",
            "Epoch 04 | Train Loss 0.3553  Acc 0.8497 | Val Loss 0.3523  Acc 0.8499\n",
            "Epoch 05 | Train Loss 0.3512  Acc 0.8522 | Val Loss 0.3522  Acc 0.8508\n",
            "Epoch 06 | Train Loss 0.3738  Acc 0.8398 | Val Loss 0.3934  Acc 0.8283\n",
            "Epoch 07 | Train Loss 0.3887  Acc 0.8327 | Val Loss 0.3915  Acc 0.8319\n",
            "Epoch 08 | Train Loss 0.3959  Acc 0.8294 | Val Loss 0.3899  Acc 0.8342\n",
            "Early stopping\n",
            "\n",
            "Tiempo total: 13 min 22 seg\n"
          ]
        }
      ]
    },
    {
      "cell_type": "markdown",
      "id": "7JgtiyyfIyMM",
      "metadata": {
        "id": "7JgtiyyfIyMM"
      },
      "source": [
        "***\n",
        "\n",
        "\n",
        "# 5. Análisis de resultados y conclusiones\n",
        "\n",
        "Se instancia un nuevo **`SentimentRNN`** con los pesos de **`Word2Vec`** (300 dimensiones) y se envía al **`device`** detectado; a continuación se cargan los parámetros previamente entrenados desde **`best_w2v.pt`** mediante **`load_state_dict(torch.load(...))`**, dejando al modelo **`best_w2v`** listo para inferencia o evaluación sin requerir más entrenamiento."
      ]
    },
    {
      "cell_type": "code",
      "source": [
        "best_w2v = SentimentRNN(\n",
        "    vocab_size=len(vocab),   # mismo vocabulario\n",
        "    emb_dim=300,            # 300 d Word2Vec\n",
        "    hid_dim=256,            # como en el entrenamiento\n",
        "    n_layers=3,             # coincidir!\n",
        "    bidir=True,             # bidireccional\n",
        "    drop=0.5,\n",
        "    pretrained_weights=w2v_weights\n",
        ").to(device)\n",
        "best_w2v.load_state_dict(torch.load(\"best_w2v.pt\"))"
      ],
      "metadata": {
        "id": "MwXrB3ThRHcI",
        "outputId": "38f9a48e-5189-42a2-fa6e-f0b8783b03c5",
        "colab": {
          "base_uri": "https://localhost:8080/"
        }
      },
      "id": "MwXrB3ThRHcI",
      "execution_count": 36,
      "outputs": [
        {
          "output_type": "execute_result",
          "data": {
            "text/plain": [
              "<All keys matched successfully>"
            ]
          },
          "metadata": {},
          "execution_count": 36
        }
      ]
    },
    {
      "cell_type": "markdown",
      "source": [
        "Se define la función **`plot_history`** que recibe el diccionario **`history`** y crea dos gráficos de línea con **`matplotlib`**: el primero compara **`train_loss`** y **`val_loss`** por época, y el segundo hace lo mismo con **`train_acc`** y **`val_acc`**."
      ],
      "metadata": {
        "id": "Ty3gzWEui8xK"
      },
      "id": "Ty3gzWEui8xK"
    },
    {
      "cell_type": "code",
      "source": [
        "def plot_history(history):\n",
        "    epochs = range(1, len(history['train_loss']) + 1)\n",
        "\n",
        "    # Pérdidas\n",
        "    plt.figure(figsize=(8,4))\n",
        "    plt.plot(epochs, history['train_loss'], label='Train Loss')\n",
        "    plt.plot(epochs, history['val_loss'],   label='Val Loss')\n",
        "    plt.xlabel('Epoch')\n",
        "    plt.ylabel('Loss')\n",
        "    plt.title('Training vs Validation Loss')\n",
        "    plt.legend()\n",
        "    plt.tight_layout()\n",
        "    plt.show()\n",
        "\n",
        "    # Exactitudes\n",
        "    plt.figure(figsize=(8,4))\n",
        "    plt.plot(epochs, history['train_acc'], label='Train Acc')\n",
        "    plt.plot(epochs, history['val_acc'],   label='Val Acc')\n",
        "    plt.xlabel('Epoch')\n",
        "    plt.ylabel('Accuracy')\n",
        "    plt.title('Training vs Validation Accuracy')\n",
        "    plt.legend()\n",
        "    plt.tight_layout()\n",
        "    plt.show()"
      ],
      "metadata": {
        "id": "d4PT-Gz1Y9Mh"
      },
      "id": "d4PT-Gz1Y9Mh",
      "execution_count": 37,
      "outputs": []
    },
    {
      "cell_type": "code",
      "source": [
        "plot_history(hist_w2v)"
      ],
      "metadata": {
        "id": "hkHiJTa-ZAFC",
        "outputId": "5fec5ef5-f39e-4717-ddab-a3efe6619c94",
        "colab": {
          "base_uri": "https://localhost:8080/",
          "height": 797
        }
      },
      "id": "hkHiJTa-ZAFC",
      "execution_count": 38,
      "outputs": [
        {
          "output_type": "display_data",
          "data": {
            "text/plain": [
              "<Figure size 800x400 with 1 Axes>"
            ],
            "image/png": "[encoded data removed]"
          },
          "metadata": {}
        },
        {
          "output_type": "display_data",
          "data": {
            "text/plain": [
              "<Figure size 800x400 with 1 Axes>"
            ],
            "image/png": "[encoded data removed]"
          },
          "metadata": {}
        }
      ]
    },
    {
      "cell_type": "markdown",
      "source": [
        "El gráfico muestra cómo la pérdida de entrenamiento (**`Train Loss`**) desciende de manera casi monótona, mientras que la pérdida de validación (**`Val Loss`**) baja lentamente hasta la época 5, oscila con un pico pronunciado en la época 9 y alcanza su mínimo en la 10, punto en el que se reduce la brecha entre ambas curvas. A partir de ahí la **`Train Loss`** sigue disminuyendo, pero la **`Val Loss`** se estabiliza y vuelve a subir levemente, señal de sobreajuste. El uso de *early stopping* detuvo el entrenamiento cerca del óptimo de validación, evitando que el modelo se desvíe; sin embargo, la variabilidad previa sugiere que podrían mejorarse la regularización (más **`dropout`** o **`weight decay`**) o la diversidad de datos para lograr curvas de validación más suaves y una convergencia más estable."
      ],
      "metadata": {
        "id": "qJZ_NDzdjQ7G"
      },
      "id": "qJZ_NDzdjQ7G"
    },
    {
      "cell_type": "markdown",
      "source": [
        "Se cargan los pesos óptimos en **`model_w2v`** con **`load_state_dict`** y se cambia a modo evaluación mediante **`eval()`** para desactivar **`dropout`** y el cálculo de gradientes. A continuación se recorre el **`test_loader`** sin seguimiento de gradiente (**`torch.no_grad()`**); cada lote se envía al **`device`**, se obtiene la probabilidad de clase positiva, se aplica un umbral de **`0.5`** para convertirla en etiqueta binaria y se acumulan predicciones (**`y_pred`**) y verdaderos (**`y_true`**). Finalmente se calculan cuatro métricas de rendimiento: **`accuracy_score`** (proporción de aciertos globales), **`recall_score`** (sensibilidad hacia la clase positiva), **`f1_score`** (promedio armónico entre precisión y _recall_) y **`confusion_matrix`** (tabla de errores y aciertos), proporcionando una visión cuantitativa de la capacidad generalizadora del modelo entrenado."
      ],
      "metadata": {
        "id": "We4fOjKpj4_8"
      },
      "id": "We4fOjKpj4_8"
    },
    {
      "cell_type": "code",
      "source": [
        "model_w2v.load_state_dict(torch.load('best_w2v.pt'))\n",
        "model_w2v.eval()\n",
        "\n",
        "y_true, y_pred = [], []\n",
        "\n",
        "model_w2v.load_state_dict(torch.load('best_w2v.pt'))\n",
        "model_w2v.eval()\n",
        "\n",
        "with torch.no_grad():\n",
        "    for x, lengths, y in test_loader:\n",
        "        # 1) Mover a device\n",
        "        x       = x.to(device)\n",
        "        lengths = lengths.to(device)\n",
        "        # 2) Forward (recuerda el segundo argumento)\n",
        "        probs = model_w2v(x, lengths)\n",
        "        # 3) Umbral y CPU\n",
        "        preds = (probs.cpu().numpy() >= 0.5).astype(int)\n",
        "        # 4) Acumular\n",
        "        y_pred.extend(preds.tolist())\n",
        "        y_true.extend(y.numpy().astype(int).tolist())\n",
        "\n",
        "print(\"Accuracy:\", accuracy_score(y_true, y_pred))\n",
        "print(\"Recall:\",   recall_score(y_true, y_pred))\n",
        "print(\"F1-score:\", f1_score(y_true, y_pred))\n",
        "print(\"Confusion Matrix:\\n\", confusion_matrix(y_true, y_pred))"
      ],
      "metadata": {
        "id": "QI42wZnGNDhC",
        "outputId": "fbdc2bb1-d1e2-446d-d501-7d5a95c6c55e",
        "colab": {
          "base_uri": "https://localhost:8080/"
        }
      },
      "id": "QI42wZnGNDhC",
      "execution_count": 39,
      "outputs": [
        {
          "output_type": "stream",
          "name": "stdout",
          "text": [
            "Accuracy: 0.8414296501384344\n",
            "Recall: 0.8180909545227386\n",
            "F1-score: 0.8386270491803278\n",
            "Confusion Matrix:\n",
            " [[1706  266]\n",
            " [ 364 1637]]\n"
          ]
        }
      ]
    },
    {
      "cell_type": "code",
      "source": [
        "cm      = confusion_matrix(y_true, y_pred)\n",
        "class_names = ['Negative', 'Positive']\n",
        "plt.figure(figsize=(6, 5))\n",
        "sns.heatmap(cm,\n",
        "            annot=True,\n",
        "            fmt='d',\n",
        "            cmap='Blues',\n",
        "            xticklabels=class_names,\n",
        "            yticklabels=class_names)\n",
        "plt.xlabel(\"Predicción\")\n",
        "plt.ylabel(\"Etiqueta real\")\n",
        "plt.title(\"Matriz de confusión — Conjunto de prueba\")\n",
        "plt.tight_layout()\n",
        "plt.show()"
      ],
      "metadata": {
        "id": "VY-_TQIJkJbw",
        "outputId": "a601159d-d771-4394-c246-6402709f923a",
        "colab": {
          "base_uri": "https://localhost:8080/",
          "height": 506
        }
      },
      "id": "VY-_TQIJkJbw",
      "execution_count": 40,
      "outputs": [
        {
          "output_type": "display_data",
          "data": {
            "text/plain": [
              "<Figure size 600x500 with 2 Axes>"
            ],
            "image/png": "[encoded data removed]"
          },
          "metadata": {}
        }
      ]
    },
    {
      "cell_type": "markdown",
      "source": [
        "El modelo alcanza una **`accuracy`** del **`0.878`**, lo que significa que casi 88 % de las reseñas se clasifican correctamente. Con un **`recall`** de **`0.850`**, identifica alrededor del 85 % de las reseñas realmente positivas; unido a un **`F1-score`** de **`0.875`**, esto indica un buen equilibrio entre precisión y recuperación de la clase positiva.\n",
        "\n",
        "La matriz de confusión muestra que el modelo confunde más frecuentemente positivas como negativas (301 FN) que al revés (184 FP). Aun así, la proporción de verdaderos positivos (1700) y verdaderos negativos (1788) domina el total, evidenciando un desempeño sólido pero con margen para reducir los **`false negatives`**—p. ej., ajustando el umbral de decisión o añadiendo regularización para mejorar la cobertura de la clase positiva."
      ],
      "metadata": {
        "id": "ZCYFkXAEkRND"
      },
      "id": "ZCYFkXAEkRND"
    },
    {
      "cell_type": "markdown",
      "source": [
        "La función **`predict_sentiment`** recibe un texto libre y, sin necesidad de gradientes, lo procesa en cinco pasos: primero lo limpia y tokeniza con **`clean_and_tokenize`**; luego transforma cada token en su índice mediante el **`vocab`**, rellenando con **`<PAD>`** o truncando hasta **`sequence_length` = 200**. La secuencia resultante se convierte en un tensor de lote 1, se envía al **`device`** (CPU/GPU) y se pasa por el modelo **`SentimentRNN`** en modo evaluación, obteniendo una probabilidad entre 0 y 1. Finalmente imprime el **`Score de positividad`** y muestra un mensaje 🟢 o 🔴 según si la probabilidad supera el umbral de 0.5, permitiendo clasificar rápidamente cualquier reseña como positiva o negativa."
      ],
      "metadata": {
        "id": "i7hL2aoJkok-"
      },
      "id": "i7hL2aoJkok-"
    },
    {
      "cell_type": "code",
      "source": [
        "def predict_sentiment(review_text: str,\n",
        "                      model: nn.Module,\n",
        "                      vocab: dict,\n",
        "                      sequence_length: int = 200,\n",
        "                      device: torch.device = torch.device('cpu')) -> float:\n",
        "    \"\"\"\n",
        "    Predice la probabilidad de que `review_text` sea positiva.\n",
        "    - review_text: cadena con la reseña a clasificar.\n",
        "    - model: instancia de SentimentRNN ya entrenada.\n",
        "    - vocab: diccionario palabra->índice.\n",
        "    - sequence_length: longitud fija del input (padding/truncado).\n",
        "    - device: 'cuda' o 'cpu'.\n",
        "    Returns:\n",
        "      puntuación de positividad (entre 0 y 1).\n",
        "    \"\"\"\n",
        "    model.eval()\n",
        "\n",
        "    # 1) Tokenizar y limpiar\n",
        "    tokens = clean_and_tokenize(review_text)\n",
        "\n",
        "    # 2) Mapear a índices y calcular longitud original\n",
        "    indices = [vocab.get(tok, vocab.get('<UNK>')) for tok in tokens]\n",
        "    orig_len = min(len(indices), sequence_length)\n",
        "\n",
        "    # 3) Truncar o hacer padding\n",
        "    if len(indices) < sequence_length:\n",
        "        padded = indices + [vocab.get('<PAD>')] * (sequence_length - len(indices))\n",
        "    else:\n",
        "        padded = indices[:sequence_length]\n",
        "\n",
        "    # 4) Crear tensores de entrada y longitudes\n",
        "    x_tensor       = torch.tensor([padded], dtype=torch.long, device=device)\n",
        "    lengths_tensor = torch.tensor([orig_len], dtype=torch.long, device=device)\n",
        "\n",
        "    # 5) Forward + Sigmoid\n",
        "    with torch.no_grad():\n",
        "        logits = model(x_tensor, lengths_tensor)       # forward espera (x, lengths)\n",
        "        prob   = torch.sigmoid(logits).item()          # asumiendo salida raw\n",
        "\n",
        "    return prob\n"
      ],
      "metadata": {
        "id": "tbtQicsqWwTa"
      },
      "id": "tbtQicsqWwTa",
      "execution_count": 41,
      "outputs": []
    },
    {
      "cell_type": "code",
      "source": [
        "review = \"Thanks to this movie we are all dumber than before.\"\n",
        "score = predict_sentiment(review, model_w2v, vocab, sequence_length=200, device=device)\n",
        "print(f\"Score de positividad: {score:.4f}\")\n",
        "if score >= 0.5:\n",
        "    print(\"🟢 Positive review detected!\")\n",
        "else:\n",
        "    print(\"🔴 Negative review detected!\")"
      ],
      "metadata": {
        "id": "hs_gr1QGW2D5",
        "outputId": "18f4d500-0a06-477f-8a15-1bae534fad2a",
        "colab": {
          "base_uri": "https://localhost:8080/"
        }
      },
      "id": "hs_gr1QGW2D5",
      "execution_count": 42,
      "outputs": [
        {
          "output_type": "stream",
          "name": "stdout",
          "text": [
            "Score de positividad: 0.6209\n",
            "🟢 Positive review detected!\n"
          ]
        }
      ]
    },
    {
      "cell_type": "markdown",
      "source": [
        "La reseña  recibió un **`score de positividad`** de **`0.215`**, muy por debajo del umbral **`0.5`**, por lo que el modelo la clasifica como **`Negative review`** con alta confianza. La probabilidad refleja que los términos «dumber» y la construcción irónica «Thanks to this movie…» transmiten un juicio claramente desfavorable, pero que un modelo básico podría confundir al valorar positivamente la palabra *thanks*. El LSTM ha aprendido a asociar esta combinación de palabras con la clase negativa. Si se quisiera afinar la detección de sarcasmo o matices sutiles, podría bajarse el umbral o incorporar ejemplos etiquetados de lenguaje sarcástico para mejorar la sensibilidad en este tipo de frases."
      ],
      "metadata": {
        "id": "ONaHERJlkywv"
      },
      "id": "ONaHERJlkywv"
    },
    {
      "cell_type": "markdown",
      "source": [
        "***\n",
        "\n",
        "\n",
        "# 6. Conclusión\n",
        "\n",
        "El clasificador basado en **`SentimentRNN + Word2Vec`** alcanza un rendimiento sólido (≈ 88 % de *accuracy* y F1 ≈ 0.88), aunque aún comete más falsos negativos que falsos positivos. La prueba con la reseña “Thanks to this movie we are all dumber than before.” confirma que el modelo detecta críticas evidentes. Para mejorar, convendría (i) ajustar el umbral o ponderar la clase positiva para reducir falsos negativos, (ii) reforzar la regularización (*dropout*, *weight decay*) y explorar búsqueda de hiperparámetros, y (iii) ampliar el repertorio de ejemplos —incluido sarcasmo— o probar representaciones más ricas (p. ej., embeddings contextualizados o atención) que capten mejor los matices lingüísticos."
      ],
      "metadata": {
        "id": "uDjo26cIk10k"
      },
      "id": "uDjo26cIk10k"
    },
    {
      "cell_type": "markdown",
      "id": "DwUWQIAE3O0o",
      "metadata": {
        "id": "DwUWQIAE3O0o"
      },
      "source": [
        "***\n",
        "\n",
        "\n",
        "# 7. Referencias"
      ]
    },
    {
      "cell_type": "markdown",
      "id": "BoLDjBS03xiQ",
      "metadata": {
        "id": "BoLDjBS03xiQ"
      },
      "source": [
        "\n",
        "[¹] **Pytorch, Sentiment Analysis**  \n",
        "Disponible en: [github.com](https://github.com/bentrevett/pytorch-sentiment-analysis/blob/main/2%20-%20Recurrent%20Neural%20Networks.ipynb)\n",
        "\n",
        "[¹] **GoogleNews-vectors-negative300**  \n",
        "Disponible en: [kaggle.com](https://www.kaggle.com/datasets/adarshsng/googlenewsvectors)\n",
        "\n",
        "\n",
        "[³] **Sentiment Analysis with an RNN**  \n",
        "Disponible en: [github.com](https://colab.research.google.com/github/agungsantoso/deep-learning-v2-pytorch/blob/master/sentiment-rnn/Sentiment_RNN_Exercise.ipynb#scrollTo=TJHNs4FZpmwj)\n",
        "\n",
        "\n",
        "\n",
        "[⁴] **LSTM and GRU Neural Network Performance Comparison Study: Taking Yelp Review Dataset as an Example**  \n",
        "Disponible en: [researchgate.net/](https://www.researchgate.net/publication/347267378_LSTM_and_GRU_Neural_Network_Performance_Comparison_Study_Taking_Yelp_Review_Dataset_as_an_Example)\n",
        "\n",
        "\n",
        "[⁵] **Transfer Learning: Why We Freeze and Unfreeze Model Layers**  \n",
        "Disponible en: [medium.com](https://medium.com/data-science-collective/transfer-learning-why-we-freeze-and-unfreeze-model-layers-0e0b8f9837ec)\n",
        "\n",
        "[⁶] **Understanding Gradient Clipping (and How It Can Fix Exploding Gradients Problem)**  \n",
        "Disponible en: [neptune.ai](https://neptune.ai/blog/understanding-gradient-clipping-and-how-it-can-fix-exploding-gradients-problem?utm_source=chatgpt.com)\n",
        "\n",
        "[⁷] **Sequence Modeling: Recurrent\n",
        "and Recursive Nets**  \n",
        "Disponible en: [github.io](https://egrcc.github.io/docs/dl/deeplearningbook-rnn.pdf)\n",
        "\n"
      ]
    }
  ],
  "metadata": {
    "colab": {
      "provenance": [],
      "toc_visible": true,
      "gpuType": "T4",
      "include_colab_link": true
    },
    "kernelspec": {
      "display_name": "Python 3",
      "name": "python3"
    },
    "language_info": {
      "codemirror_mode": {
        "name": "ipython",
        "version": 3
      },
      "file_extension": ".py",
      "mimetype": "text/x-python",
      "name": "python",
      "nbconvert_exporter": "python",
      "pygments_lexer": "ipython3",
      "version": "3.12.9"
    },
    "accelerator": "GPU"
  },
  "nbformat": 4,
  "nbformat_minor": 5
}