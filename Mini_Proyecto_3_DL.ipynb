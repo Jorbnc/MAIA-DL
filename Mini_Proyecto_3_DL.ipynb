{
  "cells": [
    {
      "cell_type": "markdown",
      "metadata": {
        "id": "view-in-github",
        "colab_type": "text"
      },
      "source": [
        "<a href=\"https://colab.research.google.com/github/Jorbnc/MAIA-DL/blob/master/Mini_Proyecto_3_DL.ipynb\" target=\"_parent\"><img src=\"https://colab.research.google.com/assets/colab-badge.svg\" alt=\"Open In Colab\"/></a>"
      ]
    },
    {
      "cell_type": "markdown",
      "id": "oa_MJEGQ6jTi",
      "metadata": {
        "id": "oa_MJEGQ6jTi"
      },
      "source": [
        "<img\n",
        "  src=\"data:image/svg+xml;base64,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\"\n",
        "  alt=\"Logo Universidad de los Andes\"\n",
        "  width=\"120\"\n",
        "/>"
      ]
    },
    {
      "cell_type": "markdown",
      "id": "sl89pic17iPU",
      "metadata": {
        "id": "sl89pic17iPU"
      },
      "source": [
        "<style>\n",
        "@import url('https://fonts.googleapis.com/css2?family=Latin+Modern+Roman:wght@400;700&display=swap');\n",
        "\n",
        "body, p, h1, h2, h3, h4, h5, h6, li {\n",
        "  font-family: 'Latin Modern Roman', serif;\n",
        "}\n",
        "code, pre {\n",
        "  font-family: 'Fira Mono', monospace;\n",
        "}\n",
        "</style>\n",
        "\n",
        "***\n",
        "\n",
        "# **Miniproyecto 3 -Técnicas de *Deep Learning*- Clasificación Multi-Clase de Artículos de Noticias de la BBC Usando Transformers**\n",
        "\n",
        "## **Descripción del Problema**\n",
        "\n",
        "En este miniproyecto se plantea la **clasificación multi-clase** de artículos de noticias de la BBC aprovechando la capacidad de los modelos *transformer* para capturar relaciones contextuales complejas. Cada artículo puede pertenecer a una de varias categorías temáticas (e.g., *Sport, Business, Politics, Tech*).\n",
        "\n",
        "## **Objetivo**\n",
        "\n",
        "Desarrollar e implementar dos modelos de clasificación multi-clase basado en transformers ( **BERT** y **RoBERTa**) que, tras un preprocesamiento del texto y la adaptación de la capa de salida, sea capaz de predecir con alta exactitud, precisión, *recall* y *F1-score* las categorías de los artículos de la BBC."
      ]
    },
    {
      "cell_type": "markdown",
      "id": "SiCS5j-HAbCB",
      "metadata": {
        "id": "SiCS5j-HAbCB"
      },
      "source": [
        "***\n",
        "\n",
        "**Este proyecto es realizado por Andrés Felipe Ñungo y Jordan Bryan Núñez Campos para entrega el 20 de mayo de 2025.**\n"
      ]
    },
    {
      "cell_type": "markdown",
      "id": "8VqTMx7TYgjH",
      "metadata": {
        "id": "8VqTMx7TYgjH"
      },
      "source": [
        "\n",
        "***\n",
        "# **Índice**\n",
        "\n",
        "El *notebook* aborda el proyecto con la siguiente estructura:\n",
        "\n",
        "| 🔹 | Sección        |\n",
        "|----|----------------|\n",
        "| 1️⃣. | **Instalación y carga de librerías** |\n",
        "| 1️⃣.1️⃣. | **Configuraciones adicionales** |\n",
        "| 2️⃣. | **Análisis exploratorio y preparación de los datos**       |\n",
        "| 2️⃣.1️⃣. | **Carga y estadísticas generales**       |\n",
        "| 2️⃣.2️⃣. | **Limpieza de los datos**       |\n",
        "| 3️⃣. | **Definición de *pipelines* de procesamiento**          |\n",
        "| 3️⃣.1️⃣. | **Pipeline de preprocesamiento**   |\n",
        "| 4️⃣. | **Preparación para el desarrollo de los modelos**   |\n",
        "| 4️⃣.1️⃣. | **Partición y funciones de apoyo para los DataLoaders**   |\n",
        "| 4️⃣.2️⃣. | **Función de entrenamiento y preparación para la evaluación**   |\n",
        "| 4️⃣.3️⃣. | **Entrenamiento, validación y prueba**   |\n",
        "| 5️⃣. | **Análisis de resultados y discusión**   |\n",
        "| 6️⃣. | **Conclusión**   |\n",
        "| 7️⃣. | **Referencias**   |\n"
      ]
    },
    {
      "cell_type": "markdown",
      "id": "2cyVuwlHB_W3",
      "metadata": {
        "id": "2cyVuwlHB_W3"
      },
      "source": [
        "***\n",
        "\n",
        "# 1. Instalación y carga de librerías"
      ]
    },
    {
      "cell_type": "markdown",
      "source": [
        "Antes de proceder con la carga de las librerías, se instalan para efectos de un correcto funcionamiento en ambientes como *Coursera* o *Google Colab*: **`kagglehub langdetect matplotlib scikit-learn plotly`**.\n"
      ],
      "metadata": {
        "id": "DkjBiBB5rU6t"
      },
      "id": "DkjBiBB5rU6t"
    },
    {
      "cell_type": "code",
      "source": [
        "# Instalación de librerías necesarias para correr en Colab/Coursera\n",
        "!pip -q install kagglehub langdetect matplotlib scikit-learn plotly"
      ],
      "metadata": {
        "id": "l26426jMLCxE",
        "outputId": "d2150cb8-5ffc-46e3-a4b2-efc42ca4f7f7",
        "colab": {
          "base_uri": "https://localhost:8080/"
        }
      },
      "id": "l26426jMLCxE",
      "execution_count": 1,
      "outputs": [
        {
          "output_type": "stream",
          "name": "stdout",
          "text": [
            "\u001b[2K     \u001b[90m━━━━━━━━━━━━━━━━━━━━━━━━━━━━━━━━━━━━━━━\u001b[0m \u001b[32m981.5/981.5 kB\u001b[0m \u001b[31m8.1 MB/s\u001b[0m eta \u001b[36m0:00:00\u001b[0m\n",
            "\u001b[?25h  Preparing metadata (setup.py) ... \u001b[?25l\u001b[?25hdone\n",
            "  Building wheel for langdetect (setup.py) ... \u001b[?25l\u001b[?25hdone\n"
          ]
        }
      ]
    },
    {
      "cell_type": "markdown",
      "source": [
        "En este bloque se importan utilidades de sistema como **`os`**, **`random`**, **`gc`**, **`time`** y **`Path`**, junto con las librerías de datos **`numpy`** y **`pandas`**, la descarga de *datasets* vía **`kagglehub`**, limpieza de texto con **`detect`** y **`re`**, preprocesamiento y partición con scikit-learn (**`LabelEncoder`**, **`train_test_split`**), herramientas de *transformers* (**`AutoTokenizer`**, **`AutoModelForSequenceClassification`**, **`AutoModel`**), componentes de PyTorch (**`Dataset`**, **`DataLoader`**, **`AdamW`**), métricas de evaluación (**`accuracy_score`**, **`f1_score`**, **`classification_report`**), y reducción de dimensión y visualización con  **`TSNE`**, **`matplotlib`** y **`ConfusionMatrixDisplay`**.  "
      ],
      "metadata": {
        "id": "2q7l4Q6t4ITO"
      },
      "id": "2q7l4Q6t4ITO"
    },
    {
      "cell_type": "code",
      "source": [
        "# Librerías comunes\n",
        "import os, random, gc, time\n",
        "import numpy as np\n",
        "import pandas as pd\n",
        "from pathlib import Path\n",
        "from collections import defaultdict\n",
        "from typing import List, Dict, Any\n",
        "\n",
        "# Descarga de datasets y de embeddings\n",
        "import kagglehub\n",
        "\n",
        "# Limpieza y preparación de los textos\n",
        "from langdetect import detect\n",
        "import re\n",
        "\n",
        "# Preprocesamiento y herramientas de PLN\n",
        "from sklearn.preprocessing import LabelEncoder\n",
        "from sklearn.model_selection import train_test_split\n",
        "from sklearn.utils.class_weight import compute_class_weight\n",
        "from transformers import get_linear_schedule_with_warmup,AutoTokenizer, AutoModelForSequenceClassification, AutoModel\n",
        "\n",
        "# Modelado\n",
        "import torch\n",
        "import torch.nn as nn\n",
        "import torch.nn.functional as F\n",
        "from torch.utils.data import Dataset, DataLoader\n",
        "from torch.optim import AdamW\n",
        "\n",
        "# Evaluación\n",
        "from sklearn.metrics import accuracy_score, f1_score, precision_score, recall_score, classification_report\n",
        "\n",
        "# Librerías para visualizaciones\n",
        "from sklearn.manifold import TSNE\n",
        "import matplotlib.pyplot as plt\n",
        "import matplotlib.cm as cm\n",
        "from sklearn.metrics import confusion_matrix, ConfusionMatrixDisplay\n",
        "from IPython.display import display"
      ],
      "metadata": {
        "id": "osjmTJMvtxua"
      },
      "id": "osjmTJMvtxua",
      "execution_count": 2,
      "outputs": []
    },
    {
      "cell_type": "markdown",
      "source": [
        "En este bloque se establecen los **parámetros globales** que controlan el entrenamiento y la configuración del modelo: **`TEXT_COL`** y **`LABEL_COL`** definen las columnas de texto y categoría en el *DataFrame*, **`MAX_LEN`** fija la longitud máxima de secuencia para la tokenización, **`BATCH_SIZE`**, **`EPOCHS`** y **`PATIENCE`** regulan el tamaño de los lotes, el número de iteraciones y la detención temprana, mientras que **`UNFREEZE_PER_EPOCH`** determina cuántas capas del transformador se liberan progresivamente, **`DROPOUT`** que nos permitirá incluir un *dropout* extra a los *transformers* y **`SEED`** asegura que los experimentos sean reproducibles.  \n",
        "\n",
        "El valor de la mayoría de estos parámetros globales se toman a partir del Anexo A.3 del *paper* original de **BERT** [¹] (se utilizan estos mismos valores para **RoBERTa** no necesariamente porque sean \"óptimos\", sino más por efectos comparativos), donde se sugiere:\n",
        "\n",
        "*   **Batch size:** 16, 32\n",
        "*   **Learning rate (Adam):** 5e-5, 3e-5, 2e-5\n",
        "*   **Number of epochs:** 2, 3, 4"
      ],
      "metadata": {
        "id": "OeOXzQpOa-Lz"
      },
      "id": "OeOXzQpOa-Lz"
    },
    {
      "cell_type": "code",
      "source": [
        "# Parámetros globales de configuración del modelo\n",
        "TEXT_COL   = \"text\"  # nombre de la columna de los artículos\n",
        "LABEL_COL  = \"labels\" # nombre de la columna con la categoría\n",
        "MAX_LEN    = 256  # longitud máxima de cada secuencia de tokens\n",
        "BATCH_SIZE = 16   # número de muestras por lote de entrenamiento\n",
        "EPOCHS     = 4\n",
        "LEARNING_RATE = 2e-5\n",
        "PATIENCE   = 2    # Usado para early stopping\n",
        "UNFREEZE_PER_EPOCH = 2   # número de capas del modelo a descongelar\n",
        "DROPOUT = 0.3\n",
        "SEED = 13"
      ],
      "metadata": {
        "id": "afgVSw4d1AIw"
      },
      "id": "afgVSw4d1AIw",
      "execution_count": 3,
      "outputs": []
    },
    {
      "cell_type": "markdown",
      "source": [
        "## 1.1. Configuraciones adicionales\n",
        "\n",
        "Con el siguiente bloque se detecta si el entorno dispone de GPU y selecciona el **`device`** apropiado para PyTorch.  \n",
        "\n",
        "Primero se llama a **`is_available()`**, que devuelve *True* si se ha asignado una GPU CUDA al *runtime* de Colab. Según el resultado se imprime un mensaje informativo. Posteriormente, se construye el objeto **`device`**, que será pasado a la red y a los tensores de entrada para que se ubiquen en la GPU cuando sea posible. Por último se muestra en pantalla el dispositivo elegido."
      ],
      "metadata": {
        "id": "uOceAejmVjqF"
      },
      "id": "uOceAejmVjqF"
    },
    {
      "cell_type": "code",
      "source": [
        "# Devuelve asignación de GPU\n",
        "DEVICE = torch.device(\"cuda\" if torch.cuda.is_available() else \"cpu\")\n",
        "print(f\"Dispositivo activo → {DEVICE}\")"
      ],
      "metadata": {
        "id": "LksJ95qEPWVr",
        "colab": {
          "base_uri": "https://localhost:8080/"
        },
        "outputId": "df11fd1c-bbd9-4ad5-f474-3a18a875d755"
      },
      "id": "LksJ95qEPWVr",
      "execution_count": 4,
      "outputs": [
        {
          "output_type": "stream",
          "name": "stdout",
          "text": [
            "Dispositivo activo → cpu\n"
          ]
        }
      ]
    },
    {
      "cell_type": "markdown",
      "source": [
        "Adicionalmente se ocultan avisos para mantener limpias algunas salidas del *notebook*; y se imprimen las versiones de un conjunto de librerías clave ( **`numpy`**, **`pandas`**, **`torch`**, **`scikit-learn`**, **`kagglehub`**, **`matplotlib`**). Mostrar estas versiones al inicio del *notebook* facilita la reproducibilidad y ayuda a depurar posibles conflictos de dependencias."
      ],
      "metadata": {
        "id": "pfXxKk09Vulp"
      },
      "id": "pfXxKk09Vulp"
    },
    {
      "cell_type": "code",
      "execution_count": 5,
      "id": "LSwlUgjUjtR_",
      "metadata": {
        "id": "LSwlUgjUjtR_",
        "colab": {
          "base_uri": "https://localhost:8080/"
        },
        "outputId": "96b5e47e-6419-4100-8623-909e9a99ef98"
      },
      "outputs": [
        {
          "output_type": "stream",
          "name": "stdout",
          "text": [
            "numpy :  2.0.2\n",
            "pandas :  2.2.2\n",
            "torch :  2.6.0+cu124\n",
            "scikit-learn :  1.6.1\n",
            "kagglehub :  0.3.12\n",
            "matplotlib :  3.10.0\n",
            "langdetect :  1.0.9\n",
            "transformers :  4.51.3\n",
            "plotly :  5.24.1\n"
          ]
        }
      ],
      "source": [
        "# Ignorar las warnings\n",
        "import warnings\n",
        "warnings.filterwarnings(\"ignore\")\n",
        "\n",
        "# Versiones utilizadas\n",
        "from importlib.metadata import version\n",
        "librerias = [\"numpy\",\"pandas\",\"torch\",\"scikit-learn\", \"kagglehub\",\n",
        "            \"matplotlib\", \"langdetect\",\"transformers\",\"plotly\"]\n",
        "for library in librerias:\n",
        "  print(library, \": \", version(library))"
      ]
    },
    {
      "cell_type": "markdown",
      "source": [
        "En este bloque se fija la reproducibilidad del experimento asignando la semilla **`SEED`** a los generadores de números aleatorios de **Python**, **`NumPy`** y **`PyTorch`** (CPU y GPU), y configurando **`CUDNN`** para que opere de forma determinista y sin usar su *benchmark* automático, garantizando resultados consistentes en cada ejecución a costa de un posible descenso en el rendimiento."
      ],
      "metadata": {
        "id": "ok4F_5E1njTi"
      },
      "id": "ok4F_5E1njTi"
    },
    {
      "cell_type": "code",
      "source": [
        "# Definición del random state y seeds\n",
        "random.seed(SEED)\n",
        "np.random.seed(SEED)\n",
        "torch.manual_seed(SEED)\n",
        "torch.cuda.manual_seed_all(SEED)\n",
        "torch.backends.cudnn.deterministic = True  # Forzar comportamiento determinista en CUDNN\n",
        "torch.backends.cudnn.benchmark = False     # Desactivar optimizaciones no deterministas en CUDNN"
      ],
      "metadata": {
        "id": "xdgcOt7gznvJ"
      },
      "id": "xdgcOt7gznvJ",
      "execution_count": 6,
      "outputs": []
    },
    {
      "cell_type": "markdown",
      "id": "qK311OLFzPep",
      "metadata": {
        "id": "qK311OLFzPep"
      },
      "source": [
        "***\n",
        "\n",
        "# 2. Análisis exploratorio y preparación de los datos\n"
      ]
    },
    {
      "cell_type": "markdown",
      "source": [
        "***\n",
        "\n",
        "## 2.1. Carga y estadísticas generales"
      ],
      "metadata": {
        "id": "4KxKy7H1eID-"
      },
      "id": "4KxKy7H1eID-"
    },
    {
      "cell_type": "markdown",
      "source": [
        "Se descarga el conjunto de datos de reseñas de noticias de la BBC de **`kagglehub`**. La función **`dataset_download`** guarda los archivos de manera local y devuelve la ruta absoluta, que se almacena en **`path`** y se muestra en pantalla mediante **`print`** para confirmar dónde quedaron los datos."
      ],
      "metadata": {
        "id": "yHwealvATakn"
      },
      "id": "yHwealvATakn"
    },
    {
      "cell_type": "code",
      "execution_count": 7,
      "id": "K4yOzyWKJbov",
      "metadata": {
        "id": "K4yOzyWKJbov",
        "colab": {
          "base_uri": "https://localhost:8080/"
        },
        "outputId": "db3f3be6-52db-446b-98ce-e5c9f38453b8"
      },
      "outputs": [
        {
          "output_type": "stream",
          "name": "stdout",
          "text": [
            "Datos descargados en: /kaggle/input/bbc-articles-dataset\n",
            "Dataset descargado en: /kaggle/input/bbc-articles-dataset/bbc_news_text_complexity_summarization.csv\n",
            "Filas totales: 2127\n"
          ]
        }
      ],
      "source": [
        "# Descarga del conjunto de datos\n",
        "path = kagglehub.dataset_download(\"jacopoferretti/bbc-articles-dataset\")\n",
        "print(\"Datos descargados en:\", path)\n",
        "\n",
        "CSV_PATH = os.path.join(path, \"bbc_news_text_complexity_summarization.csv\")\n",
        "print(f\"Dataset descargado en: {CSV_PATH}\")\n",
        "\n",
        "# Verificar número de datos\n",
        "data_raw = pd.read_csv(CSV_PATH)\n",
        "print(\"Filas totales:\", len(data_raw))"
      ]
    },
    {
      "cell_type": "markdown",
      "id": "CNfurSnbmf79",
      "metadata": {
        "id": "CNfurSnbmf79"
      },
      "source": [
        "***\n",
        "\n",
        "## 2.2. Limpieza de los datos\n",
        "\n",
        "En estas sección identificamos y corregimos:\n",
        "\n",
        "* Valores faltantes\n",
        "* Textos duplicados\n",
        "* Textos en otros idiomas distintos al inglés"
      ]
    },
    {
      "cell_type": "markdown",
      "source": [
        "Verificamos que **no** hay datos faltantes o en \"N/A\", ni tampoco datos duplicados."
      ],
      "metadata": {
        "id": "_QbNFIVK9Y9J"
      },
      "id": "_QbNFIVK9Y9J"
    },
    {
      "cell_type": "code",
      "source": [
        "# Validación de datos faltantes\n",
        "data_raw.isna().sum()"
      ],
      "metadata": {
        "id": "2r0P2t_Ysjbq",
        "colab": {
          "base_uri": "https://localhost:8080/",
          "height": 303
        },
        "outputId": "58ce19ab-f5be-4678-dc66-d540bfea424a"
      },
      "id": "2r0P2t_Ysjbq",
      "execution_count": 8,
      "outputs": [
        {
          "output_type": "execute_result",
          "data": {
            "text/plain": [
              "text                            0\n",
              "labels                          0\n",
              "no_sentences                    0\n",
              "Flesch Reading Ease Score       0\n",
              "Dale-Chall Readability Score    0\n",
              "text_rank_summary               0\n",
              "lsa_summary                     0\n",
              "dtype: int64"
            ],
            "text/html": [
              "<div>\n",
              "<style scoped>\n",
              "    .dataframe tbody tr th:only-of-type {\n",
              "        vertical-align: middle;\n",
              "    }\n",
              "\n",
              "    .dataframe tbody tr th {\n",
              "        vertical-align: top;\n",
              "    }\n",
              "\n",
              "    .dataframe thead th {\n",
              "        text-align: right;\n",
              "    }\n",
              "</style>\n",
              "<table border=\"1\" class=\"dataframe\">\n",
              "  <thead>\n",
              "    <tr style=\"text-align: right;\">\n",
              "      <th></th>\n",
              "      <th>0</th>\n",
              "    </tr>\n",
              "  </thead>\n",
              "  <tbody>\n",
              "    <tr>\n",
              "      <th>text</th>\n",
              "      <td>0</td>\n",
              "    </tr>\n",
              "    <tr>\n",
              "      <th>labels</th>\n",
              "      <td>0</td>\n",
              "    </tr>\n",
              "    <tr>\n",
              "      <th>no_sentences</th>\n",
              "      <td>0</td>\n",
              "    </tr>\n",
              "    <tr>\n",
              "      <th>Flesch Reading Ease Score</th>\n",
              "      <td>0</td>\n",
              "    </tr>\n",
              "    <tr>\n",
              "      <th>Dale-Chall Readability Score</th>\n",
              "      <td>0</td>\n",
              "    </tr>\n",
              "    <tr>\n",
              "      <th>text_rank_summary</th>\n",
              "      <td>0</td>\n",
              "    </tr>\n",
              "    <tr>\n",
              "      <th>lsa_summary</th>\n",
              "      <td>0</td>\n",
              "    </tr>\n",
              "  </tbody>\n",
              "</table>\n",
              "</div><br><label><b>dtype:</b> int64</label>"
            ]
          },
          "metadata": {},
          "execution_count": 8
        }
      ]
    },
    {
      "cell_type": "code",
      "source": [
        "# Validación de duplicados\n",
        "data_raw.duplicated().sum()"
      ],
      "metadata": {
        "id": "m3IgmRbWskuE",
        "colab": {
          "base_uri": "https://localhost:8080/"
        },
        "outputId": "05ee01e9-9b90-451f-bdd9-98f63a2860ea"
      },
      "id": "m3IgmRbWskuE",
      "execution_count": 9,
      "outputs": [
        {
          "output_type": "execute_result",
          "data": {
            "text/plain": [
              "np.int64(0)"
            ]
          },
          "metadata": {},
          "execution_count": 9
        }
      ]
    },
    {
      "cell_type": "code",
      "source": [
        "# Copia de los datos por seguridad\n",
        "data = data_raw.copy()"
      ],
      "metadata": {
        "id": "fJETbmzSRX7o"
      },
      "id": "fJETbmzSRX7o",
      "execution_count": 10,
      "outputs": []
    },
    {
      "cell_type": "markdown",
      "source": [
        "Se utiliza **`LabelEncoder`** para transformar la columna de categorías de texto en una nueva columna **`label_id`** con valores numéricos, se calcula el total de clases únicas a través de **`NUM_LABELS`**, y se generan dos diccionarios (**`id2label`** y **`label2id`**) que permiten convertir de manera sencilla entre los identificadores numéricos y las etiquetas de texto durante las fases de entrenamiento e inferencia."
      ],
      "metadata": {
        "id": "P80Y-mWg_2rm"
      },
      "id": "P80Y-mWg_2rm"
    },
    {
      "cell_type": "code",
      "source": [
        "# Codificación de etiquetas\n",
        "le = LabelEncoder()\n",
        "data[\"label_id\"] = le.fit_transform(data[LABEL_COL])\n",
        "\n",
        "NUM_LABELS = len(le.classes_)# Número total de clases únicas\n",
        "print(f\"Numéro de clases únicas {NUM_LABELS}\")\n",
        "\n",
        "# Mapea cada ID a su etiqueta original\n",
        "id2label = {i: lbl for i, lbl in enumerate(le.classes_)}\n",
        "# Mapea cada etiqueta a su ID correspondiente\n",
        "label2id = {v: k for k, v in id2label.items()}\n",
        "\n",
        "class_names = le.classes_.tolist()\n",
        "print(f\"Clases en el dataset {class_names}\")\n"
      ],
      "metadata": {
        "id": "XU6qAVkrjUo3",
        "colab": {
          "base_uri": "https://localhost:8080/"
        },
        "outputId": "e117f456-6a64-4317-bfef-b5ad24264b3b"
      },
      "id": "XU6qAVkrjUo3",
      "execution_count": 11,
      "outputs": [
        {
          "output_type": "stream",
          "name": "stdout",
          "text": [
            "Numéro de clases únicas 5\n",
            "Clases en el dataset ['business', 'entertainment', 'politics', 'sport', 'tech']\n"
          ]
        }
      ]
    },
    {
      "cell_type": "markdown",
      "source": [
        "También se verifica el número promedio de palabras de los artículos noticiosos, con el objetivo de conocer cuán extensos pueden llegar a ser, esto también nos da una mejor idea de la ventana de atención que pueden llegar a tener nuestros *transformers*"
      ],
      "metadata": {
        "id": "X0XZFalUXVQl"
      },
      "id": "X0XZFalUXVQl"
    },
    {
      "cell_type": "code",
      "source": [
        "# Calcular número de palabras por texto\n",
        "word_counts = data[TEXT_COL].str.split().str.len()\n",
        "\n",
        "# Calcular promedio\n",
        "avg_word_count = word_counts.mean()\n",
        "print(f\"El número promedio de palabras por texto es: {avg_word_count:.2f}\")"
      ],
      "metadata": {
        "id": "nztVsxAvXUa8"
      },
      "id": "nztVsxAvXUa8",
      "execution_count": null,
      "outputs": []
    },
    {
      "cell_type": "markdown",
      "source": [
        "Se gráfica con la función **`plot_class_distribution`** la distribución del *dataset* en las diferentes clases. En principio, no se observa un desbalance de los datos significativo. Sin embargo, tampoco se puede afirmar que el conjunto de datos está completamente balanceado, observando por ejemplo, una leve sub-representación de la clase entretenimiento y *tech*. Razón por la cual, puede cobrar sentido más adelante entrenar el modelo con balanceo sencillo de las clases y observar métricas de evaluación ponderadas por clase (\"macro\") para poder tener un análisis adecuado."
      ],
      "metadata": {
        "id": "quPKwoSZB_Hw"
      },
      "id": "quPKwoSZB_Hw"
    },
    {
      "cell_type": "code",
      "source": [
        "# Mapeo de la distribución de las clases\n",
        "def plot_class_distribution(data: pd.DataFrame, label_col: str = \"label_id\", class_names: List[str] = None) -> None:\n",
        "\n",
        "    # Preparar datos\n",
        "    counts = data[label_col].value_counts().sort_index()\n",
        "    labels = class_names if class_names is not None else counts.index.astype(str)\n",
        "\n",
        "    # Normalizamos los valores para mapearlos a la paleta\n",
        "    norm = plt.Normalize(counts.min(), counts.max())\n",
        "    colors = cm.viridis(norm(counts.values))\n",
        "\n",
        "    # Crear la figura y barras\n",
        "    fig, ax = plt.subplots(figsize=(8, 5))\n",
        "    bars = ax.bar(labels, counts.values, color=colors)\n",
        "\n",
        "    # Etiquetas de ejes y título\n",
        "    ax.set_xlabel(\"Clase\")\n",
        "    ax.set_ylabel(\"Número de artículos\")\n",
        "    ax.set_title(\"Distribución de clases en el dataset\")\n",
        "\n",
        "    # Rotar etiquetas del eje x de forma segura\n",
        "    ax.set_xticks(range(len(labels)))\n",
        "    ax.set_xticklabels(labels, rotation=45, ha=\"right\")\n",
        "\n",
        "    # Etiquetas a las barras\n",
        "    ax.bar_label(bars, labels=[f\"{c:,}\" for c in counts.values], padding=3)\n",
        "\n",
        "    fig.tight_layout()\n",
        "    plt.show()\n",
        "\n",
        "plot_class_distribution(data, class_names = class_names )"
      ],
      "metadata": {
        "id": "1TQpLnbwan5r",
        "colab": {
          "base_uri": "https://localhost:8080/",
          "height": 507
        },
        "outputId": "5d9b9384-c0fa-46cc-e81b-ff24ee4099f7"
      },
      "id": "1TQpLnbwan5r",
      "execution_count": 12,
      "outputs": [
        {
          "output_type": "display_data",
          "data": {
            "text/plain": [
              "<Figure size 800x500 with 1 Axes>"
            ],
            "image/png": "[encoded data removed]"
          },
          "metadata": {}
        }
      ]
    },
    {
      "cell_type": "markdown",
      "source": [
        "Aquí se define **`detectar_idiomas`**, que emplea la función **`detect`** de **`langdetect`** para identificar el idioma de cada texto en la columna elegida. Si la detección falla o el texto está vacío, se conserva 'desconocido'. Tras procesar todos los textos, se filtran los que no sean inglés e imprime hasta cinco ejemplos con su índice y fragmento para revisión, devolviendo finalmente el DataFrame actualizado con la nueva información de idioma. Corroboramos que todos los textos se encuentran en inglés."
      ],
      "metadata": {
        "id": "LHdSWxhRDoR8"
      },
      "id": "LHdSWxhRDoR8"
    },
    {
      "cell_type": "code",
      "source": [
        "# Validación de los idiomas en los artículos\n",
        "def detectar_idiomas(data: pd.DataFrame, col_texto: str = 'text') -> pd.DataFrame:\n",
        "    # Inicializamos con 'desconocido'\n",
        "    data['idioma'] = 'desconocido'\n",
        "\n",
        "    # Función auxiliar segura\n",
        "    def _detectar(texto):\n",
        "        if isinstance(texto, str) and texto.strip():\n",
        "            try:\n",
        "                return detect(texto)\n",
        "            except Exception:\n",
        "                return 'desconocido'\n",
        "        return 'desconocido'\n",
        "\n",
        "    # Aplicamos detección\n",
        "    data['idioma'] = data[col_texto].apply(_detectar)\n",
        "\n",
        "    # Filtramos los que no son inglés\n",
        "    mask = data['idioma'] != 'en'\n",
        "    idx_no_en = data[mask].index\n",
        "\n",
        "    if len(idx_no_en) > 0:\n",
        "        print(f\"Se encontraron {len(idx_no_en)} textos NO en inglés (ejemplos):\")\n",
        "        # Mostramos hasta 5 ejemplos (si es que se encuentran)\n",
        "        for i in idx_no_en[:5]:\n",
        "            print(f\" • Índice {i}: [{data.at[i,'idioma']}] {data.at[i,col_texto][:100]}...\")\n",
        "    else:\n",
        "        print(\"Todos los textos están detectados como inglés.\")\n",
        "\n",
        "    return data"
      ],
      "metadata": {
        "id": "_WQ5tiJps-bO"
      },
      "id": "_WQ5tiJps-bO",
      "execution_count": 13,
      "outputs": []
    },
    {
      "cell_type": "code",
      "source": [
        "data = detectar_idiomas(data, col_texto='text')"
      ],
      "metadata": {
        "id": "DpTn9HpSW6V9",
        "colab": {
          "base_uri": "https://localhost:8080/"
        },
        "outputId": "49467786-4989-4477-8dd7-69748d4a45b1"
      },
      "id": "DpTn9HpSW6V9",
      "execution_count": 14,
      "outputs": [
        {
          "output_type": "stream",
          "name": "stdout",
          "text": [
            "Todos los textos están detectados como inglés.\n"
          ]
        }
      ]
    },
    {
      "cell_type": "markdown",
      "id": "_ypyorGqwmRl",
      "metadata": {
        "id": "_ypyorGqwmRl"
      },
      "source": [
        "***\n",
        "\n",
        "# 3. Definición de *pipelines* de procesamiento"
      ]
    },
    {
      "cell_type": "markdown",
      "id": "4370a607-ad43-4c5d-bddd-1a9370469409",
      "metadata": {
        "id": "4370a607-ad43-4c5d-bddd-1a9370469409"
      },
      "source": [
        "***\n",
        "\n",
        "## 3.1. *Pipeline* de preprocesamiento\n",
        "\n",
        "En esta ocasión el *pipeline* de preprocesamiento será muy corto, precisamente por el modo en el que los tokenizadores de los *transformers* operan. La función **`clean_text`** normaliza cada cadena eliminando espacios redundantes con una expresión regular, descartando carácteres que no sean letras, números o puntuación básica. Se cree que esta es la mejor aproximación para el problema ya que carácteres especiales (a excepción de las importantes en el inglés como el apóstrofe) o emojis no creemos que puedan aportar a la clasificación de estos textos. También la tokenización más adelante se va encargar de pasos como el *lowercasting* por lo que esta limpieza inicial no es necesario. Posteriormente, se recorre el conjunto de columnas **`text`**, **`text_rank_summary`** y **`lsa_summary`** en **`data`**, convirtiendo sus valores en texto y aplicando esta limpieza para estandarizar todos los contenidos antes de procesarlos."
      ]
    },
    {
      "cell_type": "code",
      "source": [
        "# Limpieza básica\n",
        "def clean_text(text: str) -> str:\n",
        "    # colapsa múltiples espacios en blanco\n",
        "    text = re.sub(r\"\\s+\", \" \", text)\n",
        "    # elimina caracteres no alfanuméricos ni puntuación básica\n",
        "    text = re.sub(r\"[^\\w.,;:!?()¿¡' ]+\", \"\", text)\n",
        "    # elimina espacios al inicio y al final\n",
        "    return text.strip()\n",
        "\n",
        "for col in (\"text\", \"text_rank_summary\", \"lsa_summary\"):\n",
        "    if col in data.columns:\n",
        "        data[col] = data[col].astype(str).apply(clean_text)"
      ],
      "metadata": {
        "id": "tK_D4XVsnk6c"
      },
      "id": "tK_D4XVsnk6c",
      "execution_count": 15,
      "outputs": []
    },
    {
      "cell_type": "markdown",
      "id": "G6-RrjwuxYEw",
      "metadata": {
        "id": "G6-RrjwuxYEw"
      },
      "source": [
        "***\n",
        "\n",
        "# 4. Preparación para el desarrollo de los modelos\n",
        "\n",
        "En esta ocasión no es necesario definir una clase para crear cada una de las capas de las redes neuronales a entrenar. Como se ha visto en clase, los *transformers* pre-entrenados como **BERT** ya vienen casi listos con toda la etapa de preparación de los datos y la estructura de la red. Por tal motivo, en esta sección se dejan las funciones y clases definidas para preparar los últimos detalles de los datos antes de pasarlos por cada uno de los modelos y generamos la función de entrenamiento. Adicionalmente, se incluyé una función que nos permitirá complementar la red con una capa de normalización para estabilizar la salida, explicará esto con mayor profundidad más adelante."
      ]
    },
    {
      "cell_type": "markdown",
      "source": [
        "***\n",
        "\n",
        "## 4.1. Partición y funciones de apoyo para los *DataLoaders*\n",
        "\n",
        "Se usa **`train_test_split`** para separar el DataFrame **`data`** en **`train_data`** y **`test_data`** (10% para *test*, 10% para validación y 80% para entrenamiento) manteniendo la distribución de **`label_id`** mediante estratificación (y que así las particiones reflejen el leve \"desequilibrio\" de clases).\n",
        "\n",
        "Hay que recordar que el conjunto de datos es de tan solo **2.127** datos. Un poco pequeño para lo que solemos estar acostumbrados, razón por la cuál no podemos tomar un conjunto *test* o de validación muy grandes ya que nos quedamos facilmente sin una cantidad representativa de datos de entrenamiento.\n"
      ],
      "metadata": {
        "id": "YbTzASG6GdSr"
      },
      "id": "YbTzASG6GdSr"
    },
    {
      "cell_type": "code",
      "source": [
        "# División en train_data y test_data\n",
        "train_data, test_data = train_test_split(data, test_size=0.10, stratify=data[\"label_id\"], random_state=SEED)\n",
        "# A partir de train_data se extrae un conjunto de validación val_data\n",
        "train_data, val_data = train_test_split(train_data, test_size=0.10, stratify=train_data[\"label_id\"], random_state=SEED)\n",
        "# Mostramos el tamaño de cada partición\n",
        "print(\"Tamaños – Train / Val / Test:\", len(train_data), len(val_data), len(test_data))"
      ],
      "metadata": {
        "colab": {
          "base_uri": "https://localhost:8080/"
        },
        "id": "L6QJGsVGvoIK",
        "outputId": "d178e45c-de02-4bfc-c6fa-966511430e4f"
      },
      "id": "L6QJGsVGvoIK",
      "execution_count": 16,
      "outputs": [
        {
          "output_type": "stream",
          "name": "stdout",
          "text": [
            "Tamaños – Train / Val / Test: 1722 192 213\n"
          ]
        }
      ]
    },
    {
      "cell_type": "markdown",
      "source": [
        "Se toma como base la preparación de los datos usada en algunos *notebooks* públicos [²] y se crea la clase **`BBCDataset`**, que se hereda de **`Dataset`** de PyTorch y \"encapsula\" el procesamiento de cada muestra. Se guarda listas de textos y etiquetas junto con el **`tokenizer`**, la longitud máxima **`max_len`** y la opción **`return_idx`**; **`__len__`** devuelve la cantidad de ejemplos disponibles; **`__getitem__`** se hace la preparación de secuencias mediante  la tokenización del texto, con truncamiento y *padding* a tamaño fijo (el tokenizador que se va a usar, **`AutoTokenizer`**, ya hace estos pasos por nosotros razón por la cuál no se hizo en la etapa de pre-procesamiento), se elimina la dimensión extra resultante, añade la etiqueta como tensor (**`return_tensors=\"pt\"`**) y retorna también el texto original, incluyendo opcionalmente el índice de la muestra para análisis posteriores, lo que facilita la integración directa con un *DataLoader* y mantiene trazabilidad de los ejemplos durante el entrenamiento y la evaluación.\n",
        "\n",
        "En conjunto, este bloque es el “preparador de secuencias”: convierte texto crudo en el lote de tensores que el *encoder transformer* necesita para producir *embeddings* y, finalmente, la predicción de clase."
      ],
      "metadata": {
        "id": "wqy-xlwJ2zMS"
      },
      "id": "wqy-xlwJ2zMS"
    },
    {
      "cell_type": "code",
      "source": [
        "#Dataset para la clasificación de noticias de la BBC\n",
        "class BBCDataset(Dataset):\n",
        "    def __init__(self, data, tokenizer, max_len, *, return_idx: bool = False):\n",
        "        self.texts  = data[TEXT_COL].tolist() # lista de textos crudos\n",
        "        self.labels = data[\"label_id\"].tolist()  # lista de IDs de etiqueta\n",
        "        self.tok    = tokenizer\n",
        "        self.max_len = max_len\n",
        "        self.return_idx = return_idx\n",
        "\n",
        "    def __len__(self):\n",
        "        return len(self.texts) # número total de muestras\n",
        "\n",
        "    def __getitem__(self, idx):\n",
        "        enc = self.tok(self.texts[idx], truncation=True, padding=\"max_length\", max_length=self.max_len, return_tensors=\"pt\")\n",
        "        item = {k: v.squeeze(0) for k, v in enc.items()}  # elimina la dimensión batch=1\n",
        "        item[\"labels\"] = torch.tensor(self.labels[idx], dtype=torch.long) # convierte etiqueta a tensor\n",
        "        item[\"text\"] = self.texts[idx] # conserva el texto original\n",
        "        if self.return_idx:\n",
        "            item[\"idx\"] = torch.tensor(idx)   # incluye índice si se solicita\n",
        "        return item"
      ],
      "metadata": {
        "id": "zfp-stYtEt71"
      },
      "id": "zfp-stYtEt71",
      "execution_count": 17,
      "outputs": []
    },
    {
      "cell_type": "markdown",
      "source": [
        "En este *collate* primero se extrae y guarda los textos crudos antes de apilar todos los tensores que el modelo requiere, y luego los reincorpora junto con los tensores resultantes de **`input_ids`**, **`attention_mask`**, **`labels`** y, si está presente, **`idx`**. Así, cada lote entregado al modelo incluye tanto los datos numéricos optimizados para el entrenamiento como el texto original y los índices necesarios para cualquier análisis o diagnóstico posterior dentro del proyecto (sección de \"**5. Análisis de resultados y discusión**\")."
      ],
      "metadata": {
        "id": "Is0sZqHd0LAB"
      },
      "id": "Is0sZqHd0LAB"
    },
    {
      "cell_type": "code",
      "source": [
        "# Además de apilar los tensores, se preserve el texto original y el índice de cada muestra\n",
        "def collate_with_text(batch):\n",
        "    # Extrae y elimina temporalmente el campo text\n",
        "    texts  = [b.pop(\"text\") for b in batch]\n",
        "\n",
        "    # Apila labels con dtype y forma correctos\n",
        "    labels = torch.stack([b[\"labels\"] for b in batch]).long()\n",
        "    # Validación de dimensionalidad\n",
        "    if labels.dim() == 2:\n",
        "        labels = labels.squeeze(1)\n",
        "    # Apila el resto de tensores\n",
        "    keys = [k for k in batch[0].keys() if k != \"labels\"]\n",
        "    out  = {k: torch.stack([b[k] for b in batch]) for k in keys}\n",
        "    out[\"labels\"] = labels\n",
        "    out[\"text\"] = texts\n",
        "    # Si cada muestra trae un índice idx, lo apila también\n",
        "    if \"idx\" in batch[0]:\n",
        "        out[\"idx\"] = torch.stack([b[\"idx\"] for b in batch])\n",
        "    return out"
      ],
      "metadata": {
        "id": "zPBwOr5LvZBH"
      },
      "id": "zPBwOr5LvZBH",
      "execution_count": 18,
      "outputs": []
    },
    {
      "cell_type": "markdown",
      "source": [
        "\n",
        "**`Make_loader`** construye y devuelve un *DataLoader* configurado para el dataset BBC."
      ],
      "metadata": {
        "id": "93fcx-bj1RLZ"
      },
      "id": "93fcx-bj1RLZ"
    },
    {
      "cell_type": "code",
      "source": [
        " # Crea y retorna el DataLoader configurado\n",
        "def make_loader(data, tokenizer, split, batch_size, max_len, return_idx=False, num_workers=2):\n",
        "    # Instancia el dataset personalizado BBCDataset\n",
        "    ds = BBCDataset(data, tokenizer, max_len, return_idx=return_idx)\n",
        "    return DataLoader(ds, batch_size=batch_size, shuffle=(split==\"train\"), num_workers=num_workers, pin_memory=True, collate_fn=collate_with_text)"
      ],
      "metadata": {
        "id": "3bPJ2rdm_v46"
      },
      "id": "3bPJ2rdm_v46",
      "execution_count": 19,
      "outputs": []
    },
    {
      "cell_type": "markdown",
      "source": [
        "La técnica acontinuación ya se había aplicado anteriormente en el **Miniproyecto 2** [³]. Esta permite *congelar* o *descongelar* gradientes de capas del *encoder* de un modelo, lo cual ayuda a (i) conservar características generales útiles, (ii) adaptar con seguridad las capas superiores y (iii) mejorar la precisión sin sobre-ajustar, sobre todo en conjuntos de datos pequeños o medianos."
      ],
      "metadata": {
        "id": "T4sMR5EA4ldE"
      },
      "id": "T4sMR5EA4ldE"
    },
    {
      "cell_type": "code",
      "source": [
        "# Congela/descongela capas del encoder\n",
        "def freeze_layers(model, freeze: bool = True, last_n: int = None) -> None:\n",
        "    # Hay modelos donde el encoder vive en .transformer, se revisa\n",
        "    if isinstance(model, nn.Sequential):\n",
        "        # RobertaModel está en model[0]\n",
        "        encoder = model[0].encoder\n",
        "    else:\n",
        "        encoder = getattr(model.base_model, \"encoder\", None) \\\n",
        "                  or getattr(model.base_model, \"transformer\", None)\n",
        "\n",
        "    if encoder is None:\n",
        "        # Si no tiene encoder explícito, congelamos todo el base_model\n",
        "        base_model = model[0] if isinstance(model, nn.Sequential) else model.base_model\n",
        "        for p in base_model.parameters():\n",
        "            p.requires_grad = not freeze\n",
        "        return\n",
        "\n",
        "    # Congela/libera todas las capas del encoder\n",
        "    for param in encoder.parameters():\n",
        "        param.requires_grad = not freeze\n",
        "\n",
        "    # Libera específicamente las últimas last_n capas (si se especifica)\n",
        "    if last_n is not None and last_n > 0:\n",
        "        layers = encoder.layer if hasattr(encoder, 'layer') else encoder.layers\n",
        "        for layer in layers[-last_n:]:\n",
        "            for param in layer.parameters():\n",
        "                param.requires_grad = True"
      ],
      "metadata": {
        "id": "qudFCuoD0Gw_"
      },
      "id": "qudFCuoD0Gw_",
      "execution_count": 20,
      "outputs": []
    },
    {
      "cell_type": "markdown",
      "source": [
        "Para hacer *fine-tuning* a los modelos que se correrán se define la siguiente función que incorpora una capa de normalización, basado en un *paper* donde se mejora con esta técnica a **RoBERTa** [⁴]. Aplicar esta función antes de la capa lineal logra estabilizar la distribución de activaciones que recibe la cabeza de la red, reduciendo el *internal covariate shift*, un problema conocido en el mundo de los *transformers* por generar variación continua en la distribución de las activaciones internas de una red neuronal durante el entrenamiento. Esta reducción, suele traducirse en convergencias más estables y entre +0.3 y +0.7 pp de mejora en *accuracy* [⁴]. Esto se logra mediante un *dropout* extra (en este caso de  0.3) , lo que mitiga el *overfitting* cuando el conjunto de entrenamiento es pequeño (como lo es este caso); a diferencia del *dropout* interno (p ≈ 0.1) que **BERT**/**RoBERTa** implementa. Finalmente, se inicializa la nueva capa con *Xavier* + bias = 0   (también llamado **Glorot init**) [⁴] lo cual asigna pesos con varianza ajustada, manteniendo la magnitud de los gradientes a través de la red y evitando desplazamientos iniciales hacia clases concretas, lo que acelera las primeras épocas de *fine-tuning*."
      ],
      "metadata": {
        "id": "c-o_--ASKSM4"
      },
      "id": "c-o_--ASKSM4"
    },
    {
      "cell_type": "code",
      "source": [
        "# Sustituye la cabeza de clasificación por una capa de normalización\n",
        "def add_norm_dropout_head(model, dropout_p: float = 0.3):\n",
        "\n",
        "    hidden = model.config.hidden_size\n",
        "    num_lbl = model.config.num_labels\n",
        "\n",
        "    new_head = nn.Sequential(nn.LayerNorm(hidden, eps=model.config.layer_norm_eps),\n",
        "                              nn.Dropout(dropout_p), nn.Linear(hidden, num_lbl))\n",
        "\n",
        "    # Inicialización recomendada\n",
        "    nn.init.xavier_uniform_(new_head[-1].weight)\n",
        "    nn.init.constant_(new_head[-1].bias, 0.)\n",
        "\n",
        "    # Algunos modelos exponen la cabeza como .classifier, otros como .score\n",
        "    if hasattr(model, \"classifier\"):\n",
        "        # Manejar estructura especial de RoBERTa por defecto\n",
        "        if isinstance(model.classifier, nn.Sequential):\n",
        "            model.classifier = new_head\n",
        "        else:\n",
        "            model.classifier = new_head\n",
        "\n",
        "    elif hasattr(model, \"score\"):\n",
        "        model.score = new_head\n",
        "    else:\n",
        "        raise AttributeError(\"No se encontró la cabeza de clasificación\")\n",
        "\n",
        "    return model"
      ],
      "metadata": {
        "id": "1y1KOsCMKK_V"
      },
      "id": "1y1KOsCMKK_V",
      "execution_count": 21,
      "outputs": []
    },
    {
      "cell_type": "markdown",
      "source": [
        "***\n",
        "\n",
        "## 4.2. Función de entrenamiento y preparación para la evaluación\n",
        "\n",
        "Esta función es tal vez la más importante de todo el *notebook*, donde se basa todo el *fine-tuning* y evaluación del modelo. Empieza cargando el tokenizador y el modelo. Note que en este proyecto se está probando en un mismo *pipeline* a **BERT** y para **RoBERTa**, por lo que es necesario cargar ambos *items* con **`AutoTokenizer`** y **`AutoModelForSequenceClassification`**. Más adelante se habla un poco más del tokenizador. Adicionalmente, con el objetivo de \"jugar\" con el modelo se añade la capa de normalización extra que como objetivo tendrá mejorar la generalización de ambos modelos.\n",
        "\n",
        "A continuación, se calcula los pesos de clase y  se crean los *DataLoaders* llamando a **`make_loader`** para los *splits* **`train`**,**`val`** y **`test`**. Adicionalmente, se configura el optimizador **`AdamW`** junto al *scheduler*. En esta ocasión se usa **`AdamW`**, que permite aplicar un *weight decay* para evitar sobre-ajuste. Adicionalmente, se usa el *scheduler* que gestiona dinámicamente la tasa de aprendizaje a lo largo del entrenamiento siguiendo dos fases: 1. *Warm-up* -incremento gradual en los primeros pasos y 2. Decaimiento lineal -descenso de forma lineal hasta 0 [⁵]. Finalmente se define la función de pérdida con **`CrossEntropyLoss`**.\n",
        "\n",
        "En cada *epoch* se recorre un *split* completo para acumular pérdidas, predicciones y etiquetas verdaderas y así calcular métricas como *accuracy* y *F1*. Esto se hace descongelando gradualmente capas. Adicionalmente se aplica *early stopping* y guardando el mejor modelo en **`best_path`**. Tras el entrenamiento, se carga el mejor estado con **`torch.load`** y desde esta etapa se evalúa en *test* generando precisión, *recall* y el *classification_report*. Se limpia memoria con **`gc.collect()`** y **`torch.cuda.empty_cache()`**, y finalmente retorna un diccionario con todas las métricas, el modelo entrenado, el **`tokenizer`**, el **`test_loader`** y el historial de entrenamiento.\n",
        "\n",
        "Ahora se explica con más detalle AutoTokenizer [⁶]:\n",
        "\n",
        "**`AutoTokenizer`** simplifica y unifica el preprocesamiento de texto para distintos modelos (**BERT**, **RoBERTa**, **DistilBERT,** etc.), detectando automáticamente la clase de *tokenizer* adecuada y eliminando la necesidad de múltiples importaciones o bloques *if/else*. Durante la tokenización, descompone el texto y añade los special tokens ([CLS], [SEP]), convierte cada *token* a su *input_id*, crea la *attention_mask* para diferenciar texto real de *padding*, y aplica truncado y relleno hasta MAX_LEN para generar lotes uniformes."
      ],
      "metadata": {
        "id": "JzIcaKUzJHl8"
      },
      "id": "JzIcaKUzJHl8"
    },
    {
      "cell_type": "code",
      "source": [
        "def train_and_evaluate(model_name: str, train_data, val_data, test_data):\n",
        "    print(f\"\\nEntrenando {model_name} ...\")\n",
        "\n",
        "    start = time.time()\n",
        "    # Tokenizer + modelo\n",
        "    if \"roberta\" in model_name:\n",
        "        # Carga RobertaModel sin cabeza de clasificación original\n",
        "        base_model = AutoModel.from_pretrained(model_name).to(DEVICE)\n",
        "\n",
        "        # Crea cabeza propia desde cero\n",
        "        model = nn.Sequential( base_model, nn.LayerNorm(base_model.config.hidden_size),\n",
        "            nn.Dropout(DROPOUT), nn.Linear(base_model.config.hidden_size, NUM_LABELS)).to(DEVICE)\n",
        "\n",
        "    else:\n",
        "        # Para BERT usamos modelo estándar con cabeza simple\n",
        "        model = AutoModelForSequenceClassification.from_pretrained(model_name, num_labels=NUM_LABELS, id2label=id2label,\n",
        "            label2id=label2id).to(DEVICE)\n",
        "        model = add_norm_dropout_head(model, dropout_p=DROPOUT).to(DEVICE)\n",
        "    #Tokenizador, igual para ambas\n",
        "    tokenizer = AutoTokenizer.from_pretrained(model_name)\n",
        "\n",
        "    # Congelar encoder completo y luego liberar gradualmente\n",
        "    freeze_layers(model)\n",
        "\n",
        "    # Pesos de clase balanceados\n",
        "    class_weights = compute_class_weight(class_weight=\"balanced\", classes=np.arange(NUM_LABELS), y=train_data[\"label_id\"])\n",
        "    class_weights = torch.tensor(class_weights, dtype=torch.float32, device=DEVICE)\n",
        "\n",
        "    # DataLoaders\n",
        "    loaders = {\n",
        "        \"train\": make_loader(train_data, tokenizer, \"train\", BATCH_SIZE, MAX_LEN),\n",
        "        \"val\":   make_loader(val_data,   tokenizer, \"val\",   BATCH_SIZE, MAX_LEN),\n",
        "        \"test\":  make_loader(test_data,  tokenizer, \"test\",  BATCH_SIZE, MAX_LEN),\n",
        "    }\n",
        "\n",
        "    # Optimizador & scheduler\n",
        "    total_steps = len(loaders[\"train\"]) * EPOCHS\n",
        "    optimizer   = AdamW(model.parameters(), lr= LEARNING_RATE, weight_decay=1e-2)\n",
        "    scheduler   = get_linear_schedule_with_warmup(optimizer,\n",
        "                                                  #6%  de los pasos para hacer warm-up\n",
        "                                                  num_warmup_steps=int(0.06 * total_steps),\n",
        "                                                  num_training_steps=total_steps)\n",
        "    # Criterio de pérdida\n",
        "    criterion   = torch.nn.CrossEntropyLoss(weight=class_weights)\n",
        "\n",
        "    best_f1, patience_cnt = 0.0, 0\n",
        "    best_path = f\"best_{model_name.split('-')[0]}_bbc.pt\"\n",
        "\n",
        "    # Función interna para una pasada por un split\n",
        "    def epoch_pass(split):\n",
        "        # Determina si se trata de entrenamiento (\"train\") o evaluación (\"val\" o \"test\")\n",
        "        is_train = split == \"train\"\n",
        "        model.train() if is_train else model.eval()\n",
        "        losses, preds_all, trues_all = [], [], []\n",
        "        # Recorre los lotes del DataLoader correspondiente al split actual\n",
        "        for batch in loaders[split]:\n",
        "            batch = {k: (v.to(DEVICE) if torch.is_tensor(v) else v) for k,v in batch.items()}\n",
        "            with torch.set_grad_enabled(is_train):\n",
        "                inputs = {k: v for k, v in batch.items() if k not in [\"labels\", \"text\", \"idx\"]}\n",
        "                # Llama explícitamente RobertaModel\n",
        "                if \"roberta\" in model_name:\n",
        "                    base_outputs = model[0](**inputs)\n",
        "                    cls_embedding = base_outputs.pooler_output\n",
        "                    # pasa por LayerNorm, Dropout y Linear\n",
        "                    logits = model[1:](cls_embedding)\n",
        "                else:\n",
        "                    outputs = model(**inputs)\n",
        "                    logits = outputs.logits\n",
        "                # Obtiene las etiquetas verdaderas del batch\n",
        "                labels = batch[\"labels\"].to(DEVICE)\n",
        "                labels = labels.long()\n",
        "                # Calcula la pérdida entre las predicciones\n",
        "                loss = criterion(logits, labels)\n",
        "                 # Si se está entrenando, realiza el paso de optimización\n",
        "                if is_train:\n",
        "                    loss.backward()\n",
        "                    torch.nn.utils.clip_grad_norm_(model.parameters(), 1.0)\n",
        "                    optimizer.step(); scheduler.step(); optimizer.zero_grad()\n",
        "            # Acumular métricas\n",
        "            losses.append(loss.item())\n",
        "            preds_all.extend(logits.argmax(dim=-1).cpu().numpy())\n",
        "            trues_all.extend(labels.cpu().numpy())\n",
        "\n",
        "        acc = accuracy_score(trues_all, preds_all)\n",
        "        f1_macro = f1_score(trues_all, preds_all, average=\"macro\", zero_division=0)\n",
        "        f1_micro = f1_score(trues_all, preds_all, average=\"micro\", zero_division=0)\n",
        "        return np.mean(losses), acc, f1_macro, f1_micro\n",
        "\n",
        "    # Bucle de entrenamiento con early stopping\n",
        "    hist = {k: [] for k in [\"epoch\",\"train_loss\",\"val_loss\",\n",
        "                        \"train_acc\",\"val_acc\",\"train_f1\",\"val_f1\"]}\n",
        "    for epoch in range(1, EPOCHS + 1):\n",
        "       # Descongela progresivamente las últimas capas\n",
        "        freeze_layers(model, freeze=False,last_n=epoch * UNFREEZE_PER_EPOCH)\n",
        "        # Ejecuta una pasada por el conjunto de entrenamiento y obtiene métricas\n",
        "        train_loss, train_acc, train_f1_macro, train_f1_micro = epoch_pass(\"train\")\n",
        "        # Ejecuta una pasada por el conjunto de validación y obtiene métricas\n",
        "        val_loss,   val_acc,   val_f1_macro,   val_f1_micro   = epoch_pass(\"val\")\n",
        "        hist[\"epoch\"].append(epoch)\n",
        "        hist[\"train_loss\"].append(train_loss); hist[\"val_loss\"].append(val_loss)\n",
        "        hist[\"train_acc\"].append(train_acc);   hist[\"val_acc\"].append(val_acc)\n",
        "        hist[\"train_f1\"].append(train_f1_macro);    hist[\"val_f1\"].append(val_f1_macro)\n",
        "        # Imprime resumen de la época: pérdida y F1/accuracy de validación\n",
        "        print(f\"Ep {epoch:02d}: \\tTL {train_loss:.4f} / VL {val_loss:.4f} | \"\n",
        "              f\"F1_macro {val_f1_macro:.3f}  Acc {val_acc:.3f}\")\n",
        "         # Si se mejora el mejor F1 de validación, guarda el modelo y reinicia paciencia\n",
        "        if val_f1_macro > best_f1:\n",
        "            best_f1 = val_f1_macro\n",
        "            patience_cnt = 0\n",
        "            torch.save(model.state_dict(), best_path)\n",
        "        else:\n",
        "            # Si no mejora, incrementa el contador de paciencia\n",
        "            patience_cnt += 1\n",
        "             # Si se alcanza el umbral de paciencia, detiene el entrenamiento\n",
        "            if patience_cnt == PATIENCE:\n",
        "                print(\"Early stopping ↯\\n\")\n",
        "                break\n",
        "\n",
        "    #  Evaluación sobre test\n",
        "    model.load_state_dict(torch.load(best_path))\n",
        "    test_loss, test_acc, test_f1_macro, test_f1_micro = epoch_pass(\"test\")\n",
        "\n",
        "    y_true, y_pred = [], []\n",
        "    model.eval()\n",
        "    with torch.no_grad():\n",
        "        for batch in loaders[\"test\"]:\n",
        "            batch = {k: (v.to(DEVICE) if torch.is_tensor(v) else v) for k,v in batch.items()}\n",
        "            inputs = {k: v for k, v in batch.items() if k not in [\"labels\", \"text\", \"idx\"]}\n",
        "            labels = batch[\"labels\"].to(DEVICE).long()\n",
        "            if \"roberta\" in model_name:\n",
        "                base_outputs = model[0](**inputs)\n",
        "                cls_embedding = base_outputs.pooler_output\n",
        "                logits = model[1:](cls_embedding)\n",
        "            else:\n",
        "                outputs = model(**inputs)\n",
        "                logits = outputs.logits\n",
        "            y_true.extend(labels.cpu().numpy())\n",
        "            y_pred.extend(logits.argmax(dim=-1).cpu().numpy())\n",
        "\n",
        "    # Precisión y recall (macro / micro)\n",
        "    prec_macro = precision_score(y_true, y_pred, average=\"macro\", zero_division=0)\n",
        "    prec_micro = precision_score(y_true, y_pred, average=\"micro\", zero_division=0)\n",
        "    rec_macro  = recall_score   (y_true, y_pred, average=\"macro\", zero_division=0)\n",
        "    rec_micro  = recall_score   (y_true, y_pred, average=\"micro\", zero_division=0)\n",
        "\n",
        "    report = classification_report(y_true, y_pred,labels=list(range(NUM_LABELS)),\n",
        "                                  target_names=le.classes_.tolist(),\n",
        "                                  digits=3,\n",
        "                                  zero_division=0)\n",
        "\n",
        "    # Limpieza explícita\n",
        "    test_loader_ref = loaders[\"test\"]    # referencia antes de borrar\n",
        "    del loaders, optimizer, scheduler, criterion\n",
        "    gc.collect(); torch.cuda.empty_cache()\n",
        "    # Retorno de resultados\n",
        "    metrics: dict[str, Any] = {\"model\": model_name,\n",
        "                              \"test_acc\": test_acc,\n",
        "                              \"test_precision_macro\": prec_macro,\n",
        "                              \"test_precision_micro\": prec_micro,\n",
        "                              \"test_recall_macro\": rec_macro,\n",
        "                              \"test_recall_micro\": rec_micro,\n",
        "                              \"test_f1_macro\": test_f1_macro,\n",
        "                              \"test_f1_micro\": test_f1_micro,\n",
        "                              \"report\":  report,\n",
        "                              \"history\": hist,\n",
        "                              \"trained_model\": model,\n",
        "                              \"test_loader\": test_loader_ref}\n",
        "\n",
        "    print(f\"\\n Duración total: {(time.time()-start)/60:.1f} min\")\n",
        "    return metrics, model, tokenizer, test_loader_ref , hist"
      ],
      "metadata": {
        "id": "yod5PSrpEXcq"
      },
      "id": "yod5PSrpEXcq",
      "execution_count": 22,
      "outputs": []
    },
    {
      "cell_type": "markdown",
      "source": [
        "***\n",
        "\n",
        "## 4.3. Entrenamiento, validación y prueba\n",
        "\n",
        "En el bloque final de esta sección, se comprueba que el *script* se ejecute como programa principal (*main*), se establece el diccionario **`MODELS`** con las arquitecturas de **BERT** y **RoBERTa** a evaluar. A continuación se inicializan los contenedores **`results`**, **`models`**, **`loaders`** e **`histories`**, y se recorre cada entrada de **`MODELS`** invocando la función **`train_and_evaluate`** sobre los conjuntos de entrenamiento, validación y prueba, guardando los informes detallados y los objetos asociados a cada modelo. Tras entrenar ambos, se imprime una tabla comparativa con las métricas finales de *accuracy*, *precision*, *recall* y *F1* macro para cada modelo.\n",
        "\n",
        "**BERT** es un modelo *transformer* bidireccional [¹] de gran escala entrenado con tareas de *masked language modeling y Next Sentence Prediction*, lo que le permite captar el contexto completo de una secuencia de texto. Su arquitectura profunda (en este caso de 12 capas de atención, pero algunas variantes las llevas hasra 24) facilita el pre-entrenamiento y el *fine-tuning* eficientes en diversas tareas de NLP [¹]. El modelo **`bert-base-uncased`** corresponde a la configuración base de **BERT** y, de forma muy resumida, su arquitectura es [¹]:\n",
        "\n",
        "* **`num_hidden_layers`**: **12**\n",
        "* **`hidden_size`**: **768**\n",
        "* **`num_attention_heads`**: **12**\n",
        "* **`intermediate_size`**: **3072**\n",
        "* **`max_position_embeddings`**: **512**\n",
        "* **`vocab_size`**: **30.522**\n",
        "\n",
        "Además emplea tokenización *WordPiece* sin distinguir mayúsculas/minúsculas\n",
        "\n",
        "Por otro lado, **RoBERTa** es una variante de **BERT** que optimiza el pre-entrenamiento eliminando la tarea de *Next Sentence Prediction* (NSP), usando enmascaramiento dinámico, secuencias más largas y mayor volumen de datos, lo cual mejora la robustez y la precisión sin cambiar la arquitectura base [⁷]. La única diferencia principal está en el tamaño del vocabulario (**`vocab_size`**), que es de **30.522** en BERT base y de **50.265** en RoBERTa.\n",
        "\n",
        "Para el Miniproyecto 3, que requiere clasificar en diferentes temáticas a artículos de la **BBC**, ambos modelos son ideales porque capturan dependencias contextuales complejas sin procesar token por token, lo que acelera el entrenamiento en GPU. Además, manejan la clasificación multi-clase de manera nativa al añadir una capa de salida con función softmax.\n",
        "\n",
        "Frente a las RNNs, los transformers permiten paralelizar el cómputo (y de hecho el tiempo de procesamiento es notablemente mejor, respecto al Miniproyecto 2), evitar el desvanecimiento de gradientes en secuencias largas y lograr mayor precisión y eficiencia en tareas de clasificación de texto."
      ],
      "metadata": {
        "id": "oz4ZPXG44a8W"
      },
      "id": "oz4ZPXG44a8W"
    },
    {
      "cell_type": "code",
      "source": [
        "if __name__ == \"__main__\":\n",
        "    start_main = time.time()\n",
        "    # Define el diccionario de arquitecturas a comparar\n",
        "    MODELS = { \"bert-base-uncased\": \"BERT\",\n",
        "                \"roberta-base\": \"RoBERTa\" }\n",
        "\n",
        "    results =[]\n",
        "    models, loaders, histories = {}, {}, {}\n",
        "    # Itera sobre cada modelo, entrena y evalúa\n",
        "    for mdl_name, label in MODELS.items():\n",
        "        m, mol, tok, tl, h  = train_and_evaluate(mdl_name, train_data, val_data, test_data)\n",
        "        results.append(m)\n",
        "        models[mdl_name]   = mol\n",
        "        loaders[mdl_name]  = tl\n",
        "        histories[mdl_name]= h\n",
        "        print(\"\\n>>> Reporte detallado\")\n",
        "        print(m[\"report\"])\n",
        "        print(\"=\"*60)\n",
        "\n",
        "    # Imprime la comparación final de métricas\n",
        "    print(\"\\n======= Comparativa final =======\")\n",
        "    for res in results:\n",
        "        print(f\"{MODELS[res['model']]:9s} | \"\n",
        "        f\"Acc {res['test_acc']:.3f} | \"\n",
        "        f\"P_macro {res['test_precision_macro']:.3f} | \"\n",
        "        f\"R_macro {res['test_recall_macro']:.3f} | \"\n",
        "        f\"F1_macro {res['test_f1_macro']:.3f}\")\n",
        "\n",
        "    dur = (time.time() - start_main) / 60\n",
        "    print(f\"\\nTiempo total: {dur:.1f} min\\n\")"
      ],
      "metadata": {
        "id": "JAtN1d5G21to",
        "colab": {
          "base_uri": "https://localhost:8080/",
          "height": 660,
          "referenced_widgets": [
            "0f0ce8e0159b45daa0814bd5f3982e42",
            "5f16c71c7f7e44669633fd2d102c209f",
            "4de8b2a548574e58a69fe7860802d615",
            "969d0326e4c649d3bf480a254237ab8e",
            "4de6a05bc47441328634592ee12c12d2",
            "be0f09b97bb040a299d06f6773b638ff",
            "5c17754546904e3eb3b3a2e01bc14d02",
            "92b12c1ec11445f09b5b3b673ebed576",
            "bc09b46e1c844942be4e33c055274b65",
            "2b136352fe454db49316949983d8afe9",
            "35446bd68bca47b4a71479ca8c969603",
            "a003ac9c9f3d4af491447a2697689307",
            "3664d2d1d8824c23bc2724368dec2284",
            "9d190941051d4564a3536da001e45695",
            "ec8144f2296c41dca36f3610866af933",
            "0239c36dee0c4117af2fda59f59a970d",
            "e12fa2ea1e924a0a8f7e6e8eb11b4147",
            "3f9ecfb8da2b49a5901cdb5ddd3d322c",
            "7661f20e7f4d4766b1377646f86bdbdd",
            "addf26abfc234651b4511dc630835413",
            "27257ae00d6a42a9be5cdf4a067f6b61",
            "0c0485a3b5454fbc8fd852d770e28fe3",
            "7d8e3932c1494d90b7e186334fb0d5b6",
            "9bb49b17d0cf4b9781e852021c4ebc4b",
            "9a7094fed2af43a7a30dfda30a639a7e",
            "fc8c5ee1f0df488cb250540bcdd5216f",
            "6b4836fafac74bce948fc4ba2034c0e1",
            "7676c0c6d22b42ac9bcf9f681cfd12cc",
            "416d52832cd0401bae88377fcaf4c66f",
            "ea9b769f59b24315bf0f2b8855d56fb5",
            "ee6e3806094041a0a9fb3ccefc9415ff",
            "078efec8d309486e9f4140ebae5305d7",
            "b3440950bbc94abfbf4a4184705d6485",
            "64d69d89a9e446dd8bcd96b06e8200a0",
            "33ef8923393143e58df5a626af23a84f",
            "f6d8f2e1e8434d42999e99fa5cfaeea7",
            "c7040529ff1e493e813a8da187d4f6d4",
            "96e16d50b4b148b180eb46f5ed107538",
            "e0bf4e9453ae4c438ad1806a615b0bec",
            "179bbd822f9a4cbf914c75f26694fe94",
            "06e719aeabd3431991941482322dbe56",
            "1c9834e77cf142d9ab1144a8d007f1e9",
            "5c0a7cdce7b44a8bb316273840436119",
            "6e048751ceb74ad1bbfccbfbd1280370",
            "8bf12dd8d29d4809a2157f60fc16d682",
            "cc015a2f45e44a479eababda9a1bad71",
            "35c536718dca49cb87cdb6c938880074",
            "edd785be52314f4eb45387a9bd2e1208",
            "2847e47b0e2348d28c01122b9370f8a0",
            "8c592f9a4f994f558e5865975f1789c7",
            "055cdbf6c8f842849f2ed0f0a7e1ecc7",
            "4f8e22ac8f4245a3ac77dbae76de2faa",
            "adcb450edf75446b8a8424848bf99384",
            "e23e85a29b364f3dab6690040fc1cff4",
            "757722c814874fe490f089cbcee4fe32"
          ]
        },
        "outputId": "af41ba11-d6ba-472c-eb85-7c09632f6a4b"
      },
      "id": "JAtN1d5G21to",
      "execution_count": 23,
      "outputs": [
        {
          "output_type": "stream",
          "name": "stdout",
          "text": [
            "\n",
            "Entrenando bert-base-uncased ...\n"
          ]
        },
        {
          "output_type": "display_data",
          "data": {
            "text/plain": [
              "config.json:   0%|          | 0.00/570 [00:00<?, ?B/s]"
            ],
            "application/vnd.jupyter.widget-view+json": {
              "version_major": 2,
              "version_minor": 0,
              "model_id": "0f0ce8e0159b45daa0814bd5f3982e42"
            }
          },
          "metadata": {}
        },
        {
          "output_type": "stream",
          "name": "stderr",
          "text": [
            "Xet Storage is enabled for this repo, but the 'hf_xet' package is not installed. Falling back to regular HTTP download. For better performance, install the package with: `pip install huggingface_hub[hf_xet]` or `pip install hf_xet`\n",
            "WARNING:huggingface_hub.file_download:Xet Storage is enabled for this repo, but the 'hf_xet' package is not installed. Falling back to regular HTTP download. For better performance, install the package with: `pip install huggingface_hub[hf_xet]` or `pip install hf_xet`\n"
          ]
        },
        {
          "output_type": "display_data",
          "data": {
            "text/plain": [
              "model.safetensors:   0%|          | 0.00/440M [00:00<?, ?B/s]"
            ],
            "application/vnd.jupyter.widget-view+json": {
              "version_major": 2,
              "version_minor": 0,
              "model_id": "a003ac9c9f3d4af491447a2697689307"
            }
          },
          "metadata": {}
        },
        {
          "output_type": "stream",
          "name": "stderr",
          "text": [
            "Some weights of BertForSequenceClassification were not initialized from the model checkpoint at bert-base-uncased and are newly initialized: ['classifier.bias', 'classifier.weight']\n",
            "You should probably TRAIN this model on a down-stream task to be able to use it for predictions and inference.\n"
          ]
        },
        {
          "output_type": "display_data",
          "data": {
            "text/plain": [
              "tokenizer_config.json:   0%|          | 0.00/48.0 [00:00<?, ?B/s]"
            ],
            "application/vnd.jupyter.widget-view+json": {
              "version_major": 2,
              "version_minor": 0,
              "model_id": "7d8e3932c1494d90b7e186334fb0d5b6"
            }
          },
          "metadata": {}
        },
        {
          "output_type": "display_data",
          "data": {
            "text/plain": [
              "vocab.txt:   0%|          | 0.00/232k [00:00<?, ?B/s]"
            ],
            "application/vnd.jupyter.widget-view+json": {
              "version_major": 2,
              "version_minor": 0,
              "model_id": "64d69d89a9e446dd8bcd96b06e8200a0"
            }
          },
          "metadata": {}
        },
        {
          "output_type": "display_data",
          "data": {
            "text/plain": [
              "tokenizer.json:   0%|          | 0.00/466k [00:00<?, ?B/s]"
            ],
            "application/vnd.jupyter.widget-view+json": {
              "version_major": 2,
              "version_minor": 0,
              "model_id": "8bf12dd8d29d4809a2157f60fc16d682"
            }
          },
          "metadata": {}
        },
        {
          "output_type": "error",
          "ename": "KeyboardInterrupt",
          "evalue": "",
          "traceback": [
            "\u001b[0;31m---------------------------------------------------------------------------\u001b[0m",
            "\u001b[0;31mKeyboardInterrupt\u001b[0m                         Traceback (most recent call last)",
            "\u001b[0;32m<ipython-input-23-7e4bdc335bf6>\u001b[0m in \u001b[0;36m<cell line: 0>\u001b[0;34m()\u001b[0m\n\u001b[1;32m      9\u001b[0m     \u001b[0;31m# Itera sobre cada modelo, entrena y evalúa\u001b[0m\u001b[0;34m\u001b[0m\u001b[0;34m\u001b[0m\u001b[0m\n\u001b[1;32m     10\u001b[0m     \u001b[0;32mfor\u001b[0m \u001b[0mmdl_name\u001b[0m\u001b[0;34m,\u001b[0m \u001b[0mlabel\u001b[0m \u001b[0;32min\u001b[0m \u001b[0mMODELS\u001b[0m\u001b[0;34m.\u001b[0m\u001b[0mitems\u001b[0m\u001b[0;34m(\u001b[0m\u001b[0;34m)\u001b[0m\u001b[0;34m:\u001b[0m\u001b[0;34m\u001b[0m\u001b[0;34m\u001b[0m\u001b[0m\n\u001b[0;32m---> 11\u001b[0;31m         \u001b[0mm\u001b[0m\u001b[0;34m,\u001b[0m \u001b[0mmol\u001b[0m\u001b[0;34m,\u001b[0m \u001b[0mtok\u001b[0m\u001b[0;34m,\u001b[0m \u001b[0mtl\u001b[0m\u001b[0;34m,\u001b[0m \u001b[0mh\u001b[0m  \u001b[0;34m=\u001b[0m \u001b[0mtrain_and_evaluate\u001b[0m\u001b[0;34m(\u001b[0m\u001b[0mmdl_name\u001b[0m\u001b[0;34m,\u001b[0m \u001b[0mtrain_data\u001b[0m\u001b[0;34m,\u001b[0m \u001b[0mval_data\u001b[0m\u001b[0;34m,\u001b[0m \u001b[0mtest_data\u001b[0m\u001b[0;34m)\u001b[0m\u001b[0;34m\u001b[0m\u001b[0;34m\u001b[0m\u001b[0m\n\u001b[0m\u001b[1;32m     12\u001b[0m         \u001b[0mresults\u001b[0m\u001b[0;34m.\u001b[0m\u001b[0mappend\u001b[0m\u001b[0;34m(\u001b[0m\u001b[0mm\u001b[0m\u001b[0;34m)\u001b[0m\u001b[0;34m\u001b[0m\u001b[0;34m\u001b[0m\u001b[0m\n\u001b[1;32m     13\u001b[0m         \u001b[0mmodels\u001b[0m\u001b[0;34m[\u001b[0m\u001b[0mmdl_name\u001b[0m\u001b[0;34m]\u001b[0m   \u001b[0;34m=\u001b[0m \u001b[0mmol\u001b[0m\u001b[0;34m\u001b[0m\u001b[0;34m\u001b[0m\u001b[0m\n",
            "\u001b[0;32m<ipython-input-22-ecc83f97df03>\u001b[0m in \u001b[0;36mtrain_and_evaluate\u001b[0;34m(model_name, train_data, val_data, test_data)\u001b[0m\n\u001b[1;32m     94\u001b[0m         \u001b[0mfreeze_layers\u001b[0m\u001b[0;34m(\u001b[0m\u001b[0mmodel\u001b[0m\u001b[0;34m,\u001b[0m \u001b[0mfreeze\u001b[0m\u001b[0;34m=\u001b[0m\u001b[0;32mFalse\u001b[0m\u001b[0;34m,\u001b[0m\u001b[0mlast_n\u001b[0m\u001b[0;34m=\u001b[0m\u001b[0mepoch\u001b[0m \u001b[0;34m*\u001b[0m \u001b[0mUNFREEZE_PER_EPOCH\u001b[0m\u001b[0;34m)\u001b[0m\u001b[0;34m\u001b[0m\u001b[0;34m\u001b[0m\u001b[0m\n\u001b[1;32m     95\u001b[0m         \u001b[0;31m# Ejecuta una pasada por el conjunto de entrenamiento y obtiene métricas\u001b[0m\u001b[0;34m\u001b[0m\u001b[0;34m\u001b[0m\u001b[0m\n\u001b[0;32m---> 96\u001b[0;31m         \u001b[0mtrain_loss\u001b[0m\u001b[0;34m,\u001b[0m \u001b[0mtrain_acc\u001b[0m\u001b[0;34m,\u001b[0m \u001b[0mtrain_f1_macro\u001b[0m\u001b[0;34m,\u001b[0m \u001b[0mtrain_f1_micro\u001b[0m \u001b[0;34m=\u001b[0m \u001b[0mepoch_pass\u001b[0m\u001b[0;34m(\u001b[0m\u001b[0;34m\"train\"\u001b[0m\u001b[0;34m)\u001b[0m\u001b[0;34m\u001b[0m\u001b[0;34m\u001b[0m\u001b[0m\n\u001b[0m\u001b[1;32m     97\u001b[0m         \u001b[0;31m# Ejecuta una pasada por el conjunto de validación y obtiene métricas\u001b[0m\u001b[0;34m\u001b[0m\u001b[0;34m\u001b[0m\u001b[0m\n\u001b[1;32m     98\u001b[0m         \u001b[0mval_loss\u001b[0m\u001b[0;34m,\u001b[0m   \u001b[0mval_acc\u001b[0m\u001b[0;34m,\u001b[0m   \u001b[0mval_f1_macro\u001b[0m\u001b[0;34m,\u001b[0m   \u001b[0mval_f1_micro\u001b[0m   \u001b[0;34m=\u001b[0m \u001b[0mepoch_pass\u001b[0m\u001b[0;34m(\u001b[0m\u001b[0;34m\"val\"\u001b[0m\u001b[0;34m)\u001b[0m\u001b[0;34m\u001b[0m\u001b[0;34m\u001b[0m\u001b[0m\n",
            "\u001b[0;32m<ipython-input-22-ecc83f97df03>\u001b[0m in \u001b[0;36mepoch_pass\u001b[0;34m(split)\u001b[0m\n\u001b[1;32m     65\u001b[0m                     \u001b[0mlogits\u001b[0m \u001b[0;34m=\u001b[0m \u001b[0mmodel\u001b[0m\u001b[0;34m[\u001b[0m\u001b[0;36m1\u001b[0m\u001b[0;34m:\u001b[0m\u001b[0;34m]\u001b[0m\u001b[0;34m(\u001b[0m\u001b[0mcls_embedding\u001b[0m\u001b[0;34m)\u001b[0m\u001b[0;34m\u001b[0m\u001b[0;34m\u001b[0m\u001b[0m\n\u001b[1;32m     66\u001b[0m                 \u001b[0;32melse\u001b[0m\u001b[0;34m:\u001b[0m\u001b[0;34m\u001b[0m\u001b[0;34m\u001b[0m\u001b[0m\n\u001b[0;32m---> 67\u001b[0;31m                     \u001b[0moutputs\u001b[0m \u001b[0;34m=\u001b[0m \u001b[0mmodel\u001b[0m\u001b[0;34m(\u001b[0m\u001b[0;34m**\u001b[0m\u001b[0minputs\u001b[0m\u001b[0;34m)\u001b[0m\u001b[0;34m\u001b[0m\u001b[0;34m\u001b[0m\u001b[0m\n\u001b[0m\u001b[1;32m     68\u001b[0m                     \u001b[0mlogits\u001b[0m \u001b[0;34m=\u001b[0m \u001b[0moutputs\u001b[0m\u001b[0;34m.\u001b[0m\u001b[0mlogits\u001b[0m\u001b[0;34m\u001b[0m\u001b[0;34m\u001b[0m\u001b[0m\n\u001b[1;32m     69\u001b[0m                 \u001b[0;31m# Obtiene las etiquetas verdaderas del batch\u001b[0m\u001b[0;34m\u001b[0m\u001b[0;34m\u001b[0m\u001b[0m\n",
            "\u001b[0;32m/usr/local/lib/python3.11/dist-packages/torch/nn/modules/module.py\u001b[0m in \u001b[0;36m_wrapped_call_impl\u001b[0;34m(self, *args, **kwargs)\u001b[0m\n\u001b[1;32m   1737\u001b[0m             \u001b[0;32mreturn\u001b[0m \u001b[0mself\u001b[0m\u001b[0;34m.\u001b[0m\u001b[0m_compiled_call_impl\u001b[0m\u001b[0;34m(\u001b[0m\u001b[0;34m*\u001b[0m\u001b[0margs\u001b[0m\u001b[0;34m,\u001b[0m \u001b[0;34m**\u001b[0m\u001b[0mkwargs\u001b[0m\u001b[0;34m)\u001b[0m  \u001b[0;31m# type: ignore[misc]\u001b[0m\u001b[0;34m\u001b[0m\u001b[0;34m\u001b[0m\u001b[0m\n\u001b[1;32m   1738\u001b[0m         \u001b[0;32melse\u001b[0m\u001b[0;34m:\u001b[0m\u001b[0;34m\u001b[0m\u001b[0;34m\u001b[0m\u001b[0m\n\u001b[0;32m-> 1739\u001b[0;31m             \u001b[0;32mreturn\u001b[0m \u001b[0mself\u001b[0m\u001b[0;34m.\u001b[0m\u001b[0m_call_impl\u001b[0m\u001b[0;34m(\u001b[0m\u001b[0;34m*\u001b[0m\u001b[0margs\u001b[0m\u001b[0;34m,\u001b[0m \u001b[0;34m**\u001b[0m\u001b[0mkwargs\u001b[0m\u001b[0;34m)\u001b[0m\u001b[0;34m\u001b[0m\u001b[0;34m\u001b[0m\u001b[0m\n\u001b[0m\u001b[1;32m   1740\u001b[0m \u001b[0;34m\u001b[0m\u001b[0m\n\u001b[1;32m   1741\u001b[0m     \u001b[0;31m# torchrec tests the code consistency with the following code\u001b[0m\u001b[0;34m\u001b[0m\u001b[0;34m\u001b[0m\u001b[0m\n",
            "\u001b[0;32m/usr/local/lib/python3.11/dist-packages/torch/nn/modules/module.py\u001b[0m in \u001b[0;36m_call_impl\u001b[0;34m(self, *args, **kwargs)\u001b[0m\n\u001b[1;32m   1748\u001b[0m                 \u001b[0;32mor\u001b[0m \u001b[0m_global_backward_pre_hooks\u001b[0m \u001b[0;32mor\u001b[0m \u001b[0m_global_backward_hooks\u001b[0m\u001b[0;34m\u001b[0m\u001b[0;34m\u001b[0m\u001b[0m\n\u001b[1;32m   1749\u001b[0m                 or _global_forward_hooks or _global_forward_pre_hooks):\n\u001b[0;32m-> 1750\u001b[0;31m             \u001b[0;32mreturn\u001b[0m \u001b[0mforward_call\u001b[0m\u001b[0;34m(\u001b[0m\u001b[0;34m*\u001b[0m\u001b[0margs\u001b[0m\u001b[0;34m,\u001b[0m \u001b[0;34m**\u001b[0m\u001b[0mkwargs\u001b[0m\u001b[0;34m)\u001b[0m\u001b[0;34m\u001b[0m\u001b[0;34m\u001b[0m\u001b[0m\n\u001b[0m\u001b[1;32m   1751\u001b[0m \u001b[0;34m\u001b[0m\u001b[0m\n\u001b[1;32m   1752\u001b[0m         \u001b[0mresult\u001b[0m \u001b[0;34m=\u001b[0m \u001b[0;32mNone\u001b[0m\u001b[0;34m\u001b[0m\u001b[0;34m\u001b[0m\u001b[0m\n",
            "\u001b[0;32m/usr/local/lib/python3.11/dist-packages/transformers/models/bert/modeling_bert.py\u001b[0m in \u001b[0;36mforward\u001b[0;34m(self, input_ids, attention_mask, token_type_ids, position_ids, head_mask, inputs_embeds, labels, output_attentions, output_hidden_states, return_dict)\u001b[0m\n\u001b[1;32m   1673\u001b[0m         \u001b[0mreturn_dict\u001b[0m \u001b[0;34m=\u001b[0m \u001b[0mreturn_dict\u001b[0m \u001b[0;32mif\u001b[0m \u001b[0mreturn_dict\u001b[0m \u001b[0;32mis\u001b[0m \u001b[0;32mnot\u001b[0m \u001b[0;32mNone\u001b[0m \u001b[0;32melse\u001b[0m \u001b[0mself\u001b[0m\u001b[0;34m.\u001b[0m\u001b[0mconfig\u001b[0m\u001b[0;34m.\u001b[0m\u001b[0muse_return_dict\u001b[0m\u001b[0;34m\u001b[0m\u001b[0;34m\u001b[0m\u001b[0m\n\u001b[1;32m   1674\u001b[0m \u001b[0;34m\u001b[0m\u001b[0m\n\u001b[0;32m-> 1675\u001b[0;31m         outputs = self.bert(\n\u001b[0m\u001b[1;32m   1676\u001b[0m             \u001b[0minput_ids\u001b[0m\u001b[0;34m,\u001b[0m\u001b[0;34m\u001b[0m\u001b[0;34m\u001b[0m\u001b[0m\n\u001b[1;32m   1677\u001b[0m             \u001b[0mattention_mask\u001b[0m\u001b[0;34m=\u001b[0m\u001b[0mattention_mask\u001b[0m\u001b[0;34m,\u001b[0m\u001b[0;34m\u001b[0m\u001b[0;34m\u001b[0m\u001b[0m\n",
            "\u001b[0;32m/usr/local/lib/python3.11/dist-packages/torch/nn/modules/module.py\u001b[0m in \u001b[0;36m_wrapped_call_impl\u001b[0;34m(self, *args, **kwargs)\u001b[0m\n\u001b[1;32m   1737\u001b[0m             \u001b[0;32mreturn\u001b[0m \u001b[0mself\u001b[0m\u001b[0;34m.\u001b[0m\u001b[0m_compiled_call_impl\u001b[0m\u001b[0;34m(\u001b[0m\u001b[0;34m*\u001b[0m\u001b[0margs\u001b[0m\u001b[0;34m,\u001b[0m \u001b[0;34m**\u001b[0m\u001b[0mkwargs\u001b[0m\u001b[0;34m)\u001b[0m  \u001b[0;31m# type: ignore[misc]\u001b[0m\u001b[0;34m\u001b[0m\u001b[0;34m\u001b[0m\u001b[0m\n\u001b[1;32m   1738\u001b[0m         \u001b[0;32melse\u001b[0m\u001b[0;34m:\u001b[0m\u001b[0;34m\u001b[0m\u001b[0;34m\u001b[0m\u001b[0m\n\u001b[0;32m-> 1739\u001b[0;31m             \u001b[0;32mreturn\u001b[0m \u001b[0mself\u001b[0m\u001b[0;34m.\u001b[0m\u001b[0m_call_impl\u001b[0m\u001b[0;34m(\u001b[0m\u001b[0;34m*\u001b[0m\u001b[0margs\u001b[0m\u001b[0;34m,\u001b[0m \u001b[0;34m**\u001b[0m\u001b[0mkwargs\u001b[0m\u001b[0;34m)\u001b[0m\u001b[0;34m\u001b[0m\u001b[0;34m\u001b[0m\u001b[0m\n\u001b[0m\u001b[1;32m   1740\u001b[0m \u001b[0;34m\u001b[0m\u001b[0m\n\u001b[1;32m   1741\u001b[0m     \u001b[0;31m# torchrec tests the code consistency with the following code\u001b[0m\u001b[0;34m\u001b[0m\u001b[0;34m\u001b[0m\u001b[0m\n",
            "\u001b[0;32m/usr/local/lib/python3.11/dist-packages/torch/nn/modules/module.py\u001b[0m in \u001b[0;36m_call_impl\u001b[0;34m(self, *args, **kwargs)\u001b[0m\n\u001b[1;32m   1748\u001b[0m                 \u001b[0;32mor\u001b[0m \u001b[0m_global_backward_pre_hooks\u001b[0m \u001b[0;32mor\u001b[0m \u001b[0m_global_backward_hooks\u001b[0m\u001b[0;34m\u001b[0m\u001b[0;34m\u001b[0m\u001b[0m\n\u001b[1;32m   1749\u001b[0m                 or _global_forward_hooks or _global_forward_pre_hooks):\n\u001b[0;32m-> 1750\u001b[0;31m             \u001b[0;32mreturn\u001b[0m \u001b[0mforward_call\u001b[0m\u001b[0;34m(\u001b[0m\u001b[0;34m*\u001b[0m\u001b[0margs\u001b[0m\u001b[0;34m,\u001b[0m \u001b[0;34m**\u001b[0m\u001b[0mkwargs\u001b[0m\u001b[0;34m)\u001b[0m\u001b[0;34m\u001b[0m\u001b[0;34m\u001b[0m\u001b[0m\n\u001b[0m\u001b[1;32m   1751\u001b[0m \u001b[0;34m\u001b[0m\u001b[0m\n\u001b[1;32m   1752\u001b[0m         \u001b[0mresult\u001b[0m \u001b[0;34m=\u001b[0m \u001b[0;32mNone\u001b[0m\u001b[0;34m\u001b[0m\u001b[0;34m\u001b[0m\u001b[0m\n",
            "\u001b[0;32m/usr/local/lib/python3.11/dist-packages/transformers/models/bert/modeling_bert.py\u001b[0m in \u001b[0;36mforward\u001b[0;34m(self, input_ids, attention_mask, token_type_ids, position_ids, head_mask, inputs_embeds, encoder_hidden_states, encoder_attention_mask, past_key_values, use_cache, output_attentions, output_hidden_states, return_dict)\u001b[0m\n\u001b[1;32m   1142\u001b[0m         \u001b[0mhead_mask\u001b[0m \u001b[0;34m=\u001b[0m \u001b[0mself\u001b[0m\u001b[0;34m.\u001b[0m\u001b[0mget_head_mask\u001b[0m\u001b[0;34m(\u001b[0m\u001b[0mhead_mask\u001b[0m\u001b[0;34m,\u001b[0m \u001b[0mself\u001b[0m\u001b[0;34m.\u001b[0m\u001b[0mconfig\u001b[0m\u001b[0;34m.\u001b[0m\u001b[0mnum_hidden_layers\u001b[0m\u001b[0;34m)\u001b[0m\u001b[0;34m\u001b[0m\u001b[0;34m\u001b[0m\u001b[0m\n\u001b[1;32m   1143\u001b[0m \u001b[0;34m\u001b[0m\u001b[0m\n\u001b[0;32m-> 1144\u001b[0;31m         encoder_outputs = self.encoder(\n\u001b[0m\u001b[1;32m   1145\u001b[0m             \u001b[0membedding_output\u001b[0m\u001b[0;34m,\u001b[0m\u001b[0;34m\u001b[0m\u001b[0;34m\u001b[0m\u001b[0m\n\u001b[1;32m   1146\u001b[0m             \u001b[0mattention_mask\u001b[0m\u001b[0;34m=\u001b[0m\u001b[0mextended_attention_mask\u001b[0m\u001b[0;34m,\u001b[0m\u001b[0;34m\u001b[0m\u001b[0;34m\u001b[0m\u001b[0m\n",
            "\u001b[0;32m/usr/local/lib/python3.11/dist-packages/torch/nn/modules/module.py\u001b[0m in \u001b[0;36m_wrapped_call_impl\u001b[0;34m(self, *args, **kwargs)\u001b[0m\n\u001b[1;32m   1737\u001b[0m             \u001b[0;32mreturn\u001b[0m \u001b[0mself\u001b[0m\u001b[0;34m.\u001b[0m\u001b[0m_compiled_call_impl\u001b[0m\u001b[0;34m(\u001b[0m\u001b[0;34m*\u001b[0m\u001b[0margs\u001b[0m\u001b[0;34m,\u001b[0m \u001b[0;34m**\u001b[0m\u001b[0mkwargs\u001b[0m\u001b[0;34m)\u001b[0m  \u001b[0;31m# type: ignore[misc]\u001b[0m\u001b[0;34m\u001b[0m\u001b[0;34m\u001b[0m\u001b[0m\n\u001b[1;32m   1738\u001b[0m         \u001b[0;32melse\u001b[0m\u001b[0;34m:\u001b[0m\u001b[0;34m\u001b[0m\u001b[0;34m\u001b[0m\u001b[0m\n\u001b[0;32m-> 1739\u001b[0;31m             \u001b[0;32mreturn\u001b[0m \u001b[0mself\u001b[0m\u001b[0;34m.\u001b[0m\u001b[0m_call_impl\u001b[0m\u001b[0;34m(\u001b[0m\u001b[0;34m*\u001b[0m\u001b[0margs\u001b[0m\u001b[0;34m,\u001b[0m \u001b[0;34m**\u001b[0m\u001b[0mkwargs\u001b[0m\u001b[0;34m)\u001b[0m\u001b[0;34m\u001b[0m\u001b[0;34m\u001b[0m\u001b[0m\n\u001b[0m\u001b[1;32m   1740\u001b[0m \u001b[0;34m\u001b[0m\u001b[0m\n\u001b[1;32m   1741\u001b[0m     \u001b[0;31m# torchrec tests the code consistency with the following code\u001b[0m\u001b[0;34m\u001b[0m\u001b[0;34m\u001b[0m\u001b[0m\n",
            "\u001b[0;32m/usr/local/lib/python3.11/dist-packages/torch/nn/modules/module.py\u001b[0m in \u001b[0;36m_call_impl\u001b[0;34m(self, *args, **kwargs)\u001b[0m\n\u001b[1;32m   1748\u001b[0m                 \u001b[0;32mor\u001b[0m \u001b[0m_global_backward_pre_hooks\u001b[0m \u001b[0;32mor\u001b[0m \u001b[0m_global_backward_hooks\u001b[0m\u001b[0;34m\u001b[0m\u001b[0;34m\u001b[0m\u001b[0m\n\u001b[1;32m   1749\u001b[0m                 or _global_forward_hooks or _global_forward_pre_hooks):\n\u001b[0;32m-> 1750\u001b[0;31m             \u001b[0;32mreturn\u001b[0m \u001b[0mforward_call\u001b[0m\u001b[0;34m(\u001b[0m\u001b[0;34m*\u001b[0m\u001b[0margs\u001b[0m\u001b[0;34m,\u001b[0m \u001b[0;34m**\u001b[0m\u001b[0mkwargs\u001b[0m\u001b[0;34m)\u001b[0m\u001b[0;34m\u001b[0m\u001b[0;34m\u001b[0m\u001b[0m\n\u001b[0m\u001b[1;32m   1751\u001b[0m \u001b[0;34m\u001b[0m\u001b[0m\n\u001b[1;32m   1752\u001b[0m         \u001b[0mresult\u001b[0m \u001b[0;34m=\u001b[0m \u001b[0;32mNone\u001b[0m\u001b[0;34m\u001b[0m\u001b[0;34m\u001b[0m\u001b[0m\n",
            "\u001b[0;32m/usr/local/lib/python3.11/dist-packages/transformers/models/bert/modeling_bert.py\u001b[0m in \u001b[0;36mforward\u001b[0;34m(self, hidden_states, attention_mask, head_mask, encoder_hidden_states, encoder_attention_mask, past_key_values, use_cache, output_attentions, output_hidden_states, return_dict)\u001b[0m\n\u001b[1;32m    693\u001b[0m                 )\n\u001b[1;32m    694\u001b[0m             \u001b[0;32melse\u001b[0m\u001b[0;34m:\u001b[0m\u001b[0;34m\u001b[0m\u001b[0;34m\u001b[0m\u001b[0m\n\u001b[0;32m--> 695\u001b[0;31m                 layer_outputs = layer_module(\n\u001b[0m\u001b[1;32m    696\u001b[0m                     \u001b[0mhidden_states\u001b[0m\u001b[0;34m,\u001b[0m\u001b[0;34m\u001b[0m\u001b[0;34m\u001b[0m\u001b[0m\n\u001b[1;32m    697\u001b[0m                     \u001b[0mattention_mask\u001b[0m\u001b[0;34m,\u001b[0m\u001b[0;34m\u001b[0m\u001b[0;34m\u001b[0m\u001b[0m\n",
            "\u001b[0;32m/usr/local/lib/python3.11/dist-packages/torch/nn/modules/module.py\u001b[0m in \u001b[0;36m_wrapped_call_impl\u001b[0;34m(self, *args, **kwargs)\u001b[0m\n\u001b[1;32m   1737\u001b[0m             \u001b[0;32mreturn\u001b[0m \u001b[0mself\u001b[0m\u001b[0;34m.\u001b[0m\u001b[0m_compiled_call_impl\u001b[0m\u001b[0;34m(\u001b[0m\u001b[0;34m*\u001b[0m\u001b[0margs\u001b[0m\u001b[0;34m,\u001b[0m \u001b[0;34m**\u001b[0m\u001b[0mkwargs\u001b[0m\u001b[0;34m)\u001b[0m  \u001b[0;31m# type: ignore[misc]\u001b[0m\u001b[0;34m\u001b[0m\u001b[0;34m\u001b[0m\u001b[0m\n\u001b[1;32m   1738\u001b[0m         \u001b[0;32melse\u001b[0m\u001b[0;34m:\u001b[0m\u001b[0;34m\u001b[0m\u001b[0;34m\u001b[0m\u001b[0m\n\u001b[0;32m-> 1739\u001b[0;31m             \u001b[0;32mreturn\u001b[0m \u001b[0mself\u001b[0m\u001b[0;34m.\u001b[0m\u001b[0m_call_impl\u001b[0m\u001b[0;34m(\u001b[0m\u001b[0;34m*\u001b[0m\u001b[0margs\u001b[0m\u001b[0;34m,\u001b[0m \u001b[0;34m**\u001b[0m\u001b[0mkwargs\u001b[0m\u001b[0;34m)\u001b[0m\u001b[0;34m\u001b[0m\u001b[0;34m\u001b[0m\u001b[0m\n\u001b[0m\u001b[1;32m   1740\u001b[0m \u001b[0;34m\u001b[0m\u001b[0m\n\u001b[1;32m   1741\u001b[0m     \u001b[0;31m# torchrec tests the code consistency with the following code\u001b[0m\u001b[0;34m\u001b[0m\u001b[0;34m\u001b[0m\u001b[0m\n",
            "\u001b[0;32m/usr/local/lib/python3.11/dist-packages/torch/nn/modules/module.py\u001b[0m in \u001b[0;36m_call_impl\u001b[0;34m(self, *args, **kwargs)\u001b[0m\n\u001b[1;32m   1748\u001b[0m                 \u001b[0;32mor\u001b[0m \u001b[0m_global_backward_pre_hooks\u001b[0m \u001b[0;32mor\u001b[0m \u001b[0m_global_backward_hooks\u001b[0m\u001b[0;34m\u001b[0m\u001b[0;34m\u001b[0m\u001b[0m\n\u001b[1;32m   1749\u001b[0m                 or _global_forward_hooks or _global_forward_pre_hooks):\n\u001b[0;32m-> 1750\u001b[0;31m             \u001b[0;32mreturn\u001b[0m \u001b[0mforward_call\u001b[0m\u001b[0;34m(\u001b[0m\u001b[0;34m*\u001b[0m\u001b[0margs\u001b[0m\u001b[0;34m,\u001b[0m \u001b[0;34m**\u001b[0m\u001b[0mkwargs\u001b[0m\u001b[0;34m)\u001b[0m\u001b[0;34m\u001b[0m\u001b[0;34m\u001b[0m\u001b[0m\n\u001b[0m\u001b[1;32m   1751\u001b[0m \u001b[0;34m\u001b[0m\u001b[0m\n\u001b[1;32m   1752\u001b[0m         \u001b[0mresult\u001b[0m \u001b[0;34m=\u001b[0m \u001b[0;32mNone\u001b[0m\u001b[0;34m\u001b[0m\u001b[0;34m\u001b[0m\u001b[0m\n",
            "\u001b[0;32m/usr/local/lib/python3.11/dist-packages/transformers/models/bert/modeling_bert.py\u001b[0m in \u001b[0;36mforward\u001b[0;34m(self, hidden_states, attention_mask, head_mask, encoder_hidden_states, encoder_attention_mask, past_key_value, output_attentions)\u001b[0m\n\u001b[1;32m    583\u001b[0m         \u001b[0;31m# decoder uni-directional self-attention cached key/values tuple is at positions 1,2\u001b[0m\u001b[0;34m\u001b[0m\u001b[0;34m\u001b[0m\u001b[0m\n\u001b[1;32m    584\u001b[0m         \u001b[0mself_attn_past_key_value\u001b[0m \u001b[0;34m=\u001b[0m \u001b[0mpast_key_value\u001b[0m\u001b[0;34m[\u001b[0m\u001b[0;34m:\u001b[0m\u001b[0;36m2\u001b[0m\u001b[0;34m]\u001b[0m \u001b[0;32mif\u001b[0m \u001b[0mpast_key_value\u001b[0m \u001b[0;32mis\u001b[0m \u001b[0;32mnot\u001b[0m \u001b[0;32mNone\u001b[0m \u001b[0;32melse\u001b[0m \u001b[0;32mNone\u001b[0m\u001b[0;34m\u001b[0m\u001b[0;34m\u001b[0m\u001b[0m\n\u001b[0;32m--> 585\u001b[0;31m         self_attention_outputs = self.attention(\n\u001b[0m\u001b[1;32m    586\u001b[0m             \u001b[0mhidden_states\u001b[0m\u001b[0;34m,\u001b[0m\u001b[0;34m\u001b[0m\u001b[0;34m\u001b[0m\u001b[0m\n\u001b[1;32m    587\u001b[0m             \u001b[0mattention_mask\u001b[0m\u001b[0;34m,\u001b[0m\u001b[0;34m\u001b[0m\u001b[0;34m\u001b[0m\u001b[0m\n",
            "\u001b[0;32m/usr/local/lib/python3.11/dist-packages/torch/nn/modules/module.py\u001b[0m in \u001b[0;36m_wrapped_call_impl\u001b[0;34m(self, *args, **kwargs)\u001b[0m\n\u001b[1;32m   1737\u001b[0m             \u001b[0;32mreturn\u001b[0m \u001b[0mself\u001b[0m\u001b[0;34m.\u001b[0m\u001b[0m_compiled_call_impl\u001b[0m\u001b[0;34m(\u001b[0m\u001b[0;34m*\u001b[0m\u001b[0margs\u001b[0m\u001b[0;34m,\u001b[0m \u001b[0;34m**\u001b[0m\u001b[0mkwargs\u001b[0m\u001b[0;34m)\u001b[0m  \u001b[0;31m# type: ignore[misc]\u001b[0m\u001b[0;34m\u001b[0m\u001b[0;34m\u001b[0m\u001b[0m\n\u001b[1;32m   1738\u001b[0m         \u001b[0;32melse\u001b[0m\u001b[0;34m:\u001b[0m\u001b[0;34m\u001b[0m\u001b[0;34m\u001b[0m\u001b[0m\n\u001b[0;32m-> 1739\u001b[0;31m             \u001b[0;32mreturn\u001b[0m \u001b[0mself\u001b[0m\u001b[0;34m.\u001b[0m\u001b[0m_call_impl\u001b[0m\u001b[0;34m(\u001b[0m\u001b[0;34m*\u001b[0m\u001b[0margs\u001b[0m\u001b[0;34m,\u001b[0m \u001b[0;34m**\u001b[0m\u001b[0mkwargs\u001b[0m\u001b[0;34m)\u001b[0m\u001b[0;34m\u001b[0m\u001b[0;34m\u001b[0m\u001b[0m\n\u001b[0m\u001b[1;32m   1740\u001b[0m \u001b[0;34m\u001b[0m\u001b[0m\n\u001b[1;32m   1741\u001b[0m     \u001b[0;31m# torchrec tests the code consistency with the following code\u001b[0m\u001b[0;34m\u001b[0m\u001b[0;34m\u001b[0m\u001b[0m\n",
            "\u001b[0;32m/usr/local/lib/python3.11/dist-packages/torch/nn/modules/module.py\u001b[0m in \u001b[0;36m_call_impl\u001b[0;34m(self, *args, **kwargs)\u001b[0m\n\u001b[1;32m   1748\u001b[0m                 \u001b[0;32mor\u001b[0m \u001b[0m_global_backward_pre_hooks\u001b[0m \u001b[0;32mor\u001b[0m \u001b[0m_global_backward_hooks\u001b[0m\u001b[0;34m\u001b[0m\u001b[0;34m\u001b[0m\u001b[0m\n\u001b[1;32m   1749\u001b[0m                 or _global_forward_hooks or _global_forward_pre_hooks):\n\u001b[0;32m-> 1750\u001b[0;31m             \u001b[0;32mreturn\u001b[0m \u001b[0mforward_call\u001b[0m\u001b[0;34m(\u001b[0m\u001b[0;34m*\u001b[0m\u001b[0margs\u001b[0m\u001b[0;34m,\u001b[0m \u001b[0;34m**\u001b[0m\u001b[0mkwargs\u001b[0m\u001b[0;34m)\u001b[0m\u001b[0;34m\u001b[0m\u001b[0;34m\u001b[0m\u001b[0m\n\u001b[0m\u001b[1;32m   1751\u001b[0m \u001b[0;34m\u001b[0m\u001b[0m\n\u001b[1;32m   1752\u001b[0m         \u001b[0mresult\u001b[0m \u001b[0;34m=\u001b[0m \u001b[0;32mNone\u001b[0m\u001b[0;34m\u001b[0m\u001b[0;34m\u001b[0m\u001b[0m\n",
            "\u001b[0;32m/usr/local/lib/python3.11/dist-packages/transformers/models/bert/modeling_bert.py\u001b[0m in \u001b[0;36mforward\u001b[0;34m(self, hidden_states, attention_mask, head_mask, encoder_hidden_states, encoder_attention_mask, past_key_value, output_attentions)\u001b[0m\n\u001b[1;32m    522\u001b[0m             \u001b[0moutput_attentions\u001b[0m\u001b[0;34m,\u001b[0m\u001b[0;34m\u001b[0m\u001b[0;34m\u001b[0m\u001b[0m\n\u001b[1;32m    523\u001b[0m         )\n\u001b[0;32m--> 524\u001b[0;31m         \u001b[0mattention_output\u001b[0m \u001b[0;34m=\u001b[0m \u001b[0mself\u001b[0m\u001b[0;34m.\u001b[0m\u001b[0moutput\u001b[0m\u001b[0;34m(\u001b[0m\u001b[0mself_outputs\u001b[0m\u001b[0;34m[\u001b[0m\u001b[0;36m0\u001b[0m\u001b[0;34m]\u001b[0m\u001b[0;34m,\u001b[0m \u001b[0mhidden_states\u001b[0m\u001b[0;34m)\u001b[0m\u001b[0;34m\u001b[0m\u001b[0;34m\u001b[0m\u001b[0m\n\u001b[0m\u001b[1;32m    525\u001b[0m         \u001b[0moutputs\u001b[0m \u001b[0;34m=\u001b[0m \u001b[0;34m(\u001b[0m\u001b[0mattention_output\u001b[0m\u001b[0;34m,\u001b[0m\u001b[0;34m)\u001b[0m \u001b[0;34m+\u001b[0m \u001b[0mself_outputs\u001b[0m\u001b[0;34m[\u001b[0m\u001b[0;36m1\u001b[0m\u001b[0;34m:\u001b[0m\u001b[0;34m]\u001b[0m  \u001b[0;31m# add attentions if we output them\u001b[0m\u001b[0;34m\u001b[0m\u001b[0;34m\u001b[0m\u001b[0m\n\u001b[1;32m    526\u001b[0m         \u001b[0;32mreturn\u001b[0m \u001b[0moutputs\u001b[0m\u001b[0;34m\u001b[0m\u001b[0;34m\u001b[0m\u001b[0m\n",
            "\u001b[0;32m/usr/local/lib/python3.11/dist-packages/torch/nn/modules/module.py\u001b[0m in \u001b[0;36m_wrapped_call_impl\u001b[0;34m(self, *args, **kwargs)\u001b[0m\n\u001b[1;32m   1737\u001b[0m             \u001b[0;32mreturn\u001b[0m \u001b[0mself\u001b[0m\u001b[0;34m.\u001b[0m\u001b[0m_compiled_call_impl\u001b[0m\u001b[0;34m(\u001b[0m\u001b[0;34m*\u001b[0m\u001b[0margs\u001b[0m\u001b[0;34m,\u001b[0m \u001b[0;34m**\u001b[0m\u001b[0mkwargs\u001b[0m\u001b[0;34m)\u001b[0m  \u001b[0;31m# type: ignore[misc]\u001b[0m\u001b[0;34m\u001b[0m\u001b[0;34m\u001b[0m\u001b[0m\n\u001b[1;32m   1738\u001b[0m         \u001b[0;32melse\u001b[0m\u001b[0;34m:\u001b[0m\u001b[0;34m\u001b[0m\u001b[0;34m\u001b[0m\u001b[0m\n\u001b[0;32m-> 1739\u001b[0;31m             \u001b[0;32mreturn\u001b[0m \u001b[0mself\u001b[0m\u001b[0;34m.\u001b[0m\u001b[0m_call_impl\u001b[0m\u001b[0;34m(\u001b[0m\u001b[0;34m*\u001b[0m\u001b[0margs\u001b[0m\u001b[0;34m,\u001b[0m \u001b[0;34m**\u001b[0m\u001b[0mkwargs\u001b[0m\u001b[0;34m)\u001b[0m\u001b[0;34m\u001b[0m\u001b[0;34m\u001b[0m\u001b[0m\n\u001b[0m\u001b[1;32m   1740\u001b[0m \u001b[0;34m\u001b[0m\u001b[0m\n\u001b[1;32m   1741\u001b[0m     \u001b[0;31m# torchrec tests the code consistency with the following code\u001b[0m\u001b[0;34m\u001b[0m\u001b[0;34m\u001b[0m\u001b[0m\n",
            "\u001b[0;32m/usr/local/lib/python3.11/dist-packages/torch/nn/modules/module.py\u001b[0m in \u001b[0;36m_call_impl\u001b[0;34m(self, *args, **kwargs)\u001b[0m\n\u001b[1;32m   1748\u001b[0m                 \u001b[0;32mor\u001b[0m \u001b[0m_global_backward_pre_hooks\u001b[0m \u001b[0;32mor\u001b[0m \u001b[0m_global_backward_hooks\u001b[0m\u001b[0;34m\u001b[0m\u001b[0;34m\u001b[0m\u001b[0m\n\u001b[1;32m   1749\u001b[0m                 or _global_forward_hooks or _global_forward_pre_hooks):\n\u001b[0;32m-> 1750\u001b[0;31m             \u001b[0;32mreturn\u001b[0m \u001b[0mforward_call\u001b[0m\u001b[0;34m(\u001b[0m\u001b[0;34m*\u001b[0m\u001b[0margs\u001b[0m\u001b[0;34m,\u001b[0m \u001b[0;34m**\u001b[0m\u001b[0mkwargs\u001b[0m\u001b[0;34m)\u001b[0m\u001b[0;34m\u001b[0m\u001b[0;34m\u001b[0m\u001b[0m\n\u001b[0m\u001b[1;32m   1751\u001b[0m \u001b[0;34m\u001b[0m\u001b[0m\n\u001b[1;32m   1752\u001b[0m         \u001b[0mresult\u001b[0m \u001b[0;34m=\u001b[0m \u001b[0;32mNone\u001b[0m\u001b[0;34m\u001b[0m\u001b[0;34m\u001b[0m\u001b[0m\n",
            "\u001b[0;32m/usr/local/lib/python3.11/dist-packages/transformers/models/bert/modeling_bert.py\u001b[0m in \u001b[0;36mforward\u001b[0;34m(self, hidden_states, input_tensor)\u001b[0m\n\u001b[1;32m    465\u001b[0m     \u001b[0;32mdef\u001b[0m \u001b[0mforward\u001b[0m\u001b[0;34m(\u001b[0m\u001b[0mself\u001b[0m\u001b[0;34m,\u001b[0m \u001b[0mhidden_states\u001b[0m\u001b[0;34m:\u001b[0m \u001b[0mtorch\u001b[0m\u001b[0;34m.\u001b[0m\u001b[0mTensor\u001b[0m\u001b[0;34m,\u001b[0m \u001b[0minput_tensor\u001b[0m\u001b[0;34m:\u001b[0m \u001b[0mtorch\u001b[0m\u001b[0;34m.\u001b[0m\u001b[0mTensor\u001b[0m\u001b[0;34m)\u001b[0m \u001b[0;34m->\u001b[0m \u001b[0mtorch\u001b[0m\u001b[0;34m.\u001b[0m\u001b[0mTensor\u001b[0m\u001b[0;34m:\u001b[0m\u001b[0;34m\u001b[0m\u001b[0;34m\u001b[0m\u001b[0m\n\u001b[1;32m    466\u001b[0m         \u001b[0mhidden_states\u001b[0m \u001b[0;34m=\u001b[0m \u001b[0mself\u001b[0m\u001b[0;34m.\u001b[0m\u001b[0mdense\u001b[0m\u001b[0;34m(\u001b[0m\u001b[0mhidden_states\u001b[0m\u001b[0;34m)\u001b[0m\u001b[0;34m\u001b[0m\u001b[0;34m\u001b[0m\u001b[0m\n\u001b[0;32m--> 467\u001b[0;31m         \u001b[0mhidden_states\u001b[0m \u001b[0;34m=\u001b[0m \u001b[0mself\u001b[0m\u001b[0;34m.\u001b[0m\u001b[0mdropout\u001b[0m\u001b[0;34m(\u001b[0m\u001b[0mhidden_states\u001b[0m\u001b[0;34m)\u001b[0m\u001b[0;34m\u001b[0m\u001b[0;34m\u001b[0m\u001b[0m\n\u001b[0m\u001b[1;32m    468\u001b[0m         \u001b[0mhidden_states\u001b[0m \u001b[0;34m=\u001b[0m \u001b[0mself\u001b[0m\u001b[0;34m.\u001b[0m\u001b[0mLayerNorm\u001b[0m\u001b[0;34m(\u001b[0m\u001b[0mhidden_states\u001b[0m \u001b[0;34m+\u001b[0m \u001b[0minput_tensor\u001b[0m\u001b[0;34m)\u001b[0m\u001b[0;34m\u001b[0m\u001b[0;34m\u001b[0m\u001b[0m\n\u001b[1;32m    469\u001b[0m         \u001b[0;32mreturn\u001b[0m \u001b[0mhidden_states\u001b[0m\u001b[0;34m\u001b[0m\u001b[0;34m\u001b[0m\u001b[0m\n",
            "\u001b[0;32m/usr/local/lib/python3.11/dist-packages/torch/nn/modules/module.py\u001b[0m in \u001b[0;36m_wrapped_call_impl\u001b[0;34m(self, *args, **kwargs)\u001b[0m\n\u001b[1;32m   1737\u001b[0m             \u001b[0;32mreturn\u001b[0m \u001b[0mself\u001b[0m\u001b[0;34m.\u001b[0m\u001b[0m_compiled_call_impl\u001b[0m\u001b[0;34m(\u001b[0m\u001b[0;34m*\u001b[0m\u001b[0margs\u001b[0m\u001b[0;34m,\u001b[0m \u001b[0;34m**\u001b[0m\u001b[0mkwargs\u001b[0m\u001b[0;34m)\u001b[0m  \u001b[0;31m# type: ignore[misc]\u001b[0m\u001b[0;34m\u001b[0m\u001b[0;34m\u001b[0m\u001b[0m\n\u001b[1;32m   1738\u001b[0m         \u001b[0;32melse\u001b[0m\u001b[0;34m:\u001b[0m\u001b[0;34m\u001b[0m\u001b[0;34m\u001b[0m\u001b[0m\n\u001b[0;32m-> 1739\u001b[0;31m             \u001b[0;32mreturn\u001b[0m \u001b[0mself\u001b[0m\u001b[0;34m.\u001b[0m\u001b[0m_call_impl\u001b[0m\u001b[0;34m(\u001b[0m\u001b[0;34m*\u001b[0m\u001b[0margs\u001b[0m\u001b[0;34m,\u001b[0m \u001b[0;34m**\u001b[0m\u001b[0mkwargs\u001b[0m\u001b[0;34m)\u001b[0m\u001b[0;34m\u001b[0m\u001b[0;34m\u001b[0m\u001b[0m\n\u001b[0m\u001b[1;32m   1740\u001b[0m \u001b[0;34m\u001b[0m\u001b[0m\n\u001b[1;32m   1741\u001b[0m     \u001b[0;31m# torchrec tests the code consistency with the following code\u001b[0m\u001b[0;34m\u001b[0m\u001b[0;34m\u001b[0m\u001b[0m\n",
            "\u001b[0;32m/usr/local/lib/python3.11/dist-packages/torch/nn/modules/module.py\u001b[0m in \u001b[0;36m_call_impl\u001b[0;34m(self, *args, **kwargs)\u001b[0m\n\u001b[1;32m   1748\u001b[0m                 \u001b[0;32mor\u001b[0m \u001b[0m_global_backward_pre_hooks\u001b[0m \u001b[0;32mor\u001b[0m \u001b[0m_global_backward_hooks\u001b[0m\u001b[0;34m\u001b[0m\u001b[0;34m\u001b[0m\u001b[0m\n\u001b[1;32m   1749\u001b[0m                 or _global_forward_hooks or _global_forward_pre_hooks):\n\u001b[0;32m-> 1750\u001b[0;31m             \u001b[0;32mreturn\u001b[0m \u001b[0mforward_call\u001b[0m\u001b[0;34m(\u001b[0m\u001b[0;34m*\u001b[0m\u001b[0margs\u001b[0m\u001b[0;34m,\u001b[0m \u001b[0;34m**\u001b[0m\u001b[0mkwargs\u001b[0m\u001b[0;34m)\u001b[0m\u001b[0;34m\u001b[0m\u001b[0;34m\u001b[0m\u001b[0m\n\u001b[0m\u001b[1;32m   1751\u001b[0m \u001b[0;34m\u001b[0m\u001b[0m\n\u001b[1;32m   1752\u001b[0m         \u001b[0mresult\u001b[0m \u001b[0;34m=\u001b[0m \u001b[0;32mNone\u001b[0m\u001b[0;34m\u001b[0m\u001b[0;34m\u001b[0m\u001b[0m\n",
            "\u001b[0;32m/usr/local/lib/python3.11/dist-packages/torch/nn/modules/dropout.py\u001b[0m in \u001b[0;36mforward\u001b[0;34m(self, input)\u001b[0m\n\u001b[1;32m     68\u001b[0m \u001b[0;34m\u001b[0m\u001b[0m\n\u001b[1;32m     69\u001b[0m     \u001b[0;32mdef\u001b[0m \u001b[0mforward\u001b[0m\u001b[0;34m(\u001b[0m\u001b[0mself\u001b[0m\u001b[0;34m,\u001b[0m \u001b[0minput\u001b[0m\u001b[0;34m:\u001b[0m \u001b[0mTensor\u001b[0m\u001b[0;34m)\u001b[0m \u001b[0;34m->\u001b[0m \u001b[0mTensor\u001b[0m\u001b[0;34m:\u001b[0m\u001b[0;34m\u001b[0m\u001b[0;34m\u001b[0m\u001b[0m\n\u001b[0;32m---> 70\u001b[0;31m         \u001b[0;32mreturn\u001b[0m \u001b[0mF\u001b[0m\u001b[0;34m.\u001b[0m\u001b[0mdropout\u001b[0m\u001b[0;34m(\u001b[0m\u001b[0minput\u001b[0m\u001b[0;34m,\u001b[0m \u001b[0mself\u001b[0m\u001b[0;34m.\u001b[0m\u001b[0mp\u001b[0m\u001b[0;34m,\u001b[0m \u001b[0mself\u001b[0m\u001b[0;34m.\u001b[0m\u001b[0mtraining\u001b[0m\u001b[0;34m,\u001b[0m \u001b[0mself\u001b[0m\u001b[0;34m.\u001b[0m\u001b[0minplace\u001b[0m\u001b[0;34m)\u001b[0m\u001b[0;34m\u001b[0m\u001b[0;34m\u001b[0m\u001b[0m\n\u001b[0m\u001b[1;32m     71\u001b[0m \u001b[0;34m\u001b[0m\u001b[0m\n\u001b[1;32m     72\u001b[0m \u001b[0;34m\u001b[0m\u001b[0m\n",
            "\u001b[0;32m/usr/local/lib/python3.11/dist-packages/torch/nn/functional.py\u001b[0m in \u001b[0;36mdropout\u001b[0;34m(input, p, training, inplace)\u001b[0m\n\u001b[1;32m   1423\u001b[0m         \u001b[0;32mraise\u001b[0m \u001b[0mValueError\u001b[0m\u001b[0;34m(\u001b[0m\u001b[0;34mf\"dropout probability has to be between 0 and 1, but got {p}\"\u001b[0m\u001b[0;34m)\u001b[0m\u001b[0;34m\u001b[0m\u001b[0;34m\u001b[0m\u001b[0m\n\u001b[1;32m   1424\u001b[0m     return (\n\u001b[0;32m-> 1425\u001b[0;31m         \u001b[0m_VF\u001b[0m\u001b[0;34m.\u001b[0m\u001b[0mdropout_\u001b[0m\u001b[0;34m(\u001b[0m\u001b[0minput\u001b[0m\u001b[0;34m,\u001b[0m \u001b[0mp\u001b[0m\u001b[0;34m,\u001b[0m \u001b[0mtraining\u001b[0m\u001b[0;34m)\u001b[0m \u001b[0;32mif\u001b[0m \u001b[0minplace\u001b[0m \u001b[0;32melse\u001b[0m \u001b[0m_VF\u001b[0m\u001b[0;34m.\u001b[0m\u001b[0mdropout\u001b[0m\u001b[0;34m(\u001b[0m\u001b[0minput\u001b[0m\u001b[0;34m,\u001b[0m \u001b[0mp\u001b[0m\u001b[0;34m,\u001b[0m \u001b[0mtraining\u001b[0m\u001b[0;34m)\u001b[0m\u001b[0;34m\u001b[0m\u001b[0;34m\u001b[0m\u001b[0m\n\u001b[0m\u001b[1;32m   1426\u001b[0m     )\n\u001b[1;32m   1427\u001b[0m \u001b[0;34m\u001b[0m\u001b[0m\n",
            "\u001b[0;31mKeyboardInterrupt\u001b[0m: "
          ]
        }
      ]
    },
    {
      "cell_type": "markdown",
      "source": [
        "Sobre las métricas vale la pena precisar que según lo revisado en algunos *notebooks* públicos [⁸], se recomienda el uso de métricas \"macro\", es decir ponderadas por el peso de las clases, para una comparación justa entre modelos cuando hay minorías. Útil incluso con este *dataset* de la BBC (donde no hay desbalanceo significativo) para evidenciar si alguna categoría -“*tech*”, “*sport*”- se queda atrás."
      ],
      "metadata": {
        "id": "wFt2XQ0PcZIJ"
      },
      "id": "wFt2XQ0PcZIJ"
    },
    {
      "cell_type": "markdown",
      "id": "7JgtiyyfIyMM",
      "metadata": {
        "id": "7JgtiyyfIyMM"
      },
      "source": [
        "***\n",
        "\n",
        "\n",
        "# 5. Análisis de resultados y discusión"
      ]
    },
    {
      "cell_type": "markdown",
      "source": [
        "Se realizaron 3 corridas para calcular la media y desviación de cada métrica:\n",
        "\n",
        "| Modelo      | Métrica       | Promedio | Desviación | **`Tiempo total`** |\n",
        "|-------------|---------------|----------|------------|--------------------|\n",
        "| **BERT**    | **`Acc`**         | 0.981    | 0.005      | ≈ 1.5 *min*        |\n",
        "|             | **`Recall`**      | 0.981    | 0.004      |                    |\n",
        "|             | **`Precisión`**   | 0.980    | 0.005      |                    |\n",
        "|             | **`F1_macro`**    | 0.981    | 0.004      |                    |\n",
        "| **RoBERTa** | **`Acc`**         | 0.981    | 0.005      | ≈ 3.5 *min*        |\n",
        "|             | **`Recall`**      | 0.981    | 0.005      |                    |\n",
        "|             | **`Precisión`**   | 0.981    | 0.007      |                    |\n",
        "|             | **`F1_macro`**    | 0.981    | 0.006      |                    |"
      ],
      "metadata": {
        "id": "w_gK-vxu7m2G"
      },
      "id": "w_gK-vxu7m2G"
    },
    {
      "cell_type": "markdown",
      "source": [
        "Se puede observar que **RoBERTa** se desempeña de manera similar a **BERT** con *accuracy*, *recall* y *F1* promedio de 0.981 y y solo *precisión* es un poco diferente siendo de 0.980, con desviaciones entre 0.004 y 0.007. Esto hace pensar que no hay una ventaja particular de uno u otro modelo, sin embargo, el tiempo de entrenamiento **RoBERTa** es un poco mayor.\n",
        "\n",
        "Analizando el detalle por clase, ambos modelos muestran su punto débil en *business* y *politics* (*F1* = 0.950-0.970). Esto indica que ambas arquitecturas aún enfrentan desafíos con categorías que tienen similitud semantica."
      ],
      "metadata": {
        "id": "xnCpSQ0hs0Ri"
      },
      "id": "xnCpSQ0hs0Ri"
    },
    {
      "cell_type": "markdown",
      "source": [
        "A continuación, se define la función **`predict_proba`** decorada con **`@torch.no_grad()`** lo que evita durante la ejecución que se construya o almacene el grafo de cómputo y también que se calculen gradientes para las operaciones, ahorrando memoria y evitando la sobrecarga del *Autograd*.\n",
        "\n",
        "Se ejecuta el modelo en modo evaluación para un lote de datos y devuelve las probabilidades de cada clase, esto nos ayudará más adelante para el análisis y evaluación de los modelos."
      ],
      "metadata": {
        "id": "6iOJO_3X5xw9"
      },
      "id": "6iOJO_3X5xw9"
    },
    {
      "cell_type": "code",
      "source": [
        "# Calcula y devuelve las probabilidades de cada clase para un lote\n",
        "@torch.no_grad()\n",
        "def predict_proba(model, batch, *, device):\n",
        "    model.eval()\n",
        "    # Prepara inputs excluyendo campos no necesarios y moviéndolos a device\n",
        "    inputs = {k: v.to(device) for k, v in batch.items() if k not in [\"labels\", \"text\", \"idx\"]}\n",
        "    # Obtiene logits del modelo\n",
        "    logits = model(**inputs).logits\n",
        "    # Convierte logits a probabilidades vía softmax\n",
        "    probs  = F.softmax(logits, dim=-1)\n",
        "    return probs.cpu()"
      ],
      "metadata": {
        "id": "s6UVvASWngOQ"
      },
      "id": "s6UVvASWngOQ",
      "execution_count": null,
      "outputs": []
    },
    {
      "cell_type": "markdown",
      "source": [
        "La función **`plot_model_diagnostics`** centraliza la visualización de las métricas de entrenamiento y la matriz de confusión en una sola figura, adaptando el número de filas de *subplots* según los datos disponibles."
      ],
      "metadata": {
        "id": "qJZ_NDzdjQ7G"
      },
      "id": "qJZ_NDzdjQ7G"
    },
    {
      "cell_type": "code",
      "source": [
        "# Diagnósticos de entrenamiento y matriz de confusión\n",
        "def plot_model_diagnostics( history: dict = None, model = None, test_loader = None, class_names = None, device = DEVICE, title: str = \"\") -> None:\n",
        "    # Valida cuántos subgráficos se necesitan según los argumentos recibidos\n",
        "    n_rows = 0\n",
        "    if history is not None:\n",
        "        n_rows += 2                # Loss y Accuracy\n",
        "    if model is not None and test_loader is not None and class_names is not None:\n",
        "        n_rows += 1                # Matriz de confusión\n",
        "    if n_rows == 0:\n",
        "        raise ValueError(\"Debes pasar `history` o (`model`, `test_loader`, `class_names`).\")\n",
        "\n",
        "    plt.figure(figsize=(7, 4 * n_rows))\n",
        "    plot_idx = 1\n",
        "\n",
        "    # Si hay historial, traza curvas de pérdida y accuracy\n",
        "    if history is not None:\n",
        "        epochs = range(1, len(history[\"train_loss\"]) + 1)\n",
        "\n",
        "        # Loss\n",
        "        plt.subplot(n_rows, 1, plot_idx)\n",
        "        plt.plot(epochs, history[\"train_loss\"], label=\"Train Loss\")\n",
        "        plt.plot(epochs, history[\"val_loss\"],   label=\"Val Loss\")\n",
        "        plt.xlabel(\"Epoch\")\n",
        "        plt.ylabel(\"Loss\")\n",
        "        plt.title(f\"{title} – Loss\")\n",
        "        plt.legend()\n",
        "        plot_idx += 1\n",
        "\n",
        "        # Accuracy\n",
        "        plt.subplot(n_rows, 1, plot_idx)\n",
        "        plt.plot(epochs, history[\"train_acc\"], label=\"Train Acc\")\n",
        "        plt.plot(epochs, history[\"val_acc\"],   label=\"Val Acc\")\n",
        "        plt.xlabel(\"Epoch\")\n",
        "        plt.ylabel(\"Accuracy\")\n",
        "        plt.title(f\"{title} – Accuracy\")\n",
        "        plt.legend()\n",
        "        plot_idx += 1\n",
        "\n",
        "    #  Metriz de Confusión\n",
        "    if model is not None and test_loader is not None and class_names is not None:\n",
        "        model.eval()\n",
        "        y_true, y_pred = [], []\n",
        "\n",
        "        with torch.no_grad():\n",
        "            for batch in test_loader:\n",
        "\n",
        "                labels = batch[\"labels\"]\n",
        "                inputs = {k: v.to(device) for k, v in batch.items() if k not in [\"labels\", \"text\", \"idx\"]}\n",
        "                # Validación específica par RoBERTa, ya que está en modo sequential\n",
        "                if isinstance(model, nn.Sequential):\n",
        "                    base_outputs = model[0](**inputs)\n",
        "                    cls_embedding = base_outputs.pooler_output\n",
        "                    logits = model[1:](cls_embedding)\n",
        "                else:\n",
        "                    outputs = model(**inputs)\n",
        "                    logits = outputs.logits\n",
        "                probs = F.softmax(logits, dim=-1)\n",
        "                preds = torch.argmax(probs, dim=1)\n",
        "\n",
        "                y_true.extend(labels.cpu().tolist())\n",
        "                y_pred.extend(preds.cpu().tolist())\n",
        "\n",
        "        cm = confusion_matrix(y_true, y_pred)\n",
        "        plt.subplot(n_rows, 1, plot_idx)\n",
        "        disp = ConfusionMatrixDisplay(cm, display_labels=class_names)\n",
        "        disp.plot(ax=plt.gca(), cmap=\"Blues\", colorbar=False)\n",
        "        plt.title(f\"{title} – Confusion Matrix\")\n",
        "        plt.xlabel(\"Predicted\")\n",
        "        plt.ylabel(\"True\")\n",
        "\n",
        "    plt.tight_layout()\n",
        "    plt.show()"
      ],
      "metadata": {
        "id": "uaauR7IpagRo"
      },
      "id": "uaauR7IpagRo",
      "execution_count": null,
      "outputs": []
    },
    {
      "cell_type": "code",
      "source": [
        "# Plot para BERT\n",
        "plot_model_diagnostics( history     = histories[\"bert-base-uncased\"],\n",
        "                        model       = models[\"bert-base-uncased\"],\n",
        "                        test_loader = loaders[\"bert-base-uncased\"],\n",
        "                        class_names = le.classes_.tolist(),\n",
        "                        title       = \"BERT\")\n",
        "\n",
        "# Plot para RoBERTa\n",
        "plot_model_diagnostics( history     = histories[\"roberta-base\"],\n",
        "                        model       = models[\"roberta-base\"],\n",
        "                        test_loader = loaders[\"roberta-base\"],\n",
        "                        class_names = le.classes_.tolist(),\n",
        "                        title       = \"RoBERTa\")"
      ],
      "metadata": {
        "id": "KWYnrx5nGZtR"
      },
      "id": "KWYnrx5nGZtR",
      "execution_count": null,
      "outputs": []
    },
    {
      "cell_type": "markdown",
      "source": [
        "En la **época 1**, **RoBERTa** inicia con **`Val Loss`** ≈ 0.20 y **`Val Acc`** ≈ 0.96, mejor que **BERT** (**`Val Loss`** ≈ 0.30, **`Val Acc`** ≈ 0.95). Ambos convergen antes de la época 3 a **`Val Loss`** ≈ 0.03 y **`Val Acc`** ≈ 0.995. La matriz de confusión raticia posiblemente un similitud semántica entre las temáticas: política y negocios.\n"
      ],
      "metadata": {
        "id": "31FtpC80J-zG"
      },
      "id": "31FtpC80J-zG"
    },
    {
      "cell_type": "markdown",
      "source": [
        "\n",
        "***\n",
        "Ahora vamos a generar una vista de donde se están equivocando los modelos. Para ello, se define la función **`collect_fn_fp_examples`** que recorre el **`test_loader`** para generar las predicciones del **`model`** sin calcular gradientes y agrupa los textos, etiquetas reales y predichas en un **`DataFrame`**. Luego clasifica cada instancia como **FN** (*false negative*), **FP** (*false positive*) o **TP** (*true positive*) comparando **`true`** vs **`pred`**, y selecciona hasta **`k`** ejemplos de cada tipo por clase."
      ],
      "metadata": {
        "id": "9nQZGOzLJlaw"
      },
      "id": "9nQZGOzLJlaw"
    },
    {
      "cell_type": "code",
      "source": [
        "#  Ejemplos FN / FP por clase  (código simplificado)\n",
        "def collect_fn_fp_examples(model, test_loader, class_names, device=DEVICE, k: int = 5) -> pd.DataFrame:\n",
        "\n",
        "    # Establece el modelo en modo evaluación y prepara listas para textos y etiquetas\n",
        "    model.eval()\n",
        "    texts, y_true, y_pred = [], [], []\n",
        "    # Recorre el loader sin graficar gradientes, recopilando predicciones y textos\n",
        "    with torch.no_grad():\n",
        "        for batch in test_loader:\n",
        "            labels = batch[\"labels\"]\n",
        "            inputs = {k:v.to(device) for k,v in batch.items()\n",
        "                      if k not in [\"labels\",\"text\",\"idx\"]}\n",
        "            # Validación para RoBERTa\n",
        "            if isinstance(model, nn.Sequential):\n",
        "                base_outputs = model[0](**inputs)\n",
        "                cls_embedding = base_outputs.pooler_output\n",
        "                logits = model[1:](cls_embedding)\n",
        "            else:\n",
        "                outputs = model(**inputs)\n",
        "                logits = outputs.logits\n",
        "            probs  = F.softmax(logits, dim=-1)\n",
        "            preds  = torch.argmax(probs, dim=1)\n",
        "\n",
        "            y_true.extend(labels.cpu().tolist())\n",
        "            y_pred.extend(preds.cpu().tolist())\n",
        "            texts.extend(batch[\"text\"])\n",
        "    # Construye DataFrame base con texto\n",
        "    data = pd.DataFrame({\"text\": texts,\n",
        "                          \"true\": y_true,\n",
        "                          \"pred\": y_pred })\n",
        "    data[\"type\"] = \"UNDEF\"\n",
        "    # Para cada clase, etiqueta FN, FP y TP según compara true v\n",
        "    out_rows = []\n",
        "    rows=[]\n",
        "    for cls in range(len(class_names)):\n",
        "        data.loc[(data.true==cls) & (data.pred!=cls), \"type\"] = \"FN\"\n",
        "        data.loc[(data.pred==cls) & (data.true!=cls), \"type\"] = \"FP\"\n",
        "        data.loc[(data.true==cls) & (data.pred==cls), \"type\"] = \"TP\"\n",
        "        # Selecciona hasta k ejemplos de FN y FP\n",
        "        fn = data[(data.true==cls)&(data.pred!=cls)].head(k)\n",
        "        fp = data[(data.pred==cls)&(data.true!=cls)].head(k)\n",
        "        rows.extend(fn.assign(tipo=\"FN\", clase=class_names[cls]).to_dict(\"records\"))\n",
        "        rows.extend(fp.assign(tipo=\"FP\", clase=class_names[cls]).to_dict(\"records\"))\n",
        "    return pd.DataFrame(rows)"
      ],
      "metadata": {
        "id": "VrcMKrQPGt2J"
      },
      "id": "VrcMKrQPGt2J",
      "execution_count": null,
      "outputs": []
    },
    {
      "cell_type": "code",
      "source": [
        "# Corre primero la inferencia sobre test_loader\n",
        "data_err_bert = collect_fn_fp_examples(models[\"bert-base-uncased\"], loaders[\"bert-base-uncased\"],\n",
        "                                     le.classes_.tolist(), k=3)\n",
        "\n",
        "data_err_roberta = collect_fn_fp_examples( models[\"roberta-base\"], loaders[\"roberta-base\"],\n",
        "                                     le.classes_.tolist(), k=3)\n",
        "# Luego visualiza\n",
        "display(data_err_bert[[\"text\",\"true\",\"pred\",\"tipo\"]].head(10))\n",
        "display(data_err_roberta[[\"text\",\"true\",\"pred\",\"tipo\"]].head(10))"
      ],
      "metadata": {
        "id": "I80o-UdGG4SO"
      },
      "id": "I80o-UdGG4SO",
      "execution_count": null,
      "outputs": []
    },
    {
      "cell_type": "markdown",
      "source": [
        "En la última corrida, según la matriz de confusión, **RoBERTa** reduce los errores totales (3 vs 4) y mejora especialmente una posible equivación en la clase **`tech`**, aunque ambas arquitecturas siguen confundiendo más la categoría **`business`**. Se puede ver que potencialmente las noticias manejan un nivel de ambigüedad alto especialmente entre **`politics`**  y **`business`** . Por ejemplo en el caso del texto donde se menciona la agenda de Davos, el cual está categorizado como una noticia de negocios, pero claramente este evento puede llegar un alto tinte político.\n"
      ],
      "metadata": {
        "id": "MtU03ySJLJ_q"
      },
      "id": "MtU03ySJLJ_q"
    },
    {
      "cell_type": "markdown",
      "source": [
        "***\n",
        "Para finalizar esta sección de análisis de resultados, se sefine **`tsne_cls`** que extrae primero los embeddings de la posición [CLS] del modelo sobre el **`test_loader`** y, si ya existe un archivo en **`save_path`**, reutiliza la proyección en 2D para ahorrar **`time`**. De lo contrario, consolida todos los vectores CLS y sus etiquetas, calcula dinámicamente la *perplexity* en función del tamaño de muestra para garantizar una proyección estable en t-SNE, y guarda el resultado en disco. Por último, genera un gráfico dispersión en el que cada punto se colorea según su clase, permitiendo visualizar cómo el modelo separa las instancias en el espacio de embeddings."
      ],
      "metadata": {
        "id": "4-IWPpYxM8Cw"
      },
      "id": "4-IWPpYxM8Cw"
    },
    {
      "cell_type": "code",
      "source": [
        "# Proyecta embeddings [CLS] en 2D usando t-SNE\n",
        "def tsne_cls(model, test_loader, class_names, device, save_path = None):\n",
        "    # Obtener o cargar los vectores\n",
        "    if save_path and os.path.isfile(save_path):\n",
        "        print(f\"t-SNE cargado de {save_path}\")\n",
        "        data = np.load(save_path)\n",
        "        X_2d, y = data[:, :2], data[:, 2].astype(int)\n",
        "    else:\n",
        "         # Modo evaluación y recolección de embeddings CLS y etiquetas\n",
        "        model.eval()\n",
        "        reps, labels = [], []\n",
        "\n",
        "        with torch.no_grad():\n",
        "            for batch in test_loader:\n",
        "                inputs = {k: v.to(device) for k, v in batch.items()\n",
        "                          if k not in [\"labels\", \"text\"]}\n",
        "                out = model(**inputs, output_hidden_states=True)\n",
        "                # Nuevamente verificación exclusivo para RoBERTa\n",
        "                if isinstance(model, nn.Sequential):\n",
        "                    base_outputs = model[0](**inputs, output_hidden_states=True)\n",
        "                    cls = base_outputs.hidden_states[-1][:, 0, :]\n",
        "                else:\n",
        "                    outputs = model(**inputs, output_hidden_states=True)\n",
        "                    cls = outputs.hidden_states[-1][:, 0, :]\n",
        "\n",
        "                reps.append(cls.cpu())\n",
        "                labels.extend(batch[\"labels\"].tolist())\n",
        "\n",
        "        X = torch.cat(reps).numpy()\n",
        "        y = np.array(labels)\n",
        "\n",
        "        # Ajusta perplexity en función de n_samples para estabilidad\n",
        "        n_samples   = X.shape[0]\n",
        "        perplexity  = max(5, min(40, n_samples // 10))\n",
        "        print(f\"→ n_samples={n_samples} | perplexity={perplexity}\")\n",
        "\n",
        "        tsne = TSNE(n_components=2, perplexity=perplexity, init=\"random\",\n",
        "            learning_rate=\"auto\", random_state= SEED, n_iter=1000)\n",
        "        X_2d = tsne.fit_transform(X)\n",
        "\n",
        "        # Guarda la proyección para futuras ejecuciones\n",
        "        if save_path:\n",
        "            np.save(save_path, np.c_[X_2d, y])\n",
        "            print(f\"Guardado en {save_path}\")\n",
        "\n",
        "    # Visualiza los puntos proyectados, uno por clase\n",
        "    plt.figure(figsize=(6, 5))\n",
        "    for cls_id, cls_name in enumerate(class_names):\n",
        "        pts = X_2d[y == cls_id]\n",
        "        plt.scatter(pts[:, 0], pts[:, 1], alpha=0.6, label=cls_name, s=15)\n",
        "\n",
        "    plt.title(\"t-SNE de embeddings CLS\")\n",
        "    plt.axis(\"off\")\n",
        "    plt.legend(bbox_to_anchor=(1.05, 1), loc=\"upper left\")\n",
        "    plt.tight_layout()\n",
        "    plt.show()"
      ],
      "metadata": {
        "id": "1jB6JKlLVoQG"
      },
      "id": "1jB6JKlLVoQG",
      "execution_count": null,
      "outputs": []
    },
    {
      "cell_type": "code",
      "source": [
        "tsne_cls(model       = models[\"bert-base-uncased\"] ,\n",
        "          test_loader = loaders[\"bert-base-uncased\"],\n",
        "          class_names = le.classes_.tolist(),\n",
        "          device      = DEVICE,\n",
        "          save_path   = Path(\"tsne_cls_bert.npy\"))"
      ],
      "metadata": {
        "id": "EWyptqdMhynP"
      },
      "id": "EWyptqdMhynP",
      "execution_count": null,
      "outputs": []
    },
    {
      "cell_type": "code",
      "source": [
        "tsne_cls(model       = models[\"roberta-base\"],\n",
        "          test_loader = loaders[\"roberta-base\"],\n",
        "          class_names = le.classes_.tolist(),\n",
        "          device      = DEVICE,\n",
        "          save_path   = Path(\"tsne_cls_roberta.npy\"))"
      ],
      "metadata": {
        "id": "Nd0y6qt7ZRqa"
      },
      "id": "Nd0y6qt7ZRqa",
      "execution_count": null,
      "outputs": []
    },
    {
      "cell_type": "markdown",
      "source": [
        "Ambos modelos forman cinco *clusters* bien definidos para **business**, **entertainment**, **politics**, **sport** y **tech**. Con ambos modelos, se aprecia cierta sobre-posición entre **business** y **politics**, y un punto aislado de **tech** que sugiere mayor dispersión en esa clase. En el caso de **RoBERTa**, los *clusters* son más compactos y mejor separados; especialmente **politics** y **tech** muestran mayor cohesión interna. En ambos modelos, **sport** y **entertainment** quedan claramente aislados, y como se mencionó anteriomente a través de las diferentes corridas no se observan diferencias significativas entre ambos modelos."
      ],
      "metadata": {
        "id": "R9OsihFCOxI2"
      },
      "id": "R9OsihFCOxI2"
    },
    {
      "cell_type": "markdown",
      "source": [
        "***\n",
        "\n",
        "\n",
        "# 6. Conclusión\n",
        "\n",
        "El problema de clasificar artículos de la **BBC** en cinco categorías se abordó con modelos *transformer* —**`bert-base-uncased`** y **`roberta-base`**— entrenados con *fine-tuning* en GPU. Ambos convergieron  alrededor de las 2 épocas gracias a *early-stopping*, y obtienen métricas similares de desempeño pero **RoBERTa** tienen un tiempo de procesamiento ligeramente mayor.\n",
        "\n",
        "En ambos modelos se observa:\n",
        "\n",
        "* **Errores**: la clase **`politics`** concentró la mayoría de FN/FP.\n",
        "* **Confusion matrices**: **RoBERTa** logró 100 % en **`sport`** y **`tech`**, mostrando separabilidad casi perfecta.  \n",
        "* **t-SNE** de *embeddings* CLS: Ambos modelos generaron *clusters* compactos y con un nivel de solapamiento menor.\n",
        "\n",
        " Se recomienda, para este problema en particular adoptar **BERT** como modelo final por tiempo de procesamiento. Sin embargo, hay que priorizar la revisión de datos de **`politics`** / **`business`**  (posible ambigüedad temática) y para futuros trabajos considerar técnicas de *data augmentation* para afinar esa categoría."
      ],
      "metadata": {
        "id": "uDjo26cIk10k"
      },
      "id": "uDjo26cIk10k"
    },
    {
      "cell_type": "markdown",
      "id": "DwUWQIAE3O0o",
      "metadata": {
        "id": "DwUWQIAE3O0o"
      },
      "source": [
        "***\n",
        "\n",
        "\n",
        "# 7. Referencias"
      ]
    },
    {
      "cell_type": "markdown",
      "id": "BoLDjBS03xiQ",
      "metadata": {
        "id": "BoLDjBS03xiQ"
      },
      "source": [
        "[¹] **BERT: Pre-training of Deep Bidirectional Transformers for\n",
        "Language Understanding  Google AI Language**  \n",
        "Disponible en: [arxiv.org](https://arxiv.org/abs/1810.04805)\n",
        "\n",
        "[²] **Documents Classification using BERT on BBC Dataset**  \n",
        "Disponible en: [kaggle.com](https://www.kaggle.com/code/ouardasakram/documents-classification-using-bert-on-bbc-dataset)\n",
        "\n",
        "[³] **Transfer Learning: Why We Freeze and Unfreeze Model Layers**  \n",
        "Disponible en: [medium.com](https://medium.com/data-science-collective/transfer-learning-why-we-freeze-and-unfreeze-model-layers-0e0b8f9837ec)\n",
        "\n",
        "[⁴] **LayerNorm: A key component in parameter-efficient fine-tuning**  \n",
        "Disponible en: [arxiv.org](https://arxiv.org/html/2403.20284v1)\n",
        "\n",
        "[⁵] **Transformers: Optimization**  \n",
        "Disponible en: [huggingface.co](https://huggingface.co/docs/transformers/en/main_classes/optimizer_schedules?utm_source=chatgpt.com)\n",
        "\n",
        "[⁶] **Transformers: Auto Classes**  \n",
        "Disponible en: [huggingface.co](https://huggingface.co/docs/transformers/en/model_doc/auto?utm_source=chatgpt.com)\n",
        "\n",
        "[⁷] **RoBERTa: A Robustly Optimized BERT Pretraining Approach**  \n",
        "Disponible en: [arxiv.org](https://arxiv.org/abs/1907.11692)\n",
        "\n",
        "[⁸] **Bert-Classification-BBC-News**  \n",
        "Disponible en: [github.com](https://github.com/bymi15/Bert-Classification-BBC-News/blob/main/bert_classification_bbc_news.ipynb)\n",
        "\n",
        "\n",
        "\n"
      ]
    }
  ],
  "metadata": {
    "colab": {
      "provenance": [],
      "gpuType": "T4",
      "include_colab_link": true
    },
    "kernelspec": {
      "display_name": "Python 3",
      "name": "python3"
    },
    "language_info": {
      "codemirror_mode": {
        "name": "ipython",
        "version": 3
      },
      "file_extension": ".py",
      "mimetype": "text/x-python",
      "name": "python",
      "nbconvert_exporter": "python",
      "pygments_lexer": "ipython3",
      "version": "3.12.9"
    },
    "accelerator": "GPU",
    "widgets": {
      "application/vnd.jupyter.widget-state+json": {
        "0f0ce8e0159b45daa0814bd5f3982e42": {
          "model_module": "@jupyter-widgets/controls",
          "model_name": "HBoxModel",
          "model_module_version": "1.5.0",
          "state": {
            "_dom_classes": [],
            "_model_module": "@jupyter-widgets/controls",
            "_model_module_version": "1.5.0",
            "_model_name": "HBoxModel",
            "_view_count": null,
            "_view_module": "@jupyter-widgets/controls",
            "_view_module_version": "1.5.0",
            "_view_name": "HBoxView",
            "box_style": "",
            "children": [
              "IPY_MODEL_5f16c71c7f7e44669633fd2d102c209f",
              "IPY_MODEL_4de8b2a548574e58a69fe7860802d615",
              "IPY_MODEL_969d0326e4c649d3bf480a254237ab8e"
            ],
            "layout": "IPY_MODEL_4de6a05bc47441328634592ee12c12d2"
          }
        },
        "5f16c71c7f7e44669633fd2d102c209f": {
          "model_module": "@jupyter-widgets/controls",
          "model_name": "HTMLModel",
          "model_module_version": "1.5.0",
          "state": {
            "_dom_classes": [],
            "_model_module": "@jupyter-widgets/controls",
            "_model_module_version": "1.5.0",
            "_model_name": "HTMLModel",
            "_view_count": null,
            "_view_module": "@jupyter-widgets/controls",
            "_view_module_version": "1.5.0",
            "_view_name": "HTMLView",
            "description": "",
            "description_tooltip": null,
            "layout": "IPY_MODEL_be0f09b97bb040a299d06f6773b638ff",
            "placeholder": "​",
            "style": "IPY_MODEL_5c17754546904e3eb3b3a2e01bc14d02",
            "value": "config.json: 100%"
          }
        },
        "4de8b2a548574e58a69fe7860802d615": {
          "model_module": "@jupyter-widgets/controls",
          "model_name": "FloatProgressModel",
          "model_module_version": "1.5.0",
          "state": {
            "_dom_classes": [],
            "_model_module": "@jupyter-widgets/controls",
            "_model_module_version": "1.5.0",
            "_model_name": "FloatProgressModel",
            "_view_count": null,
            "_view_module": "@jupyter-widgets/controls",
            "_view_module_version": "1.5.0",
            "_view_name": "ProgressView",
            "bar_style": "success",
            "description": "",
            "description_tooltip": null,
            "layout": "IPY_MODEL_92b12c1ec11445f09b5b3b673ebed576",
            "max": 570,
            "min": 0,
            "orientation": "horizontal",
            "style": "IPY_MODEL_bc09b46e1c844942be4e33c055274b65",
            "value": 570
          }
        },
        "969d0326e4c649d3bf480a254237ab8e": {
          "model_module": "@jupyter-widgets/controls",
          "model_name": "HTMLModel",
          "model_module_version": "1.5.0",
          "state": {
            "_dom_classes": [],
            "_model_module": "@jupyter-widgets/controls",
            "_model_module_version": "1.5.0",
            "_model_name": "HTMLModel",
            "_view_count": null,
            "_view_module": "@jupyter-widgets/controls",
            "_view_module_version": "1.5.0",
            "_view_name": "HTMLView",
            "description": "",
            "description_tooltip": null,
            "layout": "IPY_MODEL_2b136352fe454db49316949983d8afe9",
            "placeholder": "​",
            "style": "IPY_MODEL_35446bd68bca47b4a71479ca8c969603",
            "value": " 570/570 [00:00&lt;00:00, 47.6kB/s]"
          }
        },
        "4de6a05bc47441328634592ee12c12d2": {
          "model_module": "@jupyter-widgets/base",
          "model_name": "LayoutModel",
          "model_module_version": "1.2.0",
          "state": {
            "_model_module": "@jupyter-widgets/base",
            "_model_module_version": "1.2.0",
            "_model_name": "LayoutModel",
            "_view_count": null,
            "_view_module": "@jupyter-widgets/base",
            "_view_module_version": "1.2.0",
            "_view_name": "LayoutView",
            "align_content": null,
            "align_items": null,
            "align_self": null,
            "border": null,
            "bottom": null,
            "display": null,
            "flex": null,
            "flex_flow": null,
            "grid_area": null,
            "grid_auto_columns": null,
            "grid_auto_flow": null,
            "grid_auto_rows": null,
            "grid_column": null,
            "grid_gap": null,
            "grid_row": null,
            "grid_template_areas": null,
            "grid_template_columns": null,
            "grid_template_rows": null,
            "height": null,
            "justify_content": null,
            "justify_items": null,
            "left": null,
            "margin": null,
            "max_height": null,
            "max_width": null,
            "min_height": null,
            "min_width": null,
            "object_fit": null,
            "object_position": null,
            "order": null,
            "overflow": null,
            "overflow_x": null,
            "overflow_y": null,
            "padding": null,
            "right": null,
            "top": null,
            "visibility": null,
            "width": null
          }
        },
        "be0f09b97bb040a299d06f6773b638ff": {
          "model_module": "@jupyter-widgets/base",
          "model_name": "LayoutModel",
          "model_module_version": "1.2.0",
          "state": {
            "_model_module": "@jupyter-widgets/base",
            "_model_module_version": "1.2.0",
            "_model_name": "LayoutModel",
            "_view_count": null,
            "_view_module": "@jupyter-widgets/base",
            "_view_module_version": "1.2.0",
            "_view_name": "LayoutView",
            "align_content": null,
            "align_items": null,
            "align_self": null,
            "border": null,
            "bottom": null,
            "display": null,
            "flex": null,
            "flex_flow": null,
            "grid_area": null,
            "grid_auto_columns": null,
            "grid_auto_flow": null,
            "grid_auto_rows": null,
            "grid_column": null,
            "grid_gap": null,
            "grid_row": null,
            "grid_template_areas": null,
            "grid_template_columns": null,
            "grid_template_rows": null,
            "height": null,
            "justify_content": null,
            "justify_items": null,
            "left": null,
            "margin": null,
            "max_height": null,
            "max_width": null,
            "min_height": null,
            "min_width": null,
            "object_fit": null,
            "object_position": null,
            "order": null,
            "overflow": null,
            "overflow_x": null,
            "overflow_y": null,
            "padding": null,
            "right": null,
            "top": null,
            "visibility": null,
            "width": null
          }
        },
        "5c17754546904e3eb3b3a2e01bc14d02": {
          "model_module": "@jupyter-widgets/controls",
          "model_name": "DescriptionStyleModel",
          "model_module_version": "1.5.0",
          "state": {
            "_model_module": "@jupyter-widgets/controls",
            "_model_module_version": "1.5.0",
            "_model_name": "DescriptionStyleModel",
            "_view_count": null,
            "_view_module": "@jupyter-widgets/base",
            "_view_module_version": "1.2.0",
            "_view_name": "StyleView",
            "description_width": ""
          }
        },
        "92b12c1ec11445f09b5b3b673ebed576": {
          "model_module": "@jupyter-widgets/base",
          "model_name": "LayoutModel",
          "model_module_version": "1.2.0",
          "state": {
            "_model_module": "@jupyter-widgets/base",
            "_model_module_version": "1.2.0",
            "_model_name": "LayoutModel",
            "_view_count": null,
            "_view_module": "@jupyter-widgets/base",
            "_view_module_version": "1.2.0",
            "_view_name": "LayoutView",
            "align_content": null,
            "align_items": null,
            "align_self": null,
            "border": null,
            "bottom": null,
            "display": null,
            "flex": null,
            "flex_flow": null,
            "grid_area": null,
            "grid_auto_columns": null,
            "grid_auto_flow": null,
            "grid_auto_rows": null,
            "grid_column": null,
            "grid_gap": null,
            "grid_row": null,
            "grid_template_areas": null,
            "grid_template_columns": null,
            "grid_template_rows": null,
            "height": null,
            "justify_content": null,
            "justify_items": null,
            "left": null,
            "margin": null,
            "max_height": null,
            "max_width": null,
            "min_height": null,
            "min_width": null,
            "object_fit": null,
            "object_position": null,
            "order": null,
            "overflow": null,
            "overflow_x": null,
            "overflow_y": null,
            "padding": null,
            "right": null,
            "top": null,
            "visibility": null,
            "width": null
          }
        },
        "bc09b46e1c844942be4e33c055274b65": {
          "model_module": "@jupyter-widgets/controls",
          "model_name": "ProgressStyleModel",
          "model_module_version": "1.5.0",
          "state": {
            "_model_module": "@jupyter-widgets/controls",
            "_model_module_version": "1.5.0",
            "_model_name": "ProgressStyleModel",
            "_view_count": null,
            "_view_module": "@jupyter-widgets/base",
            "_view_module_version": "1.2.0",
            "_view_name": "StyleView",
            "bar_color": null,
            "description_width": ""
          }
        },
        "2b136352fe454db49316949983d8afe9": {
          "model_module": "@jupyter-widgets/base",
          "model_name": "LayoutModel",
          "model_module_version": "1.2.0",
          "state": {
            "_model_module": "@jupyter-widgets/base",
            "_model_module_version": "1.2.0",
            "_model_name": "LayoutModel",
            "_view_count": null,
            "_view_module": "@jupyter-widgets/base",
            "_view_module_version": "1.2.0",
            "_view_name": "LayoutView",
            "align_content": null,
            "align_items": null,
            "align_self": null,
            "border": null,
            "bottom": null,
            "display": null,
            "flex": null,
            "flex_flow": null,
            "grid_area": null,
            "grid_auto_columns": null,
            "grid_auto_flow": null,
            "grid_auto_rows": null,
            "grid_column": null,
            "grid_gap": null,
            "grid_row": null,
            "grid_template_areas": null,
            "grid_template_columns": null,
            "grid_template_rows": null,
            "height": null,
            "justify_content": null,
            "justify_items": null,
            "left": null,
            "margin": null,
            "max_height": null,
            "max_width": null,
            "min_height": null,
            "min_width": null,
            "object_fit": null,
            "object_position": null,
            "order": null,
            "overflow": null,
            "overflow_x": null,
            "overflow_y": null,
            "padding": null,
            "right": null,
            "top": null,
            "visibility": null,
            "width": null
          }
        },
        "35446bd68bca47b4a71479ca8c969603": {
          "model_module": "@jupyter-widgets/controls",
          "model_name": "DescriptionStyleModel",
          "model_module_version": "1.5.0",
          "state": {
            "_model_module": "@jupyter-widgets/controls",
            "_model_module_version": "1.5.0",
            "_model_name": "DescriptionStyleModel",
            "_view_count": null,
            "_view_module": "@jupyter-widgets/base",
            "_view_module_version": "1.2.0",
            "_view_name": "StyleView",
            "description_width": ""
          }
        },
        "a003ac9c9f3d4af491447a2697689307": {
          "model_module": "@jupyter-widgets/controls",
          "model_name": "HBoxModel",
          "model_module_version": "1.5.0",
          "state": {
            "_dom_classes": [],
            "_model_module": "@jupyter-widgets/controls",
            "_model_module_version": "1.5.0",
            "_model_name": "HBoxModel",
            "_view_count": null,
            "_view_module": "@jupyter-widgets/controls",
            "_view_module_version": "1.5.0",
            "_view_name": "HBoxView",
            "box_style": "",
            "children": [
              "IPY_MODEL_3664d2d1d8824c23bc2724368dec2284",
              "IPY_MODEL_9d190941051d4564a3536da001e45695",
              "IPY_MODEL_ec8144f2296c41dca36f3610866af933"
            ],
            "layout": "IPY_MODEL_0239c36dee0c4117af2fda59f59a970d"
          }
        },
        "3664d2d1d8824c23bc2724368dec2284": {
          "model_module": "@jupyter-widgets/controls",
          "model_name": "HTMLModel",
          "model_module_version": "1.5.0",
          "state": {
            "_dom_classes": [],
            "_model_module": "@jupyter-widgets/controls",
            "_model_module_version": "1.5.0",
            "_model_name": "HTMLModel",
            "_view_count": null,
            "_view_module": "@jupyter-widgets/controls",
            "_view_module_version": "1.5.0",
            "_view_name": "HTMLView",
            "description": "",
            "description_tooltip": null,
            "layout": "IPY_MODEL_e12fa2ea1e924a0a8f7e6e8eb11b4147",
            "placeholder": "​",
            "style": "IPY_MODEL_3f9ecfb8da2b49a5901cdb5ddd3d322c",
            "value": "model.safetensors: 100%"
          }
        },
        "9d190941051d4564a3536da001e45695": {
          "model_module": "@jupyter-widgets/controls",
          "model_name": "FloatProgressModel",
          "model_module_version": "1.5.0",
          "state": {
            "_dom_classes": [],
            "_model_module": "@jupyter-widgets/controls",
            "_model_module_version": "1.5.0",
            "_model_name": "FloatProgressModel",
            "_view_count": null,
            "_view_module": "@jupyter-widgets/controls",
            "_view_module_version": "1.5.0",
            "_view_name": "ProgressView",
            "bar_style": "success",
            "description": "",
            "description_tooltip": null,
            "layout": "IPY_MODEL_7661f20e7f4d4766b1377646f86bdbdd",
            "max": 440449768,
            "min": 0,
            "orientation": "horizontal",
            "style": "IPY_MODEL_addf26abfc234651b4511dc630835413",
            "value": 440449768
          }
        },
        "ec8144f2296c41dca36f3610866af933": {
          "model_module": "@jupyter-widgets/controls",
          "model_name": "HTMLModel",
          "model_module_version": "1.5.0",
          "state": {
            "_dom_classes": [],
            "_model_module": "@jupyter-widgets/controls",
            "_model_module_version": "1.5.0",
            "_model_name": "HTMLModel",
            "_view_count": null,
            "_view_module": "@jupyter-widgets/controls",
            "_view_module_version": "1.5.0",
            "_view_name": "HTMLView",
            "description": "",
            "description_tooltip": null,
            "layout": "IPY_MODEL_27257ae00d6a42a9be5cdf4a067f6b61",
            "placeholder": "​",
            "style": "IPY_MODEL_0c0485a3b5454fbc8fd852d770e28fe3",
            "value": " 440M/440M [00:02&lt;00:00, 205MB/s]"
          }
        },
        "0239c36dee0c4117af2fda59f59a970d": {
          "model_module": "@jupyter-widgets/base",
          "model_name": "LayoutModel",
          "model_module_version": "1.2.0",
          "state": {
            "_model_module": "@jupyter-widgets/base",
            "_model_module_version": "1.2.0",
            "_model_name": "LayoutModel",
            "_view_count": null,
            "_view_module": "@jupyter-widgets/base",
            "_view_module_version": "1.2.0",
            "_view_name": "LayoutView",
            "align_content": null,
            "align_items": null,
            "align_self": null,
            "border": null,
            "bottom": null,
            "display": null,
            "flex": null,
            "flex_flow": null,
            "grid_area": null,
            "grid_auto_columns": null,
            "grid_auto_flow": null,
            "grid_auto_rows": null,
            "grid_column": null,
            "grid_gap": null,
            "grid_row": null,
            "grid_template_areas": null,
            "grid_template_columns": null,
            "grid_template_rows": null,
            "height": null,
            "justify_content": null,
            "justify_items": null,
            "left": null,
            "margin": null,
            "max_height": null,
            "max_width": null,
            "min_height": null,
            "min_width": null,
            "object_fit": null,
            "object_position": null,
            "order": null,
            "overflow": null,
            "overflow_x": null,
            "overflow_y": null,
            "padding": null,
            "right": null,
            "top": null,
            "visibility": null,
            "width": null
          }
        },
        "e12fa2ea1e924a0a8f7e6e8eb11b4147": {
          "model_module": "@jupyter-widgets/base",
          "model_name": "LayoutModel",
          "model_module_version": "1.2.0",
          "state": {
            "_model_module": "@jupyter-widgets/base",
            "_model_module_version": "1.2.0",
            "_model_name": "LayoutModel",
            "_view_count": null,
            "_view_module": "@jupyter-widgets/base",
            "_view_module_version": "1.2.0",
            "_view_name": "LayoutView",
            "align_content": null,
            "align_items": null,
            "align_self": null,
            "border": null,
            "bottom": null,
            "display": null,
            "flex": null,
            "flex_flow": null,
            "grid_area": null,
            "grid_auto_columns": null,
            "grid_auto_flow": null,
            "grid_auto_rows": null,
            "grid_column": null,
            "grid_gap": null,
            "grid_row": null,
            "grid_template_areas": null,
            "grid_template_columns": null,
            "grid_template_rows": null,
            "height": null,
            "justify_content": null,
            "justify_items": null,
            "left": null,
            "margin": null,
            "max_height": null,
            "max_width": null,
            "min_height": null,
            "min_width": null,
            "object_fit": null,
            "object_position": null,
            "order": null,
            "overflow": null,
            "overflow_x": null,
            "overflow_y": null,
            "padding": null,
            "right": null,
            "top": null,
            "visibility": null,
            "width": null
          }
        },
        "3f9ecfb8da2b49a5901cdb5ddd3d322c": {
          "model_module": "@jupyter-widgets/controls",
          "model_name": "DescriptionStyleModel",
          "model_module_version": "1.5.0",
          "state": {
            "_model_module": "@jupyter-widgets/controls",
            "_model_module_version": "1.5.0",
            "_model_name": "DescriptionStyleModel",
            "_view_count": null,
            "_view_module": "@jupyter-widgets/base",
            "_view_module_version": "1.2.0",
            "_view_name": "StyleView",
            "description_width": ""
          }
        },
        "7661f20e7f4d4766b1377646f86bdbdd": {
          "model_module": "@jupyter-widgets/base",
          "model_name": "LayoutModel",
          "model_module_version": "1.2.0",
          "state": {
            "_model_module": "@jupyter-widgets/base",
            "_model_module_version": "1.2.0",
            "_model_name": "LayoutModel",
            "_view_count": null,
            "_view_module": "@jupyter-widgets/base",
            "_view_module_version": "1.2.0",
            "_view_name": "LayoutView",
            "align_content": null,
            "align_items": null,
            "align_self": null,
            "border": null,
            "bottom": null,
            "display": null,
            "flex": null,
            "flex_flow": null,
            "grid_area": null,
            "grid_auto_columns": null,
            "grid_auto_flow": null,
            "grid_auto_rows": null,
            "grid_column": null,
            "grid_gap": null,
            "grid_row": null,
            "grid_template_areas": null,
            "grid_template_columns": null,
            "grid_template_rows": null,
            "height": null,
            "justify_content": null,
            "justify_items": null,
            "left": null,
            "margin": null,
            "max_height": null,
            "max_width": null,
            "min_height": null,
            "min_width": null,
            "object_fit": null,
            "object_position": null,
            "order": null,
            "overflow": null,
            "overflow_x": null,
            "overflow_y": null,
            "padding": null,
            "right": null,
            "top": null,
            "visibility": null,
            "width": null
          }
        },
        "addf26abfc234651b4511dc630835413": {
          "model_module": "@jupyter-widgets/controls",
          "model_name": "ProgressStyleModel",
          "model_module_version": "1.5.0",
          "state": {
            "_model_module": "@jupyter-widgets/controls",
            "_model_module_version": "1.5.0",
            "_model_name": "ProgressStyleModel",
            "_view_count": null,
            "_view_module": "@jupyter-widgets/base",
            "_view_module_version": "1.2.0",
            "_view_name": "StyleView",
            "bar_color": null,
            "description_width": ""
          }
        },
        "27257ae00d6a42a9be5cdf4a067f6b61": {
          "model_module": "@jupyter-widgets/base",
          "model_name": "LayoutModel",
          "model_module_version": "1.2.0",
          "state": {
            "_model_module": "@jupyter-widgets/base",
            "_model_module_version": "1.2.0",
            "_model_name": "LayoutModel",
            "_view_count": null,
            "_view_module": "@jupyter-widgets/base",
            "_view_module_version": "1.2.0",
            "_view_name": "LayoutView",
            "align_content": null,
            "align_items": null,
            "align_self": null,
            "border": null,
            "bottom": null,
            "display": null,
            "flex": null,
            "flex_flow": null,
            "grid_area": null,
            "grid_auto_columns": null,
            "grid_auto_flow": null,
            "grid_auto_rows": null,
            "grid_column": null,
            "grid_gap": null,
            "grid_row": null,
            "grid_template_areas": null,
            "grid_template_columns": null,
            "grid_template_rows": null,
            "height": null,
            "justify_content": null,
            "justify_items": null,
            "left": null,
            "margin": null,
            "max_height": null,
            "max_width": null,
            "min_height": null,
            "min_width": null,
            "object_fit": null,
            "object_position": null,
            "order": null,
            "overflow": null,
            "overflow_x": null,
            "overflow_y": null,
            "padding": null,
            "right": null,
            "top": null,
            "visibility": null,
            "width": null
          }
        },
        "0c0485a3b5454fbc8fd852d770e28fe3": {
          "model_module": "@jupyter-widgets/controls",
          "model_name": "DescriptionStyleModel",
          "model_module_version": "1.5.0",
          "state": {
            "_model_module": "@jupyter-widgets/controls",
            "_model_module_version": "1.5.0",
            "_model_name": "DescriptionStyleModel",
            "_view_count": null,
            "_view_module": "@jupyter-widgets/base",
            "_view_module_version": "1.2.0",
            "_view_name": "StyleView",
            "description_width": ""
          }
        },
        "7d8e3932c1494d90b7e186334fb0d5b6": {
          "model_module": "@jupyter-widgets/controls",
          "model_name": "HBoxModel",
          "model_module_version": "1.5.0",
          "state": {
            "_dom_classes": [],
            "_model_module": "@jupyter-widgets/controls",
            "_model_module_version": "1.5.0",
            "_model_name": "HBoxModel",
            "_view_count": null,
            "_view_module": "@jupyter-widgets/controls",
            "_view_module_version": "1.5.0",
            "_view_name": "HBoxView",
            "box_style": "",
            "children": [
              "IPY_MODEL_9bb49b17d0cf4b9781e852021c4ebc4b",
              "IPY_MODEL_9a7094fed2af43a7a30dfda30a639a7e",
              "IPY_MODEL_fc8c5ee1f0df488cb250540bcdd5216f"
            ],
            "layout": "IPY_MODEL_6b4836fafac74bce948fc4ba2034c0e1"
          }
        },
        "9bb49b17d0cf4b9781e852021c4ebc4b": {
          "model_module": "@jupyter-widgets/controls",
          "model_name": "HTMLModel",
          "model_module_version": "1.5.0",
          "state": {
            "_dom_classes": [],
            "_model_module": "@jupyter-widgets/controls",
            "_model_module_version": "1.5.0",
            "_model_name": "HTMLModel",
            "_view_count": null,
            "_view_module": "@jupyter-widgets/controls",
            "_view_module_version": "1.5.0",
            "_view_name": "HTMLView",
            "description": "",
            "description_tooltip": null,
            "layout": "IPY_MODEL_7676c0c6d22b42ac9bcf9f681cfd12cc",
            "placeholder": "​",
            "style": "IPY_MODEL_416d52832cd0401bae88377fcaf4c66f",
            "value": "tokenizer_config.json: 100%"
          }
        },
        "9a7094fed2af43a7a30dfda30a639a7e": {
          "model_module": "@jupyter-widgets/controls",
          "model_name": "FloatProgressModel",
          "model_module_version": "1.5.0",
          "state": {
            "_dom_classes": [],
            "_model_module": "@jupyter-widgets/controls",
            "_model_module_version": "1.5.0",
            "_model_name": "FloatProgressModel",
            "_view_count": null,
            "_view_module": "@jupyter-widgets/controls",
            "_view_module_version": "1.5.0",
            "_view_name": "ProgressView",
            "bar_style": "success",
            "description": "",
            "description_tooltip": null,
            "layout": "IPY_MODEL_ea9b769f59b24315bf0f2b8855d56fb5",
            "max": 48,
            "min": 0,
            "orientation": "horizontal",
            "style": "IPY_MODEL_ee6e3806094041a0a9fb3ccefc9415ff",
            "value": 48
          }
        },
        "fc8c5ee1f0df488cb250540bcdd5216f": {
          "model_module": "@jupyter-widgets/controls",
          "model_name": "HTMLModel",
          "model_module_version": "1.5.0",
          "state": {
            "_dom_classes": [],
            "_model_module": "@jupyter-widgets/controls",
            "_model_module_version": "1.5.0",
            "_model_name": "HTMLModel",
            "_view_count": null,
            "_view_module": "@jupyter-widgets/controls",
            "_view_module_version": "1.5.0",
            "_view_name": "HTMLView",
            "description": "",
            "description_tooltip": null,
            "layout": "IPY_MODEL_078efec8d309486e9f4140ebae5305d7",
            "placeholder": "​",
            "style": "IPY_MODEL_b3440950bbc94abfbf4a4184705d6485",
            "value": " 48.0/48.0 [00:00&lt;00:00, 4.27kB/s]"
          }
        },
        "6b4836fafac74bce948fc4ba2034c0e1": {
          "model_module": "@jupyter-widgets/base",
          "model_name": "LayoutModel",
          "model_module_version": "1.2.0",
          "state": {
            "_model_module": "@jupyter-widgets/base",
            "_model_module_version": "1.2.0",
            "_model_name": "LayoutModel",
            "_view_count": null,
            "_view_module": "@jupyter-widgets/base",
            "_view_module_version": "1.2.0",
            "_view_name": "LayoutView",
            "align_content": null,
            "align_items": null,
            "align_self": null,
            "border": null,
            "bottom": null,
            "display": null,
            "flex": null,
            "flex_flow": null,
            "grid_area": null,
            "grid_auto_columns": null,
            "grid_auto_flow": null,
            "grid_auto_rows": null,
            "grid_column": null,
            "grid_gap": null,
            "grid_row": null,
            "grid_template_areas": null,
            "grid_template_columns": null,
            "grid_template_rows": null,
            "height": null,
            "justify_content": null,
            "justify_items": null,
            "left": null,
            "margin": null,
            "max_height": null,
            "max_width": null,
            "min_height": null,
            "min_width": null,
            "object_fit": null,
            "object_position": null,
            "order": null,
            "overflow": null,
            "overflow_x": null,
            "overflow_y": null,
            "padding": null,
            "right": null,
            "top": null,
            "visibility": null,
            "width": null
          }
        },
        "7676c0c6d22b42ac9bcf9f681cfd12cc": {
          "model_module": "@jupyter-widgets/base",
          "model_name": "LayoutModel",
          "model_module_version": "1.2.0",
          "state": {
            "_model_module": "@jupyter-widgets/base",
            "_model_module_version": "1.2.0",
            "_model_name": "LayoutModel",
            "_view_count": null,
            "_view_module": "@jupyter-widgets/base",
            "_view_module_version": "1.2.0",
            "_view_name": "LayoutView",
            "align_content": null,
            "align_items": null,
            "align_self": null,
            "border": null,
            "bottom": null,
            "display": null,
            "flex": null,
            "flex_flow": null,
            "grid_area": null,
            "grid_auto_columns": null,
            "grid_auto_flow": null,
            "grid_auto_rows": null,
            "grid_column": null,
            "grid_gap": null,
            "grid_row": null,
            "grid_template_areas": null,
            "grid_template_columns": null,
            "grid_template_rows": null,
            "height": null,
            "justify_content": null,
            "justify_items": null,
            "left": null,
            "margin": null,
            "max_height": null,
            "max_width": null,
            "min_height": null,
            "min_width": null,
            "object_fit": null,
            "object_position": null,
            "order": null,
            "overflow": null,
            "overflow_x": null,
            "overflow_y": null,
            "padding": null,
            "right": null,
            "top": null,
            "visibility": null,
            "width": null
          }
        },
        "416d52832cd0401bae88377fcaf4c66f": {
          "model_module": "@jupyter-widgets/controls",
          "model_name": "DescriptionStyleModel",
          "model_module_version": "1.5.0",
          "state": {
            "_model_module": "@jupyter-widgets/controls",
            "_model_module_version": "1.5.0",
            "_model_name": "DescriptionStyleModel",
            "_view_count": null,
            "_view_module": "@jupyter-widgets/base",
            "_view_module_version": "1.2.0",
            "_view_name": "StyleView",
            "description_width": ""
          }
        },
        "ea9b769f59b24315bf0f2b8855d56fb5": {
          "model_module": "@jupyter-widgets/base",
          "model_name": "LayoutModel",
          "model_module_version": "1.2.0",
          "state": {
            "_model_module": "@jupyter-widgets/base",
            "_model_module_version": "1.2.0",
            "_model_name": "LayoutModel",
            "_view_count": null,
            "_view_module": "@jupyter-widgets/base",
            "_view_module_version": "1.2.0",
            "_view_name": "LayoutView",
            "align_content": null,
            "align_items": null,
            "align_self": null,
            "border": null,
            "bottom": null,
            "display": null,
            "flex": null,
            "flex_flow": null,
            "grid_area": null,
            "grid_auto_columns": null,
            "grid_auto_flow": null,
            "grid_auto_rows": null,
            "grid_column": null,
            "grid_gap": null,
            "grid_row": null,
            "grid_template_areas": null,
            "grid_template_columns": null,
            "grid_template_rows": null,
            "height": null,
            "justify_content": null,
            "justify_items": null,
            "left": null,
            "margin": null,
            "max_height": null,
            "max_width": null,
            "min_height": null,
            "min_width": null,
            "object_fit": null,
            "object_position": null,
            "order": null,
            "overflow": null,
            "overflow_x": null,
            "overflow_y": null,
            "padding": null,
            "right": null,
            "top": null,
            "visibility": null,
            "width": null
          }
        },
        "ee6e3806094041a0a9fb3ccefc9415ff": {
          "model_module": "@jupyter-widgets/controls",
          "model_name": "ProgressStyleModel",
          "model_module_version": "1.5.0",
          "state": {
            "_model_module": "@jupyter-widgets/controls",
            "_model_module_version": "1.5.0",
            "_model_name": "ProgressStyleModel",
            "_view_count": null,
            "_view_module": "@jupyter-widgets/base",
            "_view_module_version": "1.2.0",
            "_view_name": "StyleView",
            "bar_color": null,
            "description_width": ""
          }
        },
        "078efec8d309486e9f4140ebae5305d7": {
          "model_module": "@jupyter-widgets/base",
          "model_name": "LayoutModel",
          "model_module_version": "1.2.0",
          "state": {
            "_model_module": "@jupyter-widgets/base",
            "_model_module_version": "1.2.0",
            "_model_name": "LayoutModel",
            "_view_count": null,
            "_view_module": "@jupyter-widgets/base",
            "_view_module_version": "1.2.0",
            "_view_name": "LayoutView",
            "align_content": null,
            "align_items": null,
            "align_self": null,
            "border": null,
            "bottom": null,
            "display": null,
            "flex": null,
            "flex_flow": null,
            "grid_area": null,
            "grid_auto_columns": null,
            "grid_auto_flow": null,
            "grid_auto_rows": null,
            "grid_column": null,
            "grid_gap": null,
            "grid_row": null,
            "grid_template_areas": null,
            "grid_template_columns": null,
            "grid_template_rows": null,
            "height": null,
            "justify_content": null,
            "justify_items": null,
            "left": null,
            "margin": null,
            "max_height": null,
            "max_width": null,
            "min_height": null,
            "min_width": null,
            "object_fit": null,
            "object_position": null,
            "order": null,
            "overflow": null,
            "overflow_x": null,
            "overflow_y": null,
            "padding": null,
            "right": null,
            "top": null,
            "visibility": null,
            "width": null
          }
        },
        "b3440950bbc94abfbf4a4184705d6485": {
          "model_module": "@jupyter-widgets/controls",
          "model_name": "DescriptionStyleModel",
          "model_module_version": "1.5.0",
          "state": {
            "_model_module": "@jupyter-widgets/controls",
            "_model_module_version": "1.5.0",
            "_model_name": "DescriptionStyleModel",
            "_view_count": null,
            "_view_module": "@jupyter-widgets/base",
            "_view_module_version": "1.2.0",
            "_view_name": "StyleView",
            "description_width": ""
          }
        },
        "64d69d89a9e446dd8bcd96b06e8200a0": {
          "model_module": "@jupyter-widgets/controls",
          "model_name": "HBoxModel",
          "model_module_version": "1.5.0",
          "state": {
            "_dom_classes": [],
            "_model_module": "@jupyter-widgets/controls",
            "_model_module_version": "1.5.0",
            "_model_name": "HBoxModel",
            "_view_count": null,
            "_view_module": "@jupyter-widgets/controls",
            "_view_module_version": "1.5.0",
            "_view_name": "HBoxView",
            "box_style": "",
            "children": [
              "IPY_MODEL_33ef8923393143e58df5a626af23a84f",
              "IPY_MODEL_f6d8f2e1e8434d42999e99fa5cfaeea7",
              "IPY_MODEL_c7040529ff1e493e813a8da187d4f6d4"
            ],
            "layout": "IPY_MODEL_96e16d50b4b148b180eb46f5ed107538"
          }
        },
        "33ef8923393143e58df5a626af23a84f": {
          "model_module": "@jupyter-widgets/controls",
          "model_name": "HTMLModel",
          "model_module_version": "1.5.0",
          "state": {
            "_dom_classes": [],
            "_model_module": "@jupyter-widgets/controls",
            "_model_module_version": "1.5.0",
            "_model_name": "HTMLModel",
            "_view_count": null,
            "_view_module": "@jupyter-widgets/controls",
            "_view_module_version": "1.5.0",
            "_view_name": "HTMLView",
            "description": "",
            "description_tooltip": null,
            "layout": "IPY_MODEL_e0bf4e9453ae4c438ad1806a615b0bec",
            "placeholder": "​",
            "style": "IPY_MODEL_179bbd822f9a4cbf914c75f26694fe94",
            "value": "vocab.txt: 100%"
          }
        },
        "f6d8f2e1e8434d42999e99fa5cfaeea7": {
          "model_module": "@jupyter-widgets/controls",
          "model_name": "FloatProgressModel",
          "model_module_version": "1.5.0",
          "state": {
            "_dom_classes": [],
            "_model_module": "@jupyter-widgets/controls",
            "_model_module_version": "1.5.0",
            "_model_name": "FloatProgressModel",
            "_view_count": null,
            "_view_module": "@jupyter-widgets/controls",
            "_view_module_version": "1.5.0",
            "_view_name": "ProgressView",
            "bar_style": "success",
            "description": "",
            "description_tooltip": null,
            "layout": "IPY_MODEL_06e719aeabd3431991941482322dbe56",
            "max": 231508,
            "min": 0,
            "orientation": "horizontal",
            "style": "IPY_MODEL_1c9834e77cf142d9ab1144a8d007f1e9",
            "value": 231508
          }
        },
        "c7040529ff1e493e813a8da187d4f6d4": {
          "model_module": "@jupyter-widgets/controls",
          "model_name": "HTMLModel",
          "model_module_version": "1.5.0",
          "state": {
            "_dom_classes": [],
            "_model_module": "@jupyter-widgets/controls",
            "_model_module_version": "1.5.0",
            "_model_name": "HTMLModel",
            "_view_count": null,
            "_view_module": "@jupyter-widgets/controls",
            "_view_module_version": "1.5.0",
            "_view_name": "HTMLView",
            "description": "",
            "description_tooltip": null,
            "layout": "IPY_MODEL_5c0a7cdce7b44a8bb316273840436119",
            "placeholder": "​",
            "style": "IPY_MODEL_6e048751ceb74ad1bbfccbfbd1280370",
            "value": " 232k/232k [00:00&lt;00:00, 4.39MB/s]"
          }
        },
        "96e16d50b4b148b180eb46f5ed107538": {
          "model_module": "@jupyter-widgets/base",
          "model_name": "LayoutModel",
          "model_module_version": "1.2.0",
          "state": {
            "_model_module": "@jupyter-widgets/base",
            "_model_module_version": "1.2.0",
            "_model_name": "LayoutModel",
            "_view_count": null,
            "_view_module": "@jupyter-widgets/base",
            "_view_module_version": "1.2.0",
            "_view_name": "LayoutView",
            "align_content": null,
            "align_items": null,
            "align_self": null,
            "border": null,
            "bottom": null,
            "display": null,
            "flex": null,
            "flex_flow": null,
            "grid_area": null,
            "grid_auto_columns": null,
            "grid_auto_flow": null,
            "grid_auto_rows": null,
            "grid_column": null,
            "grid_gap": null,
            "grid_row": null,
            "grid_template_areas": null,
            "grid_template_columns": null,
            "grid_template_rows": null,
            "height": null,
            "justify_content": null,
            "justify_items": null,
            "left": null,
            "margin": null,
            "max_height": null,
            "max_width": null,
            "min_height": null,
            "min_width": null,
            "object_fit": null,
            "object_position": null,
            "order": null,
            "overflow": null,
            "overflow_x": null,
            "overflow_y": null,
            "padding": null,
            "right": null,
            "top": null,
            "visibility": null,
            "width": null
          }
        },
        "e0bf4e9453ae4c438ad1806a615b0bec": {
          "model_module": "@jupyter-widgets/base",
          "model_name": "LayoutModel",
          "model_module_version": "1.2.0",
          "state": {
            "_model_module": "@jupyter-widgets/base",
            "_model_module_version": "1.2.0",
            "_model_name": "LayoutModel",
            "_view_count": null,
            "_view_module": "@jupyter-widgets/base",
            "_view_module_version": "1.2.0",
            "_view_name": "LayoutView",
            "align_content": null,
            "align_items": null,
            "align_self": null,
            "border": null,
            "bottom": null,
            "display": null,
            "flex": null,
            "flex_flow": null,
            "grid_area": null,
            "grid_auto_columns": null,
            "grid_auto_flow": null,
            "grid_auto_rows": null,
            "grid_column": null,
            "grid_gap": null,
            "grid_row": null,
            "grid_template_areas": null,
            "grid_template_columns": null,
            "grid_template_rows": null,
            "height": null,
            "justify_content": null,
            "justify_items": null,
            "left": null,
            "margin": null,
            "max_height": null,
            "max_width": null,
            "min_height": null,
            "min_width": null,
            "object_fit": null,
            "object_position": null,
            "order": null,
            "overflow": null,
            "overflow_x": null,
            "overflow_y": null,
            "padding": null,
            "right": null,
            "top": null,
            "visibility": null,
            "width": null
          }
        },
        "179bbd822f9a4cbf914c75f26694fe94": {
          "model_module": "@jupyter-widgets/controls",
          "model_name": "DescriptionStyleModel",
          "model_module_version": "1.5.0",
          "state": {
            "_model_module": "@jupyter-widgets/controls",
            "_model_module_version": "1.5.0",
            "_model_name": "DescriptionStyleModel",
            "_view_count": null,
            "_view_module": "@jupyter-widgets/base",
            "_view_module_version": "1.2.0",
            "_view_name": "StyleView",
            "description_width": ""
          }
        },
        "06e719aeabd3431991941482322dbe56": {
          "model_module": "@jupyter-widgets/base",
          "model_name": "LayoutModel",
          "model_module_version": "1.2.0",
          "state": {
            "_model_module": "@jupyter-widgets/base",
            "_model_module_version": "1.2.0",
            "_model_name": "LayoutModel",
            "_view_count": null,
            "_view_module": "@jupyter-widgets/base",
            "_view_module_version": "1.2.0",
            "_view_name": "LayoutView",
            "align_content": null,
            "align_items": null,
            "align_self": null,
            "border": null,
            "bottom": null,
            "display": null,
            "flex": null,
            "flex_flow": null,
            "grid_area": null,
            "grid_auto_columns": null,
            "grid_auto_flow": null,
            "grid_auto_rows": null,
            "grid_column": null,
            "grid_gap": null,
            "grid_row": null,
            "grid_template_areas": null,
            "grid_template_columns": null,
            "grid_template_rows": null,
            "height": null,
            "justify_content": null,
            "justify_items": null,
            "left": null,
            "margin": null,
            "max_height": null,
            "max_width": null,
            "min_height": null,
            "min_width": null,
            "object_fit": null,
            "object_position": null,
            "order": null,
            "overflow": null,
            "overflow_x": null,
            "overflow_y": null,
            "padding": null,
            "right": null,
            "top": null,
            "visibility": null,
            "width": null
          }
        },
        "1c9834e77cf142d9ab1144a8d007f1e9": {
          "model_module": "@jupyter-widgets/controls",
          "model_name": "ProgressStyleModel",
          "model_module_version": "1.5.0",
          "state": {
            "_model_module": "@jupyter-widgets/controls",
            "_model_module_version": "1.5.0",
            "_model_name": "ProgressStyleModel",
            "_view_count": null,
            "_view_module": "@jupyter-widgets/base",
            "_view_module_version": "1.2.0",
            "_view_name": "StyleView",
            "bar_color": null,
            "description_width": ""
          }
        },
        "5c0a7cdce7b44a8bb316273840436119": {
          "model_module": "@jupyter-widgets/base",
          "model_name": "LayoutModel",
          "model_module_version": "1.2.0",
          "state": {
            "_model_module": "@jupyter-widgets/base",
            "_model_module_version": "1.2.0",
            "_model_name": "LayoutModel",
            "_view_count": null,
            "_view_module": "@jupyter-widgets/base",
            "_view_module_version": "1.2.0",
            "_view_name": "LayoutView",
            "align_content": null,
            "align_items": null,
            "align_self": null,
            "border": null,
            "bottom": null,
            "display": null,
            "flex": null,
            "flex_flow": null,
            "grid_area": null,
            "grid_auto_columns": null,
            "grid_auto_flow": null,
            "grid_auto_rows": null,
            "grid_column": null,
            "grid_gap": null,
            "grid_row": null,
            "grid_template_areas": null,
            "grid_template_columns": null,
            "grid_template_rows": null,
            "height": null,
            "justify_content": null,
            "justify_items": null,
            "left": null,
            "margin": null,
            "max_height": null,
            "max_width": null,
            "min_height": null,
            "min_width": null,
            "object_fit": null,
            "object_position": null,
            "order": null,
            "overflow": null,
            "overflow_x": null,
            "overflow_y": null,
            "padding": null,
            "right": null,
            "top": null,
            "visibility": null,
            "width": null
          }
        },
        "6e048751ceb74ad1bbfccbfbd1280370": {
          "model_module": "@jupyter-widgets/controls",
          "model_name": "DescriptionStyleModel",
          "model_module_version": "1.5.0",
          "state": {
            "_model_module": "@jupyter-widgets/controls",
            "_model_module_version": "1.5.0",
            "_model_name": "DescriptionStyleModel",
            "_view_count": null,
            "_view_module": "@jupyter-widgets/base",
            "_view_module_version": "1.2.0",
            "_view_name": "StyleView",
            "description_width": ""
          }
        },
        "8bf12dd8d29d4809a2157f60fc16d682": {
          "model_module": "@jupyter-widgets/controls",
          "model_name": "HBoxModel",
          "model_module_version": "1.5.0",
          "state": {
            "_dom_classes": [],
            "_model_module": "@jupyter-widgets/controls",
            "_model_module_version": "1.5.0",
            "_model_name": "HBoxModel",
            "_view_count": null,
            "_view_module": "@jupyter-widgets/controls",
            "_view_module_version": "1.5.0",
            "_view_name": "HBoxView",
            "box_style": "",
            "children": [
              "IPY_MODEL_cc015a2f45e44a479eababda9a1bad71",
              "IPY_MODEL_35c536718dca49cb87cdb6c938880074",
              "IPY_MODEL_edd785be52314f4eb45387a9bd2e1208"
            ],
            "layout": "IPY_MODEL_2847e47b0e2348d28c01122b9370f8a0"
          }
        },
        "cc015a2f45e44a479eababda9a1bad71": {
          "model_module": "@jupyter-widgets/controls",
          "model_name": "HTMLModel",
          "model_module_version": "1.5.0",
          "state": {
            "_dom_classes": [],
            "_model_module": "@jupyter-widgets/controls",
            "_model_module_version": "1.5.0",
            "_model_name": "HTMLModel",
            "_view_count": null,
            "_view_module": "@jupyter-widgets/controls",
            "_view_module_version": "1.5.0",
            "_view_name": "HTMLView",
            "description": "",
            "description_tooltip": null,
            "layout": "IPY_MODEL_8c592f9a4f994f558e5865975f1789c7",
            "placeholder": "​",
            "style": "IPY_MODEL_055cdbf6c8f842849f2ed0f0a7e1ecc7",
            "value": "tokenizer.json: 100%"
          }
        },
        "35c536718dca49cb87cdb6c938880074": {
          "model_module": "@jupyter-widgets/controls",
          "model_name": "FloatProgressModel",
          "model_module_version": "1.5.0",
          "state": {
            "_dom_classes": [],
            "_model_module": "@jupyter-widgets/controls",
            "_model_module_version": "1.5.0",
            "_model_name": "FloatProgressModel",
            "_view_count": null,
            "_view_module": "@jupyter-widgets/controls",
            "_view_module_version": "1.5.0",
            "_view_name": "ProgressView",
            "bar_style": "success",
            "description": "",
            "description_tooltip": null,
            "layout": "IPY_MODEL_4f8e22ac8f4245a3ac77dbae76de2faa",
            "max": 466062,
            "min": 0,
            "orientation": "horizontal",
            "style": "IPY_MODEL_adcb450edf75446b8a8424848bf99384",
            "value": 466062
          }
        },
        "edd785be52314f4eb45387a9bd2e1208": {
          "model_module": "@jupyter-widgets/controls",
          "model_name": "HTMLModel",
          "model_module_version": "1.5.0",
          "state": {
            "_dom_classes": [],
            "_model_module": "@jupyter-widgets/controls",
            "_model_module_version": "1.5.0",
            "_model_name": "HTMLModel",
            "_view_count": null,
            "_view_module": "@jupyter-widgets/controls",
            "_view_module_version": "1.5.0",
            "_view_name": "HTMLView",
            "description": "",
            "description_tooltip": null,
            "layout": "IPY_MODEL_e23e85a29b364f3dab6690040fc1cff4",
            "placeholder": "​",
            "style": "IPY_MODEL_757722c814874fe490f089cbcee4fe32",
            "value": " 466k/466k [00:00&lt;00:00, 11.5MB/s]"
          }
        },
        "2847e47b0e2348d28c01122b9370f8a0": {
          "model_module": "@jupyter-widgets/base",
          "model_name": "LayoutModel",
          "model_module_version": "1.2.0",
          "state": {
            "_model_module": "@jupyter-widgets/base",
            "_model_module_version": "1.2.0",
            "_model_name": "LayoutModel",
            "_view_count": null,
            "_view_module": "@jupyter-widgets/base",
            "_view_module_version": "1.2.0",
            "_view_name": "LayoutView",
            "align_content": null,
            "align_items": null,
            "align_self": null,
            "border": null,
            "bottom": null,
            "display": null,
            "flex": null,
            "flex_flow": null,
            "grid_area": null,
            "grid_auto_columns": null,
            "grid_auto_flow": null,
            "grid_auto_rows": null,
            "grid_column": null,
            "grid_gap": null,
            "grid_row": null,
            "grid_template_areas": null,
            "grid_template_columns": null,
            "grid_template_rows": null,
            "height": null,
            "justify_content": null,
            "justify_items": null,
            "left": null,
            "margin": null,
            "max_height": null,
            "max_width": null,
            "min_height": null,
            "min_width": null,
            "object_fit": null,
            "object_position": null,
            "order": null,
            "overflow": null,
            "overflow_x": null,
            "overflow_y": null,
            "padding": null,
            "right": null,
            "top": null,
            "visibility": null,
            "width": null
          }
        },
        "8c592f9a4f994f558e5865975f1789c7": {
          "model_module": "@jupyter-widgets/base",
          "model_name": "LayoutModel",
          "model_module_version": "1.2.0",
          "state": {
            "_model_module": "@jupyter-widgets/base",
            "_model_module_version": "1.2.0",
            "_model_name": "LayoutModel",
            "_view_count": null,
            "_view_module": "@jupyter-widgets/base",
            "_view_module_version": "1.2.0",
            "_view_name": "LayoutView",
            "align_content": null,
            "align_items": null,
            "align_self": null,
            "border": null,
            "bottom": null,
            "display": null,
            "flex": null,
            "flex_flow": null,
            "grid_area": null,
            "grid_auto_columns": null,
            "grid_auto_flow": null,
            "grid_auto_rows": null,
            "grid_column": null,
            "grid_gap": null,
            "grid_row": null,
            "grid_template_areas": null,
            "grid_template_columns": null,
            "grid_template_rows": null,
            "height": null,
            "justify_content": null,
            "justify_items": null,
            "left": null,
            "margin": null,
            "max_height": null,
            "max_width": null,
            "min_height": null,
            "min_width": null,
            "object_fit": null,
            "object_position": null,
            "order": null,
            "overflow": null,
            "overflow_x": null,
            "overflow_y": null,
            "padding": null,
            "right": null,
            "top": null,
            "visibility": null,
            "width": null
          }
        },
        "055cdbf6c8f842849f2ed0f0a7e1ecc7": {
          "model_module": "@jupyter-widgets/controls",
          "model_name": "DescriptionStyleModel",
          "model_module_version": "1.5.0",
          "state": {
            "_model_module": "@jupyter-widgets/controls",
            "_model_module_version": "1.5.0",
            "_model_name": "DescriptionStyleModel",
            "_view_count": null,
            "_view_module": "@jupyter-widgets/base",
            "_view_module_version": "1.2.0",
            "_view_name": "StyleView",
            "description_width": ""
          }
        },
        "4f8e22ac8f4245a3ac77dbae76de2faa": {
          "model_module": "@jupyter-widgets/base",
          "model_name": "LayoutModel",
          "model_module_version": "1.2.0",
          "state": {
            "_model_module": "@jupyter-widgets/base",
            "_model_module_version": "1.2.0",
            "_model_name": "LayoutModel",
            "_view_count": null,
            "_view_module": "@jupyter-widgets/base",
            "_view_module_version": "1.2.0",
            "_view_name": "LayoutView",
            "align_content": null,
            "align_items": null,
            "align_self": null,
            "border": null,
            "bottom": null,
            "display": null,
            "flex": null,
            "flex_flow": null,
            "grid_area": null,
            "grid_auto_columns": null,
            "grid_auto_flow": null,
            "grid_auto_rows": null,
            "grid_column": null,
            "grid_gap": null,
            "grid_row": null,
            "grid_template_areas": null,
            "grid_template_columns": null,
            "grid_template_rows": null,
            "height": null,
            "justify_content": null,
            "justify_items": null,
            "left": null,
            "margin": null,
            "max_height": null,
            "max_width": null,
            "min_height": null,
            "min_width": null,
            "object_fit": null,
            "object_position": null,
            "order": null,
            "overflow": null,
            "overflow_x": null,
            "overflow_y": null,
            "padding": null,
            "right": null,
            "top": null,
            "visibility": null,
            "width": null
          }
        },
        "adcb450edf75446b8a8424848bf99384": {
          "model_module": "@jupyter-widgets/controls",
          "model_name": "ProgressStyleModel",
          "model_module_version": "1.5.0",
          "state": {
            "_model_module": "@jupyter-widgets/controls",
            "_model_module_version": "1.5.0",
            "_model_name": "ProgressStyleModel",
            "_view_count": null,
            "_view_module": "@jupyter-widgets/base",
            "_view_module_version": "1.2.0",
            "_view_name": "StyleView",
            "bar_color": null,
            "description_width": ""
          }
        },
        "e23e85a29b364f3dab6690040fc1cff4": {
          "model_module": "@jupyter-widgets/base",
          "model_name": "LayoutModel",
          "model_module_version": "1.2.0",
          "state": {
            "_model_module": "@jupyter-widgets/base",
            "_model_module_version": "1.2.0",
            "_model_name": "LayoutModel",
            "_view_count": null,
            "_view_module": "@jupyter-widgets/base",
            "_view_module_version": "1.2.0",
            "_view_name": "LayoutView",
            "align_content": null,
            "align_items": null,
            "align_self": null,
            "border": null,
            "bottom": null,
            "display": null,
            "flex": null,
            "flex_flow": null,
            "grid_area": null,
            "grid_auto_columns": null,
            "grid_auto_flow": null,
            "grid_auto_rows": null,
            "grid_column": null,
            "grid_gap": null,
            "grid_row": null,
            "grid_template_areas": null,
            "grid_template_columns": null,
            "grid_template_rows": null,
            "height": null,
            "justify_content": null,
            "justify_items": null,
            "left": null,
            "margin": null,
            "max_height": null,
            "max_width": null,
            "min_height": null,
            "min_width": null,
            "object_fit": null,
            "object_position": null,
            "order": null,
            "overflow": null,
            "overflow_x": null,
            "overflow_y": null,
            "padding": null,
            "right": null,
            "top": null,
            "visibility": null,
            "width": null
          }
        },
        "757722c814874fe490f089cbcee4fe32": {
          "model_module": "@jupyter-widgets/controls",
          "model_name": "DescriptionStyleModel",
          "model_module_version": "1.5.0",
          "state": {
            "_model_module": "@jupyter-widgets/controls",
            "_model_module_version": "1.5.0",
            "_model_name": "DescriptionStyleModel",
            "_view_count": null,
            "_view_module": "@jupyter-widgets/base",
            "_view_module_version": "1.2.0",
            "_view_name": "StyleView",
            "description_width": ""
          }
        }
      }
    }
  },
  "nbformat": 4,
  "nbformat_minor": 5
}