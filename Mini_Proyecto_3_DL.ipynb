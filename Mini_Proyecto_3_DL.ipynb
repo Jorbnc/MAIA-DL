{
  "cells": [
    {
      "cell_type": "markdown",
      "metadata": {
        "id": "view-in-github",
        "colab_type": "text"
      },
      "source": [
        "<a href=\"https://colab.research.google.com/github/Jorbnc/MAIA-DL/blob/master/Mini_Proyecto_3_DL.ipynb\" target=\"_parent\"><img src=\"https://colab.research.google.com/assets/colab-badge.svg\" alt=\"Open In Colab\"/></a>"
      ]
    },
    {
      "cell_type": "markdown",
      "id": "oa_MJEGQ6jTi",
      "metadata": {
        "id": "oa_MJEGQ6jTi"
      },
      "source": [
        "<img\n",
        "  src=\"data:image/svg+xml;base64,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\"\n",
        "  alt=\"Logo Universidad de los Andes\"\n",
        "  width=\"120\"\n",
        "/>"
      ]
    },
    {
      "cell_type": "markdown",
      "id": "sl89pic17iPU",
      "metadata": {
        "id": "sl89pic17iPU"
      },
      "source": [
        "<style>\n",
        "@import url('https://fonts.googleapis.com/css2?family=Latin+Modern+Roman:wght@400;700&display=swap');\n",
        "\n",
        "body, p, h1, h2, h3, h4, h5, h6, li {\n",
        "  font-family: 'Latin Modern Roman', serif;\n",
        "}\n",
        "code, pre {\n",
        "  font-family: 'Fira Mono', monospace;\n",
        "}\n",
        "</style>\n",
        "\n",
        "***\n",
        "\n",
        "# **Miniproyecto 3 -Técnicas de *Deep Learning*- Clasificación Multi-Clase de Artículos de Noticias de la BBC usando Transformers**\n",
        "\n",
        "## **Descripción del Problema**\n",
        "\n",
        "En este miniproyecto se plantea la **clasificación multi-clase** de artículos de noticias de la BBC aprovechando la capacidad de los modelos **transformer** para capturar relaciones contextuales complejas. Cada artículo puede pertenecer a una de varias categorías temáticas (e.g., *Sport, Business, Politics, Tech*).\n",
        "\n",
        "## **Objetivo**\n",
        "\n",
        "Desarrollar e implementar un modelo de clasificación multi-clase basado en transformers ( **BERT** y **RoBERTa**) que, tras un preprocesamiento del texto y la adaptación de la capa de salida, sea capaz de predecir con alta exactitud, precisión, *recall* y *F1-score* las categorías de los artículos de la BBC. El modelo deberá entrenarse y evaluarse usando particiones de entrenamiento, validación y prueba, y reportar métricas detalladas por categoría."
      ]
    },
    {
      "cell_type": "markdown",
      "id": "SiCS5j-HAbCB",
      "metadata": {
        "id": "SiCS5j-HAbCB"
      },
      "source": [
        "***\n",
        "\n",
        "**Este proyecto es realizado por Andrés Felipe Ñungo y Jordan Bryan Núñez Campos para entrega el 13 de mayo de 2025.**\n"
      ]
    },
    {
      "cell_type": "markdown",
      "id": "8VqTMx7TYgjH",
      "metadata": {
        "id": "8VqTMx7TYgjH"
      },
      "source": [
        "\n",
        "***\n",
        "# **Índice**\n",
        "\n",
        "El *notebook* aborda el proyecto con la siguiente estructura:\n",
        "\n",
        "| 🔹 | Sección        |\n",
        "|----|----------------|\n",
        "| 1️⃣. | **Instalación y carga de librerías** |\n",
        "| 1️⃣.1️⃣. | **Word2Vec** |\n",
        "| 1️⃣.2️⃣. | **GloVe** |\n",
        "| 1️⃣.3️⃣. | **Configuraciones adicionales** |\n",
        "| 2️⃣. | **Análisis exploratorio y preparación de los datos**       |\n",
        "| 2️⃣.1️⃣. | **Carga y estadísticas generales**       |\n",
        "| 2️⃣.2️⃣. | **Limpieza de los datos**       |\n",
        "| 3️⃣. | **Definición de *pipelines* de procesamiento**          |\n",
        "| 3️⃣.1️⃣. | **Pipeline de preprocesamiento**   |\n",
        "| 4️⃣. | **Desarrollo del modelo RNN**   |\n",
        "| 4️⃣.1️⃣. | **Hiperparámetros, Partición y DataLoaders**   |\n",
        "| 4️⃣.2️⃣. | **Definición del modelo**   |\n",
        "| 4️⃣.3️⃣. | **Entrenamiento, validación y prueba**   |\n",
        "| 5️⃣. | **Análisis de resultados y discusión**   |\n",
        "| 5️⃣.1️⃣. | **Pruebas individuales del modelo**   |\n",
        "| 6️⃣. | **Conclusión**   |\n",
        "| 7️⃣. | **Referencias**   |\n"
      ]
    },
    {
      "cell_type": "markdown",
      "id": "2cyVuwlHB_W3",
      "metadata": {
        "id": "2cyVuwlHB_W3"
      },
      "source": [
        "***\n",
        "\n",
        "# 1. Instalación y carga de librerías"
      ]
    },
    {
      "cell_type": "markdown",
      "source": [
        "Antes de proceder con la carga de las librerías, se instalan para efectos de un correcto funcionamiento en ambientes como *Coursera* o *Google Colab*: **`kagglehub langdetect matplotlib scikit-learn plotly`**.\n"
      ],
      "metadata": {
        "id": "DkjBiBB5rU6t"
      },
      "id": "DkjBiBB5rU6t"
    },
    {
      "cell_type": "code",
      "source": [
        "# Instalación de librerías necesarias para correr en Colab/Coursera\n",
        "!pip -q install kagglehub langdetect matplotlib scikit-learn plotly"
      ],
      "metadata": {
        "id": "l26426jMLCxE",
        "outputId": "72448f74-522e-42cc-af2a-5fd518d337a0",
        "colab": {
          "base_uri": "https://localhost:8080/"
        }
      },
      "id": "l26426jMLCxE",
      "execution_count": 2,
      "outputs": [
        {
          "output_type": "stream",
          "name": "stdout",
          "text": [
            "\u001b[?25l     \u001b[90m━━━━━━━━━━━━━━━━━━━━━━━━━━━━━━━━━━━━━━━━\u001b[0m \u001b[32m0.0/981.5 kB\u001b[0m \u001b[31m?\u001b[0m eta \u001b[36m-:--:--\u001b[0m\r\u001b[2K     \u001b[91m━━━━━━━━━━━━━━━━━━━━━━━━━━━━\u001b[0m\u001b[90m╺\u001b[0m\u001b[90m━━━━━━━━━\u001b[0m \u001b[32m727.0/981.5 kB\u001b[0m \u001b[31m29.6 MB/s\u001b[0m eta \u001b[36m0:00:01\u001b[0m\r\u001b[2K     \u001b[91m━━━━━━━━━━━━━━━━━━━━━━━━━━━━━━━━━━━━━\u001b[0m\u001b[91m╸\u001b[0m \u001b[32m972.8/981.5 kB\u001b[0m \u001b[31m16.1 MB/s\u001b[0m eta \u001b[36m0:00:01\u001b[0m\r\u001b[2K     \u001b[90m━━━━━━━━━━━━━━━━━━━━━━━━━━━━━━━━━━━━━━\u001b[0m \u001b[32m981.5/981.5 kB\u001b[0m \u001b[31m10.2 MB/s\u001b[0m eta \u001b[36m0:00:00\u001b[0m\n",
            "\u001b[?25h  Preparing metadata (setup.py) ... \u001b[?25l\u001b[?25hdone\n",
            "  Building wheel for langdetect (setup.py) ... \u001b[?25l\u001b[?25hdone\n"
          ]
        }
      ]
    },
    {
      "cell_type": "markdown",
      "source": [
        "En este bloque se importan utilidades de sistema como **`os`**, **`random`**, **`gc`**, **`time`** y **`Path`**, junto con las librerías de datos **`numpy`** y **`pandas`**, la descarga de *datasets* vía **`kagglehub`**, limpieza de texto con **`detect`** y **`re`**, preprocesamiento y partición con scikit-learn (**`LabelEncoder`**, **`train_test_split`**), herramientas de Transformers (**`AutoTokenizer`**, **`AutoModelForSequenceClassification`**), componentes de PyTorch (**`Dataset`**, **`DataLoader`**, **`AdamW`**), métricas de evaluación (**`accuracy_score`**, **`f1_score`**, **`classification_report`**), y reducción de dimensión y visualización con **`StandardScaler`**, **`PCA`**, **`TSNE`**, **`matplotlib`**, **`plotly.express`** y **`ConfusionMatrixDisplay`**.  "
      ],
      "metadata": {
        "id": "2q7l4Q6t4ITO"
      },
      "id": "2q7l4Q6t4ITO"
    },
    {
      "cell_type": "code",
      "source": [
        "# Librerías comunes\n",
        "import os, random, gc, time\n",
        "import numpy as np\n",
        "import pandas as pd\n",
        "import subprocess\n",
        "from pathlib import Path\n",
        "from collections import defaultdict\n",
        "from typing import List, Dict, Any\n",
        "\n",
        "# Descarga de datasets y de embeddings\n",
        "import kagglehub\n",
        "\n",
        "# Limipieza y preparación de los txtos\n",
        "from langdetect import detect, DetectorFactory\n",
        "import re\n",
        "\n",
        "# Preprocesamiento y herramientas de PLN\n",
        "from sklearn.preprocessing import LabelEncoder\n",
        "from sklearn.model_selection import train_test_split\n",
        "from sklearn.utils.class_weight import compute_class_weight\n",
        "from transformers import get_linear_schedule_with_warmup,AutoTokenizer, AutoModelForSequenceClassification, PreTrainedTokenizerBase\n",
        "\n",
        "# Modelado\n",
        "import torch\n",
        "import torch.nn.functional as F\n",
        "from torch.utils.data import Dataset, DataLoader\n",
        "from torch.optim import AdamW\n",
        "\n",
        "# Evaluación\n",
        "from sklearn.metrics import accuracy_score, f1_score, precision_score, recall_score, classification_report\n",
        "\n",
        "# Librerías para visualizaciones\n",
        "from sklearn.preprocessing import StandardScaler\n",
        "from sklearn.decomposition import PCA\n",
        "from sklearn.manifold import TSNE\n",
        "import matplotlib.pyplot as plt\n",
        "import matplotlib.cm as cm\n",
        "import plotly.express as px\n",
        "from sklearn.metrics import confusion_matrix, ConfusionMatrixDisplay"
      ],
      "metadata": {
        "id": "osjmTJMvtxua",
        "colab": {
          "base_uri": "https://localhost:8080/"
        },
        "outputId": "6762bee4-e64b-4870-e383-ec93dd208fd2"
      },
      "id": "osjmTJMvtxua",
      "execution_count": 3,
      "outputs": [
        {
          "output_type": "stream",
          "name": "stdout",
          "text": [
            "Mounted at /content/drive\n"
          ]
        }
      ]
    },
    {
      "cell_type": "markdown",
      "source": [
        "En este bloque se establecen los **parámetros globales** que controlan el entrenamiento y la configuración del modelo: **`TEXT_COL`** y **`LABEL_COL`** definen las columnas de texto y categoría en el *DataFrame*, **`MAX_LEN`** fija la longitud máxima de secuencia para la tokenización, **`BATCH_SIZE`**, **`EPOCHS`** y **`PATIENCE`** regulan el tamaño de los lotes, el número de iteraciones y la detención temprana, mientras que **`UNFREEZE_PER_EPOCH`** determina cuántas capas del transformador se liberan progresivamente y **`SEED`** asegura que los experimentos sean reproducibles.  \n",
        "\n",
        "El valor de la mayoría de estos parámetros globales se toman a partir del Anexo A.3 del *paper* original de **BERT** [¹] (se utilizan estos mismos valores para **RoBERTa** no necesariamente porque sean \"óptimos\", sino más por efectos comparativos), donde se sugiere:\n",
        "\n",
        "*   **Batch size:** 16, 32\n",
        "*   **Learning rate (Adam):** 5e-5, 3e-5, 2e-5\n",
        "*   **Number of epochs:** 2, 3, 4"
      ],
      "metadata": {
        "id": "OeOXzQpOa-Lz"
      },
      "id": "OeOXzQpOa-Lz"
    },
    {
      "cell_type": "code",
      "source": [
        "# Parámetros globales de configuración del modelo\n",
        "TEXT_COL   = \"text\"  # nombre de la columna de los artículos\n",
        "LABEL_COL  = \"labels\" # nombre de la columna con la categoría\n",
        "MAX_LEN    = 256  # longitud máxima de cada secuencia de tokens\n",
        "BATCH_SIZE = 16   # número de muestras por lote de entrenamiento\n",
        "EPOCHS     = 4\n",
        "PATIENCE   = 2    # Usado para early stopping\n",
        "UNFREEZE_PER_EPOCH = 2   # número de capas del modelo a descongelar\n",
        "SEED = 13"
      ],
      "metadata": {
        "id": "afgVSw4d1AIw"
      },
      "id": "afgVSw4d1AIw",
      "execution_count": 4,
      "outputs": []
    },
    {
      "cell_type": "markdown",
      "source": [
        "## 1.2. Configuraciones adicionales\n",
        "\n",
        "Con el siguiente bloque se detecta si el entorno dispone de GPU y selecciona el **`device`** apropiado para PyTorch.  \n",
        "\n",
        "Primero se llama a **`is_available()`**, que devuelve *True* si se ha asignado una GPU CUDA al *runtime* de Colab. Según el resultado se imprime un mensaje informativo. Posteriormente, se construye el objeto **`device`**, que será pasado a la red y a los tensores de entrada para que se ubiquen en la GPU cuando sea posible. Por último se muestra en pantalla el dispositivo elegido."
      ],
      "metadata": {
        "id": "uOceAejmVjqF"
      },
      "id": "uOceAejmVjqF"
    },
    {
      "cell_type": "code",
      "source": [
        "# Devuelve asignación de GPU\n",
        "DEVICE = torch.device(\"cuda\" if torch.cuda.is_available() else \"cpu\")\n",
        "print(f\"Dispositivo activo → {DEVICE}\")"
      ],
      "metadata": {
        "id": "LksJ95qEPWVr",
        "colab": {
          "base_uri": "https://localhost:8080/"
        },
        "outputId": "4ddf9da0-5f51-4180-965b-a5fe2c819a3c"
      },
      "id": "LksJ95qEPWVr",
      "execution_count": 5,
      "outputs": [
        {
          "output_type": "stream",
          "name": "stdout",
          "text": [
            "Dispositivo activo → cpu\n"
          ]
        }
      ]
    },
    {
      "cell_type": "markdown",
      "source": [
        "Adicionalmente se ocultan avisos para mantener limpias algunas salidas del notebook; y se imprimen las versiones de un conjunto de librerías clave ( **`numpy`**, **`pandas`**, **`torch`**, **`scikit-learn`**, **`kagglehub`**, **`matplotlib`**). Mostrar estas versiones al inicio del notebook facilita la reproducibilidad y ayuda a depurar posibles conflictos de dependencias."
      ],
      "metadata": {
        "id": "pfXxKk09Vulp"
      },
      "id": "pfXxKk09Vulp"
    },
    {
      "cell_type": "code",
      "execution_count": 6,
      "id": "LSwlUgjUjtR_",
      "metadata": {
        "id": "LSwlUgjUjtR_",
        "colab": {
          "base_uri": "https://localhost:8080/"
        },
        "outputId": "a77e70f6-2a67-4bc5-8be1-fd4f6c5e5cf0"
      },
      "outputs": [
        {
          "output_type": "stream",
          "name": "stdout",
          "text": [
            "numpy :  2.0.2\n",
            "pandas :  2.2.2\n",
            "torch :  2.6.0+cu124\n",
            "scikit-learn :  1.6.1\n",
            "kagglehub :  0.3.12\n",
            "matplotlib :  3.10.0\n"
          ]
        }
      ],
      "source": [
        "# Ignorar las warnings\n",
        "import warnings\n",
        "warnings.filterwarnings(\"ignore\")\n",
        "\n",
        "# Versiones utilizadas\n",
        "from importlib.metadata import version\n",
        "librerias = [\"numpy\",\"pandas\",\"torch\",\"scikit-learn\", \"kagglehub\",\n",
        "            \"matplotlib\", \"langdetect\",\"transformers\",\"plotly\"]\n",
        "for library in librerias:\n",
        "  print(library, \": \", version(library))"
      ]
    },
    {
      "cell_type": "markdown",
      "source": [
        "En este bloque se fija la reproducibilidad del experimento asignando la semilla **`SEED`** a los generadores de números aleatorios de Python, **`NumPy`** y **`PyTorch`** (CPU y GPU), y configurando **`CUDNN`** para que opere de forma determinista y sin usar su *benchmark* automático, garantizando resultados consistentes en cada ejecución a costa de un posible descenso en el rendimiento."
      ],
      "metadata": {
        "id": "ok4F_5E1njTi"
      },
      "id": "ok4F_5E1njTi"
    },
    {
      "cell_type": "code",
      "source": [
        "# Definición del random state y seeds\n",
        "random.seed(SEED)\n",
        "np.random.seed(SEED)\n",
        "torch.manual_seed(SEED)\n",
        "torch.cuda.manual_seed_all(SEED)\n",
        "torch.backends.cudnn.deterministic = True  # Forzar comportamiento determinista en CUDNN\n",
        "torch.backends.cudnn.benchmark = False     # Desactivar optimizaciones no deterministas en CUDNN"
      ],
      "metadata": {
        "id": "xdgcOt7gznvJ"
      },
      "id": "xdgcOt7gznvJ",
      "execution_count": 7,
      "outputs": []
    },
    {
      "cell_type": "markdown",
      "id": "qK311OLFzPep",
      "metadata": {
        "id": "qK311OLFzPep"
      },
      "source": [
        "***\n",
        "\n",
        "# 2. Análisis exploratorio y preparación de los datos\n"
      ]
    },
    {
      "cell_type": "markdown",
      "source": [
        "***\n",
        "\n",
        "## 2.1. Carga y estadísticas generales"
      ],
      "metadata": {
        "id": "4KxKy7H1eID-"
      },
      "id": "4KxKy7H1eID-"
    },
    {
      "cell_type": "markdown",
      "source": [
        "Se descarga el conjunto de datos de reseñas de noticias de la BBC de **`kagglehub`**. La función **`dataset_download`** guarda los archivos de manera local y devuelve la ruta absoluta, que se almacena en **`path`** y se muestra en pantalla mediante **`print`** para confirmar dónde quedaron los datos."
      ],
      "metadata": {
        "id": "yHwealvATakn"
      },
      "id": "yHwealvATakn"
    },
    {
      "cell_type": "code",
      "execution_count": 8,
      "id": "K4yOzyWKJbov",
      "metadata": {
        "id": "K4yOzyWKJbov",
        "colab": {
          "base_uri": "https://localhost:8080/"
        },
        "outputId": "f81b4265-63c3-47b3-f9b3-ae2fc122ba04"
      },
      "outputs": [
        {
          "output_type": "stream",
          "name": "stdout",
          "text": [
            "Datos descargados en: /kaggle/input/bbc-articles-dataset\n",
            "Dataset descargado en: /kaggle/input/bbc-articles-dataset/bbc_news_text_complexity_summarization.csv\n",
            "Filas totales: 2127\n"
          ]
        }
      ],
      "source": [
        "# Leer el conjunto de datos y cargarlo a un dataframe\n",
        "\n",
        "# Descarga del conjunto de datos\n",
        "path = kagglehub.dataset_download(\"jacopoferretti/bbc-articles-dataset\")\n",
        "print(\"Datos descargados en:\", path)\n",
        "\n",
        "CSV_PATH = os.path.join(path, \"bbc_news_text_complexity_summarization.csv\")\n",
        "print(f\"Dataset descargado en: {CSV_PATH}\")\n",
        "\n",
        "# Verificar número de datos\n",
        "data_raw = pd.read_csv(CSV_PATH)\n",
        "print(\"Filas totales:\", len(data_raw))"
      ]
    },
    {
      "cell_type": "markdown",
      "id": "CNfurSnbmf79",
      "metadata": {
        "id": "CNfurSnbmf79"
      },
      "source": [
        "***\n",
        "\n",
        "## 2.2. Limpieza de los datos\n",
        "\n",
        "En estas sección identificamos y corregimos:\n",
        "\n",
        "* Valores faltantes\n",
        "* Textos duplicados\n",
        "* Textos en otros idiomas distintos al inglés"
      ]
    },
    {
      "cell_type": "markdown",
      "source": [
        "Verificamos que **no** hay datos faltantes o en \"N/A\", ni tampoco datos duplicados."
      ],
      "metadata": {
        "id": "_QbNFIVK9Y9J"
      },
      "id": "_QbNFIVK9Y9J"
    },
    {
      "cell_type": "code",
      "source": [
        "# Validación de datos faltantes\n",
        "data_raw.isna().sum()"
      ],
      "metadata": {
        "id": "2r0P2t_Ysjbq",
        "colab": {
          "base_uri": "https://localhost:8080/",
          "height": 303
        },
        "outputId": "2ef7ea8b-ab1f-4666-a9ad-0ab163aad5ce"
      },
      "id": "2r0P2t_Ysjbq",
      "execution_count": 9,
      "outputs": [
        {
          "output_type": "execute_result",
          "data": {
            "text/plain": [
              "text                            0\n",
              "labels                          0\n",
              "no_sentences                    0\n",
              "Flesch Reading Ease Score       0\n",
              "Dale-Chall Readability Score    0\n",
              "text_rank_summary               0\n",
              "lsa_summary                     0\n",
              "dtype: int64"
            ],
            "text/html": [
              "<div>\n",
              "<style scoped>\n",
              "    .dataframe tbody tr th:only-of-type {\n",
              "        vertical-align: middle;\n",
              "    }\n",
              "\n",
              "    .dataframe tbody tr th {\n",
              "        vertical-align: top;\n",
              "    }\n",
              "\n",
              "    .dataframe thead th {\n",
              "        text-align: right;\n",
              "    }\n",
              "</style>\n",
              "<table border=\"1\" class=\"dataframe\">\n",
              "  <thead>\n",
              "    <tr style=\"text-align: right;\">\n",
              "      <th></th>\n",
              "      <th>0</th>\n",
              "    </tr>\n",
              "  </thead>\n",
              "  <tbody>\n",
              "    <tr>\n",
              "      <th>text</th>\n",
              "      <td>0</td>\n",
              "    </tr>\n",
              "    <tr>\n",
              "      <th>labels</th>\n",
              "      <td>0</td>\n",
              "    </tr>\n",
              "    <tr>\n",
              "      <th>no_sentences</th>\n",
              "      <td>0</td>\n",
              "    </tr>\n",
              "    <tr>\n",
              "      <th>Flesch Reading Ease Score</th>\n",
              "      <td>0</td>\n",
              "    </tr>\n",
              "    <tr>\n",
              "      <th>Dale-Chall Readability Score</th>\n",
              "      <td>0</td>\n",
              "    </tr>\n",
              "    <tr>\n",
              "      <th>text_rank_summary</th>\n",
              "      <td>0</td>\n",
              "    </tr>\n",
              "    <tr>\n",
              "      <th>lsa_summary</th>\n",
              "      <td>0</td>\n",
              "    </tr>\n",
              "  </tbody>\n",
              "</table>\n",
              "</div><br><label><b>dtype:</b> int64</label>"
            ]
          },
          "metadata": {},
          "execution_count": 9
        }
      ]
    },
    {
      "cell_type": "code",
      "source": [
        "# Validación de duplicados\n",
        "data_raw.duplicated().sum()"
      ],
      "metadata": {
        "id": "m3IgmRbWskuE",
        "colab": {
          "base_uri": "https://localhost:8080/"
        },
        "outputId": "25346b5f-4bbe-4cc6-cb59-2c19f28832fe"
      },
      "id": "m3IgmRbWskuE",
      "execution_count": 10,
      "outputs": [
        {
          "output_type": "execute_result",
          "data": {
            "text/plain": [
              "np.int64(0)"
            ]
          },
          "metadata": {},
          "execution_count": 10
        }
      ]
    },
    {
      "cell_type": "code",
      "source": [
        "# Copia de los datos por seguridad\n",
        "data = data_raw.copy()"
      ],
      "metadata": {
        "id": "fJETbmzSRX7o"
      },
      "id": "fJETbmzSRX7o",
      "execution_count": 11,
      "outputs": []
    },
    {
      "cell_type": "markdown",
      "source": [
        "Se utiliza **`LabelEncoder`** para transformar la columna de categorías de texto en una nueva columna **`label_id`** con valores numéricos, se calcula el total de clases únicas a través de **`NUM_LABELS`**, y se generan dos diccionarios (**`id2label`** y **`label2id`**) que permiten convertir de manera sencilla entre los identificadores numéricos y las etiquetas de texto durante las fases de entrenamiento e inferencia."
      ],
      "metadata": {
        "id": "P80Y-mWg_2rm"
      },
      "id": "P80Y-mWg_2rm"
    },
    {
      "cell_type": "code",
      "source": [
        "# Codificación de etiquetas\n",
        "le = LabelEncoder()\n",
        "data[\"label_id\"] = le.fit_transform(data[LABEL_COL])\n",
        "\n",
        "NUM_LABELS = len(le.classes_)# Número total de clases únicas\n",
        "print(f\"Numéro de clases únicas \"{NUM_LABELS})\n",
        "\n",
        "# Mapea cada ID a su etiqueta original\n",
        "id2label = {i: lbl for i, lbl in enumerate(le.classes_)}\n",
        "# Mapea cada etiqueta a su ID correspondiente\n",
        "label2id = {v: k for k, v in id2label.items()}\n"
      ],
      "metadata": {
        "id": "XU6qAVkrjUo3"
      },
      "id": "XU6qAVkrjUo3",
      "execution_count": 12,
      "outputs": []
    },
    {
      "cell_type": "markdown",
      "source": [
        "Se gráfica con la función **`plot_class_distribution`** la distribución del *dataset* en las diferentes clases. En principio, no se observa un desbalance de los datos significativo. Sin embargo, tampoco se puede afirmar que el conjunto de datos está completamente balanceado, observando por ejemplo, una leve sub-representación de la clase entretenimiento y *tech*. Razón por la cual puede cobrar sentido más adelante entrenar el modelo con balanceo sencillo de las clases y observar métricas de evaluación ponderadas por clase (\"macro\") para poder tener un análisis adecuado."
      ],
      "metadata": {
        "id": "quPKwoSZB_Hw"
      },
      "id": "quPKwoSZB_Hw"
    },
    {
      "cell_type": "code",
      "source": [
        "# Mapeo de la ditrisbución de las clases\n",
        "def plot_class_distribution( data: pd.DataFrame, label_col: str = \"label_id\", class_names: list[str] | None = None,) -> None:\n",
        "    # Preparar datos\n",
        "    counts = data[label_col].value_counts().sort_index()\n",
        "    labels = class_names if class_names is not None else counts.index.astype(str)\n",
        "\n",
        "    # Normalizamos los valores para mapearlos a la paleta\n",
        "    norm = plt.Normalize(counts.min(), counts.max())\n",
        "    colors = cm.viridis(norm(counts.values))\n",
        "\n",
        "    fig, ax = plt.subplots(figsize=(8, 5))\n",
        "    bars = ax.bar(labels, counts.values, color=colors)\n",
        "\n",
        "    # Etiquetas de ejes y título\n",
        "    ax.set_xlabel(\"Clase\")\n",
        "    ax.set_ylabel(\"Número de artículos\")\n",
        "    ax.set_title(\"Distribución de clases en el dataset\")\n",
        "\n",
        "    # Rotar etiquetas del eje x\n",
        "    ax.set_xticklabels(labels, rotation=45, ha=\"right\")\n",
        "\n",
        "    # Etiquetas a las barras\n",
        "    ax.bar_label(bars, labels=[f\"{c:,}\" for c in counts.values], padding=3)\n",
        "\n",
        "    fig.tight_layout()\n",
        "    plt.show()"
      ],
      "metadata": {
        "id": "1TQpLnbwan5r",
        "colab": {
          "base_uri": "https://localhost:8080/",
          "height": 507
        },
        "outputId": "6578b926-db35-45c9-9a8c-5b9d720ac0fa"
      },
      "id": "1TQpLnbwan5r",
      "execution_count": 13,
      "outputs": [
        {
          "output_type": "display_data",
          "data": {
            "text/plain": [
              "<Figure size 800x500 with 1 Axes>"
            ],
            "image/png": "[encoded data removed]"
          },
          "metadata": {}
        }
      ]
    },
    {
      "cell_type": "code",
      "source": [
        "def detectar_idiomas(data: pd.DataFrame,\n",
        "                     col_texto: str = 'text') -> pd.DataFrame:\n",
        "    \"\"\"\n",
        "    Detecta el idioma de cada fila en la columna **col_texto**,\n",
        "    añade la columna **idioma** y muestra ejemplos no ingleses.\n",
        "    \"\"\"\n",
        "    # Inicializamos con 'desconocido'\n",
        "    data['idioma'] = 'desconocido'\n",
        "\n",
        "    # Función auxiliar segura\n",
        "    def _detectar(texto):\n",
        "        if isinstance(texto, str) and texto.strip():\n",
        "            try:\n",
        "                return detect(texto)\n",
        "            except Exception:\n",
        "                return 'desconocido'\n",
        "        return 'desconocido'\n",
        "\n",
        "    # Aplicamos detección\n",
        "    data['idioma'] = data[col_texto].apply(_detectar)\n",
        "\n",
        "    # Filtramos los que no son inglés\n",
        "    mask = data['idioma'] != 'en'\n",
        "    idx_no_en = data[mask].index\n",
        "\n",
        "    if len(idx_no_en) > 0:\n",
        "        print(f\"Se encontraron {len(idx_no_en)} textos NO en inglés (ejemplos):\")\n",
        "        # Mostramos hasta 5 ejemplos\n",
        "        for i in idx_no_en[:5]:\n",
        "            print(f\" • Índice {i}: [{data.at[i,'idioma']}] {data.at[i,col_texto][:100]}...\")\n",
        "    else:\n",
        "        print(\"Todos los textos están detectados como inglés.\")\n",
        "\n",
        "    return data"
      ],
      "metadata": {
        "id": "_WQ5tiJps-bO"
      },
      "id": "_WQ5tiJps-bO",
      "execution_count": 14,
      "outputs": []
    },
    {
      "cell_type": "markdown",
      "source": [
        "Nota: En algunas ocasiones, la función `detect` confunde la presencia de nombres propios o pequeñas secciones en otros idiomas como un indicativo de que el texto no está en inglés. Sin embargo, estas ocurrencias suelen ser mínimas o nulas."
      ],
      "metadata": {
        "id": "bAyfWDggeQW-"
      },
      "id": "bAyfWDggeQW-"
    },
    {
      "cell_type": "markdown",
      "source": [
        "Detectando otros idiomas:"
      ],
      "metadata": {
        "id": "znjAi7TSPK3f"
      },
      "id": "znjAi7TSPK3f"
    },
    {
      "cell_type": "code",
      "source": [
        "data = detectar_idiomas(data, col_texto='text')"
      ],
      "metadata": {
        "id": "DpTn9HpSW6V9",
        "colab": {
          "base_uri": "https://localhost:8080/"
        },
        "outputId": "5c96d982-bab7-48b1-a2ed-94991d72082d"
      },
      "id": "DpTn9HpSW6V9",
      "execution_count": 15,
      "outputs": [
        {
          "output_type": "stream",
          "name": "stdout",
          "text": [
            "Todos los textos están detectados como inglés.\n"
          ]
        }
      ]
    },
    {
      "cell_type": "markdown",
      "id": "_ypyorGqwmRl",
      "metadata": {
        "id": "_ypyorGqwmRl"
      },
      "source": [
        "***\n",
        "\n",
        "# 3. Definición de *pipelines* de procesamiento"
      ]
    },
    {
      "cell_type": "markdown",
      "id": "4370a607-ad43-4c5d-bddd-1a9370469409",
      "metadata": {
        "id": "4370a607-ad43-4c5d-bddd-1a9370469409"
      },
      "source": [
        "***\n",
        "\n",
        "## 3.1. *Pipeline* de preprocesamiento\n",
        "\n",
        "...."
      ]
    },
    {
      "cell_type": "code",
      "source": [
        "# Limpieza básica\n",
        "def clean_text(text: str) -> str:\n",
        "    text = re.sub(r\"\\s+\", \" \", text)            # colapsar whitespace\n",
        "    text = re.sub(r\"[^\\w.,;:!?()¿¡ ]+\", \"\", text)\n",
        "    return text.strip()\n",
        "\n",
        "for col in (\"text\", \"text_rank_summary\", \"lsa_summary\"):\n",
        "    if col in data.columns:\n",
        "        data[col] = data[col].astype(str).apply(clean_text)\n"
      ],
      "metadata": {
        "id": "tK_D4XVsnk6c"
      },
      "id": "tK_D4XVsnk6c",
      "execution_count": 16,
      "outputs": []
    },
    {
      "cell_type": "code",
      "source": [
        "train_data, test_data = train_test_split(\n",
        "    data, test_size=0.10, stratify=data[\"label_id\"], random_state=SEED\n",
        ")\n",
        "train_data, val_data = train_test_split(\n",
        "    train_data, test_size=0.10, stratify=train_data[\"label_id\"], random_state=SEED\n",
        ")\n",
        "print(\"Tamaños – Train / Val / Test:\", len(train_data), len(val_data), len(test_data))"
      ],
      "metadata": {
        "colab": {
          "base_uri": "https://localhost:8080/"
        },
        "id": "L6QJGsVGvoIK",
        "outputId": "8c6c3ec0-59a2-49b0-c312-81c58233c4c6"
      },
      "id": "L6QJGsVGvoIK",
      "execution_count": 17,
      "outputs": [
        {
          "output_type": "stream",
          "name": "stdout",
          "text": [
            "Tamaños – Train / Val / Test: 1722 192 213\n"
          ]
        }
      ]
    },
    {
      "cell_type": "markdown",
      "source": [
        "[2]"
      ],
      "metadata": {
        "id": "TFInYXoOXHTh"
      },
      "id": "TFInYXoOXHTh"
    },
    {
      "cell_type": "markdown",
      "id": "G6-RrjwuxYEw",
      "metadata": {
        "id": "G6-RrjwuxYEw"
      },
      "source": [
        "***\n",
        "\n",
        "# 4. Desarrollo del modelo RNN"
      ]
    },
    {
      "cell_type": "markdown",
      "source": [
        "***\n",
        "\n",
        "## 4.1. Hiperparámetros, partición y *DataLoaders*\n",
        "\n",
        "AutoTokenizer\tCuando tu pipeline puede alternar entre arquitecturas (BERT, RoBERTa, DistilBERT…) o quieres mantener el código genérico.  \n",
        "+ Detecta internamente la clase correcta ( BertTokenizerFast, RobertaTokenizerFast …).\n",
        "+ Un único import.\n",
        "+ Reduce “if/else” en tu código.\n",
        "− Ligeramente más sobrecarga al resolver la clase la primera vez (irrelevante en la práctica).\n",
        "\n",
        "¿Dónde está la “preparación de secuencias” en tu código?\n",
        "El punto exacto aparece dentro del método __getitem__ de la clase BBCDataset (alrededor de la mitad del archivo mini_proyecto_3_dl.py). Allí se llama al tokenizer para convertir cada artículo en la representación numérica que entiende BERT/RoBERTa:\n",
        "\n",
        "Tokenización\n",
        "AutoTokenizer descompone el texto en sub-palabras según el vocabulario del modelo (WordPiece para BERT, Byte-Pair para RoBERTa, etc.). También añade los special tokens [CLS] y [SEP] que marcan inicio y fin de la secuencia.\n",
        "\n",
        "Conversión a IDs\n",
        "Cada token se mapea a un entero (input_ids) que luego se transformará en embeddings dentro del modelo.\n",
        "\n",
        "Máscara de atención\n",
        "Se crea attention_mask, un vector 1/0 que indica cuáles posiciones son texto real y cuáles son padding.\n",
        "\n",
        "Truncado y padding\n",
        "Con truncation=True y padding=\"max_length\" el texto se corta si supera MAX_LEN (256) y se rellena con ceros hasta ese mismo largo, garantizando que todos los ejemplos midan lo mismo y puedan apilarse en un batch.\n",
        "\n",
        "Empaquetado en tensores PyTorch\n",
        "return_tensors=\"pt\" devuelve cada parte como un tensor; luego squeeze(0) elimina la dimensión de tamaño 1 añadida por el tokenizer para facilitar el batching posterior.\n",
        "\n",
        "En conjunto, este bloque es el “preparador de secuencias”: convierte texto crudo en el lote de tensores (input_ids, attention_mask, y opcionalmente token_type_ids) que el encoder transformer necesita para producir embeddings y, finalmente, la predicción de clase."
      ],
      "metadata": {
        "id": "wqy-xlwJ2zMS"
      },
      "id": "wqy-xlwJ2zMS"
    },
    {
      "cell_type": "code",
      "source": [
        "# -----------------------------------------------------\n",
        "#  BBCDataset   (misma lógica, solo un par de detalles)\n",
        "# -----------------------------------------------------\n",
        "class BBCDataset(Dataset):\n",
        "    \"\"\"\n",
        "    Dataset para la clasificación BBC.\n",
        "    • Mantiene tokenización con el tokenizer recibido (AutoTokenizer).\n",
        "    • Devuelve exactamente las mismas claves que antes:\n",
        "        input_ids / attention_mask / (token_type_ids) / labels\n",
        "    • Opción `return_idx` por si en algún análisis necesitas\n",
        "      recuperar el índice original; por defecto NO cambia nada.\n",
        "    \"\"\"\n",
        "    def __init__(self, data, tokenizer, max_len, *, return_idx: bool = False):\n",
        "        self.texts  = data[TEXT_COL].tolist()\n",
        "        self.labels = data[\"label_id\"].tolist()\n",
        "        self.tok    = tokenizer\n",
        "        self.max_len = max_len\n",
        "        self.return_idx = return_idx\n",
        "\n",
        "    def __len__(self):\n",
        "        return len(self.texts)\n",
        "\n",
        "    def __getitem__(self, idx):\n",
        "        enc = self.tok(\n",
        "            self.texts[idx],\n",
        "            truncation=True,\n",
        "            padding=\"max_length\",\n",
        "            max_length=self.max_len,\n",
        "            return_tensors=\"pt\"\n",
        "        )\n",
        "        item = {k: v.squeeze(0) for k, v in enc.items()}\n",
        "        item[\"labels\"] = torch.tensor(self.labels[idx], dtype=torch.long)\n",
        "        item[\"text\"] = self.texts[idx]\n",
        "        if self.return_idx:\n",
        "            item[\"idx\"] = torch.tensor(idx)   # ← opcional, no molesta al resto\n",
        "        return item"
      ],
      "metadata": {
        "id": "zfp-stYtEt71"
      },
      "id": "zfp-stYtEt71",
      "execution_count": 18,
      "outputs": []
    },
    {
      "cell_type": "code",
      "source": [
        "def collate_with_text(batch):\n",
        "    texts  = [b.pop(\"text\") for b in batch]\n",
        "    keys   = batch[0].keys()          # input_ids, attention_mask, labels, …\n",
        "    out    = {k: torch.stack([b[k] for b in batch]) for k in keys}\n",
        "    out[\"text\"] = texts               # vuelve a incluir texto\n",
        "    if \"idx\" in batch[0]:\n",
        "        out[\"idx\"] = torch.stack([b[\"idx\"] for b in batch])\n",
        "    return out"
      ],
      "metadata": {
        "id": "zPBwOr5LvZBH"
      },
      "id": "zPBwOr5LvZBH",
      "execution_count": 19,
      "outputs": []
    },
    {
      "cell_type": "code",
      "source": [
        "def make_loader(data, tokenizer, split, batch_size, max_len,\n",
        "                *, return_idx=False, num_workers=2):\n",
        "    ds = BBCDataset(data, tokenizer, max_len, return_idx=return_idx)\n",
        "    return DataLoader(\n",
        "        ds, batch_size=batch_size, shuffle=(split==\"train\"),\n",
        "        num_workers=num_workers, pin_memory=True,\n",
        "        collate_fn=collate_with_text                     #  ←  nuevo\n",
        "    )"
      ],
      "metadata": {
        "id": "3bPJ2rdm_v46"
      },
      "id": "3bPJ2rdm_v46",
      "execution_count": 20,
      "outputs": []
    },
    {
      "cell_type": "code",
      "source": [
        "def freeze_layers(model,\n",
        "                  *,\n",
        "                  freeze: bool = True,\n",
        "                  last_n: int | None = None) -> None:\n",
        "    \"\"\"\n",
        "    Congela/descongela capas del encoder de un modelo *transformers*.\n",
        "\n",
        "    Parámetros\n",
        "    ----------\n",
        "    model   : instancia de AutoModelForSequenceClassification\n",
        "    freeze  : si *True* congela; si *False* descongela.\n",
        "    last_n  :  • None  ➜ aplica a **todo** el encoder\n",
        "               • int   ➜ afecta solo a las *n* últimas capas\n",
        "\n",
        "    Ejemplos\n",
        "    --------\n",
        "    # 1) Congelar todo el encoder\n",
        "    freeze_layers(model)                       # freeze=True, last_n=None\n",
        "\n",
        "    # 2) Descongelar las 4 últimas capas\n",
        "    freeze_layers(model, freeze=False, last_n=4)\n",
        "\n",
        "    # 3) Congelar todo excepto las 2 últimas capas\n",
        "    freeze_layers(model, freeze=True,  last_n=2)\n",
        "    \"\"\"\n",
        "    # 1) Hay modelos (e.g., DistilBERT) donde el encoder vive en .transformer\n",
        "    encoder = getattr(model.base_model, \"encoder\", None) \\\n",
        "              or getattr(model.base_model, \"transformer\", None)\n",
        "\n",
        "    if encoder is None:            # fallback genérico\n",
        "        for p in model.base_model.parameters():\n",
        "            p.requires_grad = not freeze if last_n is None else p.requires_grad\n",
        "        return\n",
        "\n",
        "    layers = list(encoder.layer)\n",
        "    if last_n is None:\n",
        "        # Congela o descongela todo el encoder\n",
        "        for p in encoder.parameters():\n",
        "            p.requires_grad = not freeze\n",
        "    else:\n",
        "        # Asegura que last_n no exceda el número total de capas\n",
        "        last_n = max(0, min(last_n, len(layers)))\n",
        "\n",
        "        # 2) Definir subconjuntos\n",
        "        affected = layers[-last_n:]           # capas que cambian\n",
        "        unaffected = layers[:-last_n]         # capas que se mantienen\n",
        "\n",
        "        # 3) Aplicar flags\n",
        "        for layer in affected:\n",
        "            for p in layer.parameters():\n",
        "                p.requires_grad = not freeze if freeze else True\n",
        "\n",
        "        if freeze:                            # solo cuando queremos congelar\n",
        "            for layer in unaffected:\n",
        "                for p in layer.parameters():\n",
        "                    p.requires_grad = False"
      ],
      "metadata": {
        "id": "qudFCuoD0Gw_"
      },
      "id": "qudFCuoD0Gw_",
      "execution_count": 21,
      "outputs": []
    },
    {
      "cell_type": "code",
      "source": [
        "# 3) predict_proba  ➜  decorador\n",
        "@torch.no_grad()\n",
        "def predict_proba(model, batch, *, device):\n",
        "    \"\"\"\n",
        "    Devuelve las probabilidades (softmax) para un batch.\n",
        "    ➜ batch: dict con input_ids, attention_mask, (token_type_ids)\n",
        "    \"\"\"\n",
        "    model.eval()\n",
        "    inputs = {k: v.to(device) for k, v in batch.items()\n",
        "              if k not in [\"labels\", \"text\", \"idx\"]}\n",
        "    logits = model(**inputs).logits           # (B, num_labels)\n",
        "    probs  = F.softmax(logits, dim=-1)\n",
        "    return probs.cpu()"
      ],
      "metadata": {
        "id": "s6UVvASWngOQ"
      },
      "id": "s6UVvASWngOQ",
      "execution_count": 22,
      "outputs": []
    },
    {
      "cell_type": "code",
      "source": [
        "# -----------------------------------------------------\n",
        "# 4. Función train_and_evaluate  >>> MODIFIED <<<\n",
        "# -----------------------------------------------------\n",
        "\n",
        "\n",
        "def train_and_evaluate(model_name: str, train_data, val_data, test_data):\n",
        "    print(f\"\\n========== Entrenando {model_name} ==========\")\n",
        "\n",
        "    start = time.time()\n",
        "    # Tokenizer + modelo\n",
        "    tokenizer = AutoTokenizer.from_pretrained(model_name)\n",
        "    model = AutoModelForSequenceClassification.from_pretrained(\n",
        "        model_name,\n",
        "        num_labels=NUM_LABELS,\n",
        "        id2label=id2label,\n",
        "        label2id=label2id,\n",
        "    ).to(DEVICE)\n",
        "\n",
        "    # 5.1 Congelar encoder completo y luego liberar gradualmente\n",
        "    freeze_layers(model)\n",
        "\n",
        "    # 5.2 Pesos de clase balanceados\n",
        "    class_weights = compute_class_weight(\n",
        "        class_weight=\"balanced\", classes=np.arange(NUM_LABELS), y=train_data[\"label_id\"]\n",
        "    )\n",
        "    class_weights = torch.tensor(class_weights, dtype=torch.float32, device=DEVICE)\n",
        "\n",
        "    # 5.3 DataLoaders\n",
        "    loaders = {\n",
        "        \"train\": make_loader(train_data, tokenizer, \"train\", BATCH_SIZE, MAX_LEN),\n",
        "        \"val\":   make_loader(val_data,   tokenizer, \"val\",   BATCH_SIZE, MAX_LEN),\n",
        "        \"test\":  make_loader(test_data,  tokenizer, \"test\",  BATCH_SIZE, MAX_LEN),\n",
        "    }\n",
        "\n",
        "    # 5.4 Optimizador & scheduler\n",
        "    total_steps = len(loaders[\"train\"]) * EPOCHS\n",
        "    optimizer   = AdamW(model.parameters(), lr=2e-5, weight_decay=1e-2)\n",
        "    scheduler   = get_linear_schedule_with_warmup(\n",
        "        optimizer,\n",
        "        num_warmup_steps=int(0.06 * total_steps),\n",
        "        num_training_steps=total_steps,\n",
        "    )\n",
        "\n",
        "    criterion   = torch.nn.CrossEntropyLoss(weight=class_weights)\n",
        "\n",
        "    best_f1, patience_cnt = 0.0, 0\n",
        "    best_path = f\"best_{model_name.split('-')[0]}_bbc.pt\"\n",
        "\n",
        "    def epoch_pass(split):\n",
        "        is_train = split == \"train\"\n",
        "        model.train() if is_train else model.eval()\n",
        "        losses, preds_all, trues_all = [], [], []\n",
        "\n",
        "        for batch in loaders[split]:\n",
        "            batch = {k: (v.to(DEVICE) if torch.is_tensor(v) else v) for k,v in batch.items()}\n",
        "            with torch.set_grad_enabled(is_train):\n",
        "                inputs = {k: v for k, v in batch.items() if k not in [\"labels\", \"text\", \"idx\"]}\n",
        "                outputs = model(**inputs)\n",
        "                loss = criterion(outputs.logits, batch[\"labels\"])\n",
        "                if is_train:\n",
        "                    loss.backward()\n",
        "                    torch.nn.utils.clip_grad_norm_(model.parameters(), 1.0)\n",
        "                    optimizer.step(); scheduler.step(); optimizer.zero_grad()\n",
        "\n",
        "            losses.append(loss.item())\n",
        "            preds_all.extend(outputs.logits.argmax(dim=-1).cpu().numpy())\n",
        "            trues_all.extend(batch[\"labels\"].cpu().numpy())\n",
        "\n",
        "        acc = accuracy_score(trues_all, preds_all)\n",
        "        f1m = f1_score(trues_all, preds_all, average=\"macro\", zero_division=0)\n",
        "        f1µ = f1_score(trues_all, preds_all, average=\"micro\", zero_division=0)\n",
        "        return np.mean(losses), acc, f1m, f1µ\n",
        "\n",
        "    # 5.5 Entrenamiento\n",
        "    hist = {k: [] for k in [\"epoch\",\"train_loss\",\"val_loss\",\n",
        "                        \"train_acc\",\"val_acc\",\"train_f1\",\"val_f1\"]}\n",
        "    for epoch in range(1, EPOCHS + 1):\n",
        "        freeze_layers(model, freeze=False,last_n=epoch * UNFREEZE_PER_EPOCH)\n",
        "        train_loss, train_acc, train_f1m, train_f1µ = epoch_pass(\"train\")\n",
        "        val_loss,   val_acc,   val_f1m,   val_f1µ   = epoch_pass(\"val\")\n",
        "        hist[\"epoch\"].append(epoch)\n",
        "        hist[\"train_loss\"].append(train_loss); hist[\"val_loss\"].append(val_loss)\n",
        "        hist[\"train_acc\"].append(train_acc);   hist[\"val_acc\"].append(val_acc)\n",
        "        hist[\"train_f1\"].append(train_f1m);    hist[\"val_f1\"].append(val_f1m)\n",
        "\n",
        "        print(f\"Ep {epoch:02d}: \\tTL {train_loss:.4f} / VL {val_loss:.4f} | \"\n",
        "              f\"F1_macro {val_f1m:.3f}  Acc {val_acc:.3f}\")\n",
        "\n",
        "        if val_f1m > best_f1:\n",
        "            best_f1 = val_f1m\n",
        "            patience_cnt = 0\n",
        "            torch.save(model.state_dict(), best_path)\n",
        "        else:\n",
        "            patience_cnt += 1\n",
        "            if patience_cnt == PATIENCE:\n",
        "                print(\"Early stopping ↯\\n\")\n",
        "                break\n",
        "\n",
        "    # 5.6 Evaluación sobre *test*\n",
        "    model.load_state_dict(torch.load(best_path))\n",
        "    test_loss, test_acc, test_f1m, test_f1µ = epoch_pass(\"test\")\n",
        "\n",
        "    y_true, y_pred = [], []\n",
        "    model.eval()\n",
        "    with torch.no_grad():\n",
        "        for batch in loaders[\"test\"]:\n",
        "            batch = {k: (v.to(DEVICE) if torch.is_tensor(v) else v) for k,v in batch.items()}\n",
        "            inputs = {k: v for k, v in batch.items() if k not in [\"labels\", \"text\", \"idx\"]}\n",
        "            outputs = model(**inputs)\n",
        "            y_true.extend(batch[\"labels\"].cpu().numpy())\n",
        "            y_pred.extend(outputs.logits.argmax(dim=-1).cpu().numpy())\n",
        "\n",
        "    # Precisión y recall (macro / micro)\n",
        "    prec_macro = precision_score(y_true, y_pred, average=\"macro\", zero_division=0)\n",
        "    prec_micro = precision_score(y_true, y_pred, average=\"micro\", zero_division=0)\n",
        "    rec_macro  = recall_score   (y_true, y_pred, average=\"macro\", zero_division=0)\n",
        "    rec_micro  = recall_score   (y_true, y_pred, average=\"micro\", zero_division=0)\n",
        "\n",
        "    report = classification_report(\n",
        "        y_true,\n",
        "        y_pred,\n",
        "        labels=list(range(NUM_LABELS)),\n",
        "        target_names=le.classes_.tolist(),\n",
        "        digits=3,\n",
        "        zero_division=0,\n",
        "    )\n",
        "\n",
        "    # 5.7 Limpieza explícita\n",
        "    test_loader_ref = loaders[\"test\"]    # referencia antes de borrar\n",
        "    del loaders, optimizer, scheduler, criterion\n",
        "    gc.collect(); torch.cuda.empty_cache()\n",
        "\n",
        "    metrics: dict[str, Any] = {\n",
        "        \"model\": model_name,\n",
        "        \"test_acc\":        test_acc,\n",
        "        \"test_precision_macro\": prec_macro,\n",
        "        \"test_precision_micro\": prec_micro,\n",
        "        \"test_recall_macro\":    rec_macro,\n",
        "        \"test_recall_micro\":    rec_micro,\n",
        "        \"test_f1_macro\":        test_f1m,\n",
        "        \"test_f1_micro\":        test_f1µ,\n",
        "        \"report\":  report,          # classification_report\n",
        "        \"history\": hist,            # losses / accuracies por época\n",
        "        # --- NUEVO ---\n",
        "        \"trained_model\": model,     # para análisis posterior\n",
        "        \"test_loader\": test_loader_ref  } # coherente\n",
        "\n",
        "    print(f\"\\n⏱ Duración total: {(time.time()-start)/60:.1f} min\")\n",
        "    return metrics, model, tokenizer, test_loader_ref , hist"
      ],
      "metadata": {
        "id": "yod5PSrpEXcq"
      },
      "id": "yod5PSrpEXcq",
      "execution_count": 23,
      "outputs": []
    },
    {
      "cell_type": "markdown",
      "source": [
        "...."
      ],
      "metadata": {
        "id": "iYYOH084USqx"
      },
      "id": "iYYOH084USqx"
    },
    {
      "cell_type": "markdown",
      "source": [
        "***\n",
        "\n",
        "## 4.3. Entrenamiento, validación y prueba\n",
        "\n",
        " **`gradient clipping`** m"
      ],
      "metadata": {
        "id": "oz4ZPXG44a8W"
      },
      "id": "oz4ZPXG44a8W"
    },
    {
      "cell_type": "code",
      "source": [
        "if __name__ == \"__main__\":\n",
        "    start_main = time.time()          # ← aquí\n",
        "    MODELS = {\n",
        "        \"bert-base-uncased\": \"BERT\",\n",
        "        \"roberta-base\": \"RoBERTa\",\n",
        "    }\n",
        "\n",
        "    results =[]\n",
        "    models, loaders, histories = {}, {}, {}\n",
        "    for mdl_name, label in MODELS.items():\n",
        "        m, mol, tok, tl, h  = train_and_evaluate(mdl_name, train_data, val_data, test_data)\n",
        "        results.append(m)\n",
        "        models[mdl_name]   = mol\n",
        "        loaders[mdl_name]  = tl\n",
        "        histories[mdl_name]= h\n",
        "        print(\"\\n>>> Reporte detallado\")\n",
        "        print(m[\"report\"])\n",
        "        print(\"=\"*60)\n",
        "\n",
        "    # tabla comparativa\n",
        "    print(\"\\n======= Comparativa final =======\")\n",
        "    for res in results:\n",
        "        print(f\"{MODELS[res['model']]:9s} | \"\n",
        "        f\"Acc {res['test_acc']:.3f} | \"\n",
        "        f\"P_macro {res['test_precision_macro']:.3f} | \"\n",
        "        f\"R_macro {res['test_recall_macro']:.3f} | \"\n",
        "        f\"F1_macro {res['test_f1_macro']:.3f}\")\n",
        "\n",
        "    dur = (time.time() - start_main) / 60\n",
        "    print(f\"\\nTiempo total: {dur:.1f} min\\n\")"
      ],
      "metadata": {
        "id": "JAtN1d5G21to",
        "colab": {
          "base_uri": "https://localhost:8080/",
          "height": 325,
          "referenced_widgets": [
            "74a00d696a964e4eb8936580fb32c68f",
            "a55a18cd421d4566af4104d3b1cbc13a",
            "fd9a314e76194fd59bdfb3e2317fa667",
            "06c4de034ed04352ac8e9c735e334cb1",
            "242f5190cece450b9afa0cf43af27412",
            "a33cff336d4d4f09bae58df898340548",
            "e783612c639a49d6908129e07bc97d5e",
            "5188162cdf7d4c5d9a1b407a767c5df0",
            "79d532e21a494c9198322dfa663868ed",
            "be35c16833324f67b316dcfa5c1157e9",
            "a1e32b9c9b454e26a174005e1912b42a",
            "1d8727e5e65e45c8b71113a850f97dbb",
            "38a8b6bdbc8b4233837a04704456d994",
            "44ded6d3febd47ad9bb281b964a71574",
            "f48771c5669d4d5c9d8f0cd5f7601c0a",
            "31bd69a0784b4f07a797c6799844d409",
            "41d508f6035d4f689feb120110fcad68",
            "eec2c28d574240b68f05b5bf888ea755",
            "adbf88fc5baf4e8194ac73362eb32b5f",
            "3ef6c1955bbd4574a9b15b31a11c0a50",
            "6d0306bd21ee4afbbceef24441da0169",
            "9f95f3e3b1f745f0a358f04e01a70d3e",
            "274f70c594284a80a77840519497f5fb",
            "7a4a43f4aaae4834a1bb814cf68351db",
            "9465220ba24845d18ba9bdd3427e4307",
            "7643949fdea6490e9f9816c7a42060b1",
            "c4017052665e401396495bbaa39f86e5",
            "e6da54ff201548098d6ac717bdf4757b",
            "7f33e944ae17494d87489a7568802660",
            "877195fcd242464f88d29d8cbdfacefd",
            "1a2ccbe5626044cbbf4fc29dab8365a0",
            "8342282f197749edbf99c862c6efbac9",
            "516ac8a6db6c4e7c8b1361bfea9afa2c",
            "53601d8790b44206a0242e70da89e9bc",
            "6b28fa99a35f433e91ddbcd9194cb40d",
            "0dd9ecb7d475433983a1fae007e69d86",
            "6c41ca3db8d94fde934ed97e2a56ab3f",
            "663702efe03d46e3baa3a57dacadb9cc",
            "f799c9de8ad74bff9521f169432f13d7",
            "0b0696a004924ed59c34f5bab42f0758",
            "21fa7623057b42879e30bace136d599e",
            "08dad4bc89924b43802e74ed17c6f0dd",
            "3359c4ff42f4442ca7a9a19375e71ae5",
            "fc39e72102344c95b155f221564884e1",
            "dd6924404b2842748487fb436efeab49",
            "42fca7c9071b455d8f8ca6e107840a01",
            "e44cdc75f5904436b32df9aecc534615",
            "0e62caf59fe74b5b95c695e12fa90c11",
            "8e55200ab00e4327be0b5c22f19c1015",
            "84f2f5e59bdd4b9abc3458b9fe331e6d",
            "8c23842fb73e4cbd9387717d95ef1f6d",
            "9b68ff1acc5b4905b058182193152d40",
            "9e26294cbfc94cd9b48c8e9fa0468a38",
            "b82ca41ccd24423ca785b49b34e93fca",
            "e7d94a17cb044477ab7967521b348b10"
          ]
        },
        "outputId": "fdbadbfb-2f27-4b23-d388-333a8a79efc4"
      },
      "id": "JAtN1d5G21to",
      "execution_count": null,
      "outputs": [
        {
          "output_type": "stream",
          "name": "stdout",
          "text": [
            "\n",
            "========== Entrenando bert-base-uncased ==========\n"
          ]
        },
        {
          "output_type": "display_data",
          "data": {
            "text/plain": [
              "tokenizer_config.json:   0%|          | 0.00/48.0 [00:00<?, ?B/s]"
            ],
            "application/vnd.jupyter.widget-view+json": {
              "version_major": 2,
              "version_minor": 0,
              "model_id": "74a00d696a964e4eb8936580fb32c68f"
            }
          },
          "metadata": {}
        },
        {
          "output_type": "display_data",
          "data": {
            "text/plain": [
              "config.json:   0%|          | 0.00/570 [00:00<?, ?B/s]"
            ],
            "application/vnd.jupyter.widget-view+json": {
              "version_major": 2,
              "version_minor": 0,
              "model_id": "1d8727e5e65e45c8b71113a850f97dbb"
            }
          },
          "metadata": {}
        },
        {
          "output_type": "display_data",
          "data": {
            "text/plain": [
              "vocab.txt:   0%|          | 0.00/232k [00:00<?, ?B/s]"
            ],
            "application/vnd.jupyter.widget-view+json": {
              "version_major": 2,
              "version_minor": 0,
              "model_id": "274f70c594284a80a77840519497f5fb"
            }
          },
          "metadata": {}
        },
        {
          "output_type": "display_data",
          "data": {
            "text/plain": [
              "tokenizer.json:   0%|          | 0.00/466k [00:00<?, ?B/s]"
            ],
            "application/vnd.jupyter.widget-view+json": {
              "version_major": 2,
              "version_minor": 0,
              "model_id": "53601d8790b44206a0242e70da89e9bc"
            }
          },
          "metadata": {}
        },
        {
          "output_type": "stream",
          "name": "stderr",
          "text": [
            "Xet Storage is enabled for this repo, but the 'hf_xet' package is not installed. Falling back to regular HTTP download. For better performance, install the package with: `pip install huggingface_hub[hf_xet]` or `pip install hf_xet`\n",
            "WARNING:huggingface_hub.file_download:Xet Storage is enabled for this repo, but the 'hf_xet' package is not installed. Falling back to regular HTTP download. For better performance, install the package with: `pip install huggingface_hub[hf_xet]` or `pip install hf_xet`\n"
          ]
        },
        {
          "output_type": "display_data",
          "data": {
            "text/plain": [
              "model.safetensors:   0%|          | 0.00/440M [00:00<?, ?B/s]"
            ],
            "application/vnd.jupyter.widget-view+json": {
              "version_major": 2,
              "version_minor": 0,
              "model_id": "dd6924404b2842748487fb436efeab49"
            }
          },
          "metadata": {}
        },
        {
          "output_type": "stream",
          "name": "stderr",
          "text": [
            "Some weights of BertForSequenceClassification were not initialized from the model checkpoint at bert-base-uncased and are newly initialized: ['classifier.bias', 'classifier.weight']\n",
            "You should probably TRAIN this model on a down-stream task to be able to use it for predictions and inference.\n"
          ]
        },
        {
          "output_type": "stream",
          "name": "stdout",
          "text": [
            "Ep 01: \tTL 1.1137 / VL 0.3543 | F1_macro 0.967  Acc 0.969\n"
          ]
        }
      ]
    },
    {
      "cell_type": "markdown",
      "source": [
        "Métrica\t¿Cómo se calcula?\tCuándo aporta valor\tObservaciones para tu proyecto (BBC News, 5 clases)\n",
        "Micro-precision/recall/F1\tSuma todos los TP, FP, FN y calcula la razón una sola vez.\t• Multi-label (muchas etiquetas por muestra).\n",
        "• Conjuntos muy desbalanceados donde el “tamaño” total importa (p. ej., métricas de search).\tPara clasificación single-label multi-clase, el micro-F1 coincide con la accuracy. Si ya reportas accuracy, el micro-F1 añade poca información nueva.\n",
        "Macro-precision/recall/F1\tCalcula la métrica por clase y luego hace el promedio simple (no ponderado).\t• Quieres ver si el modelo trata a todas las clases por igual.\n",
        "• Dataset algo desbalanceado.\n",
        "• Necesitas comparación justa entre modelos cuando hay minorías.\tÚtil incluso con BBC (distribución ≈ balanceada, pero nunca perfecta) para evidenciar si alguna categoría -“tech”, “sport”…- se queda atrás."
      ],
      "metadata": {
        "id": "wFt2XQ0PcZIJ"
      },
      "id": "wFt2XQ0PcZIJ"
    },
    {
      "cell_type": "markdown",
      "source": [
        "[3]"
      ],
      "metadata": {
        "id": "Pfn0fl1zaEVT"
      },
      "id": "Pfn0fl1zaEVT"
    },
    {
      "cell_type": "markdown",
      "source": [
        "..."
      ],
      "metadata": {
        "id": "75G3J6o5ieVc"
      },
      "id": "75G3J6o5ieVc"
    },
    {
      "cell_type": "markdown",
      "id": "7JgtiyyfIyMM",
      "metadata": {
        "id": "7JgtiyyfIyMM"
      },
      "source": [
        "***\n",
        "\n",
        "\n",
        "# 5. Análisis de resultados y discusión"
      ]
    },
    {
      "cell_type": "markdown",
      "source": [
        "..."
      ],
      "metadata": {
        "id": "Ty3gzWEui8xK"
      },
      "id": "Ty3gzWEui8xK"
    },
    {
      "cell_type": "markdown",
      "source": [
        "..."
      ],
      "metadata": {
        "id": "qJZ_NDzdjQ7G"
      },
      "id": "qJZ_NDzdjQ7G"
    },
    {
      "cell_type": "code",
      "source": [
        "def plot_model_diagnostics(*,\n",
        "                            history: dict | None = None,\n",
        "                            model = None,\n",
        "                            test_loader = None,\n",
        "                            class_names: list[str] | None = None,\n",
        "                            device = torch.device(\"cuda\" if torch.cuda.is_available() else \"cpu\"),\n",
        "                            title: str = \"\") -> None:\n",
        "    \"\"\"\n",
        "    Combina en una sola figura:\n",
        "       • Curvas de Loss y Accuracy (si se pasa `history`)\n",
        "       • Matriz de confusión        (si se pasa `model` + `test_loader`)\n",
        "    Puedes suministrar solo una de las dos partes si lo prefieres.\n",
        "\n",
        "    Parámetros\n",
        "    ----------\n",
        "    history      : dict con claves 'train_loss', 'val_loss', 'train_acc', 'val_acc'\n",
        "    model        : modelo transformers ya entrenado\n",
        "    test_loader  : DataLoader con el set de test\n",
        "    class_names  : lista de etiquetas (str) en el mismo orden que los IDs\n",
        "    device       : cpu / cuda\n",
        "    title        : título base que se antepone a cada sub-gráfico\n",
        "    \"\"\"\n",
        "    # ------ determinar cuántas filas de subplots necesitamos ------\n",
        "    n_rows = 0\n",
        "    if history is not None:\n",
        "        n_rows += 2                # Loss y Accuracy\n",
        "    if model is not None and test_loader is not None and class_names is not None:\n",
        "        n_rows += 1                # Matriz de confusión\n",
        "    if n_rows == 0:\n",
        "        raise ValueError(\"Debes pasar `history` o (`model`, `test_loader`, `class_names`).\")\n",
        "\n",
        "    plt.figure(figsize=(7, 4 * n_rows))\n",
        "    plot_idx = 1\n",
        "\n",
        "    # ------ curvas de entrenamiento ------------------------------\n",
        "    if history is not None:\n",
        "        epochs = range(1, len(history[\"train_loss\"]) + 1)\n",
        "\n",
        "        # Loss\n",
        "        plt.subplot(n_rows, 1, plot_idx)\n",
        "        plt.plot(epochs, history[\"train_loss\"], label=\"Train Loss\")\n",
        "        plt.plot(epochs, history[\"val_loss\"],   label=\"Val Loss\")\n",
        "        plt.xlabel(\"Epoch\")\n",
        "        plt.ylabel(\"Loss\")\n",
        "        plt.title(f\"{title} – Loss\")\n",
        "        plt.legend()\n",
        "        plot_idx += 1\n",
        "\n",
        "        # Accuracy\n",
        "        plt.subplot(n_rows, 1, plot_idx)\n",
        "        plt.plot(epochs, history[\"train_acc\"], label=\"Train Acc\")\n",
        "        plt.plot(epochs, history[\"val_acc\"],   label=\"Val Acc\")\n",
        "        plt.xlabel(\"Epoch\")\n",
        "        plt.ylabel(\"Accuracy\")\n",
        "        plt.title(f\"{title} – Accuracy\")\n",
        "        plt.legend()\n",
        "        plot_idx += 1\n",
        "\n",
        "    # ------ matriz de confusión ----------------------------------\n",
        "    if model is not None and test_loader is not None and class_names is not None:\n",
        "        model.eval()\n",
        "        y_true, y_pred = [], []\n",
        "\n",
        "        with torch.no_grad():\n",
        "            for batch in test_loader:\n",
        "                # ← el DataLoader sigue entregando las mismas claves que antes\n",
        "                labels = batch[\"labels\"]\n",
        "                inputs = {k: v.to(device) for k, v in batch.items() if k not in [\"labels\", \"text\", \"idx\"]}\n",
        "\n",
        "                logits = model(**inputs).logits\n",
        "                probs = F.softmax(logits, dim=-1)\n",
        "                preds = torch.argmax(probs, dim=1)\n",
        "\n",
        "                y_true.extend(labels.cpu().tolist())\n",
        "                y_pred.extend(preds.cpu().tolist())\n",
        "\n",
        "        cm = confusion_matrix(y_true, y_pred)\n",
        "        plt.subplot(n_rows, 1, plot_idx)\n",
        "        disp = ConfusionMatrixDisplay(cm, display_labels=class_names)\n",
        "        disp.plot(ax=plt.gca(), cmap=\"Blues\", colorbar=False)\n",
        "        plt.title(f\"{title} – Confusion Matrix\")\n",
        "        plt.xlabel(\"Predicted\")\n",
        "        plt.ylabel(\"True\")\n",
        "\n",
        "    plt.tight_layout()\n",
        "    plt.show()"
      ],
      "metadata": {
        "id": "uaauR7IpagRo"
      },
      "id": "uaauR7IpagRo",
      "execution_count": null,
      "outputs": []
    },
    {
      "cell_type": "code",
      "source": [
        "plot_model_diagnostics(\n",
        "    history     = histories[\"bert-base-uncased\"],\n",
        "    model       = models[\"bert-base-uncased\"],\n",
        "    test_loader = loaders[\"bert-base-uncased\"],\n",
        "    class_names = le.classes_.tolist(),\n",
        "    title       = \"BERT\"\n",
        ")\n",
        "\n",
        "plot_model_diagnostics(\n",
        "    history     = histories[\"roberta-base\"],\n",
        "    model       = models[\"roberta-base\"],\n",
        "    test_loader = loaders[\"roberta-base\"],\n",
        "    class_names = le.classes_.tolist(),\n",
        "    title       = \"RoBERTa\"\n",
        ")"
      ],
      "metadata": {
        "id": "KWYnrx5nGZtR"
      },
      "id": "KWYnrx5nGZtR",
      "execution_count": null,
      "outputs": []
    },
    {
      "cell_type": "code",
      "source": [
        "# -----------------------------------------------------\n",
        "#  Ejemplos FN / FP por clase  (código simplificado)\n",
        "# -----------------------------------------------------\n",
        "def collect_fn_fp_examples(model,\n",
        "                            test_loader,\n",
        "                            test_data,\n",
        "                            class_names: list[str],\n",
        "                            *,\n",
        "                            device=DEVICE,\n",
        "                            k: int = 5) -> pd.DataFrame:\n",
        "    \"\"\"\n",
        "    Devuelve un DataFrame con **hasta `k`** ejemplos *FN* y *FP*\n",
        "    por clase, además de los *TP* para referencia.\n",
        "\n",
        "    Columnas devueltas:\n",
        "      ├─ text     : texto original\n",
        "      ├─ true     : etiqueta real         (int)\n",
        "      ├─ pred     : etiqueta predicha     (int)\n",
        "      └─ type     : 'TP' ‖ 'FN' ‖ 'FP'\n",
        "    \"\"\"\n",
        "    model.eval()\n",
        "    texts, y_true, y_pred = [], [], []\n",
        "\n",
        "    with torch.no_grad():\n",
        "        for batch in test_loader:\n",
        "            labels = batch[\"labels\"]\n",
        "            inputs = {k:v.to(device) for k,v in batch.items()\n",
        "                      if k not in [\"labels\",\"text\",\"idx\"]}\n",
        "            logits = model(**inputs).logits\n",
        "            probs  = F.softmax(logits, dim=-1)\n",
        "            preds  = torch.argmax(probs, dim=1)\n",
        "\n",
        "            y_true.extend(labels.cpu().tolist())\n",
        "            y_pred.extend(preds.cpu().tolist())\n",
        "            texts.extend(batch[\"text\"])\n",
        "    # --- DataFrame --------------------------------------------------------\n",
        "    data = pd.DataFrame({\n",
        "        \"text\": texts,\n",
        "        \"true\": y_true,\n",
        "        \"pred\": y_pred,\n",
        "    })\n",
        "    data[\"type\"] = \"UNDEF\"\n",
        "    # --- Etiquetar tipo de acierto/error ----------------------------------\n",
        "\n",
        "    # --- Seleccionar hasta k ejemplos por clase y tipo --------------------\n",
        "    out_rows = []\n",
        "    rows=[]\n",
        "    for cls in range(len(class_names)):\n",
        "        data.loc[(data.true==cls) & (data.pred!=cls), \"type\"] = \"FN\"\n",
        "        data.loc[(data.pred==cls) & (data.true!=cls), \"type\"] = \"FP\"\n",
        "        data.loc[(data.true==cls) & (data.pred==cls), \"type\"] = \"TP\"\n",
        "        fn = data[(data.true==cls)&(data.pred!=cls)].head(k)\n",
        "        fp = data[(data.pred==cls)&(data.true!=cls)].head(k)\n",
        "        rows.extend(fn.assign(tipo=\"FN\", clase=class_names[cls]).to_dict(\"records\"))\n",
        "        rows.extend(fp.assign(tipo=\"FP\", clase=class_names[cls]).to_dict(\"records\"))\n",
        "    return pd.DataFrame(rows)"
      ],
      "metadata": {
        "id": "VrcMKrQPGt2J"
      },
      "id": "VrcMKrQPGt2J",
      "execution_count": null,
      "outputs": []
    },
    {
      "cell_type": "code",
      "source": [
        "# 1) Corre primero la inferencia sobre test_loader\n",
        "data_err_bert = collect_fn_fp_examples(models[\"bert-base-uncased\"], loaders[\"bert-base-uncased\"],\n",
        "                                     test_data, le.classes_.tolist(), k=3)\n",
        "\n",
        "data_err_roberta = collect_fn_fp_examples( models[\"roberta-base\"], loaders[\"roberta-base\"],\n",
        "                                     test_data, le.classes_.tolist(), k=3)\n",
        "# 2) Visualiza\n",
        "display(data_err_bert[[\"text\",\"true\",\"pred\",\"tipo\"]].head(10))\n",
        "display(data_err_roberta[[\"text\",\"true\",\"pred\",\"tipo\"]].head(10))"
      ],
      "metadata": {
        "id": "I80o-UdGG4SO"
      },
      "id": "I80o-UdGG4SO",
      "execution_count": null,
      "outputs": []
    },
    {
      "cell_type": "code",
      "source": [
        "def tsne_cls(*,\n",
        "             model,\n",
        "             test_loader,\n",
        "             class_names,\n",
        "             device,\n",
        "             save_path: str | None = None):\n",
        "    \"\"\"\n",
        "    • Extrae embeddings [CLS] del modelo sobre `test_loader`.\n",
        "    • Ejecuta t-SNE en 2 D con perplexity adaptativa:\n",
        "          perplexity = min(40, n_samples // 10)\n",
        "    • Si existe `save_path` y el archivo está creado,\n",
        "      reutiliza los embeddings proyectados (ahorra **`time`**).\n",
        "    \"\"\"\n",
        "    # ------------ 1) Obtener o cargar los vectores ----------------\n",
        "    if save_path and os.path.isfile(save_path):\n",
        "        print(f\"✔  t-SNE cargado de {save_path}\")\n",
        "        data = np.load(save_path)\n",
        "        X_2d, y = data[:, :2], data[:, 2].astype(int)\n",
        "    else:\n",
        "        model.eval()\n",
        "        reps, labels = [], []\n",
        "\n",
        "        with torch.no_grad():\n",
        "            for batch in test_loader:\n",
        "                inputs = {k: v.to(device) for k, v in batch.items()\n",
        "                          if k not in [\"labels\", \"text\"]}\n",
        "                out = model(**inputs, output_hidden_states=True)\n",
        "                cls = out.hidden_states[-1][:, 0, :]      # (B, H)\n",
        "\n",
        "                reps.append(cls.cpu())\n",
        "                labels.extend(batch[\"labels\"].tolist())\n",
        "\n",
        "        X = torch.cat(reps).numpy()\n",
        "        y = np.array(labels)\n",
        "\n",
        "        # ------------ 2) t-SNE con perplexity dinámica ------------\n",
        "        n_samples   = X.shape[0]\n",
        "        perplexity  = max(5, min(40, n_samples // 10))\n",
        "        print(f\"→ n_samples={n_samples} | perplexity={perplexity}\")\n",
        "\n",
        "        tsne = TSNE(\n",
        "            n_components=2,\n",
        "            perplexity=perplexity,\n",
        "            init=\"random\",\n",
        "            learning_rate=\"auto\",\n",
        "            random_state=42,\n",
        "            n_iter=1000\n",
        "        )\n",
        "        X_2d = tsne.fit_transform(X)\n",
        "\n",
        "        if save_path:\n",
        "            np.save(save_path, np.c_[X_2d, y])\n",
        "            print(f\"💾  Guardado en {save_path}\")\n",
        "\n",
        "    # ------------ 3) Graficar ------------------------------------\n",
        "    plt.figure(figsize=(6, 5))\n",
        "    for cls_id, cls_name in enumerate(class_names):\n",
        "        pts = X_2d[y == cls_id]\n",
        "        plt.scatter(pts[:, 0], pts[:, 1], alpha=0.6, label=cls_name, s=15)\n",
        "\n",
        "    plt.title(\"t-SNE de embeddings CLS\")\n",
        "    plt.axis(\"off\")\n",
        "    plt.legend(bbox_to_anchor=(1.05, 1), loc=\"upper left\")\n",
        "    plt.tight_layout()\n",
        "    plt.show()"
      ],
      "metadata": {
        "id": "1jB6JKlLVoQG"
      },
      "id": "1jB6JKlLVoQG",
      "execution_count": null,
      "outputs": []
    },
    {
      "cell_type": "code",
      "source": [
        "# 1) Escoge el modelo que quieres proyectar\n",
        "model_to_plot = models[\"bert-base-uncased\"]     # o \"RoBERTa\"\n",
        "\n",
        "# 2) Ejecución (reutiliza si ya existe 'tsne_cls.npy')\n",
        "tsne_cls(\n",
        "    model       = model_to_plot,\n",
        "    test_loader = loaders[\"bert-base-uncased\"],\n",
        "    class_names = le.classes_.tolist(),\n",
        "    device      = DEVICE,\n",
        "    save_path   = Path(\"tsne_cls_bert.npy\")          # guarda para futuras corridas\n",
        ")"
      ],
      "metadata": {
        "id": "EWyptqdMhynP"
      },
      "id": "EWyptqdMhynP",
      "execution_count": null,
      "outputs": []
    },
    {
      "cell_type": "code",
      "source": [
        "# 1) Escoge el modelo que quieres proyectar\n",
        "model_to_plot = models[\"roberta-base\"]     # o \"RoBERTa\"\n",
        "\n",
        "# 2) Ejecución (reutiliza si ya existe 'tsne_cls.npy')\n",
        "tsne_cls(\n",
        "    model       = model_to_plot,\n",
        "    test_loader = loaders[\"roberta-base\"],\n",
        "    class_names = le.classes_.tolist(),\n",
        "    device      = DEVICE,\n",
        "    save_path   = Path(\"tsne_cls_roberta.npy\")          # guarda para futuras corridas\n",
        ")"
      ],
      "metadata": {
        "id": "Nd0y6qt7ZRqa"
      },
      "id": "Nd0y6qt7ZRqa",
      "execution_count": null,
      "outputs": []
    },
    {
      "cell_type": "markdown",
      "source": [
        "***\n",
        "\n",
        "\n",
        "# 6. Conclusión\n",
        "\n",
        "....."
      ],
      "metadata": {
        "id": "uDjo26cIk10k"
      },
      "id": "uDjo26cIk10k"
    },
    {
      "cell_type": "markdown",
      "id": "DwUWQIAE3O0o",
      "metadata": {
        "id": "DwUWQIAE3O0o"
      },
      "source": [
        "***\n",
        "\n",
        "\n",
        "# 7. Referencias"
      ]
    },
    {
      "cell_type": "markdown",
      "id": "BoLDjBS03xiQ",
      "metadata": {
        "id": "BoLDjBS03xiQ"
      },
      "source": [
        "[1] **BERT: Pre-training of Deep Bidirectional Transformers for\n",
        "Language Understanding  Google AI Language**  \n",
        "Disponible en: [arxiv.org](https://arxiv.org/abs/1810.04805)\n",
        "\n",
        "\n",
        "[2] **Documents Classification using BERT on BBC Dataset**  \n",
        "Disponible en: [kaggle.com](https://www.kaggle.com/code/ouardasakram/documents-classification-using-bert-on-bbc-dataset)\n",
        "\n",
        "\n",
        "[3] **Bert-Classification-BBC-News**  \n",
        "Disponible en: [github.com](https://github.com/bymi15/Bert-Classification-BBC-News/blob/main/bert_classification_bbc_news.ipynb)\n",
        "\n",
        "\n"
      ]
    }
  ],
  "metadata": {
    "colab": {
      "provenance": [],
      "gpuType": "T4",
      "include_colab_link": true
    },
    "kernelspec": {
      "display_name": "Python 3",
      "name": "python3"
    },
    "language_info": {
      "codemirror_mode": {
        "name": "ipython",
        "version": 3
      },
      "file_extension": ".py",
      "mimetype": "text/x-python",
      "name": "python",
      "nbconvert_exporter": "python",
      "pygments_lexer": "ipython3",
      "version": "3.12.9"
    },
    "accelerator": "GPU",
    "widgets": {
      "application/vnd.jupyter.widget-state+json": {
        "74a00d696a964e4eb8936580fb32c68f": {
          "model_module": "@jupyter-widgets/controls",
          "model_name": "HBoxModel",
          "model_module_version": "1.5.0",
          "state": {
            "_dom_classes": [],
            "_model_module": "@jupyter-widgets/controls",
            "_model_module_version": "1.5.0",
            "_model_name": "HBoxModel",
            "_view_count": null,
            "_view_module": "@jupyter-widgets/controls",
            "_view_module_version": "1.5.0",
            "_view_name": "HBoxView",
            "box_style": "",
            "children": [
              "IPY_MODEL_a55a18cd421d4566af4104d3b1cbc13a",
              "IPY_MODEL_fd9a314e76194fd59bdfb3e2317fa667",
              "IPY_MODEL_06c4de034ed04352ac8e9c735e334cb1"
            ],
            "layout": "IPY_MODEL_242f5190cece450b9afa0cf43af27412"
          }
        },
        "a55a18cd421d4566af4104d3b1cbc13a": {
          "model_module": "@jupyter-widgets/controls",
          "model_name": "HTMLModel",
          "model_module_version": "1.5.0",
          "state": {
            "_dom_classes": [],
            "_model_module": "@jupyter-widgets/controls",
            "_model_module_version": "1.5.0",
            "_model_name": "HTMLModel",
            "_view_count": null,
            "_view_module": "@jupyter-widgets/controls",
            "_view_module_version": "1.5.0",
            "_view_name": "HTMLView",
            "description": "",
            "description_tooltip": null,
            "layout": "IPY_MODEL_a33cff336d4d4f09bae58df898340548",
            "placeholder": "​",
            "style": "IPY_MODEL_e783612c639a49d6908129e07bc97d5e",
            "value": "tokenizer_config.json: 100%"
          }
        },
        "fd9a314e76194fd59bdfb3e2317fa667": {
          "model_module": "@jupyter-widgets/controls",
          "model_name": "FloatProgressModel",
          "model_module_version": "1.5.0",
          "state": {
            "_dom_classes": [],
            "_model_module": "@jupyter-widgets/controls",
            "_model_module_version": "1.5.0",
            "_model_name": "FloatProgressModel",
            "_view_count": null,
            "_view_module": "@jupyter-widgets/controls",
            "_view_module_version": "1.5.0",
            "_view_name": "ProgressView",
            "bar_style": "success",
            "description": "",
            "description_tooltip": null,
            "layout": "IPY_MODEL_5188162cdf7d4c5d9a1b407a767c5df0",
            "max": 48,
            "min": 0,
            "orientation": "horizontal",
            "style": "IPY_MODEL_79d532e21a494c9198322dfa663868ed",
            "value": 48
          }
        },
        "06c4de034ed04352ac8e9c735e334cb1": {
          "model_module": "@jupyter-widgets/controls",
          "model_name": "HTMLModel",
          "model_module_version": "1.5.0",
          "state": {
            "_dom_classes": [],
            "_model_module": "@jupyter-widgets/controls",
            "_model_module_version": "1.5.0",
            "_model_name": "HTMLModel",
            "_view_count": null,
            "_view_module": "@jupyter-widgets/controls",
            "_view_module_version": "1.5.0",
            "_view_name": "HTMLView",
            "description": "",
            "description_tooltip": null,
            "layout": "IPY_MODEL_be35c16833324f67b316dcfa5c1157e9",
            "placeholder": "​",
            "style": "IPY_MODEL_a1e32b9c9b454e26a174005e1912b42a",
            "value": " 48.0/48.0 [00:00&lt;00:00, 3.75kB/s]"
          }
        },
        "242f5190cece450b9afa0cf43af27412": {
          "model_module": "@jupyter-widgets/base",
          "model_name": "LayoutModel",
          "model_module_version": "1.2.0",
          "state": {
            "_model_module": "@jupyter-widgets/base",
            "_model_module_version": "1.2.0",
            "_model_name": "LayoutModel",
            "_view_count": null,
            "_view_module": "@jupyter-widgets/base",
            "_view_module_version": "1.2.0",
            "_view_name": "LayoutView",
            "align_content": null,
            "align_items": null,
            "align_self": null,
            "border": null,
            "bottom": null,
            "display": null,
            "flex": null,
            "flex_flow": null,
            "grid_area": null,
            "grid_auto_columns": null,
            "grid_auto_flow": null,
            "grid_auto_rows": null,
            "grid_column": null,
            "grid_gap": null,
            "grid_row": null,
            "grid_template_areas": null,
            "grid_template_columns": null,
            "grid_template_rows": null,
            "height": null,
            "justify_content": null,
            "justify_items": null,
            "left": null,
            "margin": null,
            "max_height": null,
            "max_width": null,
            "min_height": null,
            "min_width": null,
            "object_fit": null,
            "object_position": null,
            "order": null,
            "overflow": null,
            "overflow_x": null,
            "overflow_y": null,
            "padding": null,
            "right": null,
            "top": null,
            "visibility": null,
            "width": null
          }
        },
        "a33cff336d4d4f09bae58df898340548": {
          "model_module": "@jupyter-widgets/base",
          "model_name": "LayoutModel",
          "model_module_version": "1.2.0",
          "state": {
            "_model_module": "@jupyter-widgets/base",
            "_model_module_version": "1.2.0",
            "_model_name": "LayoutModel",
            "_view_count": null,
            "_view_module": "@jupyter-widgets/base",
            "_view_module_version": "1.2.0",
            "_view_name": "LayoutView",
            "align_content": null,
            "align_items": null,
            "align_self": null,
            "border": null,
            "bottom": null,
            "display": null,
            "flex": null,
            "flex_flow": null,
            "grid_area": null,
            "grid_auto_columns": null,
            "grid_auto_flow": null,
            "grid_auto_rows": null,
            "grid_column": null,
            "grid_gap": null,
            "grid_row": null,
            "grid_template_areas": null,
            "grid_template_columns": null,
            "grid_template_rows": null,
            "height": null,
            "justify_content": null,
            "justify_items": null,
            "left": null,
            "margin": null,
            "max_height": null,
            "max_width": null,
            "min_height": null,
            "min_width": null,
            "object_fit": null,
            "object_position": null,
            "order": null,
            "overflow": null,
            "overflow_x": null,
            "overflow_y": null,
            "padding": null,
            "right": null,
            "top": null,
            "visibility": null,
            "width": null
          }
        },
        "e783612c639a49d6908129e07bc97d5e": {
          "model_module": "@jupyter-widgets/controls",
          "model_name": "DescriptionStyleModel",
          "model_module_version": "1.5.0",
          "state": {
            "_model_module": "@jupyter-widgets/controls",
            "_model_module_version": "1.5.0",
            "_model_name": "DescriptionStyleModel",
            "_view_count": null,
            "_view_module": "@jupyter-widgets/base",
            "_view_module_version": "1.2.0",
            "_view_name": "StyleView",
            "description_width": ""
          }
        },
        "5188162cdf7d4c5d9a1b407a767c5df0": {
          "model_module": "@jupyter-widgets/base",
          "model_name": "LayoutModel",
          "model_module_version": "1.2.0",
          "state": {
            "_model_module": "@jupyter-widgets/base",
            "_model_module_version": "1.2.0",
            "_model_name": "LayoutModel",
            "_view_count": null,
            "_view_module": "@jupyter-widgets/base",
            "_view_module_version": "1.2.0",
            "_view_name": "LayoutView",
            "align_content": null,
            "align_items": null,
            "align_self": null,
            "border": null,
            "bottom": null,
            "display": null,
            "flex": null,
            "flex_flow": null,
            "grid_area": null,
            "grid_auto_columns": null,
            "grid_auto_flow": null,
            "grid_auto_rows": null,
            "grid_column": null,
            "grid_gap": null,
            "grid_row": null,
            "grid_template_areas": null,
            "grid_template_columns": null,
            "grid_template_rows": null,
            "height": null,
            "justify_content": null,
            "justify_items": null,
            "left": null,
            "margin": null,
            "max_height": null,
            "max_width": null,
            "min_height": null,
            "min_width": null,
            "object_fit": null,
            "object_position": null,
            "order": null,
            "overflow": null,
            "overflow_x": null,
            "overflow_y": null,
            "padding": null,
            "right": null,
            "top": null,
            "visibility": null,
            "width": null
          }
        },
        "79d532e21a494c9198322dfa663868ed": {
          "model_module": "@jupyter-widgets/controls",
          "model_name": "ProgressStyleModel",
          "model_module_version": "1.5.0",
          "state": {
            "_model_module": "@jupyter-widgets/controls",
            "_model_module_version": "1.5.0",
            "_model_name": "ProgressStyleModel",
            "_view_count": null,
            "_view_module": "@jupyter-widgets/base",
            "_view_module_version": "1.2.0",
            "_view_name": "StyleView",
            "bar_color": null,
            "description_width": ""
          }
        },
        "be35c16833324f67b316dcfa5c1157e9": {
          "model_module": "@jupyter-widgets/base",
          "model_name": "LayoutModel",
          "model_module_version": "1.2.0",
          "state": {
            "_model_module": "@jupyter-widgets/base",
            "_model_module_version": "1.2.0",
            "_model_name": "LayoutModel",
            "_view_count": null,
            "_view_module": "@jupyter-widgets/base",
            "_view_module_version": "1.2.0",
            "_view_name": "LayoutView",
            "align_content": null,
            "align_items": null,
            "align_self": null,
            "border": null,
            "bottom": null,
            "display": null,
            "flex": null,
            "flex_flow": null,
            "grid_area": null,
            "grid_auto_columns": null,
            "grid_auto_flow": null,
            "grid_auto_rows": null,
            "grid_column": null,
            "grid_gap": null,
            "grid_row": null,
            "grid_template_areas": null,
            "grid_template_columns": null,
            "grid_template_rows": null,
            "height": null,
            "justify_content": null,
            "justify_items": null,
            "left": null,
            "margin": null,
            "max_height": null,
            "max_width": null,
            "min_height": null,
            "min_width": null,
            "object_fit": null,
            "object_position": null,
            "order": null,
            "overflow": null,
            "overflow_x": null,
            "overflow_y": null,
            "padding": null,
            "right": null,
            "top": null,
            "visibility": null,
            "width": null
          }
        },
        "a1e32b9c9b454e26a174005e1912b42a": {
          "model_module": "@jupyter-widgets/controls",
          "model_name": "DescriptionStyleModel",
          "model_module_version": "1.5.0",
          "state": {
            "_model_module": "@jupyter-widgets/controls",
            "_model_module_version": "1.5.0",
            "_model_name": "DescriptionStyleModel",
            "_view_count": null,
            "_view_module": "@jupyter-widgets/base",
            "_view_module_version": "1.2.0",
            "_view_name": "StyleView",
            "description_width": ""
          }
        },
        "1d8727e5e65e45c8b71113a850f97dbb": {
          "model_module": "@jupyter-widgets/controls",
          "model_name": "HBoxModel",
          "model_module_version": "1.5.0",
          "state": {
            "_dom_classes": [],
            "_model_module": "@jupyter-widgets/controls",
            "_model_module_version": "1.5.0",
            "_model_name": "HBoxModel",
            "_view_count": null,
            "_view_module": "@jupyter-widgets/controls",
            "_view_module_version": "1.5.0",
            "_view_name": "HBoxView",
            "box_style": "",
            "children": [
              "IPY_MODEL_38a8b6bdbc8b4233837a04704456d994",
              "IPY_MODEL_44ded6d3febd47ad9bb281b964a71574",
              "IPY_MODEL_f48771c5669d4d5c9d8f0cd5f7601c0a"
            ],
            "layout": "IPY_MODEL_31bd69a0784b4f07a797c6799844d409"
          }
        },
        "38a8b6bdbc8b4233837a04704456d994": {
          "model_module": "@jupyter-widgets/controls",
          "model_name": "HTMLModel",
          "model_module_version": "1.5.0",
          "state": {
            "_dom_classes": [],
            "_model_module": "@jupyter-widgets/controls",
            "_model_module_version": "1.5.0",
            "_model_name": "HTMLModel",
            "_view_count": null,
            "_view_module": "@jupyter-widgets/controls",
            "_view_module_version": "1.5.0",
            "_view_name": "HTMLView",
            "description": "",
            "description_tooltip": null,
            "layout": "IPY_MODEL_41d508f6035d4f689feb120110fcad68",
            "placeholder": "​",
            "style": "IPY_MODEL_eec2c28d574240b68f05b5bf888ea755",
            "value": "config.json: 100%"
          }
        },
        "44ded6d3febd47ad9bb281b964a71574": {
          "model_module": "@jupyter-widgets/controls",
          "model_name": "FloatProgressModel",
          "model_module_version": "1.5.0",
          "state": {
            "_dom_classes": [],
            "_model_module": "@jupyter-widgets/controls",
            "_model_module_version": "1.5.0",
            "_model_name": "FloatProgressModel",
            "_view_count": null,
            "_view_module": "@jupyter-widgets/controls",
            "_view_module_version": "1.5.0",
            "_view_name": "ProgressView",
            "bar_style": "success",
            "description": "",
            "description_tooltip": null,
            "layout": "IPY_MODEL_adbf88fc5baf4e8194ac73362eb32b5f",
            "max": 570,
            "min": 0,
            "orientation": "horizontal",
            "style": "IPY_MODEL_3ef6c1955bbd4574a9b15b31a11c0a50",
            "value": 570
          }
        },
        "f48771c5669d4d5c9d8f0cd5f7601c0a": {
          "model_module": "@jupyter-widgets/controls",
          "model_name": "HTMLModel",
          "model_module_version": "1.5.0",
          "state": {
            "_dom_classes": [],
            "_model_module": "@jupyter-widgets/controls",
            "_model_module_version": "1.5.0",
            "_model_name": "HTMLModel",
            "_view_count": null,
            "_view_module": "@jupyter-widgets/controls",
            "_view_module_version": "1.5.0",
            "_view_name": "HTMLView",
            "description": "",
            "description_tooltip": null,
            "layout": "IPY_MODEL_6d0306bd21ee4afbbceef24441da0169",
            "placeholder": "​",
            "style": "IPY_MODEL_9f95f3e3b1f745f0a358f04e01a70d3e",
            "value": " 570/570 [00:00&lt;00:00, 32.8kB/s]"
          }
        },
        "31bd69a0784b4f07a797c6799844d409": {
          "model_module": "@jupyter-widgets/base",
          "model_name": "LayoutModel",
          "model_module_version": "1.2.0",
          "state": {
            "_model_module": "@jupyter-widgets/base",
            "_model_module_version": "1.2.0",
            "_model_name": "LayoutModel",
            "_view_count": null,
            "_view_module": "@jupyter-widgets/base",
            "_view_module_version": "1.2.0",
            "_view_name": "LayoutView",
            "align_content": null,
            "align_items": null,
            "align_self": null,
            "border": null,
            "bottom": null,
            "display": null,
            "flex": null,
            "flex_flow": null,
            "grid_area": null,
            "grid_auto_columns": null,
            "grid_auto_flow": null,
            "grid_auto_rows": null,
            "grid_column": null,
            "grid_gap": null,
            "grid_row": null,
            "grid_template_areas": null,
            "grid_template_columns": null,
            "grid_template_rows": null,
            "height": null,
            "justify_content": null,
            "justify_items": null,
            "left": null,
            "margin": null,
            "max_height": null,
            "max_width": null,
            "min_height": null,
            "min_width": null,
            "object_fit": null,
            "object_position": null,
            "order": null,
            "overflow": null,
            "overflow_x": null,
            "overflow_y": null,
            "padding": null,
            "right": null,
            "top": null,
            "visibility": null,
            "width": null
          }
        },
        "41d508f6035d4f689feb120110fcad68": {
          "model_module": "@jupyter-widgets/base",
          "model_name": "LayoutModel",
          "model_module_version": "1.2.0",
          "state": {
            "_model_module": "@jupyter-widgets/base",
            "_model_module_version": "1.2.0",
            "_model_name": "LayoutModel",
            "_view_count": null,
            "_view_module": "@jupyter-widgets/base",
            "_view_module_version": "1.2.0",
            "_view_name": "LayoutView",
            "align_content": null,
            "align_items": null,
            "align_self": null,
            "border": null,
            "bottom": null,
            "display": null,
            "flex": null,
            "flex_flow": null,
            "grid_area": null,
            "grid_auto_columns": null,
            "grid_auto_flow": null,
            "grid_auto_rows": null,
            "grid_column": null,
            "grid_gap": null,
            "grid_row": null,
            "grid_template_areas": null,
            "grid_template_columns": null,
            "grid_template_rows": null,
            "height": null,
            "justify_content": null,
            "justify_items": null,
            "left": null,
            "margin": null,
            "max_height": null,
            "max_width": null,
            "min_height": null,
            "min_width": null,
            "object_fit": null,
            "object_position": null,
            "order": null,
            "overflow": null,
            "overflow_x": null,
            "overflow_y": null,
            "padding": null,
            "right": null,
            "top": null,
            "visibility": null,
            "width": null
          }
        },
        "eec2c28d574240b68f05b5bf888ea755": {
          "model_module": "@jupyter-widgets/controls",
          "model_name": "DescriptionStyleModel",
          "model_module_version": "1.5.0",
          "state": {
            "_model_module": "@jupyter-widgets/controls",
            "_model_module_version": "1.5.0",
            "_model_name": "DescriptionStyleModel",
            "_view_count": null,
            "_view_module": "@jupyter-widgets/base",
            "_view_module_version": "1.2.0",
            "_view_name": "StyleView",
            "description_width": ""
          }
        },
        "adbf88fc5baf4e8194ac73362eb32b5f": {
          "model_module": "@jupyter-widgets/base",
          "model_name": "LayoutModel",
          "model_module_version": "1.2.0",
          "state": {
            "_model_module": "@jupyter-widgets/base",
            "_model_module_version": "1.2.0",
            "_model_name": "LayoutModel",
            "_view_count": null,
            "_view_module": "@jupyter-widgets/base",
            "_view_module_version": "1.2.0",
            "_view_name": "LayoutView",
            "align_content": null,
            "align_items": null,
            "align_self": null,
            "border": null,
            "bottom": null,
            "display": null,
            "flex": null,
            "flex_flow": null,
            "grid_area": null,
            "grid_auto_columns": null,
            "grid_auto_flow": null,
            "grid_auto_rows": null,
            "grid_column": null,
            "grid_gap": null,
            "grid_row": null,
            "grid_template_areas": null,
            "grid_template_columns": null,
            "grid_template_rows": null,
            "height": null,
            "justify_content": null,
            "justify_items": null,
            "left": null,
            "margin": null,
            "max_height": null,
            "max_width": null,
            "min_height": null,
            "min_width": null,
            "object_fit": null,
            "object_position": null,
            "order": null,
            "overflow": null,
            "overflow_x": null,
            "overflow_y": null,
            "padding": null,
            "right": null,
            "top": null,
            "visibility": null,
            "width": null
          }
        },
        "3ef6c1955bbd4574a9b15b31a11c0a50": {
          "model_module": "@jupyter-widgets/controls",
          "model_name": "ProgressStyleModel",
          "model_module_version": "1.5.0",
          "state": {
            "_model_module": "@jupyter-widgets/controls",
            "_model_module_version": "1.5.0",
            "_model_name": "ProgressStyleModel",
            "_view_count": null,
            "_view_module": "@jupyter-widgets/base",
            "_view_module_version": "1.2.0",
            "_view_name": "StyleView",
            "bar_color": null,
            "description_width": ""
          }
        },
        "6d0306bd21ee4afbbceef24441da0169": {
          "model_module": "@jupyter-widgets/base",
          "model_name": "LayoutModel",
          "model_module_version": "1.2.0",
          "state": {
            "_model_module": "@jupyter-widgets/base",
            "_model_module_version": "1.2.0",
            "_model_name": "LayoutModel",
            "_view_count": null,
            "_view_module": "@jupyter-widgets/base",
            "_view_module_version": "1.2.0",
            "_view_name": "LayoutView",
            "align_content": null,
            "align_items": null,
            "align_self": null,
            "border": null,
            "bottom": null,
            "display": null,
            "flex": null,
            "flex_flow": null,
            "grid_area": null,
            "grid_auto_columns": null,
            "grid_auto_flow": null,
            "grid_auto_rows": null,
            "grid_column": null,
            "grid_gap": null,
            "grid_row": null,
            "grid_template_areas": null,
            "grid_template_columns": null,
            "grid_template_rows": null,
            "height": null,
            "justify_content": null,
            "justify_items": null,
            "left": null,
            "margin": null,
            "max_height": null,
            "max_width": null,
            "min_height": null,
            "min_width": null,
            "object_fit": null,
            "object_position": null,
            "order": null,
            "overflow": null,
            "overflow_x": null,
            "overflow_y": null,
            "padding": null,
            "right": null,
            "top": null,
            "visibility": null,
            "width": null
          }
        },
        "9f95f3e3b1f745f0a358f04e01a70d3e": {
          "model_module": "@jupyter-widgets/controls",
          "model_name": "DescriptionStyleModel",
          "model_module_version": "1.5.0",
          "state": {
            "_model_module": "@jupyter-widgets/controls",
            "_model_module_version": "1.5.0",
            "_model_name": "DescriptionStyleModel",
            "_view_count": null,
            "_view_module": "@jupyter-widgets/base",
            "_view_module_version": "1.2.0",
            "_view_name": "StyleView",
            "description_width": ""
          }
        },
        "274f70c594284a80a77840519497f5fb": {
          "model_module": "@jupyter-widgets/controls",
          "model_name": "HBoxModel",
          "model_module_version": "1.5.0",
          "state": {
            "_dom_classes": [],
            "_model_module": "@jupyter-widgets/controls",
            "_model_module_version": "1.5.0",
            "_model_name": "HBoxModel",
            "_view_count": null,
            "_view_module": "@jupyter-widgets/controls",
            "_view_module_version": "1.5.0",
            "_view_name": "HBoxView",
            "box_style": "",
            "children": [
              "IPY_MODEL_7a4a43f4aaae4834a1bb814cf68351db",
              "IPY_MODEL_9465220ba24845d18ba9bdd3427e4307",
              "IPY_MODEL_7643949fdea6490e9f9816c7a42060b1"
            ],
            "layout": "IPY_MODEL_c4017052665e401396495bbaa39f86e5"
          }
        },
        "7a4a43f4aaae4834a1bb814cf68351db": {
          "model_module": "@jupyter-widgets/controls",
          "model_name": "HTMLModel",
          "model_module_version": "1.5.0",
          "state": {
            "_dom_classes": [],
            "_model_module": "@jupyter-widgets/controls",
            "_model_module_version": "1.5.0",
            "_model_name": "HTMLModel",
            "_view_count": null,
            "_view_module": "@jupyter-widgets/controls",
            "_view_module_version": "1.5.0",
            "_view_name": "HTMLView",
            "description": "",
            "description_tooltip": null,
            "layout": "IPY_MODEL_e6da54ff201548098d6ac717bdf4757b",
            "placeholder": "​",
            "style": "IPY_MODEL_7f33e944ae17494d87489a7568802660",
            "value": "vocab.txt: 100%"
          }
        },
        "9465220ba24845d18ba9bdd3427e4307": {
          "model_module": "@jupyter-widgets/controls",
          "model_name": "FloatProgressModel",
          "model_module_version": "1.5.0",
          "state": {
            "_dom_classes": [],
            "_model_module": "@jupyter-widgets/controls",
            "_model_module_version": "1.5.0",
            "_model_name": "FloatProgressModel",
            "_view_count": null,
            "_view_module": "@jupyter-widgets/controls",
            "_view_module_version": "1.5.0",
            "_view_name": "ProgressView",
            "bar_style": "success",
            "description": "",
            "description_tooltip": null,
            "layout": "IPY_MODEL_877195fcd242464f88d29d8cbdfacefd",
            "max": 231508,
            "min": 0,
            "orientation": "horizontal",
            "style": "IPY_MODEL_1a2ccbe5626044cbbf4fc29dab8365a0",
            "value": 231508
          }
        },
        "7643949fdea6490e9f9816c7a42060b1": {
          "model_module": "@jupyter-widgets/controls",
          "model_name": "HTMLModel",
          "model_module_version": "1.5.0",
          "state": {
            "_dom_classes": [],
            "_model_module": "@jupyter-widgets/controls",
            "_model_module_version": "1.5.0",
            "_model_name": "HTMLModel",
            "_view_count": null,
            "_view_module": "@jupyter-widgets/controls",
            "_view_module_version": "1.5.0",
            "_view_name": "HTMLView",
            "description": "",
            "description_tooltip": null,
            "layout": "IPY_MODEL_8342282f197749edbf99c862c6efbac9",
            "placeholder": "​",
            "style": "IPY_MODEL_516ac8a6db6c4e7c8b1361bfea9afa2c",
            "value": " 232k/232k [00:00&lt;00:00, 1.42MB/s]"
          }
        },
        "c4017052665e401396495bbaa39f86e5": {
          "model_module": "@jupyter-widgets/base",
          "model_name": "LayoutModel",
          "model_module_version": "1.2.0",
          "state": {
            "_model_module": "@jupyter-widgets/base",
            "_model_module_version": "1.2.0",
            "_model_name": "LayoutModel",
            "_view_count": null,
            "_view_module": "@jupyter-widgets/base",
            "_view_module_version": "1.2.0",
            "_view_name": "LayoutView",
            "align_content": null,
            "align_items": null,
            "align_self": null,
            "border": null,
            "bottom": null,
            "display": null,
            "flex": null,
            "flex_flow": null,
            "grid_area": null,
            "grid_auto_columns": null,
            "grid_auto_flow": null,
            "grid_auto_rows": null,
            "grid_column": null,
            "grid_gap": null,
            "grid_row": null,
            "grid_template_areas": null,
            "grid_template_columns": null,
            "grid_template_rows": null,
            "height": null,
            "justify_content": null,
            "justify_items": null,
            "left": null,
            "margin": null,
            "max_height": null,
            "max_width": null,
            "min_height": null,
            "min_width": null,
            "object_fit": null,
            "object_position": null,
            "order": null,
            "overflow": null,
            "overflow_x": null,
            "overflow_y": null,
            "padding": null,
            "right": null,
            "top": null,
            "visibility": null,
            "width": null
          }
        },
        "e6da54ff201548098d6ac717bdf4757b": {
          "model_module": "@jupyter-widgets/base",
          "model_name": "LayoutModel",
          "model_module_version": "1.2.0",
          "state": {
            "_model_module": "@jupyter-widgets/base",
            "_model_module_version": "1.2.0",
            "_model_name": "LayoutModel",
            "_view_count": null,
            "_view_module": "@jupyter-widgets/base",
            "_view_module_version": "1.2.0",
            "_view_name": "LayoutView",
            "align_content": null,
            "align_items": null,
            "align_self": null,
            "border": null,
            "bottom": null,
            "display": null,
            "flex": null,
            "flex_flow": null,
            "grid_area": null,
            "grid_auto_columns": null,
            "grid_auto_flow": null,
            "grid_auto_rows": null,
            "grid_column": null,
            "grid_gap": null,
            "grid_row": null,
            "grid_template_areas": null,
            "grid_template_columns": null,
            "grid_template_rows": null,
            "height": null,
            "justify_content": null,
            "justify_items": null,
            "left": null,
            "margin": null,
            "max_height": null,
            "max_width": null,
            "min_height": null,
            "min_width": null,
            "object_fit": null,
            "object_position": null,
            "order": null,
            "overflow": null,
            "overflow_x": null,
            "overflow_y": null,
            "padding": null,
            "right": null,
            "top": null,
            "visibility": null,
            "width": null
          }
        },
        "7f33e944ae17494d87489a7568802660": {
          "model_module": "@jupyter-widgets/controls",
          "model_name": "DescriptionStyleModel",
          "model_module_version": "1.5.0",
          "state": {
            "_model_module": "@jupyter-widgets/controls",
            "_model_module_version": "1.5.0",
            "_model_name": "DescriptionStyleModel",
            "_view_count": null,
            "_view_module": "@jupyter-widgets/base",
            "_view_module_version": "1.2.0",
            "_view_name": "StyleView",
            "description_width": ""
          }
        },
        "877195fcd242464f88d29d8cbdfacefd": {
          "model_module": "@jupyter-widgets/base",
          "model_name": "LayoutModel",
          "model_module_version": "1.2.0",
          "state": {
            "_model_module": "@jupyter-widgets/base",
            "_model_module_version": "1.2.0",
            "_model_name": "LayoutModel",
            "_view_count": null,
            "_view_module": "@jupyter-widgets/base",
            "_view_module_version": "1.2.0",
            "_view_name": "LayoutView",
            "align_content": null,
            "align_items": null,
            "align_self": null,
            "border": null,
            "bottom": null,
            "display": null,
            "flex": null,
            "flex_flow": null,
            "grid_area": null,
            "grid_auto_columns": null,
            "grid_auto_flow": null,
            "grid_auto_rows": null,
            "grid_column": null,
            "grid_gap": null,
            "grid_row": null,
            "grid_template_areas": null,
            "grid_template_columns": null,
            "grid_template_rows": null,
            "height": null,
            "justify_content": null,
            "justify_items": null,
            "left": null,
            "margin": null,
            "max_height": null,
            "max_width": null,
            "min_height": null,
            "min_width": null,
            "object_fit": null,
            "object_position": null,
            "order": null,
            "overflow": null,
            "overflow_x": null,
            "overflow_y": null,
            "padding": null,
            "right": null,
            "top": null,
            "visibility": null,
            "width": null
          }
        },
        "1a2ccbe5626044cbbf4fc29dab8365a0": {
          "model_module": "@jupyter-widgets/controls",
          "model_name": "ProgressStyleModel",
          "model_module_version": "1.5.0",
          "state": {
            "_model_module": "@jupyter-widgets/controls",
            "_model_module_version": "1.5.0",
            "_model_name": "ProgressStyleModel",
            "_view_count": null,
            "_view_module": "@jupyter-widgets/base",
            "_view_module_version": "1.2.0",
            "_view_name": "StyleView",
            "bar_color": null,
            "description_width": ""
          }
        },
        "8342282f197749edbf99c862c6efbac9": {
          "model_module": "@jupyter-widgets/base",
          "model_name": "LayoutModel",
          "model_module_version": "1.2.0",
          "state": {
            "_model_module": "@jupyter-widgets/base",
            "_model_module_version": "1.2.0",
            "_model_name": "LayoutModel",
            "_view_count": null,
            "_view_module": "@jupyter-widgets/base",
            "_view_module_version": "1.2.0",
            "_view_name": "LayoutView",
            "align_content": null,
            "align_items": null,
            "align_self": null,
            "border": null,
            "bottom": null,
            "display": null,
            "flex": null,
            "flex_flow": null,
            "grid_area": null,
            "grid_auto_columns": null,
            "grid_auto_flow": null,
            "grid_auto_rows": null,
            "grid_column": null,
            "grid_gap": null,
            "grid_row": null,
            "grid_template_areas": null,
            "grid_template_columns": null,
            "grid_template_rows": null,
            "height": null,
            "justify_content": null,
            "justify_items": null,
            "left": null,
            "margin": null,
            "max_height": null,
            "max_width": null,
            "min_height": null,
            "min_width": null,
            "object_fit": null,
            "object_position": null,
            "order": null,
            "overflow": null,
            "overflow_x": null,
            "overflow_y": null,
            "padding": null,
            "right": null,
            "top": null,
            "visibility": null,
            "width": null
          }
        },
        "516ac8a6db6c4e7c8b1361bfea9afa2c": {
          "model_module": "@jupyter-widgets/controls",
          "model_name": "DescriptionStyleModel",
          "model_module_version": "1.5.0",
          "state": {
            "_model_module": "@jupyter-widgets/controls",
            "_model_module_version": "1.5.0",
            "_model_name": "DescriptionStyleModel",
            "_view_count": null,
            "_view_module": "@jupyter-widgets/base",
            "_view_module_version": "1.2.0",
            "_view_name": "StyleView",
            "description_width": ""
          }
        },
        "53601d8790b44206a0242e70da89e9bc": {
          "model_module": "@jupyter-widgets/controls",
          "model_name": "HBoxModel",
          "model_module_version": "1.5.0",
          "state": {
            "_dom_classes": [],
            "_model_module": "@jupyter-widgets/controls",
            "_model_module_version": "1.5.0",
            "_model_name": "HBoxModel",
            "_view_count": null,
            "_view_module": "@jupyter-widgets/controls",
            "_view_module_version": "1.5.0",
            "_view_name": "HBoxView",
            "box_style": "",
            "children": [
              "IPY_MODEL_6b28fa99a35f433e91ddbcd9194cb40d",
              "IPY_MODEL_0dd9ecb7d475433983a1fae007e69d86",
              "IPY_MODEL_6c41ca3db8d94fde934ed97e2a56ab3f"
            ],
            "layout": "IPY_MODEL_663702efe03d46e3baa3a57dacadb9cc"
          }
        },
        "6b28fa99a35f433e91ddbcd9194cb40d": {
          "model_module": "@jupyter-widgets/controls",
          "model_name": "HTMLModel",
          "model_module_version": "1.5.0",
          "state": {
            "_dom_classes": [],
            "_model_module": "@jupyter-widgets/controls",
            "_model_module_version": "1.5.0",
            "_model_name": "HTMLModel",
            "_view_count": null,
            "_view_module": "@jupyter-widgets/controls",
            "_view_module_version": "1.5.0",
            "_view_name": "HTMLView",
            "description": "",
            "description_tooltip": null,
            "layout": "IPY_MODEL_f799c9de8ad74bff9521f169432f13d7",
            "placeholder": "​",
            "style": "IPY_MODEL_0b0696a004924ed59c34f5bab42f0758",
            "value": "tokenizer.json: 100%"
          }
        },
        "0dd9ecb7d475433983a1fae007e69d86": {
          "model_module": "@jupyter-widgets/controls",
          "model_name": "FloatProgressModel",
          "model_module_version": "1.5.0",
          "state": {
            "_dom_classes": [],
            "_model_module": "@jupyter-widgets/controls",
            "_model_module_version": "1.5.0",
            "_model_name": "FloatProgressModel",
            "_view_count": null,
            "_view_module": "@jupyter-widgets/controls",
            "_view_module_version": "1.5.0",
            "_view_name": "ProgressView",
            "bar_style": "success",
            "description": "",
            "description_tooltip": null,
            "layout": "IPY_MODEL_21fa7623057b42879e30bace136d599e",
            "max": 466062,
            "min": 0,
            "orientation": "horizontal",
            "style": "IPY_MODEL_08dad4bc89924b43802e74ed17c6f0dd",
            "value": 466062
          }
        },
        "6c41ca3db8d94fde934ed97e2a56ab3f": {
          "model_module": "@jupyter-widgets/controls",
          "model_name": "HTMLModel",
          "model_module_version": "1.5.0",
          "state": {
            "_dom_classes": [],
            "_model_module": "@jupyter-widgets/controls",
            "_model_module_version": "1.5.0",
            "_model_name": "HTMLModel",
            "_view_count": null,
            "_view_module": "@jupyter-widgets/controls",
            "_view_module_version": "1.5.0",
            "_view_name": "HTMLView",
            "description": "",
            "description_tooltip": null,
            "layout": "IPY_MODEL_3359c4ff42f4442ca7a9a19375e71ae5",
            "placeholder": "​",
            "style": "IPY_MODEL_fc39e72102344c95b155f221564884e1",
            "value": " 466k/466k [00:00&lt;00:00, 5.58MB/s]"
          }
        },
        "663702efe03d46e3baa3a57dacadb9cc": {
          "model_module": "@jupyter-widgets/base",
          "model_name": "LayoutModel",
          "model_module_version": "1.2.0",
          "state": {
            "_model_module": "@jupyter-widgets/base",
            "_model_module_version": "1.2.0",
            "_model_name": "LayoutModel",
            "_view_count": null,
            "_view_module": "@jupyter-widgets/base",
            "_view_module_version": "1.2.0",
            "_view_name": "LayoutView",
            "align_content": null,
            "align_items": null,
            "align_self": null,
            "border": null,
            "bottom": null,
            "display": null,
            "flex": null,
            "flex_flow": null,
            "grid_area": null,
            "grid_auto_columns": null,
            "grid_auto_flow": null,
            "grid_auto_rows": null,
            "grid_column": null,
            "grid_gap": null,
            "grid_row": null,
            "grid_template_areas": null,
            "grid_template_columns": null,
            "grid_template_rows": null,
            "height": null,
            "justify_content": null,
            "justify_items": null,
            "left": null,
            "margin": null,
            "max_height": null,
            "max_width": null,
            "min_height": null,
            "min_width": null,
            "object_fit": null,
            "object_position": null,
            "order": null,
            "overflow": null,
            "overflow_x": null,
            "overflow_y": null,
            "padding": null,
            "right": null,
            "top": null,
            "visibility": null,
            "width": null
          }
        },
        "f799c9de8ad74bff9521f169432f13d7": {
          "model_module": "@jupyter-widgets/base",
          "model_name": "LayoutModel",
          "model_module_version": "1.2.0",
          "state": {
            "_model_module": "@jupyter-widgets/base",
            "_model_module_version": "1.2.0",
            "_model_name": "LayoutModel",
            "_view_count": null,
            "_view_module": "@jupyter-widgets/base",
            "_view_module_version": "1.2.0",
            "_view_name": "LayoutView",
            "align_content": null,
            "align_items": null,
            "align_self": null,
            "border": null,
            "bottom": null,
            "display": null,
            "flex": null,
            "flex_flow": null,
            "grid_area": null,
            "grid_auto_columns": null,
            "grid_auto_flow": null,
            "grid_auto_rows": null,
            "grid_column": null,
            "grid_gap": null,
            "grid_row": null,
            "grid_template_areas": null,
            "grid_template_columns": null,
            "grid_template_rows": null,
            "height": null,
            "justify_content": null,
            "justify_items": null,
            "left": null,
            "margin": null,
            "max_height": null,
            "max_width": null,
            "min_height": null,
            "min_width": null,
            "object_fit": null,
            "object_position": null,
            "order": null,
            "overflow": null,
            "overflow_x": null,
            "overflow_y": null,
            "padding": null,
            "right": null,
            "top": null,
            "visibility": null,
            "width": null
          }
        },
        "0b0696a004924ed59c34f5bab42f0758": {
          "model_module": "@jupyter-widgets/controls",
          "model_name": "DescriptionStyleModel",
          "model_module_version": "1.5.0",
          "state": {
            "_model_module": "@jupyter-widgets/controls",
            "_model_module_version": "1.5.0",
            "_model_name": "DescriptionStyleModel",
            "_view_count": null,
            "_view_module": "@jupyter-widgets/base",
            "_view_module_version": "1.2.0",
            "_view_name": "StyleView",
            "description_width": ""
          }
        },
        "21fa7623057b42879e30bace136d599e": {
          "model_module": "@jupyter-widgets/base",
          "model_name": "LayoutModel",
          "model_module_version": "1.2.0",
          "state": {
            "_model_module": "@jupyter-widgets/base",
            "_model_module_version": "1.2.0",
            "_model_name": "LayoutModel",
            "_view_count": null,
            "_view_module": "@jupyter-widgets/base",
            "_view_module_version": "1.2.0",
            "_view_name": "LayoutView",
            "align_content": null,
            "align_items": null,
            "align_self": null,
            "border": null,
            "bottom": null,
            "display": null,
            "flex": null,
            "flex_flow": null,
            "grid_area": null,
            "grid_auto_columns": null,
            "grid_auto_flow": null,
            "grid_auto_rows": null,
            "grid_column": null,
            "grid_gap": null,
            "grid_row": null,
            "grid_template_areas": null,
            "grid_template_columns": null,
            "grid_template_rows": null,
            "height": null,
            "justify_content": null,
            "justify_items": null,
            "left": null,
            "margin": null,
            "max_height": null,
            "max_width": null,
            "min_height": null,
            "min_width": null,
            "object_fit": null,
            "object_position": null,
            "order": null,
            "overflow": null,
            "overflow_x": null,
            "overflow_y": null,
            "padding": null,
            "right": null,
            "top": null,
            "visibility": null,
            "width": null
          }
        },
        "08dad4bc89924b43802e74ed17c6f0dd": {
          "model_module": "@jupyter-widgets/controls",
          "model_name": "ProgressStyleModel",
          "model_module_version": "1.5.0",
          "state": {
            "_model_module": "@jupyter-widgets/controls",
            "_model_module_version": "1.5.0",
            "_model_name": "ProgressStyleModel",
            "_view_count": null,
            "_view_module": "@jupyter-widgets/base",
            "_view_module_version": "1.2.0",
            "_view_name": "StyleView",
            "bar_color": null,
            "description_width": ""
          }
        },
        "3359c4ff42f4442ca7a9a19375e71ae5": {
          "model_module": "@jupyter-widgets/base",
          "model_name": "LayoutModel",
          "model_module_version": "1.2.0",
          "state": {
            "_model_module": "@jupyter-widgets/base",
            "_model_module_version": "1.2.0",
            "_model_name": "LayoutModel",
            "_view_count": null,
            "_view_module": "@jupyter-widgets/base",
            "_view_module_version": "1.2.0",
            "_view_name": "LayoutView",
            "align_content": null,
            "align_items": null,
            "align_self": null,
            "border": null,
            "bottom": null,
            "display": null,
            "flex": null,
            "flex_flow": null,
            "grid_area": null,
            "grid_auto_columns": null,
            "grid_auto_flow": null,
            "grid_auto_rows": null,
            "grid_column": null,
            "grid_gap": null,
            "grid_row": null,
            "grid_template_areas": null,
            "grid_template_columns": null,
            "grid_template_rows": null,
            "height": null,
            "justify_content": null,
            "justify_items": null,
            "left": null,
            "margin": null,
            "max_height": null,
            "max_width": null,
            "min_height": null,
            "min_width": null,
            "object_fit": null,
            "object_position": null,
            "order": null,
            "overflow": null,
            "overflow_x": null,
            "overflow_y": null,
            "padding": null,
            "right": null,
            "top": null,
            "visibility": null,
            "width": null
          }
        },
        "fc39e72102344c95b155f221564884e1": {
          "model_module": "@jupyter-widgets/controls",
          "model_name": "DescriptionStyleModel",
          "model_module_version": "1.5.0",
          "state": {
            "_model_module": "@jupyter-widgets/controls",
            "_model_module_version": "1.5.0",
            "_model_name": "DescriptionStyleModel",
            "_view_count": null,
            "_view_module": "@jupyter-widgets/base",
            "_view_module_version": "1.2.0",
            "_view_name": "StyleView",
            "description_width": ""
          }
        },
        "dd6924404b2842748487fb436efeab49": {
          "model_module": "@jupyter-widgets/controls",
          "model_name": "HBoxModel",
          "model_module_version": "1.5.0",
          "state": {
            "_dom_classes": [],
            "_model_module": "@jupyter-widgets/controls",
            "_model_module_version": "1.5.0",
            "_model_name": "HBoxModel",
            "_view_count": null,
            "_view_module": "@jupyter-widgets/controls",
            "_view_module_version": "1.5.0",
            "_view_name": "HBoxView",
            "box_style": "",
            "children": [
              "IPY_MODEL_42fca7c9071b455d8f8ca6e107840a01",
              "IPY_MODEL_e44cdc75f5904436b32df9aecc534615",
              "IPY_MODEL_0e62caf59fe74b5b95c695e12fa90c11"
            ],
            "layout": "IPY_MODEL_8e55200ab00e4327be0b5c22f19c1015"
          }
        },
        "42fca7c9071b455d8f8ca6e107840a01": {
          "model_module": "@jupyter-widgets/controls",
          "model_name": "HTMLModel",
          "model_module_version": "1.5.0",
          "state": {
            "_dom_classes": [],
            "_model_module": "@jupyter-widgets/controls",
            "_model_module_version": "1.5.0",
            "_model_name": "HTMLModel",
            "_view_count": null,
            "_view_module": "@jupyter-widgets/controls",
            "_view_module_version": "1.5.0",
            "_view_name": "HTMLView",
            "description": "",
            "description_tooltip": null,
            "layout": "IPY_MODEL_84f2f5e59bdd4b9abc3458b9fe331e6d",
            "placeholder": "​",
            "style": "IPY_MODEL_8c23842fb73e4cbd9387717d95ef1f6d",
            "value": "model.safetensors: 100%"
          }
        },
        "e44cdc75f5904436b32df9aecc534615": {
          "model_module": "@jupyter-widgets/controls",
          "model_name": "FloatProgressModel",
          "model_module_version": "1.5.0",
          "state": {
            "_dom_classes": [],
            "_model_module": "@jupyter-widgets/controls",
            "_model_module_version": "1.5.0",
            "_model_name": "FloatProgressModel",
            "_view_count": null,
            "_view_module": "@jupyter-widgets/controls",
            "_view_module_version": "1.5.0",
            "_view_name": "ProgressView",
            "bar_style": "success",
            "description": "",
            "description_tooltip": null,
            "layout": "IPY_MODEL_9b68ff1acc5b4905b058182193152d40",
            "max": 440449768,
            "min": 0,
            "orientation": "horizontal",
            "style": "IPY_MODEL_9e26294cbfc94cd9b48c8e9fa0468a38",
            "value": 440449768
          }
        },
        "0e62caf59fe74b5b95c695e12fa90c11": {
          "model_module": "@jupyter-widgets/controls",
          "model_name": "HTMLModel",
          "model_module_version": "1.5.0",
          "state": {
            "_dom_classes": [],
            "_model_module": "@jupyter-widgets/controls",
            "_model_module_version": "1.5.0",
            "_model_name": "HTMLModel",
            "_view_count": null,
            "_view_module": "@jupyter-widgets/controls",
            "_view_module_version": "1.5.0",
            "_view_name": "HTMLView",
            "description": "",
            "description_tooltip": null,
            "layout": "IPY_MODEL_b82ca41ccd24423ca785b49b34e93fca",
            "placeholder": "​",
            "style": "IPY_MODEL_e7d94a17cb044477ab7967521b348b10",
            "value": " 440M/440M [00:02&lt;00:00, 250MB/s]"
          }
        },
        "8e55200ab00e4327be0b5c22f19c1015": {
          "model_module": "@jupyter-widgets/base",
          "model_name": "LayoutModel",
          "model_module_version": "1.2.0",
          "state": {
            "_model_module": "@jupyter-widgets/base",
            "_model_module_version": "1.2.0",
            "_model_name": "LayoutModel",
            "_view_count": null,
            "_view_module": "@jupyter-widgets/base",
            "_view_module_version": "1.2.0",
            "_view_name": "LayoutView",
            "align_content": null,
            "align_items": null,
            "align_self": null,
            "border": null,
            "bottom": null,
            "display": null,
            "flex": null,
            "flex_flow": null,
            "grid_area": null,
            "grid_auto_columns": null,
            "grid_auto_flow": null,
            "grid_auto_rows": null,
            "grid_column": null,
            "grid_gap": null,
            "grid_row": null,
            "grid_template_areas": null,
            "grid_template_columns": null,
            "grid_template_rows": null,
            "height": null,
            "justify_content": null,
            "justify_items": null,
            "left": null,
            "margin": null,
            "max_height": null,
            "max_width": null,
            "min_height": null,
            "min_width": null,
            "object_fit": null,
            "object_position": null,
            "order": null,
            "overflow": null,
            "overflow_x": null,
            "overflow_y": null,
            "padding": null,
            "right": null,
            "top": null,
            "visibility": null,
            "width": null
          }
        },
        "84f2f5e59bdd4b9abc3458b9fe331e6d": {
          "model_module": "@jupyter-widgets/base",
          "model_name": "LayoutModel",
          "model_module_version": "1.2.0",
          "state": {
            "_model_module": "@jupyter-widgets/base",
            "_model_module_version": "1.2.0",
            "_model_name": "LayoutModel",
            "_view_count": null,
            "_view_module": "@jupyter-widgets/base",
            "_view_module_version": "1.2.0",
            "_view_name": "LayoutView",
            "align_content": null,
            "align_items": null,
            "align_self": null,
            "border": null,
            "bottom": null,
            "display": null,
            "flex": null,
            "flex_flow": null,
            "grid_area": null,
            "grid_auto_columns": null,
            "grid_auto_flow": null,
            "grid_auto_rows": null,
            "grid_column": null,
            "grid_gap": null,
            "grid_row": null,
            "grid_template_areas": null,
            "grid_template_columns": null,
            "grid_template_rows": null,
            "height": null,
            "justify_content": null,
            "justify_items": null,
            "left": null,
            "margin": null,
            "max_height": null,
            "max_width": null,
            "min_height": null,
            "min_width": null,
            "object_fit": null,
            "object_position": null,
            "order": null,
            "overflow": null,
            "overflow_x": null,
            "overflow_y": null,
            "padding": null,
            "right": null,
            "top": null,
            "visibility": null,
            "width": null
          }
        },
        "8c23842fb73e4cbd9387717d95ef1f6d": {
          "model_module": "@jupyter-widgets/controls",
          "model_name": "DescriptionStyleModel",
          "model_module_version": "1.5.0",
          "state": {
            "_model_module": "@jupyter-widgets/controls",
            "_model_module_version": "1.5.0",
            "_model_name": "DescriptionStyleModel",
            "_view_count": null,
            "_view_module": "@jupyter-widgets/base",
            "_view_module_version": "1.2.0",
            "_view_name": "StyleView",
            "description_width": ""
          }
        },
        "9b68ff1acc5b4905b058182193152d40": {
          "model_module": "@jupyter-widgets/base",
          "model_name": "LayoutModel",
          "model_module_version": "1.2.0",
          "state": {
            "_model_module": "@jupyter-widgets/base",
            "_model_module_version": "1.2.0",
            "_model_name": "LayoutModel",
            "_view_count": null,
            "_view_module": "@jupyter-widgets/base",
            "_view_module_version": "1.2.0",
            "_view_name": "LayoutView",
            "align_content": null,
            "align_items": null,
            "align_self": null,
            "border": null,
            "bottom": null,
            "display": null,
            "flex": null,
            "flex_flow": null,
            "grid_area": null,
            "grid_auto_columns": null,
            "grid_auto_flow": null,
            "grid_auto_rows": null,
            "grid_column": null,
            "grid_gap": null,
            "grid_row": null,
            "grid_template_areas": null,
            "grid_template_columns": null,
            "grid_template_rows": null,
            "height": null,
            "justify_content": null,
            "justify_items": null,
            "left": null,
            "margin": null,
            "max_height": null,
            "max_width": null,
            "min_height": null,
            "min_width": null,
            "object_fit": null,
            "object_position": null,
            "order": null,
            "overflow": null,
            "overflow_x": null,
            "overflow_y": null,
            "padding": null,
            "right": null,
            "top": null,
            "visibility": null,
            "width": null
          }
        },
        "9e26294cbfc94cd9b48c8e9fa0468a38": {
          "model_module": "@jupyter-widgets/controls",
          "model_name": "ProgressStyleModel",
          "model_module_version": "1.5.0",
          "state": {
            "_model_module": "@jupyter-widgets/controls",
            "_model_module_version": "1.5.0",
            "_model_name": "ProgressStyleModel",
            "_view_count": null,
            "_view_module": "@jupyter-widgets/base",
            "_view_module_version": "1.2.0",
            "_view_name": "StyleView",
            "bar_color": null,
            "description_width": ""
          }
        },
        "b82ca41ccd24423ca785b49b34e93fca": {
          "model_module": "@jupyter-widgets/base",
          "model_name": "LayoutModel",
          "model_module_version": "1.2.0",
          "state": {
            "_model_module": "@jupyter-widgets/base",
            "_model_module_version": "1.2.0",
            "_model_name": "LayoutModel",
            "_view_count": null,
            "_view_module": "@jupyter-widgets/base",
            "_view_module_version": "1.2.0",
            "_view_name": "LayoutView",
            "align_content": null,
            "align_items": null,
            "align_self": null,
            "border": null,
            "bottom": null,
            "display": null,
            "flex": null,
            "flex_flow": null,
            "grid_area": null,
            "grid_auto_columns": null,
            "grid_auto_flow": null,
            "grid_auto_rows": null,
            "grid_column": null,
            "grid_gap": null,
            "grid_row": null,
            "grid_template_areas": null,
            "grid_template_columns": null,
            "grid_template_rows": null,
            "height": null,
            "justify_content": null,
            "justify_items": null,
            "left": null,
            "margin": null,
            "max_height": null,
            "max_width": null,
            "min_height": null,
            "min_width": null,
            "object_fit": null,
            "object_position": null,
            "order": null,
            "overflow": null,
            "overflow_x": null,
            "overflow_y": null,
            "padding": null,
            "right": null,
            "top": null,
            "visibility": null,
            "width": null
          }
        },
        "e7d94a17cb044477ab7967521b348b10": {
          "model_module": "@jupyter-widgets/controls",
          "model_name": "DescriptionStyleModel",
          "model_module_version": "1.5.0",
          "state": {
            "_model_module": "@jupyter-widgets/controls",
            "_model_module_version": "1.5.0",
            "_model_name": "DescriptionStyleModel",
            "_view_count": null,
            "_view_module": "@jupyter-widgets/base",
            "_view_module_version": "1.2.0",
            "_view_name": "StyleView",
            "description_width": ""
          }
        }
      }
    }
  },
  "nbformat": 4,
  "nbformat_minor": 5
}